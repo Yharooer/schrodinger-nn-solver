{
 "cells": [
  {
   "cell_type": "code",
   "execution_count": 20,
   "metadata": {},
   "outputs": [],
   "source": [
    "### NUMERICAL SIMULATOR ###\n",
    "import scipy.integrate\n",
    "def numerical_schrodinger(initials, ts, grid_size=100, grid_length=1):\n",
    "    psi0 = initials[0:2, :, :]    \n",
    "    v = initials[2, :, :]\n",
    "    shape = psi0.shape\n",
    "    flattened_shape = np.prod(shape)\n",
    "    \n",
    "    # flatten\n",
    "    psi0 = np.reshape(psi0, flattened_shape)\n",
    "    \n",
    "    # construct laplacian operator and then Hamiltonian\n",
    "    dx = grid_length/grid_size\n",
    "    D2 = -2*np.eye(grid_size)\n",
    "    for i in range(grid_size-1):\n",
    "        D2[i,i+1] = 1 \n",
    "        D2[i+1,i] = 1\n",
    "    \n",
    "    KE = -0.5*D2/(dx**2)\n",
    " \n",
    "    def dpsi_dt(t,y):        \n",
    "        y = np.reshape(y, shape)\n",
    "        psi_real = y[0]\n",
    "        psi_imag = y[1]\n",
    "        dpsi_real = np.expand_dims(-KE@psi_imag - v*psi_imag, 0)\n",
    "        dpsi_imag = np.expand_dims(KE@psi_real + v*psi_real, 0)\n",
    "        return np.reshape(np.concatenate((dpsi_real, dpsi_imag), axis=0), flattened_shape)\n",
    "    \n",
    "    #sol = scipy.integrate.odeint(dpsi_dt, psi0, ts) # CHANGE TO SOLVE_IVP\n",
    "    sol = scipy.integrate.solve_ivp(dpsi_dt, t_span=[0,np.max(ts)], y0=psi0, t_eval=ts, method=\"RK23\")\n",
    "    \n",
    "    print(sol.y.shape)\n",
    "    print(shape+(len(ts),))\n",
    "    \n",
    "    return np.reshape(sol.y, shape+(len(ts),))"
   ]
  },
  {
   "cell_type": "code",
   "execution_count": 25,
   "metadata": {},
   "outputs": [
    {
     "name": "stdout",
     "output_type": "stream",
     "text": [
      "(200, 3)\n",
      "(2, 100, 1, 3)\n"
     ]
    },
    {
     "data": {
      "text/plain": [
       "[<matplotlib.lines.Line2D at 0x7f33f6ea9fa0>]"
      ]
     },
     "execution_count": 25,
     "metadata": {},
     "output_type": "execute_result"
    },
    {
     "data": {
      "image/png": "[encoded data removed]",
      "text/plain": [
       "<Figure size 432x288 with 1 Axes>"
      ]
     },
     "metadata": {
      "needs_background": "light"
     },
     "output_type": "display_data"
    }
   ],
   "source": [
    "import numpy as np\n",
    "import matplotlib.pyplot as plt\n",
    "\n",
    "def psi0(x):\n",
    "    real = np.sin(np.pi*x)\n",
    "    imag = 0*x\n",
    "    return real, imag\n",
    "\n",
    "def v0(x):\n",
    "    return 0*x\n",
    "\n",
    "xs = np.linspace(0,1,100)\n",
    "p0_real, p0_imag = psi0(xs)\n",
    "\n",
    "initials = np.zeros((3, 100, 1))\n",
    "initials[0, :, 0] = p0_real.T\n",
    "initials[1, :, 0] = p0_imag.T\n",
    "initials[2, :, 0] = p0_real.T*0\n",
    "\n",
    "ts = [0,0.1,0.2]\n",
    "\n",
    "num_y = numerical_schrodinger(initials, ts, grid_size=100)\n",
    "\n",
    "num_ys_real = num_y[0,:,0,:]\n",
    "num_ys_imag = num_y[1,:,0,:]\n",
    "\n",
    "plt.figure()\n",
    "plt.plot(xs,num_ys_real[:,2])\n",
    "plt.plot(xs,num_ys_imag[:,2])"
   ]
  },
  {
   "cell_type": "code",
   "execution_count": null,
   "metadata": {},
   "outputs": [],
   "source": []
  },
  {
   "cell_type": "code",
   "execution_count": null,
   "metadata": {},
   "outputs": [],
   "source": []
  }
 ],
 "metadata": {
  "kernelspec": {
   "display_name": "Python 3",
   "language": "python",
   "name": "python3"
  },
  "language_info": {
   "codemirror_mode": {
    "name": "ipython",
    "version": 3
   },
   "file_extension": ".py",
   "mimetype": "text/x-python",
   "name": "python",
   "nbconvert_exporter": "python",
   "pygments_lexer": "ipython3",
   "version": "3.8.10"
  }
 },
 "nbformat": 4,
 "nbformat_minor": 4
}
