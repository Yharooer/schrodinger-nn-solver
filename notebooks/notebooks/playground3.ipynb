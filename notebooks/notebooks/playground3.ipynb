{
 "cells": [
  {
   "cell_type": "code",
   "execution_count": 36,
   "metadata": {},
   "outputs": [],
   "source": [
    "### COMPLEX NUMERICAL SIMULATOR ###\n",
    "import numpy as np\n",
    "import torch\n",
    "import scipy.integrate\n",
    "def numerical_schrodinger_cmplx(psi0, v, ts, length=1, size=100, verbose=False):\n",
    "    xs = np.linspace(0,length,size)\n",
    "    dx = length/size\n",
    "    \n",
    "    # construct laplacian operator and then Hamiltonian\n",
    "    D2 = -2*np.eye(size)\n",
    "    for i in range(size-1):\n",
    "        D2[i,i+1] = 1\n",
    "        D2[i+1,i] = 1\n",
    "    H = -0.5*D2/(dx**2) + np.diag(v(xs))\n",
    "    \n",
    "    y0 = psi0(xs)*(1+0j)\n",
    "    \n",
    "    if verbose:\n",
    "        energy = y0.transpose()@H@y0/(y0.transpose()@y0)\n",
    "        print(f'Energy expectation value is {energy}.')\n",
    "    \n",
    "    sol = scipy.integrate.solve_ivp(lambda t,p: H@p / 1j, t_span=[0,np.max(ts)], y0=y0, t_eval=ts, method=\"RK23\")\n",
    "    return sol.t, sol.y"
   ]
  },
  {
   "cell_type": "code",
   "execution_count": 55,
   "metadata": {},
   "outputs": [],
   "source": [
    "### REAL NUMERICAL SIMULATOR ###\n",
    "import scipy.integrate\n",
    "def numerical_schrodinger_real(psi0, v, ts, length=1, size=100, verbose=False):\n",
    "    xs = np.linspace(0,length,size)\n",
    "    dx = length/size\n",
    "    \n",
    "    # construct laplacian operator and then Hamiltonian\n",
    "    D2 = -2*np.eye(size)\n",
    "    for i in range(size-1):\n",
    "        D2[i,i+1] = 1\n",
    "        D2[i+1,i] = 1\n",
    "    \n",
    "    off_diags = np.array([[0,1],[-1,0]])\n",
    "    \n",
    "    H = np.kron(off_diags, -0.5*D2/(dx**2) + np.diag(v(xs)))\n",
    "    \n",
    "    y0_cmplx = psi0(xs)*(1+0j)\n",
    "    y0_real = np.concatenate((y0_cmplx.real, y0_cmplx.imag))\n",
    "    \n",
    "    #sol = scipy.integrate.solve_ivp(lambda t,p: H@p, t_span=[0,np.max(ts)], y0=y0_real, t_eval=ts, method=\"RK23\")\n",
    "    sol = scipy.integrate.odeint(lambda p,t: H@p, t=ts, y0=y0_real)\n",
    "    \n",
    "    sol_cmplx = sol[:,:size] + 1j*sol[:,size:]\n",
    "    \n",
    "    return ts, sol_cmplx"
   ]
  },
  {
   "cell_type": "code",
   "execution_count": 54,
   "metadata": {},
   "outputs": [
    {
     "name": "stdout",
     "output_type": "stream",
     "text": [
      "(500,)\n",
      "(500, 50)\n",
      "(500,)\n",
      "(500, 50)\n",
      "(500,)\n",
      "(500, 50)\n",
      "(500,)\n",
      "(500, 50)\n",
      "(500,)\n",
      "(500, 50)\n",
      "Complex takes 2440.06416800039 milliseconds.\n",
      "Real takes 1184.8156490013935 milliseconds.\n"
     ]
    }
   ],
   "source": [
    "from timeit import timeit\n",
    "\n",
    "cplx = timeit(lambda: numerical_schrodinger_cmplx(lambda x: np.sin(np.pi*x), lambda x: 0*x, np.linspace(0,10,500), size=25), number=5)\n",
    "real = timeit(lambda: numerical_schrodinger_real(lambda x: np.sin(np.pi*x), lambda x: 0*x, np.linspace(0,10,500), size=25), number=5)\n",
    "\n",
    "print(f'Complex takes {cplx*1000} milliseconds.')\n",
    "print(f'Real takes {real*1000} milliseconds.')"
   ]
  },
  {
   "cell_type": "code",
   "execution_count": null,
   "metadata": {},
   "outputs": [],
   "source": []
  },
  {
   "cell_type": "code",
   "execution_count": null,
   "metadata": {},
   "outputs": [],
   "source": []
  }
 ],
 "metadata": {
  "kernelspec": {
   "display_name": "Python 3",
   "language": "python",
   "name": "python3"
  },
  "language_info": {
   "codemirror_mode": {
    "name": "ipython",
    "version": 3
   },
   "file_extension": ".py",
   "mimetype": "text/x-python",
   "name": "python",
   "nbconvert_exporter": "python",
   "pygments_lexer": "ipython3",
   "version": "3.8.10"
  }
 },
 "nbformat": 4,
 "nbformat_minor": 4
}
