{
 "cells": [
  {
   "cell_type": "code",
   "execution_count": 1,
   "metadata": {},
   "outputs": [
    {
     "name": "stdout",
     "output_type": "stream",
     "text": [
      "CUDA available. Using device \"NVIDIA GeForce GTX 1650 with Max-Q Design\".\n"
     ]
    }
   ],
   "source": [
    "import torch\n",
    "import torch.nn as nn\n",
    "import torch.nn.functional as F\n",
    "import numpy as np\n",
    "\n",
    "device = \"cuda\" if torch.cuda.is_available() else \"cpu\"\n",
    "#device = \"cpu\"\n",
    "\n",
    "if device == \"cuda\":\n",
    "    print(f\"CUDA available. Using device \\\"{torch.cuda.get_device_name()}\\\".\")\n",
    "else:\n",
    "    print(f\"Using CPU device.\")"
   ]
  },
  {
   "cell_type": "code",
   "execution_count": 2,
   "metadata": {},
   "outputs": [],
   "source": [
    "### NUMERICAL SIMULATOR ###\n",
    "import scipy.integrate\n",
    "def numerical_schrodinger(initials, ts, grid_size=100, grid_length=1):\n",
    "\n",
    "    psi0 = initials[0:2, :, :]    \n",
    "    v = initials[2, :, :]\n",
    "    shape = psi0.shape\n",
    "    flattened_shape = np.prod(shape)\n",
    "    \n",
    "    # flatten\n",
    "    psi0 = np.reshape(psi0, flattened_shape)\n",
    "    \n",
    "    # construct laplacian operator and then Hamiltonian\n",
    "    dx = grid_length/grid_size\n",
    "    D2 = -2*np.eye(grid_size)\n",
    "    for i in range(grid_size-1):\n",
    "        D2[i,i+1] = 1 \n",
    "        D2[i+1,i] = 1\n",
    "    \n",
    "    KE = -0.5*D2/(dx**2)\n",
    " \n",
    "    def dpsi_dt(t,y):        \n",
    "        y = np.reshape(y, shape)\n",
    "        psi_real = y[0]\n",
    "        psi_imag = y[1]\n",
    "        dpsi_real = np.expand_dims(-KE@psi_imag - v*psi_imag, 0)\n",
    "        dpsi_imag = np.expand_dims(KE@psi_real + v*psi_real, 0)\n",
    "        return np.reshape(np.concatenate((dpsi_real, dpsi_imag), axis=0), flattened_shape)\n",
    "    \n",
    "    #sol = scipy.integrate.odeint(dpsi_dt, psi0, ts)\n",
    "    sol = scipy.integrate.solve_ivp(dpsi_dt, t_span=[0,np.max(ts)], y0=psi0, t_eval=ts, method=\"RK23\")\n",
    "    \n",
    "    return np.reshape(sol.y, shape+(len(ts),))"
   ]
  },
  {
   "cell_type": "code",
   "execution_count": 3,
   "metadata": {},
   "outputs": [],
   "source": [
    "### TRAINING DATA ###\n",
    "from tqdm import tqdm\n",
    "import scipy.interpolate\n",
    "\n",
    "class SimpleFiniteStepDataset(torch.utils.data.Dataset):\n",
    "    def __init__(self, grid_size=100, grid_length=1, fourier_modes=2, max_time=2.0, ntimes=50, num_initials=500):\n",
    "        self.grid_size = grid_size\n",
    "        self.grid_length = grid_length\n",
    "        self.fourier_modes = fourier_modes\n",
    "        self.max_time = max_time\n",
    "        self.ntimes = ntimes\n",
    "        self.num_data = num_initials*ntimes*grid_size\n",
    "        initials = np.empty((3, grid_size, num_initials))\n",
    "        \n",
    "        xs = np.linspace(0,grid_length,grid_size)\n",
    "        \n",
    "        print('Generating Initials')\n",
    "        for i in range(num_initials):\n",
    "            psi0_real, psi0_imag, v = self._generate_initial()\n",
    "            initials[0, :, i] = psi0_real.T\n",
    "            initials[1, :, i] = psi0_imag.T\n",
    "            initials[2, :, i] = v.T\n",
    "        print('Finished generating initials.')\n",
    "        \n",
    "        ts = np.linspace(0, max_time, ntimes)\n",
    "        integrated = numerical_schrodinger(initials, ts, grid_size, grid_length)\n",
    "        \n",
    "        self.data = []\n",
    "        \n",
    "        print('the end bit is slow. Starting it now.')\n",
    "        for i in range(self.num_data):\n",
    "            a = i%self.ntimes                 # time index\n",
    "            b = int(i/self.ntimes)%grid_size  # space index\n",
    "            c = int(i/self.ntimes/grid_size)  # psi0 index\n",
    "            \n",
    "            x_real = initials[0,:,c]\n",
    "            x_imag = initials[1,:,c]\n",
    "            x_potl = initials[2,:,c]\n",
    "            \n",
    "            x = np.concatenate((np.array([xs[b], ts[a]]), x_real, x_imag, x_potl))\n",
    "            \n",
    "            y_real = integrated[0,b,c,a]\n",
    "            y_imag = integrated[1,b,c,a]\n",
    "            \n",
    "            y = np.array([y_real, y_imag])\n",
    "            \n",
    "            x = torch.tensor(x).float()\n",
    "            y = torch.tensor(y).float()\n",
    "            \n",
    "            self.data.append([x,y])\n",
    "            \n",
    "        print('did the end bit')\n",
    "        \n",
    "    def __len__(self):\n",
    "        return self.num_data\n",
    "    \n",
    "    def __getitem__(self, index):    \n",
    "        return self.data[index]\n",
    "                \n",
    "    def _generate_initial(self):\n",
    "        \n",
    "        # create the initial wave function\n",
    "        fourier_real_coefficients = 2*np.random.rand(self.fourier_modes)-1\n",
    "        fourier_imag_coefficients = 2*np.random.rand(self.fourier_modes)-1\n",
    "        n = np.arange(start=1, stop=self.fourier_modes+1, step=1)\n",
    "\n",
    "        scale_factor = np.sum(fourier_real_coefficients**2) + np.sum(fourier_imag_coefficients**2)\n",
    "        scale_factor = (2/(self.grid_length*scale_factor))**0.5\n",
    "        fourier_real_coefficients *= scale_factor\n",
    "        fourier_imag_coefficients *= scale_factor\n",
    "        \n",
    "        def init_wave_function(x):\n",
    "            x = np.pi*x/self.grid_length\n",
    "            psi_real = np.sin(np.outer(x, n))\n",
    "            psi_real = psi_real*fourier_real_coefficients\n",
    "            psi_real = np.sum(psi_real, axis=-1)\n",
    "            \n",
    "            psi_imag = np.sin(np.outer(x, n))\n",
    "            psi_imag = psi_imag*fourier_imag_coefficients\n",
    "            psi_imag = np.sum(psi_imag, axis=-1)\n",
    "            \n",
    "            return psi_real, psi_imag\n",
    "        \n",
    "        \n",
    "        # TODO: change when we have a better potential\n",
    "        potential_function = lambda x: 0*x\n",
    "        \n",
    "        x = np.linspace(0, self.grid_length, self.grid_size)\n",
    "        psi_real, psi_imag = init_wave_function(x)\n",
    "        v = potential_function(x)\n",
    "        \n",
    "        return psi_real, psi_imag, v\n",
    "        \n",
    "    "
   ]
  },
  {
   "cell_type": "code",
   "execution_count": 4,
   "metadata": {},
   "outputs": [
    {
     "name": "stdout",
     "output_type": "stream",
     "text": [
      "Generating data...\n",
      "Generating Initials\n",
      "Finished generating initials.\n",
      "the end bit is slow. Starting it now.\n",
      "did the end bit\n",
      "Training data generated after 35.76319729100214 seconds!\n"
     ]
    }
   ],
   "source": [
    "# Generate training data\n",
    "import time\n",
    "\n",
    "print('Generating data...')\n",
    "start = time.perf_counter()\n",
    "data = SimpleFiniteStepDataset(grid_size=100, fourier_modes=2, max_time=0.5, ntimes=50, num_initials=200)\n",
    "end = time.perf_counter()\n",
    "print(f'Training data generated after {end-start} seconds!')"
   ]
  },
  {
   "cell_type": "code",
   "execution_count": 5,
   "metadata": {},
   "outputs": [],
   "source": [
    "### MODEL DEFN ###\n",
    "class SimpleFiniteStepSolver(nn.Module):\n",
    "    def __init__(self, grid_size=100, hidden_dim=20):\n",
    "        super(SimpleFiniteStepSolver, self).__init__()\n",
    "        \n",
    "        self.grid_size = grid_size\n",
    "\n",
    "        self.mlp = nn.Sequential(\n",
    "            nn.Linear(3*grid_size+2, hidden_dim),\n",
    "            nn.ReLU(inplace=True),\n",
    "            nn.Linear(hidden_dim, hidden_dim),\n",
    "            nn.ReLU(inplace=True),\n",
    "            nn.Linear(hidden_dim, 2)\n",
    "        )\n",
    "\n",
    "    def forward(self, x):\n",
    "        return self.mlp(x)"
   ]
  },
  {
   "cell_type": "code",
   "execution_count": 8,
   "metadata": {
    "scrolled": false
   },
   "outputs": [
    {
     "name": "stderr",
     "output_type": "stream",
     "text": [
      "100%|██████████| 1000/1000 [00:21<00:00, 47.02it/s]\n"
     ]
    },
    {
     "name": "stdout",
     "output_type": "stream",
     "text": [
      "Epoch 1 Loss : 2.057e-01\n"
     ]
    },
    {
     "name": "stderr",
     "output_type": "stream",
     "text": [
      "100%|██████████| 1000/1000 [00:19<00:00, 52.47it/s]\n"
     ]
    },
    {
     "name": "stdout",
     "output_type": "stream",
     "text": [
      "Epoch 2 Loss : 1.917e-02\n"
     ]
    },
    {
     "name": "stderr",
     "output_type": "stream",
     "text": [
      "100%|██████████| 1000/1000 [00:19<00:00, 52.43it/s]\n"
     ]
    },
    {
     "name": "stdout",
     "output_type": "stream",
     "text": [
      "Epoch 3 Loss : 9.099e-03\n"
     ]
    },
    {
     "name": "stderr",
     "output_type": "stream",
     "text": [
      "100%|██████████| 1000/1000 [00:18<00:00, 54.88it/s]\n"
     ]
    },
    {
     "name": "stdout",
     "output_type": "stream",
     "text": [
      "Epoch 4 Loss : 6.905e-03\n"
     ]
    },
    {
     "name": "stderr",
     "output_type": "stream",
     "text": [
      "100%|██████████| 1000/1000 [00:17<00:00, 57.89it/s]\n"
     ]
    },
    {
     "name": "stdout",
     "output_type": "stream",
     "text": [
      "Epoch 5 Loss : 5.852e-03\n"
     ]
    },
    {
     "name": "stderr",
     "output_type": "stream",
     "text": [
      "100%|██████████| 1000/1000 [00:19<00:00, 52.48it/s]\n"
     ]
    },
    {
     "name": "stdout",
     "output_type": "stream",
     "text": [
      "Epoch 6 Loss : 5.399e-03\n"
     ]
    },
    {
     "name": "stderr",
     "output_type": "stream",
     "text": [
      "100%|██████████| 1000/1000 [00:17<00:00, 57.72it/s]\n"
     ]
    },
    {
     "name": "stdout",
     "output_type": "stream",
     "text": [
      "Epoch 7 Loss : 4.930e-03\n"
     ]
    },
    {
     "name": "stderr",
     "output_type": "stream",
     "text": [
      "100%|██████████| 1000/1000 [00:18<00:00, 53.65it/s]\n"
     ]
    },
    {
     "name": "stdout",
     "output_type": "stream",
     "text": [
      "Epoch 8 Loss : 4.451e-03\n"
     ]
    },
    {
     "name": "stderr",
     "output_type": "stream",
     "text": [
      "100%|██████████| 1000/1000 [00:17<00:00, 57.88it/s]\n"
     ]
    },
    {
     "name": "stdout",
     "output_type": "stream",
     "text": [
      "Epoch 9 Loss : 4.235e-03\n"
     ]
    },
    {
     "name": "stderr",
     "output_type": "stream",
     "text": [
      "100%|██████████| 1000/1000 [00:17<00:00, 57.32it/s]\n"
     ]
    },
    {
     "name": "stdout",
     "output_type": "stream",
     "text": [
      "Epoch 10 Loss : 4.054e-03\n"
     ]
    },
    {
     "name": "stderr",
     "output_type": "stream",
     "text": [
      "100%|██████████| 1000/1000 [00:18<00:00, 53.45it/s]\n"
     ]
    },
    {
     "name": "stdout",
     "output_type": "stream",
     "text": [
      "Epoch 11 Loss : 3.840e-03\n"
     ]
    },
    {
     "name": "stderr",
     "output_type": "stream",
     "text": [
      "100%|██████████| 1000/1000 [00:17<00:00, 58.77it/s]\n"
     ]
    },
    {
     "name": "stdout",
     "output_type": "stream",
     "text": [
      "Epoch 12 Loss : 3.488e-03\n"
     ]
    },
    {
     "name": "stderr",
     "output_type": "stream",
     "text": [
      "100%|██████████| 1000/1000 [00:16<00:00, 61.32it/s]\n"
     ]
    },
    {
     "name": "stdout",
     "output_type": "stream",
     "text": [
      "Epoch 13 Loss : 3.671e-03\n"
     ]
    },
    {
     "name": "stderr",
     "output_type": "stream",
     "text": [
      "100%|██████████| 1000/1000 [00:17<00:00, 55.66it/s]\n"
     ]
    },
    {
     "name": "stdout",
     "output_type": "stream",
     "text": [
      "Epoch 14 Loss : 3.316e-03\n"
     ]
    },
    {
     "name": "stderr",
     "output_type": "stream",
     "text": [
      "100%|██████████| 1000/1000 [00:20<00:00, 49.85it/s]\n"
     ]
    },
    {
     "name": "stdout",
     "output_type": "stream",
     "text": [
      "Epoch 15 Loss : 3.216e-03\n"
     ]
    },
    {
     "name": "stderr",
     "output_type": "stream",
     "text": [
      "100%|██████████| 1000/1000 [00:16<00:00, 59.21it/s]\n"
     ]
    },
    {
     "name": "stdout",
     "output_type": "stream",
     "text": [
      "Epoch 16 Loss : 3.134e-03\n"
     ]
    },
    {
     "name": "stderr",
     "output_type": "stream",
     "text": [
      "100%|██████████| 1000/1000 [00:17<00:00, 56.66it/s]\n"
     ]
    },
    {
     "name": "stdout",
     "output_type": "stream",
     "text": [
      "Epoch 17 Loss : 2.968e-03\n"
     ]
    },
    {
     "name": "stderr",
     "output_type": "stream",
     "text": [
      "100%|██████████| 1000/1000 [00:16<00:00, 59.42it/s]\n"
     ]
    },
    {
     "name": "stdout",
     "output_type": "stream",
     "text": [
      "Epoch 18 Loss : 2.905e-03\n"
     ]
    },
    {
     "name": "stderr",
     "output_type": "stream",
     "text": [
      "100%|██████████| 1000/1000 [00:21<00:00, 47.60it/s]\n"
     ]
    },
    {
     "name": "stdout",
     "output_type": "stream",
     "text": [
      "Epoch 19 Loss : 2.855e-03\n"
     ]
    },
    {
     "name": "stderr",
     "output_type": "stream",
     "text": [
      "100%|██████████| 1000/1000 [00:23<00:00, 42.54it/s]\n"
     ]
    },
    {
     "name": "stdout",
     "output_type": "stream",
     "text": [
      "Epoch 20 Loss : 2.768e-03\n"
     ]
    },
    {
     "name": "stderr",
     "output_type": "stream",
     "text": [
      "100%|██████████| 1000/1000 [00:18<00:00, 54.89it/s]\n"
     ]
    },
    {
     "name": "stdout",
     "output_type": "stream",
     "text": [
      "Epoch 21 Loss : 2.702e-03\n"
     ]
    },
    {
     "name": "stderr",
     "output_type": "stream",
     "text": [
      "100%|██████████| 1000/1000 [00:18<00:00, 55.45it/s]\n"
     ]
    },
    {
     "name": "stdout",
     "output_type": "stream",
     "text": [
      "Epoch 22 Loss : 2.683e-03\n"
     ]
    },
    {
     "name": "stderr",
     "output_type": "stream",
     "text": [
      "100%|██████████| 1000/1000 [00:17<00:00, 57.23it/s]\n"
     ]
    },
    {
     "name": "stdout",
     "output_type": "stream",
     "text": [
      "Epoch 23 Loss : 2.652e-03\n"
     ]
    },
    {
     "name": "stderr",
     "output_type": "stream",
     "text": [
      " 70%|███████   | 703/1000 [00:13<00:05, 53.14it/s]\n"
     ]
    },
    {
     "ename": "KeyboardInterrupt",
     "evalue": "",
     "output_type": "error",
     "traceback": [
      "\u001b[0;31m---------------------------------------------------------------------------\u001b[0m",
      "\u001b[0;31mKeyboardInterrupt\u001b[0m                         Traceback (most recent call last)",
      "\u001b[0;32m<ipython-input-8-18c1f60fc486>\u001b[0m in \u001b[0;36m<module>\u001b[0;34m\u001b[0m\n\u001b[1;32m     90\u001b[0m         \u001b[0moutput\u001b[0m \u001b[0;34m=\u001b[0m \u001b[0mmodel\u001b[0m\u001b[0;34m(\u001b[0m\u001b[0mx\u001b[0m\u001b[0;34m)\u001b[0m\u001b[0;34m\u001b[0m\u001b[0;34m\u001b[0m\u001b[0m\n\u001b[1;32m     91\u001b[0m         \u001b[0;31m#loss = F.mse_loss(output,y)\u001b[0m\u001b[0;34m\u001b[0m\u001b[0;34m\u001b[0m\u001b[0;34m\u001b[0m\u001b[0m\n\u001b[0;32m---> 92\u001b[0;31m         \u001b[0mloss\u001b[0m \u001b[0;34m=\u001b[0m \u001b[0mcustom_loss\u001b[0m\u001b[0;34m(\u001b[0m\u001b[0moutput\u001b[0m\u001b[0;34m,\u001b[0m\u001b[0mx\u001b[0m\u001b[0;34m,\u001b[0m\u001b[0my\u001b[0m\u001b[0;34m)\u001b[0m\u001b[0;34m\u001b[0m\u001b[0;34m\u001b[0m\u001b[0m\n\u001b[0m\u001b[1;32m     93\u001b[0m \u001b[0;34m\u001b[0m\u001b[0m\n\u001b[1;32m     94\u001b[0m         \u001b[0mloss\u001b[0m\u001b[0;34m.\u001b[0m\u001b[0mbackward\u001b[0m\u001b[0;34m(\u001b[0m\u001b[0;34m)\u001b[0m\u001b[0;34m\u001b[0m\u001b[0;34m\u001b[0m\u001b[0m\n",
      "\u001b[0;32m<ipython-input-8-18c1f60fc486>\u001b[0m in \u001b[0;36mcustom_loss\u001b[0;34m(output, in_put, target)\u001b[0m\n\u001b[1;32m     75\u001b[0m     \u001b[0mmse\u001b[0m \u001b[0;34m=\u001b[0m  \u001b[0mF\u001b[0m\u001b[0;34m.\u001b[0m\u001b[0mmse_loss\u001b[0m\u001b[0;34m(\u001b[0m\u001b[0moutput\u001b[0m\u001b[0;34m,\u001b[0m\u001b[0my\u001b[0m\u001b[0;34m)\u001b[0m\u001b[0;34m\u001b[0m\u001b[0;34m\u001b[0m\u001b[0m\n\u001b[1;32m     76\u001b[0m     \u001b[0;31m#n_factor = norm_factor(output)\u001b[0m\u001b[0;34m\u001b[0m\u001b[0;34m\u001b[0m\u001b[0;34m\u001b[0m\u001b[0m\n\u001b[0;32m---> 77\u001b[0;31m     \u001b[0mschrod_loss\u001b[0m \u001b[0;34m=\u001b[0m \u001b[0mschrodinger_loss\u001b[0m\u001b[0;34m(\u001b[0m\u001b[0moutput\u001b[0m\u001b[0;34m,\u001b[0m \u001b[0min_put\u001b[0m\u001b[0;34m)\u001b[0m\u001b[0;34m\u001b[0m\u001b[0;34m\u001b[0m\u001b[0m\n\u001b[0m\u001b[1;32m     78\u001b[0m \u001b[0;34m\u001b[0m\u001b[0m\n\u001b[1;32m     79\u001b[0m     \u001b[0;32mreturn\u001b[0m \u001b[0mmse\u001b[0m \u001b[0;34m+\u001b[0m \u001b[0mschrod_hyperparam\u001b[0m\u001b[0;34m*\u001b[0m\u001b[0mschrod_loss\u001b[0m\u001b[0;34m\u001b[0m\u001b[0;34m\u001b[0m\u001b[0m\n",
      "\u001b[0;32m<ipython-input-8-18c1f60fc486>\u001b[0m in \u001b[0;36mschrodinger_loss\u001b[0;34m(output, in_put)\u001b[0m\n\u001b[1;32m     33\u001b[0m \u001b[0;34m\u001b[0m\u001b[0m\n\u001b[1;32m     34\u001b[0m     \u001b[0mpsi_dx\u001b[0m \u001b[0;34m=\u001b[0m \u001b[0;32mlambda\u001b[0m \u001b[0minp\u001b[0m\u001b[0;34m:\u001b[0m \u001b[0mtorch\u001b[0m\u001b[0;34m.\u001b[0m\u001b[0mautograd\u001b[0m\u001b[0;34m.\u001b[0m\u001b[0mfunctional\u001b[0m\u001b[0;34m.\u001b[0m\u001b[0mjvp\u001b[0m\u001b[0;34m(\u001b[0m\u001b[0mmodel\u001b[0m\u001b[0;34m,\u001b[0m \u001b[0minp\u001b[0m\u001b[0;34m,\u001b[0m \u001b[0mv\u001b[0m\u001b[0;34m=\u001b[0m\u001b[0me_x\u001b[0m\u001b[0;34m,\u001b[0m \u001b[0mcreate_graph\u001b[0m\u001b[0;34m=\u001b[0m\u001b[0;32mTrue\u001b[0m\u001b[0;34m)\u001b[0m\u001b[0;34m[\u001b[0m\u001b[0;36m1\u001b[0m\u001b[0;34m]\u001b[0m\u001b[0;34m\u001b[0m\u001b[0;34m\u001b[0m\u001b[0m\n\u001b[0;32m---> 35\u001b[0;31m     \u001b[0mpsi_d2x\u001b[0m \u001b[0;34m=\u001b[0m \u001b[0mtorch\u001b[0m\u001b[0;34m.\u001b[0m\u001b[0mautograd\u001b[0m\u001b[0;34m.\u001b[0m\u001b[0mfunctional\u001b[0m\u001b[0;34m.\u001b[0m\u001b[0mjvp\u001b[0m\u001b[0;34m(\u001b[0m\u001b[0mpsi_dx\u001b[0m\u001b[0;34m,\u001b[0m \u001b[0min_put\u001b[0m\u001b[0;34m,\u001b[0m \u001b[0mv\u001b[0m\u001b[0;34m=\u001b[0m\u001b[0me_x\u001b[0m\u001b[0;34m,\u001b[0m \u001b[0mcreate_graph\u001b[0m\u001b[0;34m=\u001b[0m\u001b[0;32mTrue\u001b[0m\u001b[0;34m)\u001b[0m\u001b[0;34m[\u001b[0m\u001b[0;36m1\u001b[0m\u001b[0;34m]\u001b[0m\u001b[0;34m\u001b[0m\u001b[0;34m\u001b[0m\u001b[0m\n\u001b[0m\u001b[1;32m     36\u001b[0m \u001b[0;34m\u001b[0m\u001b[0m\n\u001b[1;32m     37\u001b[0m     \u001b[0mpsi_d2x_real\u001b[0m \u001b[0;34m=\u001b[0m \u001b[0mpsi_d2x\u001b[0m\u001b[0;34m[\u001b[0m\u001b[0;34m:\u001b[0m\u001b[0;34m,\u001b[0m\u001b[0;36m0\u001b[0m\u001b[0;34m]\u001b[0m\u001b[0;34m\u001b[0m\u001b[0;34m\u001b[0m\u001b[0m\n",
      "\u001b[0;32m/usr/local/lib/python3.8/dist-packages/torch/autograd/functional.py\u001b[0m in \u001b[0;36mjvp\u001b[0;34m(func, inputs, v, create_graph, strict)\u001b[0m\n\u001b[1;32m    361\u001b[0m         \u001b[0mgrad_outputs\u001b[0m \u001b[0;34m=\u001b[0m \u001b[0mtuple\u001b[0m\u001b[0;34m(\u001b[0m\u001b[0mtorch\u001b[0m\u001b[0;34m.\u001b[0m\u001b[0mzeros_like\u001b[0m\u001b[0;34m(\u001b[0m\u001b[0mout\u001b[0m\u001b[0;34m,\u001b[0m \u001b[0mrequires_grad\u001b[0m\u001b[0;34m=\u001b[0m\u001b[0;32mTrue\u001b[0m\u001b[0;34m)\u001b[0m \u001b[0;32mfor\u001b[0m \u001b[0mout\u001b[0m \u001b[0;32min\u001b[0m \u001b[0moutputs\u001b[0m\u001b[0;34m)\u001b[0m\u001b[0;34m\u001b[0m\u001b[0;34m\u001b[0m\u001b[0m\n\u001b[1;32m    362\u001b[0m \u001b[0;34m\u001b[0m\u001b[0m\n\u001b[0;32m--> 363\u001b[0;31m         \u001b[0mgrad_inputs\u001b[0m \u001b[0;34m=\u001b[0m \u001b[0m_autograd_grad\u001b[0m\u001b[0;34m(\u001b[0m\u001b[0moutputs\u001b[0m\u001b[0;34m,\u001b[0m \u001b[0minputs\u001b[0m\u001b[0;34m,\u001b[0m \u001b[0mgrad_outputs\u001b[0m\u001b[0;34m,\u001b[0m \u001b[0mcreate_graph\u001b[0m\u001b[0;34m=\u001b[0m\u001b[0;32mTrue\u001b[0m\u001b[0;34m)\u001b[0m\u001b[0;34m\u001b[0m\u001b[0;34m\u001b[0m\u001b[0m\n\u001b[0m\u001b[1;32m    364\u001b[0m         \u001b[0m_check_requires_grad\u001b[0m\u001b[0;34m(\u001b[0m\u001b[0mgrad_inputs\u001b[0m\u001b[0;34m,\u001b[0m \u001b[0;34m\"grad_inputs\"\u001b[0m\u001b[0;34m,\u001b[0m \u001b[0mstrict\u001b[0m\u001b[0;34m=\u001b[0m\u001b[0mstrict\u001b[0m\u001b[0;34m)\u001b[0m\u001b[0;34m\u001b[0m\u001b[0;34m\u001b[0m\u001b[0m\n\u001b[1;32m    365\u001b[0m \u001b[0;34m\u001b[0m\u001b[0m\n",
      "\u001b[0;32m/usr/local/lib/python3.8/dist-packages/torch/autograd/functional.py\u001b[0m in \u001b[0;36m_autograd_grad\u001b[0;34m(outputs, inputs, grad_outputs, create_graph, retain_graph)\u001b[0m\n\u001b[1;32m    145\u001b[0m         \u001b[0;32mreturn\u001b[0m \u001b[0;34m(\u001b[0m\u001b[0;32mNone\u001b[0m\u001b[0;34m,\u001b[0m\u001b[0;34m)\u001b[0m \u001b[0;34m*\u001b[0m \u001b[0mlen\u001b[0m\u001b[0;34m(\u001b[0m\u001b[0minputs\u001b[0m\u001b[0;34m)\u001b[0m\u001b[0;34m\u001b[0m\u001b[0;34m\u001b[0m\u001b[0m\n\u001b[1;32m    146\u001b[0m     \u001b[0;32melse\u001b[0m\u001b[0;34m:\u001b[0m\u001b[0;34m\u001b[0m\u001b[0;34m\u001b[0m\u001b[0m\n\u001b[0;32m--> 147\u001b[0;31m         return torch.autograd.grad(new_outputs, inputs, new_grad_outputs, allow_unused=True,\n\u001b[0m\u001b[1;32m    148\u001b[0m                                    create_graph=create_graph, retain_graph=retain_graph)\n\u001b[1;32m    149\u001b[0m \u001b[0;34m\u001b[0m\u001b[0m\n",
      "\u001b[0;32m/usr/local/lib/python3.8/dist-packages/torch/autograd/__init__.py\u001b[0m in \u001b[0;36mgrad\u001b[0;34m(outputs, inputs, grad_outputs, retain_graph, create_graph, only_inputs, allow_unused)\u001b[0m\n\u001b[1;32m    232\u001b[0m         \u001b[0mretain_graph\u001b[0m \u001b[0;34m=\u001b[0m \u001b[0mcreate_graph\u001b[0m\u001b[0;34m\u001b[0m\u001b[0;34m\u001b[0m\u001b[0m\n\u001b[1;32m    233\u001b[0m \u001b[0;34m\u001b[0m\u001b[0m\n\u001b[0;32m--> 234\u001b[0;31m     return Variable._execution_engine.run_backward(\n\u001b[0m\u001b[1;32m    235\u001b[0m         \u001b[0moutputs\u001b[0m\u001b[0;34m,\u001b[0m \u001b[0mgrad_outputs_\u001b[0m\u001b[0;34m,\u001b[0m \u001b[0mretain_graph\u001b[0m\u001b[0;34m,\u001b[0m \u001b[0mcreate_graph\u001b[0m\u001b[0;34m,\u001b[0m\u001b[0;34m\u001b[0m\u001b[0;34m\u001b[0m\u001b[0m\n\u001b[1;32m    236\u001b[0m         inputs, allow_unused, accumulate_grad=False)\n",
      "\u001b[0;31mKeyboardInterrupt\u001b[0m: "
     ]
    }
   ],
   "source": [
    "# Try to train\n",
    "from tqdm import tqdm\n",
    "import matplotlib.pyplot as plt # DEBUG TMP\n",
    "\n",
    "nepochs = 100\n",
    "model = SimpleFiniteStepSolver(grid_size=100, hidden_dim=300).to(device)\n",
    "\n",
    "train_data_loader = torch.utils.data.DataLoader(data, batch_size=1000, shuffle=True)\n",
    "\n",
    "optm = torch.optim.Adam(model.parameters(), lr = 0.001)\n",
    "\n",
    "mse_hyperparam = 1\n",
    "norm_hyperparam = 0\n",
    "schrod_hyperparam = 0\n",
    "\n",
    "# def norm_factor(output):\n",
    "#     norm = torch.sum(output**2)* data.grid_length / (np.prod(output.shape) / 2)\n",
    "#     norm_factor = (norm-1)**2\n",
    "#     return norm_factor\n",
    "\n",
    "grid_size = model.grid_size\n",
    "def schrodinger_loss(output, in_put):\n",
    "    batch_size = output.shape[0]\n",
    "    \n",
    "    psi_real = output[:,0]\n",
    "    psi_imag = output[:,1]\n",
    "    \n",
    "    # Calculate Laplacian    \n",
    "    e_x = torch.zeros((batch_size,302)).to(device)\n",
    "    e_x[:,0] = 1\n",
    "  \n",
    "    # uh oh\n",
    "\n",
    "    psi_dx = lambda inp: torch.autograd.functional.jvp(model, inp, v=e_x, create_graph=True)[1]\n",
    "    psi_d2x = torch.autograd.functional.jvp(psi_dx, in_put, v=e_x, create_graph=True)[1]\n",
    "    \n",
    "    psi_d2x_real = psi_d2x[:,0]\n",
    "    psi_d2x_imag = psi_d2x[:,1]\n",
    "    \n",
    "    # Calculate time derivative\n",
    "    t = torch.zeros((batch_size,302)).to(device)\n",
    "    t[:,1] = 1\n",
    "    \n",
    "#     psi_dt_real = torch.autograd.grad(psi_real, t, create_graph=True)\n",
    "#     psi_dt_imag = torch.autograd.grad(psi_imag, t, create_graph=True)\n",
    "    \n",
    "    psi_dt = torch.autograd.functional.jvp(model, in_put, v=t, create_graph=True)[1]\n",
    "    psi_dt_real = psi_dt[:,0]\n",
    "    psi_dt_imag = psi_dt[:,1]\n",
    "    \n",
    "    # Calculate potential energy\n",
    "    V_grid = in_put[:,2*grid_size+1:]\n",
    "    pos = (in_put[:,0]*(grid_size-1)).type(torch.IntTensor).to(device)\n",
    "    #V = np.choose(pos, V_grid.T)\n",
    "    V = torch.index_select(V_grid,1,pos)\n",
    "    \n",
    "    V_real = V * psi_real\n",
    "    V_imag = V * psi_imag\n",
    "    \n",
    "    # DEBUG\n",
    "#     plt.figure()\n",
    "#     xs = np.linspace(0,1,grid_size)\n",
    "#     plt.plot(xs,psi_dt_real.detach().cpu().numpy()[0,:])\n",
    "#     plt.plot(xs, (-0.5*d2_psi_imag + V_imag).detach().cpu().numpy()[0,:])\n",
    "#     plt.show()\n",
    "    \n",
    "    # Calculate loss\n",
    "    diff_1 = psi_dt_real + 0.5*psi_d2x_real - V_imag\n",
    "    diff_2 = psi_dt_imag - 0.5*psi_d2x_imag + V_real\n",
    "    \n",
    "    return torch.sum(diff_1**2 + diff_2**2)\n",
    "\n",
    "\n",
    "def custom_loss(output, in_put, target):\n",
    "    mse =  F.mse_loss(output,y)\n",
    "    #n_factor = norm_factor(output)\n",
    "    schrod_loss = schrodinger_loss(output, in_put)\n",
    "    \n",
    "    return mse + schrod_hyperparam*schrod_loss\n",
    "    \n",
    "\n",
    "for epoch in range(nepochs):\n",
    "    epoch_loss = 0\n",
    "    \n",
    "    for x,y in tqdm(train_data_loader):\n",
    "        x = x.to(device)\n",
    "        y = y.to(device)\n",
    "        \n",
    "        optm.zero_grad()\n",
    "        output = model(x)\n",
    "        #loss = F.mse_loss(output,y)        \n",
    "        loss = custom_loss(output,x,y)\n",
    "        \n",
    "        loss.backward()\n",
    "        optm.step()\n",
    "        \n",
    "        epoch_loss+=loss/len(train_data_loader)\n",
    "        \n",
    "    print('Epoch {} Loss : {:.3e}'.format((epoch+1),epoch_loss))"
   ]
  },
  {
   "cell_type": "code",
   "execution_count": null,
   "metadata": {},
   "outputs": [],
   "source": [
    "dt = 0.01\n",
    "T = 0.5\n",
    "ts = np.arange(0,T,dt)\n",
    "\n",
    "grid_length = 1\n",
    "grid_size = model.grid_size\n",
    "\n",
    "import matplotlib.pyplot as plt\n",
    "from matplotlib import animation\n",
    "from IPython.display import HTML\n",
    "\n",
    "def solve_single_numerically(psi0, v, ts, grid_size=grid_size, grid_length=grid_length):\n",
    "    xs_num = np.linspace(0,grid_length,grid_size)\n",
    "    p0_real, p0_imag = psi0(xs_num)\n",
    "    vs = v(xs_num)\n",
    "    \n",
    "    initials = np.zeros((3, grid_size, 1))\n",
    "    initials[0, :, 0] = p0_real.T\n",
    "    initials[1, :, 0] = p0_imag.T\n",
    "    initials[2, :, 0] = vs.T\n",
    "    \n",
    "    num_y = numerical_schrodinger(initials, ts, grid_size=grid_size)\n",
    "    \n",
    "    num_ys_real = num_y[0,:,0,:]\n",
    "    num_ys_imag = num_y[1,:,0,:]\n",
    "    \n",
    "    return num_ys_real.T, num_ys_imag.T\n",
    "\n",
    "\n",
    "def solve_single_nn(psi0, v, ts, grid_size=grid_size, grid_length=grid_length):\n",
    "    xs = torch.linspace(0, grid_length, grid_size).float()\n",
    "    ts = torch.tensor(ts).float()\n",
    "    p0_real, p0_imag = psi0(xs)\n",
    "    vs = v(xs)\n",
    "    \n",
    "    if not torch.is_tensor(ts):\n",
    "        ts = torch.tensor(ts)\n",
    "        \n",
    "    xts = torch.cartesian_prod(xs,ts)\n",
    "#     xs_meshed = xts[:,0]\n",
    "#     ts_meshed = xts[:,1]\n",
    "    \n",
    "    nn_in = torch.zeros((len(xts), 3*grid_size + 2))\n",
    "    nn_in[:,0:2] = xts\n",
    "    nn_in[:,2:] = torch.cat((p0_real, p0_imag, vs))\n",
    "    nn_in = nn_in.to(device)\n",
    "    \n",
    "    nn_out = model(nn_in).cpu().detach().numpy()\n",
    "    \n",
    "    out_real = np.reshape(nn_out[:,0], (grid_size, len(ts))).T\n",
    "    out_imag = np.reshape(nn_out[:,1], (grid_size, len(ts))).T \n",
    "    \n",
    "    return out_real, out_imag\n",
    "    \n",
    "\n",
    "def test_model(psi0, v, plot_phase=False):\n",
    "    # Solve numerically\n",
    "    print('Solving numerically...')\n",
    "    num_ys_real,num_ys_imag = solve_single_numerically(psi0, v, ts, grid_size, grid_length)\n",
    "    print('Finished solving numerically.')\n",
    "   \n",
    "    # Solve using our method\n",
    "    print('Solving nn...')\n",
    "    nn_ys_real, nn_ys_imag = solve_single_nn(psi0, v, ts, grid_size, grid_length)\n",
    "    print('Finished solving nn.')\n",
    "    \n",
    "    xs = np.linspace(0, grid_length, grid_size)\n",
    "    \n",
    "    # Normalisation vs time\n",
    "    fig = plt.figure(figsize=(5,5))\n",
    "    plt.plot(ts, np.sum(nn_ys_real**2 + nn_ys_imag**2, axis=1)*grid_length / grid_size)\n",
    "    fig.suptitle('Normalisation')\n",
    "    plt.xlabel('Time')\n",
    "    plt.ylabel('∫|Ψ|² dx')\n",
    "    \n",
    "    # Plot animations\n",
    "    fig = plt.figure(figsize=(12,8))\n",
    "    \n",
    "    plt.rcParams[\"animation.html\"] = \"html5\"\n",
    "    plt.rcParams[\"figure.dpi\"] = 75\n",
    "    \n",
    "    # Helper for setting up subplot limits and labels\n",
    "    def setup_subplot(subplot, prop):\n",
    "        prop = prop.upper()\n",
    "        if not prop in [\"REAL\", \"IMAG\", \"ABS\", \"PHASE\"]:\n",
    "            raise ValueError(f'Bad property \\'{prop}\\'.')\n",
    "        subplot.set_xlim(0,grid_length)\n",
    "        if prop in [\"REAL\", \"IMAG\"]:\n",
    "            subplot.set_ylim(-2,2)\n",
    "            subplot.set_ylabel(\"Real\" if prop == \"REAL\" else \"Imaginary\")\n",
    "        if prop == \"ABS\":\n",
    "            subplot.set_ylim(0,2)\n",
    "            subplot.set_ylabel(\"Magnitude\")\n",
    "        if prop == \"PHASE\":\n",
    "            subplot.set_ylim(-np.pi,np.pi)\n",
    "            subplot.set_ylabel(\"Phase\")\n",
    "            subplot.set_yticks(np.arange(-np.pi,np.pi,np.pi/4))\n",
    "        \n",
    "        line, = subplot.plot([],[], lw=2)\n",
    "        return line\n",
    "    \n",
    "    # Types of each subplot\n",
    "    props = [None]*4\n",
    "    if plot_phase:\n",
    "        props = [\"ABS\", \"ABS\", \"PHASE\", \"PHASE\"]\n",
    "    else:\n",
    "        props = [\"REAL\", \"REAL\", \"IMAG\", \"IMAG\"]\n",
    "       \n",
    "    subplots = [None]*4\n",
    "    lines = [None]*4\n",
    "    for i in range(4):\n",
    "        subplots[i] = plt.subplot(2,2,i+1)\n",
    "        lines[i] = setup_subplot(subplots[i], props[i])\n",
    "        \n",
    "    subplots[0].title.set_text('NN model')\n",
    "    subplots[1].title.set_text('Numerical model')\n",
    "    \n",
    "    def animate(i):\n",
    "        if plot_phase:\n",
    "            lines[0].set_data(xs, np.sqrt(nn_ys_real[i,:]**2 + nn_ys_imag[i,:]**2))\n",
    "            lines[2].set_data(xs, np.arctan2(nn_ys_real[i,:], nn_ys_imag[i,:]))\n",
    "        \n",
    "            lines[1].set_data(xs, np.sqrt(num_ys_real[i,:]**2 + num_ys_imag[i,:]**2))\n",
    "            lines[3].set_data(xs, np.arctan2(num_ys_real[i,:], num_ys_imag[i,:]))\n",
    "\n",
    "        else:\n",
    "            lines[0].set_data(xs, nn_ys_real[i,:])\n",
    "            lines[2].set_data(xs, nn_ys_imag[i,:])\n",
    "            \n",
    "            lines[1].set_data(xs, num_ys_real[i,:])\n",
    "            lines[3].set_data(xs, num_ys_imag[i,:])\n",
    "\n",
    "        return lines\n",
    "    \n",
    "    anim = animation.FuncAnimation(fig, animate, frames=len(ts), interval=50, blit=True)\n",
    "    HTML(anim.to_html5_video())\n",
    "    return anim"
   ]
  },
  {
   "cell_type": "code",
   "execution_count": null,
   "metadata": {},
   "outputs": [],
   "source": [
    "# Particle in a Box Ground State - Real+Imag\n",
    "\n",
    "def psi0(x):\n",
    "    real = np.sqrt(2)*np.sin(np.pi*x)\n",
    "    imag = 0*x\n",
    "    return real, imag\n",
    "\n",
    "def v0(x):\n",
    "    return 0*x\n",
    "\n",
    "test_model(psi0, v0, plot_phase=False)"
   ]
  },
  {
   "cell_type": "code",
   "execution_count": null,
   "metadata": {},
   "outputs": [],
   "source": [
    "# Particle in a Box Ground State - Amplitude+Phase\n",
    "\n",
    "def psi0(x):\n",
    "    real = np.sqrt(2)*np.sin(np.pi*x)\n",
    "    imag = 0*x\n",
    "    return real, imag\n",
    "\n",
    "def v0(x):\n",
    "    return 0*x\n",
    "\n",
    "test_model(psi0, v0, plot_phase=True)"
   ]
  },
  {
   "cell_type": "code",
   "execution_count": null,
   "metadata": {},
   "outputs": [],
   "source": [
    "# Particle in a Box - First Excited State\n",
    "\n",
    "def psi0(x):\n",
    "    real = np.sqrt(2)*np.sin(2*np.pi*x)\n",
    "    imag = 0*x\n",
    "    return real, imag\n",
    "\n",
    "def v0(x):\n",
    "    return 0*x\n",
    "\n",
    "test_model(psi0, v0, plot_phase=False)"
   ]
  },
  {
   "cell_type": "code",
   "execution_count": null,
   "metadata": {},
   "outputs": [],
   "source": [
    "import random\n",
    "import matplotlib.pyplot as plt\n",
    "def check_training_data(d,n=10):\n",
    "    subset = random.sample(d,n)\n",
    "    \n",
    "    for s in subset:\n",
    "        grid_size = int((len(s[0])-1)/3)\n",
    "                \n",
    "        init_real = s[0][1:grid_size+1]\n",
    "        init_imag = s[0][grid_size+1:2*grid_size+1]\n",
    "        \n",
    "        final_real = s[1][:grid_size]\n",
    "        final_imag = s[1][grid_size:]\n",
    "        \n",
    "        xs = np.linspace(0,1,grid_size)\n",
    "                \n",
    "        plt.figure()\n",
    "        sbp1 = plt.subplot(2,2,1)\n",
    "        sbp1.title.set_text('t=0')\n",
    "        sbp1.set_xlim(0,1)\n",
    "        sbp1.set_ylim(0,2)\n",
    "        l1, = sbp1.plot(xs,np.sqrt(init_real**2 + init_imag**2), lw=2)\n",
    "\n",
    "        sbp3 = plt.subplot(2,2,3)\n",
    "        sbp3.set_xlim(0,1)\n",
    "        sbp3.set_ylim(-1*np.pi,np.pi)\n",
    "        l3, = sbp3.plot(xs,np.arctan2(init_real,init_imag), lw=2)\n",
    "\n",
    "        sbp2 = plt.subplot(2,2,2)\n",
    "        sbp2.title.set_text(f't={s[0][0]}')\n",
    "        sbp2.set_xlim(0,1)\n",
    "        sbp2.set_ylim(0,2)\n",
    "        l2, = sbp2.plot(xs,np.sqrt(final_real**2 + final_imag**2), lw=2)\n",
    "\n",
    "        sbp4 = plt.subplot(2,2,4)\n",
    "        sbp4.set_xlim(0,1)\n",
    "        sbp4.set_ylim(-1*np.pi,np.pi)\n",
    "        l4, = sbp4.plot(xs, np.arctan2(final_real, final_imag), lw=2)\n",
    "        "
   ]
  },
  {
   "cell_type": "code",
   "execution_count": null,
   "metadata": {},
   "outputs": [],
   "source": [
    "check_training_data(data.data)"
   ]
  },
  {
   "cell_type": "code",
   "execution_count": null,
   "metadata": {},
   "outputs": [],
   "source": [
    "# TEST FOR DEBUG\n",
    "\n",
    "# Try to train\n",
    "from tqdm import tqdm\n",
    "import matplotlib.pyplot as plt # DEBUG TMP\n",
    "import scipy.interpolate\n",
    "\n",
    "nepochs = 100\n",
    "\n",
    "train_data_loader = torch.utils.data.DataLoader(data, batch_size=100, shuffle=True)\n",
    "\n",
    "\n",
    "mse_hyperparam = 1\n",
    "norm_hyperparam = 0\n",
    "schrod_hyperparam = 0\n",
    "\n",
    "def norm_factor(output):\n",
    "    norm = torch.sum(output**2)* data.grid_length / (np.prod(output.shape) / 2)\n",
    "    norm_factor = (norm-1)**2\n",
    "    return norm_factor\n",
    "\n",
    "grid_size = model.grid_size\n",
    "def schrodinger_loss(output, in_put):\n",
    "    batch_size = output.shape[0]\n",
    "    \n",
    "    psi_real = output[:,:grid_size]\n",
    "    psi_imag = output[:,grid_size:]\n",
    "    \n",
    "    # Calculate Laplacian\n",
    "    xs = np.linspace(0,1,grid_size)\n",
    "    psi_real_np = psi_real.detach().cpu().numpy()\n",
    "    psi_imag_np = psi_imag.detach().cpu().numpy()\n",
    "    \n",
    "    print(xs.shape)\n",
    "    print(psi_real_np.shape)\n",
    "    \n",
    "    d2_psi_real = scipy.signal.savgol_filter(psi_real_np,9,3,deriv=2, delta=1/100, axis=1)\n",
    "    d2_psi_imag = scipy.signal.savgol_filter(psi_imag_np,9,3,deriv=2, delta=1/100, axis=1)\n",
    "    \n",
    "#     zero = torch.zeros((output.shape[0], 1)).to(device)\n",
    "#     psi_real_exp = torch.cat((zero, psi_real, zero), dim=1)\n",
    "#     psi_imag_exp = torch.cat((zero, psi_imag, zero), dim=1)\n",
    "    \n",
    "#     dx = data.grid_length / grid_size\n",
    "#     d2_psi_real = (psi_real_exp[:,0:-2] + psi_real_exp[:,2:] - 2*psi_real_exp[:,1:-1]) / dx**2\n",
    "#     d2_psi_imag = (psi_imag_exp[:,0:-2] + psi_imag_exp[:,2:] - 2*psi_imag_exp[:,1:-1]) / dx**2\n",
    "    \n",
    "    # Calculate time derivative\n",
    "    t = torch.zeros((batch_size,301)).to(device)\n",
    "    t[:,0] = 1\n",
    "    \n",
    "    psi_dt = torch.autograd.functional.jvp(model, in_put, v=t, create_graph=True)[1]\n",
    "    print(psi_dt.shape)\n",
    "    psi_dt_real = psi_dt[:,:grid_size]\n",
    "    psi_dt_imag = psi_dt[:,grid_size:]\n",
    "    \n",
    "    # Calculate potential energy\n",
    "    V = in_put[:,2*grid_size+1:]\n",
    "    V_real = V * psi_real\n",
    "    V_imag = V * psi_imag\n",
    "    \n",
    "    # DEBUG\n",
    "    plt.figure()\n",
    "    xs = np.linspace(0,1,grid_size)\n",
    "    \n",
    "    # Plot time derivative\n",
    "    \n",
    "#     dpt_1 = psi_dt_real.detach().cpu().numpy()[0,:]\n",
    "#     dpt_2 = psi_dt_imag.detach().cpu().numpy()[0,:]\n",
    "    \n",
    "#     plt.plot(xs,np.sqrt(dpt_1**2 + dpt_1**2))\n",
    "#     plt.show()\n",
    "    \n",
    "    px_1 = (-d2_psi_real)[0,:]\n",
    "    px_2 = np.pi**2 * psi_real[0,:].detach().cpu().numpy()\n",
    "    \n",
    "    # Plot original wavefn\n",
    "    plt.plot(xs, px_2)\n",
    "    #plt.plot(xs,scipy.signal.savgol_filter(px_2,13,3), lw=1.25)\n",
    "    plt.show()\n",
    "    \n",
    "    # Plot second dervative against original wavefn\n",
    "    plt.plot(xs,px_1)\n",
    "    plt.plot(xs,px_2)\n",
    "    plt.show()\n",
    "\n",
    "\n",
    "def custom_loss(output, in_put, target):\n",
    "    mse =  F.mse_loss(output,y)\n",
    "    n_factor = norm_factor(output)\n",
    "    schrod_loss = schrodinger_loss(output, in_put)\n",
    "    \n",
    "    return mse + norm_hyperparam*n_factor + schrod_hyperparam*schrod_loss\n",
    "    \n",
    "\n",
    "for epoch in range(nepochs):\n",
    "    epoch_loss = 0\n",
    "    \n",
    "    for x,y in tqdm(train_data_loader):\n",
    "        x = x.to(device)\n",
    "        y = y.to(device)\n",
    "\n",
    "        output = model(x)      \n",
    "        loss = custom_loss(output,x,y)"
   ]
  },
  {
   "cell_type": "code",
   "execution_count": null,
   "metadata": {},
   "outputs": [],
   "source": [
    "# Test of B-spline and savgol smoothing and differentiation\n",
    "\n",
    "import scipy.interpolate\n",
    "import scipy.signal\n",
    "\n",
    "n = 1\n",
    "\n",
    "xs = np.linspace(0,1,100)\n",
    "ys = np.sin(n*np.pi*xs) + np.random.rand(100)*0.025\n",
    "\n",
    "ys_smooth = scipy.signal.savgol_filter(ys,13,3,deriv=0)\n",
    "savgol_d2ydx2 = scipy.signal.savgol_filter(ys,13,3,deriv=2, delta=1/100)\n",
    "\n",
    "tck = scipy.interpolate.splrep(xs,ys, k=5, s=0.01, task=0)\n",
    "tck2 = scipy.interpolate.splder(tck,2)\n",
    "bsplines_d2ydx2 = scipy.interpolate.splev(xs,tck2)\n",
    "\n",
    "\n",
    "# plt.plot(xs,ys)\n",
    "# plt.show()\n",
    "\n",
    "plt.plot(xs,ys)\n",
    "plt.title('Original function')\n",
    "plt.show()\n",
    "\n",
    "plt.plot(xs, -1*n**2*np.pi**2 * ys)\n",
    "plt.plot(xs,savgol_d2ydx2)\n",
    "plt.title('Savgol Filter 2nd Derivative')\n",
    "plt.show()\n",
    "\n",
    "plt.plot(xs, -1*n**2*np.pi**2 * ys)\n",
    "plt.plot(xs,bsplines_d2ydx2)\n",
    "plt.title('B Splines 2nd Derivative')\n",
    "plt.show()\n"
   ]
  },
  {
   "cell_type": "code",
   "execution_count": null,
   "metadata": {},
   "outputs": [],
   "source": [
    "len(data)"
   ]
  },
  {
   "cell_type": "code",
   "execution_count": null,
   "metadata": {},
   "outputs": [],
   "source": []
  }
 ],
 "metadata": {
  "kernelspec": {
   "display_name": "Python 3",
   "language": "python",
   "name": "python3"
  },
  "language_info": {
   "codemirror_mode": {
    "name": "ipython",
    "version": 3
   },
   "file_extension": ".py",
   "mimetype": "text/x-python",
   "name": "python",
   "nbconvert_exporter": "python",
   "pygments_lexer": "ipython3",
   "version": "3.8.10"
  }
 },
 "nbformat": 4,
 "nbformat_minor": 4
}
