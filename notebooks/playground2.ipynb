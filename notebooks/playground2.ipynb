{
 "cells": [
  {
   "cell_type": "code",
   "execution_count": 1,
   "metadata": {},
   "outputs": [
    {
     "name": "stdout",
     "output_type": "stream",
     "text": [
      "CUDA available. Using device \"NVIDIA GeForce GTX 1650 with Max-Q Design\".\n"
     ]
    }
   ],
   "source": [
    "import torch\n",
    "import torch.nn as nn\n",
    "import torch.nn.functional as F\n",
    "import numpy as np\n",
    "\n",
    "device = \"cuda\" if torch.cuda.is_available() else \"cpu\"\n",
    "\n",
    "if torch.cuda.is_available():\n",
    "    print(f\"CUDA available. Using device \\\"{torch.cuda.get_device_name()}\\\".\")\n",
    "else:\n",
    "    print(f\"CUDA not available.\")"
   ]
  },
  {
   "cell_type": "code",
   "execution_count": 193,
   "metadata": {},
   "outputs": [],
   "source": [
    "### NUMERICAL SIMULATOR ###\n",
    "import scipy.integrate\n",
    "def numerical_schrodinger(psi0, v, ts, length=1, size=100, verbose=False):\n",
    "#     xs = np.linspace(0,length,size)\n",
    "#     dx = length/size\n",
    "    \n",
    "#     # construct laplacian operator and then Hamiltonian\n",
    "#     D2 = -2*np.eye(size)\n",
    "#     for i in range(size-1):\n",
    "#         D2[i,i+1] = 1\n",
    "#         D2[i+1,i] = 1\n",
    "#     H = -0.5*D2/(dx**2) + np.diag(v(xs))\n",
    "    \n",
    "#     y0 = psi0(xs)*(1+0j)\n",
    "    \n",
    "#     if verbose:\n",
    "#         energy = y0.transpose()@H@y0/(y0.transpose()@y0)\n",
    "#         print(f'Energy expectation value is {energy}.')\n",
    "    \n",
    "#     sol = scipy.integrate.solve_ivp(lambda t,p: H@p / 1j, t_span=[0,np.max(ts)], y0=y0, t_eval=ts, method=\"RK23\")\n",
    "#     return sol.t, sol.y\n",
    "\n",
    "    xs = np.linspace(0,length,size)\n",
    "    dx = length/size\n",
    "    \n",
    "    # construct laplacian operator and then Hamiltonian\n",
    "    D2 = -2*np.eye(size)\n",
    "    for i in range(size-1):\n",
    "        D2[i,i+1] = 1\n",
    "        D2[i+1,i] = 1\n",
    "    \n",
    "    off_diags = np.array([[0,1],[-1,0]])\n",
    "    \n",
    "    H = np.kron(off_diags, -0.5*D2/(dx**2) + np.diag(v(xs)))\n",
    "    \n",
    "    y0_cmplx = psi0(xs)*(1+0j)\n",
    "    y0_real = np.concatenate((y0_cmplx.real, y0_cmplx.imag))\n",
    "    \n",
    "    sol = scipy.integrate.solve_ivp(lambda t,p: H@p, t_span=[0,np.max(ts)], y0=y0_real, t_eval=ts, method=\"RK23\")\n",
    "    sol_cmplx = sol.y[:size,:] + 1j*sol.y[size:,:]\n",
    "    #sol = scipy.integrate.odeint(lambda p,t: H@p, t=ts, y0=y0_real)\n",
    "    #sol_cmplx = sol[:,:size] + 1j*sol[:,size:]\n",
    "    \n",
    "    return ts, sol_cmplx"
   ]
  },
  {
   "cell_type": "code",
   "execution_count": 157,
   "metadata": {},
   "outputs": [],
   "source": [
    "### MODEL DEFN ###\n",
    "class SimpleFiniteStepSolver(nn.Module):\n",
    "    def __init__(self, size=100, length=1):\n",
    "        super(SimpleFiniteStepSolver, self).__init__()\n",
    "        self.size = size\n",
    "        self.length = length\n",
    "\n",
    "        self.mlp = nn.Sequential(\n",
    "            nn.Linear(3*size+1, 10*size),\n",
    "            nn.ReLU(),\n",
    "            nn.Linear(10*size,2*size)\n",
    "        ).to(device)\n",
    "\n",
    "    def forward(self, x):\n",
    "        outs = self.mlp(x)\n",
    "        return outs"
   ]
  },
  {
   "cell_type": "code",
   "execution_count": 64,
   "metadata": {},
   "outputs": [],
   "source": [
    "### TRAINING DATA ###\n",
    "from tqdm import tqdm\n",
    "import scipy.interpolate\n",
    "\n",
    "class SimpleFiniteStepDataset(torch.utils.data.Dataset):\n",
    "    def __init__(self, size=25, sim_size=100, length=1, nums=500, modes=5, max_time=10, times_per_generate=50):\n",
    "        self.size = size\n",
    "        self.sim_size = sim_size\n",
    "        self.length = length\n",
    "        self.modes = modes\n",
    "        self.max_time = max_time\n",
    "        self.times_per_generate = times_per_generate\n",
    "        self.nums = nums\n",
    "        \n",
    "        self.data = []\n",
    "        for i in tqdm(range(nums)):\n",
    "            self._generate_data()\n",
    "        \n",
    "    def _cmplx_to_real(self, z):\n",
    "        assert list(z.shape) == [self.size]\n",
    "        if not torch.is_tensor(z):\n",
    "            z = torch.from_numpy(z)\n",
    "        return torch.cat((z.real, z.imag))\n",
    "\n",
    "    def _real_to_cmplx(self, x):\n",
    "        assert list(x.shape) == [self.size*2]\n",
    "        real = x[0:self.size]\n",
    "        imag = x[self.size:2*self.size]\n",
    "        return torch.complex(real, imag)\n",
    "        \n",
    "    def __len__(self):\n",
    "        return len(self.data)\n",
    "    \n",
    "    def __getitem__(self, index):    \n",
    "        return self.data[index]\n",
    "        \n",
    "    def _generate_data(self):\n",
    "        cffs1 = torch.rand(self.modes) + 1j*torch.rand(self.modes)\n",
    "        wavefn = lambda x: torch.sum(torch.outer(cffs1,torch.ones(len(x)))*torch.sin(torch.outer(torch.arange(0,self.modes), (x if torch.is_tensor(x) else torch.tensor(x))  )*np.pi/self.length), dim=0)\n",
    "        \n",
    "        cffs2 = torch.rand(self.modes)\n",
    "        #potential = lambda x: torch.sum(torch.outer(cffs2,torch.ones(len(xs)))*torch.sin(torch.outer(torch.arange(0,self.modes),xs)*np.pi/self.length), dim=0)\n",
    "        potential = lambda x: 0*x\n",
    "        \n",
    "        xs = torch.linspace(0,self.length,self.size)\n",
    "        psis = wavefn(xs)\n",
    "        vs = potential(xs)\n",
    "        psis_and_vs = torch.cat((self._cmplx_to_real(psis), vs))\n",
    "        \n",
    "        ts = np.sort(np.random.rand(self.times_per_generate)*self.length)\n",
    "        \n",
    "        # expected wavefn\n",
    "        num_t, num_y = numerical_schrodinger(wavefn, potential, ts, size=self.sim_size, length=self.length)\n",
    "        \n",
    "        # interpolate\n",
    "        num_y = scipy.interpolate.interp1d(np.linspace(0,self.length,self.sim_size), num_y, axis=0)(np.linspace(0,self.length,self.size))\n",
    "        \n",
    "        for i in range(len(num_t)):\n",
    "            nn_in = torch.cat((torch.tensor([num_t[i]]), psis_and_vs)).type(torch.FloatTensor)\n",
    "            nn_out = self._cmplx_to_real(num_y[:,i]).type(torch.FloatTensor)\n",
    "            self.data.append((nn_in, nn_out))"
   ]
  },
  {
   "cell_type": "code",
   "execution_count": 105,
   "metadata": {},
   "outputs": [
    {
     "name": "stdout",
     "output_type": "stream",
     "text": [
      "Generating data...\n"
     ]
    },
    {
     "name": "stderr",
     "output_type": "stream",
     "text": [
      "100%|██████████| 200/200 [10:19<00:00,  3.10s/it]"
     ]
    },
    {
     "name": "stdout",
     "output_type": "stream",
     "text": [
      "Training data generated!\n"
     ]
    },
    {
     "name": "stderr",
     "output_type": "stream",
     "text": [
      "\n"
     ]
    }
   ],
   "source": [
    "# Generate training data\n",
    "from tqdm import tqdm\n",
    "\n",
    "print('Generating data...')\n",
    "data = SimpleFiniteStepDataset(size=50, sim_size=100, max_time=1, nums=200)\n",
    "print('Training data generated!')"
   ]
  },
  {
   "cell_type": "code",
   "execution_count": 159,
   "metadata": {},
   "outputs": [
    {
     "name": "stderr",
     "output_type": "stream",
     "text": [
      "100%|██████████| 1000/1000 [00:01<00:00, 538.10it/s]\n"
     ]
    },
    {
     "name": "stdout",
     "output_type": "stream",
     "text": [
      "Epoch 1 Loss : 589.782958984375\n"
     ]
    },
    {
     "name": "stderr",
     "output_type": "stream",
     "text": [
      "100%|██████████| 1000/1000 [00:02<00:00, 357.21it/s]\n"
     ]
    },
    {
     "name": "stdout",
     "output_type": "stream",
     "text": [
      "Epoch 2 Loss : 528.3787841796875\n"
     ]
    },
    {
     "name": "stderr",
     "output_type": "stream",
     "text": [
      "100%|██████████| 1000/1000 [00:02<00:00, 355.46it/s]\n"
     ]
    },
    {
     "name": "stdout",
     "output_type": "stream",
     "text": [
      "Epoch 3 Loss : 511.3597106933594\n"
     ]
    },
    {
     "name": "stderr",
     "output_type": "stream",
     "text": [
      "100%|██████████| 1000/1000 [00:02<00:00, 361.06it/s]\n"
     ]
    },
    {
     "name": "stdout",
     "output_type": "stream",
     "text": [
      "Epoch 4 Loss : 503.90191650390625\n"
     ]
    },
    {
     "name": "stderr",
     "output_type": "stream",
     "text": [
      "100%|██████████| 1000/1000 [00:02<00:00, 375.36it/s]\n"
     ]
    },
    {
     "name": "stdout",
     "output_type": "stream",
     "text": [
      "Epoch 5 Loss : 496.1015625\n"
     ]
    },
    {
     "name": "stderr",
     "output_type": "stream",
     "text": [
      "100%|██████████| 1000/1000 [00:02<00:00, 422.42it/s]\n"
     ]
    },
    {
     "name": "stdout",
     "output_type": "stream",
     "text": [
      "Epoch 6 Loss : 489.5447082519531\n"
     ]
    },
    {
     "name": "stderr",
     "output_type": "stream",
     "text": [
      "100%|██████████| 1000/1000 [00:01<00:00, 598.67it/s]\n"
     ]
    },
    {
     "name": "stdout",
     "output_type": "stream",
     "text": [
      "Epoch 7 Loss : 484.75250244140625\n"
     ]
    },
    {
     "name": "stderr",
     "output_type": "stream",
     "text": [
      "100%|██████████| 1000/1000 [00:01<00:00, 505.88it/s]\n"
     ]
    },
    {
     "name": "stdout",
     "output_type": "stream",
     "text": [
      "Epoch 8 Loss : 479.84234619140625\n"
     ]
    },
    {
     "name": "stderr",
     "output_type": "stream",
     "text": [
      "100%|██████████| 1000/1000 [00:02<00:00, 493.42it/s]\n"
     ]
    },
    {
     "name": "stdout",
     "output_type": "stream",
     "text": [
      "Epoch 9 Loss : 478.5960388183594\n"
     ]
    },
    {
     "name": "stderr",
     "output_type": "stream",
     "text": [
      "100%|██████████| 1000/1000 [00:01<00:00, 511.11it/s]\n"
     ]
    },
    {
     "name": "stdout",
     "output_type": "stream",
     "text": [
      "Epoch 10 Loss : 474.32025146484375\n"
     ]
    },
    {
     "name": "stderr",
     "output_type": "stream",
     "text": [
      "100%|██████████| 1000/1000 [00:01<00:00, 539.50it/s]\n"
     ]
    },
    {
     "name": "stdout",
     "output_type": "stream",
     "text": [
      "Epoch 11 Loss : 471.4218444824219\n"
     ]
    },
    {
     "name": "stderr",
     "output_type": "stream",
     "text": [
      "100%|██████████| 1000/1000 [00:02<00:00, 477.47it/s]\n"
     ]
    },
    {
     "name": "stdout",
     "output_type": "stream",
     "text": [
      "Epoch 12 Loss : 468.49298095703125\n"
     ]
    },
    {
     "name": "stderr",
     "output_type": "stream",
     "text": [
      "100%|██████████| 1000/1000 [00:02<00:00, 493.97it/s]\n"
     ]
    },
    {
     "name": "stdout",
     "output_type": "stream",
     "text": [
      "Epoch 13 Loss : 466.2234191894531\n"
     ]
    },
    {
     "name": "stderr",
     "output_type": "stream",
     "text": [
      "100%|██████████| 1000/1000 [00:02<00:00, 485.69it/s]\n"
     ]
    },
    {
     "name": "stdout",
     "output_type": "stream",
     "text": [
      "Epoch 14 Loss : 463.3972473144531\n"
     ]
    },
    {
     "name": "stderr",
     "output_type": "stream",
     "text": [
      "100%|██████████| 1000/1000 [00:01<00:00, 522.24it/s]\n"
     ]
    },
    {
     "name": "stdout",
     "output_type": "stream",
     "text": [
      "Epoch 15 Loss : 460.69482421875\n"
     ]
    },
    {
     "name": "stderr",
     "output_type": "stream",
     "text": [
      "100%|██████████| 1000/1000 [00:02<00:00, 473.57it/s]\n"
     ]
    },
    {
     "name": "stdout",
     "output_type": "stream",
     "text": [
      "Epoch 16 Loss : 458.6834411621094\n"
     ]
    },
    {
     "name": "stderr",
     "output_type": "stream",
     "text": [
      "100%|██████████| 1000/1000 [00:02<00:00, 434.39it/s]\n"
     ]
    },
    {
     "name": "stdout",
     "output_type": "stream",
     "text": [
      "Epoch 17 Loss : 455.92962646484375\n"
     ]
    },
    {
     "name": "stderr",
     "output_type": "stream",
     "text": [
      "100%|██████████| 1000/1000 [00:02<00:00, 410.77it/s]\n"
     ]
    },
    {
     "name": "stdout",
     "output_type": "stream",
     "text": [
      "Epoch 18 Loss : 454.7186279296875\n"
     ]
    },
    {
     "name": "stderr",
     "output_type": "stream",
     "text": [
      "100%|██████████| 1000/1000 [00:02<00:00, 446.59it/s]\n"
     ]
    },
    {
     "name": "stdout",
     "output_type": "stream",
     "text": [
      "Epoch 19 Loss : 453.2575988769531\n"
     ]
    },
    {
     "name": "stderr",
     "output_type": "stream",
     "text": [
      "100%|██████████| 1000/1000 [00:02<00:00, 414.60it/s]\n"
     ]
    },
    {
     "name": "stdout",
     "output_type": "stream",
     "text": [
      "Epoch 20 Loss : 450.40625\n"
     ]
    },
    {
     "name": "stderr",
     "output_type": "stream",
     "text": [
      "100%|██████████| 1000/1000 [00:02<00:00, 441.95it/s]\n"
     ]
    },
    {
     "name": "stdout",
     "output_type": "stream",
     "text": [
      "Epoch 21 Loss : 449.0199890136719\n"
     ]
    },
    {
     "name": "stderr",
     "output_type": "stream",
     "text": [
      "100%|██████████| 1000/1000 [00:02<00:00, 427.27it/s]\n"
     ]
    },
    {
     "name": "stdout",
     "output_type": "stream",
     "text": [
      "Epoch 22 Loss : 448.0472106933594\n"
     ]
    },
    {
     "name": "stderr",
     "output_type": "stream",
     "text": [
      "100%|██████████| 1000/1000 [00:02<00:00, 418.84it/s]\n"
     ]
    },
    {
     "name": "stdout",
     "output_type": "stream",
     "text": [
      "Epoch 23 Loss : 445.57843017578125\n"
     ]
    },
    {
     "name": "stderr",
     "output_type": "stream",
     "text": [
      "100%|██████████| 1000/1000 [00:02<00:00, 410.55it/s]\n"
     ]
    },
    {
     "name": "stdout",
     "output_type": "stream",
     "text": [
      "Epoch 24 Loss : 445.2386779785156\n"
     ]
    },
    {
     "name": "stderr",
     "output_type": "stream",
     "text": [
      "100%|██████████| 1000/1000 [00:02<00:00, 443.24it/s]\n"
     ]
    },
    {
     "name": "stdout",
     "output_type": "stream",
     "text": [
      "Epoch 25 Loss : 443.4087829589844\n"
     ]
    },
    {
     "name": "stderr",
     "output_type": "stream",
     "text": [
      "100%|██████████| 1000/1000 [00:02<00:00, 432.99it/s]\n"
     ]
    },
    {
     "name": "stdout",
     "output_type": "stream",
     "text": [
      "Epoch 26 Loss : 443.5091552734375\n"
     ]
    },
    {
     "name": "stderr",
     "output_type": "stream",
     "text": [
      "100%|██████████| 1000/1000 [00:02<00:00, 449.85it/s]\n"
     ]
    },
    {
     "name": "stdout",
     "output_type": "stream",
     "text": [
      "Epoch 27 Loss : 441.4053039550781\n"
     ]
    },
    {
     "name": "stderr",
     "output_type": "stream",
     "text": [
      "100%|██████████| 1000/1000 [00:02<00:00, 421.57it/s]\n"
     ]
    },
    {
     "name": "stdout",
     "output_type": "stream",
     "text": [
      "Epoch 28 Loss : 441.24432373046875\n"
     ]
    },
    {
     "name": "stderr",
     "output_type": "stream",
     "text": [
      "100%|██████████| 1000/1000 [00:02<00:00, 409.39it/s]\n"
     ]
    },
    {
     "name": "stdout",
     "output_type": "stream",
     "text": [
      "Epoch 29 Loss : 438.6015930175781\n"
     ]
    },
    {
     "name": "stderr",
     "output_type": "stream",
     "text": [
      "100%|██████████| 1000/1000 [00:02<00:00, 428.41it/s]\n"
     ]
    },
    {
     "name": "stdout",
     "output_type": "stream",
     "text": [
      "Epoch 30 Loss : 437.2536926269531\n"
     ]
    },
    {
     "name": "stderr",
     "output_type": "stream",
     "text": [
      "100%|██████████| 1000/1000 [00:02<00:00, 440.64it/s]\n"
     ]
    },
    {
     "name": "stdout",
     "output_type": "stream",
     "text": [
      "Epoch 31 Loss : 436.4804382324219\n"
     ]
    },
    {
     "name": "stderr",
     "output_type": "stream",
     "text": [
      "100%|██████████| 1000/1000 [00:02<00:00, 446.92it/s]\n"
     ]
    },
    {
     "name": "stdout",
     "output_type": "stream",
     "text": [
      "Epoch 32 Loss : 434.72650146484375\n"
     ]
    },
    {
     "name": "stderr",
     "output_type": "stream",
     "text": [
      "100%|██████████| 1000/1000 [00:02<00:00, 425.38it/s]\n"
     ]
    },
    {
     "name": "stdout",
     "output_type": "stream",
     "text": [
      "Epoch 33 Loss : 435.0957946777344\n"
     ]
    },
    {
     "name": "stderr",
     "output_type": "stream",
     "text": [
      "100%|██████████| 1000/1000 [00:02<00:00, 431.89it/s]\n"
     ]
    },
    {
     "name": "stdout",
     "output_type": "stream",
     "text": [
      "Epoch 34 Loss : 433.8843994140625\n"
     ]
    },
    {
     "name": "stderr",
     "output_type": "stream",
     "text": [
      "100%|██████████| 1000/1000 [00:02<00:00, 396.69it/s]\n"
     ]
    },
    {
     "name": "stdout",
     "output_type": "stream",
     "text": [
      "Epoch 35 Loss : 433.45025634765625\n"
     ]
    },
    {
     "name": "stderr",
     "output_type": "stream",
     "text": [
      "100%|██████████| 1000/1000 [00:02<00:00, 458.23it/s]\n"
     ]
    },
    {
     "name": "stdout",
     "output_type": "stream",
     "text": [
      "Epoch 36 Loss : 433.7488708496094\n"
     ]
    },
    {
     "name": "stderr",
     "output_type": "stream",
     "text": [
      "100%|██████████| 1000/1000 [00:02<00:00, 408.69it/s]\n"
     ]
    },
    {
     "name": "stdout",
     "output_type": "stream",
     "text": [
      "Epoch 37 Loss : 431.7100830078125\n"
     ]
    },
    {
     "name": "stderr",
     "output_type": "stream",
     "text": [
      "100%|██████████| 1000/1000 [00:02<00:00, 428.46it/s]\n"
     ]
    },
    {
     "name": "stdout",
     "output_type": "stream",
     "text": [
      "Epoch 38 Loss : 431.06500244140625\n"
     ]
    },
    {
     "name": "stderr",
     "output_type": "stream",
     "text": [
      "100%|██████████| 1000/1000 [00:02<00:00, 413.99it/s]\n"
     ]
    },
    {
     "name": "stdout",
     "output_type": "stream",
     "text": [
      "Epoch 39 Loss : 429.3184814453125\n"
     ]
    },
    {
     "name": "stderr",
     "output_type": "stream",
     "text": [
      "100%|██████████| 1000/1000 [00:02<00:00, 444.86it/s]\n"
     ]
    },
    {
     "name": "stdout",
     "output_type": "stream",
     "text": [
      "Epoch 40 Loss : 428.01800537109375\n"
     ]
    },
    {
     "name": "stderr",
     "output_type": "stream",
     "text": [
      "100%|██████████| 1000/1000 [00:02<00:00, 442.65it/s]\n"
     ]
    },
    {
     "name": "stdout",
     "output_type": "stream",
     "text": [
      "Epoch 41 Loss : 425.4316711425781\n"
     ]
    },
    {
     "name": "stderr",
     "output_type": "stream",
     "text": [
      "100%|██████████| 1000/1000 [00:02<00:00, 452.93it/s]\n"
     ]
    },
    {
     "name": "stdout",
     "output_type": "stream",
     "text": [
      "Epoch 42 Loss : 424.0574951171875\n"
     ]
    },
    {
     "name": "stderr",
     "output_type": "stream",
     "text": [
      "100%|██████████| 1000/1000 [00:02<00:00, 433.50it/s]\n"
     ]
    },
    {
     "name": "stdout",
     "output_type": "stream",
     "text": [
      "Epoch 43 Loss : 422.98565673828125\n"
     ]
    },
    {
     "name": "stderr",
     "output_type": "stream",
     "text": [
      "100%|██████████| 1000/1000 [00:02<00:00, 407.21it/s]\n"
     ]
    },
    {
     "name": "stdout",
     "output_type": "stream",
     "text": [
      "Epoch 44 Loss : 421.4386901855469\n"
     ]
    },
    {
     "name": "stderr",
     "output_type": "stream",
     "text": [
      "100%|██████████| 1000/1000 [00:02<00:00, 469.96it/s]\n"
     ]
    },
    {
     "name": "stdout",
     "output_type": "stream",
     "text": [
      "Epoch 45 Loss : 418.89813232421875\n"
     ]
    },
    {
     "name": "stderr",
     "output_type": "stream",
     "text": [
      "100%|██████████| 1000/1000 [00:02<00:00, 401.23it/s]\n"
     ]
    },
    {
     "name": "stdout",
     "output_type": "stream",
     "text": [
      "Epoch 46 Loss : 417.2187194824219\n"
     ]
    },
    {
     "name": "stderr",
     "output_type": "stream",
     "text": [
      "100%|██████████| 1000/1000 [00:02<00:00, 426.21it/s]\n"
     ]
    },
    {
     "name": "stdout",
     "output_type": "stream",
     "text": [
      "Epoch 47 Loss : 415.5626220703125\n"
     ]
    },
    {
     "name": "stderr",
     "output_type": "stream",
     "text": [
      "100%|██████████| 1000/1000 [00:02<00:00, 422.09it/s]\n"
     ]
    },
    {
     "name": "stdout",
     "output_type": "stream",
     "text": [
      "Epoch 48 Loss : 413.9226379394531\n"
     ]
    },
    {
     "name": "stderr",
     "output_type": "stream",
     "text": [
      "100%|██████████| 1000/1000 [00:02<00:00, 462.67it/s]\n"
     ]
    },
    {
     "name": "stdout",
     "output_type": "stream",
     "text": [
      "Epoch 49 Loss : 412.9259033203125\n"
     ]
    },
    {
     "name": "stderr",
     "output_type": "stream",
     "text": [
      "100%|██████████| 1000/1000 [00:02<00:00, 428.70it/s]\n"
     ]
    },
    {
     "name": "stdout",
     "output_type": "stream",
     "text": [
      "Epoch 50 Loss : 410.6446228027344\n"
     ]
    },
    {
     "name": "stderr",
     "output_type": "stream",
     "text": [
      "100%|██████████| 1000/1000 [00:02<00:00, 481.13it/s]\n"
     ]
    },
    {
     "name": "stdout",
     "output_type": "stream",
     "text": [
      "Epoch 51 Loss : 409.4912109375\n"
     ]
    },
    {
     "name": "stderr",
     "output_type": "stream",
     "text": [
      "100%|██████████| 1000/1000 [00:01<00:00, 522.96it/s]\n"
     ]
    },
    {
     "name": "stdout",
     "output_type": "stream",
     "text": [
      "Epoch 52 Loss : 408.064453125\n"
     ]
    },
    {
     "name": "stderr",
     "output_type": "stream",
     "text": [
      "100%|██████████| 1000/1000 [00:01<00:00, 550.92it/s]\n"
     ]
    },
    {
     "name": "stdout",
     "output_type": "stream",
     "text": [
      "Epoch 53 Loss : 407.2717590332031\n"
     ]
    },
    {
     "name": "stderr",
     "output_type": "stream",
     "text": [
      "100%|██████████| 1000/1000 [00:01<00:00, 642.92it/s]\n"
     ]
    },
    {
     "name": "stdout",
     "output_type": "stream",
     "text": [
      "Epoch 54 Loss : 404.7364196777344\n"
     ]
    },
    {
     "name": "stderr",
     "output_type": "stream",
     "text": [
      "100%|██████████| 1000/1000 [00:01<00:00, 593.53it/s]\n"
     ]
    },
    {
     "name": "stdout",
     "output_type": "stream",
     "text": [
      "Epoch 55 Loss : 404.4003601074219\n"
     ]
    },
    {
     "name": "stderr",
     "output_type": "stream",
     "text": [
      "100%|██████████| 1000/1000 [00:01<00:00, 567.00it/s]\n"
     ]
    },
    {
     "name": "stdout",
     "output_type": "stream",
     "text": [
      "Epoch 56 Loss : 401.6770935058594\n"
     ]
    },
    {
     "name": "stderr",
     "output_type": "stream",
     "text": [
      "100%|██████████| 1000/1000 [00:01<00:00, 600.66it/s]\n"
     ]
    },
    {
     "name": "stdout",
     "output_type": "stream",
     "text": [
      "Epoch 57 Loss : 402.35845947265625\n"
     ]
    },
    {
     "name": "stderr",
     "output_type": "stream",
     "text": [
      "100%|██████████| 1000/1000 [00:01<00:00, 664.64it/s]\n"
     ]
    },
    {
     "name": "stdout",
     "output_type": "stream",
     "text": [
      "Epoch 58 Loss : 398.88360595703125\n"
     ]
    },
    {
     "name": "stderr",
     "output_type": "stream",
     "text": [
      "100%|██████████| 1000/1000 [00:02<00:00, 494.94it/s]\n"
     ]
    },
    {
     "name": "stdout",
     "output_type": "stream",
     "text": [
      "Epoch 59 Loss : 399.31396484375\n"
     ]
    },
    {
     "name": "stderr",
     "output_type": "stream",
     "text": [
      "100%|██████████| 1000/1000 [00:02<00:00, 429.81it/s]\n"
     ]
    },
    {
     "name": "stdout",
     "output_type": "stream",
     "text": [
      "Epoch 60 Loss : 397.4353332519531\n"
     ]
    },
    {
     "name": "stderr",
     "output_type": "stream",
     "text": [
      "100%|██████████| 1000/1000 [00:02<00:00, 421.85it/s]\n"
     ]
    },
    {
     "name": "stdout",
     "output_type": "stream",
     "text": [
      "Epoch 61 Loss : 396.30938720703125\n"
     ]
    },
    {
     "name": "stderr",
     "output_type": "stream",
     "text": [
      "100%|██████████| 1000/1000 [00:02<00:00, 456.51it/s]\n"
     ]
    },
    {
     "name": "stdout",
     "output_type": "stream",
     "text": [
      "Epoch 62 Loss : 394.3797302246094\n"
     ]
    },
    {
     "name": "stderr",
     "output_type": "stream",
     "text": [
      "100%|██████████| 1000/1000 [00:02<00:00, 411.22it/s]\n"
     ]
    },
    {
     "name": "stdout",
     "output_type": "stream",
     "text": [
      "Epoch 63 Loss : 392.2433166503906\n"
     ]
    },
    {
     "name": "stderr",
     "output_type": "stream",
     "text": [
      "100%|██████████| 1000/1000 [00:02<00:00, 462.62it/s]\n"
     ]
    },
    {
     "name": "stdout",
     "output_type": "stream",
     "text": [
      "Epoch 64 Loss : 391.84344482421875\n"
     ]
    },
    {
     "name": "stderr",
     "output_type": "stream",
     "text": [
      "100%|██████████| 1000/1000 [00:02<00:00, 449.35it/s]\n"
     ]
    },
    {
     "name": "stdout",
     "output_type": "stream",
     "text": [
      "Epoch 65 Loss : 391.1609802246094\n"
     ]
    },
    {
     "name": "stderr",
     "output_type": "stream",
     "text": [
      "100%|██████████| 1000/1000 [00:02<00:00, 486.61it/s]\n"
     ]
    },
    {
     "name": "stdout",
     "output_type": "stream",
     "text": [
      "Epoch 66 Loss : 392.410400390625\n"
     ]
    },
    {
     "name": "stderr",
     "output_type": "stream",
     "text": [
      "100%|██████████| 1000/1000 [00:02<00:00, 454.95it/s]\n"
     ]
    },
    {
     "name": "stdout",
     "output_type": "stream",
     "text": [
      "Epoch 67 Loss : 388.9761962890625\n"
     ]
    },
    {
     "name": "stderr",
     "output_type": "stream",
     "text": [
      "100%|██████████| 1000/1000 [00:02<00:00, 452.45it/s]\n"
     ]
    },
    {
     "name": "stdout",
     "output_type": "stream",
     "text": [
      "Epoch 68 Loss : 388.1745910644531\n"
     ]
    },
    {
     "name": "stderr",
     "output_type": "stream",
     "text": [
      "100%|██████████| 1000/1000 [00:01<00:00, 655.29it/s]\n"
     ]
    },
    {
     "name": "stdout",
     "output_type": "stream",
     "text": [
      "Epoch 69 Loss : 386.10845947265625\n"
     ]
    },
    {
     "name": "stderr",
     "output_type": "stream",
     "text": [
      "100%|██████████| 1000/1000 [00:01<00:00, 605.27it/s]\n"
     ]
    },
    {
     "name": "stdout",
     "output_type": "stream",
     "text": [
      "Epoch 70 Loss : 385.57464599609375\n"
     ]
    },
    {
     "name": "stderr",
     "output_type": "stream",
     "text": [
      "100%|██████████| 1000/1000 [00:01<00:00, 610.76it/s]\n"
     ]
    },
    {
     "name": "stdout",
     "output_type": "stream",
     "text": [
      "Epoch 71 Loss : 384.3587646484375\n"
     ]
    },
    {
     "name": "stderr",
     "output_type": "stream",
     "text": [
      "100%|██████████| 1000/1000 [00:01<00:00, 652.21it/s]\n"
     ]
    },
    {
     "name": "stdout",
     "output_type": "stream",
     "text": [
      "Epoch 72 Loss : 383.1790466308594\n"
     ]
    },
    {
     "name": "stderr",
     "output_type": "stream",
     "text": [
      "100%|██████████| 1000/1000 [00:01<00:00, 659.26it/s]\n"
     ]
    },
    {
     "name": "stdout",
     "output_type": "stream",
     "text": [
      "Epoch 73 Loss : 381.73699951171875\n"
     ]
    },
    {
     "name": "stderr",
     "output_type": "stream",
     "text": [
      "100%|██████████| 1000/1000 [00:01<00:00, 657.64it/s]\n"
     ]
    },
    {
     "name": "stdout",
     "output_type": "stream",
     "text": [
      "Epoch 74 Loss : 381.8370361328125\n"
     ]
    },
    {
     "name": "stderr",
     "output_type": "stream",
     "text": [
      "100%|██████████| 1000/1000 [00:01<00:00, 657.26it/s]\n"
     ]
    },
    {
     "name": "stdout",
     "output_type": "stream",
     "text": [
      "Epoch 75 Loss : 382.1300354003906\n"
     ]
    },
    {
     "name": "stderr",
     "output_type": "stream",
     "text": [
      "100%|██████████| 1000/1000 [00:01<00:00, 601.34it/s]\n"
     ]
    },
    {
     "name": "stdout",
     "output_type": "stream",
     "text": [
      "Epoch 76 Loss : 379.38946533203125\n"
     ]
    },
    {
     "name": "stderr",
     "output_type": "stream",
     "text": [
      "100%|██████████| 1000/1000 [00:01<00:00, 644.10it/s]\n"
     ]
    },
    {
     "name": "stdout",
     "output_type": "stream",
     "text": [
      "Epoch 77 Loss : 377.5372009277344\n"
     ]
    },
    {
     "name": "stderr",
     "output_type": "stream",
     "text": [
      "100%|██████████| 1000/1000 [00:01<00:00, 654.02it/s]\n"
     ]
    },
    {
     "name": "stdout",
     "output_type": "stream",
     "text": [
      "Epoch 78 Loss : 378.10064697265625\n"
     ]
    },
    {
     "name": "stderr",
     "output_type": "stream",
     "text": [
      "100%|██████████| 1000/1000 [00:01<00:00, 695.70it/s]\n"
     ]
    },
    {
     "name": "stdout",
     "output_type": "stream",
     "text": [
      "Epoch 79 Loss : 375.98388671875\n"
     ]
    },
    {
     "name": "stderr",
     "output_type": "stream",
     "text": [
      "100%|██████████| 1000/1000 [00:01<00:00, 589.63it/s]\n"
     ]
    },
    {
     "name": "stdout",
     "output_type": "stream",
     "text": [
      "Epoch 80 Loss : 375.89471435546875\n"
     ]
    },
    {
     "name": "stderr",
     "output_type": "stream",
     "text": [
      "100%|██████████| 1000/1000 [00:01<00:00, 666.70it/s]\n"
     ]
    },
    {
     "name": "stdout",
     "output_type": "stream",
     "text": [
      "Epoch 81 Loss : 373.884521484375\n"
     ]
    },
    {
     "name": "stderr",
     "output_type": "stream",
     "text": [
      "100%|██████████| 1000/1000 [00:01<00:00, 681.21it/s]\n"
     ]
    },
    {
     "name": "stdout",
     "output_type": "stream",
     "text": [
      "Epoch 82 Loss : 374.2487487792969\n"
     ]
    },
    {
     "name": "stderr",
     "output_type": "stream",
     "text": [
      "100%|██████████| 1000/1000 [00:01<00:00, 605.30it/s]\n"
     ]
    },
    {
     "name": "stdout",
     "output_type": "stream",
     "text": [
      "Epoch 83 Loss : 372.7091369628906\n"
     ]
    },
    {
     "name": "stderr",
     "output_type": "stream",
     "text": [
      "100%|██████████| 1000/1000 [00:01<00:00, 546.32it/s]\n"
     ]
    },
    {
     "name": "stdout",
     "output_type": "stream",
     "text": [
      "Epoch 84 Loss : 372.31817626953125\n"
     ]
    },
    {
     "name": "stderr",
     "output_type": "stream",
     "text": [
      "100%|██████████| 1000/1000 [00:01<00:00, 602.50it/s]\n"
     ]
    },
    {
     "name": "stdout",
     "output_type": "stream",
     "text": [
      "Epoch 85 Loss : 372.50225830078125\n"
     ]
    },
    {
     "name": "stderr",
     "output_type": "stream",
     "text": [
      "100%|██████████| 1000/1000 [00:01<00:00, 548.01it/s]\n"
     ]
    },
    {
     "name": "stdout",
     "output_type": "stream",
     "text": [
      "Epoch 86 Loss : 370.7028503417969\n"
     ]
    },
    {
     "name": "stderr",
     "output_type": "stream",
     "text": [
      "100%|██████████| 1000/1000 [00:01<00:00, 578.51it/s]\n"
     ]
    },
    {
     "name": "stdout",
     "output_type": "stream",
     "text": [
      "Epoch 87 Loss : 371.72088623046875\n"
     ]
    },
    {
     "name": "stderr",
     "output_type": "stream",
     "text": [
      "100%|██████████| 1000/1000 [00:01<00:00, 551.25it/s]\n"
     ]
    },
    {
     "name": "stdout",
     "output_type": "stream",
     "text": [
      "Epoch 88 Loss : 367.6925354003906\n"
     ]
    },
    {
     "name": "stderr",
     "output_type": "stream",
     "text": [
      "100%|██████████| 1000/1000 [00:01<00:00, 585.58it/s]\n"
     ]
    },
    {
     "name": "stdout",
     "output_type": "stream",
     "text": [
      "Epoch 89 Loss : 368.4629211425781\n"
     ]
    },
    {
     "name": "stderr",
     "output_type": "stream",
     "text": [
      "100%|██████████| 1000/1000 [00:01<00:00, 657.63it/s]\n"
     ]
    },
    {
     "name": "stdout",
     "output_type": "stream",
     "text": [
      "Epoch 90 Loss : 368.46661376953125\n"
     ]
    },
    {
     "name": "stderr",
     "output_type": "stream",
     "text": [
      "100%|██████████| 1000/1000 [00:01<00:00, 631.33it/s]\n"
     ]
    },
    {
     "name": "stdout",
     "output_type": "stream",
     "text": [
      "Epoch 91 Loss : 367.44989013671875\n"
     ]
    },
    {
     "name": "stderr",
     "output_type": "stream",
     "text": [
      "100%|██████████| 1000/1000 [00:01<00:00, 589.29it/s]\n"
     ]
    },
    {
     "name": "stdout",
     "output_type": "stream",
     "text": [
      "Epoch 92 Loss : 367.727783203125\n"
     ]
    },
    {
     "name": "stderr",
     "output_type": "stream",
     "text": [
      "100%|██████████| 1000/1000 [00:01<00:00, 612.29it/s]\n"
     ]
    },
    {
     "name": "stdout",
     "output_type": "stream",
     "text": [
      "Epoch 93 Loss : 365.3002014160156\n"
     ]
    },
    {
     "name": "stderr",
     "output_type": "stream",
     "text": [
      "100%|██████████| 1000/1000 [00:01<00:00, 618.12it/s]\n"
     ]
    },
    {
     "name": "stdout",
     "output_type": "stream",
     "text": [
      "Epoch 94 Loss : 366.917724609375\n"
     ]
    },
    {
     "name": "stderr",
     "output_type": "stream",
     "text": [
      "100%|██████████| 1000/1000 [00:01<00:00, 556.55it/s]\n"
     ]
    },
    {
     "name": "stdout",
     "output_type": "stream",
     "text": [
      "Epoch 95 Loss : 364.9872741699219\n"
     ]
    },
    {
     "name": "stderr",
     "output_type": "stream",
     "text": [
      "100%|██████████| 1000/1000 [00:01<00:00, 542.89it/s]\n"
     ]
    },
    {
     "name": "stdout",
     "output_type": "stream",
     "text": [
      "Epoch 96 Loss : 365.1163635253906\n"
     ]
    },
    {
     "name": "stderr",
     "output_type": "stream",
     "text": [
      "100%|██████████| 1000/1000 [00:01<00:00, 550.22it/s]\n"
     ]
    },
    {
     "name": "stdout",
     "output_type": "stream",
     "text": [
      "Epoch 97 Loss : 363.2864074707031\n"
     ]
    },
    {
     "name": "stderr",
     "output_type": "stream",
     "text": [
      "100%|██████████| 1000/1000 [00:02<00:00, 345.46it/s]\n"
     ]
    },
    {
     "name": "stdout",
     "output_type": "stream",
     "text": [
      "Epoch 98 Loss : 361.8651428222656\n"
     ]
    },
    {
     "name": "stderr",
     "output_type": "stream",
     "text": [
      "100%|██████████| 1000/1000 [00:02<00:00, 336.14it/s]\n"
     ]
    },
    {
     "name": "stdout",
     "output_type": "stream",
     "text": [
      "Epoch 99 Loss : 360.999267578125\n"
     ]
    },
    {
     "name": "stderr",
     "output_type": "stream",
     "text": [
      "100%|██████████| 1000/1000 [00:02<00:00, 342.97it/s]\n"
     ]
    },
    {
     "name": "stdout",
     "output_type": "stream",
     "text": [
      "Epoch 100 Loss : 363.1859130859375\n"
     ]
    },
    {
     "name": "stderr",
     "output_type": "stream",
     "text": [
      "100%|██████████| 1000/1000 [00:02<00:00, 339.17it/s]\n"
     ]
    },
    {
     "name": "stdout",
     "output_type": "stream",
     "text": [
      "Epoch 101 Loss : 362.3575134277344\n"
     ]
    },
    {
     "name": "stderr",
     "output_type": "stream",
     "text": [
      "100%|██████████| 1000/1000 [00:03<00:00, 331.80it/s]\n"
     ]
    },
    {
     "name": "stdout",
     "output_type": "stream",
     "text": [
      "Epoch 102 Loss : 360.5685119628906\n"
     ]
    },
    {
     "name": "stderr",
     "output_type": "stream",
     "text": [
      "100%|██████████| 1000/1000 [00:03<00:00, 324.80it/s]\n"
     ]
    },
    {
     "name": "stdout",
     "output_type": "stream",
     "text": [
      "Epoch 103 Loss : 360.3714599609375\n"
     ]
    },
    {
     "name": "stderr",
     "output_type": "stream",
     "text": [
      "100%|██████████| 1000/1000 [00:03<00:00, 323.27it/s]\n"
     ]
    },
    {
     "name": "stdout",
     "output_type": "stream",
     "text": [
      "Epoch 104 Loss : 359.3403015136719\n"
     ]
    },
    {
     "name": "stderr",
     "output_type": "stream",
     "text": [
      "100%|██████████| 1000/1000 [00:03<00:00, 323.66it/s]\n"
     ]
    },
    {
     "name": "stdout",
     "output_type": "stream",
     "text": [
      "Epoch 105 Loss : 359.7174072265625\n"
     ]
    },
    {
     "name": "stderr",
     "output_type": "stream",
     "text": [
      "100%|██████████| 1000/1000 [00:03<00:00, 329.49it/s]\n"
     ]
    },
    {
     "name": "stdout",
     "output_type": "stream",
     "text": [
      "Epoch 106 Loss : 357.7704162597656\n"
     ]
    },
    {
     "name": "stderr",
     "output_type": "stream",
     "text": [
      "100%|██████████| 1000/1000 [00:03<00:00, 325.29it/s]\n"
     ]
    },
    {
     "name": "stdout",
     "output_type": "stream",
     "text": [
      "Epoch 107 Loss : 358.90826416015625\n"
     ]
    },
    {
     "name": "stderr",
     "output_type": "stream",
     "text": [
      "100%|██████████| 1000/1000 [00:03<00:00, 329.64it/s]\n"
     ]
    },
    {
     "name": "stdout",
     "output_type": "stream",
     "text": [
      "Epoch 108 Loss : 360.5074157714844\n"
     ]
    },
    {
     "name": "stderr",
     "output_type": "stream",
     "text": [
      "100%|██████████| 1000/1000 [00:03<00:00, 320.27it/s]\n"
     ]
    },
    {
     "name": "stdout",
     "output_type": "stream",
     "text": [
      "Epoch 109 Loss : 357.9957580566406\n"
     ]
    },
    {
     "name": "stderr",
     "output_type": "stream",
     "text": [
      "100%|██████████| 1000/1000 [00:02<00:00, 355.53it/s]\n"
     ]
    },
    {
     "name": "stdout",
     "output_type": "stream",
     "text": [
      "Epoch 110 Loss : 357.5658874511719\n"
     ]
    },
    {
     "name": "stderr",
     "output_type": "stream",
     "text": [
      "100%|██████████| 1000/1000 [00:02<00:00, 366.77it/s]\n"
     ]
    },
    {
     "name": "stdout",
     "output_type": "stream",
     "text": [
      "Epoch 111 Loss : 357.92816162109375\n"
     ]
    },
    {
     "name": "stderr",
     "output_type": "stream",
     "text": [
      "100%|██████████| 1000/1000 [00:01<00:00, 607.63it/s]\n"
     ]
    },
    {
     "name": "stdout",
     "output_type": "stream",
     "text": [
      "Epoch 112 Loss : 356.4972229003906\n"
     ]
    },
    {
     "name": "stderr",
     "output_type": "stream",
     "text": [
      "100%|██████████| 1000/1000 [00:01<00:00, 512.91it/s]\n"
     ]
    },
    {
     "name": "stdout",
     "output_type": "stream",
     "text": [
      "Epoch 113 Loss : 355.8589172363281\n"
     ]
    },
    {
     "name": "stderr",
     "output_type": "stream",
     "text": [
      "100%|██████████| 1000/1000 [00:01<00:00, 632.08it/s]\n"
     ]
    },
    {
     "name": "stdout",
     "output_type": "stream",
     "text": [
      "Epoch 114 Loss : 354.7901916503906\n"
     ]
    },
    {
     "name": "stderr",
     "output_type": "stream",
     "text": [
      "100%|██████████| 1000/1000 [00:01<00:00, 571.77it/s]\n"
     ]
    },
    {
     "name": "stdout",
     "output_type": "stream",
     "text": [
      "Epoch 115 Loss : 354.07135009765625\n"
     ]
    },
    {
     "name": "stderr",
     "output_type": "stream",
     "text": [
      "100%|██████████| 1000/1000 [00:02<00:00, 485.92it/s]\n"
     ]
    },
    {
     "name": "stdout",
     "output_type": "stream",
     "text": [
      "Epoch 116 Loss : 355.71759033203125\n"
     ]
    },
    {
     "name": "stderr",
     "output_type": "stream",
     "text": [
      "100%|██████████| 1000/1000 [00:01<00:00, 524.26it/s]\n"
     ]
    },
    {
     "name": "stdout",
     "output_type": "stream",
     "text": [
      "Epoch 117 Loss : 355.35675048828125\n"
     ]
    },
    {
     "name": "stderr",
     "output_type": "stream",
     "text": [
      "100%|██████████| 1000/1000 [00:02<00:00, 495.28it/s]\n"
     ]
    },
    {
     "name": "stdout",
     "output_type": "stream",
     "text": [
      "Epoch 118 Loss : 352.3785705566406\n"
     ]
    },
    {
     "name": "stderr",
     "output_type": "stream",
     "text": [
      "100%|██████████| 1000/1000 [00:01<00:00, 587.73it/s]\n"
     ]
    },
    {
     "name": "stdout",
     "output_type": "stream",
     "text": [
      "Epoch 119 Loss : 353.5944519042969\n"
     ]
    },
    {
     "name": "stderr",
     "output_type": "stream",
     "text": [
      "100%|██████████| 1000/1000 [00:01<00:00, 577.67it/s]\n"
     ]
    },
    {
     "name": "stdout",
     "output_type": "stream",
     "text": [
      "Epoch 120 Loss : 356.0747375488281\n"
     ]
    },
    {
     "name": "stderr",
     "output_type": "stream",
     "text": [
      "100%|██████████| 1000/1000 [00:01<00:00, 552.15it/s]\n"
     ]
    },
    {
     "name": "stdout",
     "output_type": "stream",
     "text": [
      "Epoch 121 Loss : 352.95489501953125\n"
     ]
    },
    {
     "name": "stderr",
     "output_type": "stream",
     "text": [
      "100%|██████████| 1000/1000 [00:01<00:00, 599.87it/s]\n"
     ]
    },
    {
     "name": "stdout",
     "output_type": "stream",
     "text": [
      "Epoch 122 Loss : 351.8035888671875\n"
     ]
    },
    {
     "name": "stderr",
     "output_type": "stream",
     "text": [
      "100%|██████████| 1000/1000 [00:02<00:00, 370.93it/s]\n"
     ]
    },
    {
     "name": "stdout",
     "output_type": "stream",
     "text": [
      "Epoch 123 Loss : 355.34051513671875\n"
     ]
    },
    {
     "name": "stderr",
     "output_type": "stream",
     "text": [
      "100%|██████████| 1000/1000 [00:03<00:00, 302.82it/s]\n"
     ]
    },
    {
     "name": "stdout",
     "output_type": "stream",
     "text": [
      "Epoch 124 Loss : 351.555908203125\n"
     ]
    },
    {
     "name": "stderr",
     "output_type": "stream",
     "text": [
      "100%|██████████| 1000/1000 [00:03<00:00, 298.96it/s]\n"
     ]
    },
    {
     "name": "stdout",
     "output_type": "stream",
     "text": [
      "Epoch 125 Loss : 351.3033447265625\n"
     ]
    },
    {
     "name": "stderr",
     "output_type": "stream",
     "text": [
      "100%|██████████| 1000/1000 [00:03<00:00, 285.66it/s]\n"
     ]
    },
    {
     "name": "stdout",
     "output_type": "stream",
     "text": [
      "Epoch 126 Loss : 350.6630859375\n"
     ]
    },
    {
     "name": "stderr",
     "output_type": "stream",
     "text": [
      "100%|██████████| 1000/1000 [00:03<00:00, 293.96it/s]\n"
     ]
    },
    {
     "name": "stdout",
     "output_type": "stream",
     "text": [
      "Epoch 127 Loss : 351.3876647949219\n"
     ]
    },
    {
     "name": "stderr",
     "output_type": "stream",
     "text": [
      "100%|██████████| 1000/1000 [00:02<00:00, 336.58it/s]\n"
     ]
    },
    {
     "name": "stdout",
     "output_type": "stream",
     "text": [
      "Epoch 128 Loss : 348.4842224121094\n"
     ]
    },
    {
     "name": "stderr",
     "output_type": "stream",
     "text": [
      "100%|██████████| 1000/1000 [00:03<00:00, 329.01it/s]\n"
     ]
    },
    {
     "name": "stdout",
     "output_type": "stream",
     "text": [
      "Epoch 129 Loss : 348.6299743652344\n"
     ]
    },
    {
     "name": "stderr",
     "output_type": "stream",
     "text": [
      "100%|██████████| 1000/1000 [00:03<00:00, 325.86it/s]\n"
     ]
    },
    {
     "name": "stdout",
     "output_type": "stream",
     "text": [
      "Epoch 130 Loss : 350.23291015625\n"
     ]
    },
    {
     "name": "stderr",
     "output_type": "stream",
     "text": [
      "100%|██████████| 1000/1000 [00:03<00:00, 329.84it/s]\n"
     ]
    },
    {
     "name": "stdout",
     "output_type": "stream",
     "text": [
      "Epoch 131 Loss : 348.57745361328125\n"
     ]
    },
    {
     "name": "stderr",
     "output_type": "stream",
     "text": [
      "100%|██████████| 1000/1000 [00:03<00:00, 326.52it/s]\n"
     ]
    },
    {
     "name": "stdout",
     "output_type": "stream",
     "text": [
      "Epoch 132 Loss : 348.835205078125\n"
     ]
    },
    {
     "name": "stderr",
     "output_type": "stream",
     "text": [
      "100%|██████████| 1000/1000 [00:03<00:00, 305.25it/s]\n"
     ]
    },
    {
     "name": "stdout",
     "output_type": "stream",
     "text": [
      "Epoch 133 Loss : 348.47454833984375\n"
     ]
    },
    {
     "name": "stderr",
     "output_type": "stream",
     "text": [
      "100%|██████████| 1000/1000 [00:03<00:00, 322.71it/s]\n"
     ]
    },
    {
     "name": "stdout",
     "output_type": "stream",
     "text": [
      "Epoch 134 Loss : 348.469970703125\n"
     ]
    },
    {
     "name": "stderr",
     "output_type": "stream",
     "text": [
      "100%|██████████| 1000/1000 [00:03<00:00, 314.75it/s]\n"
     ]
    },
    {
     "name": "stdout",
     "output_type": "stream",
     "text": [
      "Epoch 135 Loss : 347.74920654296875\n"
     ]
    },
    {
     "name": "stderr",
     "output_type": "stream",
     "text": [
      "100%|██████████| 1000/1000 [00:03<00:00, 304.02it/s]\n"
     ]
    },
    {
     "name": "stdout",
     "output_type": "stream",
     "text": [
      "Epoch 136 Loss : 345.5845642089844\n"
     ]
    },
    {
     "name": "stderr",
     "output_type": "stream",
     "text": [
      "100%|██████████| 1000/1000 [00:03<00:00, 302.12it/s]\n"
     ]
    },
    {
     "name": "stdout",
     "output_type": "stream",
     "text": [
      "Epoch 137 Loss : 346.76025390625\n"
     ]
    },
    {
     "name": "stderr",
     "output_type": "stream",
     "text": [
      "100%|██████████| 1000/1000 [00:03<00:00, 304.88it/s]\n"
     ]
    },
    {
     "name": "stdout",
     "output_type": "stream",
     "text": [
      "Epoch 138 Loss : 345.513671875\n"
     ]
    },
    {
     "name": "stderr",
     "output_type": "stream",
     "text": [
      "100%|██████████| 1000/1000 [00:03<00:00, 298.13it/s]\n"
     ]
    },
    {
     "name": "stdout",
     "output_type": "stream",
     "text": [
      "Epoch 139 Loss : 347.2919921875\n"
     ]
    },
    {
     "name": "stderr",
     "output_type": "stream",
     "text": [
      "100%|██████████| 1000/1000 [00:03<00:00, 298.72it/s]\n"
     ]
    },
    {
     "name": "stdout",
     "output_type": "stream",
     "text": [
      "Epoch 140 Loss : 344.72186279296875\n"
     ]
    },
    {
     "name": "stderr",
     "output_type": "stream",
     "text": [
      "100%|██████████| 1000/1000 [00:03<00:00, 316.72it/s]\n"
     ]
    },
    {
     "name": "stdout",
     "output_type": "stream",
     "text": [
      "Epoch 141 Loss : 344.7816162109375\n"
     ]
    },
    {
     "name": "stderr",
     "output_type": "stream",
     "text": [
      "100%|██████████| 1000/1000 [00:01<00:00, 639.18it/s]\n"
     ]
    },
    {
     "name": "stdout",
     "output_type": "stream",
     "text": [
      "Epoch 142 Loss : 346.357177734375\n"
     ]
    },
    {
     "name": "stderr",
     "output_type": "stream",
     "text": [
      "100%|██████████| 1000/1000 [00:01<00:00, 733.65it/s]\n"
     ]
    },
    {
     "name": "stdout",
     "output_type": "stream",
     "text": [
      "Epoch 143 Loss : 344.185791015625\n"
     ]
    },
    {
     "name": "stderr",
     "output_type": "stream",
     "text": [
      "100%|██████████| 1000/1000 [00:01<00:00, 728.73it/s]\n"
     ]
    },
    {
     "name": "stdout",
     "output_type": "stream",
     "text": [
      "Epoch 144 Loss : 345.3167419433594\n"
     ]
    },
    {
     "name": "stderr",
     "output_type": "stream",
     "text": [
      "100%|██████████| 1000/1000 [00:01<00:00, 736.40it/s]\n"
     ]
    },
    {
     "name": "stdout",
     "output_type": "stream",
     "text": [
      "Epoch 145 Loss : 343.22357177734375\n"
     ]
    },
    {
     "name": "stderr",
     "output_type": "stream",
     "text": [
      "100%|██████████| 1000/1000 [00:01<00:00, 736.81it/s]\n"
     ]
    },
    {
     "name": "stdout",
     "output_type": "stream",
     "text": [
      "Epoch 146 Loss : 345.05133056640625\n"
     ]
    },
    {
     "name": "stderr",
     "output_type": "stream",
     "text": [
      "100%|██████████| 1000/1000 [00:01<00:00, 725.98it/s]\n"
     ]
    },
    {
     "name": "stdout",
     "output_type": "stream",
     "text": [
      "Epoch 147 Loss : 342.7781066894531\n"
     ]
    },
    {
     "name": "stderr",
     "output_type": "stream",
     "text": [
      "100%|██████████| 1000/1000 [00:01<00:00, 737.29it/s]\n"
     ]
    },
    {
     "name": "stdout",
     "output_type": "stream",
     "text": [
      "Epoch 148 Loss : 343.8202819824219\n"
     ]
    },
    {
     "name": "stderr",
     "output_type": "stream",
     "text": [
      "100%|██████████| 1000/1000 [00:01<00:00, 733.68it/s]\n"
     ]
    },
    {
     "name": "stdout",
     "output_type": "stream",
     "text": [
      "Epoch 149 Loss : 342.0102844238281\n"
     ]
    },
    {
     "name": "stderr",
     "output_type": "stream",
     "text": [
      "100%|██████████| 1000/1000 [00:01<00:00, 726.05it/s]\n"
     ]
    },
    {
     "name": "stdout",
     "output_type": "stream",
     "text": [
      "Epoch 150 Loss : 343.9418029785156\n"
     ]
    },
    {
     "name": "stderr",
     "output_type": "stream",
     "text": [
      "100%|██████████| 1000/1000 [00:01<00:00, 614.52it/s]\n"
     ]
    },
    {
     "name": "stdout",
     "output_type": "stream",
     "text": [
      "Epoch 151 Loss : 341.6545715332031\n"
     ]
    },
    {
     "name": "stderr",
     "output_type": "stream",
     "text": [
      "100%|██████████| 1000/1000 [00:01<00:00, 610.19it/s]\n"
     ]
    },
    {
     "name": "stdout",
     "output_type": "stream",
     "text": [
      "Epoch 152 Loss : 342.10321044921875\n"
     ]
    },
    {
     "name": "stderr",
     "output_type": "stream",
     "text": [
      "100%|██████████| 1000/1000 [00:01<00:00, 605.64it/s]\n"
     ]
    },
    {
     "name": "stdout",
     "output_type": "stream",
     "text": [
      "Epoch 153 Loss : 342.3199157714844\n"
     ]
    },
    {
     "name": "stderr",
     "output_type": "stream",
     "text": [
      "100%|██████████| 1000/1000 [00:01<00:00, 533.63it/s]\n"
     ]
    },
    {
     "name": "stdout",
     "output_type": "stream",
     "text": [
      "Epoch 154 Loss : 342.0458068847656\n"
     ]
    },
    {
     "name": "stderr",
     "output_type": "stream",
     "text": [
      "100%|██████████| 1000/1000 [00:01<00:00, 566.39it/s]\n"
     ]
    },
    {
     "name": "stdout",
     "output_type": "stream",
     "text": [
      "Epoch 155 Loss : 341.8366394042969\n"
     ]
    },
    {
     "name": "stderr",
     "output_type": "stream",
     "text": [
      "100%|██████████| 1000/1000 [00:01<00:00, 547.04it/s]\n"
     ]
    },
    {
     "name": "stdout",
     "output_type": "stream",
     "text": [
      "Epoch 156 Loss : 341.1822509765625\n"
     ]
    },
    {
     "name": "stderr",
     "output_type": "stream",
     "text": [
      "100%|██████████| 1000/1000 [00:01<00:00, 540.02it/s]\n"
     ]
    },
    {
     "name": "stdout",
     "output_type": "stream",
     "text": [
      "Epoch 157 Loss : 339.6506042480469\n"
     ]
    },
    {
     "name": "stderr",
     "output_type": "stream",
     "text": [
      "100%|██████████| 1000/1000 [00:01<00:00, 551.25it/s]\n"
     ]
    },
    {
     "name": "stdout",
     "output_type": "stream",
     "text": [
      "Epoch 158 Loss : 341.7958679199219\n"
     ]
    },
    {
     "name": "stderr",
     "output_type": "stream",
     "text": [
      "100%|██████████| 1000/1000 [00:01<00:00, 547.33it/s]\n"
     ]
    },
    {
     "name": "stdout",
     "output_type": "stream",
     "text": [
      "Epoch 159 Loss : 339.5077819824219\n"
     ]
    },
    {
     "name": "stderr",
     "output_type": "stream",
     "text": [
      "100%|██████████| 1000/1000 [00:01<00:00, 556.07it/s]\n"
     ]
    },
    {
     "name": "stdout",
     "output_type": "stream",
     "text": [
      "Epoch 160 Loss : 340.3168029785156\n"
     ]
    },
    {
     "name": "stderr",
     "output_type": "stream",
     "text": [
      "100%|██████████| 1000/1000 [00:01<00:00, 566.12it/s]\n"
     ]
    },
    {
     "name": "stdout",
     "output_type": "stream",
     "text": [
      "Epoch 161 Loss : 339.5159606933594\n"
     ]
    },
    {
     "name": "stderr",
     "output_type": "stream",
     "text": [
      "100%|██████████| 1000/1000 [00:02<00:00, 475.30it/s]\n"
     ]
    },
    {
     "name": "stdout",
     "output_type": "stream",
     "text": [
      "Epoch 162 Loss : 338.9254150390625\n"
     ]
    },
    {
     "name": "stderr",
     "output_type": "stream",
     "text": [
      "100%|██████████| 1000/1000 [00:02<00:00, 414.98it/s]\n"
     ]
    },
    {
     "name": "stdout",
     "output_type": "stream",
     "text": [
      "Epoch 163 Loss : 340.95721435546875\n"
     ]
    },
    {
     "name": "stderr",
     "output_type": "stream",
     "text": [
      "100%|██████████| 1000/1000 [00:02<00:00, 421.73it/s]\n"
     ]
    },
    {
     "name": "stdout",
     "output_type": "stream",
     "text": [
      "Epoch 164 Loss : 343.0018615722656\n"
     ]
    },
    {
     "name": "stderr",
     "output_type": "stream",
     "text": [
      "100%|██████████| 1000/1000 [00:02<00:00, 438.79it/s]\n"
     ]
    },
    {
     "name": "stdout",
     "output_type": "stream",
     "text": [
      "Epoch 165 Loss : 339.9163513183594\n"
     ]
    },
    {
     "name": "stderr",
     "output_type": "stream",
     "text": [
      "100%|██████████| 1000/1000 [00:02<00:00, 416.59it/s]\n"
     ]
    },
    {
     "name": "stdout",
     "output_type": "stream",
     "text": [
      "Epoch 166 Loss : 338.082763671875\n"
     ]
    },
    {
     "name": "stderr",
     "output_type": "stream",
     "text": [
      "100%|██████████| 1000/1000 [00:02<00:00, 436.32it/s]\n"
     ]
    },
    {
     "name": "stdout",
     "output_type": "stream",
     "text": [
      "Epoch 167 Loss : 339.6259765625\n"
     ]
    },
    {
     "name": "stderr",
     "output_type": "stream",
     "text": [
      "100%|██████████| 1000/1000 [00:02<00:00, 421.77it/s]\n"
     ]
    },
    {
     "name": "stdout",
     "output_type": "stream",
     "text": [
      "Epoch 168 Loss : 338.0301208496094\n"
     ]
    },
    {
     "name": "stderr",
     "output_type": "stream",
     "text": [
      "100%|██████████| 1000/1000 [00:02<00:00, 437.78it/s]\n"
     ]
    },
    {
     "name": "stdout",
     "output_type": "stream",
     "text": [
      "Epoch 169 Loss : 337.7184143066406\n"
     ]
    },
    {
     "name": "stderr",
     "output_type": "stream",
     "text": [
      "100%|██████████| 1000/1000 [00:02<00:00, 404.10it/s]\n"
     ]
    },
    {
     "name": "stdout",
     "output_type": "stream",
     "text": [
      "Epoch 170 Loss : 341.4230041503906\n"
     ]
    },
    {
     "name": "stderr",
     "output_type": "stream",
     "text": [
      "100%|██████████| 1000/1000 [00:02<00:00, 454.99it/s]\n"
     ]
    },
    {
     "name": "stdout",
     "output_type": "stream",
     "text": [
      "Epoch 171 Loss : 336.8434143066406\n"
     ]
    },
    {
     "name": "stderr",
     "output_type": "stream",
     "text": [
      "100%|██████████| 1000/1000 [00:02<00:00, 404.37it/s]\n"
     ]
    },
    {
     "name": "stdout",
     "output_type": "stream",
     "text": [
      "Epoch 172 Loss : 337.71826171875\n"
     ]
    },
    {
     "name": "stderr",
     "output_type": "stream",
     "text": [
      "100%|██████████| 1000/1000 [00:02<00:00, 494.73it/s]\n"
     ]
    },
    {
     "name": "stdout",
     "output_type": "stream",
     "text": [
      "Epoch 173 Loss : 339.4927062988281\n"
     ]
    },
    {
     "name": "stderr",
     "output_type": "stream",
     "text": [
      "100%|██████████| 1000/1000 [00:02<00:00, 404.21it/s]\n"
     ]
    },
    {
     "name": "stdout",
     "output_type": "stream",
     "text": [
      "Epoch 174 Loss : 336.5550537109375\n"
     ]
    },
    {
     "name": "stderr",
     "output_type": "stream",
     "text": [
      "100%|██████████| 1000/1000 [00:02<00:00, 425.72it/s]\n"
     ]
    },
    {
     "name": "stdout",
     "output_type": "stream",
     "text": [
      "Epoch 175 Loss : 336.0972900390625\n"
     ]
    },
    {
     "name": "stderr",
     "output_type": "stream",
     "text": [
      "100%|██████████| 1000/1000 [00:02<00:00, 392.98it/s]\n"
     ]
    },
    {
     "name": "stdout",
     "output_type": "stream",
     "text": [
      "Epoch 176 Loss : 336.80224609375\n"
     ]
    },
    {
     "name": "stderr",
     "output_type": "stream",
     "text": [
      "100%|██████████| 1000/1000 [00:01<00:00, 535.16it/s]\n"
     ]
    },
    {
     "name": "stdout",
     "output_type": "stream",
     "text": [
      "Epoch 177 Loss : 336.45977783203125\n"
     ]
    },
    {
     "name": "stderr",
     "output_type": "stream",
     "text": [
      "100%|██████████| 1000/1000 [00:01<00:00, 562.50it/s]\n"
     ]
    },
    {
     "name": "stdout",
     "output_type": "stream",
     "text": [
      "Epoch 178 Loss : 337.1346435546875\n"
     ]
    },
    {
     "name": "stderr",
     "output_type": "stream",
     "text": [
      "100%|██████████| 1000/1000 [00:01<00:00, 535.29it/s]\n"
     ]
    },
    {
     "name": "stdout",
     "output_type": "stream",
     "text": [
      "Epoch 179 Loss : 334.1310729980469\n"
     ]
    },
    {
     "name": "stderr",
     "output_type": "stream",
     "text": [
      "100%|██████████| 1000/1000 [00:01<00:00, 554.11it/s]\n"
     ]
    },
    {
     "name": "stdout",
     "output_type": "stream",
     "text": [
      "Epoch 180 Loss : 336.21038818359375\n"
     ]
    },
    {
     "name": "stderr",
     "output_type": "stream",
     "text": [
      "100%|██████████| 1000/1000 [00:01<00:00, 555.93it/s]\n"
     ]
    },
    {
     "name": "stdout",
     "output_type": "stream",
     "text": [
      "Epoch 181 Loss : 333.8150939941406\n"
     ]
    },
    {
     "name": "stderr",
     "output_type": "stream",
     "text": [
      "100%|██████████| 1000/1000 [00:01<00:00, 536.96it/s]\n"
     ]
    },
    {
     "name": "stdout",
     "output_type": "stream",
     "text": [
      "Epoch 182 Loss : 335.2182922363281\n"
     ]
    },
    {
     "name": "stderr",
     "output_type": "stream",
     "text": [
      "100%|██████████| 1000/1000 [00:01<00:00, 570.58it/s]\n"
     ]
    },
    {
     "name": "stdout",
     "output_type": "stream",
     "text": [
      "Epoch 183 Loss : 334.1748962402344\n"
     ]
    },
    {
     "name": "stderr",
     "output_type": "stream",
     "text": [
      "100%|██████████| 1000/1000 [00:01<00:00, 537.38it/s]\n"
     ]
    },
    {
     "name": "stdout",
     "output_type": "stream",
     "text": [
      "Epoch 184 Loss : 336.4813537597656\n"
     ]
    },
    {
     "name": "stderr",
     "output_type": "stream",
     "text": [
      "100%|██████████| 1000/1000 [00:01<00:00, 550.95it/s]\n"
     ]
    },
    {
     "name": "stdout",
     "output_type": "stream",
     "text": [
      "Epoch 185 Loss : 335.1922302246094\n"
     ]
    },
    {
     "name": "stderr",
     "output_type": "stream",
     "text": [
      "100%|██████████| 1000/1000 [00:01<00:00, 566.48it/s]\n"
     ]
    },
    {
     "name": "stdout",
     "output_type": "stream",
     "text": [
      "Epoch 186 Loss : 332.68084716796875\n"
     ]
    },
    {
     "name": "stderr",
     "output_type": "stream",
     "text": [
      "100%|██████████| 1000/1000 [00:01<00:00, 539.91it/s]\n"
     ]
    },
    {
     "name": "stdout",
     "output_type": "stream",
     "text": [
      "Epoch 187 Loss : 333.7200927734375\n"
     ]
    },
    {
     "name": "stderr",
     "output_type": "stream",
     "text": [
      "100%|██████████| 1000/1000 [00:01<00:00, 561.06it/s]\n"
     ]
    },
    {
     "name": "stdout",
     "output_type": "stream",
     "text": [
      "Epoch 188 Loss : 334.064697265625\n"
     ]
    },
    {
     "name": "stderr",
     "output_type": "stream",
     "text": [
      "100%|██████████| 1000/1000 [00:01<00:00, 564.11it/s]\n"
     ]
    },
    {
     "name": "stdout",
     "output_type": "stream",
     "text": [
      "Epoch 189 Loss : 333.6507873535156\n"
     ]
    },
    {
     "name": "stderr",
     "output_type": "stream",
     "text": [
      "100%|██████████| 1000/1000 [00:01<00:00, 548.24it/s]\n"
     ]
    },
    {
     "name": "stdout",
     "output_type": "stream",
     "text": [
      "Epoch 190 Loss : 332.76055908203125\n"
     ]
    },
    {
     "name": "stderr",
     "output_type": "stream",
     "text": [
      "100%|██████████| 1000/1000 [00:01<00:00, 566.90it/s]\n"
     ]
    },
    {
     "name": "stdout",
     "output_type": "stream",
     "text": [
      "Epoch 191 Loss : 332.3431701660156\n"
     ]
    },
    {
     "name": "stderr",
     "output_type": "stream",
     "text": [
      "100%|██████████| 1000/1000 [00:01<00:00, 555.76it/s]\n"
     ]
    },
    {
     "name": "stdout",
     "output_type": "stream",
     "text": [
      "Epoch 192 Loss : 332.2544860839844\n"
     ]
    },
    {
     "name": "stderr",
     "output_type": "stream",
     "text": [
      "100%|██████████| 1000/1000 [00:01<00:00, 538.41it/s]\n"
     ]
    },
    {
     "name": "stdout",
     "output_type": "stream",
     "text": [
      "Epoch 193 Loss : 331.24114990234375\n"
     ]
    },
    {
     "name": "stderr",
     "output_type": "stream",
     "text": [
      "100%|██████████| 1000/1000 [00:01<00:00, 559.64it/s]\n"
     ]
    },
    {
     "name": "stdout",
     "output_type": "stream",
     "text": [
      "Epoch 194 Loss : 332.44622802734375\n"
     ]
    },
    {
     "name": "stderr",
     "output_type": "stream",
     "text": [
      "100%|██████████| 1000/1000 [00:01<00:00, 532.89it/s]\n"
     ]
    },
    {
     "name": "stdout",
     "output_type": "stream",
     "text": [
      "Epoch 195 Loss : 333.05291748046875\n"
     ]
    },
    {
     "name": "stderr",
     "output_type": "stream",
     "text": [
      "100%|██████████| 1000/1000 [00:01<00:00, 563.38it/s]\n"
     ]
    },
    {
     "name": "stdout",
     "output_type": "stream",
     "text": [
      "Epoch 196 Loss : 331.13720703125\n"
     ]
    },
    {
     "name": "stderr",
     "output_type": "stream",
     "text": [
      "100%|██████████| 1000/1000 [00:01<00:00, 567.18it/s]\n"
     ]
    },
    {
     "name": "stdout",
     "output_type": "stream",
     "text": [
      "Epoch 197 Loss : 335.8547668457031\n"
     ]
    },
    {
     "name": "stderr",
     "output_type": "stream",
     "text": [
      "100%|██████████| 1000/1000 [00:01<00:00, 545.75it/s]\n"
     ]
    },
    {
     "name": "stdout",
     "output_type": "stream",
     "text": [
      "Epoch 198 Loss : 326.9023742675781\n"
     ]
    },
    {
     "name": "stderr",
     "output_type": "stream",
     "text": [
      "100%|██████████| 1000/1000 [00:01<00:00, 554.67it/s]\n"
     ]
    },
    {
     "name": "stdout",
     "output_type": "stream",
     "text": [
      "Epoch 199 Loss : 329.2999572753906\n"
     ]
    },
    {
     "name": "stderr",
     "output_type": "stream",
     "text": [
      "100%|██████████| 1000/1000 [00:01<00:00, 570.66it/s]\n"
     ]
    },
    {
     "name": "stdout",
     "output_type": "stream",
     "text": [
      "Epoch 200 Loss : 330.7115783691406\n"
     ]
    },
    {
     "name": "stderr",
     "output_type": "stream",
     "text": [
      "100%|██████████| 1000/1000 [00:01<00:00, 539.15it/s]\n"
     ]
    },
    {
     "name": "stdout",
     "output_type": "stream",
     "text": [
      "Epoch 201 Loss : 334.4177551269531\n"
     ]
    },
    {
     "name": "stderr",
     "output_type": "stream",
     "text": [
      "100%|██████████| 1000/1000 [00:01<00:00, 553.93it/s]\n"
     ]
    },
    {
     "name": "stdout",
     "output_type": "stream",
     "text": [
      "Epoch 202 Loss : 332.9892883300781\n"
     ]
    },
    {
     "name": "stderr",
     "output_type": "stream",
     "text": [
      "100%|██████████| 1000/1000 [00:01<00:00, 556.85it/s]\n"
     ]
    },
    {
     "name": "stdout",
     "output_type": "stream",
     "text": [
      "Epoch 203 Loss : 331.5378112792969\n"
     ]
    },
    {
     "name": "stderr",
     "output_type": "stream",
     "text": [
      "100%|██████████| 1000/1000 [00:01<00:00, 549.75it/s]\n"
     ]
    },
    {
     "name": "stdout",
     "output_type": "stream",
     "text": [
      "Epoch 204 Loss : 331.7177429199219\n"
     ]
    },
    {
     "name": "stderr",
     "output_type": "stream",
     "text": [
      "100%|██████████| 1000/1000 [00:01<00:00, 559.20it/s]\n"
     ]
    },
    {
     "name": "stdout",
     "output_type": "stream",
     "text": [
      "Epoch 205 Loss : 333.0065612792969\n"
     ]
    },
    {
     "name": "stderr",
     "output_type": "stream",
     "text": [
      "100%|██████████| 1000/1000 [00:01<00:00, 534.07it/s]\n"
     ]
    },
    {
     "name": "stdout",
     "output_type": "stream",
     "text": [
      "Epoch 206 Loss : 334.0119934082031\n"
     ]
    },
    {
     "name": "stderr",
     "output_type": "stream",
     "text": [
      "100%|██████████| 1000/1000 [00:01<00:00, 542.34it/s]\n"
     ]
    },
    {
     "name": "stdout",
     "output_type": "stream",
     "text": [
      "Epoch 207 Loss : 333.3288269042969\n"
     ]
    },
    {
     "name": "stderr",
     "output_type": "stream",
     "text": [
      "100%|██████████| 1000/1000 [00:01<00:00, 506.76it/s]\n"
     ]
    },
    {
     "name": "stdout",
     "output_type": "stream",
     "text": [
      "Epoch 208 Loss : 334.3327331542969\n"
     ]
    },
    {
     "name": "stderr",
     "output_type": "stream",
     "text": [
      "100%|██████████| 1000/1000 [00:02<00:00, 474.44it/s]\n"
     ]
    },
    {
     "name": "stdout",
     "output_type": "stream",
     "text": [
      "Epoch 209 Loss : 332.2475280761719\n"
     ]
    },
    {
     "name": "stderr",
     "output_type": "stream",
     "text": [
      "100%|██████████| 1000/1000 [00:01<00:00, 539.83it/s]\n"
     ]
    },
    {
     "name": "stdout",
     "output_type": "stream",
     "text": [
      "Epoch 210 Loss : 331.7131042480469\n"
     ]
    },
    {
     "name": "stderr",
     "output_type": "stream",
     "text": [
      "100%|██████████| 1000/1000 [00:01<00:00, 516.84it/s]\n"
     ]
    },
    {
     "name": "stdout",
     "output_type": "stream",
     "text": [
      "Epoch 211 Loss : 332.4542236328125\n"
     ]
    },
    {
     "name": "stderr",
     "output_type": "stream",
     "text": [
      "100%|██████████| 1000/1000 [00:01<00:00, 541.10it/s]\n"
     ]
    },
    {
     "name": "stdout",
     "output_type": "stream",
     "text": [
      "Epoch 212 Loss : 332.5484313964844\n"
     ]
    },
    {
     "name": "stderr",
     "output_type": "stream",
     "text": [
      "100%|██████████| 1000/1000 [00:01<00:00, 550.11it/s]\n"
     ]
    },
    {
     "name": "stdout",
     "output_type": "stream",
     "text": [
      "Epoch 213 Loss : 331.4737548828125\n"
     ]
    },
    {
     "name": "stderr",
     "output_type": "stream",
     "text": [
      "100%|██████████| 1000/1000 [00:01<00:00, 534.84it/s]\n"
     ]
    },
    {
     "name": "stdout",
     "output_type": "stream",
     "text": [
      "Epoch 214 Loss : 331.3094787597656\n"
     ]
    },
    {
     "name": "stderr",
     "output_type": "stream",
     "text": [
      "100%|██████████| 1000/1000 [00:01<00:00, 525.47it/s]\n"
     ]
    },
    {
     "name": "stdout",
     "output_type": "stream",
     "text": [
      "Epoch 215 Loss : 330.1241455078125\n"
     ]
    },
    {
     "name": "stderr",
     "output_type": "stream",
     "text": [
      "100%|██████████| 1000/1000 [00:01<00:00, 528.17it/s]\n"
     ]
    },
    {
     "name": "stdout",
     "output_type": "stream",
     "text": [
      "Epoch 216 Loss : 330.64532470703125\n"
     ]
    },
    {
     "name": "stderr",
     "output_type": "stream",
     "text": [
      "100%|██████████| 1000/1000 [00:01<00:00, 515.32it/s]\n"
     ]
    },
    {
     "name": "stdout",
     "output_type": "stream",
     "text": [
      "Epoch 217 Loss : 330.3475646972656\n"
     ]
    },
    {
     "name": "stderr",
     "output_type": "stream",
     "text": [
      "100%|██████████| 1000/1000 [00:01<00:00, 557.32it/s]\n"
     ]
    },
    {
     "name": "stdout",
     "output_type": "stream",
     "text": [
      "Epoch 218 Loss : 329.593994140625\n"
     ]
    },
    {
     "name": "stderr",
     "output_type": "stream",
     "text": [
      "100%|██████████| 1000/1000 [00:01<00:00, 531.93it/s]\n"
     ]
    },
    {
     "name": "stdout",
     "output_type": "stream",
     "text": [
      "Epoch 219 Loss : 328.0642395019531\n"
     ]
    },
    {
     "name": "stderr",
     "output_type": "stream",
     "text": [
      "100%|██████████| 1000/1000 [00:01<00:00, 522.09it/s]\n"
     ]
    },
    {
     "name": "stdout",
     "output_type": "stream",
     "text": [
      "Epoch 220 Loss : 328.1094665527344\n"
     ]
    },
    {
     "name": "stderr",
     "output_type": "stream",
     "text": [
      "100%|██████████| 1000/1000 [00:01<00:00, 538.27it/s]\n"
     ]
    },
    {
     "name": "stdout",
     "output_type": "stream",
     "text": [
      "Epoch 221 Loss : 329.8410949707031\n"
     ]
    },
    {
     "name": "stderr",
     "output_type": "stream",
     "text": [
      "100%|██████████| 1000/1000 [00:01<00:00, 554.50it/s]\n"
     ]
    },
    {
     "name": "stdout",
     "output_type": "stream",
     "text": [
      "Epoch 222 Loss : 328.236572265625\n"
     ]
    },
    {
     "name": "stderr",
     "output_type": "stream",
     "text": [
      "100%|██████████| 1000/1000 [00:01<00:00, 650.04it/s]\n"
     ]
    },
    {
     "name": "stdout",
     "output_type": "stream",
     "text": [
      "Epoch 223 Loss : 327.7445068359375\n"
     ]
    },
    {
     "name": "stderr",
     "output_type": "stream",
     "text": [
      "100%|██████████| 1000/1000 [00:01<00:00, 696.41it/s]\n"
     ]
    },
    {
     "name": "stdout",
     "output_type": "stream",
     "text": [
      "Epoch 224 Loss : 327.47125244140625\n"
     ]
    },
    {
     "name": "stderr",
     "output_type": "stream",
     "text": [
      "100%|██████████| 1000/1000 [00:01<00:00, 564.98it/s]\n"
     ]
    },
    {
     "name": "stdout",
     "output_type": "stream",
     "text": [
      "Epoch 225 Loss : 330.2992858886719\n"
     ]
    },
    {
     "name": "stderr",
     "output_type": "stream",
     "text": [
      "100%|██████████| 1000/1000 [00:01<00:00, 643.32it/s]\n"
     ]
    },
    {
     "name": "stdout",
     "output_type": "stream",
     "text": [
      "Epoch 226 Loss : 327.00714111328125\n"
     ]
    },
    {
     "name": "stderr",
     "output_type": "stream",
     "text": [
      "100%|██████████| 1000/1000 [00:01<00:00, 661.58it/s]\n"
     ]
    },
    {
     "name": "stdout",
     "output_type": "stream",
     "text": [
      "Epoch 227 Loss : 329.65802001953125\n"
     ]
    },
    {
     "name": "stderr",
     "output_type": "stream",
     "text": [
      "100%|██████████| 1000/1000 [00:01<00:00, 577.36it/s]\n"
     ]
    },
    {
     "name": "stdout",
     "output_type": "stream",
     "text": [
      "Epoch 228 Loss : 327.4639892578125\n"
     ]
    },
    {
     "name": "stderr",
     "output_type": "stream",
     "text": [
      "100%|██████████| 1000/1000 [00:01<00:00, 551.60it/s]\n"
     ]
    },
    {
     "name": "stdout",
     "output_type": "stream",
     "text": [
      "Epoch 229 Loss : 327.6708984375\n"
     ]
    },
    {
     "name": "stderr",
     "output_type": "stream",
     "text": [
      "100%|██████████| 1000/1000 [00:01<00:00, 571.57it/s]\n"
     ]
    },
    {
     "name": "stdout",
     "output_type": "stream",
     "text": [
      "Epoch 230 Loss : 325.90740966796875\n"
     ]
    },
    {
     "name": "stderr",
     "output_type": "stream",
     "text": [
      "100%|██████████| 1000/1000 [00:01<00:00, 530.01it/s]\n"
     ]
    },
    {
     "name": "stdout",
     "output_type": "stream",
     "text": [
      "Epoch 231 Loss : 328.9731750488281\n"
     ]
    },
    {
     "name": "stderr",
     "output_type": "stream",
     "text": [
      "100%|██████████| 1000/1000 [00:01<00:00, 602.91it/s]\n"
     ]
    },
    {
     "name": "stdout",
     "output_type": "stream",
     "text": [
      "Epoch 232 Loss : 325.96917724609375\n"
     ]
    },
    {
     "name": "stderr",
     "output_type": "stream",
     "text": [
      "100%|██████████| 1000/1000 [00:01<00:00, 602.60it/s]\n"
     ]
    },
    {
     "name": "stdout",
     "output_type": "stream",
     "text": [
      "Epoch 233 Loss : 328.5848083496094\n"
     ]
    },
    {
     "name": "stderr",
     "output_type": "stream",
     "text": [
      "100%|██████████| 1000/1000 [00:01<00:00, 539.43it/s]\n"
     ]
    },
    {
     "name": "stdout",
     "output_type": "stream",
     "text": [
      "Epoch 234 Loss : 326.2268371582031\n"
     ]
    },
    {
     "name": "stderr",
     "output_type": "stream",
     "text": [
      "100%|██████████| 1000/1000 [00:01<00:00, 612.75it/s]\n"
     ]
    },
    {
     "name": "stdout",
     "output_type": "stream",
     "text": [
      "Epoch 235 Loss : 327.62579345703125\n"
     ]
    },
    {
     "name": "stderr",
     "output_type": "stream",
     "text": [
      "100%|██████████| 1000/1000 [00:01<00:00, 638.71it/s]\n"
     ]
    },
    {
     "name": "stdout",
     "output_type": "stream",
     "text": [
      "Epoch 236 Loss : 326.61004638671875\n"
     ]
    },
    {
     "name": "stderr",
     "output_type": "stream",
     "text": [
      "100%|██████████| 1000/1000 [00:01<00:00, 532.62it/s]\n"
     ]
    },
    {
     "name": "stdout",
     "output_type": "stream",
     "text": [
      "Epoch 237 Loss : 326.6089782714844\n"
     ]
    },
    {
     "name": "stderr",
     "output_type": "stream",
     "text": [
      "100%|██████████| 1000/1000 [00:01<00:00, 617.40it/s]\n"
     ]
    },
    {
     "name": "stdout",
     "output_type": "stream",
     "text": [
      "Epoch 238 Loss : 328.46026611328125\n"
     ]
    },
    {
     "name": "stderr",
     "output_type": "stream",
     "text": [
      "100%|██████████| 1000/1000 [00:01<00:00, 629.33it/s]\n"
     ]
    },
    {
     "name": "stdout",
     "output_type": "stream",
     "text": [
      "Epoch 239 Loss : 325.7484130859375\n"
     ]
    },
    {
     "name": "stderr",
     "output_type": "stream",
     "text": [
      "100%|██████████| 1000/1000 [00:01<00:00, 562.14it/s]\n"
     ]
    },
    {
     "name": "stdout",
     "output_type": "stream",
     "text": [
      "Epoch 240 Loss : 325.39764404296875\n"
     ]
    },
    {
     "name": "stderr",
     "output_type": "stream",
     "text": [
      "100%|██████████| 1000/1000 [00:01<00:00, 592.97it/s]\n"
     ]
    },
    {
     "name": "stdout",
     "output_type": "stream",
     "text": [
      "Epoch 241 Loss : 325.5238037109375\n"
     ]
    },
    {
     "name": "stderr",
     "output_type": "stream",
     "text": [
      "100%|██████████| 1000/1000 [00:01<00:00, 596.31it/s]\n"
     ]
    },
    {
     "name": "stdout",
     "output_type": "stream",
     "text": [
      "Epoch 242 Loss : 326.7290344238281\n"
     ]
    },
    {
     "name": "stderr",
     "output_type": "stream",
     "text": [
      "100%|██████████| 1000/1000 [00:01<00:00, 548.86it/s]\n"
     ]
    },
    {
     "name": "stdout",
     "output_type": "stream",
     "text": [
      "Epoch 243 Loss : 324.955810546875\n"
     ]
    },
    {
     "name": "stderr",
     "output_type": "stream",
     "text": [
      "100%|██████████| 1000/1000 [00:01<00:00, 566.22it/s]\n"
     ]
    },
    {
     "name": "stdout",
     "output_type": "stream",
     "text": [
      "Epoch 244 Loss : 327.1563415527344\n"
     ]
    },
    {
     "name": "stderr",
     "output_type": "stream",
     "text": [
      "100%|██████████| 1000/1000 [00:01<00:00, 581.56it/s]\n"
     ]
    },
    {
     "name": "stdout",
     "output_type": "stream",
     "text": [
      "Epoch 245 Loss : 325.34124755859375\n"
     ]
    },
    {
     "name": "stderr",
     "output_type": "stream",
     "text": [
      "100%|██████████| 1000/1000 [00:01<00:00, 594.34it/s]\n"
     ]
    },
    {
     "name": "stdout",
     "output_type": "stream",
     "text": [
      "Epoch 246 Loss : 325.1294860839844\n"
     ]
    },
    {
     "name": "stderr",
     "output_type": "stream",
     "text": [
      "100%|██████████| 1000/1000 [00:01<00:00, 570.81it/s]\n"
     ]
    },
    {
     "name": "stdout",
     "output_type": "stream",
     "text": [
      "Epoch 247 Loss : 325.7038879394531\n"
     ]
    },
    {
     "name": "stderr",
     "output_type": "stream",
     "text": [
      "100%|██████████| 1000/1000 [00:01<00:00, 547.18it/s]\n"
     ]
    },
    {
     "name": "stdout",
     "output_type": "stream",
     "text": [
      "Epoch 248 Loss : 326.5422668457031\n"
     ]
    },
    {
     "name": "stderr",
     "output_type": "stream",
     "text": [
      "100%|██████████| 1000/1000 [00:02<00:00, 498.98it/s]\n"
     ]
    },
    {
     "name": "stdout",
     "output_type": "stream",
     "text": [
      "Epoch 249 Loss : 323.1741943359375\n"
     ]
    },
    {
     "name": "stderr",
     "output_type": "stream",
     "text": [
      "100%|██████████| 1000/1000 [00:02<00:00, 497.99it/s]\n"
     ]
    },
    {
     "name": "stdout",
     "output_type": "stream",
     "text": [
      "Epoch 250 Loss : 326.8199768066406\n"
     ]
    },
    {
     "name": "stderr",
     "output_type": "stream",
     "text": [
      "100%|██████████| 1000/1000 [00:01<00:00, 501.55it/s]\n"
     ]
    },
    {
     "name": "stdout",
     "output_type": "stream",
     "text": [
      "Epoch 251 Loss : 323.62188720703125\n"
     ]
    },
    {
     "name": "stderr",
     "output_type": "stream",
     "text": [
      "100%|██████████| 1000/1000 [00:01<00:00, 520.89it/s]\n"
     ]
    },
    {
     "name": "stdout",
     "output_type": "stream",
     "text": [
      "Epoch 252 Loss : 326.8323974609375\n"
     ]
    },
    {
     "name": "stderr",
     "output_type": "stream",
     "text": [
      "100%|██████████| 1000/1000 [00:01<00:00, 534.57it/s]\n"
     ]
    },
    {
     "name": "stdout",
     "output_type": "stream",
     "text": [
      "Epoch 253 Loss : 324.40643310546875\n"
     ]
    },
    {
     "name": "stderr",
     "output_type": "stream",
     "text": [
      "100%|██████████| 1000/1000 [00:01<00:00, 525.17it/s]\n"
     ]
    },
    {
     "name": "stdout",
     "output_type": "stream",
     "text": [
      "Epoch 254 Loss : 326.81219482421875\n"
     ]
    },
    {
     "name": "stderr",
     "output_type": "stream",
     "text": [
      "100%|██████████| 1000/1000 [00:01<00:00, 526.71it/s]\n"
     ]
    },
    {
     "name": "stdout",
     "output_type": "stream",
     "text": [
      "Epoch 255 Loss : 322.87506103515625\n"
     ]
    },
    {
     "name": "stderr",
     "output_type": "stream",
     "text": [
      "100%|██████████| 1000/1000 [00:01<00:00, 540.34it/s]\n"
     ]
    },
    {
     "name": "stdout",
     "output_type": "stream",
     "text": [
      "Epoch 256 Loss : 324.90496826171875\n"
     ]
    },
    {
     "name": "stderr",
     "output_type": "stream",
     "text": [
      "100%|██████████| 1000/1000 [00:01<00:00, 542.06it/s]\n"
     ]
    },
    {
     "name": "stdout",
     "output_type": "stream",
     "text": [
      "Epoch 257 Loss : 325.2728576660156\n"
     ]
    },
    {
     "name": "stderr",
     "output_type": "stream",
     "text": [
      "100%|██████████| 1000/1000 [00:01<00:00, 575.38it/s]\n"
     ]
    },
    {
     "name": "stdout",
     "output_type": "stream",
     "text": [
      "Epoch 258 Loss : 324.9985046386719\n"
     ]
    },
    {
     "name": "stderr",
     "output_type": "stream",
     "text": [
      "100%|██████████| 1000/1000 [00:01<00:00, 537.50it/s]\n"
     ]
    },
    {
     "name": "stdout",
     "output_type": "stream",
     "text": [
      "Epoch 259 Loss : 326.3872985839844\n"
     ]
    },
    {
     "name": "stderr",
     "output_type": "stream",
     "text": [
      "100%|██████████| 1000/1000 [00:01<00:00, 547.32it/s]\n"
     ]
    },
    {
     "name": "stdout",
     "output_type": "stream",
     "text": [
      "Epoch 260 Loss : 324.06829833984375\n"
     ]
    },
    {
     "name": "stderr",
     "output_type": "stream",
     "text": [
      "100%|██████████| 1000/1000 [00:01<00:00, 519.13it/s]\n"
     ]
    },
    {
     "name": "stdout",
     "output_type": "stream",
     "text": [
      "Epoch 261 Loss : 322.9120788574219\n"
     ]
    },
    {
     "name": "stderr",
     "output_type": "stream",
     "text": [
      "100%|██████████| 1000/1000 [00:01<00:00, 519.35it/s]\n"
     ]
    },
    {
     "name": "stdout",
     "output_type": "stream",
     "text": [
      "Epoch 262 Loss : 323.81646728515625\n"
     ]
    },
    {
     "name": "stderr",
     "output_type": "stream",
     "text": [
      "100%|██████████| 1000/1000 [00:01<00:00, 580.89it/s]\n"
     ]
    },
    {
     "name": "stdout",
     "output_type": "stream",
     "text": [
      "Epoch 263 Loss : 324.94683837890625\n"
     ]
    },
    {
     "name": "stderr",
     "output_type": "stream",
     "text": [
      "100%|██████████| 1000/1000 [00:01<00:00, 555.13it/s]\n"
     ]
    },
    {
     "name": "stdout",
     "output_type": "stream",
     "text": [
      "Epoch 264 Loss : 321.71441650390625\n"
     ]
    },
    {
     "name": "stderr",
     "output_type": "stream",
     "text": [
      "100%|██████████| 1000/1000 [00:01<00:00, 524.85it/s]\n"
     ]
    },
    {
     "name": "stdout",
     "output_type": "stream",
     "text": [
      "Epoch 265 Loss : 322.7293701171875\n"
     ]
    },
    {
     "name": "stderr",
     "output_type": "stream",
     "text": [
      "100%|██████████| 1000/1000 [00:01<00:00, 534.15it/s]\n"
     ]
    },
    {
     "name": "stdout",
     "output_type": "stream",
     "text": [
      "Epoch 266 Loss : 323.4383239746094\n"
     ]
    },
    {
     "name": "stderr",
     "output_type": "stream",
     "text": [
      "100%|██████████| 1000/1000 [00:01<00:00, 516.01it/s]\n"
     ]
    },
    {
     "name": "stdout",
     "output_type": "stream",
     "text": [
      "Epoch 267 Loss : 321.75885009765625\n"
     ]
    },
    {
     "name": "stderr",
     "output_type": "stream",
     "text": [
      "100%|██████████| 1000/1000 [00:01<00:00, 570.97it/s]\n"
     ]
    },
    {
     "name": "stdout",
     "output_type": "stream",
     "text": [
      "Epoch 268 Loss : 323.83758544921875\n"
     ]
    },
    {
     "name": "stderr",
     "output_type": "stream",
     "text": [
      "100%|██████████| 1000/1000 [00:01<00:00, 590.96it/s]\n"
     ]
    },
    {
     "name": "stdout",
     "output_type": "stream",
     "text": [
      "Epoch 269 Loss : 321.79486083984375\n"
     ]
    },
    {
     "name": "stderr",
     "output_type": "stream",
     "text": [
      "100%|██████████| 1000/1000 [00:01<00:00, 584.57it/s]\n"
     ]
    },
    {
     "name": "stdout",
     "output_type": "stream",
     "text": [
      "Epoch 270 Loss : 324.54888916015625\n"
     ]
    },
    {
     "name": "stderr",
     "output_type": "stream",
     "text": [
      "100%|██████████| 1000/1000 [00:01<00:00, 566.07it/s]\n"
     ]
    },
    {
     "name": "stdout",
     "output_type": "stream",
     "text": [
      "Epoch 271 Loss : 322.0314025878906\n"
     ]
    },
    {
     "name": "stderr",
     "output_type": "stream",
     "text": [
      "100%|██████████| 1000/1000 [00:02<00:00, 473.72it/s]\n"
     ]
    },
    {
     "name": "stdout",
     "output_type": "stream",
     "text": [
      "Epoch 272 Loss : 321.8973693847656\n"
     ]
    },
    {
     "name": "stderr",
     "output_type": "stream",
     "text": [
      "100%|██████████| 1000/1000 [00:02<00:00, 486.99it/s]\n"
     ]
    },
    {
     "name": "stdout",
     "output_type": "stream",
     "text": [
      "Epoch 273 Loss : 323.84759521484375\n"
     ]
    },
    {
     "name": "stderr",
     "output_type": "stream",
     "text": [
      "100%|██████████| 1000/1000 [00:01<00:00, 528.05it/s]\n"
     ]
    },
    {
     "name": "stdout",
     "output_type": "stream",
     "text": [
      "Epoch 274 Loss : 321.9112243652344\n"
     ]
    },
    {
     "name": "stderr",
     "output_type": "stream",
     "text": [
      "100%|██████████| 1000/1000 [00:02<00:00, 497.02it/s]\n"
     ]
    },
    {
     "name": "stdout",
     "output_type": "stream",
     "text": [
      "Epoch 275 Loss : 324.5683288574219\n"
     ]
    },
    {
     "name": "stderr",
     "output_type": "stream",
     "text": [
      "100%|██████████| 1000/1000 [00:02<00:00, 482.20it/s]\n"
     ]
    },
    {
     "name": "stdout",
     "output_type": "stream",
     "text": [
      "Epoch 276 Loss : 320.3242492675781\n"
     ]
    },
    {
     "name": "stderr",
     "output_type": "stream",
     "text": [
      "100%|██████████| 1000/1000 [00:02<00:00, 464.13it/s]\n"
     ]
    },
    {
     "name": "stdout",
     "output_type": "stream",
     "text": [
      "Epoch 277 Loss : 322.9191589355469\n"
     ]
    },
    {
     "name": "stderr",
     "output_type": "stream",
     "text": [
      "100%|██████████| 1000/1000 [00:02<00:00, 467.91it/s]\n"
     ]
    },
    {
     "name": "stdout",
     "output_type": "stream",
     "text": [
      "Epoch 278 Loss : 321.7463073730469\n"
     ]
    },
    {
     "name": "stderr",
     "output_type": "stream",
     "text": [
      "100%|██████████| 1000/1000 [00:01<00:00, 505.68it/s]\n"
     ]
    },
    {
     "name": "stdout",
     "output_type": "stream",
     "text": [
      "Epoch 279 Loss : 323.08892822265625\n"
     ]
    },
    {
     "name": "stderr",
     "output_type": "stream",
     "text": [
      "100%|██████████| 1000/1000 [00:02<00:00, 478.06it/s]\n"
     ]
    },
    {
     "name": "stdout",
     "output_type": "stream",
     "text": [
      "Epoch 280 Loss : 320.9853820800781\n"
     ]
    },
    {
     "name": "stderr",
     "output_type": "stream",
     "text": [
      "100%|██████████| 1000/1000 [00:02<00:00, 474.27it/s]\n"
     ]
    },
    {
     "name": "stdout",
     "output_type": "stream",
     "text": [
      "Epoch 281 Loss : 320.3133239746094\n"
     ]
    },
    {
     "name": "stderr",
     "output_type": "stream",
     "text": [
      "100%|██████████| 1000/1000 [00:02<00:00, 470.55it/s]\n"
     ]
    },
    {
     "name": "stdout",
     "output_type": "stream",
     "text": [
      "Epoch 282 Loss : 322.56494140625\n"
     ]
    },
    {
     "name": "stderr",
     "output_type": "stream",
     "text": [
      "100%|██████████| 1000/1000 [00:02<00:00, 480.18it/s]\n"
     ]
    },
    {
     "name": "stdout",
     "output_type": "stream",
     "text": [
      "Epoch 283 Loss : 325.0506286621094\n"
     ]
    },
    {
     "name": "stderr",
     "output_type": "stream",
     "text": [
      "100%|██████████| 1000/1000 [00:02<00:00, 454.32it/s]\n"
     ]
    },
    {
     "name": "stdout",
     "output_type": "stream",
     "text": [
      "Epoch 284 Loss : 321.16748046875\n"
     ]
    },
    {
     "name": "stderr",
     "output_type": "stream",
     "text": [
      "100%|██████████| 1000/1000 [00:02<00:00, 441.52it/s]\n"
     ]
    },
    {
     "name": "stdout",
     "output_type": "stream",
     "text": [
      "Epoch 285 Loss : 322.33563232421875\n"
     ]
    },
    {
     "name": "stderr",
     "output_type": "stream",
     "text": [
      "100%|██████████| 1000/1000 [00:01<00:00, 503.25it/s]\n"
     ]
    },
    {
     "name": "stdout",
     "output_type": "stream",
     "text": [
      "Epoch 286 Loss : 322.04425048828125\n"
     ]
    },
    {
     "name": "stderr",
     "output_type": "stream",
     "text": [
      "100%|██████████| 1000/1000 [00:01<00:00, 535.34it/s]\n"
     ]
    },
    {
     "name": "stdout",
     "output_type": "stream",
     "text": [
      "Epoch 287 Loss : 322.451171875\n"
     ]
    },
    {
     "name": "stderr",
     "output_type": "stream",
     "text": [
      "100%|██████████| 1000/1000 [00:02<00:00, 441.58it/s]\n"
     ]
    },
    {
     "name": "stdout",
     "output_type": "stream",
     "text": [
      "Epoch 288 Loss : 321.5012512207031\n"
     ]
    },
    {
     "name": "stderr",
     "output_type": "stream",
     "text": [
      "100%|██████████| 1000/1000 [00:02<00:00, 468.67it/s]\n"
     ]
    },
    {
     "name": "stdout",
     "output_type": "stream",
     "text": [
      "Epoch 289 Loss : 320.1947021484375\n"
     ]
    },
    {
     "name": "stderr",
     "output_type": "stream",
     "text": [
      "100%|██████████| 1000/1000 [00:02<00:00, 447.94it/s]\n"
     ]
    },
    {
     "name": "stdout",
     "output_type": "stream",
     "text": [
      "Epoch 290 Loss : 321.37884521484375\n"
     ]
    },
    {
     "name": "stderr",
     "output_type": "stream",
     "text": [
      "100%|██████████| 1000/1000 [00:02<00:00, 447.07it/s]\n"
     ]
    },
    {
     "name": "stdout",
     "output_type": "stream",
     "text": [
      "Epoch 291 Loss : 321.04718017578125\n"
     ]
    },
    {
     "name": "stderr",
     "output_type": "stream",
     "text": [
      "100%|██████████| 1000/1000 [00:02<00:00, 452.40it/s]\n"
     ]
    },
    {
     "name": "stdout",
     "output_type": "stream",
     "text": [
      "Epoch 292 Loss : 320.2021789550781\n"
     ]
    },
    {
     "name": "stderr",
     "output_type": "stream",
     "text": [
      "100%|██████████| 1000/1000 [00:02<00:00, 429.18it/s]\n"
     ]
    },
    {
     "name": "stdout",
     "output_type": "stream",
     "text": [
      "Epoch 293 Loss : 320.171875\n"
     ]
    },
    {
     "name": "stderr",
     "output_type": "stream",
     "text": [
      "100%|██████████| 1000/1000 [00:02<00:00, 439.62it/s]\n"
     ]
    },
    {
     "name": "stdout",
     "output_type": "stream",
     "text": [
      "Epoch 294 Loss : 322.7670593261719\n"
     ]
    },
    {
     "name": "stderr",
     "output_type": "stream",
     "text": [
      "100%|██████████| 1000/1000 [00:02<00:00, 440.05it/s]\n"
     ]
    },
    {
     "name": "stdout",
     "output_type": "stream",
     "text": [
      "Epoch 295 Loss : 321.08575439453125\n"
     ]
    },
    {
     "name": "stderr",
     "output_type": "stream",
     "text": [
      "100%|██████████| 1000/1000 [00:02<00:00, 428.33it/s]\n"
     ]
    },
    {
     "name": "stdout",
     "output_type": "stream",
     "text": [
      "Epoch 296 Loss : 320.4532470703125\n"
     ]
    },
    {
     "name": "stderr",
     "output_type": "stream",
     "text": [
      "100%|██████████| 1000/1000 [00:02<00:00, 457.04it/s]\n"
     ]
    },
    {
     "name": "stdout",
     "output_type": "stream",
     "text": [
      "Epoch 297 Loss : 320.2369079589844\n"
     ]
    },
    {
     "name": "stderr",
     "output_type": "stream",
     "text": [
      "100%|██████████| 1000/1000 [00:02<00:00, 419.26it/s]\n"
     ]
    },
    {
     "name": "stdout",
     "output_type": "stream",
     "text": [
      "Epoch 298 Loss : 321.35174560546875\n"
     ]
    },
    {
     "name": "stderr",
     "output_type": "stream",
     "text": [
      "100%|██████████| 1000/1000 [00:02<00:00, 410.95it/s]\n"
     ]
    },
    {
     "name": "stdout",
     "output_type": "stream",
     "text": [
      "Epoch 299 Loss : 319.7761535644531\n"
     ]
    },
    {
     "name": "stderr",
     "output_type": "stream",
     "text": [
      "100%|██████████| 1000/1000 [00:02<00:00, 408.58it/s]\n"
     ]
    },
    {
     "name": "stdout",
     "output_type": "stream",
     "text": [
      "Epoch 300 Loss : 320.93548583984375\n"
     ]
    },
    {
     "name": "stderr",
     "output_type": "stream",
     "text": [
      "100%|██████████| 1000/1000 [00:02<00:00, 417.64it/s]\n"
     ]
    },
    {
     "name": "stdout",
     "output_type": "stream",
     "text": [
      "Epoch 301 Loss : 321.73333740234375\n"
     ]
    },
    {
     "name": "stderr",
     "output_type": "stream",
     "text": [
      "100%|██████████| 1000/1000 [00:02<00:00, 400.90it/s]\n"
     ]
    },
    {
     "name": "stdout",
     "output_type": "stream",
     "text": [
      "Epoch 302 Loss : 320.32073974609375\n"
     ]
    },
    {
     "name": "stderr",
     "output_type": "stream",
     "text": [
      "100%|██████████| 1000/1000 [00:02<00:00, 405.84it/s]\n"
     ]
    },
    {
     "name": "stdout",
     "output_type": "stream",
     "text": [
      "Epoch 303 Loss : 318.6387939453125\n"
     ]
    },
    {
     "name": "stderr",
     "output_type": "stream",
     "text": [
      "100%|██████████| 1000/1000 [00:01<00:00, 529.69it/s]\n"
     ]
    },
    {
     "name": "stdout",
     "output_type": "stream",
     "text": [
      "Epoch 304 Loss : 319.4864807128906\n"
     ]
    },
    {
     "name": "stderr",
     "output_type": "stream",
     "text": [
      "100%|██████████| 1000/1000 [00:01<00:00, 529.74it/s]\n"
     ]
    },
    {
     "name": "stdout",
     "output_type": "stream",
     "text": [
      "Epoch 305 Loss : 318.2389221191406\n"
     ]
    },
    {
     "name": "stderr",
     "output_type": "stream",
     "text": [
      "100%|██████████| 1000/1000 [00:01<00:00, 516.88it/s]\n"
     ]
    },
    {
     "name": "stdout",
     "output_type": "stream",
     "text": [
      "Epoch 306 Loss : 321.72296142578125\n"
     ]
    },
    {
     "name": "stderr",
     "output_type": "stream",
     "text": [
      "100%|██████████| 1000/1000 [00:01<00:00, 512.24it/s]\n"
     ]
    },
    {
     "name": "stdout",
     "output_type": "stream",
     "text": [
      "Epoch 307 Loss : 320.6112060546875\n"
     ]
    },
    {
     "name": "stderr",
     "output_type": "stream",
     "text": [
      "100%|██████████| 1000/1000 [00:01<00:00, 526.19it/s]\n"
     ]
    },
    {
     "name": "stdout",
     "output_type": "stream",
     "text": [
      "Epoch 308 Loss : 321.40740966796875\n"
     ]
    },
    {
     "name": "stderr",
     "output_type": "stream",
     "text": [
      "100%|██████████| 1000/1000 [00:02<00:00, 484.15it/s]\n"
     ]
    },
    {
     "name": "stdout",
     "output_type": "stream",
     "text": [
      "Epoch 309 Loss : 318.92193603515625\n"
     ]
    },
    {
     "name": "stderr",
     "output_type": "stream",
     "text": [
      "100%|██████████| 1000/1000 [00:01<00:00, 517.54it/s]\n"
     ]
    },
    {
     "name": "stdout",
     "output_type": "stream",
     "text": [
      "Epoch 310 Loss : 320.64044189453125\n"
     ]
    },
    {
     "name": "stderr",
     "output_type": "stream",
     "text": [
      "100%|██████████| 1000/1000 [00:01<00:00, 523.69it/s]\n"
     ]
    },
    {
     "name": "stdout",
     "output_type": "stream",
     "text": [
      "Epoch 311 Loss : 318.8252868652344\n"
     ]
    },
    {
     "name": "stderr",
     "output_type": "stream",
     "text": [
      "100%|██████████| 1000/1000 [00:01<00:00, 527.92it/s]\n"
     ]
    },
    {
     "name": "stdout",
     "output_type": "stream",
     "text": [
      "Epoch 312 Loss : 317.5604248046875\n"
     ]
    },
    {
     "name": "stderr",
     "output_type": "stream",
     "text": [
      "100%|██████████| 1000/1000 [00:01<00:00, 515.12it/s]\n"
     ]
    },
    {
     "name": "stdout",
     "output_type": "stream",
     "text": [
      "Epoch 313 Loss : 321.2281799316406\n"
     ]
    },
    {
     "name": "stderr",
     "output_type": "stream",
     "text": [
      "100%|██████████| 1000/1000 [00:02<00:00, 498.29it/s]\n"
     ]
    },
    {
     "name": "stdout",
     "output_type": "stream",
     "text": [
      "Epoch 314 Loss : 318.93585205078125\n"
     ]
    },
    {
     "name": "stderr",
     "output_type": "stream",
     "text": [
      "100%|██████████| 1000/1000 [00:02<00:00, 491.87it/s]\n"
     ]
    },
    {
     "name": "stdout",
     "output_type": "stream",
     "text": [
      "Epoch 315 Loss : 319.0880126953125\n"
     ]
    },
    {
     "name": "stderr",
     "output_type": "stream",
     "text": [
      "100%|██████████| 1000/1000 [00:02<00:00, 392.54it/s]\n"
     ]
    },
    {
     "name": "stdout",
     "output_type": "stream",
     "text": [
      "Epoch 316 Loss : 319.5785217285156\n"
     ]
    },
    {
     "name": "stderr",
     "output_type": "stream",
     "text": [
      "100%|██████████| 1000/1000 [00:02<00:00, 437.69it/s]\n"
     ]
    },
    {
     "name": "stdout",
     "output_type": "stream",
     "text": [
      "Epoch 317 Loss : 317.8149719238281\n"
     ]
    },
    {
     "name": "stderr",
     "output_type": "stream",
     "text": [
      "100%|██████████| 1000/1000 [00:02<00:00, 380.23it/s]\n"
     ]
    },
    {
     "name": "stdout",
     "output_type": "stream",
     "text": [
      "Epoch 318 Loss : 319.9859619140625\n"
     ]
    },
    {
     "name": "stderr",
     "output_type": "stream",
     "text": [
      "100%|██████████| 1000/1000 [00:02<00:00, 394.58it/s]\n"
     ]
    },
    {
     "name": "stdout",
     "output_type": "stream",
     "text": [
      "Epoch 319 Loss : 318.8313293457031\n"
     ]
    },
    {
     "name": "stderr",
     "output_type": "stream",
     "text": [
      "100%|██████████| 1000/1000 [00:02<00:00, 450.46it/s]\n"
     ]
    },
    {
     "name": "stdout",
     "output_type": "stream",
     "text": [
      "Epoch 320 Loss : 319.74859619140625\n"
     ]
    },
    {
     "name": "stderr",
     "output_type": "stream",
     "text": [
      "100%|██████████| 1000/1000 [00:02<00:00, 435.38it/s]\n"
     ]
    },
    {
     "name": "stdout",
     "output_type": "stream",
     "text": [
      "Epoch 321 Loss : 319.1556396484375\n"
     ]
    },
    {
     "name": "stderr",
     "output_type": "stream",
     "text": [
      "100%|██████████| 1000/1000 [00:02<00:00, 415.17it/s]\n"
     ]
    },
    {
     "name": "stdout",
     "output_type": "stream",
     "text": [
      "Epoch 322 Loss : 320.68017578125\n"
     ]
    },
    {
     "name": "stderr",
     "output_type": "stream",
     "text": [
      "100%|██████████| 1000/1000 [00:02<00:00, 455.72it/s]\n"
     ]
    },
    {
     "name": "stdout",
     "output_type": "stream",
     "text": [
      "Epoch 323 Loss : 319.093994140625\n"
     ]
    },
    {
     "name": "stderr",
     "output_type": "stream",
     "text": [
      "100%|██████████| 1000/1000 [00:02<00:00, 443.55it/s]\n"
     ]
    },
    {
     "name": "stdout",
     "output_type": "stream",
     "text": [
      "Epoch 324 Loss : 319.14739990234375\n"
     ]
    },
    {
     "name": "stderr",
     "output_type": "stream",
     "text": [
      "100%|██████████| 1000/1000 [00:02<00:00, 438.54it/s]\n"
     ]
    },
    {
     "name": "stdout",
     "output_type": "stream",
     "text": [
      "Epoch 325 Loss : 317.60400390625\n"
     ]
    },
    {
     "name": "stderr",
     "output_type": "stream",
     "text": [
      "100%|██████████| 1000/1000 [00:02<00:00, 474.44it/s]\n"
     ]
    },
    {
     "name": "stdout",
     "output_type": "stream",
     "text": [
      "Epoch 326 Loss : 320.1300354003906\n"
     ]
    },
    {
     "name": "stderr",
     "output_type": "stream",
     "text": [
      "100%|██████████| 1000/1000 [00:02<00:00, 492.84it/s]\n"
     ]
    },
    {
     "name": "stdout",
     "output_type": "stream",
     "text": [
      "Epoch 327 Loss : 317.3736267089844\n"
     ]
    },
    {
     "name": "stderr",
     "output_type": "stream",
     "text": [
      "100%|██████████| 1000/1000 [00:02<00:00, 462.29it/s]\n"
     ]
    },
    {
     "name": "stdout",
     "output_type": "stream",
     "text": [
      "Epoch 328 Loss : 318.6238098144531\n"
     ]
    },
    {
     "name": "stderr",
     "output_type": "stream",
     "text": [
      "100%|██████████| 1000/1000 [00:02<00:00, 426.15it/s]\n"
     ]
    },
    {
     "name": "stdout",
     "output_type": "stream",
     "text": [
      "Epoch 329 Loss : 317.5652160644531\n"
     ]
    },
    {
     "name": "stderr",
     "output_type": "stream",
     "text": [
      "100%|██████████| 1000/1000 [00:02<00:00, 490.49it/s]\n"
     ]
    },
    {
     "name": "stdout",
     "output_type": "stream",
     "text": [
      "Epoch 330 Loss : 318.1429138183594\n"
     ]
    },
    {
     "name": "stderr",
     "output_type": "stream",
     "text": [
      "100%|██████████| 1000/1000 [00:02<00:00, 437.56it/s]\n"
     ]
    },
    {
     "name": "stdout",
     "output_type": "stream",
     "text": [
      "Epoch 331 Loss : 318.33642578125\n"
     ]
    },
    {
     "name": "stderr",
     "output_type": "stream",
     "text": [
      "100%|██████████| 1000/1000 [00:02<00:00, 388.38it/s]\n"
     ]
    },
    {
     "name": "stdout",
     "output_type": "stream",
     "text": [
      "Epoch 332 Loss : 319.7109375\n"
     ]
    },
    {
     "name": "stderr",
     "output_type": "stream",
     "text": [
      "100%|██████████| 1000/1000 [00:03<00:00, 303.04it/s]\n"
     ]
    },
    {
     "name": "stdout",
     "output_type": "stream",
     "text": [
      "Epoch 333 Loss : 314.8941955566406\n"
     ]
    },
    {
     "name": "stderr",
     "output_type": "stream",
     "text": [
      "100%|██████████| 1000/1000 [00:01<00:00, 506.98it/s]\n"
     ]
    },
    {
     "name": "stdout",
     "output_type": "stream",
     "text": [
      "Epoch 334 Loss : 318.24127197265625\n"
     ]
    },
    {
     "name": "stderr",
     "output_type": "stream",
     "text": [
      "100%|██████████| 1000/1000 [00:02<00:00, 479.20it/s]\n"
     ]
    },
    {
     "name": "stdout",
     "output_type": "stream",
     "text": [
      "Epoch 335 Loss : 318.10076904296875\n"
     ]
    },
    {
     "name": "stderr",
     "output_type": "stream",
     "text": [
      "100%|██████████| 1000/1000 [00:02<00:00, 419.58it/s]\n"
     ]
    },
    {
     "name": "stdout",
     "output_type": "stream",
     "text": [
      "Epoch 336 Loss : 316.63092041015625\n"
     ]
    },
    {
     "name": "stderr",
     "output_type": "stream",
     "text": [
      "100%|██████████| 1000/1000 [00:03<00:00, 311.76it/s]\n"
     ]
    },
    {
     "name": "stdout",
     "output_type": "stream",
     "text": [
      "Epoch 337 Loss : 316.5763244628906\n"
     ]
    },
    {
     "name": "stderr",
     "output_type": "stream",
     "text": [
      "100%|██████████| 1000/1000 [00:03<00:00, 293.46it/s]\n"
     ]
    },
    {
     "name": "stdout",
     "output_type": "stream",
     "text": [
      "Epoch 338 Loss : 317.3104248046875\n"
     ]
    },
    {
     "name": "stderr",
     "output_type": "stream",
     "text": [
      "100%|██████████| 1000/1000 [00:02<00:00, 336.80it/s]\n"
     ]
    },
    {
     "name": "stdout",
     "output_type": "stream",
     "text": [
      "Epoch 339 Loss : 319.4249267578125\n"
     ]
    },
    {
     "name": "stderr",
     "output_type": "stream",
     "text": [
      "100%|██████████| 1000/1000 [00:01<00:00, 505.80it/s]\n"
     ]
    },
    {
     "name": "stdout",
     "output_type": "stream",
     "text": [
      "Epoch 340 Loss : 316.7461853027344\n"
     ]
    },
    {
     "name": "stderr",
     "output_type": "stream",
     "text": [
      "100%|██████████| 1000/1000 [00:02<00:00, 346.13it/s]\n"
     ]
    },
    {
     "name": "stdout",
     "output_type": "stream",
     "text": [
      "Epoch 341 Loss : 316.0694885253906\n"
     ]
    },
    {
     "name": "stderr",
     "output_type": "stream",
     "text": [
      "100%|██████████| 1000/1000 [00:02<00:00, 480.29it/s]\n"
     ]
    },
    {
     "name": "stdout",
     "output_type": "stream",
     "text": [
      "Epoch 342 Loss : 317.7772521972656\n"
     ]
    },
    {
     "name": "stderr",
     "output_type": "stream",
     "text": [
      "100%|██████████| 1000/1000 [00:02<00:00, 457.12it/s]\n"
     ]
    },
    {
     "name": "stdout",
     "output_type": "stream",
     "text": [
      "Epoch 343 Loss : 318.61480712890625\n"
     ]
    },
    {
     "name": "stderr",
     "output_type": "stream",
     "text": [
      "100%|██████████| 1000/1000 [00:02<00:00, 474.21it/s]\n"
     ]
    },
    {
     "name": "stdout",
     "output_type": "stream",
     "text": [
      "Epoch 344 Loss : 316.76092529296875\n"
     ]
    },
    {
     "name": "stderr",
     "output_type": "stream",
     "text": [
      "100%|██████████| 1000/1000 [00:02<00:00, 454.55it/s]\n"
     ]
    },
    {
     "name": "stdout",
     "output_type": "stream",
     "text": [
      "Epoch 345 Loss : 318.5482177734375\n"
     ]
    },
    {
     "name": "stderr",
     "output_type": "stream",
     "text": [
      "100%|██████████| 1000/1000 [00:02<00:00, 424.19it/s]\n"
     ]
    },
    {
     "name": "stdout",
     "output_type": "stream",
     "text": [
      "Epoch 346 Loss : 317.2294616699219\n"
     ]
    },
    {
     "name": "stderr",
     "output_type": "stream",
     "text": [
      "100%|██████████| 1000/1000 [00:02<00:00, 443.51it/s]\n"
     ]
    },
    {
     "name": "stdout",
     "output_type": "stream",
     "text": [
      "Epoch 347 Loss : 317.1011047363281\n"
     ]
    },
    {
     "name": "stderr",
     "output_type": "stream",
     "text": [
      "100%|██████████| 1000/1000 [00:02<00:00, 409.96it/s]\n"
     ]
    },
    {
     "name": "stdout",
     "output_type": "stream",
     "text": [
      "Epoch 348 Loss : 315.4361877441406\n"
     ]
    },
    {
     "name": "stderr",
     "output_type": "stream",
     "text": [
      "100%|██████████| 1000/1000 [00:01<00:00, 506.83it/s]\n"
     ]
    },
    {
     "name": "stdout",
     "output_type": "stream",
     "text": [
      "Epoch 349 Loss : 315.6490783691406\n"
     ]
    },
    {
     "name": "stderr",
     "output_type": "stream",
     "text": [
      "100%|██████████| 1000/1000 [00:02<00:00, 476.62it/s]\n"
     ]
    },
    {
     "name": "stdout",
     "output_type": "stream",
     "text": [
      "Epoch 350 Loss : 317.0329895019531\n"
     ]
    },
    {
     "name": "stderr",
     "output_type": "stream",
     "text": [
      "100%|██████████| 1000/1000 [00:02<00:00, 497.32it/s]\n"
     ]
    },
    {
     "name": "stdout",
     "output_type": "stream",
     "text": [
      "Epoch 351 Loss : 317.2227783203125\n"
     ]
    },
    {
     "name": "stderr",
     "output_type": "stream",
     "text": [
      "100%|██████████| 1000/1000 [00:02<00:00, 483.55it/s]\n"
     ]
    },
    {
     "name": "stdout",
     "output_type": "stream",
     "text": [
      "Epoch 352 Loss : 315.38201904296875\n"
     ]
    },
    {
     "name": "stderr",
     "output_type": "stream",
     "text": [
      "100%|██████████| 1000/1000 [00:02<00:00, 490.42it/s]\n"
     ]
    },
    {
     "name": "stdout",
     "output_type": "stream",
     "text": [
      "Epoch 353 Loss : 316.7760314941406\n"
     ]
    },
    {
     "name": "stderr",
     "output_type": "stream",
     "text": [
      "100%|██████████| 1000/1000 [00:01<00:00, 519.11it/s]\n"
     ]
    },
    {
     "name": "stdout",
     "output_type": "stream",
     "text": [
      "Epoch 354 Loss : 316.94683837890625\n"
     ]
    },
    {
     "name": "stderr",
     "output_type": "stream",
     "text": [
      "100%|██████████| 1000/1000 [00:02<00:00, 496.00it/s]\n"
     ]
    },
    {
     "name": "stdout",
     "output_type": "stream",
     "text": [
      "Epoch 355 Loss : 316.5088806152344\n"
     ]
    },
    {
     "name": "stderr",
     "output_type": "stream",
     "text": [
      "100%|██████████| 1000/1000 [00:01<00:00, 518.38it/s]\n"
     ]
    },
    {
     "name": "stdout",
     "output_type": "stream",
     "text": [
      "Epoch 356 Loss : 313.88671875\n"
     ]
    },
    {
     "name": "stderr",
     "output_type": "stream",
     "text": [
      "100%|██████████| 1000/1000 [00:02<00:00, 488.52it/s]\n"
     ]
    },
    {
     "name": "stdout",
     "output_type": "stream",
     "text": [
      "Epoch 357 Loss : 317.4578552246094\n"
     ]
    },
    {
     "name": "stderr",
     "output_type": "stream",
     "text": [
      "100%|██████████| 1000/1000 [00:03<00:00, 308.06it/s]\n"
     ]
    },
    {
     "name": "stdout",
     "output_type": "stream",
     "text": [
      "Epoch 358 Loss : 316.9268798828125\n"
     ]
    },
    {
     "name": "stderr",
     "output_type": "stream",
     "text": [
      "100%|██████████| 1000/1000 [00:03<00:00, 310.54it/s]\n"
     ]
    },
    {
     "name": "stdout",
     "output_type": "stream",
     "text": [
      "Epoch 359 Loss : 318.3014221191406\n"
     ]
    },
    {
     "name": "stderr",
     "output_type": "stream",
     "text": [
      "100%|██████████| 1000/1000 [00:03<00:00, 308.67it/s]\n"
     ]
    },
    {
     "name": "stdout",
     "output_type": "stream",
     "text": [
      "Epoch 360 Loss : 315.5187683105469\n"
     ]
    },
    {
     "name": "stderr",
     "output_type": "stream",
     "text": [
      "100%|██████████| 1000/1000 [00:03<00:00, 299.00it/s]\n"
     ]
    },
    {
     "name": "stdout",
     "output_type": "stream",
     "text": [
      "Epoch 361 Loss : 316.0835266113281\n"
     ]
    },
    {
     "name": "stderr",
     "output_type": "stream",
     "text": [
      "100%|██████████| 1000/1000 [00:03<00:00, 297.51it/s]\n"
     ]
    },
    {
     "name": "stdout",
     "output_type": "stream",
     "text": [
      "Epoch 362 Loss : 315.03643798828125\n"
     ]
    },
    {
     "name": "stderr",
     "output_type": "stream",
     "text": [
      "100%|██████████| 1000/1000 [00:03<00:00, 302.75it/s]\n"
     ]
    },
    {
     "name": "stdout",
     "output_type": "stream",
     "text": [
      "Epoch 363 Loss : 318.0381164550781\n"
     ]
    },
    {
     "name": "stderr",
     "output_type": "stream",
     "text": [
      "100%|██████████| 1000/1000 [00:03<00:00, 254.59it/s]\n"
     ]
    },
    {
     "name": "stdout",
     "output_type": "stream",
     "text": [
      "Epoch 364 Loss : 316.5242919921875\n"
     ]
    },
    {
     "name": "stderr",
     "output_type": "stream",
     "text": [
      "100%|██████████| 1000/1000 [00:03<00:00, 270.75it/s]\n"
     ]
    },
    {
     "name": "stdout",
     "output_type": "stream",
     "text": [
      "Epoch 365 Loss : 316.3383483886719\n"
     ]
    },
    {
     "name": "stderr",
     "output_type": "stream",
     "text": [
      "100%|██████████| 1000/1000 [00:03<00:00, 308.28it/s]\n"
     ]
    },
    {
     "name": "stdout",
     "output_type": "stream",
     "text": [
      "Epoch 366 Loss : 314.5006103515625\n"
     ]
    },
    {
     "name": "stderr",
     "output_type": "stream",
     "text": [
      "100%|██████████| 1000/1000 [00:03<00:00, 294.56it/s]\n"
     ]
    },
    {
     "name": "stdout",
     "output_type": "stream",
     "text": [
      "Epoch 367 Loss : 315.59912109375\n"
     ]
    },
    {
     "name": "stderr",
     "output_type": "stream",
     "text": [
      "100%|██████████| 1000/1000 [00:03<00:00, 310.72it/s]\n"
     ]
    },
    {
     "name": "stdout",
     "output_type": "stream",
     "text": [
      "Epoch 368 Loss : 314.1895751953125\n"
     ]
    },
    {
     "name": "stderr",
     "output_type": "stream",
     "text": [
      "100%|██████████| 1000/1000 [00:03<00:00, 311.72it/s]\n"
     ]
    },
    {
     "name": "stdout",
     "output_type": "stream",
     "text": [
      "Epoch 369 Loss : 316.7905578613281\n"
     ]
    },
    {
     "name": "stderr",
     "output_type": "stream",
     "text": [
      "100%|██████████| 1000/1000 [00:03<00:00, 295.68it/s]\n"
     ]
    },
    {
     "name": "stdout",
     "output_type": "stream",
     "text": [
      "Epoch 370 Loss : 315.7894592285156\n"
     ]
    },
    {
     "name": "stderr",
     "output_type": "stream",
     "text": [
      "100%|██████████| 1000/1000 [00:03<00:00, 291.81it/s]\n"
     ]
    },
    {
     "name": "stdout",
     "output_type": "stream",
     "text": [
      "Epoch 371 Loss : 316.7249755859375\n"
     ]
    },
    {
     "name": "stderr",
     "output_type": "stream",
     "text": [
      "100%|██████████| 1000/1000 [00:03<00:00, 301.96it/s]\n"
     ]
    },
    {
     "name": "stdout",
     "output_type": "stream",
     "text": [
      "Epoch 372 Loss : 313.9803161621094\n"
     ]
    },
    {
     "name": "stderr",
     "output_type": "stream",
     "text": [
      "100%|██████████| 1000/1000 [00:03<00:00, 303.87it/s]\n"
     ]
    },
    {
     "name": "stdout",
     "output_type": "stream",
     "text": [
      "Epoch 373 Loss : 314.7090148925781\n"
     ]
    },
    {
     "name": "stderr",
     "output_type": "stream",
     "text": [
      "100%|██████████| 1000/1000 [00:03<00:00, 304.84it/s]\n"
     ]
    },
    {
     "name": "stdout",
     "output_type": "stream",
     "text": [
      "Epoch 374 Loss : 313.901123046875\n"
     ]
    },
    {
     "name": "stderr",
     "output_type": "stream",
     "text": [
      "100%|██████████| 1000/1000 [00:03<00:00, 306.26it/s]\n"
     ]
    },
    {
     "name": "stdout",
     "output_type": "stream",
     "text": [
      "Epoch 375 Loss : 316.6426086425781\n"
     ]
    },
    {
     "name": "stderr",
     "output_type": "stream",
     "text": [
      "100%|██████████| 1000/1000 [00:03<00:00, 300.02it/s]\n"
     ]
    },
    {
     "name": "stdout",
     "output_type": "stream",
     "text": [
      "Epoch 376 Loss : 315.4601135253906\n"
     ]
    },
    {
     "name": "stderr",
     "output_type": "stream",
     "text": [
      "100%|██████████| 1000/1000 [00:03<00:00, 306.96it/s]\n"
     ]
    },
    {
     "name": "stdout",
     "output_type": "stream",
     "text": [
      "Epoch 377 Loss : 314.1812438964844\n"
     ]
    },
    {
     "name": "stderr",
     "output_type": "stream",
     "text": [
      "100%|██████████| 1000/1000 [00:03<00:00, 300.19it/s]\n"
     ]
    },
    {
     "name": "stdout",
     "output_type": "stream",
     "text": [
      "Epoch 378 Loss : 314.6047668457031\n"
     ]
    },
    {
     "name": "stderr",
     "output_type": "stream",
     "text": [
      "100%|██████████| 1000/1000 [00:03<00:00, 303.60it/s]\n"
     ]
    },
    {
     "name": "stdout",
     "output_type": "stream",
     "text": [
      "Epoch 379 Loss : 315.6747741699219\n"
     ]
    },
    {
     "name": "stderr",
     "output_type": "stream",
     "text": [
      "100%|██████████| 1000/1000 [00:03<00:00, 306.11it/s]\n"
     ]
    },
    {
     "name": "stdout",
     "output_type": "stream",
     "text": [
      "Epoch 380 Loss : 313.86822509765625\n"
     ]
    },
    {
     "name": "stderr",
     "output_type": "stream",
     "text": [
      "100%|██████████| 1000/1000 [00:03<00:00, 321.70it/s]\n"
     ]
    },
    {
     "name": "stdout",
     "output_type": "stream",
     "text": [
      "Epoch 381 Loss : 314.67523193359375\n"
     ]
    },
    {
     "name": "stderr",
     "output_type": "stream",
     "text": [
      "100%|██████████| 1000/1000 [00:03<00:00, 320.46it/s]\n"
     ]
    },
    {
     "name": "stdout",
     "output_type": "stream",
     "text": [
      "Epoch 382 Loss : 314.7268371582031\n"
     ]
    },
    {
     "name": "stderr",
     "output_type": "stream",
     "text": [
      "100%|██████████| 1000/1000 [00:03<00:00, 304.16it/s]\n"
     ]
    },
    {
     "name": "stdout",
     "output_type": "stream",
     "text": [
      "Epoch 383 Loss : 315.26678466796875\n"
     ]
    },
    {
     "name": "stderr",
     "output_type": "stream",
     "text": [
      "100%|██████████| 1000/1000 [00:03<00:00, 299.69it/s]\n"
     ]
    },
    {
     "name": "stdout",
     "output_type": "stream",
     "text": [
      "Epoch 384 Loss : 314.06536865234375\n"
     ]
    },
    {
     "name": "stderr",
     "output_type": "stream",
     "text": [
      "100%|██████████| 1000/1000 [00:03<00:00, 312.76it/s]\n"
     ]
    },
    {
     "name": "stdout",
     "output_type": "stream",
     "text": [
      "Epoch 385 Loss : 314.385498046875\n"
     ]
    },
    {
     "name": "stderr",
     "output_type": "stream",
     "text": [
      "100%|██████████| 1000/1000 [00:03<00:00, 300.77it/s]\n"
     ]
    },
    {
     "name": "stdout",
     "output_type": "stream",
     "text": [
      "Epoch 386 Loss : 315.75482177734375\n"
     ]
    },
    {
     "name": "stderr",
     "output_type": "stream",
     "text": [
      "100%|██████████| 1000/1000 [00:03<00:00, 308.00it/s]\n"
     ]
    },
    {
     "name": "stdout",
     "output_type": "stream",
     "text": [
      "Epoch 387 Loss : 312.8542175292969\n"
     ]
    },
    {
     "name": "stderr",
     "output_type": "stream",
     "text": [
      "100%|██████████| 1000/1000 [00:03<00:00, 303.01it/s]\n"
     ]
    },
    {
     "name": "stdout",
     "output_type": "stream",
     "text": [
      "Epoch 388 Loss : 315.4156188964844\n"
     ]
    },
    {
     "name": "stderr",
     "output_type": "stream",
     "text": [
      "100%|██████████| 1000/1000 [00:03<00:00, 305.33it/s]\n"
     ]
    },
    {
     "name": "stdout",
     "output_type": "stream",
     "text": [
      "Epoch 389 Loss : 313.3013610839844\n"
     ]
    },
    {
     "name": "stderr",
     "output_type": "stream",
     "text": [
      "100%|██████████| 1000/1000 [00:03<00:00, 303.39it/s]\n"
     ]
    },
    {
     "name": "stdout",
     "output_type": "stream",
     "text": [
      "Epoch 390 Loss : 314.3110656738281\n"
     ]
    },
    {
     "name": "stderr",
     "output_type": "stream",
     "text": [
      "100%|██████████| 1000/1000 [00:02<00:00, 396.33it/s]\n"
     ]
    },
    {
     "name": "stdout",
     "output_type": "stream",
     "text": [
      "Epoch 391 Loss : 315.02130126953125\n"
     ]
    },
    {
     "name": "stderr",
     "output_type": "stream",
     "text": [
      "100%|██████████| 1000/1000 [00:01<00:00, 617.92it/s]\n"
     ]
    },
    {
     "name": "stdout",
     "output_type": "stream",
     "text": [
      "Epoch 392 Loss : 313.54779052734375\n"
     ]
    },
    {
     "name": "stderr",
     "output_type": "stream",
     "text": [
      "100%|██████████| 1000/1000 [00:01<00:00, 606.27it/s]\n"
     ]
    },
    {
     "name": "stdout",
     "output_type": "stream",
     "text": [
      "Epoch 393 Loss : 315.11993408203125\n"
     ]
    },
    {
     "name": "stderr",
     "output_type": "stream",
     "text": [
      "100%|██████████| 1000/1000 [00:01<00:00, 582.39it/s]\n"
     ]
    },
    {
     "name": "stdout",
     "output_type": "stream",
     "text": [
      "Epoch 394 Loss : 312.8542785644531\n"
     ]
    },
    {
     "name": "stderr",
     "output_type": "stream",
     "text": [
      "100%|██████████| 1000/1000 [00:01<00:00, 617.63it/s]\n"
     ]
    },
    {
     "name": "stdout",
     "output_type": "stream",
     "text": [
      "Epoch 395 Loss : 313.71307373046875\n"
     ]
    },
    {
     "name": "stderr",
     "output_type": "stream",
     "text": [
      "100%|██████████| 1000/1000 [00:01<00:00, 590.79it/s]\n"
     ]
    },
    {
     "name": "stdout",
     "output_type": "stream",
     "text": [
      "Epoch 396 Loss : 313.3124084472656\n"
     ]
    },
    {
     "name": "stderr",
     "output_type": "stream",
     "text": [
      "100%|██████████| 1000/1000 [00:01<00:00, 607.15it/s]\n"
     ]
    },
    {
     "name": "stdout",
     "output_type": "stream",
     "text": [
      "Epoch 397 Loss : 314.02496337890625\n"
     ]
    },
    {
     "name": "stderr",
     "output_type": "stream",
     "text": [
      "100%|██████████| 1000/1000 [00:01<00:00, 634.56it/s]\n"
     ]
    },
    {
     "name": "stdout",
     "output_type": "stream",
     "text": [
      "Epoch 398 Loss : 312.76422119140625\n"
     ]
    },
    {
     "name": "stderr",
     "output_type": "stream",
     "text": [
      "100%|██████████| 1000/1000 [00:01<00:00, 616.91it/s]\n"
     ]
    },
    {
     "name": "stdout",
     "output_type": "stream",
     "text": [
      "Epoch 399 Loss : 313.9138488769531\n"
     ]
    },
    {
     "name": "stderr",
     "output_type": "stream",
     "text": [
      "100%|██████████| 1000/1000 [00:01<00:00, 616.48it/s]\n"
     ]
    },
    {
     "name": "stdout",
     "output_type": "stream",
     "text": [
      "Epoch 400 Loss : 314.00146484375\n"
     ]
    },
    {
     "name": "stderr",
     "output_type": "stream",
     "text": [
      "100%|██████████| 1000/1000 [00:01<00:00, 631.83it/s]\n"
     ]
    },
    {
     "name": "stdout",
     "output_type": "stream",
     "text": [
      "Epoch 401 Loss : 313.5906066894531\n"
     ]
    },
    {
     "name": "stderr",
     "output_type": "stream",
     "text": [
      "100%|██████████| 1000/1000 [00:01<00:00, 601.64it/s]\n"
     ]
    },
    {
     "name": "stdout",
     "output_type": "stream",
     "text": [
      "Epoch 402 Loss : 313.40997314453125\n"
     ]
    },
    {
     "name": "stderr",
     "output_type": "stream",
     "text": [
      "100%|██████████| 1000/1000 [00:01<00:00, 602.20it/s]\n"
     ]
    },
    {
     "name": "stdout",
     "output_type": "stream",
     "text": [
      "Epoch 403 Loss : 313.2823181152344\n"
     ]
    },
    {
     "name": "stderr",
     "output_type": "stream",
     "text": [
      "100%|██████████| 1000/1000 [00:01<00:00, 632.35it/s]\n"
     ]
    },
    {
     "name": "stdout",
     "output_type": "stream",
     "text": [
      "Epoch 404 Loss : 312.95904541015625\n"
     ]
    },
    {
     "name": "stderr",
     "output_type": "stream",
     "text": [
      "100%|██████████| 1000/1000 [00:01<00:00, 616.34it/s]\n"
     ]
    },
    {
     "name": "stdout",
     "output_type": "stream",
     "text": [
      "Epoch 405 Loss : 314.5101013183594\n"
     ]
    },
    {
     "name": "stderr",
     "output_type": "stream",
     "text": [
      "100%|██████████| 1000/1000 [00:01<00:00, 611.73it/s]\n"
     ]
    },
    {
     "name": "stdout",
     "output_type": "stream",
     "text": [
      "Epoch 406 Loss : 312.2770080566406\n"
     ]
    },
    {
     "name": "stderr",
     "output_type": "stream",
     "text": [
      "100%|██████████| 1000/1000 [00:01<00:00, 619.79it/s]\n"
     ]
    },
    {
     "name": "stdout",
     "output_type": "stream",
     "text": [
      "Epoch 407 Loss : 315.0119934082031\n"
     ]
    },
    {
     "name": "stderr",
     "output_type": "stream",
     "text": [
      "100%|██████████| 1000/1000 [00:01<00:00, 606.23it/s]\n"
     ]
    },
    {
     "name": "stdout",
     "output_type": "stream",
     "text": [
      "Epoch 408 Loss : 311.0567932128906\n"
     ]
    },
    {
     "name": "stderr",
     "output_type": "stream",
     "text": [
      "100%|██████████| 1000/1000 [00:01<00:00, 610.06it/s]\n"
     ]
    },
    {
     "name": "stdout",
     "output_type": "stream",
     "text": [
      "Epoch 409 Loss : 313.6533203125\n"
     ]
    },
    {
     "name": "stderr",
     "output_type": "stream",
     "text": [
      "100%|██████████| 1000/1000 [00:01<00:00, 620.98it/s]\n"
     ]
    },
    {
     "name": "stdout",
     "output_type": "stream",
     "text": [
      "Epoch 410 Loss : 313.7831726074219\n"
     ]
    },
    {
     "name": "stderr",
     "output_type": "stream",
     "text": [
      "100%|██████████| 1000/1000 [00:01<00:00, 593.86it/s]\n"
     ]
    },
    {
     "name": "stdout",
     "output_type": "stream",
     "text": [
      "Epoch 411 Loss : 313.1996765136719\n"
     ]
    },
    {
     "name": "stderr",
     "output_type": "stream",
     "text": [
      "100%|██████████| 1000/1000 [00:01<00:00, 586.89it/s]\n"
     ]
    },
    {
     "name": "stdout",
     "output_type": "stream",
     "text": [
      "Epoch 412 Loss : 313.6380920410156\n"
     ]
    },
    {
     "name": "stderr",
     "output_type": "stream",
     "text": [
      "100%|██████████| 1000/1000 [00:01<00:00, 611.01it/s]\n"
     ]
    },
    {
     "name": "stdout",
     "output_type": "stream",
     "text": [
      "Epoch 413 Loss : 313.08099365234375\n"
     ]
    },
    {
     "name": "stderr",
     "output_type": "stream",
     "text": [
      "100%|██████████| 1000/1000 [00:01<00:00, 592.96it/s]\n"
     ]
    },
    {
     "name": "stdout",
     "output_type": "stream",
     "text": [
      "Epoch 414 Loss : 314.052490234375\n"
     ]
    },
    {
     "name": "stderr",
     "output_type": "stream",
     "text": [
      "100%|██████████| 1000/1000 [00:01<00:00, 559.72it/s]\n"
     ]
    },
    {
     "name": "stdout",
     "output_type": "stream",
     "text": [
      "Epoch 415 Loss : 314.3648681640625\n"
     ]
    },
    {
     "name": "stderr",
     "output_type": "stream",
     "text": [
      "100%|██████████| 1000/1000 [00:01<00:00, 611.49it/s]\n"
     ]
    },
    {
     "name": "stdout",
     "output_type": "stream",
     "text": [
      "Epoch 416 Loss : 312.88775634765625\n"
     ]
    },
    {
     "name": "stderr",
     "output_type": "stream",
     "text": [
      "100%|██████████| 1000/1000 [00:01<00:00, 596.00it/s]\n"
     ]
    },
    {
     "name": "stdout",
     "output_type": "stream",
     "text": [
      "Epoch 417 Loss : 311.2957458496094\n"
     ]
    },
    {
     "name": "stderr",
     "output_type": "stream",
     "text": [
      "100%|██████████| 1000/1000 [00:01<00:00, 597.29it/s]\n"
     ]
    },
    {
     "name": "stdout",
     "output_type": "stream",
     "text": [
      "Epoch 418 Loss : 311.6436767578125\n"
     ]
    },
    {
     "name": "stderr",
     "output_type": "stream",
     "text": [
      "100%|██████████| 1000/1000 [00:01<00:00, 623.06it/s]\n"
     ]
    },
    {
     "name": "stdout",
     "output_type": "stream",
     "text": [
      "Epoch 419 Loss : 312.3657531738281\n"
     ]
    },
    {
     "name": "stderr",
     "output_type": "stream",
     "text": [
      "100%|██████████| 1000/1000 [00:01<00:00, 598.47it/s]\n"
     ]
    },
    {
     "name": "stdout",
     "output_type": "stream",
     "text": [
      "Epoch 420 Loss : 313.0722961425781\n"
     ]
    },
    {
     "name": "stderr",
     "output_type": "stream",
     "text": [
      "100%|██████████| 1000/1000 [00:01<00:00, 613.04it/s]\n"
     ]
    },
    {
     "name": "stdout",
     "output_type": "stream",
     "text": [
      "Epoch 421 Loss : 311.5998840332031\n"
     ]
    },
    {
     "name": "stderr",
     "output_type": "stream",
     "text": [
      "100%|██████████| 1000/1000 [00:01<00:00, 599.00it/s]\n"
     ]
    },
    {
     "name": "stdout",
     "output_type": "stream",
     "text": [
      "Epoch 422 Loss : 312.8156433105469\n"
     ]
    },
    {
     "name": "stderr",
     "output_type": "stream",
     "text": [
      "100%|██████████| 1000/1000 [00:01<00:00, 596.32it/s]\n"
     ]
    },
    {
     "name": "stdout",
     "output_type": "stream",
     "text": [
      "Epoch 423 Loss : 312.71343994140625\n"
     ]
    },
    {
     "name": "stderr",
     "output_type": "stream",
     "text": [
      "100%|██████████| 1000/1000 [00:01<00:00, 587.96it/s]\n"
     ]
    },
    {
     "name": "stdout",
     "output_type": "stream",
     "text": [
      "Epoch 424 Loss : 310.659912109375\n"
     ]
    },
    {
     "name": "stderr",
     "output_type": "stream",
     "text": [
      "100%|██████████| 1000/1000 [00:01<00:00, 627.72it/s]\n"
     ]
    },
    {
     "name": "stdout",
     "output_type": "stream",
     "text": [
      "Epoch 425 Loss : 311.7760009765625\n"
     ]
    },
    {
     "name": "stderr",
     "output_type": "stream",
     "text": [
      "100%|██████████| 1000/1000 [00:01<00:00, 599.10it/s]\n"
     ]
    },
    {
     "name": "stdout",
     "output_type": "stream",
     "text": [
      "Epoch 426 Loss : 314.7373962402344\n"
     ]
    },
    {
     "name": "stderr",
     "output_type": "stream",
     "text": [
      "100%|██████████| 1000/1000 [00:01<00:00, 579.87it/s]\n"
     ]
    },
    {
     "name": "stdout",
     "output_type": "stream",
     "text": [
      "Epoch 427 Loss : 311.591064453125\n"
     ]
    },
    {
     "name": "stderr",
     "output_type": "stream",
     "text": [
      "100%|██████████| 1000/1000 [00:01<00:00, 615.25it/s]\n"
     ]
    },
    {
     "name": "stdout",
     "output_type": "stream",
     "text": [
      "Epoch 428 Loss : 311.966552734375\n"
     ]
    },
    {
     "name": "stderr",
     "output_type": "stream",
     "text": [
      "100%|██████████| 1000/1000 [00:01<00:00, 593.31it/s]\n"
     ]
    },
    {
     "name": "stdout",
     "output_type": "stream",
     "text": [
      "Epoch 429 Loss : 312.26556396484375\n"
     ]
    },
    {
     "name": "stderr",
     "output_type": "stream",
     "text": [
      "100%|██████████| 1000/1000 [00:01<00:00, 594.99it/s]\n"
     ]
    },
    {
     "name": "stdout",
     "output_type": "stream",
     "text": [
      "Epoch 430 Loss : 313.0337219238281\n"
     ]
    },
    {
     "name": "stderr",
     "output_type": "stream",
     "text": [
      "100%|██████████| 1000/1000 [00:01<00:00, 617.59it/s]\n"
     ]
    },
    {
     "name": "stdout",
     "output_type": "stream",
     "text": [
      "Epoch 431 Loss : 311.8611145019531\n"
     ]
    },
    {
     "name": "stderr",
     "output_type": "stream",
     "text": [
      "100%|██████████| 1000/1000 [00:01<00:00, 593.69it/s]\n"
     ]
    },
    {
     "name": "stdout",
     "output_type": "stream",
     "text": [
      "Epoch 432 Loss : 311.24322509765625\n"
     ]
    },
    {
     "name": "stderr",
     "output_type": "stream",
     "text": [
      "100%|██████████| 1000/1000 [00:01<00:00, 597.90it/s]\n"
     ]
    },
    {
     "name": "stdout",
     "output_type": "stream",
     "text": [
      "Epoch 433 Loss : 313.06854248046875\n"
     ]
    },
    {
     "name": "stderr",
     "output_type": "stream",
     "text": [
      "100%|██████████| 1000/1000 [00:03<00:00, 300.36it/s]\n"
     ]
    },
    {
     "name": "stdout",
     "output_type": "stream",
     "text": [
      "Epoch 434 Loss : 313.8968200683594\n"
     ]
    },
    {
     "name": "stderr",
     "output_type": "stream",
     "text": [
      "100%|██████████| 1000/1000 [00:03<00:00, 292.50it/s]\n"
     ]
    },
    {
     "name": "stdout",
     "output_type": "stream",
     "text": [
      "Epoch 435 Loss : 310.6910705566406\n"
     ]
    },
    {
     "name": "stderr",
     "output_type": "stream",
     "text": [
      "100%|██████████| 1000/1000 [00:03<00:00, 284.38it/s]\n"
     ]
    },
    {
     "name": "stdout",
     "output_type": "stream",
     "text": [
      "Epoch 436 Loss : 314.3879089355469\n"
     ]
    },
    {
     "name": "stderr",
     "output_type": "stream",
     "text": [
      "100%|██████████| 1000/1000 [00:03<00:00, 280.67it/s]\n"
     ]
    },
    {
     "name": "stdout",
     "output_type": "stream",
     "text": [
      "Epoch 437 Loss : 311.9328918457031\n"
     ]
    },
    {
     "name": "stderr",
     "output_type": "stream",
     "text": [
      "100%|██████████| 1000/1000 [00:03<00:00, 284.57it/s]\n"
     ]
    },
    {
     "name": "stdout",
     "output_type": "stream",
     "text": [
      "Epoch 438 Loss : 311.3548278808594\n"
     ]
    },
    {
     "name": "stderr",
     "output_type": "stream",
     "text": [
      "100%|██████████| 1000/1000 [00:03<00:00, 294.81it/s]\n"
     ]
    },
    {
     "name": "stdout",
     "output_type": "stream",
     "text": [
      "Epoch 439 Loss : 311.27880859375\n"
     ]
    },
    {
     "name": "stderr",
     "output_type": "stream",
     "text": [
      "100%|██████████| 1000/1000 [00:03<00:00, 295.09it/s]\n"
     ]
    },
    {
     "name": "stdout",
     "output_type": "stream",
     "text": [
      "Epoch 440 Loss : 313.48101806640625\n"
     ]
    },
    {
     "name": "stderr",
     "output_type": "stream",
     "text": [
      "100%|██████████| 1000/1000 [00:03<00:00, 288.05it/s]\n"
     ]
    },
    {
     "name": "stdout",
     "output_type": "stream",
     "text": [
      "Epoch 441 Loss : 313.13397216796875\n"
     ]
    },
    {
     "name": "stderr",
     "output_type": "stream",
     "text": [
      "100%|██████████| 1000/1000 [00:03<00:00, 293.76it/s]\n"
     ]
    },
    {
     "name": "stdout",
     "output_type": "stream",
     "text": [
      "Epoch 442 Loss : 311.93212890625\n"
     ]
    },
    {
     "name": "stderr",
     "output_type": "stream",
     "text": [
      "100%|██████████| 1000/1000 [00:03<00:00, 309.94it/s]\n"
     ]
    },
    {
     "name": "stdout",
     "output_type": "stream",
     "text": [
      "Epoch 443 Loss : 309.9310302734375\n"
     ]
    },
    {
     "name": "stderr",
     "output_type": "stream",
     "text": [
      "100%|██████████| 1000/1000 [00:03<00:00, 314.29it/s]\n"
     ]
    },
    {
     "name": "stdout",
     "output_type": "stream",
     "text": [
      "Epoch 444 Loss : 312.5075988769531\n"
     ]
    },
    {
     "name": "stderr",
     "output_type": "stream",
     "text": [
      "100%|██████████| 1000/1000 [00:03<00:00, 294.07it/s]\n"
     ]
    },
    {
     "name": "stdout",
     "output_type": "stream",
     "text": [
      "Epoch 445 Loss : 310.05364990234375\n"
     ]
    },
    {
     "name": "stderr",
     "output_type": "stream",
     "text": [
      "100%|██████████| 1000/1000 [00:03<00:00, 315.03it/s]\n"
     ]
    },
    {
     "name": "stdout",
     "output_type": "stream",
     "text": [
      "Epoch 446 Loss : 310.4461364746094\n"
     ]
    },
    {
     "name": "stderr",
     "output_type": "stream",
     "text": [
      "100%|██████████| 1000/1000 [00:03<00:00, 328.11it/s]\n"
     ]
    },
    {
     "name": "stdout",
     "output_type": "stream",
     "text": [
      "Epoch 447 Loss : 313.46490478515625\n"
     ]
    },
    {
     "name": "stderr",
     "output_type": "stream",
     "text": [
      "100%|██████████| 1000/1000 [00:03<00:00, 309.85it/s]\n"
     ]
    },
    {
     "name": "stdout",
     "output_type": "stream",
     "text": [
      "Epoch 448 Loss : 311.1497802734375\n"
     ]
    },
    {
     "name": "stderr",
     "output_type": "stream",
     "text": [
      "100%|██████████| 1000/1000 [00:03<00:00, 310.07it/s]\n"
     ]
    },
    {
     "name": "stdout",
     "output_type": "stream",
     "text": [
      "Epoch 449 Loss : 310.85137939453125\n"
     ]
    },
    {
     "name": "stderr",
     "output_type": "stream",
     "text": [
      "100%|██████████| 1000/1000 [00:03<00:00, 309.00it/s]\n"
     ]
    },
    {
     "name": "stdout",
     "output_type": "stream",
     "text": [
      "Epoch 450 Loss : 315.04736328125\n"
     ]
    },
    {
     "name": "stderr",
     "output_type": "stream",
     "text": [
      "100%|██████████| 1000/1000 [00:03<00:00, 304.85it/s]\n"
     ]
    },
    {
     "name": "stdout",
     "output_type": "stream",
     "text": [
      "Epoch 451 Loss : 312.8365783691406\n"
     ]
    },
    {
     "name": "stderr",
     "output_type": "stream",
     "text": [
      "100%|██████████| 1000/1000 [00:03<00:00, 314.81it/s]\n"
     ]
    },
    {
     "name": "stdout",
     "output_type": "stream",
     "text": [
      "Epoch 452 Loss : 312.0324401855469\n"
     ]
    },
    {
     "name": "stderr",
     "output_type": "stream",
     "text": [
      "100%|██████████| 1000/1000 [00:03<00:00, 321.57it/s]\n"
     ]
    },
    {
     "name": "stdout",
     "output_type": "stream",
     "text": [
      "Epoch 453 Loss : 310.6392822265625\n"
     ]
    },
    {
     "name": "stderr",
     "output_type": "stream",
     "text": [
      "100%|██████████| 1000/1000 [00:03<00:00, 293.42it/s]\n"
     ]
    },
    {
     "name": "stdout",
     "output_type": "stream",
     "text": [
      "Epoch 454 Loss : 311.56439208984375\n"
     ]
    },
    {
     "name": "stderr",
     "output_type": "stream",
     "text": [
      "100%|██████████| 1000/1000 [00:03<00:00, 313.41it/s]\n"
     ]
    },
    {
     "name": "stdout",
     "output_type": "stream",
     "text": [
      "Epoch 455 Loss : 310.8400573730469\n"
     ]
    },
    {
     "name": "stderr",
     "output_type": "stream",
     "text": [
      "100%|██████████| 1000/1000 [00:03<00:00, 311.10it/s]\n"
     ]
    },
    {
     "name": "stdout",
     "output_type": "stream",
     "text": [
      "Epoch 456 Loss : 310.4982604980469\n"
     ]
    },
    {
     "name": "stderr",
     "output_type": "stream",
     "text": [
      "100%|██████████| 1000/1000 [00:03<00:00, 318.73it/s]\n"
     ]
    },
    {
     "name": "stdout",
     "output_type": "stream",
     "text": [
      "Epoch 457 Loss : 310.3113708496094\n"
     ]
    },
    {
     "name": "stderr",
     "output_type": "stream",
     "text": [
      "100%|██████████| 1000/1000 [00:03<00:00, 320.40it/s]\n"
     ]
    },
    {
     "name": "stdout",
     "output_type": "stream",
     "text": [
      "Epoch 458 Loss : 311.1832580566406\n"
     ]
    },
    {
     "name": "stderr",
     "output_type": "stream",
     "text": [
      "100%|██████████| 1000/1000 [00:03<00:00, 303.45it/s]\n"
     ]
    },
    {
     "name": "stdout",
     "output_type": "stream",
     "text": [
      "Epoch 459 Loss : 310.4542236328125\n"
     ]
    },
    {
     "name": "stderr",
     "output_type": "stream",
     "text": [
      "100%|██████████| 1000/1000 [00:03<00:00, 301.46it/s]\n"
     ]
    },
    {
     "name": "stdout",
     "output_type": "stream",
     "text": [
      "Epoch 460 Loss : 311.01397705078125\n"
     ]
    },
    {
     "name": "stderr",
     "output_type": "stream",
     "text": [
      "100%|██████████| 1000/1000 [00:03<00:00, 322.23it/s]\n"
     ]
    },
    {
     "name": "stdout",
     "output_type": "stream",
     "text": [
      "Epoch 461 Loss : 311.27264404296875\n"
     ]
    },
    {
     "name": "stderr",
     "output_type": "stream",
     "text": [
      "100%|██████████| 1000/1000 [00:03<00:00, 313.21it/s]\n"
     ]
    },
    {
     "name": "stdout",
     "output_type": "stream",
     "text": [
      "Epoch 462 Loss : 311.0252380371094\n"
     ]
    },
    {
     "name": "stderr",
     "output_type": "stream",
     "text": [
      "100%|██████████| 1000/1000 [00:03<00:00, 297.59it/s]\n"
     ]
    },
    {
     "name": "stdout",
     "output_type": "stream",
     "text": [
      "Epoch 463 Loss : 311.4024658203125\n"
     ]
    },
    {
     "name": "stderr",
     "output_type": "stream",
     "text": [
      "100%|██████████| 1000/1000 [00:03<00:00, 307.90it/s]\n"
     ]
    },
    {
     "name": "stdout",
     "output_type": "stream",
     "text": [
      "Epoch 464 Loss : 311.19854736328125\n"
     ]
    },
    {
     "name": "stderr",
     "output_type": "stream",
     "text": [
      "100%|██████████| 1000/1000 [00:03<00:00, 308.26it/s]\n"
     ]
    },
    {
     "name": "stdout",
     "output_type": "stream",
     "text": [
      "Epoch 465 Loss : 309.61517333984375\n"
     ]
    },
    {
     "name": "stderr",
     "output_type": "stream",
     "text": [
      "100%|██████████| 1000/1000 [00:03<00:00, 273.48it/s]\n"
     ]
    },
    {
     "name": "stdout",
     "output_type": "stream",
     "text": [
      "Epoch 466 Loss : 311.0199279785156\n"
     ]
    },
    {
     "name": "stderr",
     "output_type": "stream",
     "text": [
      "100%|██████████| 1000/1000 [00:03<00:00, 277.18it/s]\n"
     ]
    },
    {
     "name": "stdout",
     "output_type": "stream",
     "text": [
      "Epoch 467 Loss : 308.1837463378906\n"
     ]
    },
    {
     "name": "stderr",
     "output_type": "stream",
     "text": [
      "100%|██████████| 1000/1000 [00:03<00:00, 281.12it/s]\n"
     ]
    },
    {
     "name": "stdout",
     "output_type": "stream",
     "text": [
      "Epoch 468 Loss : 312.752197265625\n"
     ]
    },
    {
     "name": "stderr",
     "output_type": "stream",
     "text": [
      "100%|██████████| 1000/1000 [00:03<00:00, 272.41it/s]\n"
     ]
    },
    {
     "name": "stdout",
     "output_type": "stream",
     "text": [
      "Epoch 469 Loss : 311.5220642089844\n"
     ]
    },
    {
     "name": "stderr",
     "output_type": "stream",
     "text": [
      "100%|██████████| 1000/1000 [00:03<00:00, 273.71it/s]\n"
     ]
    },
    {
     "name": "stdout",
     "output_type": "stream",
     "text": [
      "Epoch 470 Loss : 310.3209533691406\n"
     ]
    },
    {
     "name": "stderr",
     "output_type": "stream",
     "text": [
      "100%|██████████| 1000/1000 [00:03<00:00, 275.02it/s]\n"
     ]
    },
    {
     "name": "stdout",
     "output_type": "stream",
     "text": [
      "Epoch 471 Loss : 310.56536865234375\n"
     ]
    },
    {
     "name": "stderr",
     "output_type": "stream",
     "text": [
      "100%|██████████| 1000/1000 [00:03<00:00, 276.35it/s]\n"
     ]
    },
    {
     "name": "stdout",
     "output_type": "stream",
     "text": [
      "Epoch 472 Loss : 310.2678527832031\n"
     ]
    },
    {
     "name": "stderr",
     "output_type": "stream",
     "text": [
      "100%|██████████| 1000/1000 [00:03<00:00, 280.59it/s]\n"
     ]
    },
    {
     "name": "stdout",
     "output_type": "stream",
     "text": [
      "Epoch 473 Loss : 311.4413146972656\n"
     ]
    },
    {
     "name": "stderr",
     "output_type": "stream",
     "text": [
      "100%|██████████| 1000/1000 [00:03<00:00, 279.00it/s]\n"
     ]
    },
    {
     "name": "stdout",
     "output_type": "stream",
     "text": [
      "Epoch 474 Loss : 312.37548828125\n"
     ]
    },
    {
     "name": "stderr",
     "output_type": "stream",
     "text": [
      "100%|██████████| 1000/1000 [00:03<00:00, 274.57it/s]\n"
     ]
    },
    {
     "name": "stdout",
     "output_type": "stream",
     "text": [
      "Epoch 475 Loss : 308.8863830566406\n"
     ]
    },
    {
     "name": "stderr",
     "output_type": "stream",
     "text": [
      "100%|██████████| 1000/1000 [00:03<00:00, 291.49it/s]\n"
     ]
    },
    {
     "name": "stdout",
     "output_type": "stream",
     "text": [
      "Epoch 476 Loss : 310.601318359375\n"
     ]
    },
    {
     "name": "stderr",
     "output_type": "stream",
     "text": [
      "100%|██████████| 1000/1000 [00:03<00:00, 308.85it/s]\n"
     ]
    },
    {
     "name": "stdout",
     "output_type": "stream",
     "text": [
      "Epoch 477 Loss : 312.5333557128906\n"
     ]
    },
    {
     "name": "stderr",
     "output_type": "stream",
     "text": [
      "100%|██████████| 1000/1000 [00:03<00:00, 313.15it/s]\n"
     ]
    },
    {
     "name": "stdout",
     "output_type": "stream",
     "text": [
      "Epoch 478 Loss : 309.72515869140625\n"
     ]
    },
    {
     "name": "stderr",
     "output_type": "stream",
     "text": [
      "100%|██████████| 1000/1000 [00:03<00:00, 306.39it/s]\n"
     ]
    },
    {
     "name": "stdout",
     "output_type": "stream",
     "text": [
      "Epoch 479 Loss : 309.3331298828125\n"
     ]
    },
    {
     "name": "stderr",
     "output_type": "stream",
     "text": [
      "100%|██████████| 1000/1000 [00:03<00:00, 308.69it/s]\n"
     ]
    },
    {
     "name": "stdout",
     "output_type": "stream",
     "text": [
      "Epoch 480 Loss : 309.3514709472656\n"
     ]
    },
    {
     "name": "stderr",
     "output_type": "stream",
     "text": [
      "100%|██████████| 1000/1000 [00:03<00:00, 313.80it/s]\n"
     ]
    },
    {
     "name": "stdout",
     "output_type": "stream",
     "text": [
      "Epoch 481 Loss : 309.84124755859375\n"
     ]
    },
    {
     "name": "stderr",
     "output_type": "stream",
     "text": [
      "100%|██████████| 1000/1000 [00:03<00:00, 299.10it/s]\n"
     ]
    },
    {
     "name": "stdout",
     "output_type": "stream",
     "text": [
      "Epoch 482 Loss : 311.16668701171875\n"
     ]
    },
    {
     "name": "stderr",
     "output_type": "stream",
     "text": [
      "100%|██████████| 1000/1000 [00:03<00:00, 293.38it/s]\n"
     ]
    },
    {
     "name": "stdout",
     "output_type": "stream",
     "text": [
      "Epoch 483 Loss : 310.0641174316406\n"
     ]
    },
    {
     "name": "stderr",
     "output_type": "stream",
     "text": [
      "100%|██████████| 1000/1000 [00:03<00:00, 297.19it/s]\n"
     ]
    },
    {
     "name": "stdout",
     "output_type": "stream",
     "text": [
      "Epoch 484 Loss : 308.7550964355469\n"
     ]
    },
    {
     "name": "stderr",
     "output_type": "stream",
     "text": [
      "100%|██████████| 1000/1000 [00:03<00:00, 304.43it/s]\n"
     ]
    },
    {
     "name": "stdout",
     "output_type": "stream",
     "text": [
      "Epoch 485 Loss : 311.0634765625\n"
     ]
    },
    {
     "name": "stderr",
     "output_type": "stream",
     "text": [
      "100%|██████████| 1000/1000 [00:03<00:00, 300.14it/s]\n"
     ]
    },
    {
     "name": "stdout",
     "output_type": "stream",
     "text": [
      "Epoch 486 Loss : 307.86126708984375\n"
     ]
    },
    {
     "name": "stderr",
     "output_type": "stream",
     "text": [
      "100%|██████████| 1000/1000 [00:03<00:00, 319.95it/s]\n"
     ]
    },
    {
     "name": "stdout",
     "output_type": "stream",
     "text": [
      "Epoch 487 Loss : 312.4367370605469\n"
     ]
    },
    {
     "name": "stderr",
     "output_type": "stream",
     "text": [
      "100%|██████████| 1000/1000 [00:03<00:00, 300.53it/s]\n"
     ]
    },
    {
     "name": "stdout",
     "output_type": "stream",
     "text": [
      "Epoch 488 Loss : 308.95867919921875\n"
     ]
    },
    {
     "name": "stderr",
     "output_type": "stream",
     "text": [
      "100%|██████████| 1000/1000 [00:03<00:00, 285.32it/s]\n"
     ]
    },
    {
     "name": "stdout",
     "output_type": "stream",
     "text": [
      "Epoch 489 Loss : 309.20556640625\n"
     ]
    },
    {
     "name": "stderr",
     "output_type": "stream",
     "text": [
      "100%|██████████| 1000/1000 [00:03<00:00, 283.81it/s]\n"
     ]
    },
    {
     "name": "stdout",
     "output_type": "stream",
     "text": [
      "Epoch 490 Loss : 308.60040283203125\n"
     ]
    },
    {
     "name": "stderr",
     "output_type": "stream",
     "text": [
      "100%|██████████| 1000/1000 [00:03<00:00, 281.94it/s]\n"
     ]
    },
    {
     "name": "stdout",
     "output_type": "stream",
     "text": [
      "Epoch 491 Loss : 308.87353515625\n"
     ]
    },
    {
     "name": "stderr",
     "output_type": "stream",
     "text": [
      "100%|██████████| 1000/1000 [00:03<00:00, 278.97it/s]\n"
     ]
    },
    {
     "name": "stdout",
     "output_type": "stream",
     "text": [
      "Epoch 492 Loss : 311.073486328125\n"
     ]
    },
    {
     "name": "stderr",
     "output_type": "stream",
     "text": [
      "100%|██████████| 1000/1000 [00:03<00:00, 294.69it/s]\n"
     ]
    },
    {
     "name": "stdout",
     "output_type": "stream",
     "text": [
      "Epoch 493 Loss : 309.55718994140625\n"
     ]
    },
    {
     "name": "stderr",
     "output_type": "stream",
     "text": [
      "100%|██████████| 1000/1000 [00:03<00:00, 296.24it/s]\n"
     ]
    },
    {
     "name": "stdout",
     "output_type": "stream",
     "text": [
      "Epoch 494 Loss : 312.96942138671875\n"
     ]
    },
    {
     "name": "stderr",
     "output_type": "stream",
     "text": [
      "100%|██████████| 1000/1000 [00:03<00:00, 300.16it/s]\n"
     ]
    },
    {
     "name": "stdout",
     "output_type": "stream",
     "text": [
      "Epoch 495 Loss : 308.61859130859375\n"
     ]
    },
    {
     "name": "stderr",
     "output_type": "stream",
     "text": [
      "100%|██████████| 1000/1000 [00:03<00:00, 301.92it/s]\n"
     ]
    },
    {
     "name": "stdout",
     "output_type": "stream",
     "text": [
      "Epoch 496 Loss : 309.3421630859375\n"
     ]
    },
    {
     "name": "stderr",
     "output_type": "stream",
     "text": [
      "100%|██████████| 1000/1000 [00:03<00:00, 314.62it/s]\n"
     ]
    },
    {
     "name": "stdout",
     "output_type": "stream",
     "text": [
      "Epoch 497 Loss : 310.26947021484375\n"
     ]
    },
    {
     "name": "stderr",
     "output_type": "stream",
     "text": [
      "100%|██████████| 1000/1000 [00:01<00:00, 619.34it/s]\n"
     ]
    },
    {
     "name": "stdout",
     "output_type": "stream",
     "text": [
      "Epoch 498 Loss : 308.8678283691406\n"
     ]
    },
    {
     "name": "stderr",
     "output_type": "stream",
     "text": [
      "100%|██████████| 1000/1000 [00:01<00:00, 582.70it/s]\n"
     ]
    },
    {
     "name": "stdout",
     "output_type": "stream",
     "text": [
      "Epoch 499 Loss : 312.6523742675781\n"
     ]
    },
    {
     "name": "stderr",
     "output_type": "stream",
     "text": [
      "100%|██████████| 1000/1000 [00:01<00:00, 624.40it/s]"
     ]
    },
    {
     "name": "stdout",
     "output_type": "stream",
     "text": [
      "Epoch 500 Loss : 309.23101806640625\n"
     ]
    },
    {
     "name": "stderr",
     "output_type": "stream",
     "text": [
      "\n"
     ]
    }
   ],
   "source": [
    "# Try to train\n",
    "from tqdm import tqdm\n",
    "\n",
    "EPOCHS = 500\n",
    "\n",
    "model = SimpleFiniteStepSolver(size=50)\n",
    "\n",
    "train_data_loader = torch.utils.data.DataLoader(data, batch_size=10, shuffle=True)\n",
    "\n",
    "\n",
    "optm = torch.optim.Adam(model.parameters(), lr = 0.001)\n",
    "\n",
    "for epoch in range(EPOCHS):\n",
    "    epoch_loss = 0\n",
    "    \n",
    "    for x,y in tqdm(train_data_loader):\n",
    "        x = x.to(device)\n",
    "        y = y.to(device)\n",
    "        \n",
    "        optm.zero_grad()\n",
    "        output = model(x)\n",
    "        loss = F.mse_loss(output,y)\n",
    "        loss.backward()\n",
    "        optm.step()\n",
    "        \n",
    "        epoch_loss+=loss\n",
    "        \n",
    "    print('Epoch {} Loss : {}'.format((epoch+1),epoch_loss))"
   ]
  },
  {
   "cell_type": "code",
   "execution_count": 194,
   "metadata": {},
   "outputs": [],
   "source": [
    "dt = 0.01\n",
    "T = 1\n",
    "ts = np.arange(0,T,dt)\n",
    "\n",
    "length = model.length\n",
    "size = model.size\n",
    "\n",
    "import matplotlib.pyplot as plt\n",
    "from matplotlib import animation\n",
    "from IPython.display import HTML\n",
    "\n",
    "def _cmplx_to_real(z):\n",
    "    return torch.cat((z.real, z.imag))\n",
    "\n",
    "def test_model(psi0, v):\n",
    "    \n",
    "    # Solve numerically\n",
    "    print('Solving numerically...')\n",
    "    xs_num = torch.linspace(0,length,100)\n",
    "    num_t, num_y = numerical_schrodinger(psi0, v, ts, size=100)\n",
    "    print('Finished solving numerically.')\n",
    "   \n",
    "    # Solve using our method\n",
    "    xs = torch.linspace(0,length,size)\n",
    "    \n",
    "    psi = (psi0(xs)*(1+0j))\n",
    "    vs = v(xs)\n",
    "    \n",
    "    psiandvs = torch.outer(torch.ones(len(ts)), torch.cat((torch.zeros(1), _cmplx_to_real(psi), vs)))\n",
    "    ts_matrix = torch.outer(torch.from_numpy(ts), torch.eye(1,3*size+1)[0])\n",
    "    \n",
    "    nn_in = (psiandvs + ts_matrix).type(torch.FloatTensor).to(device)\n",
    "    \n",
    "    print('Solving using nn')\n",
    "    nn_t, nn_y = ts, model(nn_in)\n",
    "    print('Finished solving using nn')\n",
    "    nn_y = torch.complex(nn_y[:, 0:size], nn_y[:, size:2*size]).cpu().detach().numpy()\n",
    "        \n",
    "    # Plot animations\n",
    "    fig = plt.figure(figsize=(12,8))\n",
    "    \n",
    "    plt.rcParams[\"animation.html\"] = \"html5\"\n",
    "    plt.rcParams[\"figure.dpi\"] = 75\n",
    "    \n",
    "    sbp1 = plt.subplot(2,2,1)\n",
    "    sbp1.title.set_text('Our model')\n",
    "    sbp1.set_xlim(0,length)\n",
    "    sbp1.set_ylim(0,2)\n",
    "    l1, = sbp1.plot([],[], lw=2)\n",
    "    \n",
    "    sbp3 = plt.subplot(2,2,3)\n",
    "    sbp3.set_xlim(0,length)\n",
    "    sbp3.set_ylim(-1*np.pi,np.pi)\n",
    "    l3, = sbp3.plot([],[], lw=2)\n",
    "    \n",
    "    sbp2 = plt.subplot(2,2,2)\n",
    "    sbp2.title.set_text('Traditional model')\n",
    "    sbp2.set_xlim(0,length)\n",
    "    sbp2.set_ylim(0,2)\n",
    "    l2, = sbp2.plot([],[], lw=2)\n",
    "    \n",
    "    sbp4 = plt.subplot(2,2,4)\n",
    "    sbp4.set_xlim(0,length)\n",
    "    sbp4.set_ylim(-1*np.pi,np.pi)\n",
    "    l4, = sbp4.plot([],[], lw=2)\n",
    "    \n",
    "    def animate(i):\n",
    "        l1.set_data(xs, np.abs(nn_y[i,:]))\n",
    "        l3.set_data(xs, np.angle(nn_y[i,:]))\n",
    "        \n",
    "        l2.set_data(xs_num, np.abs(num_y[:,i]))\n",
    "        l4.set_data(xs_num, np.angle(num_y[:,i]))\n",
    "\n",
    "        return [l1,l2]\n",
    "    \n",
    "    anim = animation.FuncAnimation(fig, animate, frames=len(ts), interval=50, blit=True)\n",
    "    \n",
    "    HTML(anim.to_html5_video())\n",
    "    \n",
    "    return anim"
   ]
  },
  {
   "cell_type": "code",
   "execution_count": 195,
   "metadata": {},
   "outputs": [
    {
     "name": "stdout",
     "output_type": "stream",
     "text": [
      "Solving numerically...\n",
      "Finished solving numerically.\n",
      "Solving using nn\n",
      "Finished solving using nn\n"
     ]
    },
    {
     "data": {
      "text/html": [
       "<video width=\"900\" height=\"600\" controls autoplay loop>\n",
       "  <source type=\"video/mp4\" src=\"data:video/mp4;base64,AAAAHGZ0eXBNNFYgAAACAGlzb21pc28yYXZjMQAAAAhmcmVlAAMmnG1kYXQAAAKvBgX//6vcRem9\n",
       "5tlIt5Ys2CDZI+7veDI2NCAtIGNvcmUgMTU1IHIyOTE3IDBhODRkOTggLSBILjI2NC9NUEVHLTQg\n",
       "QVZDIGNvZGVjIC0gQ29weWxlZnQgMjAwMy0yMDE4IC0gaHR0cDovL3d3dy52aWRlb2xhbi5vcmcv\n",
       "eDI2NC5odG1sIC0gb3B0aW9uczogY2FiYWM9MSByZWY9MyBkZWJsb2NrPTE6MDowIGFuYWx5c2U9\n",
       "MHgzOjB4MTEzIG1lPWhleCBzdWJtZT03IHBzeT0xIHBzeV9yZD0xLjAwOjAuMDAgbWl4ZWRfcmVm\n",
       "PTEgbWVfcmFuZ2U9MTYgY2hyb21hX21lPTEgdHJlbGxpcz0xIDh4OGRjdD0xIGNxbT0wIGRlYWR6\n",
       "b25lPTIxLDExIGZhc3RfcHNraXA9MSBjaHJvbWFfcXBfb2Zmc2V0PS0yIHRocmVhZHM9MTIgbG9v\n",
       "a2FoZWFkX3RocmVhZHM9MiBzbGljZWRfdGhyZWFkcz0wIG5yPTAgZGVjaW1hdGU9MSBpbnRlcmxh\n",
       "Y2VkPTAgYmx1cmF5X2NvbXBhdD0wIGNvbnN0cmFpbmVkX2ludHJhPTAgYmZyYW1lcz0zIGJfcHly\n",
       "YW1pZD0yIGJfYWRhcHQ9MSBiX2JpYXM9MCBkaXJlY3Q9MSB3ZWlnaHRiPTEgb3Blbl9nb3A9MCB3\n",
       "ZWlnaHRwPTIga2V5aW50PTI1MCBrZXlpbnRfbWluPTIwIHNjZW5lY3V0PTQwIGludHJhX3JlZnJl\n",
       "c2g9MCByY19sb29rYWhlYWQ9NDAgcmM9Y3JmIG1idHJlZT0xIGNyZj0yMy4wIHFjb21wPTAuNjAg\n",
       "cXBtaW49MCBxcG1heD02OSBxcHN0ZXA9NCBpcF9yYXRpbz0xLjQwIGFxPTE6MS4wMACAAAA9h2WI\n",
       "hAA///73aJ8Cm1pDeoDklcUl20+B/6tncHyP6QMAAAMAAAMAAAMAACjSRclcWxtNk5OAAAADAHRA\n",
       "CpvufwZp/zAJirjh6kf9xhII+5TQ6zHDScKYUcnO85cspzfv2lUOsJTDXEd5mblECDnvMkgWlqda\n",
       "n38UbqT5GfVLbmWjvNJPdsNqm0Oz/bpjTr+ffCxiHWa+ed9SXgleWwJBrzz4avmPn6cF4wS1x92t\n",
       "gQmiZOb/xkjNhvq446Z47C8naTCa/fphUt9V/x6vWM8GtOQ8P5R3eqPseXnLla2p+coO5HogluIK\n",
       "7oRdcsWg18nUz8rDf/usVee1UiA8yoSigtmOn6RRNUqsENl72ceJEIIr3vWfiglDr6V3QBYepknm\n",
       "vay4gaiBxPWNwQvz2DTO0OZefdF3Chc05VnT8mYto2l+f+2yA2EWVV8DMEFlAjbl9ugtWU69h2zb\n",
       "/KuSb2hgzNahcA5CXgJkR1oFg2Pv5QvVaLEOh1vE/YMaKfad8oB04Q7XMOJ3A3Ipj1iQVOYgGsxH\n",
       "jnEWueBGzA1OKxe9Z+cWprjm0Vzg2W+zAIry3Hz07aMI0XIwzoewSethKljAgE/6sFbfQWsapZFa\n",
       "ed/rOhYMTBY/0NBz0xEPDSSkUNdxXmem/Or4PAtRS2o9rFnlLfOUAP6KzShdizvXszbX9o8SGbn4\n",
       "t40o36hI/kjKIyeXYUe2zpX/dXICUaL6heh3y0OGbVYqoGlScibTcZGdRw/LUEWROQTt6/wKm3in\n",
       "/kI3tIg/+rXv+VMIu2vGxfQDve+aKl9aKi6qardEMDsEVsbHZpA1mP2Gihp86ve73BOB7kw3SyVO\n",
       "20eAC+6lEzj3kr4TN/Jby4jNgQDCiqBFo0dLdUZLB88GNObt43w6Jc6BILFM8z4MMxMB9LMZ+WkD\n",
       "Pp/14kVKr0PFf+7ji9RCnz+cM39xBHbaacS/HPB3pZkAIwdTdISX7wh3+vIH12Qm/ewJkqfOlhxZ\n",
       "V3vSzsslCd+oghWz2CVfvft3/WGuv+TdjyJIwS1HFOTYwXGRaEhqn3/C+pmTr9h9COYOihP8LiGa\n",
       "skHYngGDZGpBFXQwFVwB82ttbwC4GxL1i96phohX8kR7ZlN0r8PPBgAnuKKh3FkYHym/6yKIjEvK\n",
       "+a8g56rnT410LQtLqv2fM81xg8mxQO51JtEFN+gZlzTAGRd7YKDFOXRjF5JvipmpfD5gqt+Z7TIR\n",
       "LdfJUbykCkd+NlzacoG1PbAEjnsmYATClEIkHWDUCMAb6qjcSwpYtEsj56gDzC91ji3MQ/200sq6\n",
       "M08pvbFprQ6Gt5HG2c6vLjbg0eXTSwD47YyguJrgfvQQPaPE6XkmJkzH8/n6V7A/dDo0nk13zsRJ\n",
       "SiroYdGry/+pb2jmasc5hY25U/PaQAI58LuNhBHBUoSyAfUFUqydnkNZ6bssrNXUryaA/QMToo/d\n",
       "HYssXy9EUeVV7nEXl6aPe31rfU50BSQiFqzmHwYh4uWPwX4Pe5/6QfSujIYxsSDl9yJ7qCKSTnEn\n",
       "36biDBVp8urh8MAoWy1zDlWLh+7a1BriO62jRO6h+/JO/4n2yrrZ9MJz1CvcI0RctC383sxLRQnw\n",
       "+q+KriGquaEo+F9fApnqDx+hMyQP7Y/pzsXfJGKNdOIJM9B7V2maREzfIBaJjeNmk/hkW1HDIIR/\n",
       "Szz9jBBw5AUiYdlelqGTGf9mFoqLJMijM+dlhopDz8fz6AxmU03TQrZPpWPgjvl87vSaAYf/rP8T\n",
       "7wV+ttN73WElN3jJw19XjdPLZ4Nv/hxlDHvQyjorcnp/93X9kGIuwgjjFckrL0szdXldeXQiz1Mp\n",
       "otGgdbqGB4RYHX28Z3w4ll4c3tO+9GTtKONc0ogNClxLltIiiOW+w588rQIBL004Txb+CSkkkAtg\n",
       "E0X8gAvjQ77yrH6F1/AwxFYkrITQWrfsvFG6lR8RuJYUsWiRwzuQ8MrZqTzuszhZEfbOgYqEPqCf\n",
       "XD9oY9jadFcGUZ0nkFgUzD/rWZicsQMJ1rmMTVkmUtVWh+mfxYO7VxojfRuu1YdzFyndJXZgOIiU\n",
       "CXqyBnzv7Ge60KB3JOWTvZC+jk9vMa2qbVk4YI2erTGbFWoEb2DTGvFHkVkGbb2g+9aFLVDf4xoF\n",
       "O6XKpE8Wna/0CXEMvhsICpCZYHKycA53cBjPU3X/zLBLnezDPbV50JCA87MYbRnBDB+HjjcDuABO\n",
       "JPE2IMj2pfpchsd1MiooZE7ULRQcwb1yB1tYP5iOPCriy4aWseAQZ0JluABdMkStgPVAbDCNTBTh\n",
       "alcrizM12qQvXzERi7idtAk513B4KpzCKbnCIABV/Abb9T+byj5O8M4zY21G/AuzxpGA8/8IqV9D\n",
       "yt7btUdK/Lrt2fS98cJmGvv6fbx46l0URQL/CnRt8P0e+oFT1ouEUXY/MemMbsDPDD4zx078NIxy\n",
       "tPFQFRxpTIn79yya+sZ+66epPIhYDhw4zGOc2DkC3Klj08FVwnJ+XL3BvvLlM82dC8y8FoO4GegH\n",
       "uo966G0bu3AvAaof361P/crMlSJV44aRAdEz4wtiksfI79ubmWe77DfujlCHDp3u6/bVRA0xz1Y+\n",
       "4ze/o0iOr7AH19jiHTn0/dbLtugK46huJmgcdNgKPeJkncCPBkHXn433OzpedKXLbliBm3/jMn/r\n",
       "h2BMoxjh2ZRICQU7+CiJ/ZBqkku5RsGOMMKz6+Tnz/3v0BhUAkfgZk39eCGFC59WWPk6HWdy53Vi\n",
       "kr4wdXKIFm+9vUAFOkCSrNCxPiFcOPK/zLa/+qTqW37a6WMyF9gLuHA77y9/06Z0xRfuDPRKRVub\n",
       "2ulK1egMxWvWFc3PJMPh8Tl12deJndh9saWDqSvlTWwqQHNrMLsBx3+yeEqsnCtVMxsaNjJtWChG\n",
       "1NcTyVzWFbXh63g7lfZt6aT7cZ6RBTADqtr5gAAtsoA/bNvfP64QHli4Aiv8I65GFhkhz0d1nSZK\n",
       "AgPbf88yFfe/SBtR1Yz/BzQTqarWswAnfGjoZCXIAbPpivSftCYOTnU4moZ8kvQjMWH8D3EHDhLS\n",
       "r+QyigZK47mwI0BK3CRqtI+nG3WL0WermZ/VKjXjEoZ3pCMdswzv0hOBd7OQQi4XjhAdPFuEiceT\n",
       "KoJ6/HDKXoBKQUr6bKsL3LCefl/1r8nNvdPU1OEMythPaKzZ+1TUxeTdMFXs11D8KKfGl/2MH9WQ\n",
       "/ykUntQj4/gsIhnpmGMlczjKMIqaqSmh63eB3JL1cRR9qsGNshPY1hu4jdrBnDSBGnRfXh/XW/Hb\n",
       "Hvhzl5J06ZuW8KJDwUmJSzw1iWgsrYyEy3uUqRlC7NhEh+2z1JhJwkFWZwL1CMpOhBFUqcATPrbM\n",
       "HPf8tqzltjxa8v1hZI1Tr0CW4WZmgJU/KDy1mvD7BHMIO1hIkASDZ65oax8NNn8zQ1PYlx8gC3an\n",
       "TUuK6YgKqTgB7j9TaTOxp+5HWSr6aavsYpJLLy+R4qOYBJWmpizhT2PgT5OVLSMsKXZp9jwBUvPd\n",
       "xyDmrjKBCA8v7yyY3DkEvmx891q7WY+PPBhRktN3eRa9Rv1Ns8o2jtlt4B+X/5NE9YPlisEvWYiF\n",
       "WZtnx2PmV4O/Uehqp0HOrRsYgc+Xz44X6TZiidtTQ/2jw34AAAdgmzklJkBy7HzqSJG8wHIwFd+g\n",
       "pbwLLg7ksjMwE4tkqv/JFyItL5Hs4TiZtHWGAWYkLl7siiLEV/DXEndGdrQ2wylg+EILH+dUsD8q\n",
       "TBDpkxeYKfavym+pn/H/IgxAVURzGVbGqoVkXiSXDHQg3DB1pMX2Rq0U3AJ8pMxEWiiWbdh9yg2U\n",
       "ovm5ldRTg4mbw8d92KhBr5lnpta+IMBEBWNpqu8qcvq4hJFXienS1nKFaepkP0vgZE2943+iEV0i\n",
       "CJJdhx8Qq9qcLaEBcsqLWaci7QpWMMxHrZ46+AMAvPGn0OF+x4LfSxH4lyRgcig47Wm1XpRleNi4\n",
       "voZUlLGoj99m8hFg7eV/4nKLu5CiS6VZgUSU4XdKqMfiZHUMtiWfuy4uz52jI6ylXC7tZ3y9OLiP\n",
       "jRKCKg73bN5dCCsIZsb7QC5ipzautiI3XZ6spEPQYzza3xMJ0gIguOkyhDFdG2iF1+YoankpV5sM\n",
       "WucOMpjhGVGph8Whe/QuZMs008eK/V6A5EIkPPlXsI2t0esOfj3asj+ANK2x8phtGdrjzsra8Fyc\n",
       "mPuSGrmR9LHCWCLiGb0JfjfplWZZQR5hT1a4fcIyi1YCw9+NxSsODZ08toaGmCfWtV3KA/9U/NLX\n",
       "mq44QjWK5JoesEJk4+AyZWSB/YfDj7oNev+Gk7stiMvfbNF81SJ9ZiqLbb3/rQsSYmbe1CugNGN5\n",
       "KKpNPknS5t8P6uSMGzMt398jc/HGtI4CSvTbcEIYZR+YXcoRCXiL6TKCBCbkFCl9hXX8cjKbTQMG\n",
       "1SMFoAAAFUEwr3j9em4gpggtXoBWwrPJlqmWLxTSOPyN9szk7NG3+EgR8263/3XPQ0XyqoJWxc0R\n",
       "wDMZaQe1xe2lN4yAJjKn0ZSbDxBrk+P1cp+y8qev23ai7eY+mMVF4qgnEJgB0h/J3ah/aiv+8TFx\n",
       "TKcumjNFGlFk6pz3mz37Wa8fcFU9UBjA4039BGksk7UJ67aYQCGhyIaFwr9TjToSKfG+dimuwsdp\n",
       "/HpqMxKHPwCe5miQCgy+cIiwcorakLUAAXa2bHtulJVGCfBxf/s9I+Dzpv7Jc5FeO0ctGE+PZz3d\n",
       "jCDJnUOnSKiY3fC2bSSuuhFzFU0SRHfVZskkSFwaDOPtqeMIFbav1HrtFzXnnOJi/InuS46Lnyoq\n",
       "f8PRfWZMuGWIypkPTrfuGuDzL2SvuaICX7ydJrCTqBgE3WJwoQJ7Xa3vEF3F3k7wZXTf9YInEyXj\n",
       "n8crSp5fELBe3r5WQWSfPyo4pfLga+56YdQX/5tQc63J+1C+bkooggpgk+kivPBAigiqXRpRiFRk\n",
       "6jDLuL9H91lDlw8/+yeGjtYBlpRu60aWbiJBfceQAvwiDerYqhef3TuJs6uVr1UfoqhmQevFzF0q\n",
       "nxRBFlzgfAhtC4pFxQpXksMaACq3SVFitcrCytAaLnlukr6NwJvQzgCLEIh11kclUPDT+c1UOzoq\n",
       "Z9QD7xTDPgPr3f/kuNZ9RhMuL+AIuw8QPPZa3mQkJK6aQ3L98J8wNh0NVZ+6p+dGUEDqwqw2mRnm\n",
       "NVJ/9FHkm+j1xWyqqcfuQoy2lbW5mLIcVMAfWukvJzbYrEPhP9Fav7dRIrNNZ0mxbgkLiVuOZ5jY\n",
       "rTBNme5Sk5sOO6KYwI62TeMM4j0owywiRrx7dG9QzkDX0A0PFM/s0+hDqf68D6rlmkcZfX9Y8mKn\n",
       "ONlBWQf5LG6XDYIGMDVv1pV9471ZQqWJ+bXsi3LYb5aLgRRW+dLgOeQrAQ5oH6Hznvbs8ROUvtud\n",
       "Y7SSHK9N4FsB01zct6It/4JSY71a3oRgBLjmcdSAAEhREAt6UeW3z5D4vZQkeTtlJGO+Ugmti4ba\n",
       "YZui7nOm8Ej8O8UjfcuvHZ9X7w1kAHy9uH9aAGLbAyE9rLkOekbtmKtAMVZEehhC/STuxLyHwMCE\n",
       "eJxYjzS+zg0vp8blbIgvDfkDngqonNlWyuMthebAZx1cbRpUMnFjpnEBxmPxrc2PSO332akBv7FD\n",
       "XQKxQ6rgmkuYRw9NSYGeGhbeGuSjjwsjPa7A3BGUTw3LjxS32A2eNWy274KpkTUxCAWqOYNVCikk\n",
       "A9C/XRxI9odME1oioOIS6yAYve2iWXlSk/fjf/7oleu2w+RVxLMOvFXDtBudeJ0eY3mm3Mv0Ftpb\n",
       "IaKsT5f1ulk9Ys1q4vqitijleN8/jOgCGWWpvcBxDM61tG6KIa7rYBEPEVxO7oUMU8nxmuVUcz3L\n",
       "7MVb9oyCRQyPmVm448AVGcTgBAvE7tfh/F05GTosD8qtM8zVeVLLfQcIZR+P8HqJmbjglBL9fyWD\n",
       "kuyWA8pyEu8p7cUuY/Lwh96O0eo2DBFSw2UdGptLBXMPIfyyCuMpbY9Jc0OPYilJsMd5A386tsO4\n",
       "3r1k+uG2eBs4Q8/pI4c2X0RKHS3iD4GD0t8TVLra2Ka6t8ofWomxZY/zAwa+Z/IbIifiMMxlYmNr\n",
       "vE28/MmvKhefCzqUHc39T5XWP2I9Gx6HT543crfkJF+bVcKURym25D47pWTKfEB0cD/gd8lAObLk\n",
       "u64dIPbuE5sRQRW6jtwz9mMmd/mKGzvKbdP2nJh8S5NctthULAD4EiEbRD0f2i8Z+rFgmgCOaZ9G\n",
       "wHpUyp9BWYXvdpguuKybQYcjofzwszS6Qvu+AuDe7toZa3rWJpO/IiHfwH+eJBBS0JY4vj6cR+cI\n",
       "445Pn93FiQJCPr3xj5zQfqeffbOAXHWV5qnEMHE5WTle+QM+5purgRe0GLz1QsvJB+/YXIcDRTR8\n",
       "ffKtqWlZN2RNs1LA80556j9ywmj8z3nuJyt6n2PZOMvCX/GgGo3jv/ZIZ9xjYnvPDGfpFrwIhQmz\n",
       "SiFLcqjNyCHj/eN3rq2vkUeth6kMHYt6xf56erKNYdB3ll6x8rWPUzO1XtKNGTZgTL8dgyZFcYiM\n",
       "yTSKmVCZMGGMThR4BnNtFvXMJBfM5LJll6DvM+Hq4+DqmQ5BST2f+Fek98PSHYChzJnZQ/ruaVjf\n",
       "6xb+XF0tWX781M39To7doi4odbs9SiliudxXQZKYVqLRmpogyBw+mjMJmg/4uEmPGbB9Ha8YtP7M\n",
       "K9Kf/zUUVFN3QIaHGkcBtZ9cu07jeCe16VC0bleVlTwnFqaKkUmOIxWxaekW3EP2mjDtTG5+FTL8\n",
       "4wMIWDY5liB/zBuLZ+i4uyz0U896Iy58mbA53Lslijrb+tmBbSWolB05bkIyV0Lj56OO9m62a5Za\n",
       "HROgOqZXavDGc0M22wS/xdBsFT97kvLLgtbvLcxBSftxLqUUmph0UBj7O/NeLJ4wqBpgj9pJIEJw\n",
       "ZCqti0asFxneihAGaaxfknEg81wg+72V/eZdg34fA/sKa7MKF1CBSkvZyIx+8W8s5J+gvb7I5T3C\n",
       "k5gSNamAdDfZXTp9/QaecL8HFN/2NStj6id3YqqN+aECuqmy93+kCI8EuoU/COoZM6Dq5gKPbWL+\n",
       "UZMVTSLcjbdSqBKd16df208sxEH3H0CRTKinlXQQUd1a10cLYcvVsSEwrmei0t3S8t0F8jwRTIhc\n",
       "N3Qslx2RmIynSg5LRMmw2Drsc0jyA0fO7BGDqE8jl6rvBdmb7jkEzNuOTc4cUTw+cuOXTEVuaqnz\n",
       "F/kU4LHH+mPA/RncnczoS84BUTYP+ZWGtduO45C5yTRXASGm/GJLi9gOOoWUXcI1nC92KhRgOhqH\n",
       "B09Bt8+g18F39JfmQajKQgA5QgdJ208MTH1Vm32cdw7uRTBavSDYI7rIGbHaxKVmKMad2c0TnHNZ\n",
       "8gSioQZb05tD+U7newdis6TBLJxraGKd2zhtAJk8kDJ3uhWarT204AZOnA5frGiZPHlJBPM1OsaJ\n",
       "zT3YOC6FQr1SLEVLUv4vsVQj/QNUEpJbYdlRgInIQPS+x1qVKsRZn+Qm4EzyinozUKbdqqp0avKG\n",
       "fPQY3cQ/3OGr5G0QgxoDzfA6kReVhrXyZK91S2Xcccgl0gc8Juab8zyFsiNfldvDU0jcHSpICC7l\n",
       "BijTVYv3ouwsA9lZtl59ewV+h2S1p+xOZb+L/FvpWSip1DMjFru2nLP/CIYDea3xIDLUDQ+TM8Ci\n",
       "JVFPz7l/lcgBWdysTnd6dvaffSdt1v9bYA4kc67fMZUyVLlEKdlvJSgF5Owc6+SGplQhQmtY24Gy\n",
       "G1o8bejLqmQHElhDuPJDz6dfM02KuJNvvyaXhedcsM5HUfVBU8fkqc46L9MQMos9GHfP+9xDzL/6\n",
       "8W8HsN37dFxaonoEMuwzA6mriR1fwZUknNYLZilBOKqT00aCttr0Cp8g/UJOiuE5oJTRgoruZllv\n",
       "SORSW3kMDRiROTcCmwvVuTERsNu/3fjZiJPhAHgWyLgSxLJOY2n2bV+jxqyjKDwcM1LC/1ekmJKk\n",
       "YUW94XQn8yRr1fsViAHMCgKg2lzAXetrlwhnt5Wy32PSm6kagcRHiDamqATmICmdfvG421iL88r4\n",
       "4S855BeLRT3oQKb4hn9YIRj8492RV7OZdAIVG3OnLVDT1kI+RP2C/212LV1JmGBlgyBGOwz2Ynko\n",
       "e+VohGPNX4PKi0SSxrNd9CIJu/tru51FRVNuBkZUJwJvLtTWB/AqOTzG1N1otOgljCYPA2MnLczR\n",
       "kQG9mncvxUGjKsO7xERVSeLthY4ZTr6guN1nYDYc9eq50Wo4eqBnzFtHuCT0VjZbTvmqlxl6GxLm\n",
       "yRjCpk02h/3UNXYCmf53Dplt1bbk4cAWjy7yj9oaE1qBuCvnMCcvYoT/j6BualFpi2gYe33HcPSt\n",
       "yOWpFx9C0E6TiajzcTgSEF9+2fElVnkWDNBmCLRP0vPJK+1MV6Ss/ntbKPJfk+c5Ycto/5o+Ik1a\n",
       "PZ9qIelxSG7wCrwZ5KXMhqGpI9ANJkCGaz9zw0VNfxSEVRjAZiAd+9LAodQYwTeC4YuirSPQkN1C\n",
       "egWyB6lj+Fn6e2IwepMfOdqlDV06I/rgyesZ8x37sIqwlNxPNj7aukDLFFfdPg7Rzr7Nb3TryRGE\n",
       "vbavXcEac5rz9kKfQFLn/L4IEmjXF3Lm5uyiURG7+CHAAbcNvVBGoXHnqcnxQhyykaL+Y7fsRkld\n",
       "1I0ATDW/esvnVbvcmFHCY8or08vXfr4Q1rK1W5FRgdrTTm7itIP9b9Hc+kE1mZOFb8sI68jIKteF\n",
       "ES7HVcE4TlfG2HPmM4/auT5WE7wLP76BD2kaYRib5q/liMoMB4Q/hemLzaZgQKcQsDDVZoCT/iwo\n",
       "w/nT+omde2uegFHxZirDYKVDf0fF9us5PFRFeRDcSGcH4s1G+B8KiHEaGOaXK257iet+e4sJF9Xh\n",
       "HEBy6Fj9gl7Z+akQLP+o7h+XXmRR3msLhDQ94yIAvOpLf2nl/j+OPzQ6DAgivpbGJXLww0ufdTyY\n",
       "0YuR4k/tnD7D7dSdoGJu5+H5IEJRGCHGyPBES6VGEux23CUY6rpfVjyHPF3Dnafy7wuR35ioJ8FV\n",
       "KEy6+yLG+JpQITxUW0RMoX9+io61QPk/dhyueNy3sFa07pUzsC8qdJ8Dtq9i9u2qn4GP7ouxmgbM\n",
       "VhcuElKbWxGy4vxSBqCy7SeAt4nTaEJVYt6ggaueMlZl/J2Z7XMQbePHigeBwDmNoJBB2c8q4ND7\n",
       "ULSw8CjI0brKfUVdRs0R62Gy5UNjEafvm7DVYOvzA+Yc6WFClNR3O69gPUYpMB4/6ZOVOYgKy+R7\n",
       "D4nqHy25K3dXZCZnOcm4Gq9u5ooQtic7AMejlNPLdz3Km+qvk8frbr5SegLmFDdqmTCdBZ682Ch6\n",
       "D8Dxr8TtZxVy6d8l8+yRfpKF570NT9Vx9SH3sXn4ucZv9XTj5PwipM2ZCDuQnOq43LaViETE7FCV\n",
       "7Oe2AIdQnykyRCidjyJ+KnRQiPGfGJMYxSiUui/6js82DcP2DfhWoOOKMYIo+aGBrjNMnR/2ga5W\n",
       "ZIh4IM+x1Vv91DklOK5OLPFvHp5fJpmPQ3sPpcJqNo9DG6G23bpMmdKsancqlHqtiK/Ocx/NZBDW\n",
       "4shF1V3XYbN9Q82oH0k+Z82BbbmdXFbnEWlMxsNW4JNdTQTquv8mLAthZoULBs1DFIvKlBF0Hau3\n",
       "6LMp2eDE/AvvuDKduCMJ/E9R1/9ElbWv7lnCN64sKnS2FtBY5QAmUnBjCZYW/8xuyafLN9xuFyqj\n",
       "04LoxWY48QLCO7QPCTx3Ai2vJZUgAoNWpQPkPBZLmSSVoOZWeRTLWBTGHWqyDTndZFaY8Am0NQiF\n",
       "u3woTt64Od3EAijP7wjGEGutmauzBFRnh6e/moqsuf1vegFXDadPUazy4r/owsdZpuj+dOai1xRe\n",
       "0dZTvRNlUwU4UmRNPypZaDPUXTHjDoGlNV/VTTjcMNKkEQNnwagSwMKhJ6HJfLFIEYONi+iCV/wY\n",
       "DxPLZA9+kPQxHVBs5zyRPVe7srcGdUTpZjLN4V4lEFDH5uDt97nsdIK0Js9NtVS+G6pnNCn30KjY\n",
       "gpCvZpgrxqK4NovdhVds1v+yyk+mDdzxjWpmVh+W3BZoKF/mIjoQ3WYzmoeL2nkLJ6OtyEdFkREM\n",
       "FqN5ML1sZmC1M0EgH//TG+h8WB2T7iNFiqOunCUbkJcExsOAzVIxAAAMdHiUirNFYSYXYhoT2yzH\n",
       "pfEJPjudWjcMxQeN353Tsh2H9MhJhpOD/Fffp5Tukt8mjTDDZlQ2tUAPdx8vKyfvpoNqnLUMJscM\n",
       "RjvhLCpOp1jmLSfOL5bwNJYzJsGx7QjVWc+PVrKZDFAHWJ1WSNxXc4OSnZyxFQbac21KKnwJz+eV\n",
       "LiRjFPHdp1u2ady4itEBTbSO/Z6f7ZTwRFcZyEtKT1Ws1ZlYZFpGTFrCFZRgRr+Z+IMGMmu0tfAv\n",
       "Budcvv4a9T7l/jVQWd0dHsX5qhXYxCJuzBhRsY4KiXe0fb8w+fPK3aGzMgyMsmtdofPn4GxlwVWn\n",
       "4YPin6bc4A0k/4A2Focx+rshNXVNzwbNUFGXL4hKmKHloovOy1MY+3vj34p7ME2m94mgf8YcAEgS\n",
       "0Cj0q75i4sYHM0xUb/UuyR24/IyQD7QciPSH1hshOOVmiVOTdgHaNaf5L9bkHOVeHKKDdB4EORIz\n",
       "nfW+sAPNaGBnypHs5y8VjD9jH0MtDPo82U2LeCAIDf/IO8yV76WFzEhli98C8UFlrp4r9P8fPCUq\n",
       "Xn6F6ZlsOql2htvAAfiQa8xILGUptqIqY0r/yiZ+J6EhCunBDMK4uGFAJZ/ohJoj0lfRQ6wSbyEA\n",
       "YKHXrkUADAckJaAocPw998+sJ2PHdum8xJqikWSulmL5HBsJ2Q83dV5HzkrorDYE8w6j+NiWwVH3\n",
       "Bb18ngj0OG7Khnfbd8Tq1G8i0E6+oOnEPAfOnpUMlRDWUAP9dE/H3szvmobzQs59EVsM9BwPsajV\n",
       "VvDEvuDN4I3Ntl/U39s9HhMHvHkOqh5OuB3PV9cGfzjt8A66BgaipRLC3EtQHCDRX5bPtyDZVifq\n",
       "9QDEOOnjQRhs+OOBR6ybN8VtJQnIus/r4heFE4Ie6fcm8HiwdYhiroltz9eSKSVoifxxiQmBrvTm\n",
       "hTIt4DLogALDl1OARio/7ZwwGAx3CiIz6zlY29hMV869SVJJaEMh0Ed/Fw2sWk12pf32H/PXbQZo\n",
       "szWrGkzEnDRPOexn76VExs96I0CFGvRVq0ElNeOc2HfVTkk34rvDD/oqviaYWp0yqwmqhuJu9cw0\n",
       "YPIoqmFisJ39+2ouainee9DZP2tm8ly1+C7lM3q4ssw1L1/AJjbjVpwF3rrzhOAwF6zMGQ9exxjl\n",
       "vmMfh64PBv6iH3jWFD1ze5R3RHkIUyZAoxIfnnHlYW3Phy1TtlQaPzLbks7Dwr9scCF1F/gV3XIP\n",
       "DxIAfCDc2tbElj9S5DdYB/rG9sz4sS1lGsn/lzDZybTXeh3WAofpdPQHkL5XilDlbGi/paGig2CP\n",
       "Kcejy8JZKHd6k1EntywwQngps1rEAqxPOSHHbbsSnpYU71/2ZUtbRDH7IV7c6XAg5eKKLcHU2Lf9\n",
       "z1DlqlsfIu9uENDMhIcbgWg4whM3ZeePCFlTXonRqyCk9LA/brZ+qHFH4ZKl9rX6zEwJwOwYEH8x\n",
       "g8uMh4FihngMN+k8foDfmuYpZNQBNxYWpoY9f/Gv6cpSIyjeu5WNklaqN7nWT5ESgBtKTjWTgOQU\n",
       "7YXNC96eypB1bKLLWuJ/Ouf3gtj6gNZilgJWW85elPM8jlhb+Qck+5HfYGTlTcJhKmBvp3j5Ku9J\n",
       "Cmm9FkblABrGmBaea0+LOtRB5f2hnATWo2Q2xsPdw+IX7cMJ1ZyQ3JqCZ7zcvRxk+qZ8ltLm3Q8S\n",
       "IPpn7zt3SJu3q9Htuzoh4rXBzU0jl33gmNmiJvxwBProsmqux/sGxCHelVoPeqy+wVGHePIE3XJw\n",
       "9vF1/3Q46oQpnO5fe56DjDtfZZlsT15Ck2hAwHRRoZL1prXEqZT/WMOjUTMEPsXvxKTXsYF4dACU\n",
       "gVRb3DSkvTZtNFFTg/DWICWgEjETI6rrAHobGsTn6AX/IUfdQb0JrsnCJPYf79ii0+oYjp9CZ2nQ\n",
       "4uKvudnFxhr5v/j8RLNX3MJ21V82n88pD9tEtWWmOZJv8QJx+BHj26yNz9t5wVNqlaD1Yt9ykc7C\n",
       "gI7NHmdEiizZcVMFVAbQ/63BUYk9JcVUTHbg4i6SxwB6Y9ohZ6ytUoLH0S6DVscIqjiZsTMMNfzt\n",
       "DSiRy9qKyJRF7o4NF/WC0+JEB+aZT3gi3zlalLo0uu5cPpjffxD0X+z5mbxDkpfXCJVOm86cZpGC\n",
       "NSv436L40YXCw+113hhoDAlh8MwiFBWA11Y5u2G+UsiNj0j1jpHv4URxhvYBzSKBHCw6AL9MiCpH\n",
       "xyD+5SZ2QM7s/sWatrjQHGECKSNL3lMgqO5BR3Kls8tEs76yjH2sHL0Bg5Rwrzf79ZKs537anqWg\n",
       "3W7yAKaAPTMaUWYHnrg/JB1N8Llj7TCSNv5ZpOYFG14RiDL+fhErvocPJ/UADxrKH49Zn+SdFC4L\n",
       "qpn2yzkBDv7xHJMp1fHhg3qLd5XVQzuTdgx0UxXLXB9ZQxkpy1wxZXABwaQyHQu6zEq4v8yXXQIf\n",
       "Dcn00CFP9vbjH1OSNcHtKaJR/yyRa1LWhMjD3mfK+vao1TjSNp44yqi46Bh/q4RZbzWj0fg/85lo\n",
       "Xp8cMCx9STFosR7jtmQD5Ryi2x/ek8aVi9/Kpfm4id1r7WeVNSdRmRk65X8uffXXg7fLO3eoPDcZ\n",
       "ng0/TAEFwmZ8ta409DNBgzrtwto1v9VIRFLsBP0u08oe6Vpje9TY96P9PoUVuTIx/cK8WQAPHK35\n",
       "Q6vDrGpjPi3CD3oGPTcHTXGlSyrt1FMpengCC443B1o038VijqlD39D2N8u2oxN2pkqluhzJrkGl\n",
       "78J7U7ffLQ2D4YucCJjc8BKwDEFX9KxBOFKduhWURuy3/+PYrKy2dL5yoOI24JXbwbEAdyIogIkj\n",
       "EsssAOwK1jGSNREGNWl8eeWxAOSz97qcZE8BDviqjYB2ToWDaeuhVIP+R2/31M9b9PGEfkufyUJo\n",
       "gjbOolxucD93c9ybylXd8QuPhX37Hc0TzncRAp4ewZSyWe04xJdXo2XflOFmFGMk53G+EPU32x3G\n",
       "QLLlzv0EgrbgV+O7HL8kaaSCRB4htNofV3lkgFvcQdIPgDRO++/s3/T2lR7h2E/jlM6tPrBYBsQQ\n",
       "lEWizjwoPaL+RDTcgIPw2BoUIRma6+OAyJlV6JTFcMUijw4d39HM3z5V0dCd8biT1KPeUMaOj3Ih\n",
       "wmwiYnodcRdAsfo41kIAwKNHFQRbVE7dSUxvDt9Csq/FuEGLZbgkefDbOSXjkgJ91YP8wy7Y5L/u\n",
       "Di2yzcyfV7Xfr2U1w28PiHz9HXC8NWBC6cC+LeT3YOrBz/NB4nqNITR+KOnOwVaCxkx3oNm8c8Vt\n",
       "QaWrOwZmhVvst5c/sN/t0pDvlRwf8qGAnqAJkqvfvOhz/bNw4VVT92oQlaWoBkE5Ty7+bMS3n7XU\n",
       "4TsqXOhyQ5ktl0GDn7FZdtBxk0m314ezZzEfvR/H4NDFIb5UcH/KhhRDUq0UHQeSgV0hj6lvWDNO\n",
       "oMuW1VjQUEsy44fnMX3xtMe7c+a9qoL2iaGwphYUJOxB4ozJ+Lu9E/94Wsm5VZrXK+ilHyh/TniI\n",
       "HkWSG25dh3bqAK8fLwsxeSfrRMjcZLnWbv62xYfZ6GPZ6LtYvXnB6zI4BJDc2TkKeJRjorViurY8\n",
       "WhNt2E/5+mORPUMy3T8VqFw6jM73sDSnAH7zVRHDWb4mcf95xuW84HxLAcSlv+kOdgHNAwRQwmEp\n",
       "XoC5hZ8PzhRADEXz55JuLtDo1qzuOV8QTNY+8DTY4FOoITiDfVlRBCcQCrdTOOMu3YrG6zni3VeQ\n",
       "L+Gu5oqZ2ZUePo407unp+N9Cfo1Zcw5bfnIcJH/yfRUbCSl6uqTPF3iP7p/llEQ0r089FSnnkQfo\n",
       "KG6sWOAOhES0VtjpedU1w28K0EvZh219OCwaoUsNzTaHX8ohGAi/qAPH7S7qoj9HritOE1gcLwVq\n",
       "Yw1+cMQdPcSsCmcD3CJbb+qdZAeWEr15eLG7iE24JMQgGnbtIX7BOMAGUA/N7m0CkK/3z0duaCz9\n",
       "tn01MHWay32dvXCJDyBUt60mNDeziAitwDzlv//3HuB7/GZPAdv+L7vS+arXdLZ10/gaAEpUu7ID\n",
       "QKeBbuM5LgUJczZp0So/OFtB7zl8YaVzYx9fZtZDHl0QCQ3FxbMk3//MQDg9Fl3d/Mnlj6SCVIov\n",
       "WVssUNSoC6dYUMx03Mt5JqhLEtMTmEJsrAxgQWIhAT4vV3oGrrsIybj33HL4+jBP7ZGF+isvXKL+\n",
       "r7GncPic5BrbNYSfFGGbmhY/hbW1h6jT//5xw/Qq6nJYkLDiDH+jIfFShyOb0Y3eE24YmqYbCjqw\n",
       "PtSGHskK/bc4ADTyhD7gTsdLDeS2/p95eia3P1pq2zZ+6yKepNL71IAAB1hZ50k7Zr+/rZXbT2Ks\n",
       "8QEuk3YROM1IFOBYvg1Tn+i8BId5Scn6Vpo+ZSsY+Rydhb/2zYJIbd8u7/NBPlDW4z68BwLWOGO7\n",
       "Q2Z1AN9VkKF5nTariJdxByOzd9xQJxLG1PYkhHzuLA0WB+8+8B91Lh58+fKXCmTattN2hXkiGxYF\n",
       "F3lwWO6UhLkVKzqx8l8tbvqcJQDYr9UISjGtzR36wN7BwUAwE/FkzSeyCLTgpk0Swfio2rOtk/cz\n",
       "kC8V4cZDUFbqUcZuQmMamPFJJg10Pr5Nb+eYk1RSLeasTPZr2wM2wIeXhCKq6kB6AtMqOwvs5IXR\n",
       "4dgDHsANy+P+qRk/nggOF8gc/6OMbM7/jphv6trJrE3hPfnMywb3lVCje0GaCJf+YcOyjocjWNkb\n",
       "LTILtq2kJ/aaOY9L6u2/TI2sf5ngACGOcplfQcflCJePN1zIUrcar3x9Q+DekiOpqupdo1lM8kMp\n",
       "fhDY1rvvChFtzRKspLWnBCmfS71mo1m8F2WfJEA8RIQCltRb+kxWqiaS1aA8wG4hcDzuiXWd+KKB\n",
       "8Jsb6iW/9dQa/1sn6ncg/nFNEPCC4aH/ZREMC7ULBY2BwuLhGoorHALmwmwn3VB8Jc92jdxP+1Ph\n",
       "rkYPYPLAJ2Ybuy02uam3xJqxIMEvTjtR6b3AehQg1rR+ZX7bIyEHk7V7afudUME+MNN0OGUiBXuU\n",
       "E+tx2BwBnWP6EqTKWTV2LA52RjKr3Ak/0EgPxtzB4AA/wsPBVM/L64ZaH7T7xuKSJXA3k8PP6lnm\n",
       "x7shpP6mAWuOHbc+l6ukPEWTbLZMr+OcCAAAAwB1u+zQGz7Ihjz3CA+wpf5wvfFtAFCw5wEV86/R\n",
       "XGog0y8o2NE/JqGj5MJ0aaykjXjpvg8MNo48kJeMDuzCgmx1mgkwC8ebGbW3febeltWxJVyMMMtu\n",
       "vo4GHIk9ur6ZdhbtydMIznQyN7XuhII9rS37p+z1FPPHItyE3t7X41CfuLH9EKK9kzQccbA4/uCV\n",
       "zhhhHz60auPGsknlXZkO2pyXvA/L8Ix4Hczq71wxdkrgo5S6yiMkYTCIRKtNXNxHWsAGR6HxS/Pn\n",
       "g+WTHxWmoiHtZlJa+4p3aipqXUAALEaZ8c0k1lsjSD/zVYWzyNxS3t9S08w8I8zyhMyKvr3R05Cj\n",
       "7VWtdff1BHhT/KSl8aM1wU+r6OQL/gokQ3BQZjv+4VFDUKSq/MsDOptEfu1qbD5DNLoAFYmETzft\n",
       "rvZfSGZuBR9T1nFaG2/Ll3fgtpy3AqbmX4eHBL4AU2IVZO639cO6QAeXw8RX6xUJ/d7oT2iIDGeh\n",
       "70AbBgH2tSao/rQcWTo82EWCi2zivR+vvFbgXSd0Q2i8y2EWzUCMQSbeWjdYAtXewjuos+/2czHL\n",
       "qnttvvgn/5Tg3LtkaXVgZjSPlyN046bAJr7w+eRuDxrPVK66S+bRTcbUls9LospMbbz1A/KOcpxR\n",
       "VAxpWtjcHpNBQIPvHOQ+4AXZ7pNBSnQUYcSfTieO0rXD2JighiXv080kzzHnfCk/BWto+carSn5N\n",
       "564vQeS3fRLIaZEpFODRQhOIKdYMTfayv7MUe/CRu3omFSKzsD/EbHxLDh/re0rAAMSafKJUUuTs\n",
       "iXM/65gcPtNxXDUhFouXxf5r6q66r0n5q0YPluLb5wg13SdtEP+yPYgCLDJ5zYq/MYWHqGHi989d\n",
       "lab6KYMUr8YpOwv71rJiMWNzQj3r6EtQkvIj8mBvpUoX80jWq/Ntfc7K6xAXMqKLG77DEk1Qwe58\n",
       "BtNIGnMFWS0n641hzBBzTNwO80dHl9kGcqnZ9OYUr9gzVy8NvTDR1P9Sld7VugW3syhXnf5d7w/6\n",
       "21/QBiwPZypRQ6t9+BrdIPN24Zb0Rtb4CeI0CwPhxf1P1bGPW0Mm/M115AlO1K0zMpOsIi0B528M\n",
       "FIE8anmFdNMPf6usHk09sW6F6FelsuJ/y4TRPwhNRpvUf9Bumv5zYO+StAkojKar041m5+2HvxMp\n",
       "PpwGOrHUgThuUfifPWFaVRunv8po11H5+pKxjA+TxU9vNsmeXNYncj8YapoVj58JMIj8GgCnLgMl\n",
       "LqNQidnLAybh5lXJdMLFu6QDR9ofQTaJdd5Vgn6DrtCNUVZ8Fdwl7DarpTPrr5tdDtg7Jl4yUvp/\n",
       "sSvkYb3w2wnS7SUADIzXq8B9l+xfm8oT1/ZIK8I0Ls+G+xzDl0Dp9y0X2kgSXdQ5C9kULZBbPSwZ\n",
       "284q5+p77Ex9qil5JGRLvCuSlph4YfPjtzkvnnp8ohE9Xsp20f7XFA/io/DXDOooTkhSW+5gGhmc\n",
       "kkrUNDJLC05E2+AX0C0uJ73dZu1aQT0D7QWgsvJTHJoTUInUyUHeoqJjfgv1lyvIAPrUlWNx8gUJ\n",
       "cPq2yhE1l6p0d/IElRPS57Z42K7wMInyDbgUqycmmKblyuRCapig1g7v6royhf6akJEFa1As+J7V\n",
       "q7gMag53jzlZOv5lQxTX0rabA+KgMlbPZAYwmkU67wvSqfveDIwahXyO3Zmeu2INrWyEFpD8Zjf7\n",
       "z8/9ZF6fUqOqP5Bgf38VRquu4KY72bl6DeW0njfvIpngMguqesHWGSMkexNWC7r1pScJJB9DxPQy\n",
       "6HBvXiwBxEAoZDQcXnUMSkKDO2Y1npedFuIs7lvEs4PCMd31Y8e44vRP9t8ofoJ0CRNfN/3P9m+f\n",
       "53p1SFW4L/nAaMH20iQI9KKSfpaTeu6Cj5i/CpQhesP9xm8pkTJC0krgiWWEWYrstQ5zjomAlch9\n",
       "kOJWD6ypyYqm27gXrIo8E2ELbBfkynbt63RMdaxbA6Urh67C3YplGpcPVErbeVsydDnXdCfcll2O\n",
       "SEFBeKGGGtNJkUExqDYn20Dl2Pt6sCTT802USN8lwAw59up1NCVEH1iDbaTiRDjgYWqQGlmTjX1e\n",
       "kPNOlOBu7Ci/5pPcoPEBEGUwU24eTTOMFt/CwilIKwzkupDNw6jJLZSJ/HmWEXPyWOOTXPXHMzuI\n",
       "COsKSvaxoMZ45Pyg7CwHpyLCUAngeX/X6TAyeztxu9Dfr8/LPiue4ugSdjpBH7p9FaYaJWN4p4uD\n",
       "pRRSI7MDZLjumc6D5VQym2bIHzKKJk2MAtBlFIxB2XYwVJTUi6ggtdzPWFFjm4ABW7r7rN33YHHp\n",
       "e1673wDo8iEqMgxHY8UNk2FZOf4cOSxbpYCYyVKNVuRHZexOJcjM7/rACGPxVgQ36LJlve9U+CUd\n",
       "6d4zt/ngQLS+qkNZgyFpp+EZxC0i1juUBIzxrvEoGQ/Bm5MlyJQZP1QgcgX53nol9dKZy7HezFEV\n",
       "0WCkIzv1fXIMzc8i2tPoiRezlve3aU8mIH+CQvuvb6++6V3iuPKpSppjmDuAkGnbaia+y5rFeN24\n",
       "R86YhhDwd0t36/v2X91/lvoZfqbwPfyQACsdolNWSVFcXuCLVt3vlJmE9lXiN/+1FWduvpusJCli\n",
       "ra+9jbXK68X3vqMbwwVv3h3iKL+g6Pjam6erbnAalJom6bg4pkvhJT1VU6bvlR08ANkZICX0oaK4\n",
       "HHbtr29Lq6YYsdD3JEOrABB+qWGxeEjs45AXaXZ59gqhHvPT7G7a2IX0LhBES74FETsqS8ySJ/G6\n",
       "2PAA/CxcdbCTl4Zpw2sj0J7R32CC7N8xIzaDPBppH5CWm8dkCLgZl1xd4o5tnZTRTAqE0pJ/g8d6\n",
       "QpnekH3l0A65LRP1MoERzrgHp4M33EHI7N33DkDpk5AstKVGPcSCZs8rSImzMjE6Oj1uSCe6ZwmF\n",
       "cWYbWKx21ROHiDCjhq4XBGRXRyVDWczH5uLl0bmRb8HjDystAfxlzfRRAul6LWwWzcdFQGMWPjS5\n",
       "L33FblL+jWiiDLwntrqpjSNBvC0UGgkKlt3yfEEjYOBwo52xde2Ee64hMKh/7d/8Ce9xcM6Ah2QG\n",
       "zAnhuibkn8UZRFrgfw1LE0Wo026OJCoWT2YE6im+A7EEQMRZcFrlbCn641/48Z+EWGPs3EUaRiSF\n",
       "WWfF47FMwNl+igYaAAQt3S1GYsZy5prAsEyF3CADQ+p85VHf7lg35v5h6Oy4YfEW8cDwviNutHKE\n",
       "XbT+6LDaSdlWyArmbsFWTFUSwo+4IFs/GRBAeKgU0XH1oPqJ4L9uXcpdEwyeUodA33lJnt4AgL4H\n",
       "sgnkCSTPkDiX3scDB26OXkN/ere7UuG6Aah+bKRvRfa1ofITIH2UYFKzedDvvwMN4p4FSk1QKCSb\n",
       "0AgdqCYsCuRsml4wR+vnbk6PuBukLc9x07DzNOUg3iPBFmeNzL5Z0LtZxlgP4mM6fk4G/na7K+Md\n",
       "lLOavHDyJrmdPumHfP3T7c3s/23zZxfBmUozi0qzaBeo7ZeHh3q27hjx9sgZ+uJLMf/ahF/6hk2N\n",
       "3IaXgRlwzFmT4n4j7mIJ8xjtHW6mNJG29imHeov1vSHyoj6TT1EmlOlvy1V+/YmPZ7K/LsOxUM7M\n",
       "tPa/W6IiUtqmuoYkxuuZpguvNpf/glL5O9GlTHD9WZQ4IJWBc1TrcT0yWjEl7dT1x+8nR3zBYP8i\n",
       "uboOEw2IfU4g+w423EGBi96TnaqEcxjUD/uUM4GYUg/N9L2o9OrYCnvhwJYBbdmI8USfr+TI1HMh\n",
       "637Wjc+LdIrDvQHfNVtYtRVnUVZyoe+/Bvdl/HU29vmC/bGCAP/ypi3IakKZsmhSpVUC5PHaHxzt\n",
       "DewzxO/IE90v+NVhEtgp9IkVn+bKCZzclxT7h0JjFRCfii+tKks1CLC4Z5aflTVgFjeoDpUTWIv5\n",
       "VPIDMpIoL/1NwNhQ6/qVQ57v1s16wOjcYccoTx3k2WxtQWZ0AzZsXfTvkHTtPw4s9iCshtHdgkIu\n",
       "acGL7oUlEJ7UUN1LlgzXjPKlxvspuikG1uuGE3DMONg8H8e3xMWE2T14Z115SPYFBX66vRgnwtNt\n",
       "CX4b8KegRo2knHmsvl9YbOepPM7+KXOwp0bm77E5oW/hVmrC/M86H7reiVXJ2T+eL2kJA0RkKsWd\n",
       "nVReaVl6MpqDY6Q5DmPRgBbCy/oUd49GARnnDr6IAhDyb/iZhZwqwyYDoUtgRhuwciYnIPUQOMwG\n",
       "aFcZtvAn5tx1iG9jtCOdFgCkmljTZp4MGQV/TYGen5qn9FRlrz8+e0FOl3lleIhXMzgPPpM/Nq4A\n",
       "7y7P3c2p2hQb+SPVqR4DSyCayQRYdrR6fH2vnZUK/5Pd7LB+AFZCHKe5E+J13w6gdJadSSy1dMfG\n",
       "UmZ4zaY/WVY/cRvjIOGSt8ufDwaCnX1y0MdJHfS31vBMG/dU/eQjOm9gds9iPMea/biBZMknYZSI\n",
       "aKjJhF2DzyDwobYIW/y4njrqvRP/1zANPyWtHbyLnXNCax4tTgS2Zrc5JCR9Tlso9fGbu2MuJLY4\n",
       "4yIUtdh/exHuOTs+bqZAoavx26s8t4E7cxqIk26fqUABBekRC0TjYcHAXDqdliO27T2UgP0Io3EG\n",
       "LdDGO33ZyVxMOg4S5e8Vs0QBaQV8P1QecnNXwD6R/mcLn8EbKD4E/07HUj7YKIwUPgV2xvzSOrun\n",
       "LnP/bTVonDH2qyKcGXdFj19mJ/iVM4s8m3H0k1wzKeKkoHGCFcynnUhy/YzZubGR+Gv9hXB/La2A\n",
       "gVC1gW790zDn92u/2lFsWZZISRR/Q5yvqS1ys9GyvSDT1Mnxq14xIhHUWC2EHUlazrzdkPAJ1/T3\n",
       "44qUTpi+asS6thEEVw1/kpxuQtmmDVaL1DmXK2eHj+eRlmFaGofqbbYwg2HETvxFNubmtcBcmYsM\n",
       "h/Hq5jRpuleEkstpkdAAj+A6uAQjpbJ8yosR4Fov4vc4rmsS5CHJG2SL3mK80qmSAnKehbo5sQ5j\n",
       "W+ufG3O1DzVehSy0RCLaoj0iNHvPinGcjB2iHvR3I1kPIhtWNg0fRKiTX218ZoHXrL/ryLOzya1d\n",
       "K8griyfY/ypRdYuPZPBggDO/WQoOmCHo46nOr8nLh0vGiHnZMiOg8+WwZfPxFb4+IliBQpAR8h67\n",
       "562QvSug4boKIROcPNiMLmzpbYEpRly+8ql3bU6OXZd97+E+zdX7nuKvf5DVyOUrDhT3cR9qN3V5\n",
       "fznjwvhWyL1JFA8VbuVkJ4nKU9jVMpfOb9SmmQ0ezGbVCQaJbzOvJkTT+PzvUibolYEE8j4kxXiO\n",
       "bkWN1YuCTWh0LPjuv4dqq0DNHypVv0kRyFylByGOrP5P2Ak9rP4kgUi6JxA6NRVK192TnLQEUjEQ\n",
       "2e4r+omlKI7BzCMBdWieBa4nELSCxbYRNiuYnXdJ0IuubsVxn7R5Fwhf0bL6tSNXreTrWGBKIDan\n",
       "3cWh9Kfg1A4tfhnnEKCSWS/Im/7kgysMZGrTmakfIbEkWVqf67wU5P2NJZTy1f6n8gCXTxYA8n0w\n",
       "f/eg5cihbMjHwK/hAgzLBwCDDJAKclLwwkzm2jJfyHFxmm0uCYOo4g90NsZAEXOMlxUsThsF4dnv\n",
       "ukFMuCbubw0f9tDhznDePQsnx3n/NTmfo5TO9rrV0B0gyZXEgf9RaxcGiAAALTdWXcpT2SvnQoyr\n",
       "AB1MWYAAAAMAAAMAAAMAErEAABCVQZokbEO//qmWAAfNkigB0qmrf5StkrohDeEh5R58eMnHqo9z\n",
       "UGyMLSyHop/PuubyjC1syGvqjW0Om0r+a5FWJwTDnnfxlrAPtP7aIdO3W6WqvTNOUvrDrV/wHB6l\n",
       "QAioRaqfZkns3v5Yjwly9qYzw6M6HbCni/Mk+Hsml+Jv9tqEgolzQM1U2/goF9ClYXds7ZR+pk+W\n",
       "pfMrz8Oc6H17l9CKXoXBIo0F0fRKCkWrsLsDe7njNMeNPN997uL9AMJCmVQ5vTePcBuq6QruzRSW\n",
       "Bl/j8e0nCFzLehzonH8xd0NkdvDosu291gwq8JcdI8fWVv2uwj6KBAZnUy5xLe+3ZAmdn5tCj3VF\n",
       "C6ftaPXsf5s+ukCLHkf11TEEm4y0jidVi6Gf4RgPqNzBdIr/1HmDlqve61+mnKKVctnhPY96WKWg\n",
       "bddYp7azN+zJrtOlJkVJJ/gW86cPZB24VN96mJ3WZKdYd3uZtvkNL01HYDdhtNfEoXvQoxj0dpmF\n",
       "Yy+c9pIoXV72IODRO8GuUc8U5BXI/MjWKEu4jUOl7etojGNVjU8zNr0QXlWS6Ta5GP8zam4XaOUw\n",
       "BzDSkSSZ0k3qx8bELU1UJVuzWpEi0aC9/CJwRnqrRVXx0x24U3wOPQB8uOSVMv5ApzGN7ep5ympT\n",
       "QGnG4KIaZmMj2K45L1EPxLVXD7mV/f/v10iYTi7JTXpm74V052/fULRMQmkYH6A9kKUCnXZmZ1oX\n",
       "GGk5+EUqPyW3Ci7T8TsojRb+7pvGvszN+pgzWD8ZiEpJz/dCEQpFevKOcLHviFLbiG3/rpUWHLfe\n",
       "ydfZGsshR5MDOnpjJYN8NRaDswrLHHoxW5BjexVdIC01Wtbfaj6CRpa3aCaciib23Ad8sav0GaiH\n",
       "jd/7Sq3Mtu/nU/PEorvAR0kRaa86OEy9AKQT5cu6yZ24FbahwZJckxTna2Jm1D3KI622vxKnQiiF\n",
       "aBu+QVME+z7jDE2GQRwqadpMYU/RhyUhmKBd4S46hfyRAZWRyQwSjBdYEnOunLMxKcrwfAIqgp2D\n",
       "Mrqm5SZTOw3uysH4rEv30Epaqm2XeLKzppiicXuZL0ABCfflZZ727LqZToygSIBxvdAiA1ZHl1W9\n",
       "lXD1AV7Vq6oUDs9NMJhn7mwLMDyW6w0H8betjOBVUjzW18iOeQES+CRq0Au7pqINMgYW9csIiErm\n",
       "pbwiIGr0Q3HNaUKtyVuthNXTyBtc4y1A9z9xUdxQORpheyw/5QbLvrD2eTHrT50lV4MQ7pHb1kbi\n",
       "ThPBszsryZNmPhR3qjLekZ7MwT/WXHY++gHou0x/JeN9JCn+SuardvfIBTZqWNCYiTzlV1ZZkL3n\n",
       "n3IMSmWTGon1zHEAidcYKPJ6dKSz6hJvqsrUXlqFBbIAU9cm7kQv3CuridgT5yKAiOc3S97MwlLn\n",
       "LQVbCR1YzGCHaKFhjmlxgTxfO5cPYNc3RuLaNxhmQ+p5boUzy56iv/US3BklYBdYk4t/h984Na4e\n",
       "/guVezddAwBiaBjvXvsenaw9AzC7MmndjG/RK6/ZzTiAkJyLcmrK4Lt2xy8QACcoDrhHPsQLfarF\n",
       "Pa6X8VzY5t5CFwFnjVW+NLK7X7cc9r42BNvh3X+bR0rIS5mTiMJRMNkBJm9Acuelgu7kWbuZgTni\n",
       "sIYmoTvTHGxXnfXYG6/ffrGljRxniiT7JWTW19qGb6leUCaMyt/IdGYB8+SV3FNTOYacIAxYL6dx\n",
       "bfmc4+42JKZ5WGbINnVuO3fhsx0rUBuD4X9YDnXeJG/CwvufNxK+aaNmgQfYL5pMnbuzzPJpDb6n\n",
       "nZUhHW4elVFLJ0uWFRtsSlcqRtrbML+pOxv7aJhcyve+Ggd5r+KmBWcfz4e51EpgNk7rMQpG6K5M\n",
       "/nNigMrqG/jnJHcLY4VUcjc5rZoZSstVJTwfbe9c/AIwwiPufwdBUDixAdJMoX4CPxl826vI/Sko\n",
       "Y7EtH1b/IEeSYMmiJYLTgWLXnuav9yfbFCSNNseMuepsgbVaEUfPoOMy+UGPJ3x/p6oZ+s19Ik8K\n",
       "OZdhuMHpfCdBV8ZShdm26baA8QxdwsrGXCHdkPoGJ3SXTlWEr96Sf93sGPM06UhN/RsWYeCaY0PI\n",
       "qNSg78ELQClyni4iSfDuX7J5l1AuCSjOUhYJx8J2gLzHCE1vhqQuPtWARwiGT1HMYhixs5XszsJa\n",
       "xMAQxjqID83t6qcWJkmFC0Otnif3khzXoqgc+QKV7d/kXVleZWSASjdf7wHzQYZAjBQLEFsMCh87\n",
       "IWNPzToCi8aSu1TZvB5OC9BKUd2/a8PV9sZ8ba8JTTrttj6R0IrFnhNT05198g6i9OcxmFPfh6we\n",
       "5C38+EzbU5jtJUO825r+wVFdI9QpGq3hVf33wA70pwhtW1brHHa2e1XOzNEIcr5kmk62Aif7Ee56\n",
       "/b6wLTsBa9D+5AXZ2aEaEvtdjfnaZFHf78wiw8Un2fuMt+SwI2byyYSPh1Paf/trGd2u/v7aJFPQ\n",
       "q8Uir9/h1blPSmD2KIbDIBzw0i+cc8l2pknjK5TkydxgYuW3ZXldR6PEHsmk7ktwlY/rCVZgAIoH\n",
       "KvqgCoHxE0NpSG9MfRUTIqUuRvBR+6QGx7pRL/VIUSwhoDwxPQjsJTN46u6NcLAnJ1PSNyuc9TTz\n",
       "9X/vxS4/QHv06hVRRsWL3qk79ws0EG84NyBv+lHJnPqmICDJJ84K5yZnqCVdUs58tQIiOfk4Jy5j\n",
       "EDc8WZ1vByivNiBU6mXQe23nKhdP5WR86EWNUm/iwy6BdApTuTgIUfYZfjasWmNJWV+ioezzjYDM\n",
       "2cxhmtdoHJffQYmxINUSpfmMk4fr6cBBBbRq1CMktnYO8wp2dV3cVPGvHnlT4DmJhFvjSVdVRHnf\n",
       "SJAVRr3jmWyAPavGyibGwpYlxw4nbebT22KiQJ3tlk4p8ciAmcgMEhcXOp2n82MdIGRpJP38yxoJ\n",
       "5EFBKvtvIV1j6Puypr0ocKeB5I3JkN8Y65hPoC2h0r9OkIz81MTwe21IeRJnQnb2G8UMmqaxghFb\n",
       "fXPaT96TRO64SAIstid1Rzl5U7aHC8oZ0F0keqK4hXkhRsI6UKNSWF8b1ffYj9ckatuaxyPUFLZy\n",
       "bYD9LYWKfVoulObNC6J3fBWryXui+gGUNj9T32EsZRSfXumvYybQYRG50+Qaj+MMOcmlDmacEWIJ\n",
       "xkNHJSO4O+dPZN8++oexoM6/pjr0mTPTM9u9cVgaxyvKQnW0y4DTv/XgYCBh75j9dQa49zsJPkwq\n",
       "7WmUWQF52TB4FxlozdvPIKXh/tCckZImXYUk/UCRjRo1N+u5UCDrFNCAlaxs9OCNtV5/lMitV3SS\n",
       "BqZDSk+mpT8emob4pXfWe9O09+0p4hnGq2Rbp+j2i/dwRU2Wh+YfDQiv08ZKo3dQHVA/+bnbW6Qo\n",
       "scPHVzoNKgiBLKShWFhnXbNxA5/4/Q1kSgSN4ENoPeDZAfjCN9GJT9FnAJim0rLqLZiEKXLAi5B0\n",
       "cMqo+faPAtaiuF7FN0kAGHGePtcUH8bhYPhd/wneSGCPxgrfKAaIMV5L5urqP9ZZxUZkroPg29T7\n",
       "GuzMR/Oti+RZa2m4thxyid01dOafhfx/3otx5o1osnc84oaGFDs7AhudJMTePyD5AhrPX5NvdXSo\n",
       "Z62LEao4pWSh1lnI6dbjzxe2jj2hooLGjXlS1I95kSauhHSmvoWVA2TzGxTg5/L4IEP7tR+yBQUL\n",
       "xhhTNJzo913uTqHU7k4gOu0W4OZDOxiJF/hbdEPdcLCiqYyvbW9myv/IPq1ikWCfjHLQSQo6Sqia\n",
       "l+yer6iOy6V7W2UakZsg0LBdQTVC4d8gMn8BlVSvOKsaoz09LPCiTbngehY4j/GLzDRQ9Ahb94+X\n",
       "EN0Tg54ZPNns4gcaeVk5HtEi/ha7TOVmNOJsDkjNBTku7EeceZY0K5+JXav3mC8P9EHU2tWZlEFZ\n",
       "rPTXBwc5dSBhfLWq597d8uSZZOsg3mw5rya2Dc1RSvQA5hnb84EcKkC8naBsT6mbAIrTZ/Pc/RIQ\n",
       "2DUyBWJMqG5w2P7gADIMvOMEE33KHQqkvqYS7o20Qq1/qVSzBZlHDub+nMnIgUYXvDxo/i9Mu/6j\n",
       "88Kh9dgwqDHKqMa9bW0R0UwdTaWqMLOmB1rzFSNRB0uKlsAhQw1aJkvKPMuP6W59TnfgmAutRMf7\n",
       "TuyPRLsFZ61kLamqR4jJzUVZYyiuevV/ONT+1BjIHtNDigPoq/v0qCjtylKzcJLbVgJshBKmMBzE\n",
       "kpQbYBhXwTp82nnpQjfPujGyXcAAMBNv7j1Gyk0+wq6o3FZyFML/kSuzGJy5UcEyrRTillc24rar\n",
       "6B+JeRF/PsVJwztbZv90Uls5euiqmy/puBv/vFbA6144sO6HooWQVeBNoP66wPxMff3waWsCA1xY\n",
       "v0RWhAO120OjW61vTvzubtjqKsAHuER7DoqZcaihO94OPvnxMov3lF03QqJlfjRAlxBEiSu7jpIV\n",
       "YOHEuh210iSBXH2Vuzv6XWLMhWsU+BQemhcysJ0iZkLuqqT9f3rrXrAEbB9wWKeFAmj58LJpAo4A\n",
       "yzk3OJqMWvRpNNGpC3MYk+dstgTCiNNH21OnVX4+rzd4W3aeVn2BaLT/LePZaUEHFnwvRLKCd1Pz\n",
       "4Vtyo7i2ubD4W46RRiV8TXMALVLwKoqUT4sq7rnETmeIsd9/69KuVbxVpMvKWk746aPgcRg0ukSH\n",
       "4anzieSs1KuCmA2E8YgDJjSIPI6gCMv7x51RxdAQ0JCc4zecoJ9BXRyXNaWfESOSy1FATWOobhCB\n",
       "22mSBgoqIPjCsj0lMdXa6hgtCDO27RjR4dSojbRVxH3PtBCdBbGtJxbS7HP17xMnS9RUnQ9AAZAA\n",
       "ZpCLDXdFEnQwWa5hTH7F4j24gFOXP8jDCRNgOLNDNuCjJpbNSUcLSoUC7SrwpTJHmKSBbwOiroDq\n",
       "WpWSmNPtHFWXRkNXPjIicD13Jnb3gr1Xf5o8SVcVQu1YKzOWmYCciPSUyfO2AwSQ+Mm7NjtcM2a8\n",
       "5qBq0+kJnBkNPhsBvPfLxBu6I2iV098vtSs1hjvuPs5Bll0DgWNQCyKxhrt0TROEta4f8Fgpb8Gf\n",
       "KvL1bgVQdbJQe8DSD/DxkwIonEl4SyRTRN0j7OAqryaP9ryGAHW6ngWoYUOKJkbP1deKBzptlgdE\n",
       "xY8YG+MzyjMHRwdS5YJm69nwWqHd5RA/TTlZH4XvlDAOvvVk/bR7q7+qrxOgf8Hb3vNBAqox6y5N\n",
       "GGbJc/1VvCTLfvhbwK02QAk7swn4AMaHa/igTo0cXJYKgLBe73JbEl5V3A7rNb8L0EefEyw/VoeI\n",
       "oP5R53poPmv+/CEVZ73YihhjKj34AEyr+JwkNSQiPDie2k7ADGLruvFcaPJp0t0yydDdVHkVCY4I\n",
       "JvMBKYEEH48ciAW5SeZVKp1XFAoGbqEfbL7mDGALxbrMuBbPjq6aTZsFoD2P30nWfuDUBOpJzaDq\n",
       "qpukmf08hGE+YFB7JEN1LfLnhZ6lcSZ8T6odMpVj0v+crPM6EQ9mIigB3i0P4s2ZmqexNGb1oI8S\n",
       "e+48oTK/wgBacpz1ZBbsQzx+f1HPa9dPvjP9/iQMzLlWa+67oYTXyH4z5gnfprRQOfvugtSN2vSR\n",
       "C9Ao8Jdlx+3m5ckFQ0AbuDcvP6yz5iFhfS6k5EVYo2/KinBEfpu6VSPkN4VgsAp/AAALgkGeQniG\n",
       "fwAG5+OVwmIGU042VVTCIC46BxLRqSJRJsxFUTAsDoUfbRWliWCbqscK1E7/x6qABD9FecKWwUt2\n",
       "xBGKqtcqdJKc3sPd8ZFg6s2s20yG96T6bmvq7C7xNFFGPI/Yd1kB+5Fx/hOvU6rFTtI4jRpcd8fn\n",
       "Ve8T4Jxt1yNqygAYGy/kYQe93EjkDugtl5Qe331QIjBd0dONsgLJBW+HvaZ4Jr7LgWGfyT0KPayt\n",
       "9ruePMLcDoEEtP3cp41eSvr1UCJQvnf2cFgnxlHTyjLHpH6Kg+bRs0anB9XOzj5Zz5ok6IUyWzB2\n",
       "iVJJQZOrvcdLlT3A+AmeuRgY0WksBFxbrTl0UgOROb5b0le7LkJZscNC2ZESInI/OQYUXiXXLsb9\n",
       "VNnIFhyq9ufOxgdeeCPSdB/dSldZ9lzf7kw3lUloTf/ya5m7NAYSqm9+wyWKa7KBn6eBNN04SmTU\n",
       "3jMCvgAi8sChRuGN5bU/Yw13wul+QyV50jSqk6K3ln9rNUgy/TR1aT6lg/0gA1PRe5/uxNOAZ0sO\n",
       "bvwUGiB/zh4QO7ffPLFyTGLNU1kssRdguI0BgVRV2o2G1Ll5aDSgD15rteW9hSopIvCEVf5M8O17\n",
       "gM++MQxNffKtzZ3SiNFPjBfszpu3TPjACMxlutLfzGET2oBk3FP0HmefYfP/X7RmDhl1ZvMUr4/k\n",
       "hJWnwxzGSp8I9pp0JJTshNriVqj5nQ4/fVpUc4vfvWSJOTTbO4Ip00O08ldmGEyrKTAZWKyATBss\n",
       "7VmLyTl8Ltc4cG8J6k5mt0rbhjxQIY7ST7tluQt2Z3934HI0E5s8vv2Kbjx5SaDs5EZGT+qLG5Z3\n",
       "LsA4ed3H3X6mEA2vtimlltA1yhGcm6yIvlw3gVPZ2WIbhdBOKJIk970Z0Jgf3IegepO88fv1QE3O\n",
       "vxYX7w7yI0D6u7p0f9LxMPoAzsZ5iozq4vEqRQ6XuEWddUQOIjzHot3ftXTGxLbm7+OQEU0bRokj\n",
       "E6l1xtiAAknJBPg6FbYtBhjpRsWfHDyclyDQQWV3R9lEYncGdl5ZfP49bGhkJI1ZTwFFTBCsrGvw\n",
       "CrBTRPQ9zh+5PxOt/0ZuE4wxiZvlq27jRkxgxFLhKstoHd9Jt7mB9rW1evn76NV+6X1TvCEGNqLF\n",
       "0vU1rtHdwmaLWcU7CDNlNh9CGhia8fFrdSa3xDfS/T/HKhp3kUS+Q+ig0Hwc0wMq3QUL1YT+t3qy\n",
       "D0isT2rDsIPez547hUSZ/SfWkhIgneGuAPqQmcIxqGUIyx9XXo6tlq9Nt3gw2SGjHjw38/2QWS73\n",
       "Y5jGQT0BfKAIFuPvkQ/VUd+/g7NwEeBPPpCtS8SMpkg/U7KhtjDaSJL3C1VzdmTGEZXTL8cNQXUH\n",
       "7Tp889lY2qiQwXh3Ga36bcgHb6oTv+mgq3xsW20pdnuznzm0yh2l2yXe68f6iLeZ3kmdtXtd6gYt\n",
       "I89qt0KfxlM8O2m6hVHafBc2Ivm/cj1G/ba2KhIDikw1+NRCK1DNetr7zv1OvusPqZ/QNODYWRuw\n",
       "AWfVwYbqTCN48hUVvA+/WBdvQBLM9AzNqrshCOyNw5vfHg6qoi6SjkrzbEbYbqqv9YjPHnmZNWH0\n",
       "AVx5XMioL2SGyY8co+tqFZEFSmTq5JGIGyXVm0WhV1dxTgE06WyMVI8o/zGkJCYF7ngoTQjgXOk5\n",
       "5gjOUFeBw7ygUe4uJpVjMHSB4ogoSmA6+zp0TSPg4R8bQttQBNAgoEHvuHBie75VN7t4iB80PJXe\n",
       "yQJ2ek7SGhl+GCWkpB4K8WEaxqds5oa5HlaHn6MK2+a4ZgFV9dpTiAIkZahu5g2BLDLXf00paO4r\n",
       "B0Nc0wPvQ5mVjKa8QtDwHBINRz/9UKfNZB8UoDsB2vIlhmsfwFWmKjH/oYBw0L3f9r4okhrMg3nD\n",
       "hAeBQ1uIewUiT3CdQaaAQGViyR7otSdONHJMk0FXlhfG6TmIAlS4qwKsum+J1Kwk+PUITgAIkcUz\n",
       "2pvVOMRvkxznq1yX1ZZykMPGgwy+J3lsAwTXPeqbFmFcIQrJO7kFBYu+h3JXIkqU04HAoJLjKGZ0\n",
       "Qh2hFeMAgiJHZk/uNC7U3T1ALXwH1YM6AVN3UEZpZ/C300WZINkM3EuhNp6tu3k469kNU76e6tvC\n",
       "W+1//jXbm8pa6y8vku1E7ibc8Y0PPOi6TU6BjX2yKvhsA8/RsB1pZoX8TTMdNeS4o1t9DUsmXdsW\n",
       "VH6wJnKnMO9SXcjL96/Q9UGhtkyEsXJQ+gNx7HHKlBIVgop5aRfX61UJVFmMku+4d5DCGukDWkyz\n",
       "OQOiBdKhUk62GVEKybV2CX9HzGdL/oI+KwVJHVsA7eI7I1aJf+ZCy3tHNCn17K2iy+PmAYnB+jMP\n",
       "p13RbiSI5BURUhYmP8PA/BUNU7zEVYIjI2nThtilwAsUBQX/kCj2deytjZmsUH3Js6FNGtaUXglH\n",
       "Ks3ddXvVb/jvdQzYlDVLGDcIhVu2sqXqbT38dMHXOnWiXfFQuE6aHW+yHg6JPwr8z46+qtk+45j9\n",
       "qJAARrFiAiYiHw4OzkrKHIEN+M0V/MIJCbcecNagoGWwsj6zX2xTWkNPN58KvzGR7sz3x8twZ048\n",
       "PRqGZAlCERLAxuoNujKeqCzQKRhzSELL/JnRFuk07aO6DXzfI28qF/AuZ4kRo7Iqjh94KcF9ke83\n",
       "THRMh0osoWqRA0Ian17e+GNwjrTpx+IPScIYrtZRKptIJQlRMaL6gJvNntIND+5HJTawolnjyzMJ\n",
       "LmC4HtDAuUiRGzFVnXVanlKTRacKrpyh/NU2YooKj5w+W8bQxClI5rUcafzwXU1dQp23eQjE4AuA\n",
       "kQZ3+oCyWUAVdkH7uaCqGHYj2izEccQe1n4Z9kRY8xDOPqLi8NvH1tUoPhHr614JSOfsJjGEWk0B\n",
       "lWPVIpsm7YNp7uq7uyXmMDUbbMZklw0/ygqeYsghwNefP/EwtHHFJjKbnSbfYxzJqHHDtpbNxc0s\n",
       "s5MMke94BKXMEU/5e7CabEk0sQ1eeW+Y3/NJ6H3ypzXwWpPDhx020lWsa+zPsWf48jMmUHwmMufD\n",
       "4ImBHrVXu5dWqdtdxeIJZWQv3BJuHrSVkeCiwNaLv3DWAPJBOm2vRHbLjsUMWtgtn9YaILO3G05M\n",
       "+b2sDa5wbWZcPiWw3dp03vIkE4f9vMi1n9N8fW7N5Hn7MKguvQN0Oa98bvi4dGjfNr7OODdhGMts\n",
       "ezQayOOCO1pNnLbqZx7heJx4jNyj88IZfhjb2j+uM6BQThlUm+uwIHiATGih2fTwM9w4c7ehbHMP\n",
       "8a7l0GodwjTaziEiOM0xtkYtC4IL1qP28lbPv+JoO0M9A0T+e9IYKiHBuMIz/g+L/Htedde0cDqM\n",
       "Tsz9/xQwJddqHTA5QLfVVHec2s1oO8h1zLOn32pexK6PPyOSdyXVzwvjZVpEUeB8D5bkOAwqPw8E\n",
       "tL6sNdcdeNWw72OigJUCzmHgJypURq9iT/+Mmez5GcurbO2Y5dxPNkdC39MAAOdb3Z4cq1aXx4Vn\n",
       "OAdNuPoEQZK1ew4GWqdSt6F+PiMcTkYR9OhIN75bz4ZURgUbtsagMbOj/u6WOVvfyoSeBlOhBTJC\n",
       "g2Uq4/BGuvae+RumlIl8byKgrw3UtbxG0Xwyx3MF4hdA6kj/SkbHL21CzgFv/fwz9nFEH9W60uTi\n",
       "eIBD3LtgnjNaWgj41kXymk8wCBvr0FW3v2uBk5Kk8J6HKXIiif/I67A4LzpSM8V0b2IR7bMpxm1g\n",
       "PDf3uvNZRk0+2eXFGo9wAP9/zzBVAozK5zuzNx9bsDHEw1KCCdV7nSoEPumkD2grLEkwARDo//hA\n",
       "SlssJSWU00dayu5a2Ti6R4XKHi3ubMscxdL2KJ2HtnxaES3j0xOQ3Ezxub3Si0f45TRRhH9flFmu\n",
       "aIWzhgQZI0VsbjLJ5zNxWNDd3R+Jgvkwhe+Wbzi7jmP5lQAAB/wBnmF0Qr8ADN/20nKpSKOcaL97\n",
       "YEeSI0AJl1BC1GbBXWy1z5gsRLmE2h7ajVn+kTkSYqyHsLPipDwGeZSdIc2KS+LerrEgba92GywB\n",
       "L/hrIQ5p+qMT8h9Q2WQXc1xGsglQqMHwDMGNizT9d3Z4tarY0E7SPbziU6R2yCRRoXnT04CK2iOa\n",
       "/A2eX3ghV8KL2C4ya2us9ApHKbrPE9fw3gX2Qs2ltP1WY1VMYmSCtabrppJPAGiSQaO8IurVOeJk\n",
       "rxT0avFO9uas1G3sWGbcnRBKvX67AfV4gRTFBxVNKbT2CH4g2Y3CciA2nkkoOqOXsKiHj0Ea1LaR\n",
       "8OiqvlA5VKKCI4YSOUUxLrHYjtGYvg8xI16uplZhDbwC/Q5/Zu6egB4uNehw24F5PoFwGea0c/Ls\n",
       "dMBa/k79AwmbvsRN9f9aEWRgMsLQSsz1JQCrclJP3WwrAKt+cS6rMi0U9V9ykxjVmYzslQyE2xBe\n",
       "P+as7mEy8lGRjI8T3RYDyBWCzn1OCfeXG6m2YHsCe8yv8DFxerD2c78AUIzj4Fk575v9A+yTHDn8\n",
       "EIgf3xm9G50D3ai/jsHy8RkuOT/q3XMJtyEGdgb5cU+dr5eRdS7kLd72FSZEUXK3DvcrglSMAHRj\n",
       "V0eXpbXRkfXnyEBC4tS/iUz5QgI0oQ5Y/qRh9SWxkS6txW5cl2ISPASspCZcfodxr4O16NbupYoF\n",
       "DE4ZqhwAtdkKEnCoYyxK8E0BH51bEUwMHddFZwJO3qQFLF9hoqZWYY3uOKgyjaXUtL7WoFXSwsFb\n",
       "gvpWNhgJCZL4+dvQ+9m+Wi+7CGiY0aY8Jjbo6Dg0dxerfJA29dNeb5z/g6hpTLkGNXD7g68a4G3E\n",
       "hIeMiBxuUiYhED7CqLQMmCZzOZgpqUNRYMj9iJ1TvsNMEWuu7ZTqQcWG2PFU7DdFD3fxF0wSSUD4\n",
       "MtHOsgBa+cWf7AodtsKHkFKh/SXllxIZG1HsXHewY9iA0MLLaZZJD/FJFoagbMlR+81WdO3ZABkE\n",
       "XmABT+XxUZUgih9OJg2oay0N2eWfRHI38QwxKKcBC4mN39yLv281ZoZBWAsBNitXs1RzZUFpbGC1\n",
       "rjmjbRieMeSUxNpf2Ul4ie/mBjdhQMytQRwpkoCxP3nHTVJPmO3boKkudyq7q12ZZ4+qd8sr2AVE\n",
       "lkgHu4YYzqcbLvDfckuwVGAKlGnleJnRQarUUk041wKL3Y2UCVxDW4+sMXC4DZ7178s+1YJYr4kw\n",
       "5gZFipWKRGD/PmMgmLFqoo2xXPosssM5WWBz3W77nGIoaPtULDCRbsGKbK+nfEN5VUK9dvm8Aq/3\n",
       "lQg/QXVK2wWiSV3ljNaH6/1+zdB1PxTSbuAgSsQLAkj/p0igi8K0ucp3JyQBwPSKrvCDr+aRDcBp\n",
       "c2xGsseB5Lvy4XP8JLPLfXDNJBS4nmU6NoyYpS7eY5SFtUc0SFRM8P76tLxBAD8jARTX1WgCxE2w\n",
       "AI7yPPYSOwCG89Qjo/ktXX+w5ltip80jHRu3livnS5usLKOABrus+M4RUk/odI/l0e6zZa1jhn62\n",
       "cCEc3pmkiN80pJpzMAhzbUtZ3f/KxtphmTZeA80g9K95igg6qI3C2ABNmyAr5w1kmIOp0EbvEWHK\n",
       "jPzCtFllOvOt+1cq7AVQC3dzC+1FHrn0htr9fA62/0EXfe5g//PW14SxS6QjlnpM25fbfUjDs1ar\n",
       "rzWgdv5CwF8DPk+TnfNKCIaNKawFUlwfx80NhFPPDZjMnTvxbtr/09pKCaiU9HJwj0gLRs/rasWS\n",
       "ghWGjV1V07o5e02QGD8JI/1rzXeGnFDbULQTy1ngKyQ0TnG7/iii+gCQ75kBynZELFs1nlRcO3L+\n",
       "l6yOesRVQTCGxDvC80O82JSoz6Rn1vQoNdEcjsmeqOMz0PFCXIP67vRG6O+Vf3mQGsI+7LBkdQwv\n",
       "C36NOO3Mxk3W2Ar3wZ5TJXbeRe4HOWdeLnXY1nRRREyph0jeoGruCb5ZhTIAVVs6uuS9wDVpFP0g\n",
       "qZAFdF2zSAPf7QnpppuGWP78eBxpLpL08XkN/qcpEB02A5ulJhks0Uu+Mx3df5fzemaJ9//ReQXD\n",
       "8wDyUHqIMf6N1l2y/x8Sdxu5d7Ym9w8u4aS63lx8DK9gT2Cg/xyBBbaZxXJFmIU8Sc2+QA2RQ8ll\n",
       "z7sZ6LH/r6AW7APSMM8g3L/FK8B7tTg6BIIjdumvJtXS1i4GNJjUXA+HI5ysP4IOHBWgh+TN+knr\n",
       "Djvq6cW6pY8Scfvm2YWit1io0FscTkV3JJRGLG+57/l38GChowYK1CtMLWScy8WRvtjG2f6p0E+a\n",
       "ujQs7NqnUmn/9kXg3oeJKxCBIAJsCQgqc1RJ1lp2r5GFVOzZMwthbyxXiDgRR3VFX9HRQ1SPsA7N\n",
       "ZhAhQ3ApRmrqvSB8Fvp9AFclMkB5XOeZOaBMXOhDGIjimd41EGNm76hXS+SKssXtP9iynRFCtlaG\n",
       "OZUwrDa9KdguiBi6AjuWjN3mLYf2a7lFTkNmU97bVKUnbU7QQtBBlxyczcM2cg27nixyLsiBftrZ\n",
       "W1An83PaOqKT3Ug34xdeFIk1VTtt6ntICKc1LEcsSH2tbVeVr1Xqy3XmTfVdSBrINO3pQfdKtm6P\n",
       "MRv0p/TTGwNNuQdUxd8OV6L/VTHXwyO/e98mSQx/aAzML4EkOBgVPegKSA/eJ8Bl/PqypgbGj9zb\n",
       "Tc3b/KqL/2gJMiH/6yfD1cNWIXTAGR8P2wRc4BbQAAAJPgGeY2pCvwAD+MoU29j8pcUze0gKUAoD\n",
       "hiDpYJy3hDtubuAZYAv9qInXOh+HDjxmAsWf0NU5pnlpnQQ4RRNaW3ixHZXxYWZ2Ka9xdUzxWFj2\n",
       "Er+8f0YhupRp9L2VCdotPdNs7kpK4kJvk1vXyMTsp+CxdFfWc0RxcSicAS3D6W7BHKvuW8aSCezI\n",
       "VCaANogOzSxge2gksfAH1OFC5RlwHSWlnmo5dXRK0CYH+bS+Oym4UKRwhvi/j88QF9vPEoDDZ7TP\n",
       "3qCbMBpt/FPYkdNsGTyM6OBvW0T2TgSGV4KGjYq1O9hkaEQtn4e7VbiCs22DKk/NfF3/7osnCYzy\n",
       "jBaIMchVNO+Dm60Dbft+9QVnkJu8IuBpjmaWVVeMezwP5bIj3gSvtCLgRT0vC1/b/NXF9XvF4Q2r\n",
       "1X/G4xV5MA24XGrvyLYWDiT+Nj1FApsFcE21kMAMR1gMVPNCvol1A0UvrXpYpZsJj5xIaCb2kVKt\n",
       "vrkLdQjluJrVAgfWOQOvYg9r2BFxucYIH26MjP5spRvBzR/0bYDe1lqWHB7YtgRyojpZg70q9zds\n",
       "J4bunZzL1sHIeu8evlvVLuqYjlBJeeGo/rDaiKeb0x6Z/81G3CHzwhfwkEZ3tRbnWRjcgEnXbIwo\n",
       "zG7ji2lBfbfAP9VhbPqG/bgWzhww0W2nN/Kh+U/U0pfx3fSWpmIrnoSWr1ogSGQpPu4vJiG8YJUF\n",
       "qo2HMure9WrHBxOyfIxL64rlwUjXhBgfqaRfggibIiBWFpTo0VWoI6HQcvY3dVY0dYShU/pqNq4M\n",
       "TzzxDPIgcz/3IJncm73y3VRbcZ37gd99Scoo3AhhAYTileypwSInlBnDX5BsjPU0c/FZXOV/g56W\n",
       "TBpd8fNs1NBjM40gu9pzI7nDp9qnxzwwoRpl4uoUAuVIrsHyqIgSzG5cqBRq+uYgrkY+n0OYadIF\n",
       "WMx86IFzJ/OfUsiTXjuWEd8vL8BecpixiybRv3yOoAoU8GnJ5KEsBSzU6/HDV1vP5GmcMGyUCAZU\n",
       "dR/4M62fr24lUErjh1LXxGzzYbbULeHHRH04aBCa5PmEE/3MpnARqrvJk6rB0gK0Zm9WCuz3H8fJ\n",
       "69nh5mBv4ZvpH+S48lH/F6JajjnJ8Df1EdKaVqN1YDK/njtkQZ4p8YmqMhmDezYEd4U++/TBGkVl\n",
       "DQvCxGu/ALD6e0UH8T6RXa4jnAcQrxKomKEPIdTulhox0ZRIoIY0SlE6oNa0EljnYuCevbRTs+Z5\n",
       "3OhFbo8Klmy5tCPjR4SgIUKa8AdfO1iKELQVMOuvgLkeWR5wwQ+5N7HeCbrN+lczaYbpsdABGnhG\n",
       "pLiSaySTqKTnYjI9OcRCyuIVMXOoQHmPbFi8/iLZ7G8CLgSZH1bZUsjMkWK0RPBMZLG+mCZoOQtp\n",
       "1BD6RfVSWOzZfv7NVcdd2NxCLfSLpEbvbut7243Cu0lzycKB+ddIjdubarFv30hxqenorRqvGe7y\n",
       "CCQ8Jx6q9nMTzJllcK7SoAaNYPYQ5cgpIW++BUOxSoanWMd1oQxgQyHOr8fMydsIsDNVNRRfD57Y\n",
       "KrLvJ1A4l6Qw9Lqg2ImqcIpNszeYnddmZ+v89zYlVqw4DxQS+10ZchTipmsTl+9OAA166MDZ0EKx\n",
       "GMu0O+yFh9JbGNEnjEPBer2pmgNGWbIjvLN7G/8H60H9nCEiSzvZc2h+vBZrNrhRPFkuuA8B/4Ye\n",
       "17kLk69dqoBlI3HjWVOgffYQwZdlxmV028g3cPuLJ8gtvme1sNc4l5WGbarkVnb9goyTWTyu3ht5\n",
       "kobZX1BfpXTlUVB4D77TYzSrbVGKonerACSrXuM6vN1nVAITWdktacYWBMbQatixQiHlU6kL7E51\n",
       "67JxEHW9bkohKjvOYD5J3rrnPBrQ7UUdNkK7eGQ/znnXuvqaselocazc4hSuMSt6ycMTMTxzS5ZQ\n",
       "3z7lLdgdaLWIyuCSla2eHUh3k3mDrMmI6qgwjVaw3pe+HMqLXsbzCVrJAtuMpK54pjGvLs+NrFYI\n",
       "fSriI4YulxjuQPHOrE54oElA/2b21zQUWlC90XYbBbd5pbWtkadH2oM2IlvEgsaK4M6B/Zgpwbkc\n",
       "u0eeYF+Kyc8bPljZG4CwmsUEHEa7LJExQkJc3pW3zL2+UWqf7mmWpG1quLHOgT6B2mHXp25eorn3\n",
       "QSZoDuXDxRTgHufQBHJAJMr7IZ8XwMCQmIjNRqjkNkS+NvDwFgkL1XV9IYwPoxu2WAMzSndHavMc\n",
       "lRMGJSij4dq2SzVqEXfBNNMeAs4wZ1oQN/fLURoFca6lKDFvPeRhueuSv/Rd7oHmjpyHA0+1uq75\n",
       "XCg5ecLG/5K97L7P4DMJ5qvFJZ92Qz2845VAuBAq1ypAWqE/CgIv5SytoRV/V6hLJuruXP02ueQd\n",
       "M9+9xPLvJMQd3jT0k8t+66iepXZ5rrICnRBHep861wuDU4fhn0LC4H/ocRJ03x32JuvSCN++FrcU\n",
       "8EVerVUl6VAR0mqlSDVS5tkpQjRmjzO3Ft9J7a1op4UWCidQQzAZBkGQAXq2kJTGcwGMI3jwLRhn\n",
       "UNcGk1op3uZJk+C9kKLKmQTjmbhDmzUl7YzH4I0qHOG9+2bAlS3yyaOBvGhKLDn/sY4VCSMLCTcu\n",
       "CUoQS4zI28USyRtPBteMLGWYprpgrdxVAyslVFqH723MEC3MNE5uybpHA8KDErWh2oH2TTetm6cR\n",
       "KIYWYO+oJ4s+BRdmbruJWH3tZZzOM62l5ng2PBlc9nzpoiGpEcN25TgH8cfDI3Y4ypru/171yBOs\n",
       "q1s2wp1tgbe3Pgyl8wY9FfwGXyQ6eROnGUyZyZd9S/ZfbhZiMSLUVvkfNW+2iqqbOyF865Fhn3VB\n",
       "hNwqjV2Nc8ImSCN5wqqcYn5+vUXc5/2zGWsrxF+VMIKWWET3E1O/zgZDj8F7+yvwh2ARdaSu1AsN\n",
       "e/Q2QIywfWQ4dy3MDQ7GOz+zoKsp+QRJo4yzeyifMEwX9iTMiFwu1jTeO9Sov4snqGWSEb3t4IMK\n",
       "Vk5JEpLNvK3IXpSjwCQ+mjCJb0X5WVFTWIej9al1aqrKJYihRuKP//J03Ys441veyvi91NB5qYeZ\n",
       "IDC8omOGTnSkKpFSQKQAJku5gJDiWKcyHDTTdCJL5sqdhhNv8rIN0+GZDgDZd3iweR8csFGkVo3v\n",
       "Q/yVbAR9AAAPr0GaaEmoQWiZTAh3//6plgAChfAOBAoBSkmOtoKgi7PwWiLwAP6O9L9kOcPcxfxP\n",
       "glduut3z9jLC1bu4yYDiS8ZrCOUeyB8/GZxkg/toQwT4iHm28Oqv8+p3fS093IDN8ajQRFpTO5Ck\n",
       "n8mCYnGjFwUHUntvxJXaZhuATWQETrFkVr8NWaGhm+hXVMSqXr7HLZIcDZeUMJG+IN7NObNA46wt\n",
       "DW8MKIyX+lG9a94QRF95MYVhz/Hzb4+/Xeqku55TCsqANcPV5LmOppjOzNZSxeWGLlPFUFiR9aUR\n",
       "7dtEYDm0KmdW+9D0ZT4Nm7LYLTDg9BEWor54vND6ghWfueLxvEPRuTp9sidxZnTGjSQtk/S2BSJ7\n",
       "yCs9dBfbUiiVFyJTenGxaYX81JN6if3Zd7joAiOEHZDbnT7Q9dTcSgVhIKnQ6LQ/TvDOeSVtSkVE\n",
       "LTkKlekvwDHpPkOqozwIf/YWZmX5TwlK4vZanZJ41RjZetaGdMaefpuqUpNmh32v02yHGQe4G7ST\n",
       "rk0eUqBRm00pdRnkaei1QuL1THHWnJ3V2hI5BtL8fiXvOHAZtaAFG+B7om4o77eLTbjHeNHkvKWF\n",
       "So4doWZHxN3LlgABChDILTWM48xjXpkcKyhgwq/CKbYpbiDmA6/8T74xZEyjyjBgBSgcFaZ30bq6\n",
       "BIS+73Paako7Lly0NAhgnFuzNp4dqm2M4dSt4HP01xy0v7AuwXT+2PZOJ3AzYEpk/Ee6p2iKYSq4\n",
       "OW2788gaGlvS6Kk2RmI1C72cZxevjid9WUlWWySJkSQB66+0TPnYUslwtrd/xr4vXf3KPRzbzoOF\n",
       "UH/am7c8RVVZjFY/mZdll+dwmZH/z8AA3BpmCZ1n9t9TLO4MyJhAqt7OAWBOEpg+AMa+MnuIoabP\n",
       "jqTpfywJAcEXwAGsuRsYuhoWxN2SYvwY513CXxWX00VyQXQ7BR5Lgd/b7pxMOgPUaz2B4FCjfA+h\n",
       "QmvYuCCsaIRawLkVCp2uzgcz8k2iV9TasosW/UmZUV4npff9Jkstq7J9ZM8xbj3ffGBYdFzBhhwx\n",
       "MSClvLtqkxOSgoDOyXV+THLODtBSIL7hf0zlug6kYF6F0o0qd4q5CNS+sAZ4DvoyyuIucP2Ntq7B\n",
       "KmuETvX84Fcv338svdKfuUqKRi4hX0AfB2hWakk7TDlepfbtfBzbzFLhKWqNc8jqE3X6HnX4NDTz\n",
       "1EfABT1QSuISiiG0lE5kyaeGigJpdW2U0JL3dI40eF1sauvwb7m6mgNBmdK1XksV6O6NQCUzqfvt\n",
       "zSgF8KGcdxmfr3M0PhE8cD0d0LVs/L7UGCvRJ0ru1hH9IvwvUrft5v2F7XAXJ7Tr7QRnVM5M0mrJ\n",
       "6bColtqCW/iusZ110KpNvFJ4K5cEKD2ooqQrJVSZk8IEiVt1DoCZg8yEOAfubJ+FqEy7nRPcj2Ny\n",
       "Ne/+MsqTUfLNMDNGqCGCoFXShsI5+F7kzLxrG4ygm2ZfpBqiFfHdclb3logn0Q3dk1wLKQdCk+qv\n",
       "7KMF+EKMy9o37fvZSb4GAVfbGjUXS4YaAEyJDwwwPYEGt49Bl7Vje5Zd59UkQNWACbHmZ/WzNOcr\n",
       "HEP5qgE+mXZUh1MxKFhVGUKP3bp1K2V4yMup+dqoZWTEABqc4oe4I5709ik1fFymQiYMSVVRMFO/\n",
       "vJzsB+3bITDHHC9+RdhKsPD1Tz+xsIiy8ceMaeMVcoHh9ygzCG84n/C0hm2e0NvjWVHbvRt9AY3H\n",
       "0iSDwzhpjUlpqKcl/xbYnTKn2tWuAORXW0b98Kfmihuh43Oe15FBYdoBSFzI377xazBIyIFo90t0\n",
       "joxga9ZoFOiuhAaW0IrM0hYt2h6Et3ulXcEW6BNsZSRymP4UFpzeRYQ13ULRESYeVPGrnvwhh+lf\n",
       "LAzqORjy4nWL04tpvMXYBMv5yTJIyDjCEABbpY4blhZexISVvq0YpSxv0udhDg2XNMC93KxZtdCJ\n",
       "xDCgw4ORHLCKXUXIRL1MV24dsdf5LjZjxd/XqoOdkm9aUZte6oXM2jA+btHDTS7YSpe8ET3tA0SV\n",
       "Imb09RcY/SN48dl2OdclH5Z7OK5OLce6THh2G2lOuh7DPPXdIWnLjpkjWJXm0tTiW56Jfh1OMOch\n",
       "rXuVN+CwjP4OwGpXwdsDIJh58xDz32Cw/48qTQh3wOkH9gV0H8ghIhdOE/nj0aAa0BdfhXZaWzJA\n",
       "1t9SYhd8vu0/xk8xf40LxmyZdetuu95BsJXAzpqy30SS0jzJBcNv8jeQVkaoe489nDnQ8+QDR6jK\n",
       "pw6HrIPfEgiS8RVxA2YXnc9A96V+2H5z/Ybwirm00ipbjZmac2+6nAm0FWGBJYxiU7DyOsH3si3h\n",
       "jJtzI61v5wJbIKFitw5Yb8RCgWgNnmN0yGo964h10DE0i/YESmmdAYm9CN2kbnVBtmM+tQi9cAow\n",
       "OOEkwkQvsCLkZcxeMrKDLO6gnSDqzVKQxQs+wHPeV5TzB1FmBhB/GZUchAmW0CCYTo+vIo7wiRQE\n",
       "wphhDfidOFDT0HOPO2Ri8xySGN7CQF1ARKxQ4eBUaLebqgOx1JHWECkfFtca1xBCma6tDzgvwxDj\n",
       "B5kuui6NwxTGSGMb/eaF7oeyCnZbj1vpJGfhZ/AIsdltuy+Lrid+qO4POEHWwY+s4ItH7nown1wR\n",
       "7hZDpIItNEtS22xUK29N+Znary+iII1pemfZMAoBWhBd1d1J1JRB15R425bl38vNJHtyMHfXMnat\n",
       "I25yz+5pYWAu9g991n9XTVQSvrZakGCCEMVSIj+c2ifDamvZsGEJWRkPXgypqjp8nAwunSUiON2N\n",
       "rzZd/3e6KsMGilT2gIR2lLwaS354qyI8+UzQuM0BC4/6g/ZqL7Twn8q8T5ia/fdgwnHTcrjCVN0K\n",
       "V1zwEY2CDD4fUmxOKy5ZJy8huC0IfHAuvbHuANXZFu2mqWVC675psyIAMyoP26X6AsN6JYnFLKy2\n",
       "1p5OQcJBrkwwcs4qIw/3l8lTrY/gYAK9hnGNVYglhYzrAr7+D/DvNBnzRCXsN81G/JjEgoZLZ+EU\n",
       "/Y7UOoC0gdPc7GGCswkZVAwbQFK61uAJNryd2Hf6kIAxqKjR0YtkW+Z+Flp4RZfIkgzTfJtp1v98\n",
       "yenPV5XPw5IZ48BHLBZt6iMwjmkLgL48bTpZtv1MQ5sztvnJtZSYaDs/+ORrm0FMhB5UA8NRyASv\n",
       "IqmpfXXxC0FW82BoKChMEfe+QAe7BxPwrHj8NMufUGAB2Xt+PfVk5GnwUvVt2demvb8RL6WoGU9Z\n",
       "EGFilfFXyhIu8KO5yOcYU62/q9pYW+t3XKAiflbM3eqIX7o7yPK+7zje9Hx1h462nJiXAj/yDFF5\n",
       "zt4pD7/8nWaDfSzd2XHzmfDrbN3fjNFAefk7poH2RZ9ROXIvB4cmnR6Z1i1u+b5yiIjOB3hnLwrm\n",
       "+gwE0HhttjEz3EyNhipPtMxkJAzlSXbIF5hP9ln9BMtz3Uk6kZ6izEp9n9QZfCJyPEDVqkAnHD4s\n",
       "fJ1gMxgX2teD/8ye2TtrYgpiAJSeUTX8hYew7/O0/sHgAfIr1/enfdmpz0YLObhbz8afRfEjA1XM\n",
       "UnbE+eakDexuub/PLQiFYNnh/m95qFHQxKyG0ktQkF4YDiAWVbiTs2KRpuWxC25vEjsGNi3zw1gY\n",
       "ucYXntcxtoi4RLNUZLACRMCnsqCKfiDY9AZrhyncfO81Ak8TtHVgMg50m/4IeKnRaTNCaE8H71AA\n",
       "AAwH2xR6n5qINy95ItmZEFriSKyqjAueigQ9HZz/hTiQBIB10zFQz9mwXvOXZiTIFMbTO2yDDHwN\n",
       "RxdF4m3IuHm6uszBZsw2ncA9ep9RNj6ufeT4YZ0rX2f9GBVAeFuNfDWooLHWX8O35KebRGNKlTrL\n",
       "1reLS3yFKD8t2/2RVLAGPpyOtvkYH/oH+3hwqFe7O2t/jcPrr4bsXEazn2IS6ANcZRBolwIgIfL5\n",
       "M2IWuaoq6zqWLyw6ngGiEZGfdkWx02GD+S4/iKixZWBqX340+opcCNRlbRTT/aOV5U7uUczGmlWl\n",
       "hjPJbC/1DFm2fQRnYjQelAn7Ua+qTxjdneJp5/iTsy0kTP5EXYltER5/JKhGNKSSCnWK3Ousmb57\n",
       "tDy3CmqukTdJN5Vo50Ed9Tke9IEpBtL1jTuvO/urraOHXrdMiXxswj1L9xY2Tg2PcizAfmh+CZcV\n",
       "3VM8bcMkOfSDBeqrRmLXFXyhpeR8NkRCISTqG2kcrWx3FULSRdTgpHH9ux6Ee7OYgRmMFW9g9/Cj\n",
       "t5p/7V0KGJucl9vbjAJegOxe0HIS03sk4uyj0j57xjr3gTdvjXc4no4hy3pVgdzUCnCUReS5LA8j\n",
       "QSdrUlPwa5vQQEaPHIeBbFop6R+3yq+uen+fgONuqL3e3sF8jTw8Xbskky8XAYCn4umB35JWLVul\n",
       "qRgArKKJ8PjfDys/sOpVM1pnML1wPBF7e0WiVjE/IO/GQa9fi0NkWxD6dEZunRtY9rmB4jBtUOAf\n",
       "49WI9AD8Uvl/uSXOCqgdg5O8y1xz1bxji9dcpVRqg72KPJqamRC3CrWKpfHlElGl4/KHiZqLpeZJ\n",
       "bWc6qBvLofRhBaFFzmuVsLooKnmWEcCewhhwEimBZU0p5GSEMvZc8i1FNpVC5/S9I5S3sk6OFW4I\n",
       "qJchdVZT8/cm/50dP+m/8b/MI1TMNyIj3+S/4fHmgQE+GvRZWSmYYOK/6nGc88zFU5hxrCh5y9FT\n",
       "B40EYiP4iFmZFj/j0c8SFPrFrw69yLjB4o9G7THql9SY6zjNiodbmcw4SEOMBRTFjIP3675opWhX\n",
       "PhRg2pHilZmb3it/zQbomYQNQIbHzroslbQljsQRH+o9w29yKfXSVUtrGJmiIL9OpCQ2kjW+d6i0\n",
       "eoSLWtmkqLbEnmAb4moNzTuyY4dSFFNLyN1DcYRIPFUIWFTkpIXr+jWzU2ibTBG3QaWIB6IiACOK\n",
       "jhXAGpL7fpjwDHHbmA+MzYjYMo7xXkaGiMKYwE47D2CzzhQNJDIETp6QoTV85pwha4Jv71Ajx7Yw\n",
       "DXGUihBCYEh6n1pw3NN7CRUluw3P4A/sgUTaGdJ32hV7oswZd3EdoIKkhCL21bxHOQ84tb4DgaOv\n",
       "P524SaxlQi+/3Ly/bQ3bJG6x4Pap4poyukosm5JbaY5ThsBqUMmpu8gETCq1bVooEI199Z9/2tOx\n",
       "Mc99OaGA1dEl7xUKhSGWHEFtqGSzMDX/Ankc81bs3GxMU9sYMYVm8QpD4tSmX0/1j05vSpXDbhHn\n",
       "9QnS5+qor+hdpLNoZiQI1SH8ZK25DyHGg4MQ1zn9y88oczg3ICL8RBb2AfkA0p42BBO4oCmtzsVm\n",
       "9iNwWbBWUDkJVopjVqzVJAAtA69qgCJwU9awxw5ipaN30nEAAAvdQZ6GRREsM/8AAisWuGsQTHb9\n",
       "WSm/nEpJYDBb/ghKtcAJpoqXr0/Pjp6QZuER6bLffWq63BZFkCbzR4td1J+ndY/X1AdKlzvCSHq1\n",
       "K9mqY2Z7d5X0tYT3a61vgdupnOtFxsRXYh39hxfdmBjS4yr/xLVe7NvTvwB37j8QqRNc/PZR3H1b\n",
       "B9Ccc7l/OW9YViyJE13k8vboTyMaZXiJfChqOj4gCyRgR2RPzmq4Z7s31v89nboJF9x4q3tKBhLh\n",
       "+yHCfO+E0Hv3QmDne29JbicUt9cRlElLMiwu+CFgMjxHIV4TqREd0OorfwD0AcCwtluYCjoOrjjP\n",
       "lu27yaQue1+jT7IaQDtfJ1cPjQgXnzXDo9VDsWhThxOLwdDzZsxOspIftWdalNFrQqwllHhpuKaB\n",
       "8G9Ad9qjvr1jQv1tAVHr6FSxenGsgDNzu8+i73wY3UOgvFlznNrGHfAzp12aVoAatth7Ild6RWnh\n",
       "hg6CXjhkHikki3pvv6qd4lLj83zW6PrrBoxm50DqVz1ZbjRN1kRjaDnljbPnwFmBN9DGMxLigQzf\n",
       "JsjVdpFRH4mOru2HlmdLIF0dC47JqhvKB/7rtKnMYTle3HknmFDwQhXZJvy905FL9cSTtvUhiSkp\n",
       "L7ULlRoW0ePLlbGZyrfvrwGvhh53Y3Be1jhufwZ7iNg9Vjjumj0iC2TWRn/BrixCT9ac8zop1dxF\n",
       "XrUrT8oM7CaTRYf5FoGbpATUa0CNdGat0MUmhmLgxMw8gHFJaSAonsCOsRpl+z0JkWelZeMl4Vye\n",
       "VeaLqPHQjVv7F9LM5aAcCAFKHu9tpejwFiZXBLVqaZ4MtrJRqqmYkb5PnpCmBRePp9GNrqZqvgF6\n",
       "A62HtzpYEotp4jR+ZHKdIilkn/vQdf9iAxW3SiBDkqhlnNO9Tgv+xSweGKSLltRNOB5epGMU8w3B\n",
       "63lM8oKBHEQdN6ZVuLzLRQ343r/7jAtqJqQD2zXMTk7sIhUGUskp6sGjHEmylqaanQucSnJTswwB\n",
       "Tf47CO+zorFoFgjpD+sZLW7eEU1cTdwR3BwqvY5y6knVTI19g2Tkk7ALJ3GpMYBu+pegf2rTFC4u\n",
       "Fvtf54R8A1BNIEH8879ESQXvEQXZNsH+aspRDllR6MYUzw/mRIaz0vCQdjfSYSyA2dpA3t/I5rkZ\n",
       "v4nn988iHSyOD6qsjZ5OzmVXm+zy63Q8kKSvGvmzSpNyfiMe/W1qMWx56Z88DJvcWxR7fjAgO1m+\n",
       "8w13exOLjFH/giPIoj3c8wit/3wfeDQR2+xUwEBcFndFp7Y036PKcXJm7vQsDEpYqQQ5D+Eirq8a\n",
       "igm0SLvrOGL8t4pETgRKWCAYcyhs2cbniQEqVZcZXgU9hU8OCbgR3CI9epFxxPYQDQllpWcJInYF\n",
       "lXVcxxZqAjmVjl/+O2B3+ZVYBjVOHOe4hxURapB7+bdgvB1hO3a1R333/3lZNujOaNpheHAD6bwj\n",
       "cYq4Z+NxCwXjchp2rbD9TDg7SXGGZyU0E5E+LLIU/uwIqspkBvMwbjfaY66KAC6Ww6zyMC45WXQY\n",
       "xdcw5140LeLGU434JweOu7nVIw0OqKDwMNSwDPmJFW42FCPg3qcv4TumcggaQIx4lQv7K96SFk3S\n",
       "bD5h/RW8dfuBDzq3C6xFFvwfPhIwX/u7pcWjWGDJKPsIq+BZcw1hvM9SxNHHwlsniNmP32qPBxkF\n",
       "HpoAgi7ukd7PEhHYBE8UlQGWDw96CYDRwbcs+QsoObRdftzhrEU1eKsctEABJb9itKHW/IyAe1+S\n",
       "jds2JBaFiyl52LM6HL9m9+leFK693rTKWMDRBN2jvHs3tFgyIrEZBpgFABk3fYunOEA3Fg46py6s\n",
       "JXqjPZdDRvf8iOOk8qojDaG8mpPudGrHtjsQOOEyqGEpx8Wq2EdsJD55kxPexVT3rlhduHTc5K7W\n",
       "P9aY+qU/S3SouPmqnzfcked8vPT3e1erO40DnHiImFx4QUh0Kjnomcn7w/pg4maK3E7Ka8VmgUxz\n",
       "YV3F1d4Udh5YHiZHY5HaUtztG04ExZ5qELEdowj2zsi3cwxpHZ+drczDL0u+q/LV5WPntmVIafYu\n",
       "qDQEmd3mHg1Xo2wX4A6gZZFufFjP6Ii9ff9Jnr4JaIP8HudUuZOi+lBi4zfWqrfoL6Ke1QEgLn+N\n",
       "20z1y498hK342W0zUJcFHmUjO4ws/zQc7dTR93cnZawVl9gk6O7kbFPRmxXezK2mjux3X+3/bhTs\n",
       "nAqORIvNGY+fi3d9b31RDjGCDlMGhODYS8STBt6ucf3pGyCCNms8DZ39UsOw7CTE/pBgLYn8Cvfg\n",
       "pHgT1kKisZOv2tLBB+ODVMX3RXgtHugsLvDJe1cmgCNsreB74brgUFw3O7eCttJXQuAhXLWcjVNn\n",
       "5Zp1eaaneKC8Pcbigk/NChg5iA1ZpleTD84+CHvhJlX9P1UVr/qs0kHIfW5LcNxcJcOvpBlSy6wf\n",
       "dPL1oWD0AJt1js7UlmT0GwXhaOfnSsrI476Bliab5lflxguid7KwdoVv6GHT9TALUuqQykMdm+si\n",
       "a4WHbK/L7+XD77nvOKM6uEWniPcOgk0hzRkKX/vcuzYZu3Mss+fNqqYNWBHJcS3uThnoy90xiB7t\n",
       "kmBCpNHZoHHU0HCXyBDzfU9cmjX7CjyP4SPpQ+5sg1G6zVX9NPecFFzVczWQ3FM11ePN6qpAGyfW\n",
       "Tf66HDqLVwUfh8Prj/iCRxGJIMi0cbnt1+giQD+V+d+d6E2i0bJHbVUe7RETK+nWUeavt0dpfzlt\n",
       "IBP6bBsQyWMVq/qFzoAwaPcNkwNE7gOgOAXPmJJYAsT71RqQoDSdJkpXF8IVfYYKdonA0ItBMM8k\n",
       "mLsdy3nJanNdBykYdWxtMLOu8jVIqYMVXMOrPF4IJp3lYgsdleZeaN0VbqM9KLl2W4opqA9IVKqj\n",
       "jFi1HEwJ+aXN2WEVLD6+Dy+VHaKdO76VYFM1oBn1r/LE3ztjCLQr9KTO3bWMb6DEl/nQjzFEHUG/\n",
       "mpyfwhOkwQiZWRqV3iQdFYI3mbG9cwnKTE+GVWwBHnitkqfAl+KPFUEizobMkfn9s95TtORqAEbd\n",
       "rLwsesyn9UiXF2H2+BdEY5FaPRFpdkL4azoPyqGZ26GKC/RzBAXeUe4dJH1oQRmuPWLFQHJIO97y\n",
       "/RKYD/yBgzZ5JyQgsiaSM75zJ9iB9vl2dL3AnDS7h/R6XDXkpMnbXpIE7oEnznJVC7YagievhNDc\n",
       "Hq4mvCiAgy3XricWe+PwYj8PPFvgKdVejnoHnxN57P6/rqw9YjQ35MfJQK2lyXdzr1fD20TZyqaS\n",
       "5z9w0qMbUf2IK5NeBglYN4nMNb9XqwRQU5wjzuBpsIGUoPacBv4QKKasnnm7k4sBg2g6WNIB4qlf\n",
       "Wn+81/B+BYh7BZ5pw3jST7GuAof+i5MZPZJ4C3x8P/Csx1h3946By6LC7+5Z/FOxeqUN9CUfM80t\n",
       "a2thb4xahNubR1HTG19wpeiFnwis42R8/VDgIjysaJRm9AE73y2Y5nihceClLSawuidbFkwYhkka\n",
       "il/wOlZbkBRBP4qiqeEcaaVphZJm4ayZeMG+RXRZVhuiPOBfhIyxl6+NllYU51o1QwwOwEd0mlTB\n",
       "EJf4YD02djvbozzyyck80yYGe9fzuPLFMY8djcTGfPEQcavawBjQAc2KcIq5JNNeCZzlo+I4B2dr\n",
       "K2WkomeD+YvQUDAu9Vw8+SjM0XAS1BDm4QajfQwrHOqjZjO6DB+JLRa+YcQ1wkr1Yib+a3MzdCQL\n",
       "3SbRUNll2Hs4s0zLTg3H7d192SzyBN0ON5wEPqAC2Ex0rNHvIttzFNC7z4dooVvem7uHi48pVJYr\n",
       "To/fYDYwgcT9TW23kTHDeJE/RyN74Y9r6fybvH/NIR442QVMihpomE3J/k1uV46WTXIYjZRxjmZD\n",
       "GzObFVmoGah31Rx+2hvCSiygz1gtbHEmse3q+sniBPLiD4QqpwOrl0SDTYWwSTBmqoCU2Kv1gKmw\n",
       "LTs63jTJrf8IgGpZGD9g8Qcq6OAFUjQUOhCNBIgD/r71StQjQGsHCuVFU6NKgtpHjYmphhQImQAA\n",
       "BlMBnqV0Qr8AA/fA6TisYmk4fTEG62gRmmj/FlfTA7PACWq7OMGDGxsB+49TiMcHkmCwvEdxYljy\n",
       "DWbnS6TOJu4abSTPWImEl8kx+b4gePnizPuYTVoXcC/hzvEhRfLgAE/z8BliIpCbIxcr5U6nxr63\n",
       "i5Hjy44065kr5BxoffOWK6bvHD8pmrtsiIebbvG76eN8fjnnZaShQE3ITWPAC1NkDMercgsxZSv5\n",
       "0c2h33gh6rhFwxypuZ6WFEZNBVmlV3Avg73oGu5XsCxQ+OFvbW5w8bZKa1D6QlXIQdKCLFrtoHZL\n",
       "y6iDxiklQF61U/zq1pKIDKyq6Kvy3eyJ/LNxOh5T+FslY4W/q+7+nprBr+FYW6OGCdPrKgbrrbxE\n",
       "jOys51vq6K6RBbGrdYdeAVR+kBCnAGgpKV3dHEblEbPGCLH+tNz1A6vEx5RgGHT27D/6qDDtZCKg\n",
       "frCeertAn2JUkNOWrQKXKvL5uO8Ux5OR3kh1kkq2CS90MDiA5il1rIWDESRR0qK7ZL08mQPPmDMq\n",
       "jjCVlPyuJOfntfoWmLIDuulw9NefboLXRe9Cj5G+9CVQR0tGBRuhTfg1OG6J+x1+fq9HEmpMkp/P\n",
       "Ct1yDxTqlihtWghbNjqvEpdSdFURTJ0l5B6LELGcXvL7Z1JHcJSIlfcG2/nQe4/r9WP4rCQ12Kno\n",
       "WqQVJdZe/scWMb0VB3+hAYx+PRLCJK8789Q0Yn9SMpBBLHIGJjatzLoznUrP4iDQdeKw1W/JE4az\n",
       "VAI0j4r2BwrDcxKgokh8CSTU6MN18yQnPdqY98b4Fn9aemPtgL8VmGWzddWwA26D/DfM8UEmy7Wn\n",
       "FUQmf+SGD2/+qpau/6rqhHc2yaPr4A/tA+ZJITAFyQilGNMKVjD4qH/JBoR/BALvTfXluBHxFbo/\n",
       "YtNjGxC/al6NMLbOdb84oaMpacVolItrMGb7T1m/yFpao32Fmgzj+lbTHw+tYxx5spy/nk/8aRmV\n",
       "EwkJ4x0qhfWRhw8pgkYEX9zAbKIp10K5+zVjPtPqZoZezUiSKgdGFLsI/E6GybI60z/8Kwb+39Pm\n",
       "UWAbz21MZFukn7g7wiHR/ubyGGSHnQc1FJYDTgdeWbrZtvOZ5V1ubc1P0iK6ouSE/8pMuK7qbBqZ\n",
       "ETrQYVRKf9Lur5ojak3gTiP+xFhW02jLPZFC3TTcCau0FVMPTG+m18zZtxS7Ia2VJELpYrCnenKq\n",
       "R/D3ZGIcgsDsm7EGO3maRvFm+sSFp0kQkgREK4RuM4ZY8G5FeX+PJrD927WNSWHmUWwY2eZGDr+K\n",
       "RdPXZYHE0OOYnLVyw4lzqoEofWX7zhxf7JhJoRL4J09WSSwlVVjgAOde0YmKLZMoUgqQX1nsPgBJ\n",
       "tvIEOjfRprY1i1IGAGRnxL97i3Do0AKFX5GCzb2iPEyPlrlkxSNA7+JKxxW/q5AVP9DPo7+qXRqs\n",
       "fFwPehf/TzCRbZfKgTMMJHcNWck9vFx4c5VwkO2VMKcmOeSmN+o43U6ihoyfzl89uexEt0ns9fsY\n",
       "g0+A1QNiIq7R+5PIQuzGxbRhYwJ6LBChdwQkK77pkfn7DFPhbkBxAui+9n3zvSLz/rSb5lne19GX\n",
       "nYaG9Vo6FmkxJMo+JPBoDB/dHcmz71JjQMagpasSVqEVODn6sT8K4LmmP4FH2i+9ZRH5lRZN7+/9\n",
       "6AWB/tyxVbtlvSZsBmx8OLKP2NM0S6wM6FaAOjzt3HSjGwE6GxzvvNKQHg0075yj/XuF9bxEhV0z\n",
       "/wt0/0SagMNR3ieN7n4LwsLFPmbdy4OIQ6ez/YXMiS7PFmHpafimdO6Rxpv0CGR46/CBgeUyK22y\n",
       "5Usm4iPrz4GK30sADAJInkmw3HH5eKVvYZ0a3tBfVFzf2Nb3yexHf5+HZnmGh/tPWVTk7tJpmqWu\n",
       "pXYZxvi5nffUGLCvOQDvt/Nsh4cVirhaJjPIMK792XUbuzKbkdYns1H6TqCl5QTuxZxge3+jR2Ez\n",
       "PUrhuUCYQG0zdpbGDqbSBfGAHENmCbKTPkkbsHM/qMIEGbIPhr4dEnI2CndVxF1KjWLVb9uMyBY7\n",
       "vsRHf9xN0SuSbcOLhbf4VcAn7qNKCzN5osIPn7kOXHNHHs6Hfvb6vBZxJIZuSZaMKKxeaHUDUuLO\n",
       "28WM1cJjAfViJynCL+wePSmDtjFJCkCFgQAACYsBnqdqQr8AAO2yiFSjWAaV+kYWUmOWbh1iGSQA\n",
       "cG6lUHHXMBsS0ay3KCYFGYUu7bF6/TxEag+BWRVsSnctjkCMIeyaJuq9gC2gnC30QdiR2BABfeDr\n",
       "+i+cy7MCE+/38fRX1NXdZBYyk+xm2ao64SQt/JTfnwtyYQtRDUhdgYc/hizfdeKl6Tf+bk2uvHXs\n",
       "P/SrxoZ8bpqpELRMCrHnE0UA2JQ3y1RtJ1TTQrk+nNwGtstfaerpxyLhant9cAIZ4U5b64BWQFnU\n",
       "96NGMV49MjgiF+xih6N+7/sAob01TGNbNq99gaIIDP1oQCrWoPi690N7R06fYCw1cu4GJxvLbgQm\n",
       "Pv0OJZPKESAEtafMhixNn1S3b+Q3jUgEDTOQEGfG4NwCfIlEWk5wTiKY3p7atrVppbpT+o39RWO6\n",
       "FodUIswralZ0fl6pFzcL2aXyT2tiSsoYr6OOeglcYZqOLh1bZCO/GNvhNVMaspjp6548rHN9Ou6Q\n",
       "BpE1lfTSSXrPrx8OX7Hh5aKCbLaZAitIZswvEb7dByiGr0CZZsFpuX9MG09F/NYRvBNMP5/BCj/5\n",
       "xgxMqxW7hOcS/CmPPLow0o55Y7GhrQqkTecWkOG2Zf2j5QV1beHWuz9cMBfLM67bxSEKtZ/MJyOU\n",
       "AtCujjN8Ah1FcxI1EvW+VK8tkkCHks8EfV/2nSxXmuQeX9OKXEA1sjQgVz7cBAerIR4wIZ9NDblD\n",
       "SlF6w8JN2Tp9+Fc0+9Zff//ea6UrX7i5ioZ9HNXc3te7eBu5MjKp9U8MGIgQC+jeMClaKvW8lpNX\n",
       "XT1D1j0tcPSv+D60uN0ecYMVuDG4f7rDT7af3KkOp4gm17Hlyp3I5EcYm79raaFHBzb+SyKkPnLQ\n",
       "EuuVSvr5w8ozgk5zzo6fwjqRrJXnHVJdtPqhwQOazCC4T0KJ3XbvJX51hONXmU4hIXQGBl9TcX13\n",
       "CnTlgoL1/s9JFZ4olWrjuFLrWg17zAqf4Ipujlcv2HvFhgPU4QzGSFxr3og7/FVCsBlV6JzlQDnn\n",
       "3JaBdJRSW3A9YHTfZGUrTd4r5kEpiIE/ReSrVcGu6nQFZsQRUew1BaPR/Pkc6y5Nxjc02s5vIqSa\n",
       "EiKVoTW30KJRig/on25hJSefhAfPIDg+Vx2cu+23zS3zyBsvIHeVRYhitxeD9HxrIi8pZL/Tkp7b\n",
       "gMMVal91z8/UOfl23y3H1IteSMAJVyb01m9TuRpr6X0q6Si7naLGXEjh95XEldjKh5l875d80HSe\n",
       "eJwosXiYqiXjoOodbeRkLRYYolv5UOXFRP1O+NEpHaOe57LHPbg7zJOx7hwwsiex4+kaMx18Gyab\n",
       "ZgVgVSrKbBDKg0e0i36ffqqcZpA4/4j5n2BG5GVB7qAk8RXqG2nFXbbeVg0bkS+WvfQ8HF/KhVLM\n",
       "L/k+wPbi5JcX2iqOp8ry2W15aIkIwlbnwZLOnSH5EMAQR06/t5rkEbu6YnMdAknDwzWh7tXZijPa\n",
       "lih7WwS3UCfkzOXwAVAlBFaZhxoGk7ograsz/fmC7geWcFnQvGNrRlwkGy7LwHckCEJktYW9BH4P\n",
       "RMXn0RlPjAdyAYLOTI/lp8W45jyiWSTrLYXDPGQvEeQk1PreTa7FT2N1uK1MbOKNCt3nF/oSznCO\n",
       "CPPB+4zDxRQ0RlwW8wraP8hZfKRmIVwXjKGeehMn7UJVvzbWRSADtBT5DlVAjolPiVSdecmMv51d\n",
       "E42krgXHFwlcIHjwVJe5iVZpnlemtw9ZkuBNC1bwnc6yVBg7BNi651rTbrRB/eOiHFQn0FYG5BGK\n",
       "FamKE21WZsPuHuGGEAPmlzwMuHczZyCjzy7fa4ZRoU2iCmZWMVQLXLbGxTuC/8Yj2yKM5t9aNNf6\n",
       "28TVMLIloLeU1zdHspS33NCrELxSO+9fjX8UxWvb+XPiVKQB/YDE1itM7JCad9WkO4+nb4McOiyQ\n",
       "HZ3APKOcBIm0RuYmrDtwbWsDNv+3emDyGCTwL+deDuJC60j2FFiMuRGrLnuNROiUrtjOWd6X//75\n",
       "cZOGBWxNU42HRtJsqzOnF3zeHOHkHIqs7DFynCCpAZvwOj+CdDfXjCIeD5OpvgHbzSg51uvSEHB0\n",
       "YEQ5vHmqxiE4mR6rkvukNYgHRmYJ3X6iB6/2AVcPW3kvUQyirkbnHl+HuDH1PH1AL2+NT6llj5fQ\n",
       "7ZLuWzI6pSuBeGDxmrbDBCutIXWVSYG6/s5cJsWhHHIRYQDVC0Gvdl4XF06h9H+iI4A7dVhMfIK2\n",
       "vBlvZRcpFI/n2kPEOYM+/6rzwG9GSNCTTAbVomsM0GRSrkis6+qzoagvJTruDOq8IFlj6tQwxanv\n",
       "tFBr+ddxytOkXJ9twKWZ2Q26rOEW8UiuN9//6oQc0Joa6H2weV2UFpGt8remKdyCtJfRkl/gMXjt\n",
       "GeBm3zzPjGVDCMvteTj0/7L1gEovnT3LmsK1ehfcEK0nFAMvrv/tlkAfr92jB/M0xwjaSWwgTpW5\n",
       "hR8uQnbQE2SRZyZYvpNWYEAVfWo9aJFL1qLoRPyBF05FrKTvEmvchR9pwRQu06pe2DyGUVPOK+yS\n",
       "zZZHR1mRgVpxa9Zq6UQMClN4MqivxhB9mRcFEccGUCOnAjS7Jm3C88Zt0D+pGme/AMC1C7adxj7x\n",
       "BHA95jqLd6Y47I6a+/RQNcsTqMGjlsZNYUM151gZ0YW6S0HbX/5NxhyUw9FEA4/DdOSR2Q6DVr5y\n",
       "/BqYIYmRQdRcwwNbuOtqwnMXESLKfD+sb9D7dEIGcV2pbPIoGovnfdXg33GgBOp9FXm/ti+lOpDs\n",
       "wHBdVzncDPh9tMgEad2j7oaa3chya2yJ6zp2mUNWUNA9ytC/smBfdwzG0QZAhmq2thak/xgEmczs\n",
       "nKvOHCNgq/ieAtJCrMRkd9TUrMJhxUjBWFo4KCSIcdE/BynNDQRY1XieNVuFBpqRXtvXD5gVl+js\n",
       "/c7ecCA2xZQ+4PJdnAU/U8VQyqZL9/nthRdnGSzoirOqkfQeg0EtVoTHEusJvoUqkWq8F0ncq3Yh\n",
       "fq7YLYlAKYVqhrwp1WDGeLuQ7zuyNihhW25l94tumCydqyskm8NO2IAPl0L51uAuT/yh5XIBhkZf\n",
       "obalCtFDzLG9e9kV8L/lLS+knCSdhIw4IeBJish6K8xgDn26MinZIpuXESyo/OsqrarVl+vLJp4Y\n",
       "g65aSzAXpDBOKCn0THkNUSnx9SDP7Muaat0/ZOWDel391+2/uIlWyDVY4VoFwSBzxnJnuSqiX5we\n",
       "HTnO72mZs8NK3YJpvTwyFQVS0BvQAAALGkGaqkmoQWyZTBRMO//+qZYAAaiJINICQD24o7JGOXVY\n",
       "Ay3viCorCeO1ABooGGeF9uQ3xO7q2uEf0kVogq+MYnhSZzYNe/UfYML2n85t9vW2JiZ1Nq1hmHil\n",
       "+FIGnVKjuR6M5eGad8xwJEELCfnc1yyfifDBEvVpEoxWinQk4+fFssW8o/BBSZ7BiHvN4T0BfM18\n",
       "CO+9Ufk2mzLbUIl+LqpcfPBZEfuqwNKfAK80hePBcBWFCnIoeWtUNL+a60afXA1UZ4JllyoDK67i\n",
       "Q0fHicutuOcJjzPBNuT63xnc7/KjelEfwW+R9r1waCpx48fK6rAkn29k7FwuDQmT6TJgFxyhI0Jg\n",
       "NTsAFD20k8K/vRwzqbyaPR1feQSjSmDEDlEuaLFx7XB69VxaQzMIH/lmB/YKBroWvGR4RK/Lm/vZ\n",
       "mEa0GoBAQgn79KcD6GJpkEE62NTFrPl3g7z+eKsOxQCyfv/zuemaSdjwLXu51uAj3VjF4yvixZcX\n",
       "1A36qkFe5T/H3i9viSWlAYyo2VYKSWD6Hj0+Q4sBSFhOwMZw/J1UhtvzMmQmhwg0qhuyPbiyt99T\n",
       "ClJx1o7sBiyb6r/9KQ9GsteP47VXkxAutWiJrm6eXAa7dXxpqtyMgCSIhGjaHXcadObjB9iriRgW\n",
       "4s6pcVU5iLOOmn8PGYdD5ttqsN+6Mhs5dFzfeAi1eQ4U1DRYk/Y/RLxabM7fWvcqDSy0VpR6eug6\n",
       "9Rpi9I0NAfvUSp83yGAY5hETi1fshwHaICB5d3MpaghfLS4Z+0lQsEt9JY7kabzr+HGB0TZR6Ado\n",
       "/yonQQs6BlmGXWCjFUrvSoHNwgknodDBH0NhiY8TdSl8du6H0xsPUS4ublLpAwg32g9O04EqHeQj\n",
       "zyUwDLSGl6M/BS5VANoF2k9J8zzxJPzN+0wU+XshIAYUjVdmpzRcYp9mHhFuL8OI1un/8T5Tixda\n",
       "r0XLqAoPF2T/13T21s/vAETxDs0ZK6liqtjihrSyeTcJlwoSeHHbu2Ah/KKrb7Lf2fzVoLInXXpK\n",
       "ixDR4WcjChKLTJUFMnacCEHVgWf91xr+t23RjDVcsLn0HLZZjOqefjAfpOPblNdr/qiEr0mBK42v\n",
       "VqLc2GFS5oNkVEpwGOFeap/A22xRvklgVte6DvNA3/QP3blHJPuRBZiLPn4Yl9j+kCIlh4senbST\n",
       "2aGEhUBFAXBqbqSCoIV9aNIi71liIpnFz3V1CsGeBP3JOKT04hw/blMDPq0YOOR8dwgsykVno6IZ\n",
       "qTgh5nBmI3j1d+xPn/udx27m9hx4DNJVR/BABnpa/3CdqLLLUEUP0sWo+KO+CtatpsuVlw4wjGv/\n",
       "OYiavTX7vZFH+Qqk8mJXl9sr/E+mx1NxKhypV7k2ihfd99ZfqRiyc3ZzQFxi4ddwzg+pH++9QUv0\n",
       "e7dtkyWh7CdOVwJWoFjKnwot+sR4ENpPcYNypjxg15l7EFgko4SIDNJqvZAsPXfjT3zK7DUmOGrr\n",
       "MNgvgQ+PCnTcFL+CTl6uCFwS6Ly6D6pfScvAwjXYi6xKaJjMnf6TK4XnMTXAXGp4ManiYZH5heAc\n",
       "X5LSFGfDooBWraZb4Kl3K/BsIe8J6J5hrMbH8TLjq3d2c4TiA0qBCMPgN/8jPjuL9cSIzx43buht\n",
       "Wgv0WrtXK90GqlvIYg01+YbcGwVkvjCZ1TDRHwdbXeLr5BV2A01u2tVjt7PBonb1XmIRkK8n93zF\n",
       "4pI6EVIRiomT/2zw5512u9A5pBWbk44LXfq9Hw1T2ka3Tc1q08DxTmyF0Ofp9WtfvBn/CL1t7I5/\n",
       "Mmc51K3V0XddvEpz/hkz5d4K8aMZ0G+6CQ4/yVK2yWPxPwX/qUtF5/KS/cDlX8kWtTUzjt1SiHkK\n",
       "gAcAVxGjKJNE8DoV5QSd/AYST60yD+ntt/c34zLsGCbUCZFuTsb851cDlkUpVxL0RC5WkucfXZK/\n",
       "pAGzmJ4SSmEEJYFBjSJESj0qbgTQF0Eo9jMDUSNWYQgCw+CbRdpoEnb3yB1u8/6/R8BaDcXjloo4\n",
       "/AzlmDIsqmdm+vjMcrAkvBxg60TxvfxZJlJQ4TlO/Bv7Fl4ZmtpoI8YkB/wNMakBIBAh/qEF1uli\n",
       "9hzEQ1TSyPAjzdka7FI6tX6cViczS2ExgJqi5xz++1Q/6hYxLcQFL3VxPHjkLrX277I7hALkLx1Q\n",
       "FqAQzNhi3+BeC+UOQ1sHl/XdGJtRheeKY4FdEWG9CmKOs8JAQgG0K2be+Ij9PEyseEwwP6ScCMBj\n",
       "wYWLzycwi1QbRXCl2beslustZ8BOrk2cZZRVTVp+aX09el0yzMAPt//8tJD6hpIbtlcmJDqPItRo\n",
       "O87U0gHB17oimRoTNtAV91UZLhfEhWplbOvSVioxqPdhpP2rIxfwbhOTntxU0vDJSYJwt9ldAeU8\n",
       "GyiekWJ9X6IBkt7sEeixhBaxLgp8bNUuMCFoaL3zFtXxMoN+jtCXEMH8xkHflDSd7EWb88Yo8SJf\n",
       "RjRl+mIvBYgEgOk2aomGaGAcxoCmGkYIBm8P5ZHkLHWXMkgYk8l5GRVyr8FUmBzM3x4kMMaObyHN\n",
       "m8kEU43EucAbmcENzxLmvOcoIkLzNZdKe2jI9xZEe5NI53662JNFJH5q7oalFAOl/QxwmyNL1D55\n",
       "3Sz1dx3khViBJFvHo5Lvwbm1gMnZc2wyRAFzBI/gMSGKoGD/3W6YmZ1zkrkF+K4CIb5GDgB629Yx\n",
       "iL9huEIpH9W0dpnzBaLQ953G3msjj7NHv44Bfs5xPYYKmHrMn1ImgVIc4BtpffmL0n30O3GIjM+b\n",
       "7Qj+13GrRhVT8hzd8SiVu1zJLDNOFhWDwWqiMDnOOB5xK3AnKVUdMB2HD2G9yi1wVMZEvc2S19l+\n",
       "CO78ouPxaR5hqMs/P9onjbXYWsIuYy3J5AH5LB2+dLZkJGBOGPLgsmztOYY6CeK1T2zi0EBNNwDE\n",
       "xahZOCeo/wBUHrpdmzETmTZYkn370HYm+Z1msVxclaMLeg3oI6PZ6t+i9unhthPN50q5TBHFl1uM\n",
       "UcgtmeCSF5XzEbcMBJiLgQTofjXv7C5WR1835SwDUp+rlm/BhFdxQv1SrCyzSirzNXLWQjpwws53\n",
       "dgBfjISH9RTDT659PWNYEoVDOJZrabMYJVVtK2pGBIn+kvBU4ADzx6P6Z1UC8heEy+iAeg9psmlX\n",
       "q20tnGGpZfhdiHp+uXmBQk0AkGylU1FUWWLbbvBVAuRVSNAjDrlzhbyEq8we3JKk3kI2rSSQDoHv\n",
       "B6oeQLIaRke+Zb3bAJWoNTyw62LbtRc6jhyifH8R4h10uMMMi89FY2n8E1lNuJUEMPY/EyVuTrV+\n",
       "0QBaI2Og5iu6p1GA/n8WDZQvh4IjB/2Zx/3jkH+Mcv/aYINCzeDY8JKGJVY/BwCbrEQGOD+Qr+Nw\n",
       "GpNsMBIfAD8Q14QRFG4qRSVIV/tXjuZc3n9O4SBs/VunmzE0/J4A16ME8mu4JDCADUorZOVXUX7D\n",
       "j4ois4ap49FTf31mFJYWwrUAB0UdGTrdfeVfGsTnptShPfyUVoj27K0wBPbSKy2wEzdXw7L3bNaK\n",
       "aD0HhNFNhAFqqw8Gperwpn4/3TCoM/QJywl+7L58oO4RbqOufWUpjvtlsZodKYDeEsfAfBZ1tro2\n",
       "ZGvIfzOHZGfRf4XBG3AU+f1qPFpw5KeyB4AH2DXn7gKIfMXYJqmBeUtMHytR9owFmIrlckc9+5yi\n",
       "NpQZQFfrjm1UCD+zNgtQVNeEIVfjH2GRN/YI/vt1JFHPhCPLjE56SwrZ1WTY7UfxoIU5NCqpWtWE\n",
       "ZYJolH/iukS4H6Y4Da9wEnAAAAdwAZ7JakK/AALFyZZLpCJL34IH/cgAXUdDWYBOgVkBDE5QBfqN\n",
       "fGts7sUMu/wf2PPTSmvrwBJmSIS4pyFBXIXrhrwHvfRsRHp+lQ60pS7U5Add6byJJxQ6fnTf5ZV4\n",
       "wolNUfH7CsUJ5lu4OmDQtH93FShOfU73B+TCL3TZ7jbjeSxPggqknF1tnDtBIVz0atSzf/ePHED+\n",
       "ry/582zswffKgP1DKTmOrkyviMm15BY9AKaYnyYklrs1X1qz1G/f2A0wJFGoqEmxS04M+iJE2xf0\n",
       "RyIchR8WHqxVvBB3/V7dOeUDI7awZeHtpmU583JsRZVHgHrlHlndxnYtCj0bxVYUzK7KumdU3w7F\n",
       "gNhtk9i9Hf5MGybCcI1loAGXyfRPNchlu6kZfpBbPNHJSZCAmY+aDFo1pM7mbFu/wyVBUytIA5YU\n",
       "84wjLRMs/z4rmQrYKT69Dfwt1vvOWFyA4uJrHoUXu8vRfWmVqxCfdhPkFx97f5dcLNdVUuCk+OGZ\n",
       "dDSX5LQywkk957A4N0YuYcLEyTq9YxHj5kFCniz23LzR0OnWR2jRZWtE7FNDVD7GSYoUn+MsxGzN\n",
       "CHTbO+JfwDQXsYcmack6t2RT79GoE+KR/VfS+Np3hmrBcNH5SUi4DOT1kC9PfJO15s35pQ6NrXNz\n",
       "NX1p6KOiUKySDtKcL3U2nVQ0vQFrKnd3PLF9L5f3/8w4RIBrEvJKd1KZ9R4iYo30L5+fUhkc3guQ\n",
       "NteqJ8XsrxPDvT2eL9vPWTPgC7iKZ+JaCbn0bmdzgwSNnw1B/Wp3mQEa+IQQ7F3pq8228hOSzA0A\n",
       "sC+8fnWNFM9rlft5n5YtdZH6w94IxNgszY1cmdGTgngp6hcdMuagJG6Eb+9fr7bDSjTwTCN7133D\n",
       "fZ/iR3//hLCkGgPmV+KlMrln24tI3gVwRlfV8I/aHlpQzfCaL24tUESDU1rBkQwyIQ74RdP/mOMJ\n",
       "7o/8r7ejFlsrbMRhJ+MAhZRsp+IkI2R046L+ubh50El1+JUrBczVWfB36i8VCYexAYbInugwyEI4\n",
       "jJQA7WdSSqEzW1s6CM+uK9tV18kcjkZKi4bkxd8kNTdqMyUf7CllOkgl4gh7505u+O3pSPPhHEfW\n",
       "XTxHUa5RrQrOJhVq4s8qdiEduTVa/FmlwvcP8aWEmZkdGJKZZ+EqlPCHLy3Fr25MHm1N0A1vVjnY\n",
       "AxAGzokNjIVTJWGnnCsccndHkcwDXVFSc6+dGYBE82QCm0xil/JdYL9OHO78yMKkidi58NGuIV4i\n",
       "4iNwcy40FuEcQqcO1b9A2FXdKHGDAVD2lvxdffGLky/K88sWzg+mLS7wUZjaa78FeSXJhaH6idoF\n",
       "Mtz1iXslosyTM7xBdcL/zAzptjPs5EkDFT+aE8GPntNxb89+nGPidPvxtCJcMivuXcWOXROgVcYx\n",
       "yMQiSRdwsdpGojRuDaNL3ClMfP+/++a3pndAd3HAeNth+Guffg9zK8x4hoIjUfwd8ojOMUt4HWZt\n",
       "nULruNsBCTYRI53oylc5aKqoa3xi3kx4aQEepGPhjjtF0Lt5kjE19lZkWftOHDiEznoI4w2kyx5n\n",
       "n8IZhDCr89OXwpwv105Kf9kE8nc0PerID01fu+HSJB4f1POq6Z/xdqZS+RcgBNGUPGfH20bKKcV5\n",
       "+RFcGCKdfIoGvJyjbBLui41rk494RfAU2fA0gH/dhbHaa3G0AZ1kB7NT5Quh1d+/JsmIs9E9hys8\n",
       "/zYqYRcfpCjPOKyBlvExOJIC0duPmcWotPJye32+wJ4OXq67I0qqlHXh+ITz2HXxSePSpnTAg0z/\n",
       "jojvrq9FOMShmStMbAgmO0sD9jyuWCZokGWgmhau5rt4ouyGsv3Z7tJCIdYN1TTxc1DKyWGeb1TB\n",
       "33pvhQ6xmh8MENG1oADCMMT/aDKTPWYuWQ2Q6258Floji80aRmbl5lGY+F3ySU3812wng1x+qj6K\n",
       "44IyL8jdqdzGQQprrAYBzFw2hO4Nr4XhdEkE96W3X6DkkDLxyZts9nyuEY3TqUMqcndvMgzmEKXL\n",
       "FGBXjni8PDfRBhinksleA/XGeFJMnFvSyXSDdjUFSULpJOaKCRLU0fqAVaTQeayIOLo4hyBxci/r\n",
       "DQVOay4zyB2fJh8vAou/O9c6P44Bcdcvcu183KDY/P3IZQNXvVGEJ8ZXCCR7oZ1B2xyzj2gUCxZ+\n",
       "xoYgXQG/tQ2GvZy0/By4GDfYJXFSZ3yPOnIHAN3S1+TGKJwBYkusBHJp4bFCyyf85gdTE1Y/oep5\n",
       "NZfxn2eLLXY6fv6OvbYtzIySVgo7j6iiQQ/WIk9oUIm2GZ2YXnJTyTkeatbNhUzYku/NXEcOadCA\n",
       "BBahOn3ecWqJdjdgxUxvK6Qixn0LIlvrR8PlWg40vcB4t+hlPpuNdKvwDi5ZYZoh6dHChKggCxZc\n",
       "nzyUOwk0+8fCchLGWeTvunWHZWDDmcONOP8166Mda/OuesKmr2lh/jwyD3UW4NAkkBjlLq6I4QgQ\n",
       "hNjiu0hjF3ImkAUPT12Z/zcc6lSJnysi4Kd+PQqICdmyM340tvmWYzH1DMkAAAwuQZrMSeEKUmUw\n",
       "UsP//qmWAAGyjOdXLBxhSp1LoATt1+zco8azcWBj4dEEQMamc0sJoTSnXfgXSX8MXB6staMf5gKp\n",
       "X8s9G+CjapvQHTEuz6EO1ll364vbiS8f7oJUKxh/WyamEAkqF6saA0wO00HO0cMl0Bdt9hYebTst\n",
       "FJXeTAs9MH1vCnMP5thY1SPhun/Yneo364eymqtdn+ZeQJb8zW2gjG7KOxmJxjVwglbA1w3cIEtC\n",
       "BP5n6ufaV1kuqO5SD59R/Ytt+ZegMKihI1VruPC13Pp8we5dVG/QRMn5zb/NPwNlUp3wO8IWWh3m\n",
       "0C+hMnuPI/K0SiHOpYsHcy5Uf00h8CEvqVZQ0Si0bmuHSpVXNLawbgFTElXY99e0XAkq0J3DXZ83\n",
       "cZFD7yFuo2D7hCsrBWX7HXwusHBKEPOmdVMm6ArFS8xBY/QdPkxI10AZ3wmVeuMtEgo+ZzNopSjB\n",
       "o+X2i6l3aVJ+J4W9qE781eCmrPtXdPbxm7Yo2HFQrUxUVJ/cXailLbhugXulrjNdV3Ks7RCApqes\n",
       "DajMhq4x+z7A0aDBIEm8oQeA9Wb+yrz1MGaeRYccxOACPMmu1YY95aN8w69Hybn2+6wkHH92o1X1\n",
       "qvlLbCrQG4fGPmD4+eqSVyUQitxGUdHbsVY5X8yQ78BsH/NfT1EVOyltsNjZs1Yfma7LWQvTrww7\n",
       "6U6PT1028ireVa2zCEjZv5mig7GkwSfMEHU7HVupeWpyiUUlh2936nE38IwUI4ycpACyTNcARYGv\n",
       "cOKf8kwMaNZq0cnbm+PdYWwDCDzRQzjMr4pnithV7osHwEEgehn0XQpxUky9izHt6GRvGsE82DmR\n",
       "bTAWiz3zJeJ1jSzWpRrCOIF60D4DCzfji3XhR2YsKnt6t7Rwj/8fcL39AGts8kIjGhxYJrPmbNZj\n",
       "Sqwu23q094+U+H+L6CdR6Ay9mFGJhN/EajVGlgLNZv2MNeWnXlIFtBXmsehyhsBh4kNs+tXVBAAD\n",
       "nj3ve3mK18B7gWaAjLLh5iwqXtrcnZXtmO2gCU/tOfYi+xE9Pyjv82h+cEy8zgZRsRcB3krualYN\n",
       "ZOfJKSNCzrrTuNBUvBNONwnzhu97QTCGq85Wcnj0YJAdQQLULoPEQ1Z0S9OI2IbFzso2dWYKs/Pg\n",
       "R8BVIqgVFcVtKXzCMqCLd29uwqZPT9GrOietMVPWL1KI/2qUN+N+c7bEPqP0VmhKcu574voEVrUU\n",
       "nGw1EE6MkAwF1Zo8xnJiXmgEK3loAd8Qg6Ipx+b+sCJVlVbN9DLIL9SbMzc73IDP9guy/xFQMv7o\n",
       "VlSq3PFpjZAbeCaW5JLawPskkwiVZ2Cn+w/ab/etzbZGbDAiPAP4h46twN/iEuOpzZDMSgzZXOoB\n",
       "NX0jM+msGtCk12J+JegeE8ymFL3hMx9gedX8Hfi+HYjzBIMKjdl5WKW3CkNtb/5g76bom9/yGp5R\n",
       "coCG3Jo7YwgYWTnBzM7hq/IHESfv/i6e85Ne2atskSOZQiTmTTcU+F20h7uqh3d6KtYPnLMZIPrx\n",
       "T7XWNX/v1a7x1OLxF6FUsSKRoN6pmKGKKc0WKgIPloAGflfH0Qsk16SXSImgjwQffvQwh33ol+dc\n",
       "qwI91NcxTREyPgefkh4/GriLmQdHUMXk94UCqAmUO2y7+KdQ0kSYicEM512KLDHSQbrL5IA5td7f\n",
       "Uvg3skiE72u6ngPWCJ83DwTi++2RuGxu+VUeLygb/xiy6MlYHMMWm/SENhIzVpapi3R36lB1Lv3x\n",
       "p6OmNUJNFxZoXmMdoiJPmSFwcVPxL6VBBb8DgY7MaFX1GSREuNcl/FYmH7V5swK7mjEjIjoUVN2x\n",
       "Fa1soX4WB1Z95J77mI69EhxaaYai+RwdkccfwJzmofobJBoSpOTWb4j2pBmsRaGL3By4R8JEYHWg\n",
       "qXiPnAl/r6iDapg6ehHRGToDp3psMaHw9idKJ16bs9Pl84qsyI7KzKvehZVcEHmpb2KYTQAIHGvA\n",
       "paqFb247o3v5t8xskS2OxwsEpr3dhdwaWB5AeqdGiI0OO/bNQhpC/APko5bkeOGfirP/ggq8WzXR\n",
       "vdF092GUPRs0NRzKcMHei1iqFImF8457+KogHDSzcN+mjzZO+PsdLB0oba1JrQN6Tq0C5lm2bDV3\n",
       "w9MVjKPeP6ZHNy76Ts4AxrifAup4oNyp3R/LpvdmEp6LznOJRIhKjKmOWaF/++6MFrFxPVxOaA+v\n",
       "KmMTpRBzC8JSJoTaI4bnQNyB/8y0IQ3VzXBYOiBvmLwtt/Mh3vjeiYsK1P5jGaWXxecu/gfXf8FW\n",
       "APtgxxVAf4D3TREM2RxIbH7BH19J/Ef///3Zp/aOPdENluv8KZQdSDOs6QludeFHqQzbJUJYAZVC\n",
       "BaTUgHnZswkmXj1pWjmh1Doo40CKHECDaQRtNGmaBd7phNcLgxhleW1OwtOeRdBCnuXzdfSglUD0\n",
       "azmIVWSbUYycZdvRSHoTjFqqaSbxnuMDAAMPzrkJy6HxLQlMImIzBCysQhR3H8otgdFV2XA3UF4u\n",
       "0uK5aWS497oVt/ARirZ8qoffSYFBTxKO0e6+E44YDRRBCvKcTyEZkKRJUd9aa7v+LbyUX1vl3gc1\n",
       "ar4bjL6VRLV9i6a2F5CNAyuGRONG+Db17CEwHjyG395Q0P+ZYFPigLx1DNwlRinEDa6ae91gMwV9\n",
       "I4/KiAeIVTGQW392GrIctraDpVs2QwmHep+iRdJlDGVcwJkbvKc/iYL25WVy620pne7rx2jT/hKT\n",
       "25AtYGhKr0dGztzhCGkstYLnGaorUY2UpWPjpkh/fVhbTwVBzVXytyMsXsnEMJGy31Ga2aL2ybSA\n",
       "IRkdyvIx99hPyAQZL61e8u8kHnhod6ZvujusrMx/NZdmb69x4cEYQM34BdwOIhijufSY6w0vKX/r\n",
       "L0lf36bcWt3X5Yij+Q6YgBEaUVLAWSyWLjtVgBbW6Wfh93MtnFvGdPjLzwf2X0jPIxk12Vn5WrAe\n",
       "6UTED9QGPIgjMsGx1JLpotp+noM4n68JXdCPb/jfyvjywMChiIegN7sClcMMpqIS7NgIeB8XNXzQ\n",
       "ik9Q6CLUtJ7yXg2TymqftW4xFxuwmfxORbLJPuHuXcCLwI6jWAT0qiAID5XroYvJfmtCmGE4Yw5K\n",
       "0URJ0ZOVXdpAebyq0ARyQHJ136sBnDyNsYe0MPssfdrK/tFcsevd5VFCs+0oElrVp0bSYAXloBIf\n",
       "pegDcgTzhip1bB2B8RiBgZwdVAx3P4n4mYnJs0cvmIsxo0Jdww5Zivts30YhY7eQdd8EMmKXumGF\n",
       "YslPbjnIpzKuzpOdhtXtLYvKHSuXT7dubK4U/DxnJRK5zVX7MgjGWKSxN+0SHQ1/XuMWcO83+KWv\n",
       "G0GzpD7KDTYq3QIzgRHxOTGsiBVxnSMsOadWzGqhtT+LZVsTQOcXRqn9HzTI4UZa75Qv3W2so0Q8\n",
       "oIj3Vf9/HXMbTaKMOqUX1KobdqGal5wy4AKYT25QqzESY8fRdJ+zjgHOk5jFtnqckuNEqQ12dR37\n",
       "cua0p4cvJfDJxuQCASuWq0Ig24E5ipRCM7wdGB3WbFurZVA8CY3Vdm9gQA6Vng8NGN8b0Ue+95nM\n",
       "FMhPIpLAmnnMKshGgj0dSguqP+BTIwuQE+i/L/1/druBsAKd0yzKjyelPv82mHLT5SDJC/Gbf/66\n",
       "0ZQhHXTvzBynruuXzFdQjzDQYwGo8HtRVSKuG1nk09tR0QlMGUfD4efDHwyfSeogZeJQjRudcXol\n",
       "RGdC4sxC/xUA9c27UVA6sK1/rBgvQbpU10aasAzwisdNnTAdv6K+niEWXbw3NJP5O00jnEMIsK69\n",
       "fc73vgwnigr6lgeJ3GD+ZUS1TcqGUA/e/QF4n5MNRlB9YOsWHRgwBgtBmdhLe3RBoT+EoBvxBTLR\n",
       "p4q/ci4A2kNdZvupFdfJbi/0kNpxg4GM1hB/9ZJPxBKlFHRqrcUWYFp90ZM4SYOB3jrBnihy1G/b\n",
       "ET7kTW7zdM5gGgQ9DtKRPdYzDMykWDoyeIv0yMFdF+quqGBjOOxZvdxqQ5qRf58wJCnsZZ8r1l9V\n",
       "GiLP28IfhumqCWkV0vmiRPLWyKNpho6mgpl5ZpWweCwENgg59YD9WR7HpwZdgfayo1fjBrMHNPIZ\n",
       "nKwhtBpDLG8fHxXUb+pQOgN69QQtFhUwnsM3mHgJOAAABmIBnutqQr8AAsTTbYVo9Gb3ZVQPOlFc\n",
       "ggA43duKFJ283RClmRfOpSsuIXYAq2wS2U6gvfdXeiGhwoEFLgE328uKroVaDN0kQcGJ66RsXAxt\n",
       "zKOi2W/zO6mh0Re/4QBpruTeHhXVDpqRA49+UhKEvl+Ft/+kZii94AO0fuAAUoRENHfsLGFZACul\n",
       "SpSbt/q40t/NgFQu1mtWjgRv1cpcxQSGhTeM9kG+pu8HbxZqMPDfQVu6HOnDPySC7NljJkQD6GlS\n",
       "3eGaLahwzhtDRxORJpEjflYiMHJgU+18PynE21W2rf0DFLaAKBffFJHAnq+EWGNT4hzyAa08Am8f\n",
       "RIOYdCUZR5DzWZfVqPtuEdmU9UYRHdvhue2lPG6DoGBbxlutywXl/fMSDm6NQSt7WpKjqhxYpzhg\n",
       "EMxZWXdlgnBTaqzHV+tobcKXuLYVkbSk5d0JzPFGvvwjTucsWiX0ad9fYMi3pHO2WYMlOeXvhZeW\n",
       "IuRSv2EhtDH/rjhvjotjTupuHhUmmafj9peVe7ieAZR9GdeUOtwJYDetEgWYTcVuSAm/hiBoG5oZ\n",
       "hc4DKsIn+m8hmrlpQBRDZiyEYM7GUg8nxMDhKmdZ1Dtzu8/lDgrn3ntF5rgdrW02E8y2CMlbX7jd\n",
       "aTXdgZFhnp7jMxEYeuwhJdKGUU/pVtWvyxMsmD+TVrkZqjBJleHiAUFiuIIBhsstF7JIGWUgjO2Z\n",
       "ecJ14cF6e1j2bu8Dt7q8bKTi6tMxRCrWtllIQLuDjBF5OT95E5FP7MBMHOdGflhvqkHJleOFXgvI\n",
       "6C1EiooLbqcbqCWI8QdsV27k3M+7yxJ8TlhZVsCzLg38uOaClmgqwfdg1iLgYCE8X0dRzom9xbOB\n",
       "HvYU7SikIB3LtRSlJrmwRSbLH4kcqVbXiU2XLYVDm9VUe3/EL586gnG1S3L0KvNaQl4WMQfL/M+p\n",
       "v+DuRPxIbiMwkkMA456GFAAAV+nbuGM/Z7dubBqarCwrFPamYgFNzO9DIO1DZ7dNn/dDjzmVOio+\n",
       "C9jFU5IX0XebD7jSHgb3pcpyyR2TUtAVjH5nSh/98BX+qqIpmtUZzwrOytzGotsjrJg3YmdoeFKr\n",
       "hbbhctAXSswkax7/5+dMENIkFPYAbSVDaA4puBWAABAOcOLct/aCbMSPBW9y08KOAj936JXqVDbE\n",
       "N0uQ8Miqk3NqntBvQ4SKiL/i6YNwp3F7YAm1eyt+PoqM1MXSlPcngJk5dDovkCnfu74WPOQju5Xv\n",
       "yBcTE448xXr1/Vf+x1DYa62/Pz+UFYvsmC5quyIrpTosZ3sOLSmv9CO9jxq9RvpFv8vDnWdpvy5r\n",
       "67hUUX0HO6OKRSXr9LIgvIslSAYEa5jyp768So8AqRTP2pKsBsniY+aK7B58LUEM9XoJACfR4iMb\n",
       "pC6IRSS2p06a0OI+W6tt4N0W9NH3oBNY0tNq57jwCAjAFvUdsCMOydQUF6XN64l/CDgetxov8HcD\n",
       "BgsFbjAlTbRRJsZQHhHt1gy1fcvkKv+wdHMwoWk2GiEq5+5sKIHWCUlHSXkwZIa483Mzxsn6Aj2C\n",
       "kwYdBn6XC88mtyR6uQXtsKTGwSP2FSCDcAkravl1Is2/EQg9B1HqmTNdVCSHicV68jrMVSJjo3qP\n",
       "vKs1lBJBeGEyGhTIdD8RgoOYK1Vc9Mxi1aQpHGCxalsUxd9gyW6rWkZ68xTpeM5YYNYKpvP6GuMT\n",
       "DGJm4aYhHlKXE6dJIsr9Q4zEjHMjqDU5xYePKnTG9XzBA90ukXoIxfujfaxhg1cZ3OgzHqYEKhkl\n",
       "HyC2pEGm+TdCkdJg862uSiZQdMOMEHoy2Ax+90f70P8AsUzx6vECQVeS73lGFSlfDropij1Tg4yK\n",
       "QTJzLHPS/jwv9B8Zpk/xafmDzDy0wimo3TEuh1TGuZEZMpJv2GnLe5yPZ3dGrB3PCMkoRLjG5VYR\n",
       "FitxubjTGA5bTWSLm0y8yoaIicyAUPqEINJww0NgA9+uoUf7oZ5b9HiiSHAZNkW3B6n7ih0jkaXr\n",
       "Pc55YlWlEKbY5SHhpgSwdXFpZGpDN1avATYb1dcNj0LpZY/ZzKwT1urfLDTdjlH/uJ7NVDwEghm2\n",
       "CChXbZ4XZS6zdnNn9SRvwoswpO56+KjlVtqbV3/TdIX6Vkuk3TY3VfWS7t+19vBkWsAv5UUcnRs9\n",
       "Kwu5CWN4YKEyIgNEAG4IeAAAC3FBmvBJ4Q6JlMCHf/6plgABlIMM1vCC37kpok7MhdpA1F0OaZ0u\n",
       "Pwd6+4AQgjKh+joLzNfMTaX/GeDaKhY37z11gaUBPUwH+zwX4AxuXBnnhzLzE/+UghzvdNM/PQTT\n",
       "ujhgemxynkXmwvR6TKTsCs1ouk4xmgMI9/R3ykDh+1v9FXcRq4eVG9cR+T3DlfEnK9bi3mTZYR0O\n",
       "Nrgk6gxmmMtErCVIxf4k03YhoSDVFGQgwahXGDnMZkVWM1dx1DctYnjBsaI13eLr8WUJRVzmPemk\n",
       "y7/fwIBzg05JTrkg54WxWC8AOxqPA/z/Uyq19/UqGuLvaSkWBUcAs32FR/9H21QzhyBFuarvPRGz\n",
       "WUwt32t916I3wGKMiWieADVXNr+2IT4NwAJgqg8NQNURuvDZMAf8TzUhQwmKLOvIzUf5Pyldt9IU\n",
       "xEckjrcfMTKgqvy5CXmxTMt3jQLmjq6HrzsFERONsjub8Mo/WE62J6JFtEwDJiMShDCEZNoCkyVW\n",
       "vsgjNLflJI/L+3Y3i80D0uvQQuJVM0qTOi9AGqjP8ZivfPbbJiQiydXCXektByl6NVhJ26Qtfl2S\n",
       "QWEyrMh1VqH3aAn9pNpPPebMUl2vrrK+OnSzNy8jAQI+i3Xqtw0WLs2Lg/Rv1Cu+zFOGzoiP5+wQ\n",
       "lKqGu/GklcHNu+cTb1eFOh1CTMaYmgeXe9gXGZ/nFnSoPqVeB7B1PO4abuRhhbIsmN4ddHE0RqsH\n",
       "tH8mjHtgsZq1e6+Ub98Ks59LoxckykF+ZwbmLekOoGD5GZBQDf3sqbnEJHngALe+2DSuaTgPOWSO\n",
       "UG3mizNDWhRdgMnI8dDapPN6V82eJiO64M7M154h00yMFjc7DWBbUXGZgT3k0ADIEzny4g2Yy7Ug\n",
       "AuBvPcVdoaGhi3INME0J6UUtFkTBmwD6P/mAJjWAboqg15dPQJnCsLSr+N611EjZolUwMUGxsfRw\n",
       "g/7Sd1y31arZn61sH3wgv0kEGVKWAatCWY0tbM4bhdpNKhB3oeTFXpD6FyYkbV5UBkMHW5WzkOvG\n",
       "W4eUSkzUg19wc8ZTbe1L0iS9Me5/rYH5t2ilcqfPJVS5JIcnVNLjKCapbI5KklcBziSfd78S6VHn\n",
       "lDOjuk8QWhDJkzV1RSGhGjyVGqRPzjX4FCeltCr90ThggNjX1VclerFMj/UVclg/ffrIYg+v+bWe\n",
       "rfrHddj79sqWHgeqFC8seSyX+845//7sRzbKQGy9+ix2+8OpKA0yNb9PtNLuGdxwUp2IlUKd5eYq\n",
       "qU1mr1xIn2Jk+38oRhaaR+NnQslo326WnT2GvyLSWJKH0mJLAMPpLQdr5Bo1wK6GwGB6bPCNju9M\n",
       "GbNXqFaAf6NIB68hWx15mhOlJeBBOeJ5QoSlUwOIauEN84HxblC1bVvS1rgNbpnFTDLaLQGSiaoR\n",
       "ACdipDLySF/AeA2q9aeprg7YMZZnrPttYILJ4atuGKr5Qfjb9lLHOplJXEpTrhQrLdy1m+eAcjgT\n",
       "rA/6dyRb2meYpVZWCGz6VrgihNLEqc9rjpZjvIsVr95yweIsT0C8S+8eu7ivp+HKskaUYjqlgUyw\n",
       "DAtj60ZbvnmRCaJpmhJDflQGp3bk0tsnj+9Aef/RR98108wdcB54Di5fHea5A9LrBEtpX00btufQ\n",
       "onH/4f7fTgutP3dBOOxIdt+JnJHx33/gB/cj7P5ObR4esYIgYoFgwCqI7Kzyp5CPpJM4LZJWdQOg\n",
       "xSW/qDlSMWBMYeFzxnKHZiiYg277yi4L0s4RjHZNLTGyD4FkUWIAFIIxejvkRO9jSOOobApstwaS\n",
       "M/DIrdg4eUw/PUKF/lFxwxTIqWorhiXRPDGRsFGEllse9eyTBwXl98NEMzkLK5OGqkWnZpSieVIj\n",
       "fZe4AmGej6TafHMj7uwMTKmq0i/zeFhQXLYGYIe4gVNXZllyC6jA+QFMegxYy5fBVXZJgkbexS7u\n",
       "TG/KPLEdqBRzam1+JlQQctN3SVsNznV+146rBuYEMJemCGhgVrJWBEVL9YzqKd+6B5UNgHdBA0y9\n",
       "DuPUPlZivGWjJ4O280zqknJn8Xw9sk4yQATcGkOEcF1D1HxBTUArCyV1LwPQSMs6hC3rzqBR0CoI\n",
       "dpipbyqcZQLMUydxiWFXXRRKJwoyyMYh+XSSgD0ES2+zyihpGKnxnDsnEjcfbAG1KvzgEpyMuedH\n",
       "qkfs0w4VCJrF6Zye9mW49k0IyChXPhLka2ae6r2MwvjKo2mfnE3W/5bnNNI4ztlJZgcIJwYn48lC\n",
       "hmNLcRJ5iZtSW+rJUv1SXJ0B4syboeCA8ABYX9J69ucHAwzwtlR1HygqTDJQmFA9LkKfXerdFtaU\n",
       "9S6g1sU7wyt9HoYwBvf8UmFVkBBZ/TlhFxfQJswD4aLeddltrWIkkJjkBrp0jhAx5Pwaaepe6nHj\n",
       "Q3/JR1W5kmIMv0c3t8b6L9H3DqNkyXrKQDMAFqnvdToGDklGErQABfy9dVP4NIvpUuk4L1UTGM+G\n",
       "m/n+sZ2ftYVzVJg+e3gMFiAWWTxC+ZI0LBQb6qUHy9Avq/mFLdf1RlyKyiVLRo7GXpUzsvBbWclt\n",
       "utTo5PcVCVEsKmkJedirCIlzuYs6yiSgMs8v0SBsJnbOk/rG/at6bZnt7QlCXSUAuYuYA0BzuatV\n",
       "maH0yzGO8jweK1jaSeV12QT2Fz1Dz7TA8ZvKbWW2xM05N5skPUqQJOaayrDXuMJox0qa2sajgu/y\n",
       "1LLMCBfK8xtH6gDjA3ew+/8Le6zPFLaqFiTmGmH8ONkVI80uI9u9OrIjgccikgiDvnMHPwODsWcK\n",
       "WsgH1xCyw/+OfX0znVLHMGRhphcrJSDWCq1xnuYX7/ocdUlyuHwT3KTSCbYHMfW3DMlGebV1rl+K\n",
       "VjJOWxeRXypzSPXxS7iseWk+Ny0mYmmPxCF43kPfpKqsEdJSPkVl7qRRjXhcW0jINV08q9yCimeT\n",
       "1XzR1A409krL931krFrJyL5fQBh9VEdFFh7wJBupNkp01XoxGAZLCi/FtayuT8cRqbgjjmC1yTza\n",
       "5+5lVb2CQgXZdXly69tdVymccbN6zpv5oWuMESpe5pmsO8xRH6HLnN+a5Qw7bHyRPV/uppVQPjbh\n",
       "N9CJOVbGRpjYR5zqx4AjFAeVXDNQiDvusvlwPAvUUn47sO9Q9dyxtuKwmVIoSqGl4J80UAewRRkU\n",
       "eyBSbGbgAQkP0RdwOWDttlxRdjIxZ6xFL4yuRRy2fb+SX7tMcIfgcSEkpn/AldlPcevJkHYTNaWn\n",
       "h14qXQMuUyD4TjASaCu9wAXirRaO0OIJRrAM4eXcUw4nkDVreNlE6f9YF7GiNShRYZbT6OfE0chL\n",
       "WoBBlQvrY1uCZviUoGpodis99lnWRAsfmjkeSGf8PsdJFEuvbOlIO4ZjFYU4Y6eS+vSSD3/+qquz\n",
       "9Cj/gpjDjiSJ4occItkBNxygwfPLlhNZOB9tIsEfd1HQW2adMBdpn/mk0VrbKRk+g+0Mje21f3vW\n",
       "x4GHs1sTIZ+nvvwe/jJ9+IvFFGJfINItuimXToxuiTacBZboki6vccu0F8BmqhA+HJp25COg4ZOg\n",
       "hdoFo9D67jaRGDT+MOBfUFIChlOXR9f0njf2jylM79gBd3efGBUkwJmn5riMserBIWgI5rLXSAfz\n",
       "NqmGtg+eRl/27C9aXimCYBr0VdyvvYxpm2x7EtkCw6bmCD/ug9tbuZZzWgZUuSLqbbLh0DJAW5su\n",
       "ubjI/s35g2COAIIT5kCHWSrRjLISbrf73gd36aviLHD78o+eavJYmHuXr9jxToqbl7vl3vecC5MN\n",
       "Woa+BEgaKT9eLAaafME++4T8x8Uf6wbhiK87Op6TbgPjQd7ciBBCq6mEc3VQIzu3rdzAyWwSu02/\n",
       "XkFOaNB4tp63g33A57URZVutouVLuwVxOFKsSoiljY84YQ+w79sAAIuBAAAHSEGfDkUVPDP/AAFi\n",
       "UF9FaPIiIBB0O60Uuv7XP70i0iC4g1qAE4c86i7vf5WWR7JMA41RS+jfbnSzakrcR+o0H0GOP3Vp\n",
       "ljD/1SNoaoTkBhg8Fpgd9XWA0MAizCG/BBpJxbE5n3XnYW93fWo4ovoGimBEqRK3FzMd42T1ldxU\n",
       "C+ZrWGc/2P/5I/xSM40witv+A9r2sTr+8o6SxYnRLwEyh/b27I0FPEub6RJSkr4v5cm8cVJcKv8N\n",
       "a3gcK8j6Jnan4A5jfIzWg3TEHZfqee6yqo/PYBb4+Mp1aVDWzymj1jiPx78uzMF3LzSQ8+xxSEMb\n",
       "We1BE5Fgtu7n9UIY9wDxCUDNP2faXObJcRyG7++FXXQ8yKJjFyTL9WdEOVk1s9C3j1GIa63uEArv\n",
       "yvnK1gX18FAYhWDmHjVUSnDmeepw7NC7R7rpz4LzQ8g8B3TXUx2EXD6WxuzpYw1cJhoPZlFp1ndC\n",
       "VFFWOxK1SWcUhER7Lc+C7eOZXJkaD0Ye+AqY/w6vR3DZREJxxtH7FXeQh8s1LaCMfcDYw3qH8r58\n",
       "thdrpLWUkjjuR2qTl7OA58oShkuojJWbNVH624ilM/Ze0AmtPgoDLPTtmARNsXZWfYQEEIllTnhi\n",
       "q8GZC9bicsr8VwdO28vOJSFPchna4fJJedeBoCXoBkIIVum5KDR+abdOTnERYqrcbZeYyHuc6GsW\n",
       "csUVoBs5zHa1W7GK3hw2aHoMMOFDa5fDRazv2hecwPZMlZ/u6aotn8cyuMCHKXWm+ybEMI6D0aAY\n",
       "crzgm6SWJnZPAEjLK19h0N8j7kVVOvzrtta5/NjyfJkSsYe2+kSrNUcmiJlO2rUnP1sJl9E3F7Ka\n",
       "LUxS6kDZ3LfLkxnr9jK8RhQQ38Wk7At/0YK9u1zHWQHrRAQkxiJluJzvUR0x0C+EHawS3fj0e/MA\n",
       "dSZSfDgaE5CtBAPl/7QZOIKUQiucEyexKOLchoSfPTZhaCcUKZF5AR+mNGxazifo/IN4sXgXDJDe\n",
       "xbiZdfaB6w3+469glYC+G1+7AycqgzGN9p3kvlQEN+Lr3yT6+JFLuuh69wXGrJTElOM3/LWeF02x\n",
       "aywimg6vbD+RCXkhvTkuwCE3iRUbKXZloNkGTUj8jUOVxMO3Kkc/ImnosdU13Dy9r5HxG7lFxNQZ\n",
       "3BiZsNsFxveKzQI2WU3n9v4OxTO8A8u9YRsTZov62upI69kUkyfPuZnqQgllaw0Wz8DRwGCWC1rY\n",
       "gy0sKHSmdkdSA2aj1ldZIbtPX84qcDpA50cjvhw9hug+az91Hs/Rkq9OQubv8UrnncEuOF9RvEKL\n",
       "/9IejYYEz6mkkvXA1fFcxu4SuIrAED/YxrTGuujq7yw6o4l3c8xlnavlcbkgTabDdVHSHYC6XYpN\n",
       "F9q/J1HejlaAASQvhGLTwTgNzFxZOWQvygMiJEU0CXqws1ocX4JkJB0F25O1ODfaPuDr8a+Rsg6V\n",
       "nyRGx0nt9/NYFWg2nSlGZpuGY36FUOWD6vDpX90CV4k94R7/UDT88kIM0HvbdBK+zFIkp8CGc6Zf\n",
       "LQYwe+gVEuC+cbXF+U3dO+x/5lvXPp8DI8/5ck6dH+rcwUcgXR+I3mA2Ir4r+qae/3Gccic2z6md\n",
       "Gu6ADKrL0LhJMijQ9aHcTr/bQAqvYCaYSV6lqHgI8XvTe9LX1hfQFs658R1FZ0Z/xYYYvFOykOZn\n",
       "Deqi2SVKLMS3DmIJo3lcLkEDakTEmXOWrnQaQT6WXWlDyvFB4Ttc638zP+9k5/4NIctTx4875WEe\n",
       "QQri48tFvMfQo6ZiXcMK0IUpMXZhlOCMYhd2UDkM3Oi9ZYxHpNDeLnBtAA7vIWdQDpTGTdrtUZVa\n",
       "0+7eDJmfNKGDAeDK1lKL5BmTCLOtgrCa+bj3i06w3oCGvtBv5y9tpVpaJcvobB5tFsvYpdQOyUuF\n",
       "9B3YM4QAsA5af56PEXhiwKjXVkAe4lybRDKFEmlOdDikNaVnSd3Y2f6QxWJ+dWr5gIvYsHHYcqGT\n",
       "sU1Ybj4xC3RI8y8RXOE7YbtRoUpfDM1+xWDKnFv9EicpRjSrUoWK3glIUse/lPZ0it493YOM5HZ/\n",
       "nmWuFYf3N5SCyrR3ySzmk3bS2nd0X7nwcL5sghu4f5SkFHZ45rEDWTShLEWNyQuaPuRAqvoFU6wQ\n",
       "m/t2QCPd35dIA48WDl4mvgfwd2beGKRx06uhBaqD7uH/3X6j/QIlB5QHf6UNO9shYzU8oaR966mI\n",
       "+RVKsXH8xJdj9KcyGoU6JQBD32G52rXg6qAyUgh9qm8MDQA+RFSE4X49UChCEbLpRD7/DXiFuDKw\n",
       "Q2cnzz1VL/PzC3Tog3wQkAPvXZMOkOzBR5hqb8g2l3nvJku4FFGc0XYW3LxEyD4cHDk+yuDVgPF2\n",
       "B/8VpTWzpxcgVITc+kXcxBKrdiCbuTwSCBXmxyt9EDOhFo2OYXRttKa1/BZtp23oIWx5JBysIHTm\n",
       "3P8tX5fOP0ZwS/koN85UgA9Udabm9gQKykzWFxEAAAN/AZ8tdEK/AAKOlsUFVHTSc8UnkONuz2AA\n",
       "XQwYh/aPfmQrTfvJ9mAGMqHNroG8cDBgE+lcydMDsp/jlTnOEFCtBu9wL87cAgbh2gIf8Wq6MZhn\n",
       "/tOP/4fQQLeLUsfkn5uKq/lJBvhRfeUUst1aUo/AliDkYSLKZCo0rX9PSxnMEuLuMe+PDjx0mLYS\n",
       "0alQe40fDA9Oa6EZcLzR26y8XDMvIcHu6nc+cSPpUC6XXQOw5RhpIO3JKg3NkcNH87Rr2Rijj9Ed\n",
       "p23xNfCEgU/2ORSWTFGeGDwX1bEbfDkPh63btdQNAkkmiMFayBPdoBsiyqUmlZFG7IiGBQTaJLDU\n",
       "TgwztUxa9LuPi/wMUVTbj84DbHW6QTsjP2jktSJOJQNdTpVZQA/uP4F37XFGZ987WeOolTvhVbsT\n",
       "h96uwBHOnwcBevh3zAWNAC0Et8B3ZQ1rkJfkG7qcQacFMwvs9wIYCxB5c85XpnPIMeGzsrwyePEn\n",
       "ejuwwjxxT1qSxH1AMW6N0BiRKJ/wK67wNrMsAwlh828Qi5bXghrOEaiXtDpVaXGaxwhG9Ws1ssJe\n",
       "1P+qFko9gbST3hO5HgRqqqPQaqSkuCl/m5SliaSbwixgN5QWvwY3VU81c+DnKcWgSmrumdVsfH63\n",
       "bVwa934JshM6eOiUVQ64jIj0Qs1rwrWjQDo4jeWfFlgv/x37pa+m/6L0OFku5lE5rutZcHvkGb4S\n",
       "s+3AB3HxCYwcw19kJkAYkBqHfGCZgk+Posb1wARBlby2h7SsVv/U+ItYT6IrZII4Bj/UydNbj3at\n",
       "YyazMrVBic+7fjDT6XOMlKw7QtOb2lOOyzHlmHCEC2W0UvcpSu5R3aFecDYxWjc4w0kJ2d/a3g/x\n",
       "W5hPVJmywjMq7phNmVYKsQp91sU5xjJJQvUFSopkdoLvsQZmRVo/LJ1sQVJTSlKjgq+bixG0U+JN\n",
       "0APlQBiSUYzX+eNCRduI16KJvdSA+H1Bs5JnTkZHI+OyK/6PA3AxQdDBm6NUyfZXDKcqtJJVAkpG\n",
       "a8Y7E39e2+8daa8eDFXPn0nI2WAlN6qLtQJ6e7AbomhpxNy5UyApng8l9JRDvNmMC5c/mAVP3lWs\n",
       "l30gr4bYGxxnZfwbhWogFzoFh5x3DlrwOg7qoC0z4b6OqZZPe7LAr4x77rhcp7zELi+sWScHt4tC\n",
       "h4YjYPXrX1v9LaiDzABSQQAABUoBny9qQr8AAluvt5wGO4HMwwc/MCkAHGxd+YOYkGtKwqsdFAN1\n",
       "R3FspuFJnNXHzlGmgKPUgRcFCWPu9MRIsz1tr3d3K3djUKV1tVZSx1BAs0EKjnpL5oRZnUyWoev1\n",
       "mOx49c+K0NQFN9XVS/ahsDOkWntGgsdcPvNW9noF4AAAAwAo3cbALh/yWRpfj0r6HApdPLQCVZdx\n",
       "yrbswTz9C0PWS0uVZ7Q0G7yV867vctfpeIVckxJWXnkRxTAtBvtJQ6IdrqU1Ub3/8MiHMYSYoPVF\n",
       "2CZHj0fNGWd+TdfHB1dtEYAxobfrNg/HxKOxJZeDh92sx5ZIGl0RY7WHf/d5zb8nLl0o8dYOB7MR\n",
       "y1e0vgbRumk29nmhTRYI1eGjvamIY5olzOJoS06fhe54BHcyCq6zKRcxDDPhsHVIBpMcsn9swB9B\n",
       "Z1skXHGh7Fjgt+6RTkvAUjUnaZ51C0gu+qYLNhbji5i+JNuaAYCW+nePk+8qeBxkoZrHnnDQM2Je\n",
       "+Gu7CJAQsXXSSDaecR4yAJSmYhaSTPbxp5chILAhlj9TdhF4u70y4iscUpFR73Sao8TG/LIfwHA1\n",
       "PxuHaz1zPVgyhT8pNP5qfEwccdvrOaIH5pIcQg+qsQeoRJQyIE+CT645++K+wC44O0GOcFcS+i9U\n",
       "VTHCjAYpufdjgM+X5kGev44SgmGOq/k/QqIpaRH2RBZ6vW879y+QBub4n/5elD0BRY1pxc3AiCCs\n",
       "yVoN06O0p3sZRuU7e9Q7cbpON6o+LaOpBimUThNRymKGIeTMKGeN+dauCIpg3kW/Ag3oFKDdmKeo\n",
       "7G8hMnZxdHSyZI6e2nXVZAZEcHIKHo/skgvUufjtnvd+IkcTQQ6vG5gSN93zm6TDP9Tc6aA/jg67\n",
       "UyG2HEkkahgl6dIi4QAUG4W1Ab0SBblliJ73Nhf/NkBxgAXo4ayRKe//wIcVklg1nbqtQjP60PxZ\n",
       "SHxg0FuZjKhMP5U1c7sgrUukh5MKi3b7Y9G3U/TnD1dXctG9tP4u4Y33txoB9J7wAgrbmRo0bpNm\n",
       "U3DJOsNo7WP0z1pS7JzX/H5QLH3Adlbq9GBgeGad0mQ3h+u5185rmBfDDS2enqnlig+Ma18asm+S\n",
       "8ZITWLNngrhiYerXzxfSZEzY0S9aJdYVqbKBBTmOWNv2MLPUssYW87AquMA11Hg5bRpCQKG+CsoP\n",
       "GhnthmmepUvOMCoAxIirzhxfZ4c5oAzFcUJlghT/0UYBNDzh/QgQ+6ve/IGB/2JvBncUCmQiQ2vI\n",
       "SlxAnfPPqydGrJ/k4wXAZEVWUSu8wfnrP+IhQmcD7FylnwsCpwHZG7dHc6+DSF6N+eRWbIn2Rx6+\n",
       "qyGpZP2rKxQT42Vp9oLo5h8mrB4a3QVr+hAxkuiiW+o0X+huS2s31I68C1Xz8d5AjBfyXwDhPMi8\n",
       "yIIOvED76ekSEzZUcfJPOWarEjyTgapJDXm1800Db+DJIEeCjZY1fsDsTHzOURQSJCeeRFHxzxln\n",
       "svAQH7KIBz73lQPiYLsjGsujzpD356UnorCw05TXcbYbXaN16abAMZSD8kZGbUXdKdlXnjBIT+Ml\n",
       "+pMgAZ5IKt1dCb8P2GGWp0CI9rX/vXWc74APulYAZQPM3MLm/sLcJIvf/5Y8ok4Vdhkx6fKnqZ22\n",
       "SvZBJ6Oh/KtwrXMeQ4V5vM6yqLNJLRIFkwJOuReYoIyXu/kqWtxGn73+Uk3154eatrt8J1eO89k5\n",
       "Y4Dx+EW2ztd4CnyztdEZtd0SMxEjsPgEhpdZ9Dth+hRx0y1inrd/OlvXBnK/dYk3Ay9CtFpgFOHX\n",
       "kPMJUBiwAAALukGbM0moQWiZTAh3//6plgACA/S4RvdHnVZ0NZBx5Eedj+Tz42l/urpWGDZExq9h\n",
       "AgBT1xzJ9bK7KUqffZHqERM68g1erjeplDP3vSmc7QxNVVFlhQbkOee+fa3sf1vwYB63pCfZ0bVa\n",
       "daNZXdgNlzMg9ul3F1bMFD8cjkS15CCjDgFGX7a0Sk+aRZKGgyAmPsjgwI267THewGcClpzr+wcy\n",
       "7NfKJxEYbQktjeCNgZliKJnG+/EJMXi1LlR1oAK0aV3Yb3nW5F7tnBhoWNAwGIzPQueZsgDujnFg\n",
       "92fxsX332MxUWP16aOZMy9mXEEA44h/4ZqSpP2J9vWM1ABpWWGzJLV3X5cSgE7KA1qqI4U4amwQz\n",
       "AiL2nWRIRNvBFL7eQyCJ1uchgQccGkQS3cQG+bzXC+FiqgByXTVtTEAMd+URZ5pd7A+ii+36qBrO\n",
       "wLdMJ8cKQPzh+hD95Ih0361CZSP6nMi6Ll+h8m4GLFylVuFVdJmt4zaS146HKQeOdzL3tJ8t7vnm\n",
       "jkpvyEhtW9qWGhJWZpbFWoDfneuCtKnXmlSSUO/fAMHw0YbB54Gc4RM2NanI+lviAfDIPpDnmqs3\n",
       "5gLz1bQs7EU9U54Cl7xmz7UYGGVYXfR/BM0ZkoD9MLQVZ+mkZczrqFQmqSrbT+yqyvjtev6fbvU6\n",
       "xdnMOnSQD7WZthLLCgJu+g5BQRP4NsFnchzLaaVedGBHWm2zzHjUn1T5aBlns8qaGRAvymGE+XhJ\n",
       "zZlF7RBTqSE4BRDNWqgnh4VvMqFABKNkhAXqbQ0vI/TAdxd7/h/rX7Gf5WQI7+K8FXKE4+64mcv0\n",
       "YEq1F7rkH18LbsH6OS2HBwYqxhtFJusfLNeadqyXjFTSLXzA9zP7SLD6RAYgF2QuglQCQ3WH2p8J\n",
       "3wMZEeKTymIRsXQNOGSsLwiXTrhAslUvt3WB2XHb6GtfsAskEH+C3JhCLNajRS96XZP9tw8EyWJA\n",
       "ZBo31tQpiKTwFOrNi2Q9+1UdlJEsRW9NL9dQ/wxsKe+QjBHb3nsYufXGRTMbOxfa/+TapaPRI0WO\n",
       "+rTbcDL52JJzERiMchAut9qjis1C89U3bEPJ9F6B2t7UqVkmVKTMJniglDf3ENwYT9Uo1L7HroTk\n",
       "l46w2lXvI2IJi9S56wWfdNT+kzGbugX5KFdcxr/K8PQlP2GB1yzMz7vO3EWityCMeSwRw3f7Z8SR\n",
       "cnhkVsKjgFbFTbMDvXGWKAFh8Z0xnpKZ0ro/HAlkqmUqpRh6UzMD3sbT9p6AAQL+XYI/ZhfAkLB0\n",
       "2mWSJ6UIevA2gQ3lA36W/JwbITQm5ASfOGGwiL3Q3GdnQo8nHxZs/e2EZwGNlVYE5JPAz3us84dq\n",
       "mDLzo6ObpeJsQty4C8TllbAQpe3HdUp+c0Bz2NNZ+snDqBNMa0Xa5T/6y4HErBAbCZbcOljjcRRA\n",
       "D5pCJTIOkFMPjVPnt/0xHltIEniu5WFPG/lzmB+Ie0o6Vuo2BNmrkKqG1kuBEyqKYfBh0t0iQima\n",
       "L8xjdNE3igTVeEbsI/WktEvHnTbtKBuW7Bp55R755hS4xNChmMfd9O3uWf/ONoD2+4eaYEKoW5uP\n",
       "hQ1h1JQgWFTceZ640ZllbSa/Q9ch7X0HDp8I/IKHWiZ6ekG6meaum6S3sz8der4mnIIwBLKhUTyT\n",
       "TJ4f1TaT5QNqcHcPBB0IX9tgJJAciC40weCJlD93AQtvxgJaNc0nSsecOazr4Ic2fyFtYI2NWpj2\n",
       "w37+FIFU9CamMg0I5YmY9jPy06CxXTK2aH6P0RL/R2QWOaAcWL3uERktL/wPQb0X/IT5vpanhogn\n",
       "Lmr5cASa5/gBFExnm66guM1BMijX1k45C0Rarcko4DOc0VhdI/6WeApb7m6dYKwBm/kOUBFXEbI5\n",
       "G5xyd1+6mLiX/P00pV+Or48OlNMMTc5lfFHSTDD1YTPpyyegyHZeWeZPwQGAPOtGQGTUmqGlnvk+\n",
       "ULlUZsr70fYlmTxlF+aUYZOJrcspqJPgyBRHDdVea+WZxk2VxqGST3eDIurUNoW9mTGJKcTbRRiT\n",
       "zMmqI8g3Hvl9qPpPop0ZpexTF0bgfG0ZgNanIUR/RgcFqq1TVCf984fpYQocLcOmh9CeWvuPvaZw\n",
       "kS1fh85Vxfstop9nwO5cAS0nwZYifkP7ozs+g08LcwPySEojM/5r34HLlu6c3PPC0LrUXyYztgQj\n",
       "XijJBPYf17Y/dETzaWo/7vZhh20pKDfJZM+h4dkRoVWNP69w1r8dOaPi5bl0B7JQB8eJB4EOjLjK\n",
       "1m+oSAhxdwJyhyF4SgUXIxnxRGSMVOuauJQSOKEBz5ZtQ9tbbV1sPWj95+66Xrn2SooZ4JIPCbAS\n",
       "On2k9F5l4TpOjXEV7JBM6+Mv/yGA/jq+dPom8uURndXdldR5wlEBLX6qDhJbO6Etxc0btOVkR1d7\n",
       "RVwsAAA8y5FFvSOBPHF7TZgPcTn1pZYKynvX9PLbUCQIpJqcvvUpVu2IZrZ3/NrUeZGEa7wdCECi\n",
       "bytWW3FsNg4NqsMgVc6zKHeSk5k9zjynjh7GTc+BVj+KrhsPNR5q/t0HNpJ5485dOkiQgZnpip7Z\n",
       "maC+4DdNgVvkWF2JyaZFSf20Mm3sBVIAmvPZTTZ772MuS4YkpLmOHJPt0G+nCd1jM32IxJiGIrJR\n",
       "nzdWZ3kKBV9UYD7tP0oG4sKnDz/MvWcgYLa3+S1RkD8vyk8O97TQKB2jnB3jNg+pmBMM1w/RO0xv\n",
       "VktB4QC3kyETrhody4ob3UBWPV7P1k1bYuQRHs/LPH/xjvr4O+O2btwDNw3qXSGO/ZXmRlIlSo0Z\n",
       "tCYGEyqptBJXhGYD3Bv8rGLnwlMNorf/AnTlT8QKftxSo1zSBcwYqhNdD/18HMJmmq9xDozUf+V2\n",
       "kQDF28QU7CLkZQTPS+GiZsYJ3d+ceFbRlsJbxOSuAulONqqrIdP2lmaUWm6FHPN0QOd1iB3RBQ1W\n",
       "TruIk7MxqCGW38kgdHbtu1gOow68HU9OSEaCRGHO75YfptaNn10XJytyloPw2wUCslIrBNMtv6BV\n",
       "Ll1Oy+EBEBIfT2kk1T61swsjFewNbNWL8AXayYRvCTxWAAGbjLaDB4P1bHtA9WiPwmquNNx4d63/\n",
       "G/8nubJDN0aDmp+iRsaMmGZy0BdCk8/Cpg8xuyMziy7BJfKT75Es+Z0pylotsFuPmnHouR/rx4Dm\n",
       "Ugj1oUJ3V/xdoI3WXJzSFdwxAv7R7zwysMFJfM0BORJw/meJdFtsZw/69vu7QF1+qQ7hGBsbJ5ns\n",
       "sFrTFyMuZ1wuwqSls9vSnoJh/IoshkLL1V/0pDg7ZKjWD1dqDw/jdIu0eLRx9Z7XIiqP7/bLu3Gr\n",
       "wnnRofoz7gWWhQF3R2D/McRxKmvraWfnmRWPQLwg706acC1m03hKe2IRW318MkgscR55Ben8BZMA\n",
       "GIq7+QEfXaJsiaH+f1ig4RDYs6CM7IJ7ecNd1qUInAmdKEIXFCHdJxHQCBezl/BPRs4FoufchFtj\n",
       "/0z0WYZLPLmfj+nAbzr1AzFG0OUDW24i8YbIrZOmRMlTv2EhERLArQbergXRzD7JczgKP9gaLnlQ\n",
       "CPs8Eyql/lUMqHuUFR8TZ+WLOztoEXznoaswTbE/M+6ntcUuNXBkrXNuIg+YAYuPdZ1rAMfZdZ/1\n",
       "ekzaFEj4Bs1UzXfKa/K6fYz7WHb//svnEWGDING1ow4ffF+6FpB+1lrNZq2ggiZycvy4aleIFfg3\n",
       "rwwCnUHvcKGCoTv4/+gvuVCkXqphzsGQuOs5XX5HHoHr4efo7AEcQC/8IBkl81fvAsHn+A13HTUD\n",
       "YBp3MVApLEz8HCa+OnChtux9HZk+i+NGYMVHX+t1GWQCicn4CbtZlrd82FzDiQQjO5txioYpa98W\n",
       "3eqoLFYG9V6xNHHwCMwTtmUfqhAlP6kNlSHxCmztx244uLwPDT7Hf39JYLWOqkmRmeCfp+F7boK7\n",
       "E48okvgxSF5vhSDEUIIQfh0Fv1jpNLA24ufMCtLZ3cY9FC8Cr2cAAAMABBJiAGBAAAAF4EGfUUUR\n",
       "LC//AAJrO3eZvbgeZTa0/QeGXZrRGmDq/Sio/BKxDSy0QW849AAnOCRo/5CGutBvZLjvlIs6CJ+c\n",
       "1QPTTt1wfR5fKMb/MWuuBwG3qyKY41a7A+/Dx98HNfjx/4u20jtUoGJA8W4wQf3lAhWGU8oUKnf+\n",
       "O+4VbHhZoJxxPswpfASIsdyVZLAQzZ7dISXUjvspkvJKV44tmotWMfZ6owblsFRdfMaL3w7Dlns6\n",
       "068ISNid4kaLj2OJZwmcYq3UX+kcHuUr8po8h3lK0VFb68LVg8ryrwcCm6jPQUS4/JksFLsGwGIw\n",
       "HVscihjoLN5W0i1urn64VYx0UhxRsDI2omonIAUiqGV3NIwHrkvebIRzDf2taZ7DP3ndJ20iJj3i\n",
       "6lTguMCdF9k/K2aC0yeXfDEI0tKtO/nHodTgHFTNwJC9sntPVLALOVBBbOnrF96TJM85L0DMt+td\n",
       "WU1RUXsuhEFKpHDP32iDCFGzDkhHVICQ8SMyVH0BiAGJM/Xr/y16tsj3jj/Gpv4vU9ol09xhBIAo\n",
       "LNlvLtMKpUmnp2XK77uaeVM0+Gif976ky0MXlEvovNFwt2U7aubALjcYlJ2Zl2t6/Gwnubnvht9z\n",
       "E4BukPafiahIAR6UxSNAyPyB13t51xkd1wLTil8Q6JIziAkPOdKoa9rILxFxZt5+Mf+zhDOyHrrs\n",
       "yJqh0hgfAfDG2sVvUAraYGsXhkfrOtiKlZyw+LmcTc1fjn1jkGLd/v6pw02/+wos7oCLQrNytAP2\n",
       "wMN51bDDmN8yiiNssnJQb5IaLk26gSgtGGg8lmY0lgNAYc4RaJan0GVKLm8wVMy7KzwP4h+Bc9z0\n",
       "unMAaag5gZGQ7xwzVCvRzkr3BCTX7lq9mzV/z+Eetc7zH8GzXKqkkqYMGEUG2EwZYryHSWnPBHM8\n",
       "aiDkbZMIlmChjCW7ZE3wUGKf8fVBGGZza2EAhmQrhkFxBGdcMLYkw9DA7ge2djZXg95MIHAMAKaP\n",
       "bhRgE/fBFzseZbzrDbRm4ClibIMaBy52nG5L5B7pzb9eJbMdshu1hRRIXaB55m1PlzBIERMgKxrj\n",
       "L5KMgMiFWLBr5Rvew/WAhd+9jpFMzHt2qZtLsicG5cCeA7cfthOJF59A6l2+6FMP9gWs/mVj8bs6\n",
       "I9/RsT6mmRn851Gk+tQpOtWzn90hMPipMQoh3SLM8b3nTPiXvEcuvCmi79TKzP0IO34zI3fz9d6H\n",
       "J7ZnwszaJmp6tBgjM+K9MgwL8rzVzKgYJjkayfX80YNmTftA0SnQDAeUk4x4HNHq7VJ9lviM/d+t\n",
       "3iyqZS7nLq7XDeKOMg7XR1LwUeKiB6v/OI/s3u9wc8x8i2N9vLE75tljLwisU045AywE1+KYWsIp\n",
       "QbCrwJtaDPKDyOVPan+5h5vhjicNsRjcdjaJu6MpON0YtEPTwn6EBagt5ufDZyW641cviUWgIHtZ\n",
       "UJo++6clzyeZ7me9+u4buZaV8z4lqsqAMJwmqXSUi1IZI38MKTjHnxPQBmD6M5rovI9U0I5gZEXh\n",
       "6zCGPuiuDZ50d+S7vkTtzBXasK9Xe0WJTUF9EpRDO46WDWFELQ0lXrex3emgtLgQVvYEmgmmGgqB\n",
       "2trBF6rXpLAM5jNBOpofIzmCNdpd0JcEYs/qA/TAKMB2G4qKTdMcspVAs9aMg09MhSAyydrT4aeN\n",
       "Ofz92k0BJaSUZTlFhW8PsuILxS8s01yPihuqvAjM14wU4Vtfqo67pJ0yzKp0o2giZ0BRRsUAkFWm\n",
       "U4VK5CA1mNm68juySQ6339V0UL5J/9gDyL6kD7teT/ScC587ebAhnfTG4FhTmk8xKxZx5A/v49RJ\n",
       "XBltJRwQp+YhzQYhz/c+eDGiRQRkDcshdgGGLgHKCj97KxP5KyB0inv5wT7fyd2tlLKSr5KbIVsc\n",
       "NX3ibQMpO0gwhO604RauxxWhdaLCPwSlzzxDrTu8SvCI1GZkHBXzXDUuZBKfdtiiThVwsihaQ0NQ\n",
       "SNFCV+YTQiWaT9kPwuUAAg8AAAS2AZ9yakK/AAJbr7HsG877RTszN+0j0tM7IA5Rb2JQVpljTA/X\n",
       "KIRPiW6lhKMe35upHWS3E6nIT+j3ppFud6/Orld57Efro0zNW9CKcQXqa6n//mcfEI6S338BBJU8\n",
       "5zRwfY9PkueTrCJUkdVDElwrelcGT4JwckdEVU1eS3c61l8U+sM8Q08oGsDOvAIOuZCBIBMbcgBI\n",
       "hbaSieF9Qgf61V99NTOG4xwNnC0/lyGAULTszdcX5tQ6EGWB8hKrdegQ4I7r9kABGrb0fs+LkqSV\n",
       "aW6uSI81FB/CVvN8oPL/Pycguqk6gFJm2BSao7+Ug0X0LQOBDdBtVX36jDHv+AW3HenQcSHw0GKj\n",
       "H3uusaxVT6roA/+sir1AaZej1y+apz59rl9ZzuoAj84sWWhzoFSsz97Ud1qGbunogYu6nmv/rbTT\n",
       "yfjCoQqIRzJZqURe5fntew7K7wLsNyPuTtkYyKrKLDnDtyujnGmQFMXpkWTx6RFLc15tjkxNp1Le\n",
       "wlaAXxn2pLonlh1jLpbTiTTceOyQQTSXN7GbT/wwipVDrAAD6AttYjGzjoCFI3cHxMtRYMALiyHo\n",
       "o/LGtSqprXFiHr/NBmjD0wV7BUO4qZj64GjTpFiLSWT2dLJl6hlsDPmRQlXsyN70ofVsPYFZvkyt\n",
       "47mhbHOaG0sk6Z0pHRUtn+VanrY8qMMBpMqgShj7a88gX+ztqpKGzJQckDGE6Vvyz/7DOk6HSRqo\n",
       "bKa7b4L4lN+449xfeSTf1l+w6wDO6Ky9+goIOAzeJ+nvwFbV2UGO1Ap9xCxUe1T1jR6y8RI07KM8\n",
       "eOHH8OYeWc5kwqnFgBIZcKpnfHSzk1WEjJFDw/p0TmaDA/aTrMjJXT4+eO5US0Z4M0isUZecng+V\n",
       "3Wrkz/r/m9DNEckfp0DwAAATmRs1qUseswCia1zHDhepPPFeASIKBWYbj8v3VIgdxFNrVRAXHy5s\n",
       "OmRmnChZWiAClzaDMg1hmgCOt+old37sKpEKG18Qp+mQDlphUbJhWGeuWTouKv4nFGxAYc9k0zlr\n",
       "TU7MBreKwPsmnIKM69QM6qrX333tJrkFr5VmFD2oG9AUo+AEAqNCbxDyhhmEMDLwWxtJY7h9GWiD\n",
       "1QYwV7y7n7IuV/42XVU5rFpgCh/UcAqT8jSP58P3yaAT8XEalBLibLS0SMy7Iqr0F/GmSwSd12A+\n",
       "9QzA7wHYUsk8GPOw4PKFQtsfKd/rQn8sh+2kClmaSkCw5fpWdF9X6RzD0tgdH8nsmrtbXHJ9BwON\n",
       "RzybohXdcQ4xmZlkGS0hAL9yW0Y3tOESC0OiV/5XuXrnThJeOEe3S8XKkHMjaWBEcwRuRg29QOZo\n",
       "TUZxYiBDV8hmQS8E2LS/m5dwYBh2pW/zIxpnu45XGWE6coKwxM6SgfHJyDWWtCJpQUiDOzv+lSFd\n",
       "MlzEAHRQvC8zEngWHzW1fEJNRJNuXmA5FT1X5gtqAxYNsosTPnglqYtjoxc05P32GMXwIcVOo8Fs\n",
       "i59lDAzgmvuVMqiO/gPgn8ZhAlwfDpgiQPFbpmbOLS7sxz1vvWtFubpEsUlejYxntOwYYRNQMBMu\n",
       "RvKMwFt2yWjfgpsTfSB3gA0fa0xR0OF+xhkxGAUMAAAKv0Gbd0moQWyZTAh3//6plgAAAwAV34Bs\n",
       "tPeP1uRsdJfQAGje3WY01pcx8q598nglCY/uW8nN66wMiILuP4YDvu28yoAV1XwFfMbSvrVvrzFx\n",
       "5hxN+plrFhmdsQnhfPqgPWCB6XfCKT3Z7mDZFL4yl+8g9v2EiDfw/qoDAivEYd/5EwGMDKw70nGt\n",
       "yf02EE7YgqVjyFb896NOQWc3JKC0LklYOyU+WCDHBQyNl5TuEL1Ao9+HJeicQZXIM8UBVpiYVltd\n",
       "OSXqPMFt5Z/OqkfO/DSSBXoR4X4ky56CxbclP8HcTOXXS/Y9X7k62TTN3IZy4JfhkAwvYGt+5Mov\n",
       "X7X7Ey3qKra19NLmqkU9AjdKpkwycfEGQBZlRPiLIuxtTVYuiKA6ZNdpd3V8vRcVrr5mabblWkhZ\n",
       "nyyaRZWJvQZ6COobs4X4nVjbCoDAlrGQRZE4gTcWpNLYTV/P0sjeTuISJNbq8SGPhKzb3pS9NdLM\n",
       "s5Ch/MedjLvRuGSwWjnEFR90cyrZkReQIsfa/2AbaHmnuyTZhtDos8nPgImSrkA8qT36ft1MJW3w\n",
       "e0xuAdvpNWmlCV1p0YsNEhV3Pyiqcp6/keKh8Y9rxcegFrZoXSKCx6qhkzYKAu6gX1YDkgC6Cb9Z\n",
       "UpS11tbLHt84MNYv352D9Vp0TEX0Dls9oo7TNQZPgRQLWHHBxdH8Xk5yXyJRtMChHK9gSK4Dh1/5\n",
       "z25Eqsj/mYnRxgrQoSQXCNRsTDTi7Dmfp7E4m4m2hiebrkaskM901rP3eg/mxHsS4aWB4xPwIwaR\n",
       "tny2CYEsOt+QNXUnKPQFKQC7QP2pCAUpW7LgdVBWCgLG9rZUS8H25deWBKplsbjbhaKISuezEWJi\n",
       "wYA5JBPq7TsJCBb4gaeJ7pLKjMrQ7cO8Hwj+b8U+sPhzKwlrDxR+SEyu//KBty0SWdQR+XwV6R9O\n",
       "LT2/vIgVrwb4v/g+dZcIhh6+eT7W9NmIRwl/J2rlhUhkoX6nVq6TXd69MrbkVo154dCkXXJrt3Mw\n",
       "wD9cHwd5p98vEkQcdiP746IH9oMBEy1ZGw2RmigzYN9w/SzmJc+5BI1njfrVG0NrOa2HbcJiZXoQ\n",
       "g/BavDcdmi74GoAwdxnAJBTgmeaJJ6auvQT08tkab73N4lzlnLz5JepEIgFN3RlXEoPscPE+0rVB\n",
       "vyN7svdcoLUO1iyUmHsl43NRrhbtGFhFJqt/ncBWt1uTaEAuOOV9fon3KxpW+jatz83HsEe5UPSv\n",
       "1ZKit24Gqy4UgOvLDopNKlDHSmGuR+F+1ROh4gvC9t5y5LlK6E//BdLrCycOPtE53BkUhKmfe3R4\n",
       "WmNELX6+S9DX3VKoCgphLYk27jBMTUw3obgi8DxtvfVwHw2uWeIqnyhgKk0eB5DiTB+wJtjp5yf1\n",
       "dm52xM8pKwotQuGNxtZMoTyZxWBsiqSJMN64USDSCsLXSs1X9bn8iYIExo1RiPPAVHW5Vqid0lZj\n",
       "1bgKP/aRM56yC/KQeSeZ/5R8GJljqKoqJH98/XjBPFlJDkrHbBM5hNiTypG/E2el6bNkGqYZmmgF\n",
       "MphcQf5e+ZQnOY8ulgl3Va+7XREOvSdxfxzKFRRFHxa92ECiIW9MpRii8t09+FP8NIX8S6bYjWSf\n",
       "SPPBSyseRd4lhxnE9+iSypACHfP6c/2d1P9fBelAVWfE+BBymddwvB00Z1SueoKGJBIz0B4jF7gC\n",
       "RhBGG+Biz4MgS7veq0nectVqE9L3xJ9LxnIeVEIVuGPQiv0HC1rcHxhNh3RLNq8cpScc5E4xOran\n",
       "REKX0tUfgM6uhvVlMSHGYeUkohEZ/9YGcD+hVuZgp/WK61WZYlLnYOSiyZOkBNyMBj8HDBE98WPr\n",
       "aECabpI/pUjX6lo/zj5Gt+m/Z04jTMsbOAEqn0pDjA8aNuyyl/ji8YDepYjSD2J/k9n0qSXBPMaS\n",
       "UDqxbN13OS3asyLc9eaLx36CssVNFDLrfy+tjPI9IBzFRDAhK1jJReIAK63dVJ/32z6YLzEX9DXd\n",
       "FK+6OxvvAwmmJNMFUNELF7fanVxX4n6x3odAwy22Y6o93LQrF6OclOANrnrtgaHQvrmlUMJ71GZl\n",
       "rgWtf+cn9W5q5hjCPTbnNDdRUlpDqku6CkDzk0NE3LtZVEI/CzVMpuS28VS7MSpRqOPGYmhdxz/Y\n",
       "vSkEq3ylJxBavXOZDiTSiMJDleYp+RqD5T4LP7QSY7c4YhtSwtGyBmmZgLcRGoMt2z+klxoa4cZK\n",
       "8C6r5tRWMRCyzH9+2+iFRXDraGPpn7NaG+chXXiPxjTxKW4XSmVb49hxcESWdx7UsHJVPTc30aak\n",
       "AMWFsDsujpZvim9ECh6qONhjZc7kOKqHOh6pfqtxknFjkDCsR8HrxR54/W2lXiKLzxqcirY8aZ1V\n",
       "5N323FJRVBfLFhqsmsz1B8PhfuMIiMa7u+2MxItXt0j0oEZn8DtN/E+HRS+xKmJ+NrIZ3P119NxU\n",
       "raS1FGZw0x9XwQqx3ktu4ze9GtZ3BNA2Z6+MPEzUatuv5Ol8phF8Lg1H53aRv+qViiky9RTSYY2V\n",
       "b20zpwkrEmZUO19krLGcL36kyrJrGZ2A3HDQQ+QVK9Lt/L7vh1hCYb0mufybIBaDrlvbmCgrRxa+\n",
       "uOKqKZFVSnIv9Wrfw13MJfRWN0Exv9QybB0voKhWkVDKDYVutfsii6iTr36pbAv7immpsSCXF0tR\n",
       "7Uhl2Cqrc7cMA5DkORYMI8N6vII4LuwRp3ikBx6w20eYz5JdKbr0+UVgbZJ6IRzGDu2nPoCbDfAp\n",
       "7sYlbKDje0tTSQa23swb6AiBNZbIaXW9z9yaNG9WJuOOn5xCmsOTebFjeqAhWNQaKvEw8iJwPPw7\n",
       "STRJdQLriEcS+XPlJyESbJOEbahQD7ud7ebVr5xy0/Nta5vfhk/gpstHE0f8DMi82jmcWjzhqG+V\n",
       "u5InX6lzxgLTp7+TeIWNah1WzwO9ouZeQ89cHTEMz1I22L42fABQLhK+UKVB8OHik+EtntfpiL56\n",
       "csOVHNdqPLU/YtJVfgh2Cqdi5VjT3ntzYOM564nD3lylz+TWV7YZECObsZ0hxHXNdBde1GOqKpGr\n",
       "M2vqSVSZHTUkNh40EQZ4p0RP7VH5LmW5Cxkd5AVUMM34FsvneQ/vgd4UuZdseT91oKz1uWWgJXmc\n",
       "dgqY+WJjc2BjDI/1mGiYs9ZlKeUHl4y+jvDT9vf+c1XvdB1IHhatPZZ9axp2E9J5JB+UpptRJbzG\n",
       "+X93uvs5yzV8M83q6IS2UTey2EC5SmrkSyg/ozq1qMRdGux3MjHq4TKZ1dGU4+wNypW2r0H+WHrw\n",
       "hIrbVrmGHZuLG5r9mFQNAZgdDU1oaTxJaseZjTp5veGBQK+vjzGb4qWPPRogJ+e0m872Budsxal6\n",
       "dmcPykXHnXOBfITkUMralVrB+GkvHgVnRXLRR2hAMlt+WKKe5asOC35JihxYkgcT4/hn3jsUBmB+\n",
       "W6ymN39ILA3edAJ0uyGFYOtKMbwsYCjmCmgtjCeqlVE0ZlleXEUUdE4rHdgaVwCmhHvJBx2jZrlX\n",
       "YyhjjDp4ILN3nAq6CrOP7OT1n42ljJ2JoWrImGQjGOE26C/Y/MT0+xJIZBj2U/89UB58vhgWMmuj\n",
       "X7Lq0w79ysSYAAPkO4r7eknB/KAhYTclMrIdlxSdGkzjBtw9AonLzrxMFCZLgYYB4QAABbpBn5VF\n",
       "FSwz/wABR6ah7fXG31QVIkNTW6XDz+RAAXPaDXmRYgVPvQv3kAB1DAFGIk0ZmZHtJPN4qZ+ltUxc\n",
       "6PEjDR88ZEUKYNTQRly4htm3lyEtiV6hBv8WFbvfea1gaupVxLesDSSTY1ks8rPiCGsisTebSfCY\n",
       "Vin1qt3LM+FBkqZTFZqbkSqEOuw4i6KXwLhUFENeSysvHY2Y9/RqoYmMvhdvDJhnmYiQnSyJiuq2\n",
       "OnYcuX4k4u0VQ3yfoLoTKpjxYLhCEVc7nM6bP0EYcbUBrP1eSsE2yX5QxvOIk+QD0YB0QzVCZemD\n",
       "rfAMezzH9iBKp6OoLl8MHBWx+iVxP/FEyrP1SSQgsS0uqz3zxFZFSRNP09nDCPEN2T+loDa1/IHV\n",
       "lkZBYZMBrInuhHR1Mn5j3pU0x8MOQvgANARQ0CGM1rJYPh4YyGRMuqioBAFLj3NxN39xVCqy0CKq\n",
       "wyGpuA6iDdseAL2HJkbSEr6sC6YF94qfJBOlPPkntuCcbW/XhX6B/jqGyiQaLI3rUYoYNZYh+QKm\n",
       "ujTze/kbT/UDJECxCiBV3CbOP6Fc7iML/UAyYezXAVU/QR6EwqfkYd4sdSo7KEk38nFvuhe175dM\n",
       "x0iyVN4fpNaAH78O6aW/5TeLUTyQV5YBJqiLqToNsBa2AVoVr48BifUmxSnaB1C/V7uA4ok5IoWt\n",
       "bWL9/alDXQmDWTHfOKZpefbNE0vH2aaPL7s22DeQY3zX5bWHrYnanb8JVHEUC6xvkmJ/qMo1F3Kd\n",
       "GrK3t+wOm922Z0WXw2cZDEW5fj7fjHB5YrA8BZ7iYrg2JQv7eXMxzhV5uX1Z5CaWvn3EHKV8PAgK\n",
       "MVfU9a6d5IumkatiNvR8VMhtwAXrNK8BOByYm7+jNuZ3OWlBNob1/jye7TLp1LXIghfXhUc74Qm2\n",
       "j6CA4WCWXmT4S+UtrKNMpX4XO8jWfRcXQG0AoMAGyrOsLtmfKHdcNjlyNYmZR01f0tulQIjeDf9C\n",
       "UtFNp3Bx2s3mtM2UMRvq2B+0hdkpRYy6outWLxprKO9mi0Kxxe59ywK/zSscXx2j8ESu+4JcS7dA\n",
       "kUx3tHstaTWi9iIs/LuPBZxQSVTAwuJpAPe+/d1j/2y3/QRGsvUjFBQ/s/rUA0/yhNg3HRRtXRdy\n",
       "gYfiD7EfOO6I/WYPfgN2pYHwds+UK3KTFCt32J4UBKtHIFnUFqIQcTKcHqH4mGw8hLQ5fT5SE+L0\n",
       "WIGiBwFQY/shDnFYrGHFB9S0J/v2z3ESQDpsGpYhYJPZlHhDeAmaE+cr/nxgQHEJTXKF/kZ6Gyrf\n",
       "81v4cTuSrCiFwF4Huk4p2geTqBh0muUWC9O5h8LF5QtHja7jwN8MDUvGVHyI97C/cvZzKkyitnqM\n",
       "ka3Agae5IyuFzkmEysRY1IsnXssORRgkqS17+QvHnmmfe+OqCKGRigRMhs9DLC5BDWuUX7qazagF\n",
       "q/XtwOrU2D3U+ovJ0Up5t+bVhMdPhwI/zfuv4iV+tGmPvZPVE4QEbDV3Xa2toYYRqzrMfjew49+m\n",
       "xW51q4hI43qDdLi6neBLsTtgbKYCS8rvrJo41istxqe6d+yVFWLXEq6Fwc0wawty2Pq9GutD52gt\n",
       "3cZ8ly4at0n4ru10h9i1zFLUzCaosUgy8/pRUEyUbGlf8vIuBUCRbBAgpZ9YZadnhMfWPoah3Nl7\n",
       "n1IHIM1uHF488tb/auox9jA6k6Pt1700U45d31UOad/s45w7AnZKcObN/Hm2qvGIE0dgCNBI7Luc\n",
       "UW4+fWl4W7dee+JZsroCtg8mLqLxY+eUIBOmyNMgzRPxFjkqG/kQpngOJFf1dcjODbTfI7Q/EWJT\n",
       "gSxrajcFLW0saJVJTxGYACZOSUOHd+wbQi8CCMcE/wp4d8mMYpCyWoeguD8/VpkvW9MT8rxP3RSu\n",
       "8G0+xTfz0mwiCqolhs+28kT9ON7sSmBYxWlWcampttGkSTkD5wAAA9wBn7R0Qr8AAlroKev0P30B\n",
       "8AHSu7or8cAKkgJ79pKy+HVWkuRSQZPx38jBQ48cTZn6/pSVQFkPvTu/NOOdQoOeFwFtvwi98sct\n",
       "TpWsh3I0drtt5Fft+C6M9Ui2KkowTRahq7ncfr2BGBZUeihu8PJuFJAC9XmdHfQq5qTDf+uYO2se\n",
       "pu6GKzltTZgXqtckGwi8UmRnoOZdyperBLRpOUQ47Ai/x4ZUHcfCgwEskROIBoh9dB6HQ+IS5zvG\n",
       "3pC1ftgqVeDbJ89cdcxOHLyE8Gt4UVLySa1lfh0GYXe9t77eVLccniSxeeJsyWU8aDMj3Am7keD0\n",
       "rlkvfQjMpOefGE1b9a9zRh5/LP2I3puefUTLknobVpDkA1ttXXv2Ei+nDtce0KIGuN5TjGk6QHuq\n",
       "2dcJWQRtpHr9NZZz169OqzTK7zZuTEy2Z8D2w0qI3nQtpmZBEWmy/7yg3cYERrDdMsTOUED56i7p\n",
       "iNNewy1IvJ3ogA530+fbLwrV2c4OZg52qsjbs4uzJKWOjlzseR8cemG0JmNbTybIsEpwJzQtkcO6\n",
       "6fmdQFsl73aIf4g+tCj3fa9vH2IIPSfTLr1Ep3SvxTflDKxf+AtFy9l/A6G5fRMsvIe/Nvcd+T+d\n",
       "YLqQV/Qotur345Jkpgbi3tyRwG6m0H/jB8IgN+F/zpiHMq4QNqXNvuEd9vM/8y1IRpyd7rUn1qPr\n",
       "WweXBWOMf8LKsVyUBcmZi0DAcNdJeQIcEt0vTjxoEptcxH5Wv1vHPb2lCfrszAIc8BDPkD4hxEHQ\n",
       "T0MoDIAkO7gARuOoQrxKiIX4JCSgatd2ub4JBxjmNGDOZCbLMUEexrXnb3txJ83cOJzbe4eq2gtA\n",
       "jvo+N21Mu9TubJiON2iFq73NaMJEuxubCGNP5VKYROrCK189TegUMcAqx+c7lPmAnhJhOfwRFD5B\n",
       "4DwkDwlq7JEQt4JX2S9R+Kg4Q3MbO5pN1roZ4OfFEzR/COiAYTYoNdbpo4bzL70JmPhOb7omiWL4\n",
       "ZowLoL0m0dbkslJmOBxShxILMzBYbquTeRKb9HpLmvxuljig+bugPXdgulyVEgHpCihlJDpmkPP6\n",
       "ruR/sxA6ox6xgIoTvpTqfE/XtZH71io+XaVZiyD0Mj1hKHOJ9TbQ+C6kmuqr2V2vxKYwKEITB4JR\n",
       "1JSC6tRKZnHX69qNvIQWGr7j9y5oSIFTaKRfqS9dbvwQwDsSVkaORWas6NS7KOGSOha8kIR9tmuo\n",
       "WAGDrM0dmRbLwD3ebPZ3CdHDB49B9rF6W57Z1yd+hwPp8G0ykI1Pk1b8tFodiUVIM1Nb+LShQDg1\n",
       "QBaQAAAFMwGftmpCvwACW6+x7BvO+0EAYkd/WXmCOfNc+YXKEEcu/AFqh35vAEYH234AbZf6cqSB\n",
       "R5PP5XbvqqXvLJ629DaPBq3AQGGQw1D1+cjSerJ2J7IZKVqZznRp2qV2kcmqfQ9H5wJ4LuktHWmS\n",
       "aCE6Bqrf50cC4Vf7fjQGd3fYXxgzYeoqpTdGTYRKblUGjeoXf6unLUWRnNiT3PwQLkz6FskLeiPs\n",
       "2A1uxrXGHEEsTaOHSRIe2139Zl4ITs7nwreeNPjivpP2anjq5LHy1D+NXKaTILAtDQgj1KbzfDzN\n",
       "eeQcz7+6I3bnng/AVRuq4BreUpWdUEtBf7LP0xpOF9KC9jYd8hqBS8WekQwNAH1JjjID/YGveBtt\n",
       "uWpcopZJ+1/vdP7OJxtWZpEVFLVIRU9mm7fDRpnAc4wEGs9jJs2SZISJz97Vr/AGtNmJYGgJIhKI\n",
       "chCRMzJqtj49bxhbmhNjcTRjKdnJyMdVXjtFdYAJe1Z2Q/xLqR2QT6XrG9OQJwwETKq+wyfb1PsX\n",
       "+vhTog5FBgT4i0q8ITV9we5hzNPCXliyO4uQPekGGEM9zuEdNwoibInkWoICaGsuBhtYH32heuLH\n",
       "lX9f3Ii0LVXOxswCn8762OC6ChmK+hh9cw6wRN5LsPQpHf0YmoQaoJXIryMVqABQcdogi0q7JKoY\n",
       "Zrl8PLor3fM41zZYr76/ntqeEi+qQWJwEIsGSU9UXnq5m8Yz8ImP3XSxujHDxG9XXXmuP/OB30wo\n",
       "vzMaQ6c5DigArvRn8p0yC0HFeGdkajT2GCvqHpJdTnVEMconhTHscoVi4whRLKLDC53iNFDo2Jvc\n",
       "Fm8/SeHar1Yhy7hR+4QBV0p0qS1S+uICbiSXbRLxyurYUOzhHEk6OH+cIkQA4xQuLucGrtNU5+gs\n",
       "q19vYkMcgpoFjY613MQ3QUScKRnv5TY6WXeKag9K8qi8vaTBf157bvyRhbD9WwutYDOQLrgU6n2Y\n",
       "YQR8Al8hf9aupCjJGIXK0lOKZtTWjo7rW9bcT9OL0Iv37j6Ww2WLOC0Rt34IAcYzCrw19KOWsjLx\n",
       "EVHHiHa3gs3JZGwx3+MgEsNdnwkYm6CRyghAtlOTAu4T7PcHFmGd9tmVMB4lGnU9Qm9B0uaGOD6N\n",
       "vkYFCDoBnbH9gcD3VH/vHMIyqU/MZtPnp4bl9E3ZkiJoGR+x+OqllDJkWZXuG6ErYPzL5YXyQY4o\n",
       "iInUXd0RnpZtSTZajJjZN+HJ7O0xs1i9F/ZmNCzZIlGZRvOupzNDCRIs8yUbATR3SxcBO2WTNGth\n",
       "yceMdn2k+X8nJtqFE4L91VVYgKSOjRBuKwaByNINhO0WQG2WtOmW/ytf5nUy9Tm2SAb7vcv4aEi8\n",
       "xqO1dV5kzNA5C7WpRPoaktcpXCVrtRG3l2vwigjL5EvFJqZZK7huhX/XN1w6za0MJZj+VGC8Atbl\n",
       "HNBMkrWz7vhVsQwOWfTNNe5Th+CTTJet3d96hx3xzN5HRg/PCQTe0w1tuRcN3oeq24T+O0z4dAI+\n",
       "vOxAG0ZJrr5IB7M+Jz6ndRq+qySTq/iFMIsIoSMxqCNgNGQHWv7LTzPxFN65wqSgnzNCZpJhLvqn\n",
       "a0RNYHUXkOupz2HiBm7gElL8WEnUQAK91HqSpeppmSUewOsWQ3xuTfylCpHhywI+bDuUuMe3n/Nj\n",
       "UY2e6BAxESL7M6HKv7KITRKlRIlkSbiLizzW+WW50YS/BGBpjS3J3MdFe2VKmdvd0M3l7MY9Mczm\n",
       "uKtdkY0dz2lSVFpOsA5vNSeST13CmokpkAObAAANW0GbuEmoQWyZTAh///6plgAAAwBQuFvwTt8A\n",
       "HG+PUrCqdsDE4E5eKQdfdwwr37I1YkSxCSldP4AQDZD3E3ze11GaMOnLRjdCTwALxSx151RGlSbf\n",
       "NM7K4slvWArarND/twRAsEW5VpKKySUu8bPJX4sfYg2zv1P51foiALUghhkBhgcnlR19nQ408Xf9\n",
       "b5VUvS2lPsuDlYrVw4L6YNwMomoYuqnyL39jHFcunYuGZRHCvKfxPvQ5hkIa9fH0G8kOVRCgwZ85\n",
       "SseIGaAoisb8yT3BMObjrg7fspZ+Ss02fVGMzFKVq1fjldUGhB/Kkj+npkbWleKXDBPA1LB3IchN\n",
       "XNxWZaG7GBrX3pX6vYhkl+5h7Y1/6G0LFcMk1SobToMhVUmLztS1XT2SECXW9m86VyypNuuo9A1i\n",
       "zFG7GPGo5N0L91TSZ2EiolhBNeQZuww0WMJifKoSB8TXyIovdjfKFWDnTUHdCd2bIkmzqynNh4hP\n",
       "WeQerMGoj+UpzyCAkkkeMH1CuKjevapnHDknVBLSvTjQ/x6kevqSzXFGrzonN0m3tsq1PkLtIAwg\n",
       "3NtFNcqjmZKo6rnDMqFYXg1PfA82q6PkcCLAARiEHXlWgaF7RPNPnaJRWddmJynJULjqEvlEmRV3\n",
       "jkg2Kxms+NPKHfeUQbcDIheuw4oHobyJwZKF3LSl3DnSeNQWxAJa9Shquk1NdB9wYgNO+UJzW4B8\n",
       "//dPrJcw0ne5QJTB/HpjpeBXmRb+ih1PNjI2BfwNDvAOqBafD3kzIHQsagRTzsdjBfVX0NP2VD1f\n",
       "vOFOEUHMziuvy2Jq5NExQug90ZFp6vrOfDZjDyjsurmJWI5YsDo5X7ab3WlO/VyxSV+S+Q5WZkla\n",
       "aUB/eUpGPgGc1tqVMldjrk/cvvCTRU4TKor47aZKrQ6LglqUKdS3n35KzR/8/UvCrWMd4vGGFbQQ\n",
       "br921Q7tLAzHHrewZPCgkwAVbEqIwsXG9paXqd3q+NcHql8Iq9uWtvIrRst92cAVTh/KkGtu9t1o\n",
       "gK9P/grLJ6iHzfpS8S7/0mRNJYrb+gwyU3kh/0LZe+cQlUIdPvo0ptiT5qBrGEdwRTi46/n+vHe0\n",
       "UmUO/7eOt1rhJz05M60EZofh08WLnU4pC1b4APwvei09iMC/q5EqZ0kpMSoZr1IaAFXYOc2JE6ti\n",
       "TGAZg8MiO2NACFyiKcfX6bEg0tqp9JbwA34MNRSf1MXe2VYKBu7Y1NayhRAbsUPB/KzJChwF0qfR\n",
       "slGslj+lXKaPsr850Q36n9p7DESOJZTFRQ9pd6yz4oKAidNc/gfT6P99LtsG+KhbqIv5hUQyMcI+\n",
       "hFIkh/hS/FsxqsmCRPjCDapAfXi7NQ3/PRgfjqw7k44+ywUzgpAnZkE4hS2TkYo0P5/xOLntSded\n",
       "D5CUe7HHv1a2v/jOxHbCf3D63uNE8urlcM3DbVS1O9SqKQQO/OXHA9h4TwsZvFT1LH9OkCVVq1Ht\n",
       "VdVDKSTrSs0RNiCzW91Rv0p8fiLUpCqAIo84cDzUkkfJrmpXLAlgNWk4A6QwQvg3rf6kuXkxPTfS\n",
       "EVoTfKFGoQKtNTlQi23KT7Cx2O6DmSYvBUBfQnEWX9rS1rP3RLcYEaYobjPODUlAd8Yeq6/PMgY+\n",
       "/9xT1D22dnYOIN/ED57S8QQ08zj9KFlI+/u6TvKykb4ygaGz3QuHA6vBxunakxa7g/6E0bTtl62N\n",
       "Dc4oVazWxj1Mza6GiPlr8Hj478gMDtq3xeY9z1fXwNHKSaQ+m1NuPRb6KzY9wkcYScYGd2M59RpQ\n",
       "kolMrP/LlnRam+C7TlKG8lvaXOMk/TdFAlfHl7Ad3lgEldHJ5C9y9zwkw/yUAYLpNePvXhQWxuHP\n",
       "FPl3+/A5EFG/7dQ0K4uR/tci1tuieQdA3WCPFO/Dy/u7YvilAyTRbfHPQXWIWISszTwsoEZ/vAxo\n",
       "CGN65B5E1PZOYYfnjR5EVxcDGaWKAucZ0u/zD34iPpXDoQumtDAusg37f1/yKfWSe70fccdz3upw\n",
       "WGLL0fgO9IOHiUQK3OMB8ES773iX+DT0RKRCo1+eEyyfdbAZ+QmP55u8I7LdFrpVJiRkeZWUFKQG\n",
       "kl8oNB/fYLhkLHvToPnYIPSLDqQo63iEW5WAL38gUXIEafh3IILiLWTTLxE/aX+YF1UsLTtDnGsR\n",
       "9pVLt4z582pmo3IrJlQDvVj5AS4odMVfFsiNr7qgsMmio/bpxk8m/BZo75CJw0TWSLQz5dXdbCGu\n",
       "tcFRD6+mR/5+sjxNSNwksgzyY08VEnlW/vbfAViTTpssoKIW1BbeZ7Zt9JKfScEZxPxXSuFqyXHU\n",
       "FSd8xzlw8IIxwPNHuIrSeaos82d5ft0Hzh3cz7V5Ow5FTzVk26LrSiEBwxKfhJ6y1px24K4FFUIb\n",
       "PzR39rcwUcIL0wIsw2qhTUk+bXMG10zrQ58Sgp6HZpgpG5/kQy+NzEuUwZ0/opnx0SQkwfwDdaif\n",
       "IVVlVzpEcZTeKOPGOg4A5g/W+MZ4isU9rb/9TlEoh1UguvfYcGKujRhn7cKzHtddHbfEGWL1YHNe\n",
       "Mdb0mjEwvRsATG3fX/B+/OWjjZzKIxxEzyKje1/wik+Fbg3XzzKukO2puId39PuH3AaHGhtr1f0f\n",
       "5TsDk49oX/j/YMZFVrcGTCen0BkBG56KlYnpJZWYkLbFB+di30gMpJ0sbAWohQskt0+7QXDLOFxb\n",
       "SAhNmYYTFyK6DXKP8dVYalP6TFNoZ9NKL83hEWXzOlaB9SdJv4PbQya1FjM1yZ0DSBhp1SV7kHCD\n",
       "2rcLmmZJuxC1t5QZjffSDJU36P/BK3ZYUyR7IMxW4wJ2PdN573g2PfkbpAc7vIthW7Eo1txtCYJ3\n",
       "uEGXaozwHW+5pyuxdp/Be2nSja7E7ywJ27mGWDN5pwjWTT8MclycXx+dOGWKnT1Yt/iN9jtOosiP\n",
       "6hqd9jPi8NwvZeXf+UjOg0yDuOpaqD0DYdnStgui6WAw9m+5TRrC0SguhImcvceCGQe8QDL5GLw6\n",
       "KKpVEntiAOQTzNG6TOwjdw0swU1hQ/lH0JYM19ZP/NeQUqJAzPYlblILOmyLyAbRNKSPjFG6Q5p8\n",
       "hbKK8sl/A5LZrhKV7jd4VIFJPqbv4X/WKY8hu0G5CLumrq6m7Rq7tGyTpHZ4OcCgbYUZ3W8BrMxi\n",
       "dnp7ysYx7Tk+1zqd7DlTJ7N7K7vyN3lRJE258i8DyJBopNywZVAZhwlytJeJnZD5owNu8WUaAtMn\n",
       "g9p8f7Aozu9y0xoI0mr5HGnEys1d1T9ENRi2A3znJ1/LJBbAm/4DpZxd82CSF4FeDBZrQd2vLzVL\n",
       "1Kk8tb2kkmhkMP74VohmetZMBEYU1LxMumPUiuFlZdBrqEzYcnBqfYosqv91QHUViw9/vjraqmWY\n",
       "OeobtrWOcf6FipCbw7jj31D3vWjxMZFjhM0KCTg11e4gRpr6RM4rce9JxvVJiEbxmb5V2KV8VzE8\n",
       "xRAF2qVoT7E37LNM/TIQawI4HkzmcT+EL665XSwODoJC7dDid38f1CAhogqjAsq+0m4HQVO8Xm5T\n",
       "Pn/nOAb9M8e0Y4Y8ho+R+E3PN+Hi/MnUbRIDmjL+kAYhkcec1oRuFnosFjeCoIwxjCTl+BbFoCx/\n",
       "tKJgptxuI8RnCjG4ZWp+3+Gj3HRyaI0swPxSzj8/Pp0a0o9WCLOSX5uPy890FESXFyAfQ6v5i3bb\n",
       "Pe+3QbXkFjGV7AGL7PWpgJ5Os9R32uQ7ev8RjeK2KxhLHZ/1akA7QO5UGqVYKskSsWfZzoGtWN8e\n",
       "+7IvD/f05gOB4qwQiGl/HfY/SSs2uaEBM6Ip3/PDKR4mfPXYxjvIr+Ec7vZ1tg6Ctv9I5UECr4NV\n",
       "MGJ8A0FHBc5Z5z6MtX60SGlri2dPlCTpDS47mZJHDo/DEqUbV/Ht8eP2Rqt/xQ9foxskGgjZsu/i\n",
       "RBCmnqlAEJUDlkHxPflYFgO8I40fRUhtjFBDr0CY33q2wEE84XMZscmPlU/j6jIpEahNZZSSwc1B\n",
       "kJG8KKD85Un7/kbqRomc0F64fw8zjovf19e2g2H9rWKIAqQ9lJZTUDjfTLj759/7sL8GN/G3DEmt\n",
       "w8nFBK7AOqWuAth/8YBeconRUOmAJOK+olHEaxvUk2GjdWbW+l/gF+ecj+h3DdyZJLxgUG4sfO3V\n",
       "+Ft3CLqsfBiqB5l/+nzjMf3Xaiz1WvSMSQ9UBzSzbOBfhHzfzDM5ZFsoJqaeqRjBPZjTN1XgV28N\n",
       "qG7oGNq6AKtNGUuF0dj++HybO40flqDEfkVNEsFw6pUOHQvKgBMk+paEgrtvL2E2Cu1MRg7sHFUL\n",
       "f2VZ4i6/0bBpXbUKx4PLraGJygWnjo+byTglZRb9BJslIfmuFxtnut4pyVRbJmpLjAYkT4rTqV3/\n",
       "VWrPzV/6yPvALS76g8uOZzZ8C69mosNxvKZLn2sxi68s6Ngp6XFV7Ra+FBqQBoWyR8RkpE4PYwHj\n",
       "rEHqSsIfzkl2rmYUHobnUcxvI/iBn3xf7nJ+zEF9+MecUeH5Qs09VUF+5kYUEOu0NHMFfu8nWjeS\n",
       "HSVjlcmbF/yhDEVov2M9EzdFd64VagPRTND48AHLAAALG0Gb3EnhClJlMCH//qmWAAADAFJ44Fjr\n",
       "wAbSgb8i9lUIUX7Am2aJOQQ6RYXZsmFtWtDWpPFzpYCyKkMe0H4ncalSu4yZhpyEuVXZNkQaIomk\n",
       "r/xPpeRsUju5f1k3KgUs39qY9O6o1yOP563rLjV1Wwo83t72m78FEAPdDeWdk9dKgbwwMm4Jfcrq\n",
       "8QXiXVWTn0ClrRtEnda7yMI/oT8gBJRb7sqDYo9mzslXntRm1qStC5A/Id90jEnWdtzGJzIp/5Ot\n",
       "FVuF0NFUgKDlth+EFGbFqxKAZd/GRXOmz1DxpgNiP6auNWj35DmpVSCmd6eIvXjpJn4hATVn8gJR\n",
       "o86nFzKyZhUyP1QoR4kyxHPuBi8PizXAPNBZPMR4q25Cbq1BDODQ+uj3dMBeef3gtlrnSAYSnQ8/\n",
       "dMfupcH3/QEq5M60nC0mewAz1MowGHUkq82NvPdjxQ3rIl95fTtzZKve9bnM/0xrchYs2WEmHzEx\n",
       "TC5z6AHnjg78c+qm9Xwe6c9H/oeyuo/GjIAemvgjb+kzstvRoEp5Wq7d+mW5+18NVgX+v54+NTjI\n",
       "qkY6uw5NtiNi3mE4yekK+CwCBtP3WNJ3KpStHxladMGYZYAMQxJD98lr1XVQ1xXoyvzMhqNyPrL6\n",
       "GcD9xmeaHOZeeW8cO14tAbYwAaL1KuRDXfohisNBvkmgBFD7C37eN3WoxPrRxbvHW71EgMUjY1WK\n",
       "4XvUFu3xw7txMhniU4w7KqJXd2HaURCWwOodvLUCXwKgNLmuQdtPlF7YZLLu+7Y3HAYTVSTJFvbw\n",
       "oTW9aK6xvsxRwY2NKfNDm/jz/6fmKhScRVKo0iB2s4uYC8ze6VCN0VbGvu+rtBTX6KggX1hx0Wpt\n",
       "+lCMG1Tp2fNJJHR3X8QrisfUeRSvmwStxzwVQ5tvr1473WLINvND4mmEr8h8Ekkvh96U/Nh8r+C1\n",
       "jHFf/u9OOlcH3KLHEpMv1Oc7qgsFD7fTqLrsyqDMH5CBMLzyf0feuT1y4UKy2/KEqlwhn7hO5YY0\n",
       "By9scoqz6S/VRwg/h2jKst7tAXYK+dP8OXCk5tvBD9sVmrv4cKQOgwmvqU7k/MpTqU3hZpJOJK/S\n",
       "BNi8jgqkuEdBZ6vxMse5KYyNJRGnIZnLjVDVXYsEW7YK2qbK7azqi60iXTTJ+mA3Js2xH5hM75zx\n",
       "w21YfSJzzJq25oHcI7+EkNOY5ErjbsetZ1jZdYJ5rSc+8DxZJC5jAiY3a7TxYB6BvnBhkUv6Hyr5\n",
       "UgdzuTwBkdikFgjWQldsxo71DH30V7Iw+2YTWHI/196IzPy4m3R5XrzjMddiBueAJ5wQfbH5odX9\n",
       "o8nJl1XMxuuPOCHp5BeEIZVy4+9pSWB8O/lOaijugGREiL5ekMIBEOn4lVegJqeVWtiBFgaanrgu\n",
       "AZFVGagZqDR0kIgKfUxdCO8JdrqqhMjiCS1/oXGoYDozp4L+9T+E39AAAAMAlCgNLvcrYLz3WDUz\n",
       "+W5WfA9ItTcht3WQSnKBxNftyvOBqwWAlFLw1HS0SHPtmbmTmBJyyWjkz/ED+Scgr87+bhBU0X+T\n",
       "iROw28RtngJFKcOTf+ckr/n/FW/uiZOXzOngq0Gt+ympFZOhIzbExIgNnUXYaXLVCHioOj7Dh6uT\n",
       "QiXJ3imsSQVrumsXSIjY1aGHhV2BiaHFwEN5WW+wzncEAiBNoy7dz7Z63oXdKkmtN/aDUFROCMG2\n",
       "o7IHcVYB9W5+Du6GWyOf+fS4I6CtZAbv9cYjDAabewNugbrtA/YlXNbF6MUeiVgYmwaEQh0x53MM\n",
       "JGt4MLnS+W7R5mhipuyIRqUKpSbOdFAxHrmIImrMoPPwB/zhAAGV19N9qzNxLpiKuIBSuvsI9KiZ\n",
       "WGrCcCfHMp/OP0wqRt/Dsb9qRKKhelGCRPH5polWZKvCNdmNvcLglttB6tzIBZqtzHKYfm761bq2\n",
       "+U0OaPtbY3rWxnSIgbl4Pg3XOT8NLPZ8wL85H7JQt6Cmt/cPYIUy9SIsEeGm2m0CC+mVunuyS9Sj\n",
       "jilt0og+AtcBSOVBZQn3Vp6azmrJsw0HofSxFaGbV4sSx5A9zsWV4k0VnM1AbJDANmxuZxn1XztP\n",
       "LHyBsdBecM4QPNZCuhf09XeyqYUnMDoPc+JINrBM0bZA14T2faH/oB2N7/7mroa79/6Irb0T1dJs\n",
       "Sw7nxT1VBATkWflM347QgMwAIPrHo6rFxj4go8GXUcE7JOa2+GsB5+3BDIxgdKn5WVpERjkLIgK8\n",
       "Ddt4bdJ8P7V6FfnOX5orkkfHLPP4ANEGR639faYPRBybKkf1APl+Uyhq4Ix7IDnN1lkdnKaCJ/bI\n",
       "foq/N9+RJSMV11gsYZZY79nzyVYbg91O4kol18umzbh03uBXWMRS8Lb8bTchPi3FgdaljyK4GLM0\n",
       "/ljPgh6YJccp04D6FkNAn5garYOp9hu2xyVFFhb9qD/U4nVnxgGCPbKgXjayhJ5iZjRA6ObYff8e\n",
       "tOInFmAMJkei8znAf053iJrN9XThhRM/wozPcH3twf9f1dKjluQLIJZktarrQYzx1XQzmQGqYw17\n",
       "tipxD5Mv3PezO9AF+XK5sQbgUF0brOu3yApTj3yClwqEmzv+2uT8+SgdkWlpNiSyzSsDd2dTaMrv\n",
       "0yhmlOdmOClcprjGzrnw5NXevOrlCQeiAZ5SI6NeILjrRyArlDBVnjZb5Ezci7zoda7amrMhVZSQ\n",
       "e3nYb68FyW3DdtKYFPor0zd4MK7n/jbqQCwoa9Lkejtpn/IOTSbcqmQDaC53c5t3jCMNv687EoGj\n",
       "2xUaaAO0Lh0neefpkwAc1yki2+nwj7L54yzQg0CYn95Hm6M+6zFQlU//4DP1wi+jmOe4rtJMw91Y\n",
       "UbZEy5ub7z008FfPx+TaI5lQKNmm5vcIzxrn6mZAAQElmAos3CMQnDPFzNx4eR2tuZO+G57HjqDu\n",
       "Ckoie0bm6cnLhAQgCriXMTVefXwMC2t8ByeOLDIdfdHW+WF4v2laNpxxuGV3qgGFBfNhmmaRnvGJ\n",
       "K1vSAFEF1YfV/CbR3pjCrhnxbtsSzZuM2QINvnQbFmRjawV79y0KJW1YKi3uOGHbg+9vOfmRUEaQ\n",
       "Zcm2ZUjqs6p/3Ju8nsWYZOTkzfAce36HoeyOzgXpJ029EPw0ScPJExX7VdYglEtDU0X8bhk7waFX\n",
       "k46lyQDGg5sc8sN085uqjSLmz96LAmMPgt0WOFm6Z33a7FZgsoVh5CkdnhmJa8bGh9ILNqI6mPeM\n",
       "vj1E/6gwB2XzcbCo7xVdfz/TFcCK0C6RaPIKBKTTkNlkBuAS9kVm7G9c7iDeOstqCC1owoBlggzD\n",
       "V5Ksax3B8nZ5LUEWOpbpjJgBok98wuB19/cWamOtuqf4VlTa/dJmjLgrsOTWkl7mZUODd2YmqLsD\n",
       "BMtZoExHL+CORjqSz90nMwgQWHon7CkSEc0lc0rNA2pQGNWmlY1caTixunKaWvFdsikgU0PsPDMY\n",
       "JBax9pg9FfAiNOPxlb/5mdzQ9IkNquDV6pseXJnJW+U1dvfktW5C2dHkLTPizbyjMzzA34sQrAc/\n",
       "aVLHpkZuD7/NQMcl1HlFwMYHvzIEmXsJ5O76usbx1QAv4+1xztf+Y1QnErJ+Hwmrwkbxdq3xTdex\n",
       "rMtthQJPVA1Gg844tFaVD/3S1CnaF+Umz/UANEi/+SxV3H62qMgo/qgekHpPl6cO0M/fTybkhizz\n",
       "v2rYCLnxaOLffb9WPtSrqcnbk/M9/qsLY89ry4D3h4rcd4okP9bp/mdAp2vVTeGKWGq7kFxi8r8G\n",
       "ohwjy+QswVI2DZ0QRTZ5v7Ec2UvUo38GgArYAAAHykGf+kU0TDP/AAFHlbKb0nZu8qYvRztG5ZZz\n",
       "uAFufop3fvNXG4jRJYYCPyhIv2M/CRMJukA6DaNd6ey+NR9dQYIDzSkmqZOaO1hAaN6O8W+u3T3L\n",
       "VeRIc6XvAGHFerfXzeTS1w9EBg519xeKvgqyp2SV7mXXXwRzfEJB6qNdBkt+UD3yQTDJwaveytlV\n",
       "fbA/x0+/suP2ZcI1A+bOQD6Jl+8Zq4hZFwQwaHYPsn3IDNgf7PDinKn4R0Xx0aI2G8KSu1/bQgGl\n",
       "c2HofTBoRXpOAhiA/0TFNbVgr2t81YoqcsT1ydCGYdpqYfQqyY4XMYABp692k/BfU84idvOWnNJj\n",
       "CityYqJx6jQb12QSes7oveqhJcXh5zlvSuNYYPvdVXiYJkSW/TFUPY1F2S2eemGvVUK9iX6GnVMq\n",
       "R4buBrHLV1aXzV9n93m+VoUn73V6HyjXvr73+k8qfIgvFL9IRKftjsNeOSwib7kBNRmoWvxbvMyT\n",
       "fKclA71kZ2/Sw4kI5EMtTc+JHDC+lER1UqF7ogNAu/3ZrBDB8djroUM0dxcoVy2mrbPA3hVHCNP1\n",
       "GJlHOJvTjsIveFR1KeWoxNP+ovXxJDCzO1cWSz1hIqyWKqUWrT1+CN/4xUL0WsvxfEo9bFQGytEx\n",
       "6ZlLcOj5czY74ILGnetdpaIVl60bJja78f8yFH8FEtOgVDgs/3yic3gLlWZwuC/o2sWYMGL8B8eG\n",
       "EXH1tJgY5T71/5fiwR/Sl79IdW0KbbRPYjmeFO17ej+DfVjq9Tqs3TChlWq2y+MNwP/BM5vYcJ+E\n",
       "rSM196VEMjZKq/fZFGO9dirbsPbWOrQ85j7lcCMLNMcqYKC72VUjToR7GjPyRk7MyspWoqrEIzQJ\n",
       "kqnaNk8XxfsHPtfKUXKVahKzbrSUBakAL9EFkt8oxE856c+qFnbI90S3YrkpsWLpH2v3gl/M+BNx\n",
       "gokd6vBWovEpGzv8BHC+kv+/anHRDfzZu2t/2URuxuHdgk2kUhCKxO6AIkj13A3DbffRgyOotUcl\n",
       "DStPlRUZX0T+z9CJ9J8yTVTZqHTQmGwoGDp/qhi52YnjikWzQZ1pCnCW9nBZtjJ1ZVSkiSxSnkkO\n",
       "kQKBZ6cBH8t7HQzUqfFzRulVUOzkUx9Xj3tVTAjIgUAkjO9kZgFC+xuoo0JIE+mbOkgdOxplNfNa\n",
       "RivSJLNvmUJolmPcZLmAnlfV4NGS/EjHt/JHY4JqfME/i1f/Vc9qUniTXfDU4XOiHx+BXkUYURkD\n",
       "0J7j6tHhZglPsbEMx0JIA2elvF6qeGbSRKPG2mxK6IkU+93TykVFx+Yjr1/nDHtkazt8h6hizjmg\n",
       "D742yhRGmBoWS5fYRXV4R9lBOoAc0dIK1miNnLWSlF1abFxEqTPiNLKjwhYjgIyN8tFyoaSIpmWD\n",
       "WlP0j+JraCO0UcoVtt2Ew+vZ84zo9dkJpHjDaidEP6Ux2bsE6BHDNdYv5qeoWD+6aVNMXsElh5uK\n",
       "sJjUJYeFRcRJAkKIOO77/V44cOqOk46nu0/y5EfHFki1z8hmmOM532IOlBDhp31HxdiDLzbMeVZZ\n",
       "RGoOZdpXzHxJGd6nXmUN+DIHWwzjfauZLM4ATKU8ZKUaeeIn5N5r9SCYl4PoD0/3mrL966LSoGAN\n",
       "BUL41xuqrQsawES8vdA7Jdu1CHN5jqpudo6f4ZUyOhRBooQemXCpJ4A33teBPbZAxCqHSaPoKc34\n",
       "E/SDOL1Cr0jIwQSinV6+NxtPlRrSuzBbLsdfL+P39uY84eK5wRTHzMOXSZL/b6Wxlh0CXRmNpvsS\n",
       "Waab8qAoEJ/drXtykUh+FkefiCqp8HFVA5Jjxpa49u+JtrfQx6N1iL2+0L62SboMztLuKkwE1kR0\n",
       "29iaTKBrvHUT18qGVKDnuw4YXKFTAhwmOYcP1+ga633rPrKBZL17AM2RypfHYLKGV8qvNNxKCtl9\n",
       "qe1lTQ1PcIQcTDHzpuc/N2DBqISinXUDJ5FLwdS4Arpxcn+/l4p2eEQ32MNIXuHQfYMg0vr+ul8A\n",
       "/vrDB0lOQOglibbQYg/a1V7aK1/6Qb9T2piMcrAH4xuBxFIu3lgk1zjqt24o1nsZBzZnFVA3glCP\n",
       "irVqrZ+epLFEqzm4jTbv1vK4/jMT+KyZCpn42op5THJf+jRPFPSbhPtZdcRgXawFVbjQRyUFtnT+\n",
       "+MQX7p7UEw3Nx26usRKWfVsGP5I1Kh/p9rSI10mwW+1zEGz7COuS7iEyQ//PjXufjZYPMj4CGzj0\n",
       "paXvrRSAgFXUhlUjutq+shHnXislOvF4gyXzQuLrTHX7YloqVLTXGrid8NDj8wEOBWFD9/dTSr/k\n",
       "sQOKNLCIHkZcOUO05BVrF1aPSLbpHnBMhu/t+8BZm6YAsZBL7EK77s+D2SbFo0oRs9cR5vfDtfEu\n",
       "7RoE5k/J8IfB7AKe9MHh569rmuAUV/nZXDTewsiRo9bWXe9/Crq9JSUUDfrlU1npBjlzilOUy9Cn\n",
       "VcZT+vhLwhfrxFA9J08N3v+VQc/9InbSwPPiCCvbuna7+VvUOx0/TvP48kwFDAHExPAjBlotL9GR\n",
       "WqA275LCFH5fR4n7iD7ukfopi1k4gT4ON3Jnt1ZAhXVMcIQFRUe9jFH200Kmrrw1zs7YBlv4OuvU\n",
       "EBin6khGPx3SDR2yDB7HChA2bv5DIPfYQw+k2oI/AAAEAQGeGXRCvwACWugp6wmOXeKEDYv/uzX7\n",
       "7JGyR4WTACtu54JqtxkPIYXN7Zv/8S8Y+BpRrtPaBOp3Eb96fXJ3WVseEmw7bzwGKEFyZI1aZ/4c\n",
       "2JtlJoWVCc0wNH/XpVpqeLaxSHA6z99hnEpvaAV9yL5admvH3AFsbdr7MduYk3EAojXGItNWsXL8\n",
       "cKDr1JgBeztCpegUlkjsVJGz4A7KVLFKA5zQsqsM5Qa55azt5U3tenxIZ/jl//Qy5EcDtqNO/48w\n",
       "jxdWqcGjIk00tTPVe/Rn3hA7y0uMEWSTPJjw16KEtMJniLTVmQA+Lo1a+roJNR0+agq5fLTa6TP+\n",
       "Ya08A2UofPY6iMJ0Gju+SfFs6mlDBEFsDxhBFv5GkWbkXKG36G1E2s4p+Ybpp/EDVbkGrBSAHbO+\n",
       "VfvrTgQZ/SRuTsgAuKgDAZuxIS6gdQDRHJGiZIcnl2LA4BwdojP88MbsxkQ094qHNTDT73e2iyIJ\n",
       "saUGGtBVUI5rwOX5Uufjn3J8uJ7AoFIu/YMrLKikgfzyAzPS8UqnaVHSX2ASFc/s8rbFa3N2tME5\n",
       "o53cLx3UPjrZ+jd2EFVk5f1YDbMhnyCzRqdSAjJXoWYMBrS1qiecLNSBduIePdxQLh6T60mLuUEU\n",
       "ODht2GS1TM1qMpZzrEjKF10/fRKhxVVrTq+C9i67wpFrguGUuiDvCrmjTLYfKQYnJ1a8P9e6VeWC\n",
       "ah9X2tQNN9ACgF7Dqoz4SKuIlpGJWdARaCtQ+ExGajebvEoG+RdhTo/yiVgepdoigboPpFZJ8eGW\n",
       "KzB2yV1UxeKMkc1CPbGj3cu7f/SHZ66KFyyN4OTkYuQ28Kd4kBYPcfgYG5DDG147bfgDzYcfG7+i\n",
       "bAZNErwiVr570so0HCldjk4cfZKtmicEDChuZuGg2bJklB05C5OHH9Bb7z43+zbxFPEbxPQIXPY9\n",
       "HSmAKVOpployFbIrncwdDeFbtjRPZsszai0QGjQgNVdKPJJtm99cNjRWqLPe8QjDiaYqseqLwv84\n",
       "UCyYIcP6PuJmVuQNI+u3qptCQVHGPcs6rHIWru5P8T8DMSdxTIeKF59cBmKySqmxjZ9FZBL4/59R\n",
       "kjRbj2ROM6/zh2JmgmNtwIqdqtN1azd8WvXBxxSHI5Pov0TXbQm+Wg3ZYEaF1KJUAehejp8rTB2e\n",
       "WZau4z44a79QHcfQqYWsKb8AR9tkaZaQtWIbNZUymjS+rZ6G9z6w3CFVfOHxJLVG1TkDq9aUyo33\n",
       "mLfOdC7GzXJJdcztjv6ClxYM8RWLSkCDgkQYwj2tfgPCdCrGUdCOHVDC97mdSmdnD1UMfCkohj51\n",
       "L5Ks53fpMlXwDEMCyf3ygQQT5rygqGXA0hc0ohxRwBQQAAAEGQGeG2pCvwACW6+x6vWuS5ueMfJG\n",
       "mvQapOGzUoALZOHcS+lYEgiF/L4zHqOediVNbp13BzscY6xOvfHKcEnlP1gWAThB+TmbYp7tWMGb\n",
       "y/6sNzOTqxsg3IbnTRmTCkYbAfG4a7g8l2Try9f0z4hhwzOAwKaw1+n2JVjtJOdUovSVcd91j3nA\n",
       "u2Yrqo5U5aACxu7ZUzoBLG8f+YFb8kxxm3i0bopBTDam2BebZ8pJJlU9XTMbvz41nJcRRH5fnBiF\n",
       "3ZRf/3itt/GlTpr/aCVTXAeN/TdZpPm3A4bakpKQjGI/D16daqal0z8zC+TN7QHkV6x11OuGx/z0\n",
       "PwWl54iIjKLGw9/q2zIDRAGc8ovh9nX2dVJQ8DYmuDn8fVS3/tIcL9RoC+mhNMaDKVanJ8dIIpwE\n",
       "E+ZYluXqC4caKkTWqcVvX/kZ1LdvmRj2pR9u4y9SE+zxe+ZQIBepDX85NTkgdEC1VXeBdHp34FZ+\n",
       "wXwrr+klnaC6lSbA3Op684BYGT33kpLQ7lZXLUHQy6NzedNCZWawM/xB6hW++hLYC/w2XTIpStkC\n",
       "E9fee59Rri4KRZ3i/aTjWkKjHbpqOWLvkzdy711J8PtDBG0IGxtUbJc5dO6RAUaae2emOUqV60LY\n",
       "yExb+itjXFeBcQkaGUy/OkRkUAKrW462AL2O9k/FOgXqpc+YrauPGq8XHoBRwJQ9OlKYNCaNEHN/\n",
       "JhfL34C6VqVcndNtsIx2GC3ZjiX4WREJL4jSBizdfK3FeGshKFJruLLMOSFPA8j5UVsQYLfhou79\n",
       "fqVEhLx8dyM+MVKEuTiSy7lFjkam2yk7RT1xr6k5xt85/bA4/NkcU0hUlpjEKY0LaC13PI23HpMP\n",
       "TTds27yeEZB1yJvoi5Hta9f2ySe/TX4FI1gva/Wes3epsWLF2jaVlX8YEnGysVzhuRzLhByhs5d4\n",
       "DQVQBJ1oYtNW+0/AmAKmkZjoxb+TsgH5MVujY1s7A/eR2rvniNiwidS6hWmUiv4SGP7+iugFrkI2\n",
       "nQt+8AdwL3owf3vUT59VooBvB7TkzcWzS2stlRZGpuvYj+wLosdf6gfBJsbbrbQGnVviCWg6WRXC\n",
       "xuE39zEChvS+yc3oxkD9K+/druC9kXGyJXFiUgAlXJwkli/wvphbLs36z/g8DMQloROcwbPuolNV\n",
       "Hj1bVqrBFfkyLZ2LJ8dRmyuioeKFD8esO8ExlJ63EeUxvi162gXis15CszG8JdaAaTEygfXVoSy0\n",
       "Ez7cr71J298HUqcoY3jtUowG1fJo8WzLXh7bPFcKQR/D7ilCPhMtb+Et8pBkYw8soBUeUrQV8vxg\n",
       "ahxeTig3Tt49j8qljN9yVAg8DFwBdvrKytsjvHmW/siI5NIZG0kOBavw8wARJ1ohRjpWZMaAA+LB\n",
       "eAM/AAANHEGaAEmoQWiZTAh///6plgAAAwBS/hW3Pz1IM6Aj/eeuvAHkEOd8EQ6j5bbR+0EKMarU\n",
       "iWrhhKco/IEE+WnYO2xUXTdVNwXnzfvaGDL0NAORZP/KwbFswA4jyMXRCUkR8RHGXvkfqExIUBfR\n",
       "ly1PfVeUviHuwvzHPiuzZoVzCWSvT/yOJLJO7fqDaLe2ZMzoi1ghKUt2Px9X84j2EGWQKMxjVQAJ\n",
       "GHOJBDMqlIrAU4Luk5iad9oqFNSm30r61jOfLLKGErOvplDjtiZjDMdrZ09Vb3RKqu/DfL2lLv0j\n",
       "3SSbgGp92bi7SaRIEFn31pojgh7bCLiRUgoWzg5bmVNH/wE8vwgGGE0R5hJ2ZuQz1MsWHjYhQixn\n",
       "6RPBPwvLtTGiEg1SauXj2a7PahNN5J92nSEC50gdCjpKjTupTZkAFgqVfjSsOuFAsoy830bPcDDT\n",
       "NPsJZ8OysoCerPs75K4bFc2SGWIFVVyRjfl00yKKN7GTMhKdabJDWgdsEHtShPcI2OG3lgwuvJfW\n",
       "BgFT8Wiz8J/Lqn9gE9hLKdhu+qriNPsAp/oeqGT5tBQo1jfOVAf/dlupmhSwJnE+rqTarsHBEfak\n",
       "vRXr5kJSJbsWZkEK8IkJTRVLyIKupjOVjKh/6Y+HKzpnd4cKiJBkBzap+HR9GkE2ywmWDm+eKa9j\n",
       "3Gj1TsaVN4RJhdAusfYtbrOy84cQgSc91FdpmVX0iB9ir5eA5NhHVScdO4WkMLMJlUpC16jHp4na\n",
       "31RExB3CrPOmk6NHDJGmzHluEhAt48Ii07bj96SR1BFHEwNb1uijo4C6KnxomfdLT6x82g0KrpTb\n",
       "VruzbKsRB1/J8e/YIKcpqr8rHNxhNTbfVWtUWFU6lOvmFjBzWTqGdKIHk0SFUZkslf+DQazcaz2j\n",
       "Oj/DPkATDLFsKGnKX8etdJ3LVAwY/HeYg2O+0ifHuv2Zs6yLwuCwnKmjQvnWACQc3Br5CZ1jAGWv\n",
       "YV60gnsV/CH9RmEo42Gc3iiW3LqSZqDNTh3x0vua8XopAI0OjEaw9RxoaylYpmG7cYIez7vl/Ezh\n",
       "prLfCdimudgak3rH5sRpOsLzoM0i7wi32VzVZKRcDBDfo+xhYbNTbajqPzaq1Ib1uoO6dmG9DuEO\n",
       "PzgbtfmOFjj7fipLPStWFqNEPUiDTaFCeXthPvtyzCR0uihcqH3+OGvOxxX6wRAm+ZHhtKZzcQOw\n",
       "dJe5P98eBWmf6KgWfGmT+DFvmfKOw654ORdNh9OOjXnxqFH8vIoAWCNX+UyiSBEJC3akHhkcK+AX\n",
       "WUE6WjjB2nvymqUDvGjQHPFlkwIMYBmU1Rw1vp5M/z5i9Pt7WLss/zoMD/VJVj6Budyq7HANhZOC\n",
       "4MO2PIVdVC1lYZvuecPDKsV4+/7oM7Vo6s0DzG0v/XForsW7VrxRKi8vWrKt1gPEuT0Xw+mOzj0Y\n",
       "dO7F8JZZnQHII3RT5N0oVrv3j1jb5RhpNO2PjA2MvkK8MiEWnSVml/5lXS79IobcbqnEyDQF6TyH\n",
       "3lA6qW3ArYUDrcGJFjsj/GOsvxEO/L2yHnAoXftPUo7SKJ+UgfpjeBA7fL8ejoifbydGpSiUhkl7\n",
       "1TNJMU28NOmjeeC7u+UdICvtyLRzCRMR3TjImRJltk42XGjNfADpkaSQBub01qqjgrxvpkh5/1fd\n",
       "TkkOWsncu1OjcYYP9EJTEIimKNVNTr4o1szGdxEu+mDt/stflvPPn0xUeMJXRktSFG5XsntPPfSy\n",
       "azSk2fURYi37ucgvDwSbGKxcmic86fQdPXUFI380FKq7m9iXE5mjyaa3VO9YvNtdtoILuUpJbddj\n",
       "0Ua4LPTYEhLTemrLp64AChLC4+Rn5eivjoWYPfG9KFiOBDJwHmqAAr7F8K5PuojNsixdugk0zxTY\n",
       "NEkhCrCQanl2CZmJGNj+YvttzIPjG5u10zKdcBdB71dh+b+PksSMmMttFYhlt1h2DTJgJ7h/2F55\n",
       "jR6rn2FhERB981ntSoWOOJw0gDExfhN3PdqQ8kiuJD3mdxvcZXA8m3L+Pv/LOfozZ+o+qNmy2cXI\n",
       "uY8E8APevlQXO+KP6gWUkjosWlAU80ROWRifZX2dw5hhShDxp0kbeyXcQRkx2FKp4QwhCsOMTQkZ\n",
       "8a1Z5BjusnNGdhGxRqX4zdnf7TW9ZejyHiNcYURMrkCO7wk7EyKTH4CuIkHOQvRv98AwIHVyEvA1\n",
       "6////+gFeqNE/05hiR0Vf1ULsPgVfizKyKtE657Xx/9F/QiKDtFog2cfqAeXaSzwaJKkMv42WwiH\n",
       "QSCVEobhJk765jAWQUfah3XV3sg8SGjOdlU0OFHVBqyQdv8BkkVYIrQaV5Ok/zd5+x+ThxsvBxCY\n",
       "t4h/4J/1d69djEmb42FTkwYhUoT/EY3jgXQBmNAKxGC0omHI0AXirQRTJ6MZseS0cKQgUrfTkKeM\n",
       "op7zOfX9kzQpoTFeZGfxHiOxT52HB/h4SRo3cDq0rNXve9SvYyX2S0ypNr67tyZQmYLZxNN08bU/\n",
       "K0sukwqXcAqf0PhRpZvRT58/5v8gDnaww89+ofw4OyTNnEB0Q2+Cdgq8KmgeJG5qWttkTKlRqnol\n",
       "zTyc8Uh1PdkJ4Z+aSy6fW+VfuztmPgGq/R6nnekuTieIpLKv9cHXT3+F1h91hYXX53Mo9N/gjkQc\n",
       "Vgmo8BDKRj6iZNDdZ22F1tmBywr4S6HU8m5Iyhg4XeDCXs/pyrDJ6C9VkoVq04vWXqBN4F6df7Uw\n",
       "oga5S1XyWQw+Vov0cSOhbbd9Su/BIrcn1SiH+MDiW00zuJaMNNdqtmtLwtjBdbp5eulFUO/dveJE\n",
       "3K9v/KE/wcbsoffFaL0aQJwNI/BETcgoSoshAFzrGHS9lMb6SysXQ9+UKz/XUNMA3HGz4yzIFtSL\n",
       "aj8a6hciwWjQ06OqizSOvnczRFfPC8LBzeqhFp9mXHDwLmxIa6yZE5fvlMKAJznt4Qcqx/4JUTZb\n",
       "Jq5zOqHMIvFfcdlpQc2ySATQ3/GPerEa1Oe1DI83dW11URTTXJSmihVxhOdOsB9BrE7eTMkhUl7o\n",
       "woeRT7m6Y8FHUYDcQpJG1wjLXDLeBMTZO6VxH9SAnK3rApOJPP7p//3YbD/X67bH11rgljQZYnQ/\n",
       "xT1I+h2fRBf3qxPogY5+wDf21Ui+D7ZalMr/MhT7F8uSWHvYbNRJY6fhIXXJQ8gDsDCw2wkB+TNJ\n",
       "Zu6oDreSDsDo47Us1j/dNG8+rwjQkFvmLVck+5mulIsIqs2H8TQiKIbo1mRILdsoVEJdpO6ozXd3\n",
       "qOc5m1SpNYQdAvLN233twxFVqt3eJm4zBb/3plZvxiw7VzEj+8rMHoxYdyc+wlrCXdfHhlKZFB4B\n",
       "QuRBSWcAc7BDJQDENQAsWAiL8ouGR2Dvuz8TIQpEqE0Q6ttL5HghdMAZ6I9W4uicB2qAgpyk7aHh\n",
       "SIsv83J5ejPIgdSx+mMRyOgm0MuwilTdP1T0SoAoT9WZdKX1IqQyDBwhYR8IzqFD4sogk22Q2bYe\n",
       "JzW+qMkP3eXeoJxPOZuo7iJrf28zIW6XKfQI4WDqwgIjccNf4ylT8RzwkLqbl5/Fivw86SM4wU9j\n",
       "7zV8sVYO4m00W5BOJRvqfuIY0wwvVxLZkmK/QOJ1CiGy6sledREy/DA7iYAvvOSWZ+iVy3rcJ9EV\n",
       "MGEB2KlHUqflF/gF3cOharm5WZNpCt78WTwfB8tTizK5VNWUkwU3YoJD8HSUMHA2LtewZQ9xwDJ0\n",
       "k2OYR+4xj2Q1H5C5Bsxc4XqJWnIBeBUAAPOTmlSq6YuYt/QgVJNDHKkJ060LTiw6tZAAm7eyx2Hu\n",
       "MACFcc8F/rkT6mJXSWjS1ZZJwgT7d7xWMMX0zJWY2YNg8IbQ+vSHv2Zd2iAYfEfd2c4uQ6NAFKIU\n",
       "lFqHHNdJNl9Qn3XR5+1R04x26tFYEqWcark69epsk80iD64ugWPDbem8935MYyjINEIgHWgKSEYt\n",
       "0FRXb5iRN/kvNRS+HX8mOl1djJOAvEfeGlEkoQaADm6HQ18KxD5jKbxeNwI19fBCh8f01oNFDM4b\n",
       "6iqr9yQQ4YJV2m5pH//1tAEQcZ+BXzRgNiK9ZTbV9kshgxUFw750Hp+yefhlYxNQpLwr15L2WbQF\n",
       "TwuzdFO+qaWQPlo8e6OenbOdsudT8N23Ai9/LUtuhXAphogRPFTgX0GYNdqVfDgvbOv3MJnAkK04\n",
       "8/5EFmhwOVbur8357mH65ZnjKJ9GKpj07jYnke4edEkP07aTksa6WJ14TA5ToCLvg6kUilFkLDk2\n",
       "FdRv/tbIGh9AQcjic8M5fImFc38uhZYHbZ1TvdVr8Q5lZC9TnjNrSf/qOJXIT+cr8HthSU+I+NiD\n",
       "3PViUIuFgaDAGo4Eb/YPpmHcq9S2xOV3PFcaQQZZ+YKdFnuYSPbh1ksbd2dPKAnYk38Rkazurnyh\n",
       "tntTYl/GdY/SUDtbSUrKJ8JfzO41yhOsndFwCADnQf9Wz+hAnbHrGp7VtRnN71cxoilzSA73iVpT\n",
       "AAAHTkGePkURLDP/AAFHpqHt1UJaI/M4SQ4DHU/YBNKLGnJRT6z+dL7rNTNot+ajukafl2+sEnUO\n",
       "luUHu0n6MQnBFmcShAji4hPfnCpT19nVDJ60ynt4xlnKHJNzaWxLpsMO9Gy9aQCbsFQrs7LsQZri\n",
       "X2N4bIRW3ThNmFC5TaE4vqwqNuc3mEv14ZZye8ZD/9SDLS2OQdWV88puZelMXOGJ5h2D/GSUqqXK\n",
       "7shFRoVguOM+rb9Bqz8d3/fC0W1pp9C9ZGgo12gKz4Zfg0tuxqC841WFZ2Ob1NpohZCr86+s3Qkf\n",
       "ysYJeOgOOkRWGR8g/7SIKao3ciprH6y0msXI81TXZrhu+9Z/4E896eDcn2WwCD9QSEz1L5bcHJ2F\n",
       "hn5Age/gqee7V2cxOp6Pi+7eDxc8w0VbWqV1IX2CYlgMUB7FoZq7xn36GdUyUOWI8eXRL+k6o67+\n",
       "XM2XmFlgt++pz0l2DzaxS1e4wt6TURuWjaoqpVKDckDxfnmd3KhrJgAkpCUm/2hX8mTBH+c02Oqr\n",
       "FNgwm8SCTbVEF/DU4LbnmD2woJpRSDJwraB11qlSkwi4iimDoxpdX5hbqVcCiXiGd0xmt69abWtX\n",
       "37COHDQcocNh0N3nRQNSJfZWkPQBV88JD9ofWqIonFyw72C6J1Hs6Qkj3SYn4xZNYwq5AzgAZ7br\n",
       "kiI8crxee9uhSAAOydopr1h+jep5DayjElfl88OkQjP4TA3Ght5DZakyZABpDZrXqqd95zoQPsmE\n",
       "N/pWkaa9PKvnNCvA7XilcJ5CT7A9wlzgpS6kJZ2x0IkOmZhHyyLM67UnolREhxcnIvruYlGQ/Bsp\n",
       "pOYr4HyDGBCnCtBgFWMMpu6FCCuS7/U/IMwxewAUXke+8jA52WYt9ew2NH+w+xShAsFGPdM9PtBp\n",
       "bRZCdpGf5Ln+j89Chg/KCQIGcXvt1fXz2TdNh0qHi5EoqQ4pz95FPFBCx4y0xOsOMemqZBi0eesE\n",
       "R4UIql4NR1kKd02Tkb7Cl3SSch1FT63E91yo6oB4oWVYTxnOYPi1YO5TzxMvvD9JUVyQ8Y8zr9k4\n",
       "mPQmVmlvyQecaOup+TUrGasnUvbqIdq6/GvzmvtEKIs1y8G6ADYatyQ31y1Ok1xp7+OatQegpYEW\n",
       "951WzWjFPQewojz6ySUeYGJcSu0cN+g9LU/9RStCtXi1D24fOLsrv0lX3L7hkyLBUKZDUZi0Y7D4\n",
       "TB0Qg6uNSvJ/VHpxGedRuS0AJ1IOzZg3NqNN77rHd1tA45mgCrY5ZSXost4DQD6ZXi+AMud7zdw4\n",
       "wt6itiUsmcmPGS4T0IlQ8nmqPgCYUe7/dF4hCXdr//Zvc8ofkBx66/5BXX412cC0dzoJAlNYtBkO\n",
       "cXWTLX9rLxz8zTHQNzK308cxuUBB1YzXSPipTg7j5cFzxd0Lxw8hlJqBy0j5ebCvTLVjV+O3XswI\n",
       "/CruKdFaC8VZL5hhjvbHe7ZMONBDJ4jSJig6Gzolbzv/7tifZPBTY/RGOmWh6x3zfeedjV/Tw8cK\n",
       "KJVVC6yYNP6rXJYr9CmBkcqt6KSTpPoXeRCvHEO0rR4lR7d7Qu9dJxxGEh+ivgA2GgHTAWVlfni/\n",
       "ZmNtoEmMyB1LCwsI/bVam6smXMwBRLkWI5ATr4LkQnNAk4+pf7dc8rAJXd/RLxFI7mGkYjKXc2nS\n",
       "JmvsrynsMbWIKbV9ElDLfXRKfRJzoNxTYQvD9/rYObtKlP8U7nmdW1gv76t5Ds4DAvdlRC5/2cIb\n",
       "MQPKzKltp2KhTn9KWJQ105J5ykGGY/jd7ZJhejOFoNCN42IQeQlN0XhkpLSiJWJCjvOsMWjC/rTA\n",
       "oFMDkl/IZlKF0rpKvfQUilNTVv+GYKgI8qua8dWo2/LPceHsegBT6T30QoDhR+JkR1FuWGXcPVJR\n",
       "jXoB6kz0F7h32cKqQQGmeUTD4WZ/GalavDD7N1tRe6OqFnp0nzLro5YZseJF4HWKQui/buvvgajs\n",
       "GZ7tpFXuzSLl82kL6BpwoUUmmTJg98cm8ox5i0KYhNpKEI8ewBB6bKKbxVVWRibTinxLNttv/FZt\n",
       "Sq3+jAz6MZrqporUJgMa5kCyY/ITBD/D81QEzMktsySI+wZ1whlg2THXyNMbPZk5+pdd9X3NWbxN\n",
       "RiLYzfeGLR4Wi0fHQIhRwYugEzJIH682AgZ/q+mlfw9vyZbhJyuGL7DNf3wf/nNBSlpvkArmLVGb\n",
       "VUKltg6j3NjdP1HuGaTRJfJ/wa54juMwkgu7Gxw9K3IqGgtNCqPK4PuCYUQ4B5Vhhg9fiYsJTex/\n",
       "AiFJIAICC9AaVraxVunVbPwuFv2qgLx/YfshtLvTyCLe8Rhm9I1YbXf+M7I/fy8W1KQWLm3zhIzd\n",
       "F1KlkIuSwJ+snf0sMeHzgIr2bL0Rq3DKIdCSN8fyQyVKR7wFWLJlswsLZ7ZS6C+OlgK9cBWAKNND\n",
       "f4s2OxrjKjI0HtXVUMwNPD/u5ouAqG2P/TzbQ86R/opYWngKat+hH/BwBhpgZUwoJ2AAAAUjAZ5d\n",
       "dEK/AAJa6Cnr9Dq0SbNheqqplkoZE7bqZBHQAtwq4QHhm2Hc7juaYO66H9L0yJ/Gjz/ZmK9ntlwI\n",
       "sdIUa+N7kudshkyxCtGqSVpRCppQNWWWxoZGaX0FCPb31WRe0Qli2UNicpSkQZWT7NLSHy6Hlh03\n",
       "4RUlJVhJXDrUWnfNHw552crMwnykO7snDB5+YJ3wsUh0UvoPozKPWbrDyAOBqqNS+9oAXHHN0MTA\n",
       "Oic9YHGm7kRlAutedc6J/oyLuTxGo0jn+UgVA7WauaMph249Jr+nyXZvdR3HQ5VyZLjHvLkU62Un\n",
       "m6Z1sVE8ewu5vb1GoeOpUQKjplp6N54WlaBofcgYemsgYo/U/EE7cIJmz243a0OCZ8jwPbxcx1Mk\n",
       "E55pnaSEL2VkLP6EOeNxeViGo8V8nEdKjCD2PVB8PQXs6oW/RT5+4fM64K9ccKMyF48GkzeRI/45\n",
       "7MvxedlIbCHGltX3AyV1EMh/R3ja4KD5Qu7frJlrlUnlZ0Gly67w2oEDtjIGWLvwe+ruYT9IAcJZ\n",
       "LPRVMeeia8iFA9XR02pXuDKc2s9BQcC+d7vNetRjsV6gijyX7QKAyWPuyqRhLBr0vDulu2KCp0kX\n",
       "d6F7jJRO801uCqbeeVECIwbSHmMUqDCxH5ghhI7glYQ6EVmrD3cyE4hYZQDMUIfotOlHTTMP0r69\n",
       "jTgYAcFOwvEM4zGYp2ZaQ/PB+ceRP1zwrG4/pA0+b3B2htB/5ZnLPot+GXqNyKk6SyxgBIxHjZnx\n",
       "BGSMweVQjHrOEWW8yLrt/Vfz7FE4263/h1bTTPcloEvEJxIGEq0Ub5mL3MMP3HNOsq7N6nvSSQM2\n",
       "4APw10p5OXCK8x4aRagJfKDjDxrIn9XkKjg4aeK2+bxxKT0vxDPsvLGEpdGpjT5c5Wrn50bs34xL\n",
       "xVyHBxxXKc7hmEIYDYUG2Lr98KOqelgZAeeOds6tKANCOOBfh1YnlKpghVs64n97hrz0eSHOxu9/\n",
       "gQXF6a9uQP/12I4fBQ2PKxsq+Z24JnqwfMHwDWl05BL6nb4kOhEzSvPS8zTcghpup1M/9kyUU+J3\n",
       "/imKTdDJmrvStxxBv/IABGvAOOJql287ZbMmR0N/oQp8GQouTMTrutAhx2gFjBGhyZyBwjaBQ1y6\n",
       "veeBtYAxHEBhCJ35T253i6h/mluXVM2mnWt8lCb910U0WmzbJBM1giGNEiIEE7xUTm8mJH64jy50\n",
       "N9q6Tn5N90L6Hn/OJFeV8BCyo6v1ISbshV+C1omc8q3dPeK4yZDrwBwswc/+8mCM+DE9XnJovLBt\n",
       "yx2cJyaEC8noQTBXpTG9wgYUETEJrb0ukgExlI/ReW+9Br2OM1AMDzT4B006Xfpy166KtRllu3Bk\n",
       "WdbwKFdbPELx5GKjRoqyzEc0bCrr2ay08K52x9mVgnBZO8hIhNaWmlyipuhCDkaomb7GcO28wIqj\n",
       "A0BKaM8TiYM2Sx22bPf52KKhDNa1tvZsTpd2FkhZITtXtsfLTsVnv0Sgs613m551dZhfPexV5P+v\n",
       "r5HAtDKOhPE2qy4pjqGNO+tPG52B/s2bBySSrL4Fl6LoHAFCRS4y4RT0ah07457fg9CTkRUPYg1e\n",
       "Hyps7t1puz8zOaOjKqcDOK7nW6YfA7jCcO2Y+Ek2d2asPG2iJ2dYrEGKSMB4I7O/qIoHD4F0l4Ru\n",
       "XPHY4GKR5lsJ8DqKMXa4XljqS1/UfKjW5VBl/mcA1n7rK6L+UPU0DFspdgafYqGhMF9gZZFxoR3B\n",
       "eQAAA5gBnl9qQr8AAluvsewbzBs8mSaTz55p0AN12vet3o4h3Hja2RqZ7T34O1DTRjkuvsVc8s8q\n",
       "yW/zvD5SM624y4X3Fk0iRmEOMBRzu0BGWZHhEGU20Bz7xao6t+U//GgHyz8BF9K9BDZUeKGWMvDM\n",
       "ghiaSX6LIJ6rDT9pqPHID75jtjB2RZS6qZhnnaEbAOOmWVVUu22kZ5TApCFYsyQj9z2O8z2dk3py\n",
       "iO8dSTDRprd1xl0bSrukHEOfu3W+BSZBbGDuEJfzd+CltVmrt8UgMakh6QxSJ/Ftd14+2Ryt7Hq4\n",
       "WXVrMrKKVTFYEnbWgV2DfNZ/4NXUDbDV8lFvdIL7nKBWf7rdyf+UGr70mZHNAHDc1DqRIiqOQENA\n",
       "BbKBaSGvqrP6sN5XkeUnddLp3UR/0U8gQ+in6Wguv4pRh3iTNVV8LPXNREPiRFSb8TsZ35PGQ6IK\n",
       "SxZay416Lyp4737d8Z1BYH3P6RrlK0MMIj5QZpZyVAj/TRMLSYSD1uG3upfpGxZwzTsK+Yu9lVc+\n",
       "m2ZTZoW/cfy5bKQf12shZTa5pYvcG0YWbrEZBmiLGCh5puDtkFzV2NYCwxPKO6YnMSfla7gXDW06\n",
       "RenoeyImZ7p1zM6FfNhrq+3BqtQNthrsGcUskq7JZPkAp0VMwZajg3Z4I90wcDtqt+V7POPA/ZLG\n",
       "wEnZRO4HgZHDXarCIGWOG8OmGpL+KGvo+AAcQN8h5BsLucH6s6w7Pqhx1vfH+f9HCPd+iMXNuxcR\n",
       "nECipW5uR+0AvVCETLBaBjP23rPxLhZGTMTTQhNUsKz9P3X1QwE/SRqbPzLnvzodWAqKUmGFzmcd\n",
       "jC9JghA30k+0V85YI9oCTg/h/SRicz+Z85CkJQUWTqcZock0G7GSYXWKOq5Ym4Kqz8E88Wb0daCJ\n",
       "rcySWZz69cEfu4vKAq5qsFX8DxW5bgWJZmwCuEJr8+24NgciN0RJ1b+zvCDQeUYAV1+WbVyw15ma\n",
       "s3tvwBiY7dmUbcWg7yNRkh7nXEKsu4gMaNnQcQr3qr9TyMZzphaw4VP+CSW55yI8GEikXdeJUvoF\n",
       "kZxHi7HCP5PSAAjPgahCp+lE8ArcvDWMBT8h/n/2jmMResfu+wEzRKmO5Vz/1EADheBE49UJKWSd\n",
       "HNM41TezPLNJpQ4d6T5pbSO48mpCRStfiNEKgvHYbP/g6VvjGki5M9yvPiEOrp7i0lc7WMi9dPBF\n",
       "o43b4/P2a4qrKgBWwQAACvBBmkRJqEFsmUwId//+qZYAAXcJ1jfFuV/g5cf2AB14UjUZRg7fgxa4\n",
       "rjonlrHPk/KuNHrqK7OxLaS4cbr/IiAXDwCImPDmnQNnhZxonsW5ucFcjy1mZ5l85O3Mm5P14Vik\n",
       "nEFJdzLkyqGvwrzzp4LUnmhznhbNNe40nlEIn1qzct+OdiPNGyDJCuc6WUDEpyggeMj+B3HdPWBd\n",
       "ofV8ZH9/7A/LpCeGC52iy4SdNBwlTGvm180IY/5Q7LxnbtnQUKB/j6gwjl9YyuqNAevFvj8Tyd5M\n",
       "svtEnaNhJK3BWE4SPBlDWunT/7wuCme5hKd2szQ0tsjZ+QADuRDASC8xiXXOcQs7B0gtj3b3YW1+\n",
       "RVfsvB9fW8dc5hkO2mszhdTOTTTBeIErevZUUhvM18aZzaRTz1mLD/sm9yW7gtPnjE8ABhQnEPP9\n",
       "yBrk+ZeistZuQwenmxMbUitWGfzviO4VWr4Txs5FSx0N/WQfXJ3uSrpt72CPig/A1ALO+jBt49aP\n",
       "fNtW31Iu53t1o10bZ5Ox0+OnqPYwkBZiiQkJFg9MYLFACLIY/Ry2Zrnt6ijgCmcVSS24vIoBak8X\n",
       "IwcXHSDB/1MptnpJ9CphhOFuOHAOsK6kIoxYwGzAnyc9oY1kaHyvKzB+uThrc940MCIfyv1aOidS\n",
       "4vx00CZCIaZ65WOWqjoPkJAXNic3psWjz1TF08s0WlrsO3SVH8sS127SvMvAgfNSVR3LE9qXUEuj\n",
       "qFFkw7SRxtmzOyeSQR6F0FBOSKkleF/K2EIUjwIkdbN1BdUtln87xmnYe2UMsmkOxehv4G6aHsQ2\n",
       "nAsO82oHxf+GwrpHz9SQUyPTROijDJ7CzHSMWZ13MGQdVOEysDUCCdec60x/SQDebXy9DCm/xVDg\n",
       "FaHyHikyAm75zze04b6YBr5zzRzh4ugNSfelCEpIhMJdTOHIoTmY6XmL69cj6wX2yfvbr3dc8Vuv\n",
       "Z9G40NPanbcjYv3DdoId+uHI+P4snZ4iUZyeTYatxKt0P/QB9hZ3f9uEpl5cJO4YIrZHcV3FNmDy\n",
       "LkctqYwxkZo6OBec5PNcnPVuFSmrau1WZa7e6/J/xmVYwSpO63eKUNA1RJnnxouLU/qhj30AWNZ/\n",
       "ZORuCKD58iTBRovgh3tfev7UXrAOqu5yonZJbAQ2Y/zhzbvzjeTEHSZxAI2YLpdJ0sl/f6/phv4L\n",
       "FmdZlwuO4VhO+hI8bG6wWJFu5LsmIuxWmmdyYfNKe4y30nxN4w3mlbCPlK5KwWorsg2/6tSeW8/S\n",
       "t9oFjK8haZ8uX4BMMcv8EMts/vTmMZN/k+YmsnvoXRHCljmXSp6Da9cT/GB1Vd8rLZXcaH+RF+5e\n",
       "fCK2OOUTTH7H1kDktadxSQj91l+d4496u7P6KUxmLgXAqSvOnIaBuRZBEo8DD6/P/+fbJVZZgsCm\n",
       "leU7MzE2T8FAHJSkS19V/LOiyi8ZqY7kqQpQVLAk93F6UmPJQ+nZmadx56Uz1RC86DuczGVnFJI8\n",
       "mIS/BhGuVrsK7Lj1jAdYoW4Jm1Z1K+zVbs3XZ9mdmXMPKupQee0uGXyuERURP1FC3EDqngfzO67b\n",
       "0r9bTEwJ60XvWU10cMgAyI0qpM80ixR6wQ99S4l28PchrMbHLTbtA9ZNqIMLUrmIf25HGMOaIEU2\n",
       "g3NNn7KNP2nMoOEqxlA5Q4WHmHuYtv3ZinCe8SqhBrbWRCNo0E26bYijiDrgyJ02oJoFFBMoJx5u\n",
       "ThpXF/Q2CkSDl8oqRDwBexsrSUg/zaGtdhQx2XRcYDXBcoviiKT6AltVyM9CSoVeSndYhXdVQs+8\n",
       "LaluWB2rxHW6Izk4xvHpTt8l5LrelrO5skcFJpdEvzbf3/+AGRJTf175U++dXZQVoZf1L9syCnWT\n",
       "G+a13uJl7XK62EHbbMnrTT6FnLR9cDp7pU7cw1q6eGL8SA3jNS+FIb7It4Kp+MHDjSYqu+I20r48\n",
       "cHcvZGzaxxGa1zpSV0ZrXTRCz7Lk5CRo4IuuhdD5eROEZmkYoqOQRyy8dkjeFs1WZtrWAlDb3Vll\n",
       "CSC4LYl+lwXsqwq1vZ7q3No/W3FSR9i95IUCz2Qk+LdD4tof46ov6khXA9/kOJWlCCboYFBF+Uh0\n",
       "uknteWcbhI57MLGPMSIC7mTVEYnUVRkDXSNaRM3DuUBRqUh06NEQjf3jycfxBLlGbwuRgjdBU5ku\n",
       "ignj6BeRzl0sjACb0OGga2NzkrFg8vU0ZO2APZawONrbN7sUIPIuzgHB2AJx79iMimZTUxIHnw8C\n",
       "7AoERREGF31geI4ix3F5t/7f8QSrXd+oNEAKvfEFVVoMCxjDCCb5tDRdZR9RtPzJmMRkB3PSDau/\n",
       "xe2BQbB2umzPRkKewF0lBOjzzCQN7bX72RPq1Eusas+DaIBieqoBeb4eadozdenq2BWbgGXlx0ek\n",
       "ygaKrKVkX0yFb6Ce+d6Rsqo5JIWmvu6vE+B9Um/2TGDNX89VO1jUKY2OpX6pnQ1RBJ5XkUzgbCVC\n",
       "1Zfk3uTTNElb2x0BjMx9UD+4599yBxKOUCqkm9xqU9/R70MV+YJatt2BiJqD3wLVJjoeFXU8GzTf\n",
       "cZtzIIKmZ/eGCNVodjQee1ys3olFIatI7kh8+iLAYG0BeH2SskUVNjr+tZ7aCPlPmOQLOWHN1HDz\n",
       "IOP02yVroosd98ERt4KVzuVtNGEPXyrXkbzQcOgnEnG6TPvN05kreWqhZQkPAADz3kOU1bPMxUeY\n",
       "/bGqoMVPUdH3iJWv2O4t0fLwl8qVJTwsmc3JprdMKhff2bsD8RnvRA45KqUbikUDl/9efXnn64C/\n",
       "rvC7SiLGv9n7l9FNLJcmgTRSSD6E6jzETs5ywe18VOjNbW2R6Cui/OaRp7FcYZk+nUMy0hWGXeQ4\n",
       "EbXvQF7914SSkEbRoN/0FibvSHeV9Dl5oi8BQcOg1VrsC5gVCBM3RL8XLmu9eui4aTGUT/kSYug6\n",
       "pUvSr7EgnrEE/c+JZ4z3tiBRhXRagMKuyWAfw/ronE5XOpQcvW0aTJZ5oYQnMx8U5gSUUpnKN7vu\n",
       "AfRbIqKG5HTXFs146yxkv6Vogf8fvzMlS+HNVzGCHq3rqh1pV3o8+boT1uAmX+nTwejMI7mYPmog\n",
       "DtrJSY0Oc/vQxpJ+A53WfZ/o1NjCnIb+yHu91zon47sXSAWBTwPvOTFtFpOJ53mPFxatdfi9FxBO\n",
       "S+lExHPOdMS/5LapG0HV/E1QlCl7wAaMBwbPt9i1+gOe5RxMXlk6jvSvJDeR/qTm8B3Pzs9ADPVp\n",
       "9BnE/amnxWHFtegxP8G3rBXUdSDm76sQ9pwyR4Y9+vS5DySHGRzaUybH7p+/hZrmbqrHTYeumFPI\n",
       "y4X3k1+xbjGherhwYkGVi+UYCuC9KGpC4bniU3uKMK+5mb11SYCV0H7Pl0N1FitXGDX3uV/R4BeB\n",
       "C/owxN3u3VpHXrydmPjBDjLvAsC2nNTLlIaHdfhutUAp56XTgocohFo0vwj1XZo22oTwzy/xMm+a\n",
       "3tH3pBc2+JAGUsiHRoK+gOyd+18ky1KYDq+xNdMZzO9kGe/dQJy41HPZM6EHokGFBbUMhZc8zYAo\n",
       "+FVKxExUtdxpyNvGRoAME/HfKEEh+R5L9w1VBCi6/qC9K0uIetu7DSNyTtsbnb3aOAImmzUyB9fI\n",
       "rdVJtHLwwDo4vQxZ+qUtWIy8Lz2K2dDN50ikRl3RzsDkqpmaJCwD3kII6e80SHfVLuMs0bgpMUZo\n",
       "pdywlzCYGJkHChHfUmtUPTY7SXFDkDQgAAAFIUGeYkUVLDP/AAFHUNTelxsyFrXn6U9gLuCIYuA4\n",
       "x+HVIqRAAQtJp8l1pZDYYkcDijgO2n4k7kSoJy0fy6617MgM6c803vm31kgDMWqtiEJORF2W6sEy\n",
       "r28s5xGRgmZkz5vPvls+7F071iCA0AxycpmBi+dgMmcS2OfXl82QnPrTtE/GrPhAsXGqjki5RjAR\n",
       "drH5JoXvxabmFYaWRhJfpYJL7N1r26CAuWvQCM75i10tJpkWL7Y7QZ510vFl20+0P+7ev5gjA/Q7\n",
       "aq9tZb+2cVpx/s7gwmOX8B0kAZfKLd0S5O78CjCbNlGRDtunPlP2kMBjcjETvsvVICoubCtRVqWf\n",
       "HFrR9elRX5yziUt6sAAct1V7kx+mtGhQNx9DsUxDvYmr7DcQscJG2gTw5d4upachSsF26FaFiLh7\n",
       "PgoO8qKnAL4bxl08RsK1ZCX6lnIw7heKm5pbatx0+H+hEPQwRTEJ5D3AyZZ8jyXw19YHfFfT6dkf\n",
       "EK6ePGgtJLl82re4MiikvNygj1aIKXUvvkQi25B3AQ1UwSPOPlYpbezA+lbiI5OW8JMXG8UiR963\n",
       "mP4eGDJWU9JuebSYj8gyw/1g7SduPOtpip9wJVDSepIEbA/+guQww2xC2vSQppIsEOGJVm7V+Tky\n",
       "cb0jdssPoeSr8r6ptycNTyTLGJC47lf3YJumAspHTKeb6TYCPh58o49+HooAVCCXVrTUsSshpSJe\n",
       "orVF9n0AkS4sD3M0pPGX2Qu6zIin74ZKoiiVbFViBM7UWzzrNT5giOoidoOsESTMr2BVJwrPoRZA\n",
       "s6LF+QzEhO9W/PICi7Fu41TlbEHAktL+K9MMZlH7g9artHdCJCOE9Emk3m7eVlZkP2loSA5velFx\n",
       "tP44V7hwLxgCSSOGXUrhdIbfmaGxhMBDtlIEbE214XcH93EuUEMd1IeRRgQBtP8yKA2QEUsvu9GT\n",
       "bIy2ACbjGJiqYrq1+TDNJLyoDBIWagUpHfaPyrU/NaFBNZeR4CZ/2GR9XpDMNG8hkHzXXyaD6ww5\n",
       "yl/KifeHS9HMEIYZmVrkICJolDPKA/OND97Ck20K2lJ+yUk2zPcmAlgq1nvPlOLcv1klWRY2xrlH\n",
       "8JxiH/MF0WFFmmRV9lhS2sl9h12jRRdF2k5dro+sxzSbCmpr1C40qGDAHNsJ1R+gXOKwzzvC7lwg\n",
       "RZo7r06n/tC41IfeOzbiXD2/W3EnLjgPX8URvzHs4Te8wcDhEVEUyzhCn0dhu2auJhXO6q2RyPh/\n",
       "Iu0APEF3Am4Y7i/7bGXJ5AHgKXgcyewZRuTBqAvG7r/Vu012fI4EAttTRRuwT073jxhM4vuxObUq\n",
       "HShAfNREiMQ8bRR9ngvP0VSLoWzpYG0kKyhw12731ox604WHfro8j7wdHWXqAHbAfEYzoKzzb+g3\n",
       "P715SUn7tbub2UKcanoamTW/NSXNukb6lzVvJluCzx6xQLz1vA9+4hm3eT1sbo5nlwCI1kQQZi/o\n",
       "3urSY2RVxrBHS+dbuxfJTcjiI8aZmCvB7ZtxKYKdsbXmhvkeiOJXuj0hX1jharsXQ+sLlNpMgX8j\n",
       "nBMSCmeC1DROAbMvqLwLFmdMhUqW//aLNgHCe+FJzidqYcDhiSAkvr2X6zuQVPfh0Z0gnVj/Szuj\n",
       "wPrv7IkZG55iSVGLg1eyXCtHLn/6W8ZYEm8vaPeXfnlsPUa5pCntA986BT8Ro8eg2LJAe1bTHqwn\n",
       "B6eLGqmCC2VwJ3Rjo3CQuhrItiLAAotgHaMnuBQRAAADIAGegXRCvwACWugp6/Q6tjHir32uSOSY\n",
       "9b9B2dn5LEm4gALkj/G91QXhwf8c7r2BKyYM1bINCXYEJDQ4Y2xvUgIWmeoKqw2dbyr2Na79WKoB\n",
       "Mf2FlcG/zG5133nHWPBorPSr0E++0m3C352/IqSGO05nZSDyE2pATNTp95jUJxvOykObKKQJ/aRb\n",
       "Ao0k7j0xtSut/mrFSOH3yMF77Z0FHn2IMIcNfsTs98lcxHBzUsYdhPP/xYKyg3qbuKOtBhvHIlRo\n",
       "VXPRhc8LL45sbkTAadot9xjv5r/7wpDyd+RawFIJOiF5oVCy49lnQcfRluHZZEpHFnM45uqrYSlF\n",
       "2kbzhN4wB0T0EpXvHirbvbvGn3C0r3j/WfXmalpfeHw0tFp60RT8B8nRrrVhozjGqnDSbBlZNIE4\n",
       "SO0Hh2BzRjZ9s/g2kIuOvgyLvRsjls+G8y9KU4zBT6C3MTbivg0Ylm3tVlev39sVJct8VmIytUWi\n",
       "GbzwRJf3me3JSzKbvVD12gDmQxalIMsIVMgSSYwvM8LmnNpNWqErJG1v7cwqLwo5bzavqcigXlCL\n",
       "RmkwC1neoo47NVgvRDMfU2gT6kdriYY8GjzanTpkJydNi2PC4EFrIZIF+a4AtmDnKY1Xd+sXoLD9\n",
       "wAkwFZwIWqXPlp7Ei7mNvrdcA0RmGosjL9ETSBIGJf5NDYQ6I8We3LAzYNeBR67T4BMJeta7Z3Eh\n",
       "+BPma+KOCdZUZi1Se5i0P1yaW7LLSuFBfwUyK6+091BG3gjNmuJM5A1DLKlbYcyd/eJ5nFlszGTg\n",
       "lKyV7ySYg/eEmh+0eefjdfYowNI4VmFD5qyGRIntoxww2Dik8JlnLuifzuumrPpoOzMQW8OS0ELZ\n",
       "BDAyTPK/nEYv/pvaBco47FI7XKoKIhalbvRqBZqt+1Qfbdf6IxedqVSWsZTHseV5qQ0/tGV+HLyl\n",
       "9mwllXTT3qQgVohHUw+VmcwHSRVvOyD2rCo8tViv5jHJgQhqzza3KHlpVRHbj5GiDLnhL49gbRb2\n",
       "BxKFaP8JpzRCB4CKLwjGnDG2eKB4xWM+m4YsSMbWmtvW6A44AAACsAGeg2pCvwAAAwLpYH0FjkOP\n",
       "LjbSAFcv+hNH66pLz7sx7WVOZANiLuQxanKaKiblhYSozN7/ikPW/0ULWqKzhcXlApWVL+kGRRRA\n",
       "3tMi2Lh2Rs/IrsxE7rHHP1I5H1qzG+GwxQJljAoZn6/HYViwM0LVvBwom2A8nSGceGnLG3LuuCY9\n",
       "FXQVgwKacge/bPkpcBrVRO65wTELAC0tNWaIVlsFLsABRuL37TI2DhUECxnpl2WQkWLMe5QAJ3r8\n",
       "ZU1jFoAe9Rbn0EWQDECAM6+BqLVHJEaE94skCSSH2RjMJ8vD0rXTj2D8GkdflaZH8ga3WQV15U7I\n",
       "UUVrk4/+M4H6+UmXTFz/kv0WPcB3o1ugWsVIfU04yAa/o56omtCAaFld1ZF4hm0swT3uVYo6ewQv\n",
       "AXYqWK9j246XK/9BayvUyQnRbYqfoJR38aI3pbv+mJqZMWNNBZQ1wXzGPlS3ExLVXRuvnP4ULdAh\n",
       "1O5Y9jLr79wT3+cBTOP9lADHxm/Kua86yFsUPPYbuPHgZ8feIuiN1U6XAGlmmtgQtJnzRm3bOr9A\n",
       "EigJCcjNCE2CuSGt5xhh5eX52CqejIswHr39QwtEQiNXueMsJYy+WmSuRhhvDkruTW3dFle10XW0\n",
       "lTiJNPat31CxrOjEAn7Nj0wHmHVuJH6Pb5Y2ug4x6o0GApdi8v0pBviqvSN+5jxXYdRyhP7YXjMi\n",
       "eU5LX4A+xwDiF2kuYmwA/9otaZp1wZKsptMI/u2XGLXbEHzN0TxpdGCFtAS+ZOOoUm9geJKl78dY\n",
       "KZ1ok+lneSOwUclzk09/vTU1s8ypjcAdLWhxeW29a+V91DV8cw2th9CWDEwDiJ+kzLrADb1vMTXA\n",
       "XhnsrPrS8zRBMo1gRMNUCnvMVzfWhCUwgvGzFJ2sQTebANugB/qgYlFkGfEAAAvKQZqHSahBbJlM\n",
       "CHf//qmWAAGg+IMBE+pRIh9cQpwyOedT8u3MecAEOJOJdSY0isBm3z/sR11/UpgBtn9zn98bo///\n",
       "frqN/n7BeryhRfoFBHpOorX8rOE8KqIMpk5uhBS0yIcEn6A+seMBSHIBBQPHGE0m65tnzI5kn9yE\n",
       "ziQ3BdbVkhw+Ds0EsEUAVNxytmcpCwQi/+ohvmEIheAk0G4M1gVpCAwClWZwsnZDtUXn9n5EoLGy\n",
       "dNk6PeyXdSsdiwEdCi0MWUk8xgPcgEEw3OduOBYPKv+eMRE+QwGSEAcUc+cBVIIEX0jn5vPrF+f+\n",
       "gNtBS13LCN/VqxsOnxcu5+UyhBqr1+3w69GovmX0QhEuNN9l19S5d4cwzlid7eyUXykDDZw07b0V\n",
       "I5ymXoevvf8nAkSN+S+sFWFAP6E6/Kfu0PriQzmrtBL0hRE82wdEhlBI95lwRr908fTJ4pih+Y2y\n",
       "duw8xTGqx6kEIgEWr72sV7NtYrPjbIkQDsLcr9+qIz1UjMI1NlbePRKXjrFDbOv25vWxL1abFiDG\n",
       "s6cdjaOyrv6vfKJ7X8ko7E4bySikruiQblIB9XXnEnYYJ38TLWJMj7E9bnFwZsre54xCa0cujuqE\n",
       "JfgScyp541Rr4e0SkR20H2yatoNsu2LK4IcXY2p3ZIpsbsXy4VnXU8uZAJPJB3n69ngHoZJDGQca\n",
       "MLAWZZlt78wdsC5fwQ1eF67nVgMHL67+ZOuyqbGRC2eSu3bIB6hDcqWTncrZnyZ4jRvnJUiiPtNj\n",
       "eNKqzbA+R2igHgsLXDn38qRYocMCozDGC745VKDfN7FEU2y3tKPiKQ7PebmTBjMVu2a2L+Hd3qak\n",
       "xI7a10vJ8FVY93Tm0weUE+qwXFFOmFMXDOMKtcBKQI24VBI0pWA2vTtsQmj+yi6PP+yrhKx89Fzk\n",
       "OpuyJMLnU0EWcNgNGfHpzEV3o/kX6+OTmAn+uYuMSoWMu5n/SfQl+rPObpf/Dgu9mRTigilCZU2G\n",
       "3OHe0NwnFgkXCwDxz3WakQe9o6OHtugDWyqb+M0O5yLf3R0Ml7jR5rfMFjjTOuT1k2BdRItIEevJ\n",
       "Q3v4XP/UGIuGRuu4Y/Ia3b7B1Iqm6x0R7Px3k5oOOksE55jRP2TwG8db9QXeLcb6mI6KQTKnWQnI\n",
       "TXRPyvhq+n8mZmjwqfqFKOJWIfEUKUph0u+7HTXSPMIXG1u1UzQp+dljeDMzP2vMQw9s0A8WdezD\n",
       "2SGbA4pycwa9DBp/MjpDQoHLPodgvdNGOpFD21oKZmjjd2v1Ag8v2eZDhfPlZuZHqSewEl20UYrI\n",
       "VqG4ymQB6y0fcVXTuk2j0LGXdZ4FS8ldfMs8BY6Hw++EAITI19AunLA5BAEFpalJUqnFezXhSNik\n",
       "z/IVSGHL7AYoyMNyvfEMqlexEBI8UcJC7uWeH0rY78kQnQBriImsGQxabQgj8Qs4MlraqIVBCCp+\n",
       "Vo/PSKowNGfkHRaP/27LN30pdCWh5lZlZ+6B2u7tCo8SKrJ/yK4hpCujbPQaWvNtkM/oDa+zDWdH\n",
       "3Yvchwl8HnONqLD+ii9B0SPLehILWyGU995OEtMsSGdBt2y3IxdDzVjDDidwvtBWIc8N6WyvOCcz\n",
       "ns3y7zBbOg1LHf1z1o7JeN8bo9LR6B0+64Sv6izZTZLE/7+lIpIUyT1kJciRFqar2Hv1RO130Ige\n",
       "h5HwAdTCOv1zmJ7Dgort3oN5jMMlRQ6bgL4glnnFFnMK1j/JANtXhrTwOd4tIRC8UptpSCUHz0NG\n",
       "ILQTU/rkyyW9pLzYrG8IiNhFuIKShhpBxetAqdrhaQTrhCw9ed7TyAf+XCqGRKR4L4N3nrTGkyHv\n",
       "f8cidgu/B0O51Ftpylc99H4efjfjgwq9t8JAovUsQgrPvSt5+O9KJrj0CJN95yuaEFKoHtK1busd\n",
       "WWaaYRqcNTunJyQE7qo6TgslXRKwCTzlPhWtSNXiReyAmn1IXOdfccR0AG6c9E59wAOrfCORxkRy\n",
       "qgU0/V4YI8NBewSbwivWilYwhfkqahpn0HFy0/4EJYn5/pL75zhomuE2BWo4GoTTmLD5EmDniViN\n",
       "OgCcvEOAhtNsgQ6pG/AwT7R877MuduoNskk3B2/em60Fi+EPzXo35wsHOo7vINHS445Gy6Z/htKt\n",
       "l8wPEvw19klKeNRWx/wuF2Ir/ayiZuXrEevPMuiBaOoStD+PuDavNoWHHNh88SsFJalFpay/K4dj\n",
       "dihaJnkGXFtm4vlL0pQL4qmNq3fj8KbIrZmH6wnOfw216iLibawqXhHkmfI0RnzXhvt/VvpRoQTi\n",
       "bflnjyAD9MpXK2H4Ruq4oneANTfXSn1uoIZ2YWRMSx3cTxaFpzqXQa0THlWkZwuvKXIhE6dJnJzE\n",
       "Ecw4JQ0tq/HcbFE5GK1a3uG65ro3xWBKx+3aj1awUZBwnliidogu3CQ++bhaF1/inlHKmPXsUl6n\n",
       "v8tDdELSN1ByUrAokbH6csoVzeN0uvsKEoEiHjismmjWGM1d05mxftZwBygdnX4p510wsX5ApEEX\n",
       "bh2dPnteecsHh6vSuzT0F+MM+MANWUo2QpcTX7AaDdnmaVq6hCpe7nUMA38v5W5bangngM8v+qDG\n",
       "Z3/E9El6iVVfpFE4kTiPcDVr3VtfoBg+4YI2GVE6kiH13JY4oLwx0julyJlHtkQcWGf2GljIWP9q\n",
       "ZX2OnPNMiZcLYlvS8ZwcU3kDa+SVhNcBoh3g4didRrsWHI7e83/hfAkVgsAFKspR91I1ZLgbge3F\n",
       "k3Mj02Hi5KOU/Kccv8l6TvtoyneiyMkvySX17fxjKaCBwbnLBJz4YkKXUwaDuCZv0hC30SOfFjFh\n",
       "Q60VntCzckdP2HSad/Ve4AE17w6JAKLUcqaK7NlYTblL/G8sNUbvJH5vLMgU5Jv87Jd2dzNtctGP\n",
       "NkAf8uDOxpRv/K7eOG6ndo1AiH6kOTOrCZIPhRehwOGSWZR+kkXyI3arLV0e9qSspz6/Xr5m7MN2\n",
       "duh/+310X/xxWtrKM961c3+mvCjiCcY5Dlpn/w47FnpLvYm1waCQmGQFV7uVqewzezU3E92bElRt\n",
       "Md6N+E7iQB4QTQr93eCVgghGXovMq+KyJai5j9myWn8t2aLPx5BD6HEnIHeQRXHo3xLp2bZQ9826\n",
       "3P/+cCLNq8sAjziAg9T284T19o2YEL7ljr2UVIvHMW1xdcHjZwhClI/ETXXVYO+2JpUmb6GzpVmH\n",
       "qsIjBNJFlVaNyEUJBXYGQGeMoe6eXL/300aCLBYXk8UHhIV9li/0c3/y4ZFQmJYzMJFqxmyONsc5\n",
       "GSn/q2Wgd7+0N044zVcgQUx3rf0tkQgwwBMXtEbKhqeGJN3LqXJcaPHFcBLs4x18PaU3KWXqZ2v3\n",
       "hYTBB1Plbf8Mw9NbkX5xo37fV1ifgACqLP9pN48697vhi6RT4dtjqGidK5w0dqjLP2DlDr92Wwvq\n",
       "er5MQcnl93jDMgl1qBX2sujk0JVD3OMwPp/nb7RPFr4cDBda1VC+KlamWDnQY4qCtukp9JCrxICv\n",
       "XuXF7afAzQ3stZw9k6zb1/cNoEoEz9DLZsb3ridOYXvFl4n7rJsbKRdpfZHAhm55pk/WoVQ0ad/W\n",
       "VBX/hdEMUgbp7iZeQF4Ra0b4HfsBA0uQ/l8eicAB3WUCCs/tCblOQwclYxS856POCmu/8y5NfsI9\n",
       "BugJ+byM6FEzb+h91R2xtQqBPYsrRe3OF+5HqnmHlzUneF/c6hLprJB2nHOHhRWrlkGuVocoiB5Y\n",
       "iItOAOfnH3stjDexA/ROSSY+jRXtaOXCd50SEKP+gMm6O3tV/BuiYGL/Ni/Ri8a8EREURe3LqkKM\n",
       "6Qbl5dCePBW/uLWQSbqv+79kKSC7d2oVx7P61vwKEzkwedchXtlIjwZ+7OWWIUYCsmPoxh7Y3Fu2\n",
       "J9HSi99mTFsSq2SXEv2QJTawzFomcgiwgyKBwu+DgEu/nim5/NLXU4xu4uKwu+m4mrYAiRwN+rp+\n",
       "WbfxzNtW2d8Nwvacq1urP2DJ9j5kkWmQiOI+rniY7H8HH/vHzA1h8aK5K5qRAAAEMUGepUUVLC//\n",
       "AAADAhvnSjVnbQNFhICYG+DAY1Ldq5GDN7fuObV5wFRzjAEfieGrBo87b8G8JZeMZaws5GhnO7U9\n",
       "Dd6z5i2USaYsiSbuuTjywhILCn/b1PXUvPGd/oanJsAI21pbmgCWwuChaMSiIA8//T9urff52xEg\n",
       "e6Y0tjruYaH8KgDF3PGfCAF+dQsDUn6ua8Mq1bet+Dp+JfrJU7C1H5i5p5egZEit3N7gXvFfDxAx\n",
       "JjgEvMvHJrRYN2F8Gr1YUDX/MqjTKvzneS4xaGignkvgm/1sBtQ7uDCfJiw2XxOxHKuNIJd8IaF6\n",
       "MBdgwSCrFcUsCtJT/U6kuSjPmy3yb5QiZCHg3NpqEV7fxyTFwKwa4WvvOCG8wjaXgbvisupj+Jkp\n",
       "KDbL8JScupSu6P6cz8dmiyae3NInc0j4V2dNQS6eLjpXRgbNq1dqinIA8cAWxfm8K1MBoI9jV23g\n",
       "bMAWC24p4QY7PM6LrFhi1LNAxgMVFyw+QDbn+KORwP9n25tQNVUjqPyFxq08SjkOFCMrvo3+8U8I\n",
       "IL0y6mMsghANm08GwK/g2ganaqhqfM3SVY3U4TOnUtQJouqlWpV50PHaXvod10a4n7dT1FghAp/D\n",
       "cf4/gWDp+fykMIoWRU0seRJneBNdxlEzuX9pVRNo7C/DBvW/j9+zKZwsAlxXh1uZsFjewM5iITdV\n",
       "Vy4rC4g1eVg3xUhLbCok+CdsVzMT/UG5Kcbxd3CvP+yY6VlXElhzaM2gToa6ZnGIzyf8LJaDGTZ8\n",
       "zSSfOSDgCY/+6G2nCnuuwi61J1lijdJf0OImsccnDjLFn0GZme4FfSlogqkjL06T4Jhz6oilta4X\n",
       "8DqFnzeq3dkyaST2RmqsDg+Hg3tYcQz4wjBaFwjoYQj5u1UhSPfTvWD/5h+Se4Q7oAwt39HsV3rg\n",
       "vAgEjXxBqzgy2tCir3jscTn5dTiq90TMgYBtDxGAmAEhDTMeAmCGOekxj71EQhoh6gnuWmQdeRsE\n",
       "Zouj49Gsb+Sx8/MT6Vob/26UkE4wYNVj+ZBez8isMYvtey+TXvupFCOgWBlPKrJ55SHl5WCsOVHo\n",
       "XIfXKVlmxgcr5rzl90koYtdo1umspqrX3d8AGjLFRpKGrrOnueEkybdgoxjMR35nx5Dc+KJHztWl\n",
       "JvQwfO2yPByTSoFfr1ywlTuvQfu1eNHkbkBDYKtcRBXmgLL7Kn4VdoXaXSS+HkfbU5BwNbz+GKpD\n",
       "gtJfmtSAL6CoBS7kvrh5x61HRQxK1gcRVjqDTZ2OW7cLye/F76dpiozH1MWY/wpif8BYxstupgGx\n",
       "23TKra2LxDTn+G0O4X1XLzMmo+GqoPrlP5dxecGhRXaGxTFkClMtO8auczYVtTwLFnWqrYO8Cu7J\n",
       "kVrX4TwK2IbSLXV7CiHV4rS6WSsAXck7e89pZeArtp/YRkEHXIFBAAAEEgGexmpCvwAAAwLpYH0F\n",
       "jEqHBzuhKcj8cANyX1DAY9E56fZDofbAJyROffPL1eOnUz65x2ND3s0YjmBtEsJLSK2IZIf8mxCh\n",
       "cf0P8CHFb3tMpl+aWSbQk++QG1xqgrNJ1S+0ejuBypLyuCNfgf5Z/XaC152lR/wqpBgV4uDsFT+o\n",
       "MRGU35zgxQO+0ccnvaL6shWXJ1ntAJvWx5axFfIXmEdL5oq1WbH/z+GA9TV9biIWA/qwzBW69TWP\n",
       "0TPfG5keKaQ+rNXu9PZXy9P97QJatOgP6jd/QwNQGTxsNswTrjpVcPDICd9ySWCJWmmhBtjER941\n",
       "tsrpucYgdMIiCgj6Vu2oU0W3hzbgbDff14dGJoEfAaMgPwVVOUotB0Nlz5Xrec8ukqhhQuEmsNPj\n",
       "K32HLEnAFaLP5IKu0nHLnA4rFwFMCWYTyL6v9rCAqtf5Wla/5mClzRhQQFqH2EVhM3USrPZDOIRZ\n",
       "lYK4xgt+WwFD/Tq3I0F2BLL4R6wh/Wl1SjSMvSmrPeLDuZyg7CFb9JU99lvHCXApR7xLuhJrcMnL\n",
       "IcGM5BXYwZj96kjJ/2Wcl6jiV4Kz7erzhRsxpSpb9/0j+WyxZQTlILjfz4fDepqSCAnafUa8Bw7a\n",
       "wzUCNjRQESnjSxztpDCijQ9AchbAbxp9iEHM1tJf7Ogp10/Q24L0KwCv31SRMogiCG5sR5JRfqu4\n",
       "PL+OzsxoTg/L4fam6W4BFakS0LnmIO35Jq5C0PB0NRU+EpFTJ5TpJlZU0nGfIiut6/tJ6cOb7wcF\n",
       "3UWS45RS/EvWCcaoXb6Jbbi8F2mgyGQY8NxUtvXKxuwnSiBNJFJrpllYCoZQ6XqFCGuZ5RaVRv9n\n",
       "gcCzyOBe4QJ3XSgM0CXsfwIn+9SkCulugVaT1xDUqLy64k9oIxqJJ21KeSEwumBCHAPAQAJ8pPVw\n",
       "ue1NcMKqDF/z5/mecD5kKp52owAroWioZbwsXN4x7kUcL4RmAzzBmjj5xfry4LNLeffs8FBfWZMB\n",
       "AKb7MRxk13egCF224suSQ/9449H5uJ8bMcR3V4Phf65GArVdXF8S5mrvLOAoPRiZfarpKCt6muyg\n",
       "Uex5t+ZF7TBqAOWljm1eUNozT2BapSTxHGbQwwHUCxuVopnuJA/gvnLW3GfCahYihtx9N8ZBjtUl\n",
       "4nuWl9ixZ/iSR6iewvUajC5gCumtzEY0ihChqQLXheD3MS/TLNhYdpDk/zNocmQjbnwwSMAqcn7j\n",
       "/sJCqEHUIH6QiI0rUGzRDvsX3eNsBUehQLmX7XyJSTX4sp4/w0kdlmGya79L6fIAs55jtcmoJHAx\n",
       "LPl3Asspmkd7MTgfI7FnIwLsPLGS/Phd+VtJFcW7rS49ueQwKYwiqruefn90Z0s5Kh8zTtyuLwAA\n",
       "HhEAAA6DQZrLSahBbJlMCHf//qmWAAAbKULQl/hpXGErPnHpQo1uDJzseT/huEJKM4qiwI1PFD6m\n",
       "r0SndWIPIL5QSVplmCdtmR4sRRJeMsN7Qd/zRv6TyLpFRYXj99PbUOqaK2PdgzJiiL2uJfDsL8xS\n",
       "52p2mh171fE0UAqiHtdIPbd4EhwJDoc5eaXuQXkuLdn80k6MUBl8t8Ydy4Rt22X9/b7TgSY11V67\n",
       "p73rF36OUsuMlG0wBDua65ugiwlJYhJIBlGw/UrZ96UDIyPP68KWaaa0BNgFF2RefoiWItt6asxK\n",
       "lfIzWGt1YOIbB64Z8mGc3s7Wku2eY53WRL2lYiRUQrmsaju/flDSZxscujFTmmmVy0Rvq6/1w53e\n",
       "MnNyaZhB5xXXvywt8DYCyx61mIoQoyEM4C/nGjrz+9jtp6Afn7Lyw4qbJ6Wf2MnDt1gPweT13Erl\n",
       "Mi2L5/Hon0oi2h9qi3s+Cby1/WmlHvJewB7t7oXGrov7oQob7SgzI1vXidv46/UODxN0gLLb6YVd\n",
       "RIHOkzyz/L7BE8vovar1L3j9fGx2xNkoIAw9JIKd/O3KXuwcoC9n5gYy5LA2OVIbFMEBXAV/6Vsn\n",
       "4FZV771t3SSIPIzi5djl+PE4ch8tg+izaSxf87ChfrNypGCe9q7VLBDxEXn1W+yDv9dMWQd2QjEb\n",
       "AuzZcg8mUA4iDBGE4s7qfG6kC3StCAXHStupWiylnqj/G3G9V5Bp4vmExjeQY3Nbgx9wmbgr9n8q\n",
       "n4sB/kHJgciLAjQhmoPItDXFMk5O7FSAWhWRBRCdHrCV28vV1B5cW0Z7FeaAr3ebAnLmgfJ7tMwL\n",
       "dVeOWCTxWWHJWhJkuNSalmVsF02PdsETQq19yELh6mu0wCgQcE/VUo+tOFFK/LkxpGa7nZaFnH0E\n",
       "HAru6z2RZhVgduxEkzGugP4iiEm62kf8bOQQm7N0rFz9aQMMjIQ8PvfJj24CZir6OG3rbBzI4EMn\n",
       "fDC+4slfoeM6Yfvkbd4t6+DS6dAaOK7BrlHsGf8Y8ejcUmLqcXwH96euRq6b6O+UOtf7aHfCylTH\n",
       "ovxZLijg+zUdvuz9ut/Upsi42chkOfZf4jahnjLHJsGWwynaHbAncHwrby7xTQhGkEMlKpyAXM5m\n",
       "rHJwJ6WZ0C2o0Y0HpIYUj10s0upMrRI7sAGmiu4QkYanaiPhrNjd/+Yt8ZHJrQ57gUTLMuoWoH2h\n",
       "uxiFIiAkOhmQTv3oweyUlK+wlZoexO/ihJGj9ZfGz6d6dmBk1TLw78h/paRZ3VSOLXtNgJccq6/n\n",
       "iqWRGqGBgZhzZyU10eKJAStKNjTeedOUdKMFvDq7xPiYX3vthUYQAPppDyX+/GXfhaYjcDfyqVCJ\n",
       "UUCWVhFTGT+qirDA9ne9I6DGxUdhrUJNHkrwOL+092oLp5GPddfz5LBUDRVF0iR7WnBakRgDXjzA\n",
       "RJ5xOI0GVEq3WRFzWO1XqzbW0LBE2DNjVjIWuh8QgeLzoGTGA7lfzRsghnsIun81tr+41xqESzwU\n",
       "ppVTNMIunQ9t7G8mDDQ9acOqN97EseBzbPUWRDJbl+e/FLAiknCXPm0Sb9plB5qoSjZkfIwkX1RC\n",
       "kVUctg9Lm9bcMfEaXO9YsTQiakBJV4gTOzixohRrvpAsgmlw0NZ0OqYnYkVOvPbq9EWp0ou9UUTJ\n",
       "FTolxX7kbZbOyfHG4Y9Oz4hTO89MbNIsNbY3or67LAvpI4tisPBKTNksibfQQOtY9mA9DaH/ySvi\n",
       "/MX0TQjufEkwhLA0OkPz9f5WjeAyZR6NwJf8u3yMIxTonR8pHhkquBr1jz7ukSNpoXSHlK9gCXx1\n",
       "61IFLq95qhZv1rDx/mbkln2A8cU+awhcjI/Jyq8yK3xHNP+jTmAXP588/gS65LF5Rc/5fNQKoglL\n",
       "HwC84nyWpGXUHjk2PKNCFjpVqGBPt5hP8sh1Xhh1amXBkFSFUdld75isgpzNF+g/Xf9CS3x0tGtz\n",
       "68xfrHWCtWShqZEqB3e/BvF9wONrgl40fDI0KtX57e8VXKeIvxgbHxmbo2LPmF9ca2GjUoPW/Utm\n",
       "DdNufPzxGKnjvgz1lJ+Iub284as+r1s0zCEOedXPYr8TDxTfjlaUDR6/wJE+qT/h/QEHWtA0aN7p\n",
       "dxow2tXfpcu4Sk/3TTvR071glS8KvLjkL5sQ3Bde5c6rk22ujPXz+E+yAs9K3mJ4pY0oQzJ/BiOY\n",
       "C25hjUupKNJbvzOub52VKZWYu4ZdqcCIMWOeayzS+2vvGRPR0gXP79wxh+j9yFIWfH51sbvSuLiz\n",
       "2GfZsP2Da+PxeB5wdf7witI0O8gm97f/R/oxdWS28n4UFeFMZ7qxO+P911ts8kOEOITqUV2g0j+w\n",
       "F51OP9ZgWslDY/zkHLPvmWnFZuT3cWAnzSShvjIPuUumtBpbORKiSUAsNkiSvUMRrY6gCC8+76QH\n",
       "xx2gZWr155aXJdr0FQwmO9ou1yGaTqAFxLDO7HSFd2pO9/AfdJL7d8dKbnCO3WkTOX87HGP1yKMX\n",
       "gATgWoBvuBA+pkSZeeil8zuEy17gAfHaJn80qKpIjKA4szS8CEminAYnUqKlxH9V6Xv7QUhzr4aM\n",
       "42H5M8wF7Cw1SwOz+m0sOicbbRwRGMaaDqp1RznE9uIAgE3SVN0M635ftu44GkEnjXdFsvz9hkBI\n",
       "NHJc1wjJsMwSEChYSrU4K8fhjAIo+V8UDecxHxnOujwbddIsPqFv+sbOH7mUQRztnd5YGd4r6SYK\n",
       "abrG1WzWdxmXGQRmzzixd2nFbe5INmAu3rDXw2H5kTEfyyGKQAFOAQ5q6NlKx4xLyY0pMkhePbdu\n",
       "87SKl8x0RiEfWkZUQBcOYW6fKUeNTj+7apBTxL2GYJOEjz9LoM+IvMbknhrIyWXu7U/R9xvWSUZk\n",
       "J+3pZfAZC6WOq1MVUV4SdMyDp0/c6lPtWHGV8Twaw6AS7I9FTRYAEOqRO9FNcwTK87iq3se1LYhR\n",
       "5HySyWIJlm39SM2Q4fxxCXhV0Q3S/fSAv951Tk9b0YGXV0j/eaRk9DsDMdFV40d/n2ywIeUTdjX3\n",
       "FgB9xrIKGpwbrDCyYruSXntYup3A4/pjQAw/Zzd+2OAcPJRUuSBVsmplhHusbrssS6HW+C/RqMqR\n",
       "oJhtMQUInrHp8lzQyldautlLay9O61sJPpkl3LRqF0LXGzG1d8IiF5uofJQjjFsJe+rVTyYmc/Ru\n",
       "OeHjrzfYLt41/n8lkpoVU+Kw/mNc1UpURfvRVsIs8gojAKYTFat6QjV3gMAkjfsttlMw2IEvLH4F\n",
       "m9PmWlZJpe5xY43LqxnakGzQuCx6NWhtiosi3LBSQQDMI8Zd6DtOYIteFfV+il+Xh8aAswdashQf\n",
       "uEavVhyAGj0ue/qr9UQR3bMoJIizlFWYxlQ8qIG/4xye3xmwZZYBtRIi8x+hPrI36PYSSR1sQQaY\n",
       "tZIsQ5lgg/FCSQFxmM9h2mwH55/x9ZS6P9l5Wv/+uK26GkbF4VivkGPEUwkgY9AgMAMu0VztShO/\n",
       "5X9n5nkI+Kv+DMSTwudaeM/PQRYF5vt0D6bN2T0MbHouF1EeO7Lj9bvlQQe6nA3zCL9G/tiTD2VH\n",
       "Nevtr+jj3N53qJEapV1Sz73Ycvl7jc0DQTtPZR/HUdjqJkcEzTo+N3eT/plLjYonHex6zEi1flwn\n",
       "VYnwM2xtio5yNCxwpVxK/U7BSAWEhhSRhHgBXnmONsuShZjBoyXi4PkH0eLW6O2eWxAVEBe/SIY7\n",
       "QzRM6C0LbR/DOXlJ7EgKRwriBkRNj5QM0wOKGLJ364ImTBPaF6ZkPZKKuLo/rtuPq2CKrmQ85oD7\n",
       "VMhDfdBkQuL/6EjVtXYUns2bOhmV+pqu0LCVw2TRn2D2D522+Pt/KAvc2FJg/MbijPXKDCOfmwiQ\n",
       "8IPwCONZDKdPVkMWLBlwIOh3mPDl+47IKJZ7eJWSGtaJsAxVABV97HCvMJgQuu5+S/lPtKe4DgYS\n",
       "nVvMCz6XGf41quFfvlGoQlmdn//sHlpsp8BCbF00iEwPZbHD8YDloz2VUL1yDp4q+4ljS4B97vHw\n",
       "32OM4lylQJR1ov/tPyyJQ9vVelNv/kgFfGnVp45v3tzv1a/Pm/EbjSGdno2uKpQLAH30usSdFzHl\n",
       "A+gqpqqHYwqdtpadsiPVtLCRWTQuQRFPlcz9Rh77jr3/eKCx1pQupX3leaWDqBAylAOpAijmoPAa\n",
       "UlCWHofVSauJo4zWkInz1yf40AiUVmwBxzjy1ns5OaDTAWRnFoKtH5wNO/6l94MFY31/BmGBZA4i\n",
       "v270m40svjLjZhzvn0FmWqMOeC2GaPkg1RVIEQEGlJQMJl09ehwfBPxDaRJIYwvvG6uY2GgjVk9Q\n",
       "ah4RcV3oJ1WuEwNGGQqJMCAlqY+iOuWWUQXw9Ln6z67fceo4ohLza78BKVHif/ziiiGGuhzwjaBt\n",
       "foPrveegOda+Cz03w9IqvJgokGn+RCvSQv7sE4pdTq8U8OTfGx66L1gre9JpQPh8LlZDvB7a70Y5\n",
       "LzI4PRVGDCWXDurqEZaWbjTbOL5NMyvMlDR7M6mYhmZsP1tW5mamTiFuaI0ZieoVgSO1o8J5rTIX\n",
       "KVrp8iLTg+HezxT1rJ+9C2kCS1QQAjey+bdail2GeHsHaVWMJnogu4jRzhee0GmCYmCXyC5S51Oh\n",
       "aYlNPXssagi5T0wLh+pYyGU+XMna2MunDnBXncyx06qFsq87Mr6udJIin+z+BiiIFoJ4SJKiecmK\n",
       "yp4xGI2MJ1Jq57/TmfU641xy+wlMmJzDUk3sfkCRGgm8T5A/3nrzyYw3ZEMmQWFwn2GL0I71zwHl\n",
       "HfhkWCRi1E3zRnn0uS1dzsuslPUBA7c3VLJP9Zha1/FDjQw7zFFO8Qmix3+mqd44KIUtwcCS9Q05\n",
       "1//lB+C5qbfu8MjppQbpbW4VpudMiOehqPasfl6/Mj5iWCILss+2hoGJgFb+xNyrY3jYEhhzWOjP\n",
       "T+yftRsryAG+K1aRMABnwAAACDBBnulFFSwz/wAAF+NdlbjIwXGy2NQZYnJIkZwLUAC6j6eY6MCO\n",
       "aOMCWlmRQUqjTZFqAvRpmjWSUvBFZkT2CXYCZUlY48Bs5k90PasVLr0iAJU1MGjWO+TGIwO/rczs\n",
       "IOadcg5jYmp8rHau1+ysbxXkbpVrmkLu6Bt/c1R3/S1ctCLxlYNwdmKlZAkRHO/6d0lc/exHUIcr\n",
       "Q6XEdWswFBtp74/KPUdrXlPexhjjgDCef+O6NKIiPQZkAW0mrXJ/cC27HBTzLnCvTDX9vrn+bHll\n",
       "HPOybjiI1rcpXESlLfwfw1iqbmRzRSWWLiNO7xiOLBFXtmEjEmkU6+YcQFm/6aWOSW3HAvaTEo+f\n",
       "R6Ty8+ohGhnihl1HjQiPKedQoCyCk8pZXtWsnYlkBMkh44Q+E8D8UeE1wWndBMaqXYAm+Ru6kRRb\n",
       "8UJ9cXOfSrke49UMgHuJhMD20ip/BNtYjYLS0WWl/7zCjLPwZ4yl4pKTXiSYITX4zR8avhrOzSDb\n",
       "HqkCc+XDXKn4DIIg0lZBdh2VaxZgtuMvEO5i2C/Q5xoGALRjIiuz5xTPcFk53KdfI02XoO57bMNO\n",
       "B7Gt0EGPA+Zc3CtPaTp3QiazIbx5655cJ0EWXFcFlWR0sN+vd0//4Zt3j37o8mEs5MV2xdEbn3q4\n",
       "jr+V5ioU4ePav11SrnsZSbUmN5fg/4DoOEZWqSX+zNx2yWWTt1uDJM7N2YO261oLtwVdNAP3Jncp\n",
       "PWrp21eZxfBquYB8niHNNQSJBkZyMMk/VZVvewaNee/E7EFbb7EUP8Dagn8GvKTqP+jE3n92hl1+\n",
       "Hlv0Pu5fiQviVA560RobLc4FVhKEyuBXv93cPiyO0ukqB4uUMqBFtBh63ObYDjykJZGMNOTmX7/7\n",
       "1UdtErsj9t0AtSsZqp7EYOF8/EXwmYxGf8ZkPPiduXJPIma6be+WL22yQPsjgdqiRVN8geyZ9Mhm\n",
       "DMKh7jZlGaJZtpher/IWD1PZUZFn0lSq0RZPUL/NbDjYe/vfiEQfw2afEEkkowLIx8EGPzSrxvsg\n",
       "h7O6AKV9OMC+oDiUfk54bR75Y099SXiVCKB6eH3vuiuFaOzBzh4HhBkACn0n1TgM/I2ycDzObVAJ\n",
       "Z5ftXwAnETDkYImwwJFPOZBULbNnTYfJxRiChuNSpf9pJ+uKISzZelEKk4apzLmpWsFl5MrzLxAZ\n",
       "8uCHRFIj6jCeqYKl8JgmJwcsl4PYRJzBqt2PajNiThVMS5COc8++SgCBwVo6Di0S5Y3jYQs7Vz/q\n",
       "SVZ6yidimg6BDfivgqxal3b5Dxa6Lm/Omy+1rgAAmDhyiKarD6figrzCrVLhIiImr6H3qGhGVwN2\n",
       "Ic0qRjDmeXxeePQwwom2FllBoqtz+LHcUSkmh5B2TKdAt+f1GZzLRTW0hWR6Tbz952lIadtllnWe\n",
       "gMIIc44ZQNDEIhl0BqQicsZNSvfxWU6MYLWlilQeJ9w5OTq77lrvlkZAlBPcF5+1TnfiBOwZI/r5\n",
       "QJLK6b0f2TEJvkUA1fAblDN0x3bFHjGe11AvNP8Ez4zldiNDERABf4myaXb1Pse13/AUAAVjx5aq\n",
       "TeEpk7Ra+5WfPM/lNtEk8NaAtIY19lxY0CrROJSGMumenLVTLb5wTZt3YKlCvaK6BadKl7YwpyF/\n",
       "YvNOAf1QgMCM5+1A1So3OItTqQ5PPvFpNefjDguPjjH2LMCcQp45ZQnqk0y5RJHTUOtpri7THKWP\n",
       "dmTRB+nCKfy0tdNFbNyRWYErgKCJ7enYe1tR7LsK/k93yjVu8sxC9znPLPkUFilUZt11jBZXlSFs\n",
       "smnKL27jRyoj+l4M8Dll9lU5Z+dbHSS7nlVsi9/OR5Z1i1HRk3xozVDKVdhK0ksoY9nFA9MbDWli\n",
       "fuCYUwk7TwBgkbWLJLF72nqXV1LeiA263DQT2VUJEsWh967TcQ2WCKemeS/n2aFJSHeptSqn/o/a\n",
       "kBOs4MJCQrr+1+K3GDGc4V6yv7iyu6HZ6XeQT6gKy262nlPfmeyZmO0vuM+y/iRuASMsbhIUJTkd\n",
       "b+X5rgVE++cTC8/ydTs9831jI4duFIhhcfjkyO5mMTujXB4yRFU/9GHH09mbSHoem3uBCr67s8Nm\n",
       "uSXj4cbYPOJehvMhtHWF0Kdc1K/5eMCFww5LKtIcWpjMDmWeoZDOvEoVazjjsdEJPxsRODpR/YWc\n",
       "SbnNd8nv/HoYPcy57yKUs0JQNOY2NQ4d4clU6pSIrZURLeaS23uknsr87yeNwO9Q9NF1FSvaa3qR\n",
       "/oRbSNsPLFCmRKLG0w6DOlLvOJACKslddi4uTFJK6fpOQxmVE37IX+P8tRnrDJrfVxdTkysWgCzK\n",
       "KsPUnslsHLQn9vi4n6uRXGtuIpND7boxuRYM3UVBztzVU2D8He/XGNoaTCPPE9wud2ID1R6xIQXI\n",
       "WZ5BmDkg/0XuK84PT4jmDNAeTc7xxOls7DDnRe6Cs3nvtehATo8nVrmC+Uo+P/eHsnP5OHB/ArC7\n",
       "P/uHy2B3kUdJk1vgpjlyX2/4vZZ79Y+hCCoFJUp+3jCGHS0QbabO7Ud3Gb1cPXyCjD7xBGBA8jrm\n",
       "xn+7Lkfe+NOWUw7uV3jlZZE/TFT5NgbyrJTXd7wXWtuGfgy98EcnL1zQvi+KZaqwpeIv+k4F3GA/\n",
       "EbJlmOKQRZCUHsD7TIItYl8XW8JOoWlz6k/nkAG0zhZyF1pIKWFlGwzZ8ccdfopf2WUh0O6aIfIr\n",
       "D8QdTDIKPAmkmNG2zQ/VnJxPsGjmm8mVA65mIORV0JqhgoAXAuhp7ubFsKkxkqJBCIDIYPp9HUNJ\n",
       "5dcHa4DagAAABKgBnwh0Qr8AAAo+SIsGvh95AdHFgAIWhFYtaSEX0JUHaLmchFKMlXVsXvIbwi2y\n",
       "H4JrDYeCYoQ8EugNbt3cCE++NIu3LzW20KnmQjvXe60H8W1p8VLow7KX+GJkeo+dfMsLsBVFY2ld\n",
       "Azol/Z4TcLScxc5+4MMbY8l5D+UksAG4ahtddQ1f3o/G1xbG5pcFlF2+LTdC7yLP44A5QyNlnHCq\n",
       "/8IUggQTT48Qt71KWxxsz1fwmzp8MfJozGdFZgUz3O3hvL2dlHKeUKPoPG4+VDUJRhHUwCH68YOI\n",
       "611SgWvWtm2n6LUH6W8uqGvX+gjhbvN81qVH4gY+vNq/VKxBmEVP8g4T8WtjmsT5tLOw5KMWE+Ol\n",
       "7AZZLSFPMwN/XpaqbNeeOhCZAo/GdcHWcV2j95Nwn4arumOFYfj7QpjEuErQZdVzDisi470Knnp5\n",
       "Jh0do6pU2BF1ZYV8N6Yb7JPRR7XR7fwbMKpo95n+woUz1LYp2AoxbK6wFoWbhipRMdnswR/A13hJ\n",
       "diwErHtaL+JyfuvrXVBXpSAu9cTtp8bGnNrpcGtnJmo94w9jkjAg86OirPzeyKZHY/FtmMrac8m6\n",
       "KXKwp2dExyQamxqLxSl5PQpIzh0TdHrkxIP8dTVqtyXmxVx2QQ9ARbZvbmOE1419K3VdE5zeTuVW\n",
       "x3bSGi4AUHuongHhQgozbAeYTEjeoBrGYKVdDDSP2KvTXU3OFxEiXP3/qA534OtLIHu3um3IPUeY\n",
       "4sel9cKYLf47KyqVES6Q2xVdo8Q9W4I56iexMJfK0G5hNiCAcg0prNTn8kkPjhUOwwdvqYd95Oy3\n",
       "WmvC+aI1GirBHmlAQ03/cyDhVMl6oH7QHXTJZrb2NkAKKnYMj2lq6bpmyXnpXg5ylXE6MgoZBgd9\n",
       "my5G3tR4ziDJDvCTQg4D9Z6ZUyRItXfLdkrYPq7wvO4Xm/hCTgIeKRrzKaQ9n8I1vsogSn/Z350C\n",
       "Zj2avlKE88ftlxjmtfvjoOEiQV3rjdHRfaISvdlwTsf/vR0rl+aQ6qvrQKCWl1QpAuA3UC5s3SBT\n",
       "79sUl626kQUdz4v+62vTnZPUya17B6u4VW5pdA4gSyWazlWAra+1dxJ9mnSPVesgAXmG6fvjGHRC\n",
       "faq2nHSA1SsSEbE8K3vonCUNcULbX3klLVUpiBpilSq2c0654xpJshQxNWtG92hAM/kD2UVaYgAI\n",
       "nsKDAorBK/ZZQ9I1G343HET70R1ovAlNv66Ui46cQ0cf6VMBxzZnJCNUZamIS+ak0/5enxXTEfRw\n",
       "PnN9daJ93ysKelNdd2m+nJdFCeaTjT95xn25dRY82bJEiWTRnlcnsBITnaK6eZm+nMk0ZNicv1Pt\n",
       "+5glXxMS7O+x7SeMU1+kMtbWbPGAGNeqt4djwPY+iTsIUpXcPyaQigUTPVTqOjordf3Y+LReWr0c\n",
       "mE9Ruf4r4EMBx7d07a2zqcJytrtHuYE6/Uw7vQC4kPFCxuYma/Vaf2uGcXrFwPUNI/4mn8cT4YUr\n",
       "+WUen5OYTzC9ESi1K///AIP/oOrXeej+fJp56H1uaJKG/jmLDupgybhuBfQmyeL9/xK7PX3spTlQ\n",
       "Rud4SAfNAAAEfwGfCmpCvwAALFX8lxZK1bppL2aaYkcfcoKoVzVTc0o6PCxKvOeMBT+A4o8uBBDm\n",
       "Kw/F4DhyNYG6hnPtvrYAK9L42JiBK5wbKzmxix1kubGXjqIHSHDOSj1g0Bz6b48AuD7WeZge1J7S\n",
       "R2DOlTB3100maBgIMHWfu4c7BoY/QVLnmSUaFonQQgBjHfXlLeJdtZkPZ5yv2ScFMQvvch0uj8KB\n",
       "7SMs6tPYShZkh17dFrQ5Ea6TPRWbPQUT0e7PrATO0KPpo/a6/LO5WVtlluMhvYjy+a9UqmjTOvsK\n",
       "fpTctfN5t6oKkh9r0ir68iiTpnqPypDWldDpNs6aPBLJo1mPVSta8uRryd+Rk3YyBQZJfveo6ULE\n",
       "kybC9Z/o1Sejl+1/P6+GfIENTtLdpj0wB62r4SybYwaUfGyNgZ4jGn0CxsSNWt0bmCJMoEqFgyZf\n",
       "nCn4oC2AtJ7fw7J3sIgopcQ59vuJjCzSk3PNfoxz4TiJN5YMWuJ/uDd8gXC5yku2IJkdbYtk/6gY\n",
       "X45+BW31zLvb6qxVuw+4OuO+8ouDj+qRkLge0hhv/jOp4eUgx8XJsd8nIFLLBSfMrNUjmuKa6z7z\n",
       "HfgT2nnFICOZqoyrJEEZ3QGy97HL0fare88mklbCNwhfXeaC97BUHM1YSqLculiwgkTSvIZe6sbM\n",
       "I9bW40sv20phgaBHPdyhanQz2OqWpjtdPt4AKbT6tpwxq8f5OP3s0mDNK4EZexsdQNua3tsC/Qiq\n",
       "F9rZOt4aXN7Ca9B8aW49TUJZxD4pWMVuBi88zBxDFPbfqD+QE4icn5a3v3wbZyILjR661rMpac0S\n",
       "9nucP4qncXjVqXFrkD6g7qJVM29hAqBh9a1IpB+m9ckiWCUO2A+7o4fDH3v2sJop03nCr5OrMmqr\n",
       "ZIon2FpwbuB0j+fAIcu7H/geyzf9R6EY07UBQXes+egBoq+4ybh9QYuNviqRjxZQSu3AVHz6L/kz\n",
       "px1JTPJQa11QEHF/t37SZ2z0jzdV6P4QvGek7lOmqKQ3rYkY2LBvk2BGiD5Ji51TEZ434y524GGH\n",
       "OmGAVprbim5UsKIBvvH6f8EMzTzk91DXFSii2KmxdZMmd28fg2SFCOHZTRUiR7dd0rAqctmqZ7/W\n",
       "eHEmq6WGkK3Ximkf6OWStLCsPuFDck+W3/QBYdqFeJzUAKTC5gKJFh+6BIQj1YNe+w+5HsnskMXa\n",
       "EsAIPyXJLAA0aUqk31tSR5H+Fjiiz7w6BlvmEV0Mihw3vZ7r1ySC+a49w4zbE1cupNX5Tfc1rlVQ\n",
       "G6iJYGNnvlN3qwqLdZW3PKRaeoagmevWo9BeUts5rXPBu9CzoSnlgUQkATqxGaimDk3/giQm+lxQ\n",
       "mYXGj78ww7UA9VN4ZFnbagDf12fbb2W8Na6bORVgMX1s6Lqfk6j8FrYEuCm0fE9e2GfVH1D+yO4y\n",
       "GY2xFByxiJwRzzfim2MAjkUqyX/ONBuiF0YVEKr2maBqFbY4tD2Eh2tPKTmzYpuxJpWsYqizH2eP\n",
       "XeTKsU0Arpjn8jrq44TvzNJc5Al4AAALsUGbD0moQWyZTAhv//6nhAAANj7Kh6u+C+/yzWuc8TyO\n",
       "pN0E8DJPxU5fz8DN8HU93z8bltDfYu7LgXKkI/Jirml8B4PgoWgbS8FhHdabGQb1tzgIL4UxOYyk\n",
       "nf9gHtZI6WexHJIMEEFVUYpcCwwnxHgAVGHo2fAULfZHBFeKPllKEKJJzlR2++cTHUwdxeIlNfeN\n",
       "bzAAjXrI4nPgC2v9R698CIlhSU+wIUOM4vsyhLelgHihfak+NbcTqOCRnmtcm0RugS9fOQWbwS6o\n",
       "4nn7nkIrIai4fEi247+eSk/9m1LqwTqw9IAG3qKYw3Zo73iylGQQB3CWBDZebddN31Z0bU7HiXzv\n",
       "9rAoK/eeMC5Su00WXHMwM2dfOEMxIgrq4sSNK9xeH5acZLm12mYbv/49Rci7U7dVPCBHWRZZB9Oi\n",
       "G7rn1pQmIdxAwyyFf12PM26SkVLVec2gPiSNbk6UW7fXKWSRqEggeu+2a8Q9sTZNafKu8wgVomm+\n",
       "8qyY6XdvJSjsapf3kwiZO9MyYSyHErmW2Y07rMgfjDjSsHIL/WRvcs0S16u8yTu6ABGqFaDD6in4\n",
       "2SB8f337OIp0jE78UKQGkDnUzMWuNSIgA3nBFmO/Jwn1eYp6yyXolv4Glp1ZN1Aaq8bzd3oLSJjJ\n",
       "18XZNF3PGmO49rhQS3VlfxjTKcTqR/DOeyHEZIOyJpWHkECVLEGgBqE2xMCW7Z9iuuH+eIy2QkRi\n",
       "ITPH8THDQAV3Vrr/ucf56USJd+D2TzLyJdh36oI0edSP27bjke6jYoVR/sEk0x+K9NpFmbEZhGoj\n",
       "C35zWaI5acMqXKYLwrnat12J7Od2TtqBpo2GOJ4En0Y8dXCXazDTQ6ewv+mL5GUquds9PAgG25/N\n",
       "J4ilGZqeCi8xcSx/qm8TDxbBzB95lezRn+I4LG4W+mW/6zc7nDWtFk1J7x4gowX+pM2bjzyKggdF\n",
       "yreZFdQWxWBJmmwVjnr57xiXbeBR6RWbn4UGCA17joXDjxT08Bwdsr7gEUXtwQQllXTUEQCk7R19\n",
       "8U8RsP1QDflaH0uyhxg7OtyVk7MvZ4SlBHhfqEnI/Rr6sYbbAyzjxz/C39f5MY6ft8kRZ0puF7zt\n",
       "5FKMCSpT9sYU/Fp+KQQgNg5uKApEy7gaId3oXCokelcq+iWgEX6ZXk0VHxIDypG6n3PWCmDRzMPP\n",
       "DO29K8aQwrvXaX8zlwi+ZfIV3gKaXf8ajyHYLJKEcZNo293K6msTyXFXL3pW3/zoDDy0MZfWqW4q\n",
       "42XGmFNjgOBA31Ge2As5W+hs4B8AhZ8tAEMwrDPkeUw67ZFkoLpzXyB58q6z2i9Yuds/msTpbZil\n",
       "i6WIOo5cEYj861y17GdQ4iUj9vrLos4b9vEgNVvXgjhYs2PwP0XCPA5uDIooY5DnVMH3eVip84Cu\n",
       "0fXn9bxxB6Mgslwzdd0KpPvx/Uf+dlFI6HsXgvxMyzusUfJeTvvyirWdiyXBHUvYFZQNFbzugYzD\n",
       "SYz476ygR/LLDrXJf9ltrR47UI04oduIs3SEbLgptkZwieEs/QsUajk/uWkFpUkVy4odpdNQsXd+\n",
       "ogzbvkHe8cJoriU0r8v0+N+cLegqBynzXnGkRkDIhFodoO0cMvyhuy9myv69q4FlLum40c1vH3ES\n",
       "egaKHzS3PmlYkFTdbpmbSukSPWytVOWbHNK58aOgZ/Mbu2tQVFFZ8jzYr4C8yMuefEerTUGylo69\n",
       "vs16ilHFODRmvx6mj8z5WS/fkt4kaZ6AF0YczEwSqcZAkdIaDBI+OZhk8mvxCxttqAu9fFawPoJY\n",
       "CYxEypuKXzHhyYXhvVWcdaNhtsDEaj+o5XSq2JdBwwCtFxBRvwcki4ma/Sjzfpm+HdXOo2rwEaJh\n",
       "PHlSoXdGWSdcwc9ClkH/irhdLGBQ14aEtQZF4nEfOrEMAvQDO6Cz7nOwG3f4gsKe9xbxHFJZ2Sxh\n",
       "SPk24A1D3V+DD0rwO/Zsu98QzOE9nKPY4ls0wqusX+4eOcwWvwqmdx/Kd19T8/1wkmMYnsv4aqeC\n",
       "kY/rp3TYAllQeu9A/wubsg3cf4OpspwTzNYZJ8xzSzy19k4SQYDJ2y50XEbLwZMIDmaVEKLdGBIQ\n",
       "HbJKyGFTTn7sshez/1b2KZcWwOyQ+aPp3BJZGKLsVkXRdK7yMmezJ8Gc7xpBib2nlflE/KEH7S57\n",
       "S0Se3TrB9cPLiTfIuuWjL8HxhggP3ut6HJ7fVN3VbNZg9O6DSJ7TF3exC2PW2eM4xSXkH+QJheNC\n",
       "VJ4hgKVFUyg3/yFZdPNYqmIitcaQekO0lAPHUkFk5F38qfFeqHLh8CM32Y/ySBMuEcUiOl9EXAsB\n",
       "L2Av8lpKtRt4KBzTX52nGVzDNIAzrhZZlu0AigJPAiLhx6DQrLeKn4gkFyOJZ1W5Jw+Z9HrYH7x4\n",
       "las5837h1W8V96QkA9j6CaGyve/mLNdTXxrf42lrTrnVNk0KaFjY5np1on9zfQ25UYryTar2gCgz\n",
       "1N8JLDKebzkVml1QCwDhMexwGHjIKrZhe9tEF0JWstYbauUMszI4XvSYKT5KLzXNk2HJAtcLP0XG\n",
       "wMqD2mwDXO16u+HGv3Y1n1tzfO/tBt7vGU8AkqC1pLvIv0ISqNWi9L+Yx/raJqDigQ/bX4vD/IQw\n",
       "J3LLRU5otCtdm4QCYysmTmYDEkoMhxcQhpLALyOgkZ5K1BSdWzCHmMF1yX/BkBqRZ/73GTAmjfGd\n",
       "FutbwUm9p4v5IvsEwr+vfE06EnE+/UKf0AiXsmxVZbmRzSjMVxM6muBhESpK6P/K3qwuYY/CrECx\n",
       "PBVkk5VfggJpoVMAFc9DaVuNSqG3fzmmoJhFoCNCNmD1CH2SaUWm/Z/siBA0xEBQLPa9aeNbHfyY\n",
       "4os6CWmK1DXsGcanqQDMPpeOjJ0bauPjWVnTZJrft6l1pv1I+mo8OTGmIq01nG6SFWwJsCTRpfm4\n",
       "TVdzS/UZ6O2DbWOmyx/mz/hFgpGSq3zPUOvEMAXHeC6dudmsoc+qbAWenEP3xMR8PL5+L5GHWXxW\n",
       "qfCvHN6OCtkn4gfkCZmMcaT2PRf1vrT89UGIJkKF/bp8cTm0bTf17qxkfkDclTHO9PaHYeV63kX9\n",
       "8p/6gzhdXq5lOvrjb5C1c34AfkWtrJyPfJA0c8MGO2yiOomKjy3VeObY0U7NQkM5RUVLUnJdFZcG\n",
       "uet+XYsZwx2XBJma7cBzwRojspHOQC/9MCFX+xeo72jP1R/CjrpG2EI4/Cjt7fb62qhhD+4ifmHK\n",
       "Klw0uX2cLXFHVOkPFGbaFcoO6iveeq3j9XEn3q5+gSYy+Lfjb/Hz7XwKBQzeNnvnxndWVIGIsxCv\n",
       "MIvnPVQgIz/Ru/4Apm2eGv/A/NJNAR9frD6A8qEPYXNYS980Ug+QBiuwe9dCokCWFerblMkgiGcP\n",
       "RVMEy5I21t/b0QsQvmxxyghKjTo/mHYSHSIViuaA75AhT6geYCvVvWdHztCgrZa42bj/jpLRRx/C\n",
       "3qvRLQ/G33Nibq/fFt0SyVCpDgWs4bhJMgrxiaXRS1gre9prH8GKQwsH5pegFXiUUmGq5eE07sNo\n",
       "KaJ+Us/Iz3ZkH5/3Z6XlcK8E8pWqPRTmDxLzT65AxWfzBbwFnLc0LhAQP9xoGyX4y12Jcxla2k7x\n",
       "lUT5eOlbE+4O5tFXbzAGOmq/5rZ5oIkx9O6tpepN7CmYJdHUEwN00pLflDb3KN4hLRtKxs+koAQI\n",
       "YJFv/7nj23Dcm5fHZu4MKheiqFQpSd2J7A0DZsx2OGxkK6aGKBXJVtxkPaAQ6MvvhckRp4kI5C77\n",
       "RUp1BtQAAP3fSE2y4SpqESz1Qymx560KyZnO5kQRPFSJyfNX/Cdm7yk6q9KU4RxvRQuCmoTrh1Gu\n",
       "Wv/WpMRsCdsNlje/UToSA4mW5ogO4yeU6fnCGpOHHkSLnfhzY3bjHQiEhNh7FDJOGT9TdD4e+6m+\n",
       "GNGVkFtPFkfvGbzs6A+7i4N1PaxUMxaetgVOu7CghWy7QqItG2xURliWnHl9yCn0ehrCQAFtAAAF\n",
       "n0GfLUUVLDP/AAAX34UGYQGLFn0Yu9fUxFSqbfZCzfdYcdVtfVIATt64uNDrBqfXoo0I/ery4mRq\n",
       "45SxKd6d7rxt/iMQfPDKzvCQF+bim0RHrhaFPYOXmE5jjaVVdwubcuEdUZfLuS0YPCCeoryFsl5U\n",
       "YvI0KTjx6xL31XoNqKnQo3cGkXFFEx3bgfrKoOvEJGo2z+HaMkCXPkIvpvJvTCEoHyxm38b+mPg6\n",
       "fS58R7Sq2Z/VB9aG4qTP6NjJI4jkBOUGH6SOcIlFXp17n/H9cr39jccmP8oqgFfG2PoWsHw3k5eG\n",
       "gvARTZfRh61AKTAJ4waCmzc5Ub5fcGp+KM/FsYNXANdBmS3dCz/L6dVIZLiQddwxUnBosSNSpE/A\n",
       "zsJc6ENh4av7TvrPmz0rGBogZjCf6thK1/32oMaCTvbN5CF1OFfehNo8tE3uljPNGk14n6C9T8l7\n",
       "5BeTOuMb40p9ifzMWqk86tw+z64tkTno2ROTqjx9Xf7oLMz+brv3stkHIEf+wZ4KUQ6qMHW8aF28\n",
       "OGlDk4wzzeFnkPDASrGER4YlwnjLhxZU2igUTTj7tNrJvXoDTUUwm3/9LcUx1ounkBn11fL3byDR\n",
       "RrBJ+5TYC4GYZzbJvS37R+N270nojvYaqw9lytcze8+lt5ci+28p3EV/8FXgZ0w8YmlxO1Otuikn\n",
       "C+Cq7CKYDoTB+ysL/AhjsywKjvt3tny5Xan1bDhabzbxO3S46WUQME4xD7U4cG9YdyQhPG52p+i4\n",
       "cDhqhU2+m/SjYH+wWzqpM2GJSBh88apdEdYBikb4ejiNdjvApzt1LhVkrv4+aEdqBYQl85qR7aU8\n",
       "+AMdc+PMK7fG8odxMEXbWzk7OrulZc/oMqvao0JJkeD1+9dPa2L1vTv7i88gu83Zduq+ZcpCo9zN\n",
       "pYXv3+Koc3XWW/UqdOfUOtg9NRI1SUc+Hu9/xJjJRZSOThWOeL0JoU2XdGNbM+9fyc4tCwkfzGM5\n",
       "EI4m6DjNQJm4sQXe0jLSevtwSmDxN1vGQ0ezeGavZkfV9GZlmotPQ7HIxil+3Dgvmwab8OJjW1hU\n",
       "+Ojcmf0mJvg093skrQfwTu5d0+AOPvXeD0k56xlQOpJMk9QMBHMJ8UvWQYsbuICSbmsUuawpnonn\n",
       "jKiX4qnJucUSMA+Jtuy6HueBjWOxVPdYaDepaY2cwD1TOT+gWR7PExF6ztUjCHu42tDaWvv6wPRo\n",
       "xXme1O2Fk84NnnvSjsYD7Jl01RxX9febOtesxg6rFegIcr3TLxmJBn6nhOIG4ZdcR8IsaeASLrbI\n",
       "aqIXrgdu1rJYXjWW9W2+Zs2zbnU0I63rYFlwIFx+i8hkRxFZ+tA0iofvtK8+/Ml2kyMiu4MIeZwS\n",
       "K9CIJZVOTVg3Hr3hHR5w76XZPN3pcAEAxFhR55Z8OyMaaReCO2m8GZsyCsfNgS2iKj29CT1U/tlD\n",
       "OniJfQ0TUxlxqFJYvlSLZ4Am48SICbL4dDEkRcrdcT9tTrznfw6zTfFRnmC29oA6bTRRvAax6gAy\n",
       "5a0S+EqgXnZs2ff8LlIlzXiyW4PdnkNzr8bg56nlV5H6RFvtDPe/mjilNB7aWJfNrN3hWbIlVkPi\n",
       "wuYpsyGU7xFhcBBUesbhKfOqr7OjNNwf5L74EcoVI4rXX60VBiyE5q6ANHSwfsgTLZhQnNLSTfB1\n",
       "ctPpFRQFLD5SM+eslyJBgQtT0BfVJWpsLxUvSQiMSaHAKljOwH0SH/LFZ8HDaFfcpK1a2zujMbbY\n",
       "csevqBlJOrsF3kBZlTt9VlRtV4T+JphhADoyvslBUieBUaUEI4YhDHuYRTo5iRt+McWn1BN6FHns\n",
       "b+EaUikJZJhsCfN4uU3kECiki3d61j8eFdj0JjJS0TKYi4no5d3vmVvlAd0aKyfM54RhGJgd28Ra\n",
       "j5WyfFO7KjQSCekJwYEHAAAC2gGfTHRCvwAALEmEExnjhRtov8D+bPmFcbMrFCf1mhK3+UUDQOfM\n",
       "NNVff4RBn+KHhwhBKtahdZumBtnABWhgMmIMsL/m8DSfwbbqBo4YW00abEGsqaVUQfZPBzdERBTe\n",
       "ILGPO0t7sGVFleGVa04zk2Pjb4klZo66nPPxb7df0C23HmHCgWM2/On1VTrpaHRZT5aS7g+Fu/Rx\n",
       "6GMHdsiuP8hTbOWVnL9To+LadadNYFiIiPbOBxDir8OsoM1Qhb+Lzr1ER5fhMZgoNI6qaphunJIU\n",
       "MAkbfh9HvypfLnKHlCmM+ShwueNEoODvTc168ZRVmfJDjonL3mbq4fKwdihqd5ynkp3qoH/BR6gh\n",
       "VWrAACAoCoOWOsMRCSCO44/qZUProO/hOAHL64OikbD4Zw64zcmfErFbRQGZuw9tRMtuiQzoxGeu\n",
       "6IP+aG33781zmMbomIhhHe5Rew/t9S/sTlr7DxhfQCL5DXqYnefh8bEmYux4F2YIar3az6UrYL0l\n",
       "SjQfBv61v7Yjc17tCg5m9he3iPU1YAPmP3/PIAWqNEYo51Nx24izGK7bKBUiL8tKgc1wjFf04DU4\n",
       "stc0wLTyDpEBkcQ8wJtXDJTp7VZ/WQ3CiHTm83Glb8lvMPQlT8LaWrrA4j/Uw9GFl6PP96d+GGgX\n",
       "heOl1O1r00OdefWz7Hq3o99Nhvj61FJp7+4sDA9spqWMUR9UutVXdZBU8uDOrpKrdME4bTTU74qb\n",
       "rmsLBnGrD7/vbly2v+WanCEKM+ldYuy3HTyGc1PhaLXK951Ki2CHVWPI4CSiYP36LDydVn/DryEO\n",
       "peslmY39piTI0vVL4P2vLZtEIzahF9/4hInFYrNnuT4oCQASlrl5UfqZx0gBCcZo0F3R/KidEhVB\n",
       "5xmf8jmvzbcURUdTI606MACJjzZmSiy/2+oID8wUjsn82u+wnHp0/0NYHzHmeV/hlVCkxiJyTfa6\n",
       "VQtK/TOpg+cAAAUkAZ9OakK/AAAKg0TktRU7UKeWq7lhBdzACVrH3zdnmaJ3xgua167KGj9OuyKA\n",
       "Y2P4vSWbujn8b3cS5Sna7Quj54osZkQAMfDbEAMbHhxdpQFID0LHZ9/xEIBDHZQPAe9+KXo+jcyC\n",
       "7UcE4muxXwiHx8K4WHkUaaRul+Cbl1xuMGgqNjPfz/2iLBttnxLTuZ4slICOwXwu7rMApSqqzIMM\n",
       "3tfZpUWgDWf8phw8Sgyht2yJbHMsRhTHIa7U2vufbGXECPftFCuasc4TpfcmCk1qg+UayOMgYemc\n",
       "uyUSz+BYeB8+VxH1gyZWbWqJZYBMydMYK385IEYBmtQVHw1dt8EP7iw408H/c23Rn1ukLyjOTAPm\n",
       "SYMfrSul2gv5Z84t7bSB8UMqTVldrW1jvxb+mxOiHdSY7rRq5xfq5lkylne8XAMzueUV7/rpRjCL\n",
       "bpQipE7Ma2gn/OujlDhIMZqjCaFwjd+6zrjMPBtWG7AFYVs7nXAFGsmR0GKZGZ5yoiDW04Q+gwiM\n",
       "2d4kUEsTqHdZe8WUexLos5plsuza09swMTwLszvvCevBh0fNaBt4iWsPrugFzqhf1YfS4B5NSksE\n",
       "Xy9Qukz7knLmarr7hOzVe+5S3YvOV7o3tR33zXermh0Lx5wv7DTsFderJ1iDYH//cvnTqWhqU60T\n",
       "iebLkMAMUdlm+kJLmyL1EkTjJg+A04obECupGEo/Jblt5hkW/wRDsvvNbX1IvEegv18XJKOkOU4s\n",
       "9w/Qkag77Win/WHEfZOJIXGx7rKw1srOIg1w2IsZmMJcGIg1jjEsGPgvhd9cezGVArfamchVaU/A\n",
       "l1L5YDunJfrp9OAVx1VaOPSiTTtQXE6xk0ynlh1a7xNfW3+clVm1e1iSibpmpfQ47f12OrCi5gDa\n",
       "IqNBYy0Da8Gc3gCKWhglsvqusq98Q42D1ChTKi7iJ25NblsBLDXfZl0aaEwL5a+hOiYity3WudIa\n",
       "1gCZb29tKFL4cT7qlR+U1C9LsFyo7nWEF2W3SUYozd06cPm60ddvNP6ATH9hZZtcR/H8W3IQTiOk\n",
       "XBb+nVoabRMBSCcNVFuGHMpePpjXOL0AL+WSHJIsEyHP2Vkf781O1HbJDrQeMPNnMo1chsqxnU7f\n",
       "VBeswGrMGZFPg+/BkadqyAc74wdnmo9/RAe2XrQIgO0OpM8jHB+ugv6soDGsmB7fNYYxxAb6c4xr\n",
       "I0pRJgdqVKUbnYG2zRQjaL/1xlvGzlSoXJvflZZ1t4rYveg/K1Q48OGDmJbDSerrBXEGNGzSCrSF\n",
       "D7kZdJaNQSrenVkVfV4FvIVsAXB8NwuVRy3Q2JSgBlD8qE3GIJVyEzRocVZm9USHoEHyRZ7bocZ3\n",
       "YKGR+amgY7wJC/GiNNi5n1aO/2GoAbvC6qtHsXmNcwjR9U2jQbdLicizj4WiQPfDnDBoI9Owk2mv\n",
       "QwidFQLP16I8lRhVUBHPR1kmFoAYp0QNl9G5pYtBuiFctarAKNP6I1BVJMC3xvXqaHgNX79yoxLc\n",
       "gnjGxPjTrZYmmMWKpHgg8J7ZoUZDZps4k1rw9hbrvUHjk0gxIYDa9UGc2x8HM8I/TQkVsmU7X3CL\n",
       "diZKFtAUH+Gz0QzJICRn3s6UwonjR1KwaqEOsd7Cm2WrTTpNyVlrSjfFg9Ga5yO2X8n/c2TUSkiI\n",
       "xGV5tITdS38VH69WUgzTp0Hw769IMj97SELSCVtsUdSXsJ7aeTkAPxk+LMJjlTF4mkEtuvAjWGBD\n",
       "ht6AMjZnS/gLw5Y+CjNAdMEAAAajQZtQSahBbJlMCG///qeEAAADAuvvCexeixFpeLfACWjAAP8Q\n",
       "cY7M/cgXW4TVVlpWjRaOSyCsG9W5RDrQSptOm/e2qdiae9pbNHuRqoJBs6Yp3pTp3U/UE1Kx7lfl\n",
       "6Q4qkGEV8hlSpx/UcB42UIiN51kHrKYRsY/lJ6X4YLDOf6kmtzp/z/ISvrcR1E/RkibZLFHIjIDi\n",
       "Q8Xr42IAkouw2vwFcz0FImHKaUqZHu7vCP64VVTWyfDp3idrjqil2tNiTvPL2fnJOB7sVkgk/tXc\n",
       "4H0le/54tjDbk7HHE2K0KINBqUS3TPkoW2EVJ4Iuz4/nsOyPCbUb6g5Pp7zsZdyNA8aWLmTgz4Ew\n",
       "2R/8V5sOHD9YArHojJthGEUwy+laAsbPyGoUKRjBroOmKo0bhLKT5fHED0bTSNoIALYesVsyu6Ye\n",
       "KmEk6EVwe266rl+zp4uJ2QXxMPMckq+8PJYpBQiTp/lMYP2CBYmR6zY5BPhVnAIjrsX+Le9xCZWz\n",
       "i3JCiT60OJzSexip+uI8BM6ZaEoipKMwYXdqCuCVrq6oAZopbyMJWqFKaicXOTp3BKBx2+5lOmrp\n",
       "lAmKIRTdcd8MVcUjWC6EMpeRvDixjR1e93VytOR3/9mbOiqzLzrMxEMIPWjd+MxcuZArpYxFpg7y\n",
       "QuQphtjD+oJeJDXacp3R26lwQZlgY02eJ4mCUusGmwZxNKzzv++Yf8r9cRkjp011O32Dk+75KNLi\n",
       "YUNtFCgCtQonC/FuCmjvdcs9lAAFpC+V+a2dggQVJbB4pa3JYfAvQ9HwVk6T4jmj+9NSEc8Bc2j6\n",
       "CM+4DlDkk2slFVSMvuJRpqW1vZLplozTkdn1gB49yHu7u3qNlcUClwF8Ey4RoZjeaGb9+MGPnGxM\n",
       "1dlKDx21cP/q/aHGAmOvAdF8uzjJ/7jApucspsRxdKd591RdfDAb/GMTQfAkX+8jQx0fShhxvuUt\n",
       "sWWmVXHSN7BJww+1RhXUXhBP4rl1i4hRwChQikZhRlECoUe0qDY0L3Ytblh9uHdqzOOXezMkZuk3\n",
       "inpOt+9GC35zi3/6hv7fRHE+OQ3+4eljz/7pmo5ZxsMa0W4XqQ4ctfQq2CZ4HudBNY7oDXgr7oFc\n",
       "74GDh01Hy9UwdWjeX57NwqMfHCd9KUrxTaeXYFSABFC/K9kOfLFkbwyAD6fJ73msURHgytxM1IzV\n",
       "Twu2lH70j/IgnOX4FPpaC/24qLePEb7znz6yxtD6MuZYQAYVabDBEB7BAq6KijpsLCiAMYofEckT\n",
       "ZnO1aV0X1tBGerh1nizJXE5bbT0yVQGiwY+DYfsXcaEjc0Csjt+F79sdLwecNkAYBWY73FaIhvAh\n",
       "i5XN4T2LrgfYHQuryZTQNrJSTL05G1rNX1BoOA5mvQpwzBYFLEcb47iA68dD6lM/QABNrCLD9SrO\n",
       "bvCJH4ppci4s8H0zExxdJ5lrGWst4X4aD6POl6xzn4U4O1LloWbnULXZGUjd++JuRftc3ulQjHTJ\n",
       "yYkadc8MMahNJkh5DSZv1ZuRLirM/tUgjcj2DFNg0ouOHJDnF+ivmRqsZ35pUIscS/HtxjEnWzE9\n",
       "UcCnQoa6bt/B1/tdRGG8fSW1vKa+HQ0sfWms3hDC5OMkO+859AdZX6SgfreqvHWGckw4PDXU6Nnn\n",
       "R0KeJZotrWQNqviBrTqlIZWof9RT0KKsN5LhrHtetlkBrS00Va3inukZrcu/E9PfJuBmYDz/3+E2\n",
       "R9wMW52vdcmBseyGlCqx7AJ/hLa8epb3VKxbBIgD/GcHLWRVotLbFNR+yvMaSwlwEkgBFQMjWvhT\n",
       "p0KgOohhTLbWse02EvgnFvkNLeKSqrNpFipmHEnytf/LSMghPq9R4KNoMfWfelRIvR5QohD3+pHM\n",
       "+vUnbuKyOT4AK1M/wJgEt8kwZfyGm/uIw2zfdPCVIO4GMWcdsz9S1gFMTkYbmRibHzc8W2QmZIC4\n",
       "2v5Iow8BVZLDi681UWBBmbh76DgkXDzJZMXUMI1cAVPMS9coQSVoBhto4qyzaUoa8bjDXCClNvrB\n",
       "VHE6cF0iBCCJFikvuYL6H98ITAMIF5ViydAnGV1Km6jP26Q64hqyDUKgrWEGu414POOzND/jeW7j\n",
       "ETZmYHeWxS3p0ezIs4JCTA/RHSKSNis/wBm/G9dGokApgWlSHWsd97NGwBin1K7VTB5iM/xqHWXE\n",
       "y0RhYBzZbPQj8Ia5NxYI/L0b61KrPBd7ak42MEDwanLD650g2Ke7a0jVN4v5Pc+/M6WbwQT+kajq\n",
       "i5j01gW2iAAF5AAAB89Bm3JJ4QpSZTBRUsN//qeEAAADALnh5z6AAuk/q6Fw4Xyt+px+rTWdJFyC\n",
       "uUnURQD8wyFUYm40Ig75BRqd9fPH1oxVa6oY9Z8JOZD+6Re6b63YKQiekQNHJ8gKyObOlRO+NSQa\n",
       "dM/LqJO7qgqvnfzc29MDzY3ukAi8SjkMXQJaSgEW0F+bevAcsU4vE7thQbgJdP//6cCvXNeR3AT1\n",
       "LTomM8I9rOLdFd92jFn5Sg5Ezd6/Om6iX33cylDknSgY9mZFNn8x1gN7ZwrzP1AS1MWg56drqo/J\n",
       "ApNHQBwsNvXQEXDa4t980r/dQuiMIjF8ezXrDtNqQvcI2vFtaiBMllKFKxAgEashXp9XVTgMDpT/\n",
       "faZKOteg18PnU2pneWx4Me2CcohcLEE7y93Xs1znnLuF+PCytSE4l7Ty5qJ2MUu/wPewh6t/c+xE\n",
       "0JYaxlQ+hYhsi2cyf+sMk3d2AvwJoVJoRvEXneVCXTw9vS0dx1hhLD6IoWDype5FPRDtDEWfT0r2\n",
       "fJp7PD1DYrIn1IH3rjjFI73RPrCZiR5/hkMZJ1xEwjQxkDZoZrcnZiu+D+ASGX/fAXJ0R2uEXJEW\n",
       "RaGcs6QfXJ8Ffx7XpW38ZnTW2AfnYOqgFacE4cNqn/nEe/KRNf3CaKLLM7bIfnr4OpyQ+sCAJ8ER\n",
       "BSd20+DqknA6wKa4KL1ayv1UYkjafGnr72d7NZ4hmjghyzZT3cnrGxki8mhE2hw8gXiGyR/6KOFm\n",
       "pK9QwPxEi5bJKhiR41rBs6PVz8SIG9fr7mVxvRLVCu53d/Tmo2quN+b8E8+0qcIs2Yf4Kad7qJKM\n",
       "hlI+27B8APK6K+NkNbtFX+7TNEUXKjQirkrM1uXclDkne71F8gos7moshIVtR1/2Q+dC80gLHUfR\n",
       "BBCO5r4yPt6+qxIh5L6/s20rkV/M7Labsg0jMeyiS9etPna7EvdvzkizIJ2wk6Xuc0GPJ4n6j9ro\n",
       "6dE3dOtq04K7I67iVQdZZOkCFvLIhepf3eAG3A9GeeFQ9Yp6DsvAC8x4wdnzfZGAVSjeTv8g0mbD\n",
       "uMZP5WHT7qvh5uMU/b2R5ZlWX0RIYv8bvOHHG6eOUpF9T52iA0b1dGuHzIW9oxwRJUj5JCLAW6/c\n",
       "SC7lKz4ZdkjXNs4kh4Q2sphL3dw7Z63rVp8Xw6ibroT0aS0mAt0ccZEb6+mN9HdeM2I87gN2jhe7\n",
       "spcaIvXVarq7bd/v2adwkw6XOnlT8ZmjkPZv61u9s9ftKbclKy/QxYTuvzLBw1+VQz2RjNXHK6oN\n",
       "5EivrapXbj2tohMW6AvbhC6LZi66Haf47kpGZJyAWcsXRrQ1VDLTyqTfwXtv8JOJOj/zQfjjMjDy\n",
       "0pB2cF+NRYZbaGDT38RvQOz72LHZ0hke+68TD8eiUv3Ny5d4zAu9ULjaNfrkzeO5DlNgH0LcJVBz\n",
       "qROd4VS6UwimEuRZqMqv2LSuW/HYRHLaRXJ2JqlaRO+PQow6hIZcEO+gXgPGc2P5FXJl2b28cl7N\n",
       "uSNfwq4d4KvSuNWx3Ur8JXPp+VMgWi/uz6GCJKTslkN/MUJE5Hdu3w3ds+pdQAE/3FRJBCeOeSZ0\n",
       "SOpfDDawAQdgCemMXEmqBFzUAY9P2O6md2RFJ1WyW78SN/MNX6oMSDVVEg6LLhZxBdaKWRZROl/Z\n",
       "VgeoPQsWd/gFjOoBqXCoRGKK6bYYXrEaaUoKGwm9xdAaYPdlr7q2wh4W3RRplBbm0wayWoTbwVAD\n",
       "gmcjSORnGnYBju11Vg76f5y1t7DNYXWze7tG57ATdrFzWVBqHAbJ/PDwzxiMcR5CzhXQn4L72qGi\n",
       "AewGChjZPrAuXyeyz2C0YIbsa3a2ueQuIhuFqPiVCvcb555jrQGQB7wH/zGIU/e24RsRCViRggIK\n",
       "1Cj+XGOCuTptj8m5MgRM8ojgXzFCOENnpKJUwLEVxK4HgTcIkgXhMzQDytDIMb50RpiruDHzO0Ua\n",
       "Z9EqQrK6+kgpCoE9K3AjfHTgtMdr/FwWl/RTFngTRXySxy1Hy2Gdpl8TEcYlSYqSJF0qaFS/vUEe\n",
       "OytsZxKMKEZD5vvxekxrcFqc04ybExwQZDbBHVR3JzdPKr7Ei3eKitccB495NeQyRmXOfg4VgTyT\n",
       "ZCmOpL9waa0FzMvCkH7i84mL7er7uBS4tU1M88NmkT05o3NCmD2bK5KW42rhKy95DwsVjTUApec5\n",
       "A9cl65vXI0+lMQaoZ7XoVFSlmdXawvcVusYHFEI1ywov8jAa3+Sk1SeHLwRJujtqc7D1M/Dr+iZA\n",
       "J62yrLTk87MD84d7zGu9lCae7FJcz4GML1GV7MHU4uNf4HfoQWFgPUS4zaVmkLeD7xK4iTdd0Dul\n",
       "s5ClUC0l2HgVafBric/AZJLLfaReNggU4uKKIRQ1LQuTwkFCpsV1BTPkd4fStRhTiTyjM2GAo6Q0\n",
       "bUkmmPmdZf+a5QnPbLabUUPdFmzZlQ3PuLoeyTHEqpJLEM/RVNWS8QZENOTRhnaNGlKsJzFsWIKR\n",
       "Qsu4M2G/ZawQaveizj1kZEEMD62Kdwr08Sz0JnvTMjGkZA/k9eUVKPh6AvWkbOt26wXYh3nh3nfx\n",
       "C++boxuFl03N68/CtjhJ5fssNNLH7ei2wuz3aTZEVV5EBc8uZ7KNnhLH8EWhWzgkxdB2AFaJLxpC\n",
       "H+MqEn3y0wmCzaDgywDRm0NaAAADSQGfkWpCvwAAAwCZKop/dxQYK4AbeXq7cBrVdUo9Muq/syHL\n",
       "cm+o9jh60BzBngGRzrzGfF9qot+56mgsFYVZBRRn78CJZNqYHb6XVJzNu/rLrwmxhto9zA9Ag97Q\n",
       "Et5derremJQyFe4xmk/DTYyl/bhFOoMB+gfZcxIWN3+ToHl0poFX/g9ccBHrWvvIO3EpcVUJfDdL\n",
       "YrZ4ANLl3zOmIq0JYCSx0qKKSfCKO+tDExyQdBfHWXOjZExhKqpO8FDvA8mMPgxeC+iLJsWloj9P\n",
       "fPNrS3QtEC8bwekSCG57VDrKOF51Xq+3hImzukKaqnmzbGmT0jWyn/g+6Pack84ok/WJZ2+Gn5QC\n",
       "So+sr+EGhroDwIzlAgigfFbxM7sAR8gOyxGUrTnkclQf+ENZgsTOBsvv6tD1IROhc/TMrE2Xpcxw\n",
       "nhgWG2HA6QZyGJd0zNBkA1DN+gJH/7F5I+TZG6YLFeCFL/k5UN7qKwc6/tIvdGodqZ8rcQAILgtC\n",
       "3NLyVKRHvYkHIPDwePOHFSKKWBD0RSNrIqXrgcZVOZzyTJDdso36/uJA1fj70ojIcKxiHYx9gO3H\n",
       "X1fXlKNYcRNxckHdGedmJVkZxEDounUT/xwdefHHBRFz1KdLmPK4dmMnAGKQKMayOFgmQhxjJCtg\n",
       "qJsum1EOhRUSbCwMNikIJsJnpTbxDZaDQYJs1vl9/WAIOm7jhCQ3BqH+7qtf9P8w7eG63r+sFaqc\n",
       "LEG6+QJMQud8YBDIBuv4d+gw/MKVFJHOmZtp15mg27g46qXkEaPrhWbnYb37UflO6rQC+kEOPD06\n",
       "vuNrudMpPNGEppuQM9oVDBv/Yv2bNupeU/M5xqa5acjoTkcOAZAqA698whltuWnjYo/cNOax5pbc\n",
       "xisgO6U9VCsQ0/SQOcGSSUfCp4CTipKKhXuhZ/g2sOvHaxlztX9D0ItLiJn9/p6WgH8Ju+wENghC\n",
       "LA+QKevT4g04tn/8F23Qw7vESZD9+t3R/c5VJMPNBKIEFoIlxc2lM0uCsLvYVS3wLt9TUhAz3/Hc\n",
       "jPBoPVg486SJGI589OG5hatK8/JAn/PCjB+BnkQiLu8n+fI4iRbqHEr/Tbh7jvQdbrAjVHnf/aYu\n",
       "WhuICqkBBJ0AAAXzQZuTSeEOiZTAhv/+p4QAAAMAvrsYfJE7md/RVtIAPeJ1Ntp5YkGBtXcl73L0\n",
       "nsx2Sg8OLjx+Gclw9FchYfhnqeGgeZwqmiNx8/kS313DVQqL7+JjBcJY9EoKn+dbn7qBr3J1p7e0\n",
       "O2lcoCJrX+VodsexrLdhbiQSsrnb68ElXrU4iMS9t/kU7al97lLG9g68nyFFOcakJro5gxyB9j3X\n",
       "Q1kWxdKpzNWLYfb4GsmQe8UVk/2sFO14HPiRyGT2jbJeRL4712OK5wHmvAVll4e9iuez9CR9srAp\n",
       "yfRUKlj1QrT6yQiRbrebFyK1SkMGJsG4gz8iKNBHAMd2Vepm/3bxA5I4rPRxAI3RZzBKoDgRozqg\n",
       "jpnmBtH6K9m9C4OfcagWdBEl/rb4gLhgkS5jhQVl5Lp9B8XUhumO/nqSbQSomIBq1cwHVubRhWvV\n",
       "7pGFR0W/8kvvtDvO7f8gefvYGoYX7DSMDnYh/f61KyuEKQYWjSUlsHVdw4ebGgSi4sNuk3cUSR8B\n",
       "OXMH/c2yjWZOlDNXWhZqCdMmbF3DCoNAdzg3ymvliKnj9MzYfa5XSc3qF8Ywu9Z7MUYNRUnQ5TTL\n",
       "nlAkZOR3UQJ3W/oy+e2UK0Y7UyO2qjuyraV4vEfvGX9XlXqrFhAnAIpj8/EfahXQxKFX31rB9pJt\n",
       "w7ZKXB13XKiO3+PekCvd4hyvaq6udahTno1TtcIkB3fB5tiWqaPd7z924zcU1EKNGVOrMkvwsC3+\n",
       "bzNscgm+TI4vYRzcUbFCLmaWpTpEbzKmdXsrY5kX/Iyz8hyg/jWvpByAAC0KDqA4MtJoTudsfRPB\n",
       "g2Y3GESlmNvXS2gHVrahZZqxgR7IS9UotmNARHXhjnbbaeiytLE4VbWe3WZhcGlXg/VJQA8asE2K\n",
       "+iohEvtWgLBSdG7+wmyuFn5p+BTLxXZ1zfHEIGz8H9wAHaafMObW2Jhuwn73pqbHlp+ezvGMFvHq\n",
       "nu7jf3oU7k2yVoF57CfMDTCTNBaBKaJZ0JhSr/IZcyvnOOl5xfjSMOkbVek+qNJ7ZDtHsRId66Vz\n",
       "7gm9Gso7UAdRxlLjuT87pSUai3YrU5YmCEkDzCmhmTFBDF3bxhGluHglOGwQIgI0cj6BoVq0UhWk\n",
       "77ViZDvdOnnUgK+GZPmYxrMfluX0crwZeb6hcO1cNrWwpKZkOk0LEkiSW2blZ3A5T6PzsFLBVOZ0\n",
       "a3tpxDOy8yBTRm9Fz5KcmJ+oTrFeF5SXsZusiYUiY3IkvYIXRtX5JnDhc2JeZqXCf0KgR5IEOilB\n",
       "4cvlbDM3uHWRyqbsSrZBse9SVJN+FtAsbfmhWoGa1fk/Adz6hvNl5Tz1NsV6MrrwRM554CSV72LX\n",
       "m+1dF9Fa0CYjFM6uPvn6uO7qFQqBdAHn97ZsrUrjrH+8mHZeKIO+XtinYws/+VDJ25/Lsu5Mc3cQ\n",
       "rA2D8LGxeY0sUc1/TyXe5pISSZ5/rC3glS28IVqPzR4W4dQVYDWEn3J6aWFhaXfVsUifVJBXl1Ul\n",
       "HU13OUNXwNFEG6I0izZMzjZUu1aPeOgGfc3zOc0frMNzbYdwIkavUINm2NCLalgeZusWr2cj3m7G\n",
       "rvttvybZoSD2BBweSwVV1cee4ZrO6YG3rMUmcX9+Q7yCk9j0CF4uauIo+71yzI0HxlUBD0oliY6w\n",
       "eajA/pk4CpbTYJtQ22zaSwAPZjTuSvOmsOCx4SzdmU4tOdjQ4DVMQ1B5mczmixSPEoBhSn6FVJIM\n",
       "/mWxNE2H1D01V+PYD4N//6lDAZZ0Q1mz0L4wWrWVeN25mKf65QWlA2EqvvDKX4upmOeC6Z6l+KGu\n",
       "H0IjNcOj1gZXKOXLhLCP2Ng7ByYJ1ZMQ25hSOqYNARf8Z8a2DNDrpcsXN98zLykYvEZl1wINR9iv\n",
       "uYaH5baBQUU8KiE6yLhjECAQTEZfo43bzGeH8OJWluXKgsuw/L5qUpygkdbYJbKqGOjC4mFfJWMJ\n",
       "0/Wuyly5pkotGUWLtUkm3j7HH+2FSXkvlCQErK02fxtJFWDOtlYi0A19ml5ITAHgFA5oi4AAAAWa\n",
       "QZu0SeEPJlMCG//+p4QAAAMDE8J5oUnXs/38C09KAAiEH13Zb02jB3d5zQlBLu4ewYFCDwdSKKBd\n",
       "xUSp3Xf8ddcnr56EcdEFwrooEitUGgqwGjDw/fqr9oM9Cp34apnZR3fmhv+YZCH3iPRuF+cTMUVl\n",
       "VzQ1AqeNYE8M52sxSW+GfSL6slXlJ7wkS4sPqBVVQkLpWaxtYOHYidcKlQhr8LjeUm01fqgjteOD\n",
       "U9S+ZcnPO4mPbh7Cwba1b9KPDg2BmbGStOfJW0cm3VZiVm64J2vQ9PfSvzGzDVKeUztNfvgKy788\n",
       "38ipclaR3hJBsO9rweq6gtrP6aHzEJ9QmSVHO7rM+Me+gA0/TLagdO3dtM+1gEloRnG9IOGLbEN3\n",
       "jeBgpsonpWRHjSo/ricG4FYQpaI17/lRBtqON/svnikziojvDqFtdOTObAV/0Wuw2dDTeOgRFRaM\n",
       "Ei0CZuS6+/zvYSx2b+iJ2laCsF1RAqN2idyd4Mer6yWnZXa5auz4GMw+xQ1/DRNoQynA1462B8ht\n",
       "CdsGfNTQ1FlmbX/a4P6r3IxPrPv3Nj7ZHCZYKC9wIEl5rln2JLhtIxu+TYCBMiRG4wWfQFRmTHlp\n",
       "tgr1J6fs5dWdGMVAKhpGOXFXxAV2QP72PNFuFgvLo0dFQiAuNh8aE1Q8hdsYoO4xUhtK82i08Zfd\n",
       "z0oh50cEfd/9dZzNSTAqPhzTtSE18hqRM1l9vKOCVljvjGL7vto4bz4aXcCFaSZtxnuIY/2QJG3L\n",
       "m5KEABidHUwnSCniuYuZKTFvve9+6sy8JM6tsNpj6EA7icpb/Q6pA1mpmECZdwWKpEgSgHGSe9ne\n",
       "OOm2zsrRjeCJ8wK2iulsqax29sRIfvHDR0kqEGZnL9+Zei/Mp+9Q8mRY39GDMMG177Y2iePARz5S\n",
       "9Lrl5gjEPKmzjUVH5wlQSRJIhxnMJ9JUcrro0u+hlEi3Pi36+UByhu4n0KXeI+j4Xag1Giz2vIOo\n",
       "XyLj1kC7qw1r9rSOhcdDHucp1+qu4y3C6kV9SsSoIa21vC9FkGT3xDizE+FtRdMzLKdU383cu9Oo\n",
       "3z9Rc3ZOgVGKebwkVxeXoTYoIEfUQg4+GWRGEfQAAAS4K6ozSRchVUehOKVi4suSY8fR1BW/aMmK\n",
       "uZTf2BnhPR3q6QjREqxNSd/02jKoeOxX/9BtBA8AD9YxkbT2kTMeC7ZH6ZkUOtFslAecMak4zewn\n",
       "MjAEhM4iSJWPZPC8POTyTqspH2Y27KMqrkVteSzW73klmp7ZhwAGilVl4BAva58d1DXjZNGGYZZe\n",
       "B5ZrTCeeXVZj9mDzkWLj/xlrQVg1qeVZ0ZJoTLpSAjjXR6v2Nk8SR04CWeTYFVFHcRJFGB26vmmP\n",
       "7Py+43FilfqAo/4DZzIfOBW/lK0+C1DsIg2qDd+4Gc3fW/5vslSXDT9ol/Fyeybu+KZQxshPoykd\n",
       "XcbLvqZHhFhj5h7QJfB/o6dGTtAKWNEGojDjCKae0wktTM+JuP29cs1kheQ+YOQvX+IATSXHtnJ3\n",
       "caALbFNsxGe2I1GWrLcuCQn6lHwIH9lamyaIbC6w7V0plzXn/7MDpQ2nISXcIbI3hGBpxdUS2Cvj\n",
       "MbDBYythurJj7hZnqWTbQ3SVDRj0vR6ilDAeOwfCLZixi4z2IaXjJAVT3YJ5C6qiSWdjcJEarA3+\n",
       "LhtTtSu5x+yFLHQxNRXXRbFGPTBK7gVwxaER66PkGD9oPj/sFTI5GO7Bryk5Mc/dNpo7J092BY1i\n",
       "+Dvb8wY+yhxLelAP618HbwgXqTQyhxkVe18YMaz1RSnpvQpqtvEQxU/aTchNy+yIJbzzCEZqFLpP\n",
       "884u/w1tR5P/tFwTW8idSfWTlJoQ9ZYUOMvruQ9TE/SczLcQeoVE1RrAQlzjqX4qhyd3pPrXdd3C\n",
       "Gi/KAWv5LNlsAAAFWUGb1UnhDyZTAhv//qeEAAADAL7R/imXVEdEAFup04Ld2L8NbZezv7dKetsA\n",
       "jGj0hzY1SgCd6YJzD+14WyDy60S6G5ucpp9IByPnyG/FuzZIqj/J+vvEX5v0SuFlA2Tz1xvxTstE\n",
       "DzVNMn3PDD55V15iJXj5UntYMeiAriuOKDFbFIaRGtNq/+GSykwbFIfSRqNLUYia8btqqaQrGDsY\n",
       "GhHwJSQd7ysjJM6tOkKD/VrjAFEXm2Z+myCQlMAH9HycxTrUxAhhGlBwmVbdTbdOYI0LeJPgAl1z\n",
       "XgjKOVERa72pS+iVYxUkDq3b3l+iUZrTRTW7fsNRORbTaaXkGg3paoxCq4RWUYvr5JSs4+SreXBv\n",
       "QOWJZg+zp1XdPTJF/gCZ080SVEAERgYm8stOTzOEWF1YpmeOF7mXR4doaRVha5wuB/i1oi62ilb+\n",
       "tZ0NBf6PEPuzydJXG3/S21IHMfUm+n5fjKPn4CP1Mj4+5Q8o9S+vr5P/80pBzoEFo0oMxHw9iffp\n",
       "8t5gKnTkpCws9sisUJv1EuDafuad44tGrVKYg+Xii8BbY/gGkaxwTYGWPvktwql7Yr2cSnB7YvVZ\n",
       "bATyMtZSD/UlyMQRR3nRfvftKMmaBfdUrNpv4Y9LvZ6xx71/UqO7p0r/sOfBONL2WhYWQMlwHBZR\n",
       "rD33mCWwezhppT77H8fhGqSEgQmMUB9hmpkIfiResgSmK8xNAn051n2KCYEiGKj41gGbPzqD6Twj\n",
       "2GcVYA/84mTnsvZLqSrgYYQ5AnibJEV5o+M82YP0kzxRXAZQzTy+j3VODWy6eSM3YuvuD3d8EXBy\n",
       "z+QGtkEB+8o+757rI0f+AZGpeEnB3g07lOZKo9bfFnLpTp5cQNQ9U2/eUa3WSNq51CeECH/YPX75\n",
       "uQYsdwFL6TfPXlCfn3LZpBoo2Z1wcO5CjtmhWKVnGgKeEIQjzj4C4RGkHwam66cxvIs0E3sHXmwS\n",
       "CWy7UQ3fJxsihio9OUidMhFsxLmgbkLG9CfTptk1/q3GXE37uzU7mkQhvc+UWvowPFtLrqH3O4Px\n",
       "W6AR24lxYzRLnlYk6kNCsxYD0DFcy1p4mXhsYzL9bO4m0zHy2xTNQT5bSIASq5mi7Wl1GiLeGnji\n",
       "XRhubDVKAma0ZqHwyiEpExLImzzoq0ix/NCm/htJqQhY1ch96/RCru/t/SkYzEeoYokj6VvS1HWd\n",
       "xCPWWZ+/OsS0dgSsqNfljQY6+Bd7gNMHwWPkqX+CqlfUZCMo/j5baLP57qppANS1c7WbKIg069Z8\n",
       "/YlTHZETE7SPWHpKHoIOjbqyWInkW4G1prcRy8F/+5wni08BAW/uOPmrNh0w6+/GzR37jFVqtVEV\n",
       "nUmcAwH/F763StdkbK+G9EK+e3GmhkzXUNW0t+XVHw//eaRUhml9+c35H4pl8YbU5Pv3wxkFeY1w\n",
       "2M3GmmANOTOIGEarxQhytAd5qZo27mIeVGpKua4PLF5R48KoDEb3kkl5Ie/gJmurRHaGJ71XgY8n\n",
       "VWJySCGI7j/meuQYDRtHjEytRL92oIXyIPtEOsnsy8O9HAXNkxM/L8y7x3VlnI5RpdCuwSuJM/Mc\n",
       "64yrocGcwbB1otynHiVkO1YEt1sFUrlUEIIU3Y/X3E9rYg3K/AouHLN1RcMqTTsTVXIrJMzsBy9W\n",
       "g1j1esDI1fsrsHUjMDKKfQo49aOdKEDdCIDitqYdtOFIbWM5AAnamv9u+HiKyQ9CYt+duMLV63eg\n",
       "D3Zwsq7NRCZeVdiikuzCZC4yr+WXxa2v/P+HgUhk9eMx3XfREQ2zbt7/rS5xTxRGb4IRn74/otSE\n",
       "662wBPm4HsSezUZxAoMAAAYjQZv2SeEPJlMCG//+p4QAAAMAv/sp+2O0mZRXP+kv3/q+I3anXCKk\n",
       "sAQ0HujCcCqbBUlTHXVvDtcn2QJjrl86fUuE/oeE+N211Clg5b2iv8/k0fd//+hdI9oCYoNBArjc\n",
       "IC/nRuEVPgO9JnVMsROiftZO+JXtez5Wi18cpzYWllyztWjYenYoA1Tak/pq1+uQCeWG+xUG5Au2\n",
       "iEuKgGm6wrHL2h4VLI+92b89pf7hGn4YKXS93q5lqXognPH5F/LXmw4vLRZm3v4JqQrjHmz0ZD0Q\n",
       "gQnE2g0/ap1V8bQc+bs/qxtD4dRF+OmCWcI5cv6JGU82SKxhJ5ES0KBoAcZxcWpa0ufo4rEzGYzv\n",
       "2jeTUvO72HTyoHfxOJZYp0P4V8v8l0lODast7bi5E6ZLaG2VASHEoCSUj4T+DAGI9T/Tk7rtND0h\n",
       "yLIzAGLQDsABCQTUdnGmmT2V3HwKVYT6HKxIYPi1SaYqaM4OzwrmJyI+hkIYiupVlwALXigU7w1h\n",
       "EAfAIzvQ5q4O0aBnP0TFNE9ED2VxKZU5FmbZcnwgglY0k+PjEZEwtmdBmw+i1msoWwYVFEyB0sPt\n",
       "cLGuymlKvPeVZZ/gmWhznE8OkjZn7TqoB5SC3OZje7yI3LU8XB7lXsV2usOeQYvpYlc9RtXBsTj8\n",
       "nQagEx7R8RnO11R26K0hCdLC80YeHJGJEf/nd4+n0aQjontqunyPsfxkakcNrBtV7xNYBd3ixg5t\n",
       "TW5PJLalekTBhLuhFi7g3KjxLHPb0rZcf8aq/gedBG69rn0c+2+O59AI7A9PGGubMsuIB88FNX42\n",
       "hlCm2igGGPMxfa/4zn1bZrzOnSntVj3HPx6HAOedTbm0+PSnY/uEQINDVSNFhJR5p796NAP7DMdX\n",
       "+QM/2WCexBHXHjqrHMCxLuoAraol254bWOxuxDMfztcQbF2S3Q6XMTkwFyXeqWNftI2t5kWx2/An\n",
       "HQfsWC+dVvs6C2ZtJpKzUq/+8ngnLXRpl4H7Hd4Rqqzdwhgk8+oTRXNJMcTxn2DSuGKvTHGaBoUr\n",
       "nCSD6gZf6kH/WWWz+s5wC+IXqPzyhJRKcrXOpqBti9CCzQhhdowLP8luGfIGU2iyV945DO0u9h1/\n",
       "VTEPpwWgxv+4xr7fFNtqudBNbHvN8GwjL+dRzK3L59o7DebYne9bRGCIB1ztGLV2VPm14v+lFGqd\n",
       "leOAwAhFfRe/cvBW8hEjdMearaNLOUnF148W03OMD+KdG0zJznl62FPXvDogRk7rAoFw3Iee4GVn\n",
       "ZE0oGBNKNspwwDu/aC1oue3E/j9O2pyRHtb+W8JektllloTfJFhJ4NzTAPOoeN/ymlnGRPP1zDPu\n",
       "3msKnOFTW3jAcak++Yi+gQePpOPGugWjAAYnZw7VnnSGlhiThTEhoXvkAsGQzD0OepO21ptjw9v3\n",
       "ndNqtYiW8nk/10LjyEE2BLxqOX0KKTrgZpOyZdujkRBHfRb1KIQa4cC2HxD1qz+LzVE1fdqzoOlK\n",
       "4Q+2J5m+5mn1lyi/Xm31dSTjSYTrtl1TCMtC5DobJ1+RSk7M65XT75RdR7G/DWzeHV/8JLSgTs+L\n",
       "jK+L94DaEvucYcYbMV5WVutg/3VymSVZKchCwmBAXyWoD5BSRnyBDNE4PqiymeJvfhbGtM5TnH2l\n",
       "yBHGCASFUZsSHtlDVc3mjgzk6iZJb5KomI/jJmQtDhMe9AcdsoomZhFPmzrMCwZQIufMLcFASa66\n",
       "SY4OcE2yWanebts1Lt8O7XKzokulJT7yhD7gNpxwCHeDl9XhrtP/c2FGVhCaydBcRWXUxVMWVmxo\n",
       "LSgvunZYCOzDrg3qYrxKv/KtohxyMdLW1T1jgbpiR0ZyXyxxJossVSPN1u3zV8TxkzXvaP6/2ci1\n",
       "rh3mhxPf/TymyxxhrbqvWDiaIhe+6zXrjcyNrPMKY7DiQ97X9RSKF6St43HHaw7v9aeAGRv5DMw7\n",
       "knfn6+pXTLTvVoQfwmoVJXWYiGbo5VHCOhiOunERvm/+WX338qiMznBXAE2lA0gT3XqCxa3oGyj5\n",
       "WIA2IGdFMn6gszEcv3/bVs46ZdX7MNGXDpYDewCfOoZ5NBHwbOsldSvgY++LjI5AqYAAAAd9QZoX\n",
       "SeEPJlMCG//+p4QAAAMAmnP+s0bjahABOLbdL25qULGJ6Gw4tMUKuikkJvgbdg7NmGmtB1360uH0\n",
       "TcQebD9M4uMi9ULmwE4JZRfqlQwHL/dF+Ad+Hvqu/kAguZXc/ArrXOxDuRI72afLbikuc493oDG9\n",
       "Rr/sFSx+It2LYTRbrYeo/xZ508nAOv/ra0na9l9jN6S2O6yESkmXGOrsJ14nx7abjLmLJfZDxmwP\n",
       "YCD2GOBBPR9vdaVUpUa149DxQyosZ3NQo0GCav8Lf+5XuaH8vx/1gJ3xuqIgCRoUIe/K+Zfo+8LD\n",
       "3CG73acFBgAYPjjkMjlGR6IT09vxfjB5IuvNVaTyS9Y7osAEvysId6Ei4xDCC67V4wfMZjNaavvd\n",
       "320QKQ9Lg7rSy6Q9srssmA/9bNipnm46fjPg1RESQrigzwADr9JsrqpyrysIWWo0QqZH62rGIKW3\n",
       "mDD85kPTt8848atw8Gc5Ytvhk+tdwVC1vyloZ9/sUXJz4z5/zAMSMBoYsLX8faKZmgKA4uVq6X1p\n",
       "T2YwakzRsZRaMfGLTZ+yoP/91N7TQPtjuKf/bO57RaFX+3IxgHb+bIAsweCguR68oqBlJG13SB4J\n",
       "hiGRWmp3DsTAh5P1x09jmsTe++HHgF4VIvm++eAm6phS0fPXI6u3gcjQSTPEqjhGnMNBM02RsWcv\n",
       "KsaT29t8Vi8pn21ZPt9HHeY+XQKZOvLxAII2PApUVx18WS1yNR711luSKyOWH1Svrz2H+h55p7y8\n",
       "kNvdf0LpTOGS+Jj5DldBY6ITD0wp8hSwz5a23VCdup45uazb+amjwpb1uyhcW7JdPA6TKpK3sYpY\n",
       "DcFdpb8LwxRP/BUGACa6HeJVSzrhXSw2ImBLJv4gybpY/PrX+X72KBuHMhI+8mmrXFrrZ2jfkSqS\n",
       "5ES+RqTJkjxLKuQsY4Ijb/eJntFJfMMmQqwk3vcYwcZW99YNpgPFRYUJnwVObC5cdC0IfDSsBsKP\n",
       "zgel4QxQ1F4c3Amn65+FKnBB9NYKZeZz82ZY2K4Bs7k645y4dvf+f7s4X9jvK6kAe3sdNhyh1wiD\n",
       "m6XW26Co8U/yQ2V4zoccudCLZQ8gqMtW4E62x5aW09DJJLDCiyqwJoEE3v2nt/iQrC/Y2Gt0YWtB\n",
       "DQgKVHT4ruTrT96McgiHOgDMNacTYKTCLi8kCHYx7BItPjRidCr2+6h4fqdsRfRb7bDk5t9jGGjZ\n",
       "JvzRGmtzX3PCAt0bQR7z8KknFcrar0ou5S6BG2vZs/1WsD7XdNRebv3zx5AUZpKwzt/Hh/gHje9/\n",
       "vC/4BBs06bXL8ic5LgCsIDxGWdOwx327gXp4dEX8JvkKZj9D0cTbktklflkZNWy4qbiC9hEk5Yk2\n",
       "Se6YxzC8DoLtMhPkfIa9KAxddpyccYEVE4evwsxPdCaSKCO7daT4RYC5OO/m/2w81nFcs3WvQgGf\n",
       "ULtvl+5BZA6zNINiwDo/YuNQ1Y8e8xdIXAdiM1XLbU0h0+w8osP0pN81BFBkQd27oqYwvph2g3p3\n",
       "InbGKKlwVpHGfXsGws8a9U4j22PMo06zhioJEROl7i6THD1pfqPtkPS5yvHIjXGPna7hlKkak1zm\n",
       "SwQJuX8o56m5+e78xr5GJgObv/r84rRPrbpAlUYnw6cx+coueJGUilzP2thdVHszrL/r4KrBleVK\n",
       "ZjUl0WOB8g75glPTuCrYfM7c05EMdt8BXR58/ln69bIrZ7ZLXeRN26jfYK8BID1CgO/fqY15RsQs\n",
       "ZxRbnEfw/E4fJPTOV/9Q141C2vJPms8YIhrAHX7WYS6raGfOER1AG/guNd85kn7UnRhro1WY0rAI\n",
       "fondoECg2FddmyBXclXsXFQ8rzy+kj+Dx1i8O1izBhBeQGO6XAdxk4wUSGxxMU9c90DiwWCS10fR\n",
       "t+AMR9VcgXTcn38inQRPPU5Xx+PUUvAkRVIaWHTPg3RHIUQugzMzJZZP5a6VgY8vIgxdRTIpAiSl\n",
       "wfemO1eUCnCtKSeB7NJMqpAt+Stq/c2gAf/yobWiovfEZT6JJ8hYTrekZd4D93F7vAGO+ni/BOgb\n",
       "QIztBVDMBDk7GGibTb5EJcVqHpT8I+UiZt14oEY+IA2ktJzs8jnXHtiqGIaZp04pPmGmUxFWQwDI\n",
       "FNywKOCoMwqzHk8bNg6yFaiq5bcwUd7Qqn9YCjmCrlHG6yokrLdG2nBedef+gT/6rN9ODMRkUnfv\n",
       "bl9RfQ/zVVusgBrBJHuJYA+Pjg7g9+CMcr6ew1iNCXg1jehTW4hvFvuZ0NzgqxExwf9dr6z7YHON\n",
       "fo5df//tPk8mUX/lUbmCVicWFMzW2HtXlmlm/f/upFOqC7fVV6ZbbUdQHgjezpOweOtlXHo7K5sz\n",
       "Dz9j+CLUmDUQDOemfHqboGQXqj3YlM+KGLCsbIjEfLRbb7Wyjivgon930yhGLe25MdNtQacCxzgU\n",
       "r3lUgMLBYczLIHQMHhDWoHBjMrhQ6C8OAWNJuHpX6Jpnghr1TfaGxLNA87QRTAYuY1dbxikBWrQD\n",
       "4tbEBMQa1Fe6S55KUbB5seJNnHalVVCueReatoP0cB8xAAAIMUGaOEnhDyZTAhv//qeEAAADAo70\n",
       "gU7XiAIJKTQYGSiHraLXBaHLx+yhTZfIEls3WtS1LWHxt4zBWdsa7GpVLnB96jK/WT1VHAAuaqWd\n",
       "Req78gAQ1Dp4xb7yHg2f+kuv3TRNsFk2CnZcBKCk4X8tH7Xwcff+Zh/8DBwk5i6+cEXiX2OhAj7C\n",
       "qo8qp+ClIejdBeroEm4jvOkC0AGjtv4/X+yLH7g20bC4aLKRKOb4pvGsmrt7hVQeqDV2w2N+uVjR\n",
       "wPjOzmY5x309wjBl4ONRk7I+PisEsRO7XpxLTttum2XUy+FNhahJ8MFu5ek3dB3+f7ar8d0Zhi8o\n",
       "e/mzGsXhaDI10bvD3kLgdjfaWBYr6A47+EEgFPE4X8RI3eNd08s/7G/DKMIpl8dyJP4EIjnWjW0M\n",
       "+tG+YmH+123yZvby909/tpnmjar6bq0QdgRvMXZNV7J7P1rhWGJeMAQkw9CQ6szySS/eQUeT1y/X\n",
       "ACi0iVVkSv5ODiEVWapUEleG9/FQU+xkA4hj6WVVMubDm1azNz42T1Ozhd0AD4ldy6/xuFKABSbA\n",
       "6d+zCWEdNALX9EJo36M4WBmG6LzZh3wAxkwttj44nO8tzarnGOskT1XKzUIvy0O4z7ekwdwDyO6l\n",
       "rSCHOJO4ITNXFcnmYDlV59BRqXw+JkHDx4Rd1tzQKurwFZ/LmygijygF9Ps3USHRUsYu4KzhKrL3\n",
       "Kbzoqfb1NJRPsy5alKcsH9Di2fer0T5uKoeaz//LIBKNfaN2CPV9vbhmqFy+XD120eTRLDM+Wsgk\n",
       "1eBX41sXO0AqMrJW6vT9PN+N10od8wQdb4dglpAX7er6y2rssNB5SDnZNxDf8IkCos+9AQiDztIm\n",
       "Vkzf/Ug6AA1DOxPTjAvPeqxyOU/s9X1HLJH65k27RfQDkWPkgOvqbHKaIrVgXB+mMt2KSjvjyh+U\n",
       "BM99DvirGm8iDca35Gc953k7NO2YxzwjF3FbpvGWEQlJfkX279Igl++fV7s7Z8r/6RwyoZxLVS44\n",
       "9fRpHHA25ajVOUDi31eBHc/Hmg7kNKIyOZc86u+OBHBa6YXPUf+AeMpSN2xFmYBfDrtT1HEpftvb\n",
       "c4856Q0Fm8HjBzV6TgRdwIywPF8YpXg9ryh+xSI+SyXSqHOkRKe6mEV5dznAfU1dpSYQV6nnen/n\n",
       "v+g6CmO9l7VA5wHKz0/aHdTHc9nVJULeKY9BODXebWOy1hZu1CCiBd0uAlRkqsGQe4aFBApkvN2q\n",
       "kgetDQApqP4OVnGTIOrT950UlrC4eDkguK5+4QcWvayGD/uTKvv0kHDJOodQxs1HZ4CMVqAcdZJq\n",
       "u4d88uYqKk/P2wEVzmNJGyVNxMpz1/q181MElvxmlZnXumIXDvNHPPpjcvjuUpDWq2y2JpbFZOkF\n",
       "6FDNatqs82dx/+SCBjl3bjIJ9uyhp00kPItF5f6B9EADymzUBF1CLNHnKr/5uIojvq1OCWC2rGxd\n",
       "yIXn4oN/QzsNtKW/hOnuFGGSVRbII364NTY6IrfT9lf2zpppLPpkhQuvW78X02sHDh85fcWW2NPu\n",
       "+CoQ/OBkVhv1nnMLxgfd0ntM2mUiAGJ1YpHNRG68+Op3g1fjZlHd/aW/wFPI6bjl/Jpynw4pAfM/\n",
       "WSmUr+JeOGyboXG0HjPaqwp4uI3UnxvIK3w4+/VSQI2nKzGywWzIsalQdFhK+SxXzjaQ+cx8/abc\n",
       "UOyRaiqw+VschXcbZQJGk8y62ec8E7kqT9ZBFVSXaWyauV10mp25ISNBDLdJ0Bi5Q6a0mALr2K3a\n",
       "h4+sLc1TrEYygmbJ685H7C9KVdVX6lo9fAj4Z3AFI5dNuMcYIUfzPTc797Jrj8+YZGG+ZBZx1dfh\n",
       "KtM4Ms4QVTTuGf/X6MlPJDuF+1Gz7KwyGqu/kow7rweOlubSxyhsrrTqdbqbDwR0siIpizXLj4IO\n",
       "PsazaSUEKR465kospil27nXl+Dp7cyjy1yylceJK3iSv0Ikwaf/ma0fmx4qJ77t9u0COUSUT9b3I\n",
       "0r9ZD94jLok8VO6sB2eKzAYYGyg38VA598RJmsWQ59Rmfx2LSSWVwQXBSEvmkOJShFmeRvRESn+F\n",
       "L9tZFTV0cpuV8bmVLIj8+Sa9qeQP7MK5+/u+QjJjoYaT3jEz/BUrBYru43M1f+0TlUc9PzEj0lUb\n",
       "Zd868l1KCXUiJdPdN83NhkbjWOFy1iXTHVTHDXJWsXLgMIaao4Fw1KK1FVlIWLTNjpjBiTkMAHAd\n",
       "z4ZeguHvORFZ0kVNiESKfoEHhcDgsFq9RPqnAJjPKPsPszn/wP4/e0S/4kcMirU4EQIRjOfLYHVb\n",
       "9JtwtBkMQ2qZIAtNzJHO533nK+TS98uX9vD29+n27F3OhQWN0gAOiWxRP9bUvYM0XgroxJy7smvF\n",
       "8OW8AiFolcn1tbaNRpG6NFBnt47HzrrxvIVDYtb5INNY0NOnPN3tX1cxi85FJH9NM/0zPbq1A/ul\n",
       "S8Ti+25Kgfz6f6l65h9Vu7wakgPL6Q2G5NvV+QrnEPbRU7y8YmvSLTFYkBOVTJdbx9M4Atm4Pm3u\n",
       "4nOaBI+i6EujE4O9ljTamV95x2LiYJUjya5Ni2eliU3C90Q5B4Ookhl1vZF9BHMBpQMFaBgzUDS8\n",
       "PrJIpfAUBefqmGSCRfOcjB5G9Z6x5FH8lHfnaSKSspwT9udmGjfDBp2i4S+FBxxPKnGw579EjgU4\n",
       "Q+REzMSosGeqaOzLe4dXAr2LlTrqi60P/fdG9LZbjahOqgwSC0SBU+redKC7NoUNjyFi3+OzddA1\n",
       "qIL9GMgX/klg3HGkQpDMCoWXgBKNbAAOuQAACXRBmllJ4Q8mUwId//6plgAAAwFSotPYQ2vqiewA\n",
       "B2BZ9uTqJOkxOZ7sZUHk6h76qaY+hoeo/g2YcKEOQEaTdnhG/TbZM9qNs3YcmGvWrv4N27W1qwq1\n",
       "vPkGvP/aBbsUFRCS+Ygxt1bu7G+AJmkaI7IZUmkGjQQwuaseag4Cprvo6+K0d2UaSAGye13czicy\n",
       "LKxy9mL843DrWuqhM9WPtO3+2B9vOiMBwj7kjSPje1T8iJwrGNsf7IWjE/dcZqsCA/GcWSx3OZSV\n",
       "thgifckpaTJ3UBoHnl7fz0mZvlibZkkkHqf87lTNY5YSewtu65CDOjFxjGObkq4rj9Dx2M2zb0Dw\n",
       "h4HgbJfjdr8Bf1hpn9sUahv90lWKvvqm3CbtRvhme3YRnVF3aUifyzisTiJ4wwuKtIknm0+JDHTw\n",
       "R49zVtWpoTKxuGslO9jtCZqQHtYqjdPfw/GZRco7BifSygZGpfO7EBm9pA4QpgXzoUywmSW1GSno\n",
       "oUxJYH75JR95lnqGulh9qVPTALnEtqfMAGFGwVhIQtMw3mDBtSEQMIgSzHqyFIA2cbhcii7Dk5Zw\n",
       "UTOYpU+ABGVEUe0hxVX6seHanyQna+FMSTyezk71LcHa+84BLUR2aqt0qWt1WnpRnkAaBdP0H1qu\n",
       "yBZS+efYYT+24IBsPHKQ/k48hGTxj0Kp9lkKqOET4I2ni0zWStJJ1abKgYcYQy1IPwo6hhP62CAq\n",
       "9AB6qAARhGHfQXhJQ1433RT+JLVD+5hFuoJgaRHdc0YDW0dhoBIX7JiQbXYJsZaMC8vTljhtKfwD\n",
       "GR2RtQwnFb8NTM41viCULXa9ZJW4WqRyCHtnA1X6uNXF8VvldNBeFtJjbErB5CcgTwAWW8eWtFgO\n",
       "U3qkoUiS5ktTtSbqMysd+QABrDgMvf9lCUkwNWrm8ztQz0nvWuTijoqwJ3YXUQh4VfEPQvdWPZuV\n",
       "cshFVicbNoEpXQGGkeUu1n7bEXjTStNffqsgSPo8HJIzXNnKMBg4ZAO+AREO/JBhhwEZ7YIIuK/O\n",
       "1myK7eWitlGLN6S9NdRVjNNQMUPVIIV0o5pgbX8zPhiuxp+0h9E4Hx3YEPD+SkB+Adlp+jIdCFN+\n",
       "7GrFCwMmIbdgX5y9KNStdyToOfUwChUmtdASocRi8gqxfnxD998dM1kHYol2LuVCUpJZt0hJSJCw\n",
       "GGj804WTZhV78C0JlHlfFcZ0Iw2JQ5NTHAS5wMMlfgG34lXzCzCdF5szkaF5UKuyNSwng7PVRW7h\n",
       "c/2FKbKr60OUo8MEaUGMPY+uomDUkdK8dj7ufx3Fm9T+Lix9BQ4rK2lDTrVXhQ6AEhxlQRCGtkrF\n",
       "JJdEF0h1dDnaT3IjkR5A+LdjPZlwNqAJtFzT4k0GRCG0etlI+CzwyKRAkTZkrVFjSvqq7PPLiwc7\n",
       "RHN0/WMM3giA6TncHYTN1mfuhgeQTDgeDfu22dt1yerbnjY/OHrNVkRJsv0uP1sxORSo2+/uJu8i\n",
       "PB7dGjcZ8qFHbzJobw0ukU4mIP3pF5+UXLx5nj9tPH+k6F72BWvk3mg6EoRqDhNlePN3NwYawIDU\n",
       "fVdfb6yt3haLrMjh3kn5TIvBCEClCmW/6Tg66KjUYps9j4mR7hL8rI4ufpBXoGFfvAO6XTh0K5RZ\n",
       "wZv3acnJSAv6CL4A+V6rEivlmB4AdfD26b4Zvmt4ROOccFJYf4ieAJZG2hS03X3QWTCUE+WGDqRK\n",
       "QBoMCPCRu+HVKuyiHscg2WkSrryHlILPBTZ5LznogWczje3Hdmnhk6VlVcL+U5QMW84V56UI43Cf\n",
       "Birb/asaFeD20Fkyp+ojtwed03iQ3pafXlV6LF8fBVTah4vJgLzE57W6/gq7lzdyWujQCySf716P\n",
       "95KIwzc4/7uiTfaXkMZYRWSmhYfgS1b0qeO+5OxqebZPVuRMvnZgViWCqo8FAVNezG5oBeVEun1v\n",
       "2cMCQeI5Q25zzx0HXK/tuhWpwCbM2evT/26d1dW4rpWZi9GM8woagEpNa5tM0ZtKasv7G8+x+QS5\n",
       "qUTgQJqVPew3+lkI3dee18AAiI3yK/m6uJByDAe8aI8gj3Jt77OrS9yHFG1umvbSTqghhUonGGaL\n",
       "c/Mq8LbgTTmI6SJxiQCxVUmdrSzmIxRWvqRMw7T/XyAsT488TyPuCPxYHagT3wQ1BL0z51hRnRv5\n",
       "GSizUZgED7X1iFdPRTyRDFk1mmpclzGgGcw/iB5I/sYSm97eSObLmzOffkI7XkZqFDiWKUEu4CWZ\n",
       "DYnPtgwpEvQt7mPEGQmuSs6LhPUV+mwUEIq+U9jBYpP5ATqaJZOtdN4+Pswi3h+U9aVOKIlMwlcg\n",
       "OEosxl+WCVNLf7L7F/t78NBx5Hi2u+LCF3yUQ9ymvgw89ptShbg6ZOQhKGbc0Ew71MIzZW7X/50v\n",
       "pj1SVOpw0g1IA+Nz5V2KZZc+35N1HBfRnFe31RzG4whKnCmkg6PSuLnuFMjh8E3vjuxj4hICXBv5\n",
       "RzRzRgFpsaR5B1y19jstG5DtYxdCJMfUDrHTdYwfP4VRMDouLE5KNFnkYg7N1a6g3Ywm5edDW/aR\n",
       "2uqz3ky935JqwDZlRyhhhIO6sWYcEFYMFVZnqqF/NvGfOtyaM9cS8HhdbJGATe1k0vN0U5R3VbXf\n",
       "Aega4EaRUWsfQHeiVttP517QqatuQPO2JJTLfmrvIkgoy87ZyFgTxSNMXglQ4Wa238jIxgIC71oA\n",
       "NU66C4zvxyPzJJq3Z7lKrbDARko1sjrk7uzdrNSF8nbVvVOUBMySY1Ja27hL+nZ+c/qeJ6tX2cRt\n",
       "m/ORh/Z5NhJ1QhdD8dWNrWFZjjk2DvsoOC+5GYYcLrNuiLoHfVhamz+R589rkPo9+teL1kXf6whv\n",
       "G0OoFUBP/WTwIFEAfepZ22QGcPyyPG+Z2zhLfTsXNzGkdcDg6uYGQQ+wM3MfEteCuaIk4aewfzbW\n",
       "Hb96UJajLxuIoEKCiG4p1mx5U9jZlfhCT+drSkhyz3wGNG1iCI0bO+a0+MMvS/8mEycZ13/Wjrqg\n",
       "xnIBMBMimFcAaiSfKIlW/9HZw36V1MoSevQrMTcVdBgZA6o3epaL5tXazRAQlwe+2+Vq+mb3B7Bd\n",
       "bm2197CTqviPx/a/jNS5FjmViQEELa7XeffKD2m7oOSlXSvlkJaN6+PoYUUX8q0cokl8RBMB5FA1\n",
       "/RnesUW4ZbpmpsIUmK99O+ueSju/ZwS7ASzvt1aAch+63nnWoKClsnzrXkNdqTbKkCuZqnEmwAAA\n",
       "Cn9BmntJ4Q8mUwURPDv//qmWAAAYLZ/zC1xFQAbSg0hEIenp6bLmOHafUQXumGNJUjUfz1lWUR0G\n",
       "KJ536Ya0E4g91mC7q8BsCEqXdP1pWGAwI/7Yjh7bsZEU38OX/Bom66RnUnxDX1/+sRs206/xKKWy\n",
       "iiSfeEKEV4rV1BBkm/xetBR9sZV1bAR/s5398ZL1SN2mlMF9lgC+zi9NTdjUX+8BPDvUOuWx9gUp\n",
       "NzNdDvx0fDX81oCFwKeZ0O+FcrH/+UKUsWQpEVs52BOu/7163w38Ht/8wLhqBsYpPdg3pBClsOg6\n",
       "pWEi033Wf3mIkYCH6if9i/YRTr1LKF9kfF7PHXsme2SoEHZLi3DBqCzBuZRluYrivWLQeFm1Wijs\n",
       "qV6uR9oDHPKDSwO6yfaym9fkFx95RsKuJY2oII9y/vg4J4/uPJwDYlbk242DKYUnKofm2ES3Rj/z\n",
       "5u5yt5bCtUjyQ7JyfZkbkNOKgmUJMTugtl7cmwbGBM2EMDZMF2rJShP88xrE/viDmNs8z8MSMwSf\n",
       "sGFhMY0zvyJxvhTThCFfKz75k4qJ50S9RTnirgHY5YNfadcWn+6txa5V0ad4g3/G1XilBhDmwi2Q\n",
       "mdEhqeCpx8qc0xcEM0ryobD9JasKJ9F6tlcAIkrqs1+xs2Qa224lC6yLP3GSAPND5eGZxal4An3l\n",
       "P7Rxp+LWK9zJXu0Z58RxaB//xrodl3feh+u4PN5PFwfCWj6on9k9w/k8LSbg0NLwMx2kzgmWd/hR\n",
       "xXgWb8Bj0NWcZpb1PmbNqWTRjQ7mRrO6o8TlxPG4A60QvvlEmR0BeVqU1ITgM/sY8y07+DXmmJGv\n",
       "CbMuul4j+GFgFfGiV2NziJUoRGrvU0D8TW+7h0LUemUuyZ2qp6K+1BKr7/H/W3HHPwrJwPAg4dJ7\n",
       "tdpTjqdXWrZPx7KXvEU4/q2t+VE0qGyt7MunPYkyhp/TZAmOSNnobH4++6JY+GkD1KgmKjQr1Bhj\n",
       "UUMeMooVNwhR38q5CxOSxwdEkdAGWpTvJgghu7KfKwzI/8fly2W94xQoq6A9Rf9pCCdiN59k1p9L\n",
       "EqmDFSxfyFqjkd1YYzTJsw+RInJhZ7Eio0GOjOoE5n3qxE+LHML1VWYIKjWA+6FC7TMWTa5cfoAf\n",
       "kcFP6YBVYdHAeI1e0p4mfhGB8yBdWgt9fHW0RD2WCx1ZLcmtanOasjmEinrkB6/BjB4l8O1cv5q/\n",
       "u7dFci/Z+Vt3kx5NbDag2G2QJpHxH13koJ490lrOk/fgwoIHj114raAUXOyHy1bPtAw+AvI+uXy/\n",
       "BVnX+e1IxpYzECxZDHUmD0/HZkzuoeYaJ/wHLHzrp7ddUbddtlTEYHnmh71tj5dvs1HCTO9gRSKX\n",
       "NtKix8BY22PrNnOVf64/FMfLBVZ3qiP1twu7flJLCXj2361azuy5gxH4giCsT8ov/Md4BdTC4Nln\n",
       "NFfnAOcLoceuqE9VmEP+bOglr3AmvbvEZKbkl0g6q4JxjkHpHTYY1MthrhY9ek7I2Hv50tPW3CCs\n",
       "O2VsVxEfVpr369UfZ2wiaujOVPl2ontvrst5C+M5VqMwJbV+ybz2t6it+8UpEdsT1doFwFLAuiv/\n",
       "Erta7G33G374pZNVgBQ0j7I+RUdbtU6EDQuT48V0XgK5p+4b4TedfRtgKDZ3ERlsAy47jnHbgMkt\n",
       "7/cBop8HK+RvedlgF81KVrT9WNkb7mtnd1TMvbWgPpBRpnOleb22G/H0VuNmzecmOXUGoHOsuA62\n",
       "+A7/oSb4jL+XpMQanK7LsvaLcWkeV3jz1k/Jo31bmQxqGWOtDP7HBUSNutp0UCePa62v6FKZ/J+C\n",
       "rQSvAqK086trnsiPeBfBI8F+DxnuLFSG/u8eZWVHUCOJNyu4ZqEaUC9DUNUQoYSSU0pO+nlvrxCd\n",
       "tTiMda+0A199jpJfeFL+JZw1RGM5FIP913/5qM9Z7wLNyq/bqvu4EKo+TSDoYfdZmiOtq+6JfoO3\n",
       "pA+oyiPsnJZMrCBq6/6kIKEAR5RF/pdS8UcHY6inO2VPsqN6yQrP1SIEtPC4VNOC8CBEKFu+SjF6\n",
       "lFzPYPhBwmxDoQ2kPQR6EoRGRDbsLK7+zdtPqyAYT6BFUYxXkpSCpguDR5T41YQFtDymDfCIm+gw\n",
       "xGYskQZqk5TJ/yq5BpT4rEO4hvHviAdVGtrXlxShNl5hwJW6GC/50wnf8o3RiX7vly/lTNR/BYph\n",
       "ItZSUQsvchxNIysmMK5A9/tV9YbW9W/OajVpak0i/O78HYxQQ8CjP4qGlagV9WEBy8uMn9hhTDHj\n",
       "+tTAY7WceHIyNUQMzQvIO5vpwSXOzZBUN/5oV1BwcHTHgZhfVQSKSKcH8DwSdf/S1fY2VrsPnydY\n",
       "CXN9usanYSLf511oHhz6smi7KnXwAYIpLNsdYl5keMkpdmTXYBK7IZLaUAE7rL9U3Nlm95lLVVxI\n",
       "Z9nVlFBfwINogMxjagTDKb/lNSrAU842bzT31CQ226jHOV4QCkrT7FIzgi8d2hQSOStnMC96D0jp\n",
       "MTPg8HTR3ybzupFJz4ComGB6aXJmoBjgj7VXIGPJZTt7V+PL+IUqKQVsgm4sFNKSXNi+Iu7au+XK\n",
       "b1MF/S+qwv8ts+zAx6a6EC8scQtDJjvtjyThR+pr79gae7YGmxBwj4NheLCuGUUu43UY6N4wz2UP\n",
       "zeE4Asd32E0S2k4NRYyZwp9nu+gsulkuVZfJn2/rLpBxbTJG/VntRHpyA/YqveMICe2HXwuRXxle\n",
       "vxa3EKgyOpvrHkrmJguWxHvR3XppLTLvnAxDVyacxdBO742tAIgDDpknaAOR4fk5LBT8FEq8kZfH\n",
       "d2JG+yUY+BnLkklEd3cMDO8wI4f1QycN+y5sg/Fr1eR1DOm+XljCWapioeFzDJFg7QI+wTWiKzsV\n",
       "enn272cACv4lvkyaxbxISA7duP8LNLNr/YNEXiqMrSLVQkEDoAcIbPPrdG2dVmD6HO7oVEGuT5uA\n",
       "/kyQG9XzAnLuRH3OcAHfjlLYfgIljk8E2aSTMSG42kjdLO6c9sJchbZPPgNjt//Ty7Z889Wi0ElB\n",
       "PBfMoNjfswQ1uppfMuGFAuB441hpNuTpVD9i9j8V8GaAFOosRK6AAAADAAbsulnOuWOMJHUmNILN\n",
       "1IarfuzZs5NN4F6A0DwhGI72CSYG9XfbbSzAgIHoejqc7ktrsifr5UEyHavqQo1Tj3cdNn0Xw/7z\n",
       "FgaONWXPcZY7E2YaRaU1kHoBVz6snbG3XQ6e7SnRalGBAuuo6VrsMhS6VyBQEzHeVgMfxOvRuAwh\n",
       "ue2iGIHMos+C8P6YWbElRM5GFojdmU22O4wFELKXC9UkvZAXHdI54EYiANM5J6t5YE6Yh6OFHF69\n",
       "/T5Tvz3plepaLXA38GM0NIbEvF+dolh+xKTtuvLqFXxsyKI5oI20VTshm9AiGPnnLUjm4lxd1EaS\n",
       "3G2L4a+wAl9aBSrK09MXSETPoShBOSSUI3dPj97l+fLfHAAFPOSeKQ/yskhsyd0gcPK+ulv5jdKy\n",
       "PV/xJtltgeAvLlnRHq6pxfCoupwMIyYD5bVjt1ilSXyul0GLD39igx4+hN2A5yz1OklYZSsdFsko\n",
       "bKbmgViybMGBiwAAA/8BnppqQr8AACa67l5zDlSp+TUqTCjlP3CzPNdEOOTwiAxUVzrQyg3Pe4AJ\n",
       "sYe39bqhTON17HSFHq4LrUG0iuJJJbOLthpqx8TFCiBkbnEQkMfmeFwrFbA+fePSiMCfHkjdwaGW\n",
       "JT+8vjXIF7vHe2HX8q+Y8dUn1wYkfaokzjw0hg5SWOfZDhPRo/mhWGeC8ss+CMQJkJDgAizeyU0H\n",
       "12X+AJ+czbtEXuuZua+nyM+b0BbrRfqvjH0mV+FQ0xY3SGhMfINzC7WDZ8t8IYuyQdw26Tf3w8T5\n",
       "NjLo9AoAS7HeuWFDyo9moV5S4VJR/WQmPAlAABEJC3mc5uzrXF2bFwxPSNWSh/YV9ZHrzRCA8ZcX\n",
       "t9rTXyIE8DwaQMDjvF/N/QDMLYodLra1Q+hFxjRBPpzG2U4rGvnkKCRmWKNhfSFFLuar/A8cskwx\n",
       "l4pGzX16tnplyZdIAAV3pZumAYhubJncyJuieVQFs8io7kKKvhTc4DlpMuQTDJlKb9RBvWwKeTAA\n",
       "KbEjAYJW+SZMABxa212VuAgPbCWBkeHFYb02w3WH6cBwBcjv+lwM6QiXSl3aUjApiugHpjE7EZWB\n",
       "W25zqRHPi3QF5szpBRqnXN35NFipWm48qa4u8I8guhqtyfY7aaG+v3+ZDqTZ+yMBseZ0BpPI0VPU\n",
       "qHeN4e4O8PAp/PZf66cL+uC7535Fu/nedGQtMwDj/vABUYADFtoYdmIGMQxl53ha3WFpNrRy6j2q\n",
       "3+m6eZNSPjU0dnQAGqp4/Bb48XNA7M3vTc6IxN+LfBIe0PNxCfXVgUub08vUCarINWyqX363ZWiu\n",
       "kp6wcOg0XpakKfPWkw0Ui/vUWQfYZ1ozjgezRhwyXZpWfW33icm5yNjt/hXsUJjLddWfhphXlWJa\n",
       "z2b1sNfh2wVlmk7jEwZ1uAHe/4dkDn7Wa+eavRoJ2Z1La1dfPRBx/3osycZw8kxm7fKxwWL3SxoZ\n",
       "bJEl6jdK8Ze+uC7vEucSYx5GsAz0B7QTYssvegY55UueVjqA02ao0hUK1GY2cwbbzseElFSmlVoX\n",
       "9wwhpHy6sgKS631tI3nYB/rz0dwPreTLLH19UoSIbI0jFRfaqXCjQQrW90kejhubmO00+nlwyYm+\n",
       "wmsRgH2i9DJYEc3kxYxtKJLxT0wyBV2W/4RSLiH3DH6HvroeWb3/h6R69OKIMcnyKLSzycWqxbVJ\n",
       "daMEgVcpE8yD31QvAAnaUPH2wJ6nNmMV2f7X6htB0bOVgsBDJ/hwpfuoeYpjXwA9J5yeVJ7m1CUG\n",
       "zMwokORxq6hAu55pE5XNhTD/LiL9aOgj9lippxHYnrDacB6coD+EjO6yw8/0OMH1cPQt7Xks2xDB\n",
       "sR3TRkGgRrXAS8AAAA77QZqfSeEPJlMCG//+p4QAA18dgUAGW1lhvBzGLTZ57/I/XMKZWg6grihB\n",
       "pFS4CCiv7xGVnX1NFfKAYTrnWVIHS6BQWsb2SS+1KdRtP1Mm/ufvLFvsKqLlwKKsAG24v6az/UIs\n",
       "NBOSJn2TSfvhlBYm//O+76MI/Qt9qzQ2FhzqDCWAj09nZsDL9f1PeB5uYIOTnaswwk2TTBmgRjBS\n",
       "VBLSJx9Y+4ZRzlsDukgiMEpselHPNvIw3IortGK/iiBnTK1I8kS+BAt8/6EKUKsLcYXkeHcqd7H/\n",
       "v6gxkw2xcNyauFrE4pXZjjNys4ZoyUq07M64hNvGgoxVzWxrb6++d9S7hzKywYUA/HWFacBnJ1wA\n",
       "nhIXN8YkRTirWEkJr+nMfog4bupzwYfVAhBXGuxBy7otUtAcOw3cpqOuu3GvRIvGVIt8NfSQwKvv\n",
       "DbVc985i9oi4H64HjTY+SoMmxquWJw13XFTUeChEZhy/F9m//i8kgR5zbR5cephL+EXwR7C9mqV4\n",
       "O0ufjAeXkEWc6YmCbeZZ2fsS2YH0LABhOHep80GNEWPNwBpdD/IqYry8WUfDoSyyx16Ap9ZHlx8A\n",
       "xzbW7HUsIDeRSD26qGwc6QUBT6L/i2VPb6B9lPiBne4uMbs32VXR8FVlO35svKQ7I/Xz8dKmbtKG\n",
       "xICIrUBhl04j9XReJeyOkQZ7JbCNgjNbayTWFa7BIN2nb/2mhjI0YKrza/MEy61OS0zesomZ0iqz\n",
       "YaMflHRfg4q+igciQ9K+6mbuRddUPEWX6XnMXyYpy9NpbEOGWm50C7Ml+6o6uoHZz1HZptZ2uYK6\n",
       "4v88HrYwaAC5KsbB1hUrh4iLKVgBYOIg/mYhn6dw3gIpa+YOPB12XZ0S49ApzG62lnPu5ludx2Ms\n",
       "ObW3uKj/UKhI5Rntk2AdDSiT3Ib79U6LBn+ubd/c6MbbjVQ9puiqws32Q5QE/JWNYvdZzVpM5ivM\n",
       "JDOXO2DtC1krUoUENHJFlK2PBn006x6Be/ZDj8MyQEfqo5NwiwuVRFnPEsW2U3jfrj6lemycJ3C1\n",
       "q8601aWvaibA/ckEhB1d6yZ1pcedaL0sJupFV8Pzkf8KL1u/5rdiMNPTbqtxA8YwHh5jvP2tZeAl\n",
       "aC9WwZispobHvVGaj/m0ZrbHGLg0uZ/fmh1gMF/4u6xyJoV5iq9KRBw+X3SJcQBkyIFIA0EMSvtl\n",
       "i9Qz5is9OD0qpuCJM3L3y8T0Scx8Qv8IRVoXxq8hGQ+IxwCl+RkXvx+mcsGh+76isV6ADrHtsQ1L\n",
       "ZufpaUHEUi048Dsl/PVFBebuKmS5fKdix7UYdbaDYZgGfCHAHFPSPFAwlGKdl5OBGn5NEomK8vUB\n",
       "HcXk+vgHpi3egclo5QOjrw3F6RMAkusW1EL5jGrHieBCWsCNQEuj0G6DhgQYeH/kC/+RsmT4rSKn\n",
       "whYrSTH3UerbMnvT3V19EuP9iBpzC2tiRUwd3B92FxD1ts0koABehPLFCiB3AkMSfjsRBGn6jqWz\n",
       "h8vg0RiCVHpgaPXOsNfR3nYjlpSULpBHk5WX2sBQr3GxlSNcxKGOorIeJ494LmXsEvIWlr+ncFQq\n",
       "Rpyw/uxMfWoX+4FPCeIKxNl5G0gAGQJUTJTPWifdw6GVBp9+TukQWbOJZaFPa+EMti0PWjYTbg/T\n",
       "VPpIjJdcD98al93FTC6bqSs6tdidBZYftzQ4potRqRHKOKYGJ2jmhISRart5gbfzXzlBD+5cRLFx\n",
       "kRFEvb8+GEcMuutIzFEdwVLtvoX+GDDuysW7lvmifgCmpUFbRGhEwcnGAmzquL+RbfEBerF+qmfv\n",
       "foqhtA+pjzGi0HlXSWBZQCojJaC7qdrdWtXr3vfiN2hf+HB/phpfR9edu8mPomtCHV0qLY0qeG4i\n",
       "WnBZeYUjb8K8YfgcfU5lULVRl4SejaYm+l12oieAFTKafxzT/2t17SY1SfN4Cl8WdrU5hjWLkxX6\n",
       "HkubTuiDSgRb3xaAPWyaSPJKs0XVIqBxXMNIgqAExxakQzeN8sSaI3tEV7ROp6f0PfzJinuod5dh\n",
       "JvEGW4rtwU3V7ZYHOZYgDEZLZN0IxHy8chMdW1yM31JxWTTGQYb3mTexeyKCrcXK986c7Ou3RKhx\n",
       "QoAcWbUtDMt76o1eDAQ8vwknOa+SJsmvenQ6BwU5KsUMrsy4B4erejHYGog/pMF4w5be6YBn30kh\n",
       "FbhJxZFZYYl+o050gk2otMcehYCT3qjpyv/W2i/kRPYEGQRCOUfne91D6nOYbDaebn426woh0hOA\n",
       "4lCn+SYCC8dE3iIxl9vwsvrihAnleMzDiYvFT/mh3IsE4fnbckZ0sduylFsqBHnI9FsaM7JNDmGN\n",
       "vMonGKbFGJ17XY06a0KiL3iFfeEiKnXR2AsrldsIP24UavZ51TLebPjO16OnIXHRdJNAXmsjGKUG\n",
       "0EO0lWSRP8DeJ1ijc3i+bA/Fy/kCr1qL3bxl81aMtoTuAzQcJYRQx99zk+VF/MuCeDTSZTBk91t+\n",
       "kxYisEiX2Pp5OFUKZloEE/YFsHmUPYqNdRzF0YCHoUnDrV5REzj/wgH8IGnNhg5WzpzSlqoPa4cy\n",
       "sdmopN9C3ht+yw5yRlGbbFfzFyJtQoXyIYIOaK9X/bNmOa6K3e0P98nj/ABZi6urSnEH0kCLaacJ\n",
       "un/yA1g28XsbsOgIagHr3HtTwfjHDJyfpYfm1WPZXghkdqnJjgssI2M4va5Jo17+648Y3QnGLwUN\n",
       "SiyOE9SVAgDBjioGpO/XtQEHToTWfmoP2mIPSJNfL4kJBobxLhBbXENJUu/IRLBJPx2lp/rBJio8\n",
       "ma5Y0858sdpKeTxh7suhH///Iuhy8MYdh///p4+/C/PoehUXAOYzqPx0hZTvh7CfXOkZshghFotu\n",
       "+AFRa1+h1vq6zNAcGlsxgx3sGju40JDggwM5eBR5pGNA7vJbnPx6e1MLI4/XvgKxDTJ9DGD7c0h8\n",
       "UV56YcbsVr0TlhXmhxQcT3LKdswEcxWnyvtoJQb8TuHn2n2121GFQJacw35h0IhRi1myGRszY/Si\n",
       "gEGys62uN2/L7ntnAGQcwzaGBGJD8ixTqXbcKbggApT2fQarPuK27MGsMbA/wo1Sw/OCjTVJTLlv\n",
       "NhDO4uYn46xE9C1UsTxcRRxgXj3R5c9eKY9utWjKO1W37ea21btr/EH8TZbv9rHfR3Bj7XKQWq4L\n",
       "AYjn3uHBasrNm9j7OAlEsmDfMvVi/xPdclr6ygcwO3SB8qjpzvyDNKQYMexLh2rYPJQbUUWq0mjQ\n",
       "AHas/7cAkuP9KQt537wqDIEr2iTn1hPH+5QkSF0G4BK0ykv674bd+jt6cjXGF3m9X/niwbUl/EEq\n",
       "OLq5eWhnvgrgUK/VgtLRQV1qNlwuP6UL/xShBRCWILF8+C44N998kd9NvdvjGQpdLhCbKby+YK/M\n",
       "KBSaIBNzhNLk/nQuK/SERDzq4WfdECCQkIYtyHiGZHRqPGhwr/GdanuFKvixCO8ewEkDhza8W/zh\n",
       "uZ8GO0fVfVl7nsSAaTK1ErOlIrish3T3Dpo8om5j0yJK+9xFpS86k4z0ixmVhe6w1kZ6GtC1qyVx\n",
       "z9zHWIYUf8q7knms6OvsC+jt75hyaLhowHT+fxOG1OfiiDCLIAPrIWyiOR9snBFoJ1fiOxmdgcG5\n",
       "D9rX7zv25nQ2P+l/CbNP2TMnNnnWa5A8puSgUS5WkW/m0ILo4eZgBQTWRBd4hz5N9NCX9KAL9YuZ\n",
       "Ija4SxPCP2/ZMDs6Y59HG4x7V0f+kjReNvg0I2NQVrMaZxLFyorVWdP0Z5xj523gbXpdmuNR5aIt\n",
       "rU8dK78grxoKgIx+/GlV1AXatYv/lSU7gXPXF7ThPBZUdDfyFvoFPNjfZYEJZiPnfL1Xpp+DQpnI\n",
       "15HN2qRWtynkeY40wmE3Mg/qtciPRX4BRGeV5UVc4ihhwI/Rg1oYNlXfK433rz/JYawhYoq+CI/z\n",
       "yQOb/ZBEVe5rBKcQiZw8kjWhWWMIPpJ9TJUJ9PrSJaQJK11EwHfr7oXOaz4eDRwDd9UQ4M6hpGpr\n",
       "8Dj2AavFSsbVlKANaWP5Fj4Kwj2+QAcNve6tCBPPquv94+MILm3/MVBG9DkcxAaB+HC7aEwYOsRr\n",
       "7uOsMmKRFId3BGJpgN9k9tJZkox/NFDO5x0hv3KjALG639py4q53HRcSjnSJHpayqOQtfhRO2CLC\n",
       "N1aG0jMigfr06mK/vB/pCHqZkTRNkZgV7sflWBv2XMUKlyM5QAsxSehcrjVcpISe5swZwA+JQHB3\n",
       "UOWhTVnZUMNKQkJX0fDFqBELQ8epYAgMOvR3RTq9mLEoTxKsknEu5cs+GU3Zxl1rEMgT7cA6G4IB\n",
       "/wjFexmE+iSXzs9theWDjLsOZzcZVR4joa5hDEkfW2DHQlNltRlNxSdztK+QA3CJ9AER8zUFgvFZ\n",
       "droESFUBCEeN6NFTZOvM6DP35Cv/frgFYptXNc1r2DHA6NqSZkVCCcEe+Q1cypfsgWDe4nPT+SIP\n",
       "VktrBR6cIN5t7oSEdjOPiJ3ZRnnPSfZy/VDxVaYI1G9E5PophuHLp3f+kSDjzhO4X7shb6J163+s\n",
       "Hda2ai0zaMQkIdZE7UeC01ZI8SreaFG/pLWbr6WAHfwV21ch2gKJZvaHgVn7ercwm+oOoXI5oZdT\n",
       "MiLswotJ78xS8uodlOKF9lp5Zt2SlGMXP7bCsqwVjhewBfyQFSplDHGEZ8YRnRHDj54Q5nhDvYCw\n",
       "FQNWlvZltVRMr+/bcpigvfGHUPocCAUe59nUEbK2CEcacQJpyL/ozkP8ZZrFjSyU2QQU9oYWWAs/\n",
       "ByVOWmpyBH2dwUH6iCWNa6vaoH3qjfI2c2dhuh+SXYeqGTwPC/W8/8OZ43VI0mF47rY4irxeQJtT\n",
       "6Z/tS6h5gHCOCfbLwmoZRlLM6/l5juLqsHLflswtcN2R561SVYMx89Oh+kI1oFYQAAA0bR7TOzQL\n",
       "YhTgIh9WIUqCl7uT26Ib2roSiFQLN/Y+iE7rpPR1jze/yifYWpNqkSvTnoIiUgSIC5Gr4YUejXQA\n",
       "fcdiiQACcODjsIlvR+q3E4Jy4dlmofwlaR5PoKUrrk0a4BnYkFftuDXbnP2tZkn0277sv4kozuDk\n",
       "dxLegQYq4eG7KxboymnJEBCIyg3t9BfUSjUIjoDegQAABdNBnr1FETwz/wABfjXZW4g++dkUqEtb\n",
       "7gAtKaGjqr1eTCsaLvDCDHFXSIL2bZSeYkmMvoPgzOPasrgvQ/M7qB3KfnMgMzvMfVLYfRw3d177\n",
       "YYtSyuu2nzH3LIlRdrRZaQ8XP4Fzg+qxCP3z8XLcAXwruq5nSwHlTST4FVdsdedlqglL0dYHzWSs\n",
       "+Ccg83Lcm5x8QwKO2vP6LvyuI/UFmN/QSMrdYjYv49zCFs59GVKs/vP3br/UE8hKr2uZGwb7YOsL\n",
       "9y+UO+YVfw/x9eqbFrBaqixjYVIejkCDNzmnYCUgAk+3xiQnp0SawWPvIF4y9Pevz0VoHSQmEoey\n",
       "JCGb431Cg73wHbM43VBucjHNgI7452BJVJq51KwkLp53gJrgiZbnbKKO6za2O3jQm2EGpPWgnZHG\n",
       "etuMlKmLcWn2PS66+tm5DNS6QfAuMXkoFwX5G11Ac5f+5a9eg/H01kLv1wPVdnZqu8fGGLqpVoh+\n",
       "OAIGSrP8/CcyyNxLh6uwJPBZm0tx3vrgDJxlTgHttI9Sjf7i8lgsCGQCLBLYD1v+3OM12nrnnIu6\n",
       "BAyo3tD8gcqVoAAE2SLo44m+h5lEyy8ttNoEiBSkXXZzGyV97HFMNooQoUGVmfKmBLybRu/7LUc1\n",
       "PJWHYEGnKIzJ3pkS6WIKLII0JJWZjgW8wXXus1xGSYrpyuN/1M/cQNbxhe0tUsS5Ig1XUNyEJ2G0\n",
       "8AbxeWPjR9WjEJKVZwnSanWelZIEffBna7j5ehsaTeANxA1BmfHelX3JT9ZFHpQDsXYEzLr7url2\n",
       "rsbreJlA7KspotosOV+Cwe+ius2AE5+C5Ob/zcYLoRjC1wtZ7XfE9vAnbPn+Uq5ILsKP8VsQVPlB\n",
       "Fl0ZMdL1XYevmUHGLengckiQgTL043vUstlLCWsyVNG0l2INvTmW6DcIZm5ERpXEfxpYYlahtVvF\n",
       "ccg91+qpIUtBBy27w0b0F9oADV+JUhyCtor3N+kt/hhKVvWtC2G/UYE5+vDUlm3wCl9IKNJSOLQm\n",
       "jYIbFNfSDc3OljVjKx0QqZhzGKrTaZf0IyZMqIKTz7Ou5dMapTBExBoAmYxqn1zEUsRp0KiHc9Rt\n",
       "DHCPrni9cAPf2UQuxFB5Ys+qnKMGTtK8cDkC4UShUJuGngDMOWboRjsBF8zv9nky2dBRTirpafTx\n",
       "kFNv0yVtvibzo5P9cB6LwZWPIcZNzLYb5T6Y812JZZROWfoqk8TFJVMPSLuHBa8q2TJRlOMzw0UU\n",
       "w1yY6VVAwrCw0hIWzQTXMa+gEtSV5XbIgormpd9T1CNE8wZUN4sDl4SLkIgImJmG10roH6+xkJpH\n",
       "BuMsQrGxFSzY7ZxyZQX0caAMAUUIIy75jXV0Us6NqG8lo8gaF4cJ8PnIbJEVMb734o70n9twPp9Z\n",
       "e5inElSDqiQAlQUFpIeqmwX+X3Y5xe7JEpEqwnlfVMVemL9lPXqzf+AAACM6Us22S1tzU0Svqfge\n",
       "FSnzUtGZ5QOSvPRIffvzw0cA/BpN+WTBjMR9K3ip7w403nJZYs9c6ELMNAMaBvprMq5QasrwEYUT\n",
       "9KVW3esIfObav1vKMpDH6b86ZE8Wi/mHFDjv91WYrsO8Hy8dFY2dsv/X1cHL7bK60qhQAXoVeMIJ\n",
       "jqNVHnX9uTYJdfEJOpjvPTHa8pQvWy54gP2dmBMesWSUlHtEOP83bIAgEJ9wTyoibNYUq027cgCQ\n",
       "6nJPXp8EFlHehRKIhOMlJ5MgjuND8ll+PlKpldPYY8QQ+Cx3NgrLlu1swyLgdGRb7+GycMGmhjiC\n",
       "q5SLDZn3LumjkopYumF17ZfxaO0jI28/d36yvCmVTIxUqeme6rNesCqwcTzhsKK67Vv46fEqk74V\n",
       "LnrKWR3j7XQHmeOVWL++iCTIw2PYQmIn/zUiptJpiKwAvNH2L+aI33Tb6DC7jz+At2gq6WamC9Ek\n",
       "OhvCIcd2ZAJay2WMx4ZGqK/8HqBizfjRMi5L9HtEiCQ7bHz6vnnSGsnsBQUAAAPkAZ7cdEK/AACo\n",
       "ZDISn6gMMH8+cGHCsPNFvhxRdp7pjcQ/dKtknubcABasb3p7TUo4WW+8WATBSsbQ91kjYSyNNZbh\n",
       "2a0rGoHdu6NwBRVNcCnzXxO1Yny076Ofksh1oj83U8Wkkzqie1mNY4KZnZtdl+Ym/xjm8DfUfxfV\n",
       "64vQiR+9Wpq+S2qxjV5E0/eDuwOwV526NEDgSiIvvLgR+g1yYv7boYglVGnPXTmUoyT04xwc4Wqz\n",
       "51qFY8ULfU9g/+06XCf2NuUxq82OQ/CxcwQ1f/mY37PKjJK42IvSjh4QnnPtLHbbHkFiR8ogKLAL\n",
       "51bTvoaIYv06fT/OO08h8kbBW7WgpbaZOR/Yvpztk18IU3Nc492mTIfdF38BQdae/4FcRcAbp79T\n",
       "X35Q5IlpR/d71lIAcX4rnhswXG5hkfLWpDVuLmgyhwbyxCKz/Stpia5U1RR9cJHd08rx2K/XPlsF\n",
       "0Oce7FS6beWAaGNJhA+pPEVCsShrv82DB7yEnq9zD3H03+q2cQCZVgo/KeTT/G0+YnSZhc7b37zZ\n",
       "4CMTh1cUgcp3XLLkW+ANxKUmE9KQhdEstzGZDJJsuty1IFSq+Q44mEELalXIL9/U9EtgAAAHkb4x\n",
       "ZYNKaHlEFohMsKpVUGy+lmg98cp1PfKS7SR9IOcGb/yVZE9mnsikKBmBQlX2q2GSwx75qZsY/+JW\n",
       "/XMYEfvbadxfUc4VOtw64ue0PDLDNrDIZJKooUnxlzSPh3meZTGCGonBabHVJQsPkhIEm1KqM4ZG\n",
       "86aS8dseduTANjwC7AzUpn4h37nW89WYO4lglALTgomx2//iEqmFc92DNrsLcGj/rWjgrpveVvxC\n",
       "gPyyS3ccsj7LT718vECISDjQQmnpiONSHBZANmCgTE+WvIoUCBS+xq9hpPMVDeCald6ABrGlunTH\n",
       "pOmvXEQW0T9gWRttU3rnRF21M3erK3qfAETpGds8E0nurXmr7mbB+MFl6HofjAELPVbF2Lx8GmF3\n",
       "4c/PoVGWVU+J0Y13K41Dmjx7rLnZyH1hWmQbocdMQNSwzoyD77IVrB5XAnWDfmBLYNBBNBO5sd+g\n",
       "sVxM+p2wUr+q+GqEB7fKS5xasaB8NsR33/7CZFiAzQiOc2gOiexJWsbKsOvIscrjmmOgn00Nk+fv\n",
       "do4ZpxukwgeOQ3Nq9RSEUpOtAMoxDxjVTYGg4Nq7AtNPfwiIiGiz+j9QM5eTcUM7p3ZiyVKU9Xah\n",
       "49PpvlByrckuGxXF3ISI42WiA1IigfwLfZIUZxrz2xbLI7/696doso2wiOg5sEDw5n3R1lVIP7Gi\n",
       "mLba3s//G+3Hf+26HfVGxgNSAAADtwGe3mpCvwACxV/JcLWyOsWeZ6N2QkfYaAAukbPgcQtJ9CX0\n",
       "buk5UYETit+YGz7vw4t23mtDOaxImfIUp/Aid890xPdXT0aCVNuvH3ib1u1o2cGVMeNXvBKDjhfm\n",
       "4wN829h2/HWlnO7JwhhS6LasyGsy1zH3xoKjPfd1uv1OsmLkC3j9vynX38GFLm5JuzYsa5kkGLEj\n",
       "+4vsN4lTmmMCo0yUuQFcneI5YXeVaP8Nn8o9SRqnSU/N4GqeT2FNBnfoBN5VQRRdnV+2ZE9pr52E\n",
       "YiJZhnu4ANN66g+jTBcX1k57GGiqyjLU8FIWrjVRS55oOo1GdQfyBk2D4UtJXle+sLu7Dl0v3biD\n",
       "cstKVNsoH4uqQbgOnCw+KmkkXDNQ1YkasTfTM/UJtmkBt3SOzpCbhlyPE0ki8QHzU6gNV/Voum5B\n",
       "NfQVC18iEIwCnkoK11UykpjEQeTMvGBUuw/DtmzpahjHml5s0I9BkdLhk+aYi7BP6ftY/Fn9OnoZ\n",
       "223LLlEPlpKMT7U8BVDK9/awkgzLmYL19uhQJXyH1uw9Ddm0D1q5KzGISTLB9W3pvaKuAyGATRoP\n",
       "yk5bmleExArTcsjSPa+XPqtEDLMs9VT0wjhsKsnN9sK5kSCUfBFfAOX0AzjdV9lLT0nj+uuxGRLf\n",
       "Tbww5Lq2ukplQRxPru2nYGOZgLu2tz9xk947uTj32qX7B/+4MuJqWotOdJo9hnLUniVq4ydHqt65\n",
       "n0A2Ql7cDFMQmAvmUnn/dkrQun4NF41ZX15/mGft6MiuZ+Aa7skVepFYu4LTJnUcTL80qWdMclTo\n",
       "rgW7DFoPMVTgjZ24t7NbiAaANHp50XdxDZKFRM6QNT545YCNWJpj0AAAAwAqJ4nXxGh3x7oR9hqV\n",
       "6qU+pEbbV04MY5dlhDszHVsqOMIrThd4Xp6k9C7MgkrkCAO6GX45/35NH32dLE/65zUGuO0L38Rt\n",
       "OKk/y9+sL6N3BC6GeRFmQPeAApNVvbadu9xMEgj3AL59UBtGJvkP0sMnMYCzLwbWEPTRI7JnkPL8\n",
       "NwtJH8Uh592asbKInmcxBdylY9WYGfgwnFUzycRzpKSmttq6KwdpB5McA2slZ8272xdnKe5lyrdC\n",
       "iscbbhNHpA+CPZi8yegBj1FmWLoL4Q+3dmeVTkY6q5r/NIZk21sDQTXRb5pPJ545k7YQJ8IL8/QO\n",
       "TV/RMnE/FoGIO49lM8HIrMTjSUXOBtgPmfP1TYu10bZNBXT6V0yeTpjHXc3WVtHVbIbvCF+HA/LI\n",
       "ffAIuAAACOtBmsBJqEFomUwIb//+p4QAA3Yn+0YWQ5QADJr6QwnESZOCiuwOXGlFo2yBmxLDZWg6\n",
       "ohsoB97c9dT/2S4mfbWY1y1muyuqiI1kxkQYeOx1bF7gb61otbiUgSwv4gylF/Kf8k1COW5LV+Do\n",
       "wrA/iNSgo5uYY4m8K6wj+VDxrgrgKJ/BWfdNPBC8aifphiZqB+OqQOzaditfC3rVwq3HpAo7jHWJ\n",
       "XNylP+NzEBTe33jSxM74RScw8VLruTY9JvMK6RSOxXOBYQgSUb/lzUf6jqSfjT6I7sBY81RORyxw\n",
       "k81Z4m1ks0OYxLma4u+JIUvQu+6TRsmjuzYGnD+5SKZDp6FiRnoEI7vEnNGYYAg/UKzo5ThFWvxg\n",
       "y+RUjWOELJ2yE7IqG4QHQWbAmxlKD4Si3pmuUOPR26vNc61MhzwZ5AnZRYRIkAQGkVsB0Az+wreU\n",
       "U/dcIVJAQIuCo9NOZXQ8u6EgYKv2v6ASWvDEtBY6ce+DcCyfkqCzHngDmKHK/W7811vO/cRQ/eCf\n",
       "8A9LITlMsDShN/OSACALEU34Xw4ogZ0fPeNx708vQoYCsHEV7WAjN7fYaJTX8fg5zi78oq+3E+9V\n",
       "/TpH4xszJ+vO6kUBU+H1gIauGHl1KyOwKCMEO05qc7yabnxuEOL1Ndx/vKlZ7yIIV+wYlxCTjazg\n",
       "fe0wnI97H6gDsck+BHgJoUzjJAPa9iPBkCWeV+sqDj4csyjEAjrvj8loWPUAhIKIwlJoKxBu97OX\n",
       "mhgFaI9szt53iErYWGHY8M2npE0Mpe5B1Vwwb82BY5Qn9oZXkj7Z7bxhNgQJvGrlLU5LfB9LOcSj\n",
       "2M0aeos4CsvxWRnYDZ/TqCj2Ko6xXkCJYGnrD3OnNUn35blstG52FaswEL9U/Fbwe184UQzbUZjz\n",
       "xx8NV0bwTIAiR5NgGXRTI4sL5AwxAl+/GhXSnbTWKHNEq0/bFUsi+BcH9R/Wtfn5UOvX/Z9544Ig\n",
       "cypDIuOq2x2creRFQmQDMmYaWAU3TiOW6NpBwT3zLdfa+msw2JaWpPBbdKyf1zhzWcm/VBYeBixq\n",
       "9Xfj0NfYg2iXaDkaGzBuTp6F5gbub646WWla69J7y5JxlLJ3qKMdy5SOQdznkeZBKl+Dgt2E3200\n",
       "EcqC7fT6fkj/zomESFC7jAT/pWflOrV3j3od4oCbv8rtwWpwSfGTE+j1lizHYr/Ikm7zJXJJ5yVO\n",
       "TcM4ra8vy5/9CT/Zu8/1JiKNZDGYC+d5KjKcziErzgHcpACamRwR8j9MuJTFwgPanQJ8lHzaewuy\n",
       "namuFJWsayLwZ0q/K4+j7rQ/avrmm1tBa/7Yy+oa5E9EibYNDZMgbAv8/sKfJA36sk4FaO1r00NL\n",
       "rb4auPgwmTy7XpbdhivVWWl/iha/zMS3/C66KH5r8rmgcsO1ZpJkfh/giJINRMZwh586GyRToZBk\n",
       "HIq0ILSjSnNsj0VGuDWgscKVnm7GFE1JnSI4zvaSuoRsX0y817XK+P7mUMhxPFrrVGzSrktNNCLl\n",
       "5AWZ1l3/YprKU2/j2VH5Ydm60M4ix8/tZcf9zlH29Mt3PD8W9B71Gns9YuxG2pfcqZhig7TdeNpz\n",
       "HqoB0guM2Y4/LywGNlsQq3AP+VWG89S500Q8UKoncd7bs9zD1HJSpMaAVwbsjwK/DtW6OGF8P7ct\n",
       "eCA4ka39tXL6u1qui8/Q/Rx0HvpiwpQ+FA574Ta0GIaEzKITgZ5x/7/ftmVxjCu4heZ3zE0B0oRc\n",
       "5dMMUbNOCqsR+V2/6N3/EJ5fGnK2glK7FTvTcFeR+sjaVX25qBbLKAnfzK6X9pWLTzU1O7TAG9n9\n",
       "AxTZXaqxvCQfAUbEU14ZSR3X/EO7CFeEIWaiwf2YGe5oQYazHiATUzRhRmP09cVT8tgjKzXsQlF+\n",
       "RjSbaXBidkoNyZqhlN1YPcUTYCXsvF5ZM/f4AvU24NOdl7xvlScHwL8trGUvm74htnU791IkNxqE\n",
       "BC7dzVFC3bCtV4mlYEaHyTAsVkHa0uN8iPgMlGY8/NeZSv4KJd3p4hmBpt9DvZBs0mgjGyHdwhvh\n",
       "XFjW5HgLnmx5NXpXMJ3tsvkPk4VOSzLlzr4QzWqGPXZxsOpcwgewjyB8VzNUZS6Cey0a9fIAR3xg\n",
       "pK1xFrvASQHtJGtWb+SP0m3tsPXw1qLoOmGboGfaroyNXl+HfQtUOk0wwrZe3eYB+xn4P4RLz6XX\n",
       "+IFHfew/VnVZQek3qdUMuj6mW1GlgviMAYNEf+RPqCE0HmYPo2gCFi8X3+oOPGq+EsWTNkCTZ2dj\n",
       "QnXXCinTpHHAamNVXtPw/Yjzh4+qM5HYxZy5sVFcrjOSbALpbJXaPaaCTa2B/Mb1PPg9DzGmMpE9\n",
       "O6genimIMyjje3mu4HWy+Tvn5OcZRgNuzPAqQJys7U3o89nTXjS8tC5TnJEN4khai9MohfIGYIIf\n",
       "1YDgf64CVaWHK3kNy0sM2totvrZxVy7E5vLB6JcP9cKiR0fk1tV7KdaIwwhjtgZMVjTqo9SFbssI\n",
       "FyxjBH8BCDxPZhHG1cz6lFp2Wd0jYh6CT0Uea1xJbIP5FHFoG2t071z/oolUIFfsACnf49aTZhj4\n",
       "st/5K8xOiJUBbBr7pjsRyFZpLgqTl9f2Ecc2SFqtHJ2SzSX+7FLKyHioeOdTrTK8bqS1FPcvo7vf\n",
       "pRpZOvwwKa6iih2zECQaiZtK+c0dza73nuMfHopZV6k+jB7pWNjVOqbHJeI3/hX3KtW/gfWK6yYE\n",
       "p2soIWfY1muIUX9puUG8DJBsiLLJ+MqEvrBkX1ZxxFDZX0uk/hpQEeAL+5fGDOhn4KYOzn0Z6IYD\n",
       "7/dWa6bUzsRdhBfEsDxpUwbBwZeqN2pQgQYYzDnVJvvG0Ruqc8v3Mq+0W96k93FjX4+fqENWxMZu\n",
       "mMyALLMgypNoapOwdQzSO8XS1YLXd7IL4Plv0cpKIm/mC9pHh3c88ehtFUI46PAs8AKYP5MH+3ao\n",
       "FjQSRvLJ/H69c58n+J4q2dbBoCW/45PDRVBotRIzkhr8OAxH5EIkaQpvgJ8TD3oekZbo9s5YEWZD\n",
       "npuMuw2CfGmDAR8AAAveQZrhSeEKUmUwIb/+p4QAA3Yn+0YWNFAAMeHJ5A/Bn0FdnPTI9DJLSWH5\n",
       "lm18EZbqpmgppEVEIqEktZIEWBEcFbFuZfiqv2iYzrKM/lUlxPdzP9V3dWh52rtAqpIYldThEVPy\n",
       "REWHWI+wr5aFSZSb72dHt5SNr1inrN2dBbw9BXUJztwZHHAIfhzhhyZnYl549s6S8G8ewi/+zDqY\n",
       "5+1kmr6D4aSZn3wc1QOKVdh8CmUDtRtemd2XAAZ4jVIm3mKXBX3pahm0OCGlLJfh31do+OTnAF43\n",
       "oYUUC1HIjXx9FiuDrHvcgtFHURfJJN3rB1Zoago9AbsSlt5ofg/4kJaETIUHvlE7lV8cpUU7ARx4\n",
       "b8Tt+E0aa2fuTlo1C2TMd4iT7UWp+kl7k+PVCtEoag3jEkbPn4cnfyNeS62QPxgo/bYdpWN0axe8\n",
       "KU/5xoiQWuKZzs/BWmougQtccfFntBfmA+E6REH4jTezrVOM83+LEq3txR+TqME0sRHColvbjCQg\n",
       "n63+wsAVqYO4/boLloskzEESwlNvkv0H3owbe6KXA4X2b/fN8RpVLvexzfUN/cWJ3qEMW9IpyVuV\n",
       "sqITBsz2BLNgRYKoIG5TQX0PTYgKv+8LzOuE7A5zxhyq5w60eOcSMd2OvFepis9t2k4+Yj8+TSd1\n",
       "/4wkTnALXxrXOnfygI9/M06PfGbnNv30QCdx2ENddZA36fApjuk8LxRWQ4wl6QOV5ImNSWHPmP4i\n",
       "vXS4uVf7/Bdh2cQ8pqTUufPB7WRc+NCz1EVCx5sHuDfau0xZbHCs9//YpwQPTk6BYS0ImmSlrgsO\n",
       "5LtYGU+r1MCgk2E6F2mxaUGbgIk8+1q/7wpVR5hQWERC/LRV4NPtAFga+U9SnbhU+pri5PIqnrQ8\n",
       "bslATIm9X0TngH7xX4FxIes7xl+xfRKOLDiAMD9xQE1wpCm70yG8j58x5OzNNVJy99E4pHg3ab/E\n",
       "EXD0v6KUJ08gbctIAIP1ISDwAmJquWQp8/1Tk3lWYvpaEsuY+rLyo/k2Deb50jkZ9u5G5UASuqrg\n",
       "Z9JneyYooBNUTTLbKc0bI0V32lvEUBVdrJMyj39sCtlZhwEPHWMW2Ir2bl2L4Lk0qniXi2CEc3tO\n",
       "kuO4rSfZ5VYCnn3jZ7VqFzz+zplHOGmuIaoFi7N2P5Q85XMuCSKv4a9PNy0CTxRue95CJf1t1hZp\n",
       "7wTfNngD2T67ASmDGSSAtNGEGrt4coinRtcjBhZTWA3k4EnfKv2vA1O8EcgcAYlrRlFTxiRBg0rl\n",
       "1Oy085BXVmwOsqWY3Hf31LSEZGejJWfEKsp22x+b8gVU1MIJCJHUBKeona5I9ha4K+DOJYI6syW4\n",
       "/CQsPh1NdBXR84hPNKmdRoEekt+xnLoTRSAMNCKec4MwgAq4HW+w1ZjqJUBUs/cehWeOPSwOmZcw\n",
       "LH7XEVlY6lRjc2E1uIlTdOQb/JwWjrrxm4NtIT4Lui0aX+7zol2mSIo6cI7hH0bJnGYpEjOkaFLu\n",
       "rWZZr/C22gJ0gsKVo0o06Gn/Jr5Y25Zhdh2Y1VfYaeoyzEGQG2BzbRu0ntiWSla1I3TharO6FxR4\n",
       "L8ZcqgmNGHbWiGdX9ql+YCcgVrOL9eEmbrn0NzYex7P/BIf/9TH2RCMGF4UxQfVIC13CKkP8Ibhh\n",
       "Kpbkq0Y+mtskl502YO8kwrGo7K7TdmfOWcN4MudLbaNRiBF97IeXBiKRCSPH5oSAadR6WltykvZF\n",
       "ACxM7uflJkKQXD9fu+t3VyCJ+ORqi1BWd3EzmxXDHAuE1IGBMu1oDRpkrwPK3e0RlLeCVJFElonv\n",
       "3n8/m/hHr+QBU4jNK7VZ7bbV8ym1WobiFoMD5AgFq5PPVEvJ578dxjSi3E5gHJ//9ZQ0KHJt1CJ2\n",
       "GW84120YHRiO5RY8CVyyFjMGv0eEX10DCYv+kLGRpwy9SE1MPQWBpnVGdZ2jOL+5Vta90sy+cLoF\n",
       "cVXzH+YX7cU7G2ILVGAiH7fgeqRGjubU7grLlvPsDEMB/2ZEZC0X7aZ6Jhjff9SOIxumPQAFfGHy\n",
       "PJTMKQcc5boSoLgrqs6pCoT68TMtg57dEZkQVJAxUPGher0o4BC0bmjkoZKut6FT/idTQsfiCdvt\n",
       "4+Q4T8u4O8BRTtj1XvIvdJxfgInzy7oEHLTmOqcKmu/bhwU7wHobuizg1Bs7VqTWdgfMT9TgqpxB\n",
       "a45333HBFZTza3UnXtD2WY1X6gooRQdbd5kpEG64TDkvjhx6jViicqFsagmBD/WDmZwgJyFhAAio\n",
       "zVQTSH8++3FN2PXE3SWTD+FTkgbW40YwLdC9wD364+RvXp1FmWVGU5hTilxpucXWyboWUmmWpfXz\n",
       "iB/iOYO9E32HI/AAEig9Ee2JOZgCIiNl60+yqF7HXB6ihgNuxDrnLrPYelG1pZvS+I8Gs72EAPa+\n",
       "QbV/aTnrYUOaOqUmdysAR6shpVcz6/UCPvlTiSiAM1x6pdMS0rYIPtmIi2+mFcFtb88R8YzUcUOd\n",
       "n0hTotdNR9qEt2KLT+ZtYweGLwmc6CRSpcLBWQULagwZ8OwXrC/zZiQb07ZjenSGuhrSL4rPedcv\n",
       "8Hz6XU5CyO/Rgur+6LwJMmGmxKEN/B/fYV+gk//9se3JqAkaAFHJ2DPNf1hA/oPEmUKcQt57g1iT\n",
       "GEI9oslJ7kHKGxYkVDu/BgpIHFLbzkXUWwyHYdpHDaFGZLl8/g7hHBKsc4evEd4JeRa+h0Kak+Vz\n",
       "m9DloAetYzzV3E+3MvZTS2cVkgNX2Rc0shJnTyfyWj5eO4j0+0lWQql7gshkoZfxYyETEC7rBd2D\n",
       "o2hKGyqMkARxrC3H9JnKeRjIw+rzRCD61qhw4w3Ajb0hV6rp1u2lNW9h/3w0/TU7VDzuIO0CoiSs\n",
       "zxGqVfOZOT4452CURpWH6Desr0DSH/dQ8bhTZ3vXSSsMILi3wRq2cQmLaj7zGvTsu7XitceUEV7E\n",
       "GcWnEs7XwyRi+nY53viqsOBmIHmg2/a2aWAl+dp6z452BrVzX/bmop3r7iD3T+iwUdaAZcprNSEP\n",
       "HIz5cxV6hRE9WBSyxvntTFUmIdoIu6oS9zI1UsyaWURgqF0KY9UZFrTvRZXlsH41MsRR9aFbY9WL\n",
       "qeMua5ku6KzXxk652ztqO6YVG5qZDMW373JDWuZx7Fv60JfMuLswFdeYtLZDB7HiSsJ9wXQnELo0\n",
       "/L9s4EeHJCgtoNnX0x9zKWcSXx7HQItyv9FIWF89LJStzHjCtA8jxpADYUSGzTruyXr+VS6RsgN9\n",
       "Z5q73WUTZl9asNAkZvEaxd9/j5b5MfqaLB9MfXXv/iNACfA6MjKo87gcr8yHrW2ty/0y97Y3YoWM\n",
       "fAJLkzGcfVmcJMt4B8ffbIhVO2S2DrQN5L7o+gNAt53u+79wIklSzywRB6QiZwLrN5zrh9jCdhwR\n",
       "H/GXKLEP6WZFs5vP/XWdtSA5VOk/CJbN+u6F5OczYopRVplzEgd4Li90CSr5hNeJO6UoogpIcYAd\n",
       "/4orf6GpcLnw7Suv0ot7In8m0rT2mWF0XPxHvGTm2qLMwFpgDcg0NkmadHi5drFu2MBLOIYKLBGd\n",
       "503KvbdM0YAiK7tKB7t98BaeQiZD9LXExuCXu8WPuWG8jpAe07Xz3Slo9bRH7Nf5yJzw45GG2Fic\n",
       "XNdmOOIx+1YLlb/waoUSVv0fLsKsd3dewq8sr/vATk43YP8fJ/kmTO1UbikzFD5n5FuiVzYwv5SK\n",
       "j/Gh7kUiGmHBsBdvKpGbEfi5Uqh1vRrgw/leqpKtPo83ueM0M8AZV+OT0lTYyXs5Q8JqWYicwUF5\n",
       "R2aennbbQmHXg3/L0g9WZAmBr7f7PXBv+tIKO5qonBTFEUrZyUp0ctA1p5sCrE/y0XWJjUej/1lN\n",
       "sRac4zkE4F0fzdZLLe+PPMHtv2Ur5SWFBIbpR0Y6BwCRUeESvR8suO3Rl92ZG5cv47dvFo/lYljs\n",
       "oavR77g2mqyfKQX70nLeluNFSJhh7YPFPskoWCPEe5btQG/3LZ/41XkyCsqDoapagMuSIS5QEeNF\n",
       "AT7CyOwpT1qN9exiMA2ROF2yeUn7V6bsM5ObajAvKhAAAAluQZsCSeEOiZTAh3/+qZYAAb4WGgZA\n",
       "B8mqloCH6FGUs5S9ziQdXH2stDzxj8laZXNUHs/3NDEeFfZZARrbnDF5b3RXOFyXR56dJVQrWHm6\n",
       "yfGfyWPCKMAQ8HJT0UB2FhwqUC7bvJIK7XQfrUHyZYk4RFEerww9YxJHWV5+VRAFR15e0jbD3h00\n",
       "GhkLgi4qrAKKF54N9AGL3O5zsJs/kyAVuIoomKnZnlW4t3pm+OogLS+cYIGcOEX2HtEk5SvCxZC6\n",
       "Gb0O1kQiYEQEhwcM8hXO+FPPKOA1fhMMuIzjgUdlqQwjsa5WO6uVhNBzOvPc5qpmcXQ+tyJ08reu\n",
       "cYFUkIgBoptR3SLJKsymgpQ6LSf/AGXO26Qw0WOsv9qN0bR4qapQv8MemG11z9fUfCRzbDc7uDFL\n",
       "jvKR4K9faayobhDAwnpwOXL9usJGNg8oJiXaUXRYWX6rDMcbDAX0P9vZ1Kgr04cMEM/MAT3XZe+S\n",
       "C5rpNj8Aqg8jK+ZBWs6AqJt+oryPXsSAMHEmTVHjExzsTuhAaLZvk7ilX64mSMbuj31GOaxoZn6/\n",
       "4Sql6uxw3BOC7G9mJuUHH337AAADAHV8A4KpvgO/UcqN2r0FGeEFHBHps74HcnJJaybH+562/vMX\n",
       "LF63m/1DUlu6u139e1wx7tUCgwGvnfxDYxHP4lGSaJ96nLsGp/dHHULpkIJUAEdQgectdKJKQ5cZ\n",
       "ZxFjrIs3M3KWK5BdeMB/bXDf0Ad2cuF2IU6YROEs5udqRRmLCiKlQLjoxaa9n6B9MgcbQMLvtDVw\n",
       "07+dZmAqE2HyMCP7K2OakK7WYXAoVU6PuPtiStvkQjIz4Wjpelgld3AG2miKKfPSxxgMPQ8xzM1V\n",
       "xejy9ozeusjL9IvDUsiulZD2Gb0YK4awV7Zp95wItqxeGgPrD2LQo1OWdvkmwXu5bxmz9xsdYoNv\n",
       "YVRWB8T0mwhM0ytYBzI2U7i8ocWV6aGRLIS8g2TYXzpzi3Wx8r3M3rSRiVTA5RXJrmH4p9Nljt8z\n",
       "+oOhv8GdkYftyzN9+XaW2426ONnvi1cpHJw3pmP6X4g5FL1bsdFT4UBH/XYxOmPQl9ogaAe17q/u\n",
       "ouNsXmfxTiIi2Qdb/yI8xG+UF6XCv4ET6+t0WZaIoDAp+WO12HnemkvciFuTQCo6bOw1fXwQT0FX\n",
       "/BbaMmUlswyFQz/AmDoRvDfZGSa0+7WYEgsaugejzNw9nzSt2f2BzXINbH5eUlHeat16STZnHRa/\n",
       "l/A1qvc/j+RQTW3OTOjmxCYAH6evdLRT83mP0ZIkHaYgkF6HsxkzX2/d4vAdR1Nywxeqab+mPv+0\n",
       "LNaT+KOefgRCSaobH2TDXUdFXiVCHhCMHAPTY0CCs+IO7RkgrXnbTJkqV3Cd5f0fQxAD5kuJu/Zp\n",
       "V9iQ3tOj6UH6RgYFWeFbbxouQA///8n/wJqsiDp8h46eKK5eXmHlmORn5MU2A7KwMCZX37a7PJQp\n",
       "Ie7ZK7Zodzpcw5qiKdaHSWHiBBrB1Q2ST8gVvpEI2E+c/gdd7WXn67NtmBeQTMOKCwyttOSKAi9X\n",
       "aJ18lkI1UJtmVcJFhiBhKo4643Vqfey6W2sFiElj8tGAGJQlwZr7zavxHDXb8Jk6T2crMjChskOb\n",
       "8t9SfbGxivlWop56S7lmBnzIAsmmX8HRWqREYWx8uZciAIVcjkIu29lz1Ejzb6Amb9RRfenUf76Y\n",
       "dd/toy7g6RfRhL7EhlZDyAuwKmRNAYdnatIXmcWvPhO84ad5Jt/C6Em6kvnRngUC/isEdpujnl2X\n",
       "VYidCDvo5j8vaQIBeUnymxRSPr8XZ8YrDfQs+/wsw1gAyFo2yZaNvNLhlMAhusr5046wwykBhXbR\n",
       "IQamCozH2tRVgz5Bn3fwPmjwPY1NDKnOzyW+Qo1iVFC0SpSaKnYvy5U4kh5gZrlzwspSr+LN0brN\n",
       "6KYgquiV+yZHNqQ5QxLi5KlR5y2K7eP6AAJGhk3dAsqGz5XlV1DKxsMFXxa9eYssbPUxcP8JO45p\n",
       "bBT8M97UR6wrMFRb7D1OFeEzzf/9L/iMQgx1u4E2ssPtuhiOHb+x6KZtP64UxIkoANlkZU2BoIe9\n",
       "0trQlcCS1cRhRiVTLtc1wCSrYo/DEwsmOBgPW+9aOjlYbju3D3+WrIB+l34SXbWVSXbcPABll97X\n",
       "uhKuUWS16qyD7fZbo2IOwjxPuiooPMw7m9D+tNEJ1NKwNz+z986sHwCsqwcY0bs3uisiRjJuluMc\n",
       "lR9cDTHXJ46H7sQijHYuku068JcL7BBISmafr39sWEmQc8kyPhQeamOgpweGQpckZnGNUJo60dWh\n",
       "O8JS5zuGPbObCdWJrjnkNJXKz95ozVWnBmGY489Ezn79bogDbaD5LLxPMl1/VKIP396/CEKM4Nk1\n",
       "1bR0eGHcUB82wJuUnaQ1F6ST19s7YUO70pnDIyCOL2FzM3FIyOajBi4UUbD1Gc6CA3HnFTr/kNLc\n",
       "N4uiTboSM7Kk/TIzwLTEBevwZtoUFQNxfIf95jlBPNEzIpalq2JZw85TWcNBNwMp/k88XP4mYnxS\n",
       "Hto35ALxvGDRuEpTkfEdO0YCiVODdojXaQ2NzsIn4lRUdhm5a/qDh4zQhbMeylT9xf4byJjhdk5i\n",
       "6qwTb00QlZdOXs+mZZtAwwO4/J6BFVO4bFA+wD2mbmAYAp+Ay9rpikOh8AK7QTDdIVb90iW4DLPt\n",
       "05hMqcdMsfnXZjR5n99OuKGk/0uez5ezCOdAyIybth2ac68NSmExlt+AihLiPbxsjS7xJFOPxPaj\n",
       "CF57MiRXbLhq5Rna0Zm3iZNmbNomGonaodp4NK/qDWx6D0RjCBtdB06z+XoyprMKat8X/Qya8fVH\n",
       "1SttqluCMbabWoQwDhuj/mx1QadpqeLVip5H7tFDEK2BiyQxTXHX1B+BNZblsqs+qWCI2jP8e+u+\n",
       "BDREWqzHbGIZtY4Uj+j3d7tOvZDs7I0lyLKVXK2TmzuWH87lG/WxqtsJ31vTn/X/hfqSzT5DUSRU\n",
       "C8UEnPqT3CoIM5Q8T3GHGbeNMtEa69msIjgTo2IjRaHGI7jrw10mfbJWMNXQLOIfXkTUn7Yd3q8J\n",
       "3w4BMvZ/bWAWg7Mj96Zz87u9foTkYNRaX5SJ4bOvYUZChRbLmAoTXwr1MfwjLSpC7Eei33GtzV9R\n",
       "2AW4kLN4lbEp9irUvMT5HFIMu0l6rOGanQP2i1nao80/XGWd07fdynKSJfSzpHOVkalB22l4CzkA\n",
       "AAg8QZsjSeEPJlMCHf/+qZYAAb4WGgZACSv41aEezAsaYPnyXLtStWWKu2d54Ibt5Ueg3ka4a3Po\n",
       "QQzXXTKP1CQocaWz4H222E3u5By9sbbpOBTWuuPnGGnNBqsqOn39efmiHmUaNX/9Sb5LdPZcLhGJ\n",
       "s8WEg03AdBHZNu1EbMKHnuML5nVolMo/T+g4FsZXTgmHcAaG2gn9Wr7vOEl+C/p/CgQe3zvzck40\n",
       "ghWiyrenwa0fLLUMOkUH4aAqhPmvTmRYL57woK0Zw5JXqx/k0hcVwuWVXDHbjjLliqZIiYV9V/tQ\n",
       "zPBGBnYVqJRfk5c02MHTrYdm/9FEEE917bz9t9Fsx2fXXYvqm0rujDQMB1utfaM0EP2G/+9rpAWW\n",
       "s+CqYozet0+kLGcHhEMJiwcig/neHfJDEneEqxXMevgbrxkN8PrcknPT4kPlHySiqrUBPKsGBRYj\n",
       "5W+s5ri1KBeKYj0gk3mv2bKyHFCltqzviROiB9516GAlwb1VwTEse7gYU8heJLjNUCCKEbYl8B82\n",
       "oSxM9Hbehxxbzz+6zGaUlkWxBNLkL/az7qvgXEB56EyR6U9KmYR1C5HV6w8kKg931EzGdOl4SEDP\n",
       "pWTiuF7LffhHkzU5KxCEazJ02DcV8cJ0bjYsiOSYBh7Yx1JqAytmw10yYHNqqAU+G6i8VeiNF/Ov\n",
       "1bRpZflv7I6lA8QC4Qc0FFjtme/Weixg+VWwpHUoIaSxZFkudEx6JJTD2nlkHYlQWJKLu56LY4V3\n",
       "83POuG8hVwb43OZ3WpyqxJY+VzC8D8TDeLfE5/WGAV3WgZGZaILL8As3BMMp4nLhRKXulfB8kaYO\n",
       "220jM1S4lZz0ZnMUcSTzDYPxhHX3ljPqdS8ctwwHd57XEaVoDixuLtw+6ecU0Y4GA/8OdtrmSm/O\n",
       "RiBX1lg0PfgsUQJpFYwVSnbTMbevpSMnMLO6bnrNM7MYxzeP5jVtcVrzwAWZSe7W5k/EXTmbvCLS\n",
       "U/owluxNvPMn4YmMcyGOKqUKX/x2PtK/eD/FDWvSSu95n1GodNO0l+N7BkJYdOVqRl/xApFiJfzI\n",
       "gWUWaoPyxo3f4mOPKvFp33LS73Std/xQp1zaIcmbYLJuJMGiN0Keb7ssIjLg2e/zaSXjR+iH4Z1d\n",
       "9sygzm3pwRtbwjkijZgPo1NMS2eT9rE5rfPK2Faa3lBRyTMVT400aFsl8sLEECbx1J9hGIDV8YzG\n",
       "tFGuiT6zJYE95QvkzhAg96hbU0daem7+ZO3S2c+LTfCs1vGx3p9TuXP66yQj1sm6D0WX+ij4uHUI\n",
       "WIUUw5a7M1bpb+jCwtn2GY0yLyO7GugIKqgqHN4Q7ft8f9xOK8mOXZXQKaDgfJm9CZNGiwqBasP5\n",
       "frvhvQkD79pdmwE5gzKIY+bdfvPtfCyRvLjCYQ6jyEyvSPZuKZYAAXZx5Z6OXgk/o2rJWB9aNSEx\n",
       "lUorxTFiFAsUCKk16CPJ+2mdbbN+oDtaZmz50wZC4rbWQDRL7GtoqoZU7lU9k5u0jB1tYprjhjX5\n",
       "FJ4rC6AUJDYONEmRhIG9QixfH5cVCHsm/r00O5FJKHm2Gazj4xxftPjFx6AM4yJ3utyuAHKTHHiv\n",
       "98vls1NSGI/fMWzhL2v4U4ACY3wz2Woi4XUDNVaJvDeyi8KqmBf3q1p/29QM5xg4/P0huEw+Sj1J\n",
       "9aDtkMsnTMu0lHlN5ocSWFNmsgcJgxCtZ0V55bHcH4NHRBTtCrXxy7erzefBvUWT27nxgahYsxsU\n",
       "cX6/WEpBqXxhTP1vLDdnnrXq2gVOwKbykqJryCmaTwrnmEhDqXTVIkehavc/XzQM7O0RrbfNrjLp\n",
       "H7LiPmQwfvZYd8IMWwTC/49YaKyg9cfAb7PxU8a7HwyFCn8J9rGm2ojBXSzVIwI84Qc+2V2uDt5Y\n",
       "K9MkHiaAt68albGg//EnjZb1H4EI04ej+hkvGvscgPTwnRMZUQ7EMdSmpX3syGZfSC+mUuzUUhzz\n",
       "zhZw6eD0jNBAQoTtCorY4SjZELkD7jeRSZWengOQOZ8r/WXCtO/x5yDiwWmzjitXsu78AIo4EI/X\n",
       "Ia8grZxe6VdtV8jDi1SBgmG6BSq8JlUbgS1DJQ9P+mCq7WulS2OUv3uhUHLgG2nqY3Cy07Gs6DPF\n",
       "NzIsD7UR3u3N9kw5KER55GrDCamzbvbU8PJkuxjwBIizrHoD7pUDGAXQO2QxfWI+fS5yzb7yWzWH\n",
       "Bwi+EFABD7BD5ipD95xSsjGNS0Go7D2/64OI9TGgSZBPZ1qMmwnRO64Yal9Rxiuzwybxf2P/YqKR\n",
       "7in+1xzN8ieL9yUfTfU0XJLxVCZ0aBpPCDBRCzUb+71qrO10E5pOUBvXT1eKyOaChE8pAxm/PSJ+\n",
       "eTd2uDuq1TuH9cO0tUa0yZe4D4iMkK+bDZib8jgE2OMZdAR4MJUSleihG4qW/Wr4uzPoW6kelXG8\n",
       "pK6r+T5CU3JEc2gq98Cw1EYUfBh/APkITrEOaL+/D9blef3tuvfGA+YBwggaFnGkRAyxb5qfgU54\n",
       "YA3VCpKFzfa5FPIrQ3jNABNbEIZFhY+LCkwyuP4gPDX/f15oEKE0EtpX+S3Kjat73d9YoyphbS/j\n",
       "N+J2q/8FqLKspfEXV8R8wG9XISNOO8LnAVjN2gA679DvnhtxHBo3cxdlIuyQvLnxCH9NAvmQmRGo\n",
       "Bzuff8BbNVkHclcgIZ5Wz40foXY/Hw+4xM/Xt7RKXjrk8S3vxNglQRBdNqNgd6kefobjkW9zPAmf\n",
       "mWcXrsLlEPjjszNzl/Iv8fWWhv8K0Y9sReYe/87q4CrSFvdc3y2fcVt6HKAGOEqwBQqOAFWsS1Y8\n",
       "HTAAAAqyQZtGSeEPJlMCHf/+qZYAAb4v8MUAG9zTJmPAagi3lDSRW9IjM0DW5NU6MAMOnLq84/US\n",
       "zv6ukdh4YlcqCjCQ2ob4actjAqKJNWz1bGeD0It8vZ/EBbaM/Cd0b9E5G6v+73vdByGtIc1/6xfV\n",
       "UNmmWd6a0aS4wJ0JMzEKFp4BAklxkDLL5xVsPgDpUk8ZoMih2as04cBL1UM/CuMw9Hoz9VUL0RqP\n",
       "hmI4tRrSHejdk48c0RZQWi7KoYbr1ducsHwIkkKl+Jkn2oUui0clac2shLyLWMGbbpVc1I+iSdUF\n",
       "+V7yElCmyVG4T5piwU+RQZgr++mwDbhMj5HlE9e+mHbdwhEQ5A4SDouWnsTUaQh9PPJ1zNtkGhhX\n",
       "+byLccQ/Two40XjYrgrwO7sA//DrfvR0inI0Ej6R2JLQf3y2VrAwYyEx+Lf+1fxNEeRVGRcm1046\n",
       "PppxRaXPaayKpknMNs6B4tXGs42I4dptC6vzYV5HrZxSoX1PVCiRJVb5S/ho3AG+yErT85FLO04G\n",
       "xpLxvVXs3NR62/jjiKccUvro1kecf8Cjcu+xIDOwtl33v/uK7tL9B/s+aURyOTZ8qaehKHLC42Ma\n",
       "JKwtoPmQKIoVPY9mhDBLCWtkOi5TxqyjvCKrWND49qEb8mR3i66pZhjqGV9DZoDRtg2HrRg890Ic\n",
       "CvMC8L+JGO15fDf9YUTk3ME0js3AQlNTsBBfofiTVd/P0ZahkFQwHQVrVkcprYTQr6IfcPAMwF83\n",
       "6LbbTJ2ldGz0KAjhU/It1oQnrpzpNOXyPo8wxi4szx8GxXkKWoO6JlZAKe7PCMyVM5Ep95ETJvO5\n",
       "7X1Xun3R3KvZU7Hd3ZJB5+7wwshYQDAq+PM6P9t5aiUlY/4Z0tncw5eLcC4UdnV3bljtAsLuQBez\n",
       "EZ9o+YgQGcfvF7wKuDwdhgxF0I89Zm9cl+Uy/7PLY1eIwladzqzFVhoP+GDpYzTG9BK1KBPIUjzr\n",
       "8xbM4IJtQ94mNrj6n3G5eJkMYvoC7+Q+W+d/sI1ersIqEVcuc7A8HjviRAJsEInDd09r+I9Uzo05\n",
       "iURoPC56pVLUOmHjbnp2XW98XwY1MXK4sgATCENPkuWVNsGz4Kccco1JGOQA7IgzOhCKsUFM+i7I\n",
       "4euFMOEWvxvleSqjbHvvyZnWnqxrtYOw1L1Ue33DyFOBp2xL/5xebWQ8z+Fv9QiAyR8ffE1aUtTq\n",
       "4LSlx382sMeLt3ClGZzIYzw03NROpuxwwf0EMiykB7PWuhPG/Cn+PYwvZp6EvI4pTMXARkJQx1Vu\n",
       "+ZJg+gKCDo4OipjaoJuYnH+nHE9n1eCBRicjhc3TWgKNixraAvYspQpIdnp4w+4WNDdk4xBxlUcp\n",
       "jL29v4U+SQG2qmV/Bg+7yf67hGKjgMbFrB5/txHXATclsbw1LFiEHrqtN9lB5k68SQ2ArRBT9oBA\n",
       "az8Q2990HKADlLh/y3ATffkKjNErMOqp4Y61RM8J7Hb2T/eTOvc+YX7Zl6WkK97VLbkOEvtiYx8i\n",
       "2MXhO7qJKCyH30+RGpgslkDq4qml6+LjNGwFnNx5BlrwHYxl3SCVf0QfNXSwUSV3P8kDv8SVeY7o\n",
       "wJl6Xf+/dTO4HFuWBUYbnmbR20ZZXCR5TuyHl+sWa1ZhM674JCTCJNeruk6a8+Xc5KLH4/4XMLkm\n",
       "AnBe7q6dvm1DIyDhVGXD8t/bAIOrls5lF7kRAY6Jb4QK1k8IjsUp91jwZ/X5B1Ppq40k2w7I/g1Z\n",
       "jsGRssbkHfGZbhI3hLfjGWbemqUN1noCWEkRs2PSTCemyZjdUQvAbhtkJFCBEMZ6okcKakC1DQfQ\n",
       "lRFuSGs+MLdXjVhLtT222IYJEq0E9QJsVxyU52TzOOoVfdD9w8TBvy9Kux9McjrgYLV8AKuUM5xQ\n",
       "ApAxPEZBatOaPxMi5gcho1TL/FsyHgbW/ERN5MKJTawV1bO4U/rXKPTLC1TjVdhdfsHHRFfB0Ba3\n",
       "mr+GfQzKHFycJFiDAGYG6RiarCS2p7NvV+NNyZg+8TUwVPfGwTJDg0ow+pj+mLbwhxPhewE+vdyn\n",
       "IjY/ijGGEa10plElOv+kWbQx8Y3UprULuvU8NKDvQZHhjAcmElpS+hQRC/oayBP80MyGDRtta/I+\n",
       "0sFOAWrXTJdTfrkj39HuGm9KEgxoWfayDr5yU1yDgIChoUPfaF4Rtmyuw2RT09+iWNoGbFB0DIlG\n",
       "C90rwUYETIi+gQ2fS9toUj2VPA7ZOtqUflfSfvxDYU5LTwZTny2bjGMa5jBTwtbZLF516d5Woqrs\n",
       "C9qRhHwuH8DJFfjOjA1Y/FrBlCVbq4taXARkQ2pkDSGyjx+1SUjd5OZwq6/x82QWw1yrIeD9j895\n",
       "2WMNmJBKskzV2TRW9lyvG9nR7uB9gXZrd+yHRuA7UkbUtc0B4pGg/B+gN1w1PH+i2fL91DaArzi6\n",
       "3OjjQJezR1VCfx8U1k81oX5OcHYuCZrmiX+4Hwnu/UGGBhnCxC3oIETGZcKRZO1Wq936HN8Cx3xT\n",
       "p2GP0wlBZ64rYtKNj1+pMJwAzOMzYg37m374BbnioHkucJ0tCJrF/LlT8r+I1LJ8iZPHnLsVf6cq\n",
       "9M1rDhiuvHn5xdnpMF1P8cIFb4wulNBpRq8Zqh+b7ADYqAfQ7XXEf+KG5N+lGPfiH/zCks1CrBcf\n",
       "z/C6HvlVIPsxtZtQ9rPUMIEb2EIv2iaVe13KFUCrSrdOfzygwnUdGK9vNCY/b2ynQpWfgg8TI2Gh\n",
       "WlHM4uMx4GZy18GaLJ8pXeNs66+I9g3ucmQ1hveL84PmJOtD5x99m6YKPKzsiynKwVfOyySNZocD\n",
       "0qH+fsOTE5K/Job79+PhB79nlXDnCvq9exFeHzDgWJXXrrT380HoqQYmkNXt+vlUJQX/NOaJ/UpE\n",
       "46offsYjTH9gJ1+heS1r7sR9F8qZPly08SiC9T3pLwccLKX9d8WFVbpcsjOW2N1oBy0hOPXAZkEg\n",
       "ow5z9/Zhi+OiiObibHzmT40Noca2OvhHlQK/kYL4qip++RCPzf8o/U6GWtNKE9uoP6tA9iCzhANo\n",
       "hXFFIUc0iKFu0gbWIj0Lz4aPhlzOB4TMcrRB9rgveBiwg6LUsrjynuMercQFUJegjWIZEqA65TEq\n",
       "QTTCTIfH24WvnQF/OGYQiATWeBr5tczO5XpC/jL3oRFFCZ10NkeJq38eBhAh5NzJ/Ao/aQX4N9qo\n",
       "2BRDP7dPn8AYsyv0b7gKHthyHTpJrA2YblE/rNePhGrBAxm7laMdwLiXhnxQDiXtz6dwol7MVcx4\n",
       "juAOKh09kim11ZNYnz153T4EU0CaaWoPjUywDbWOVNkqcbH9IZEMysvILgZGqpA0FBSZCE7w/Jav\n",
       "4QXZkMN6S4wi8P1v2WLrhPizw+KBOfAiShNENhUpK5CWMxjjLxSPfX/bBzSmDVcWsQ63XGhYUYKg\n",
       "kntfgbQ2hQ7VfeoPPKeZg8H+T6M3nYgySlHB9ZJP31xGy7nPI2ouquW+I8iddZ2s5O9rm3pQNYva\n",
       "EB5PwLyNVcv2eSpGsoHH2Uw0hNzDzyWwj19e/uvzRDBaLrubAgnmyii7Nn6Jz2NUKARnKKQh3Mdk\n",
       "PTy/vNUYxUTm4cxGy9zchQzgylhuSBSapWWppEbiqiLtv+uRRU56ytkpHeAfBZ3eLjPi5r8mTYCb\n",
       "/YmjS+1kEXEAAAcdQZ9kRRE8L/8AAgnCpWEADaj0w3qggYfl/ZAe2mW9s0Sy4Jjr+8WXlytenvtX\n",
       "uM/nzlN0yv5RrJWJVMyhP7ih+RRYNMn5NBWufJkG284B0RNqyBc1f/8PU8yhh9Ye3P7FKT0pgVbP\n",
       "Yuw9ekQXGBsU5tPTjLCGolMj+9TnCmSFMapnGtgxs8F++hUSZkAC1OmEvK08UQpHzYqBvQgHZz9E\n",
       "ftl740YI9HF1OQwEEFYZUrSoENGPdKso/ZkXsX0n5Ch2APXaLBXc6XNaKbpQ4+3q7HUwwdymKqoI\n",
       "qaIENPUzxTrcBbTkY3Wh5xHex0kl9KTRnr4i2/An+fWyF6hIpjgdyACDf/cA2qSaVxrWVddiSIRX\n",
       "SyYlZCvkWG7kvfA/AOTK+2jflDmfcsuw2aamFYkRqaQgL6e2hGC13y7wAdFm3Kw8BBZD1nQAAAMA\n",
       "D4VXsGLDCajG2l3WaG218p2q4B/gYy1oP/+RMmtrZ+URpWYB6unbA8DBUZuduztEzRDZO9TZwdsg\n",
       "yxrJuDIkG4hRMBHS7uzYF3iVcye+ohF6xcIB1rv1n6EDDqM+qervZ4BpDMMpA5ldJY0cTkn+UhpX\n",
       "29l59XKgY2VAe20bEyHcxrpDvdqvVK2ibEiCJrr9x930TjCEwJAlhEqrqNBXCUlma0Yhi8blrS3u\n",
       "6AlousvALofPNnUagXEYxZpldwf1PtkIIp2bIN8JZKcIe72V5DEiBxiFOZpEKbaxpG7J56JPGm/I\n",
       "OxsNYMezBlxnpMu+l/yHWg3awhryzet//7WYvBDn7X5S3A0imB9tHaCaJhCLYyZDZR5JdkQ4g2Bl\n",
       "/TzXbigNiSKBBsfROcf8xMvgvDQq99eFhYZlmlLDZCBru6VULEA0pyHRcSrPF4dba0L5bhL4Qn2T\n",
       "+18VvnfrTwF7tRyIyo3upMhgRL4GB5Oc1qzjQB7x905ILe8vNu0vnKigdwKFfyvmFbSKcZCpGGJh\n",
       "Zthf3mj4CHWzzLsiqyfUzlklWslSkmNbHCALgaKabxB53FXhbA0lOoph2ZgA6PNA1mfGL08lnVUq\n",
       "kmnbXmoJ+6AHw6SWk23X2oCHPHIZxWgEOZQHzaw42ZXlctxJneaWMJGx1wzNN+6T0Xq59iuoAWb6\n",
       "pazblEiazjukvB51E72gxBpnF+HRaVbk/kem9q9TI+j1WOER2yIboB2WhrQzN2ExiAI5TfJcr1lr\n",
       "BLFAZnvwFReL+oOZ8LNlgbkEEvS0hgMRImdRNRJO79TqFQTKt9wTGBSFxpGDEN+M5K1rWhDizOKV\n",
       "1aBreKehHKI7FJOJyC6YazxO9OS9B1SfDNtXNrqfKrjxbdjUC8AApw+HhH7yYD+P7D+c3g5F4pBv\n",
       "v6VCj+DdMtbo2PHoIBByWapeyGmMboTl73mi0QRkOe/+xwyTJI2h3pT0QagDLL/1dbo12Ser7nS7\n",
       "4yYQ4jKxNCAh3vvF8kitfSwczKkW72wISEpYAV4Ab/4AbtmBr4jrmqE3Kc+2m1L9mw6WDRqjO++M\n",
       "4lUrs/HuryH+NmuuGvF2vqPwGGPKESIrpC3JNecRLv8veFvoLGvSWrYCUz7apCe/IN6szpNmaqGy\n",
       "tEs05TlV/YVVpzNDwxWLK4MD8HI3ZeVsjKS9keDgMoOH5U4ZBi7yiXKato1hTpYRX0FSVs4Jmwqx\n",
       "+3fJIHeBekODrGN8AF6I6R42HsFBdp+pe6Y8LUV8Lnubi0cSJPX6UTTnkLLbYdhT32Vqd94huXFg\n",
       "W16DvnAGxfeqkQ0dZzmoNxQ+3CExwYXUYbvB/kKJmahUwd/SnxGweLiARgAGk4Turhsc/XSIbRbD\n",
       "SSQqulXr6yUyrv8C27bRRmHokaUQMsCjr6ptHC3YqenljA2k3872VsukAbuYkCxLNG1K3cmLSu87\n",
       "c0327rTk1Rsghzu1z/RBamm+kOHApXYZXYbFgOEna0PZg3R4TC3XO9aFdjkB3tGTxVNxhfEA1gkB\n",
       "GGgr+CyExensuFni2oU41xxH/qAEdvywL5Qth3aXVQHSElxaONno9LjWF1nbStSo80hsqhYrFPTE\n",
       "mNAwWJpLD0UyrYWBzjds2y/laWix2GZqFOwPGZzT5EUx2vIVxX6K6rGbJ8vmjYFOnwhFdiJuw3sl\n",
       "gvKmIzX+UX8MOzjTYZ2RGahGCxNNvCMxgxfg/i7fSkcP/0q8w+L85tFAt8Xrl/Kil/7erXxMdcoj\n",
       "XTc9BNCMmL2Dk0wMfqc1Ez6JLungjXs4vEseTVcSRbwqLVCeoVxhePS6h12N/WywBCCF3Aopwk5f\n",
       "UgQukcZslWRggJQVG2flsNX7vOgx240o0xUkfgojVmXu1g9qLGx1Vu+QbawSeKf1cla0Osh41InK\n",
       "t0WCT0NBseZawJbHt9g9EQwIkQyiO7vzrTYmX2IOCXmNlhJnOozqwAd3/mOFreYZBTsrAIgrizUo\n",
       "vvsCaJn6gA/JAAAIhwGfhWpCvwAC1MbdKIAQkPMT7QqM6BOlUCp7d3+MqEzzPKxSgDAD1Di4aITO\n",
       "CZUw2cWHjWGHdIsqnQKcZcPU5bSVj1HxEPqtX6h198GMHAStoRCKSASe60cwQPRUSIS6Wq79fSo7\n",
       "np9uED5WakLjjMOEC4+GvfgDpg3XfkD4SqYpseVoOTy4kSnL0wanidB5eilxujDV/PdeM3NMpUhk\n",
       "Q/9/mnp+zVXrMbHhe4sLv22rC4QIN9avB6xptgZnxTG+3XCvqc2FEwfrRnNU01TGLageLQPtK0he\n",
       "/08LnBSrMVBLJJc3eYIYbg/6q7Lv98fptCkDMrpSqyROvkwM3e2w418MzCG6y2V+wtB0PBAj4HJI\n",
       "XFqRnawQRbB3Ud3Lx9O4GDICPwe+X6d97PzZZFJzmn7wr34JfO1E5T2RThFPJ3pjI3ECa5uzw3Vw\n",
       "Q7dFUvEMwIi/2mC5rJvzncUF4P8VbO1vJaK2MwDH86DbdI6RHlVeIz+0zDcq4l/TUuGCkx6CnRMr\n",
       "rK5Mpw+p/dSszUZrUSiGmBlH4faufMPmAzK1NqFJ3tvhnZ9HNt5Iwv5vCjb0EDHc7rvYThul5Bwn\n",
       "VlvAgdVoxo59X64xD2NU1BcO87mWxXx9nDoAFRgrRaOlYwti1aai632o0tUwlqNHfMqF9nVjchy3\n",
       "iIAnZ+E3dUOinceCwoqKP+pmJi06aMfmSwCS1wVY2u0nou/txv7bC+MAp0f9rTfkH5oIQkWoGoJJ\n",
       "D3pOaehIse9fi8CRZJ5rfmR+Xk/YsgROfn+5hYB5m6R1KDCSK7/6Vz81G7xBE7SmV0bPdiZH9DhG\n",
       "5DJgAzKhWsjSoaIMpSslrT7z94l+Z/cKSs8JkkSnF+85/FZsf/XnCevOB0AZbLcmrtddu0AlBSi7\n",
       "R0xsv0h/druZYIXOF4NxCXZAZJfzdfqNUhL3wcvz3oa99YvTR6c+qM0tcGUfRP/l5xtrY3d8hl34\n",
       "9HIjcO+eMafQgMl91ZSNLU0NtAvySnHKSxvcDHz5rXkNpXCxIXakiuhKaSKJrBbF0TjILVDd+e0T\n",
       "c9RQV8CC/dxpqb5EO60uySnDxCWrdDyYjuwpKreknnvk6t97+jzJqSb/6BY+N9U8nx/LvUK0w3Uc\n",
       "gaT6GIPOXFIJGOcN3d0SPEl4DG5MYC3wpgyQrt6PbFxJMmH24bjyBT6XDmyFHdtABuqWbnSQE4lE\n",
       "BPV8VeutZTBnvSCtJHbIt3pjva5Ed8cdB1dvRU8zLa/EG/1vOj8m9Z/PtffAhJFRRye9fHypj6BF\n",
       "5PMA0LIwhtXQGpKDqOZYtNYI47U7lfZuGOWi0LRbXqB8fOIFVIH3HhRAqrLSrDVBXO9T5cQwENXN\n",
       "w4E1K+I2tRjZqA4GpJbyTNttjKgj97z86XZpzUql7LU4jBsDuiN68RCFFgvLrklQbdVWBNo8Updw\n",
       "1wFOmJuNEKPHKn2fA3pFNRS0N4DamNF1wMuV44txVpJVyr6/w0xl+DE1ffvr19Y1JLQcdCxJFIOl\n",
       "qkI69KruqP4pO7JJlslw4pyZXrP52QmzSAG/XogcQjtcTShjzlnc4EBdLjau2BR4nDZ4jBm6J9mb\n",
       "4X9rDHJmJH0/dxnBggKoVHWr2PLkR+aV3o5ahUuBuIIM/FlGq97qBdtOaZma6EIMHF0M/h38FUlp\n",
       "UwWO7MU9VbjaClO4FHpxa+p9/K5T97aiLxkYtm/7y9LfOELb2pvsPPzQJOuZJNil//+lTQEoOi4L\n",
       "+yeDofeC8KEGVBcDAO6U8ZuqPFqxGv/hFhr7VQ5GRe4vHrw3BrGvN464IZHfbVQsVasvxfeJYzRx\n",
       "+hLP/rAm5C4NIkYoL2W3xy2Sm6k6OoXbKDN72PreSAFfAQlv6/7sutBewwSi+lJHguAyEV/b6boZ\n",
       "vyj0aqQ+IzeR1d8SOlOiKyBXgbmcKGcHCcq6Zo57N3JAbqlcHpV8nYJFRp8z54CnanIODauLnu+q\n",
       "DW9zjcjfiUT05RWt96qyMEerbezDRfoA35rO6v+2VjgqpyBmZk9OnYUpFZGvFjzFq/8QLNtbtBeP\n",
       "WxZtJgvIQdNM5XVwBGGTd05F2uz8Prnhuj14epay5nS5r/+26jRpA5xPIDSbJ0gafNXLJ+ZK9Y+x\n",
       "UqKuhxj70rXx7C8qpvi2LDnPcThIDb7pmJSXmsHY90flRMh3GE6mBgm+q/3DJtHOSTo27h89nEek\n",
       "hDlKaXx+Yzuf6j7IXK1eCshnWGMFOgXl0uiiNVydtKjtEQuteng35CZnMzMGADmDwD3R3GJh7Ne7\n",
       "1JPNBxALKmU1O8hcP6RrtoPI5VqZD+NyO6PVcDegV4Wrpp/NmsZyN+43H9wlOYQf7KXdebLGIc8C\n",
       "/CyteHgRupqPsAzTNPbx/zGSDdjjNZxgkhr0Q7TcXKQPAAyUXDCS+tjdagfT8iDJbXnng09KeUl+\n",
       "BAlpAVGn2YptiTfvMvLqvxoaob1yy0DV+0wyQz53k40KqeMBxNsGjOshGr22jQg6gKnGLQOPbszQ\n",
       "R1lpnHjHTvaqaq1KBFuwdlOD6iNWUqgyWJmoYhKFVHE6BoYvcVjjn2J3g8Up3LD1oXvCruh2V7Te\n",
       "Alqps0VJeRawwtGIJRMSQ63DBM+o0dAwu90SHu74o1CrjDQX5P5ila4RBgO+QNMtT40ei6X1K+0P\n",
       "GIenYsia0KPhhloysiivIglTYfXUuLl7Tpsgj73Q7QdrnoV/O7vRUXgLag24dMy8ud0LJ9E9denK\n",
       "IM9M33cclo3h/l5K/x0ngi9QaGkSokAOzBWTGw1RKJs9Fz//blWclpifdeSwYXaO/rgkr3Pzb7JA\n",
       "UP1O2Nr3xPqTKT9HOnis87mxPJt/Cnza7rWt6QkxOcTsBbeLEkLRrqBK3nfVP6o6QtEYxTght0o8\n",
       "PgPJOjaR4d7rDKg/kVSf0bEAx+R81Fxm2116wA/JAAANs0GbikmoQWiZTAh3//6plgAB9fiDVL8W\n",
       "sMcJc4PNYI/MQwEfK0i+8Nmfr1AKQb0AF9fAF2qwGaWXdrCp6qSHMjrmwHLKmqtDEgMt17m/BT5a\n",
       "Y2nGT06jfa8F0KX3jksLG5GxYvn3uyG/utMBgPz6Rvv0vlxW10mL2lGYAKpWGaY3OPQlYvt83Z4d\n",
       "xDcePziWhh5sixIIWt7WlA7CJJlIdMsh9aCsuaHCfWlrbiwzhtOE6jAOuDfW8zUTkAT2ZN9z5UN2\n",
       "rpgt5N4chzzO7p8DwbZYPx8gSHxRG3PZCmF29YUXyD9I1+a3fQfxV0zYo50SeTcheQUZIYl8LYqe\n",
       "22ovRG8n/1a9Sle491O0dzEr34ur0KpwP/EjWfmhz9qKAoBfeevZ8WwxeMPWHiDtrLY1X8vQhBW+\n",
       "etf5qBtp6tj0oXM5saZYFTIrzrMw7ojaN+p7NUzXY1s6uD4E+3BSb7IBWHVwEX2APD2x76Z22W/2\n",
       "uleflq1KSf2T9YAiHQG2qDCOrn0BckjIXuYISSu8Xx+RX5E4CNEo+mM5z6kuX0mwPaIQ5ND/2iNH\n",
       "/OQZkS5k0N2reTUWUXZwa0j8CGnMx7LAB+p0ZwpO4az/Gl5SkzpwBvuUjgbvNwur6m3JuJRaQiJU\n",
       "Cacu+/9FI4SZukCh6ZjmFAPjIeIVlWs8xf31l8IiJTLy59shvzG/GdDUsP+X043lwXlyMLX3EL84\n",
       "NctbtInG5sFXjAfzZ7qd9Tjm38HEgEl9YDgf9AVbx8pOELy6yriS12hCI9M9ZvjuRegVlK383Jun\n",
       "vaXDxkgc2iWdaPbhrjKBY0GLzixJJeDEg5tl02sWM28hPOUhA5jQGqPXF+UYTeSu6foYWCiNk89Z\n",
       "LBc8yXE6V7lDBUpdISfT2OPmFwDj36EIATlkZimxz/D45iC3X6+pkSFUOVQQWZbAh76vewGyTZva\n",
       "wq2ohcBFPPhLXRmwbBKkJtYmhxysRGesPmYfzGXhUBzOPBeaHnGyLg1YHtKu2Iv1atZKz0A5tZgp\n",
       "ZqxrhUpfUBlOC5+sPSSzClZAcTdNly2N7HDs42ObF4sE3dVkKY74bvIvRQhpD9DVniLnaHovJauN\n",
       "cOfb/xcmxUl5b5pK6un5gMhKqUnXCzvJFSFph3qlLS1h7uLWdNv+lW8xrnHHiLEm1k6+Z9kX9ieF\n",
       "RVZtHfZqydbADzOTmn3UIrzV/4RNRelTwb+lJf7tLiau5Ria1iECcfRzVKt7hQ1ij90uk8A7FJvP\n",
       "CyWaqZFIutZhlL41+FCc0VdZGuGf8t76E1SFVbdnlxVvX0kUoYLsCOpkXcvMxXLV1uBJIOQKljxi\n",
       "jnZ8j59KXrXx/NHBjbYAs5PFjq7PCVnvmcbS3BQk4mBx0xYsNaiaVq9rTpwZcupYmmxFWakXyr/Z\n",
       "yz6PyBZ8CvPOpIo1lzh/cRobX0/aNlbMWLiQKCtzyyngv1ubpqiaZTAl+383uxldEHl6ItktBs3X\n",
       "nqRiZ84BUMC53IDyvSUd1jA9Y3vUPJdqDO0TtQUhqVd/gbXx/XFSvNzW/QvPX9pfDTAl1+q4PfYc\n",
       "JnfF1YsRm9hzIcuKohNsz6vR/hXePY+A/LRji0QPzuaqsonvUOx2exI06ezMsJO/bo1XwEKNjAKV\n",
       "VA3jhO7ujNklYArB22xn5qqKWzrwq+QRBQZ4SqaAdgjlZg9L7vpNRkMkoKx7+3hmzWddYthLZPHD\n",
       "Al7TOpl3oif64lpg3tu2jPoN7YR6jF4C34aeRzQz1uTYp59WkMB/pqhFbb4qUeRKSJ6xEhEygJqv\n",
       "s5mWFYnMuNt53ZjEAkDKvyE5w0b1ksZnROFKRWGVDM5/GjlsOB8Bi64I/Yj/ETkbEH/eozucnqEM\n",
       "bY7Z26GzxeQ+Yrwb0E3sQ70lJLS5BoX7YNsDPY4FFbGXzJn2Qk1sBNtXFPEsbVe3iRShOfqPOTji\n",
       "Decw/ZhS53KPeMDnPaUodSs8Ic6reVHsahYg3kxRI8U/O0Nwp5U6st1NnL+wlDOFWL3tjsq3AYze\n",
       "ki5kWiiTP3b73HsVsjTLkaLRiZAc7vN2trsiuXv9ouqHIbwg/BXv/Dcd3+s6Je6+V+0Kom5zXkKL\n",
       "sTTgkNACbRcOoME1/Bol6LLBFJ1UXwXDNtJgNEdiuOPX0OydpNt12xi3K77saIA72kel0xqe6hv5\n",
       "ft/j//+YPwLZiald0nYiT60D3qAJlfNzpoyedaMQ48YHrveIr2e4HqqyGGcHTD2Eh9how5N5Q81M\n",
       "xgF3Xw9TcQgOiTunQabc1DywmPujKa4VwsLUXKC147cAYaOmPPwEpjASnNdelVhQ3ckiWDAQjwtS\n",
       "jDkLJeB+9J1g/sSTf3jK4wDhUoDtceOuJMjCrHgxQ96jBS2kNZVLDZmflluO0y7ov4o2qjdLGPR9\n",
       "NEgIaof6Iws9MfIWOHjSttD3IB6K19IXP3V88iuTUdsN6lw1LKM+vA9fVFNNrNasHsnLOWZ+F1K0\n",
       "zS7P+O6yOYb5TNTCFppUpK04Reg4s3AnoE5luhbFMDOgFnFw8XUcFip1cK6k6PpfsKn2ymjzvNEl\n",
       "w1MnQio+azreW0/Z4Pc03hl106W3DxecIO9GNuVSgwTfRjojSXkrYsJU6H4DIWtgcMRCBLEhVTO5\n",
       "laCtdC8KoTa3/FKjzA++y14mm8UHKm/3ey2ekEnU16TfeYvRhnOivUef/mbD0egqwQhX5WC53fsX\n",
       "wGaKGFUtkitDFjk8zk5cqKlJxSCJ4igQKgEmCzsQel0ovNZ2P3L3DzZ8SQbEJIVvlC0XNmmHeWD2\n",
       "NyA4mhxryEBqPbNpuQPcHidPZ27JAAjyukkk+CFiMT/M4CjO2OKoxzeouwACNe5NyXSELGh3OgZY\n",
       "spXtakQZrmXYI+y6Nxw4nX/IVuQcrmQ3+c2LGjeeALKauMje840TC2VhlDoZ45MD5rERkgWrRm5c\n",
       "OZ+iG2ZwtRosE6rhob5VHSexLme5WBvRyvs3THfpWAw9aoYNLk8hV5JlcEPVitbn5l5xADRlV+VN\n",
       "HR5M5RB7qEFNRTLRUATraeOqnUSe3m4JdldB0V2hsnWRBsPaV3m9ZI95wZkfV5w7bc5P/8dzE6rV\n",
       "WelU0zjPBfpTHpDKCdZOCGDc/xNSPvQtSQ7yFeHJThykdYekXRd85QjiyH1GxeDJXyAcMUM5q90x\n",
       "87xIE4A3Znm8IW4DJzX3iEdgWL46d/OP8dxS6tl7UQXotzjUhmpLXBw+jZtKMchn40LCfRE8eC1R\n",
       "EkNatPtncAJsVRc/kMyEbNckI6gzqlBFqzhsxj8yqARa/X4pGYpnFHtWptUwkWgZGEpbtd6sgYf4\n",
       "EWlbzQqsG5ejs09kT2VTox+Xv/NX2dvDm6AmTDPirzB4sCivyGxWraCvFcEW80GepfpnoFoCq5It\n",
       "mmsCiuEESwAF2L+bQIbiUzXUABHH7VQCMkd8yIMpIVkZP98N/2Nrfs2rz41Z/6ELRzWgBmq+Oaf8\n",
       "8Ag1HnT/RE1tTYuX2GLPlMlsDv1q3rAckOoRUApzOPSNQ/TA0gcFV/jysqyNiNvmkfB0SbSEnY0I\n",
       "/xhMxL7yn3VjMy+ook3UhUFyvYgkwGnoFttFYqqEE4iNmIDTVaPQygmt4zUKb36hsNHxugKmVY+d\n",
       "Ox1ckVDB8vDR7MHdOjLaXD5sg/X0pReAxGfEqdvXXRKZQXhFDcROMoCoJPDo3oFBWXpSlAaWHEMv\n",
       "S6qkCHhhQG63+1U2EVMncCrxkJxt/c1xcPRnYkkP786EBqxBQK66bCoExqxzgBObMSTfSB7kJZYg\n",
       "y3mPI65MdOznWsrxSqyeVkOfPdAvgjO8yuxqadRHMDri7eK4CkTh5/05RZ/uO2VUEN9cJEkdR8/n\n",
       "NZZRq5pi5kfrNWdgPR/Bm2jkwWKWwPbEE0BIoVEw7BoKAx1WRuD3ZP1VeRN/dxd2lxpsfCaP0hAY\n",
       "r3xXjz6iOeMAemWmRo210beqF+jJ+f3Z5dxtzKWW3nVpy+PtLi9nVDJoDgjDtnv1TP+aErKjEzvH\n",
       "5AV4E2UM86Et25q8QoIUQwGxmR7VpnAQc8bxjmaIbFkojXrs4TrSTNae/QgIP3izHMHBURuqJK9n\n",
       "TypXR+9JTeDZS5NeVAkmyZcLNS14eRsqbPo7BLZGvqfGuo2lImwcMMiZwxs38Hv1vNTX+/5x+Iou\n",
       "m6Qs814d4OpYPDo+oHp6FL7BeECnTQh7uqjlDmoFwF98yNW+65r/gDOIOpEnnVcIEVTjQmosiSeZ\n",
       "zUFOWSIqky+oy1C90Yo7a4rQdHq7hlYy8RDyIKr7zV6MbFt+I7IvYEtujSt4k5+IKmtNxr3xVtuA\n",
       "Y7//dNORIlpkpi6VFwp1yxGjx/2PAEPNsI89TAsF+Y547XRjlDbJzC+xjE9SnzGQmdNiNafxILQJ\n",
       "/Wu2FkzpdaSUS6/oA12prlETGBompO6irOLJFScyr3pSSXOZ7rnV76Hm8ot6CPRPvWpK06jL6I8b\n",
       "I/0za6cPIxuDsWEQDx0P6UG/M7LxDo2LlIjDgjzEpIjO3FftgkNTYwibHiIUw9lxkbk0O0HgNiUW\n",
       "2a76RnTG7HKYXqnqtKdjqLR5A/YKHZauYsjXyCSKk1uDZ4B5lz7dW3rAE6uxQ3cvVMDP2nryATz+\n",
       "GbTrbfMIh1MxdQUcebIJysg0RZLYoIRDqw/4CExKXXc9Vj9s/5qmTOAIIm83YSrepFUHALD83WSF\n",
       "iF8nbGwBxwAACOJBn6hFESwz/wABh/gPrTYb/rPW7K2LzituABaHFr+lJBlQhU3Gto4oRaXPssK5\n",
       "W9xB1Rdm3Utnls9AlJyZd7SSIAwi5jbPnyERXZRxpj4oIXxVG6BMeTZxQjmqG7PkyTO+hFNi7km6\n",
       "iKbk31G+WsotVtWAIGzwNzngoCOrSNAy6CzF0Nt4SsonCh0tWjAV2H+fQ6DaXurdGZaiflx0sxYA\n",
       "9HOFs2bYYUsnr+vlCBPzlRbUuv8Ih0tYcuBdDEZl70ahavx3Ah2Yi+1YFUjoBk4DTvEqmOkYKTvz\n",
       "W5FLxXZZo+KFHKFQCZvWtmyd9lWVZ7E6uSx74/sIPSHSe7ydkvumo0SVvzIKcb9WOq7bTWBVDQ+m\n",
       "Gia0KuAPgqPv4sTKnTZsTg4jRD08Xyl9nBeOoJNJYMFdsKw99uy9OmU4ZX9ezdhU8VMmZX5XLhBn\n",
       "Wcwo4cvMCgMHTq2yaEti+MQ3faCO/BK/CK3x9bKPPvzqohHlWruazrwqWuUoYz9dYMzG1gH8Fm0T\n",
       "H5Pygyry/qiVnb7JbTNe/dOaEVV9QvkE4vQQ64Q7HUxLdCtkyDIvNYKvwJgqDxvgX5FnWToCeKzi\n",
       "KMR1OnuMDqfLL3+Tkux4lPuX18gsTOqDWGpDWPs19RQ2XscKUhD0qh/OyDqSZ3qX7WAkt+v4ZHCp\n",
       "4M+YGu3deNzoEmBsMi7sLZpbLMdih8dBJH/uq9g8HjQmiVP0GQ1slYT2LY6YjI873IgYpnGBQ5oR\n",
       "etcf+gX/215shlScc90tALdAMX7P3cwCdaqtWi3udznjmRKuzeERFdtOAU2XCHvZJJl9sjgPC2JG\n",
       "CVXi19BvhSCijn63i6GQKKcUqoThaA/v6BjpfUZRy6MtcA9fIHCmezsL7b5gDLfw5iwIrcMB7qJU\n",
       "N6cAd9r5KyaAkQiEwvMighiitYbqBVXq1UVZ+8FO+X5lfHfEdP7ggS38T3WUECrj+MDe8hjC/rhN\n",
       "gBAgCOpRJGuxtFHDqniQAC/PpEpmm9pLZkgKGNf6Ie8AzntT1TwpJKGCeiufgPMJeUK6jYLEx3St\n",
       "nmikZxmehRr8kOqMZCQnjt8B4vAxSaypspn/db6syn6bOiKzWGFg4fA4Pt2UFQSs2xXTI7Mjs/pq\n",
       "TPGc/gVyclxAvkDOtYOcAA0JxtPhVqkKjikCkP5XTgocXjBH87WDzziitaI0hfGoN7zO2UZUNBah\n",
       "8QmCzs1/j0BxxzvwOMsf/8VO/fKlPiFht2B5P5bv8lGqpF0KlzVrGx6Hc0F4n/AlzuixMud8gDTf\n",
       "uumyTrtxaWoAv9rCcLUv+I/IB9whnrTk6pzqQEBtf688GE4UEwa3kWHX2ZEDdjQb/MNPV/7/sUCg\n",
       "hg29GgygqqNG8+8TfElk754Tptq1xUkUdjJEVMrtcJ19KmSdKMQ1EtCv0TlaqHQ5Ib9Vn2JgFUx1\n",
       "4rp09TCDWn0Oj2LWgFh8gCq25lavVGPe6+9RJLNodof20oNxdFAy9V8LrJBIyPwBLuC+YBjCR/pP\n",
       "37pmZykzPtinNwICd/mDJsVzr40X3cu7DikbPLv/EilLLij1EH37Ta6q8Pn7BXkeIfGoF4xb3o1a\n",
       "lDIGFapr8fCQ05I497jSg2UcOtTU/HItNPR1PkORRww6P4NaAi25EHmVqlhy0p/hKQvve7F7j+j5\n",
       "WnJjg1Ue5WMLYHxUlkWRVuodWQEzgoH7/+hbF8Eb+Dqg5TXANtDuECanOHW45CiN4APKqgxLEPmY\n",
       "lsw40maw9wwmJmINVf88SILk4eOA6JwhALpbzcJwLToIg80tqRvgdYLKYmipouoWgewY/5q13ZD2\n",
       "M7cC7E8u4tMR7TfwomO7Ko4f8inluMTCkUbm33kfwIR2O0RXFi9m27FJ3TuJif+z67TUKfs3HseD\n",
       "4Q2JIxiOUPVTzogcX6pP9EC6ZrLyYKUmVpEkOVXim3k2XAotOXiNOQcxevq45CakRpdR9mjxMDDL\n",
       "N3SK/JYV5ANmbPHDMZCldnft+n6nbZDfjJUD9JCVkAIiHz39OCkyjCAfYyZTEtk5XQBk9i9VVwDl\n",
       "ZzKIuhbChAboueuDlGCkmX4/tf8cQH79TaMBrNvJWC3qk+TnRthYJuRw/e47EKOqM5eawup2IJhp\n",
       "DK+JPGrZdCd4L7M0IdlG7WnrtdDe2H5bPFXQlsSsYQezyu86tYduaaqkr1HrlF7nyoBbmaEc1AJE\n",
       "NV84tlMBrf4U8ptk7CkKx7vI9aDZO9MoDbTjM2qO0SYcpZuvrYt1NELKYFeBX50c8KG0RZ72U0Hn\n",
       "HZtB7m0SCVX3prglTzUQGrkTIW9R4ATirD2P851LturM6hQUFG/Slj/1GO27vB6Y0fi/iSJo+Txj\n",
       "oKyqsdjBZjXJ1KSwxK+2hIIg5rNHFD8/Xb2CAcEQgazWOOTPp9HuDNs6qtkGlCZOyQWSqesvGOQp\n",
       "0hn/Pot6Uz1dqWYzH3RYsyLpNuVrDo88MUquMLX5m67ULOhRbyNCrekWVzXL8ano4MakUMrAtSVb\n",
       "z5NqJ84HlD1USaEqx3WD26iCoQ+NidLjCm5akej8NMlf7YjmpYbgPfboBdhQ4NYXdFSC2Wdzv97B\n",
       "A7HgZKjfny5FNxqSSCWXTnaNPIh5hyXAR+kl4SMdH1fLSUO+QrbddBuIhYS7s824bNxpBLHVxc50\n",
       "7/ri/i+4o5MOVi5T3L/rZjEhDLHzlHH5+2yPYAjYavVnj3cAAU2nBdn3NzBfLCDeYppGU91h+nE1\n",
       "kWvnbDHCszGK062wxl8B+w0EjPzVU+S6NCyFHL0IBSOEmPGascQJCUeha2fQ/KJzWdFnBAjvDelQ\n",
       "Gw+Aep77d+P2W1XL1p9PCG8eHIV7iON1vAbLEZPGLb+yVmfN2+3BRJukTBhc+6scAg2q/0CBh0n5\n",
       "oixyn0hwKVSAM7299KeMhQUVdu+6UL5tpkolx/L+QeBOy1lfhMY4NH+tuVhoWgUyycXIFxItdMQK\n",
       "WDMVOaRCPV2Iagdlk6lrrlImCISp3AvpYkLSf+GsphVDvJ2ptCUK6OGXGVIKWvsFaBs0O4uU4un5\n",
       "ZgYA3oAAAAdRAZ/HdEK/AALWltFrwAtwuCCCBb1GlUTfsw3Q4cdkGQ7HFc+gxPWtnpLAouP/b++I\n",
       "w6uF2CIesQSK1y3/jdRQI6/as+W5lA+BEew/mepv+YPZ3LIhiHMQ0xbYuSbKVs81R08K7XwcNgvs\n",
       "KonXE6eYup0G09txHIUhKaWmbtD7/PKNt4vDutx/0EwFSGkL/oU9Bfnz0DmRGRGTSXVhc8NXz1sd\n",
       "kW/xo5UJuIDVMAtIM/8z79VqFVBmyCkM1o4lSeM1yqoHGmILt7pstrrT3gq8/PjurHUkWiSX6P9e\n",
       "rdv+w0svTZH8IZfhoXcKa/FooFns2uv1rLH4DHeT0CoELe87wD4TylxSkLJHuP8Y4mC04w4s/lX8\n",
       "A7WYfeMcUNT4NXVDgSN1VNIkNPLWRfafz4JAq/68u0HU4MBVtbmP+WWSej/d+ezLhKq3B+iPAnjL\n",
       "1O0fYtjQOSFB+/dqF6zbOF1WfuZYChuVKWj3k/R9O73Oac2SkJlwX6BOAvZAKM+ol9UkrX6LFXLX\n",
       "PnkYrLFBCb3us4OV420yZbEzkWHfrkn1blEFT0Bk6tpkx/qtjV9exV7Hhe562PbF47ZN6uO5VMEr\n",
       "TdQXk94/KOUsvNXqFNa9si5hshx2ab+gsSBVpsF+hr1pwsp+5RRNNhhsGHsKncoc7yLMTQGIvzV1\n",
       "rYqMy4Eqao3O/vJ3PC9ezJJcPx8721RudiU3pqhRlfMx/NQf4tkABai1506+Zy8U0YbAlaP4GVAt\n",
       "J+RdODahahBerIhSMu8hdSxUwov4vpieWjMboPiYNQ1HfJjxlCB9F2z5HGPXH2WgQYXz/i7Bb2P2\n",
       "8N+LnWmuA0nI/M+1F4KgTtp1oBD+jIZXcVJYmBoj6MBREfgvUnmYp2QkU21+021b+ntxGoIVS3j/\n",
       "JkNFmFYQn8bhfsbMfZAiucoziVhjSKRNtcHBlr77yACscviQCh2XItLk5+at5VIoWI0TqZICzxSA\n",
       "4Shfc8UHKpzKt5r0FGyj2cHemsXWpFJz/vqt9GKdYQpclHma6FIKGwzTmLA6MRvhCkbj9j4qcVdT\n",
       "kcIKQkMGiWU2m8BMP5AG/bWdm18ppT4RRfjhkAYCWd7pk8gzLvNrfmNonPTMHMXBRquSJswq2E/Q\n",
       "uRjQN95wSvgai1so5IiiRIjMcot6PoYtP4LwqCaPu24eBnNRgFIryx4y3ZHac+L442WSVnIqGVfX\n",
       "51pDVGR8qxMjyGYjrB54bsypbteMoxZveWCVDYKLW9q6kF3Zw7Wa0EB5JFA1vaaDBEF7jbfav09l\n",
       "ME9V+gOTcqZRz7wRGirH8YuTHUFwntxFisTR5rJockaaJGvWlzdzfbY5jbXLHaScJJnnhfWrttDC\n",
       "GmGXJXpSUC7IcfUa8/Uwf9wsPEpuP519rxES4fnjvmybEqn7AU5GTeVe16onTd0fWuaTfUUu9S0m\n",
       "/49MDeM9QGOgGLuO8cEby4M4HK2Cv4gIUOXzzdTIuixKzx1N74JWblDvbUGHDxHnFVMk5KTLbdPm\n",
       "I3PxYv4eDJ4kbc3dc1uSTlK0WA7HgdZ2fUKSkqtSXPnEOJ1YPJlsK3phNWDLnNO3Y+PRWv+ksSux\n",
       "M4gDnayfjUpapXDaO6Avlp+PMupJNAPpPqNJ0mQSyraBh2XAK0EseUCYyhrT4L+RbZOZWu581eIm\n",
       "DU0GEth0cFoLTMQBePDZtMP44fLjAMe8g3KQgGKZoF5dDgS1jpUL1UjpkDEZyZruR2rctUqC1qHB\n",
       "niSWnOhSdQNAkApnrVD5grRzqkAVKQjabvV4mlhb/nfPqfIY4uRUAmoKNKmUmXOCGiSLqT9sGQC/\n",
       "RFtMKhd5nmwEt1plA5e9Yg+LsABr09d1iCcyl7XM3tgihS3dL3Wpe+4mrxLLKyTMoNt8ugJiCUDS\n",
       "QU1C5kNLNyIEBq1zmdCagWAupL9UBpuf/lGxE9ryJA6kI7xcLudSUlhEt7G/3ZDfpqBAAj4Oddcd\n",
       "mWcF6iT6LJIS5DHgKeldV1W+13X/2RrQCboe59fqtydsnyjl/dEuJcvqi5JiUWo9CrD6TyTCT73j\n",
       "6MYnv7W1tHgoS5Rn/tDMiGHFGZBSXLZKu65k7XhQOGQ91jZtzrnn6nHPUsXuUw+HnW0qnB87587B\n",
       "l3EFmFW9yqA7GCUwY9r2yN0dDL4p76/dYLmPonFtB2hI8y/1YhaYHjfLgxx5lpPuO0stQBbvZ1uK\n",
       "BZqDgKvhKh0KqqFb/XCLYX5Ke80doPbwYs9ovN1tKz9Ht1PKbwilo8d4nnSHooaQyca9Djycjanx\n",
       "eX/HfY/UTs2lDe7MdLGyaVcjDIAAu7z9WWuyDoCHoKTv7fjTogg5miY/IWr1/E37dhoIgmUBQLLK\n",
       "NGjpH8wrw6BJVWsuAa00iKP1eSVuL1KddUlK+8JFMfcyFVc5X7j+c2Y7oQgjHjMlb0nM7du6rQkm\n",
       "oUq7kPZx9wq+1bcgd20VCyGGter0b5bU7Sq6q6kJiETgMCCK4WsDi792bGyFeYhhE4ISySSAnikB\n",
       "dwAABdMBn8lqQr8AAKrbk8bwEk5dnGz/5RXcCdoGXLFaEt2G8tiqDfN9KhekOIe6Op6IZto1txiG\n",
       "WvwBgVuVdhhkx2JtRhrN9aOrw1me64X9d8mf58EUqdp5yBWVeLLQ9BE/kxMoDOsF0/ZQr1fMA9k9\n",
       "aPxLWiCEdSaG2QlG4Vpqx3SfZq5HLcrRLnoaSxfOmvF+Od3aAAbKLREFdcbJYeHhSpwtAQ+ciXTz\n",
       "+Ps1z1XmyDELSpYzTRV5m/Y/r8pv7LZu5pfvJ5ysAbdaOu+8ggyrR9cIFqQdSS4JsV1NqIolzUEh\n",
       "8scx2jUKZ5MMx0Zb8myGZ3Iqw256Rvwc/e8zp4w3oRu43U08kNuvFUf54W2I5g09fazhIBZW7vtk\n",
       "niN/LF2T/STZ4LjppxuFjvPV9hq8hW66TCFrDXcYQnBNSS1jNGK5qsX+wj1SyeJCbdpEC8LRLOwz\n",
       "Lxp4iDxd3tdRrbLcAAAp/K0W3T/12p4D/y6pm6Zj+NAjAJl6nOBTNiarM3GY2806YQW1tht8T9qV\n",
       "8gaPOJh/DCSvyDYBjxrBe+J7z5qkQn+v1mhDwUkBqCZkZWKaA4xsCe3Sv+42zl7Az19m6qwKicGZ\n",
       "HyDtgXTJDj2azADjmzQcqZe768wR16GQWITQEBogk3x8msthNEq/M6BlECdM8DqfOhbOCv0z+WYY\n",
       "7hkrZFDynKcSwCG+nlo3VeqTSktmvstsfstaBJG+L24t8fQ2l/qkzS2lDgzbY74dsr+Z0SjeRHt6\n",
       "x8/TfABWimBN1Fx4kgAlgZHDDAyBtwEKfIRViQ8I/zlC7GKGraCHG11zTU2jIMBON/7xvY+PQGv2\n",
       "fzk0x7IwdU5NlObjowY+8fjRwZvCo6CNndAn+wSPwfp+vFCcp2QLkpp7wGbjz4yeAjrw6O0FcmYo\n",
       "peDhLQKkeQ3bgEWLexc4Q52l/klm4QPaqGfyg+yC/fpRWpPOAh/j4/q7mtIx+hc4zv4AegYeGCI6\n",
       "966QOCojZZd+7IDeWHfmbMVtM55DRHT873F4myBNBu1x9Ucw7H6Bq7Bkb3mvFCCWcBIJJku87E5J\n",
       "lQD0Vc3P2UxRKpKM2NNvSrz3CDOgTWs5S0CM8WIFmVA6O4IQkha/txlhwjbjFwBRHtBSym17CCet\n",
       "16BttWBoJ7TGxE6OU0IGg6ZSNIy8Feu6e97i3DeIpIsVBxPk/QX7e5Cd2SxsK2/Ndi33reTDihmu\n",
       "Ue1oyawx5OXDXHSBmXUJP68HbxlYZTquOeCugp7Gu/TWWVqhKj+RH3VBvynrjoKuwtyXELm2DFhB\n",
       "lbYljaZ98xbze46w7Ol3ROkHifVdF6Rt3EPtfa3JWcUmeCqVy+SMrXasGd9Th1roK+2PXF+IxCYB\n",
       "AdYaUODmvFg7E+TG/EWzaLLtormm5pA5qk9+WbDzOVs7Njs5sj1Wa08usSmO45xiDAXRQFN/WGem\n",
       "z1BbtBJOgC/hCYnVeDk8F+9pkoUk3hT5R7oTAsJd/gOf+++yzmjawFtYHgpSlorh234nwbF2bliX\n",
       "2UEVfDnyyG0tm5dGXRoz6U6DqZ34Na6ww9dXWSoJify0qi6b0Wh6E+KH+zE4V/j5OLwmNeBcKc8T\n",
       "oN2BLF00d06trOtdlLcWmHmqC7+7bI6WBsOsgS4+teejQKiZPR42jxEQCMpSrshAV9LbWbOBswVQ\n",
       "QHS1sVTDr0ZkkMotC7RUkuFrhZaJxffXpivwyhAxlBUMODFTHfMIFNZ41ojTOC3UTnIh7PcoOE/+\n",
       "EBkr+gdbNW5GX1Bh8fxuKCHgglT3bTXnrG+VaAfqDT0PUYNEv/yPpjqOf2lXVlhDsQkffrF62f1G\n",
       "FVml7MYlrNm81epn7ySns9Hbl5EsVApXNouus2UGd4aBbsf7WvlFpWO4vMSrYvJgjzPTE4B5pWYT\n",
       "N+o2u75mEU/zpeJP5Mm0zFIM/XnOJMR2qXVo8x6qVpDSDjSZlxT6sCifrrka1YYtPyqFqTCki234\n",
       "DgFDe4xlo0I46zYAVMEAAA0sQZvOSahBbJlMCG///qeEAAAv/CeZK05DIKK2ioAWNvkBJx0o2WdT\n",
       "jdPconhgfnkvujAvmEfycM8yW2b/Jm/vIqzRFvGbS4cEtPrp31JRk4/EBDJIaSTS6WR/F5oULSDe\n",
       "0GL2DVRDgOpxBX1BABdL0Sy4buTxr/6qiF+MrR2f3OqeFOo4x8eRdvqvVIzkfBjmjTmsAoO5Wu+0\n",
       "pOHEwe1W9hB55jGMwfcToPZVf29fya+h5B9iPU3+9V0DgZpTsPXarjDd4dZm9KroPTREp5JKTpkm\n",
       "Vdht3OhY3tytwYd9e3LR5SVdl4HlfcV1TPK1MP9IO9cFZyMwmt3Sed+DSs7tPLoFuq3qpKv3n2+/\n",
       "YGYhqArWabP48xurNmLdEEzX3H2Rido9kGLRw+2dPxelse8C4UOLPPK4JwmyBD1if5sFmAdKJL4W\n",
       "2mJCj16ltQQBaH9YWPMSOYNtTSC5+usZrhQQ4JDQWJ4z9/MloIEjhgYbDOlDgjiem9WGZ1m38jZB\n",
       "EIBnzyiorELSJLQwebOJhaR5z+zhAfof2jrWN3ihWK0BiFHtz5Isi5BCz3J3Ew5MPtGcaonpA8rr\n",
       "dyFp0mr9l1kIcbKVncT/LyMzcyzDgDqZook/+7mVzY7AWM5GhNEo/Bndpxtkf8FnLNe+nuL9uoDP\n",
       "1KRR0FjEEbonfiJOPpQ8yNeooP51lgdO4Mmo1lNj6iHL7a0+vUW/PLt01lO7frZdLSIp1sNbFCsY\n",
       "+D8FL7cxqP4iyN2pHIXW7CM5aYXIDr18BrkXpyVeu2PsrmTgjUamF9fRAAFEnflmiZ3j+I0QDwar\n",
       "A/ZOUX28jDAAyO4/8vSszm4E/0m7Gc9TG23UzmTYy/oILcdS9dm/FlebO/HZY0cQPlp0/gY41Dwl\n",
       "6sXT+17eFyD4ageihSuICCzHx/xHEIkqFlmpQFX8wOQQUWoZGgFNppd9i9Oo9Vf6hK1q38CpnCDy\n",
       "slnOsECABbb2uDVYSLu+byyM2TK5mcP4zJ2u7dwpg1SbqkLUNOVOrTfZoQRc/NAaAB3xa2SwY/ky\n",
       "We3M7WS4vgjtVekgLkOV8IHeb9w3eycTZ1lF1aRzYEizAFxq6mLajK7MeYHlPIyKsFlkF58uWQJF\n",
       "d48Xd09g5+jX3+ZAYhsnZAtr92KT9zUuFknUT3QUa7ooBXtftg+RlJ5zN/TDkthmGuLAbXah9jyk\n",
       "5d+Tl2rHz0+t8rpBceu7YclXkY+MinzLZxrj6A9ig+4DMSucthx+6tChrhLKn2DFNQtiDh6LiYKD\n",
       "o/sjAwVT+gDr225PU+uEqRIZ7tMn9OAnUu5BUMy7cjcIWdPD7yPrqvLueDZVPW+GsS4u8qRS9zt5\n",
       "ffU95xPg07Vviv+7WhAlGD763GKMfZh7V/ii56iq4ikUldUIqFQP0isZixCmMf5pCUyUOi9C1C37\n",
       "NveKa7hWZKq+0yxV1Dq0RXv1l6l3ZcH41hii3YGRmO64Wcr33/auAuS8F6BDBEZ+sP8kWY24eYfa\n",
       "1zUJG9zGq78I1lvSV1/3u1DUsbXmivSkfVx+dLxXPEPwlw7kqR0nGZ1PuHq6p2JJDN9fyNgZbVOF\n",
       "nV0Os3ROVudSHMRavcobDZZCotm8XiFJeqQ0tsJNLxV8VpIiMEA2CPUfz+L+MwV+3/6Tt0FawTVC\n",
       "WhHOTiwTz4XTuX2T8oDAtbqXVU13ik2rXg+5WImkNs0YCzXmWkCFMSpdCDM4tKUM3l625nshVmpj\n",
       "7fNZ/YX/VkzEywmIYWqs1JnG2ngNfr3g7NKHRGcQ3WuRYyD6wEhrHfqUvX0sCIoNjz5wNYzplM5M\n",
       "N0AGw9H7Zpb//zDLD375iNVZ2LZsXVju5fPrR1pGyUHVxfa0Hhe9ue0OLxBqdR9vbVLPLbWiLWbZ\n",
       "DwdI3VF9lVHEAO1N602Px1jcs3Jy9l9nmbv+GKP/o4M+idsW5hXr5Tte0FbJiOYahCCwA7e/JFIa\n",
       "IRreuVkjGx7ovsOV9j2YtxU7KMp8xGrRA2lk8D0dl9CSzog01/rbG3vQ6PxYWH+C/GRsJQ42tQYn\n",
       "zq+YZ4SUho90rcoiKPjQ36k3n4HWxclRb18716fPIRVBPz6k0L3TfsyUh0WI9VBZE8vzDFBKBeAb\n",
       "z0vB0V3EiQQ573Mb0K+mc4hdzaxUo5ptVEat3HdsjxmzBTdpMiecN2ZiBTQqTypaLVEL0palqjGa\n",
       "R2Li4YcgpW5XWFdIEetyFVSd/VJJkCB33SaJBTaA4llKF9vhtKrB5QB9xC1zF6gyL+zWf8Z0e0gh\n",
       "VsYNGWCAHWIjjtNbIgcVOQ4jt3xsmaT9VPPO5q7a+o+tRiej17rIVjwYm1sgrC0ysV7SJfpmdZ54\n",
       "9H5FivoxKOT8iIdGuX8QhA31Q1rGDI/TQkefprF/mjH9etvZRqDfZhvduCvntmqzkrypNoD21L1b\n",
       "3rNKpfVimGryYCUcqll8FOY4L0nvLrPUAgFpCJgVOWOZ7kJyt+t65K6sAR9/dRwUSoV0rhDZMYpb\n",
       "HnUNhkgJSJ1L8hJb1w6fI4nRm42NXg+8oJWLUF7T/qmfaCMln1xmr+BrB5ookB2aHyAj1yTQzmnH\n",
       "CVWXkVa4jiB9suP2g5cB9QdvrF3T5BHudOpofjBOAUXAQWlCUTfs5WSPsRiXgxS7GwAre+h5wKtP\n",
       "8auG33YC0pDUcdRqY6R4a/WWAy5ODzwrZsz7aajYfqc+4i6/E1+GgHsglbPzaA8e76R8vby53/Pv\n",
       "IbBJnpdMyrAy3rdYDeXR8Y3j5hoLc5DOBZqP7bnUqxN9+Z6ex/+6WkExzOA14OdFWrVD7kgisNkn\n",
       "ifccH0uvGAYNpKTGTamT8UF4uzjn2JFFT3PYXeaHe0BbSApsolvRj9SAeJOXWOB6OTBde8QwvXIs\n",
       "cath4R4XpKbqIbaBJHam53qfsN2NC4jNbAeRP7Lrlw7S3Pvfa7eeKWh60SKp6rKaXs1EH/OJO7Gb\n",
       "7k/zNKRrVnHdeiyKQeqquE8dDAc9FeQTTTCq86vztzKhw4iVMMNUA6VKMNs0EN+wxcI3A2LfwrAZ\n",
       "PBI7InoIlpemXd8ilzsRG2WANTzoJk6DJs/YF4pX5RYNRWCl76oAzAFNVX3cbClap40n2zTnBW+2\n",
       "dakHOpLrqZOfp5fUJxi6nonh45GD68gzMhqoFnpZESkPFiCvgAnPSTuwVUM6V4nSfblcExSkDnS5\n",
       "RcMBOTrxfwwI9VWNSfVoGjIom8GmBiSrhOVmm81d9tgS/fQHpNLhOdsWvHCMKW9jsOqhso14T3pn\n",
       "nciHNFW9HQX/mjzwMFEAuyqZTpwESFFy73cSJoISx3gFeLkcLhrMTZ6Y61AJgjk9CYrN3NGro0o4\n",
       "kgw+5U24pHbA7D8mKkGlZzqarue95iEK/WP9YeCGetb0kv8NsnXhalXHjkvyxrqeXvXYMzcTQsNR\n",
       "fXHoCyc3+/UnOhAYQRpmva4tNV55cKTwqr7bTzOAxfQL6tvRg5YIPgPDdMfI64cP+s35NK5yLNX5\n",
       "tuj1f8SJ0iNYVsqlN5FE2uJggKN13s7EIEUKk1ChvvgcOVDXUV2yStzC1HBXtl4vs+1JDIlywTcv\n",
       "7tquiJspIWjb8zk4pMIQXHi8OWgaSEhtoJO5j28mGT6LaTDlKWTExowxKqW/PlUT5PP80XdhpEkN\n",
       "K+xuc6pXPOIQMwPoH43m/dnCjGr4EKJLSYkxS/KGjOghAoHufJjujQisBpdheH5GQuz4vKh9BzbL\n",
       "DHbup2jN8u+8SXuqb2CmgSWXS/lYkHdWCQdUVXGJSgDCEXSwU3pHyzOIJKJaI4Mgi5L5AQ6O/hPa\n",
       "wkh5iv2BWEbYOneVesu6kd596AJJAAJIIIRE7ri8RsBDsOrzlvG0baDm8S+yziwvUOS3eVZP3zP8\n",
       "tsc9fvCPwy3BvC4rxNxaZrPBfZVb9PimoVMZDEvTimGwYARbwpMp00izbQizrQyLdPBRlfeKjtTp\n",
       "Guiw7pnQH5ae7jPcKvUy0CR8dHcH9DMZBFOdSmHa3QtEjYcm7cDJfEy620HvDYU3u9VIMO8BgQ2R\n",
       "wbpngfsMXewAOkVSk2UMCoMeg1EcrFU6YlvMy6N163dHWhPKcfkTJHOYM4KhElJuvb7M6pMbTpeT\n",
       "CkbGN4Nfbr2k/axOQIYtevS78Be5eU8HdzAR/CQ6L3LAvsKTr8PNR40g0dv84pb0RIWTq30L/T6t\n",
       "yXq25jRQF4QTu+XYBRdByamBLZw0KJyNGFiGoT1/+HT7O1Af2giIj1TL7v0Q9bc2Slo7Be4TGsez\n",
       "1CQtUjmvbUIAoZk3jQPKFsBq1G2AGqjF9J5Sf7DBAcWX7CgOjWtyGILNpX3cya74UmUSpxUZB6QX\n",
       "5G78fK5Z8JLSIK8EW1xQjAERP8VboNvOno4jwjVe/yuId9K9acXkLSLBAniBURuOy5B77oykQTn+\n",
       "wMDTqxb/dZGvjAeodugizzGjBsSZdaeP0maHLQ2/jj33mRi+8YqQnxtxTpWgmRCM+JfbKMLUXIuP\n",
       "loUiPvlWodKqVixNjenbxkIhGhROchGyogNmAAAGlkGf7EUVLDP/AABcKpAH5u3Rw4Ue9YgBuU2O\n",
       "F6dNtlF5ooRpQ5s0Fymj5YVCvsNzjCnrkCToYUyOlovA+YNfv+6Ep6zUo9m7BWgnk9mkKrG2ZLr6\n",
       "7ZwOEV+10WTQoHTKG4oC/FmT/PZHq37dvXvBdXo9sjFQsH9wZ/pT7g/VU13ROkiw+YLzs8Evcr4l\n",
       "NwzdGhm0PXw8006sYfy0WhmUqZ58I+WLU00iGgnoCjIWmqsM08rW8i+Tv0MKSMEBBwnOx2oj5M4Y\n",
       "+fWCqHcUsxQbeqcAMt+EDEPlOvfvkpBebox0h/VffETjLIR+pWnL5dcZneErvrRfQskIc6d+1hPm\n",
       "dm5gEyRZNzAhd+jMOaD9FfplCG25dSnNScdKPIutJDXmllqNNZ9QsfzlZ+NNX47d9H3eZNSqnYw6\n",
       "nZQrGBEOIYh5QssMlCfalGFnGvwHhADgM9BVnmEaAcZs8pyuxyxu+qon0WJQMDqKB7XprGr2tbAw\n",
       "w2Zft844LqSgjg+hsz/mjw++5fm370ccmhHKdpuOSUGuERxmXZpDqqvkdANHfOgs+kEMVDfDAeZz\n",
       "Y12eFaIHgTmx/kQIrBElmRw7cZHBU2QvvONBFPcS/9h5fQKjrEAVoFI7y72hEKj0jf57JY7/8kQC\n",
       "WinHHn/w9zdxpRf61+8PPTu5kRzSiXM+W0pzV1K6QklmBVhS6JoO/qGws7SZJgo/kCR0FCOeTugt\n",
       "Z7OSbx9q0+NufcZlpfUpIrjjBvfGePAJTqLXzF7C5ygDCnNIAGMBWxTVKK+HakI8R0zbrH0wZ0pm\n",
       "PPRjg08uU49Fk2EEHaonZi4Mf58LbWeaxSQ1oeRuYHWXobvMX9kQtzt66PS0Q+WrQezKi84TbBBo\n",
       "T5n+/D+p8b7Wivez4NCj9gbuefUi0Coy5z7PLJRwdn2rPh9Yz5CvmcQcS4BJlJ7Px6KRkJmBusUK\n",
       "w+rAFMe01u1QsSAfv+n3pxaePIljcgMxdD2wyJzVefuBDdACp2cIb7xsTNgnTrlFdv9sgExf4yta\n",
       "wusWZKxLVsY8CZm5XUPSrHgDNUtVqA2NEYD4SrVOHKcHTy8fsCJYYlUTtzmhpDAIUKLoLYq0S9vB\n",
       "GD+Cy2rMYKeVRKxuDk+f9+x017jfRTUiKsiKKBfTqg9MPgho3qiBdLo5w6pP/TcMZk523Ggxvvcs\n",
       "toSVHLjHff8BPHSGUO7h/5TBgdSNLQFAACOTeIrXlDmwo1cMncMClYxB2liMNjCuwtT2u13p3GI7\n",
       "WWi01XtrwE4WQ5Eq98kbXyvfuF6TFkd9XQnMTgzdqJUySqedr1hyahpS6kCDOIP+P74LyNJyb6Iw\n",
       "V0E9EOrWab3eBBXT1BEZ0c8aj+dcvCj3U+hxP9MekY+1KeXm5mWPUm+Dm7cQWvMrh7uYICHBlyQo\n",
       "NYT1oQXrt8thEhXYXkv4OeF+ZycvQj24aXpN8oVJQ+s/E7doLD/K5WtHVb+kZXhsjWLqLph5kl72\n",
       "BXKnXgYjYqN/BgJWsSNCcdjJ9AQJOVxM8mHfLg/84mCRVnjxpLXikk6T59U2bAaHA3vOXpESzhgn\n",
       "JUMq5GHmJ/tkd+utH9guK46Cqo2vzkWbt2tQm95O8pyfg3/yztH7n93bAA0lsrYk6bFnlxnBhTS0\n",
       "hx6vmVm32BNIUUp9KstjAxSjBmfiRnVX64ZOQRgjvyVkc9gpdryUBlMmkWvD7S5bPwuDVi17efwt\n",
       "ksMP9B+Qyi0fcAKF5RgHIETv4KTWtoW4DaWtDK1jW50eOSAZ9F7/J+QiB/HkatLM/RRu2STq7rqB\n",
       "6M+3JH7Xu09nO3a2kwRO7KFONLVE24CWkGqdOcyGCB2g9GKt5ffUfoYJBTqUI6N3uLswiRl1dIMK\n",
       "siwYbSY5jmHU8W5tKQ8n8DZB+85UlV2YqLdOpiakx5POXoYbkOs9fBPZ9Ew12dl4NtqOn0VK2zf6\n",
       "HXX87TdIC/FCXWX3FFvvA48YbmkduBn6qhqcgKGXT7iIt0weB4UsDydTi8bF4YJLYywVMShV+FVe\n",
       "ELnJ9gcou+5Rg8VMAiX71O/PI47U50b/gXnb6IgmWxEDr8Y2UQAbytYTZ9P37tzpygnzfG1EAZeJ\n",
       "nI/ksVyX3HWBih7ijUQwT81ZPRp3U78RUVhhLfmkaV6kAYQTHwM/28ocWU+Au6/9KujpJQhgvwVV\n",
       "dnEB7LiHHnXCV/d4FUoT/DNdwpz67VMRChqfGRUOPmLbs4aYSKzdBjhKxkXYcF3kDwO9D7n0w6vZ\n",
       "GFb8LkAd0AAAA5wBngt0Qr8AAKymZMo/o3Mvjvp8im/k2dRBXX/40FIXx+zc/DADmyp9Zf/0xGbf\n",
       "NydpX9oY8fO0ZGtOnYpzdpzRX6b+KkVwA8vsH3qon1U4IU5bjCc90BJcGWIfhNVNfE2eRKEKE0If\n",
       "9pL855KCuPWFVDBhGfTEe+v7OA9LqqUQZ0qj4nH6hIWRP3binWMge4+kWmC/T46lPDcB/tIPRTVi\n",
       "425v4aMbgTg60HKGQq92poPQNiHAds8t7MV+m+t2Tc0zQET8UptzhxS0DPDvZynzM8tsgEktn6wv\n",
       "LgT37htpf2hr3oAmHDPEbVnerVLQO99OZYcZPtERh88sskVzNtw4u9xeHlwmz4143G+KkSEJLVSD\n",
       "DYGCw6bjpXfLsFku8IE+awSX0cdv3LuTpIp9oBkMNrFTTAGrjlendsvU+51qmqT6HXZa/numnmkl\n",
       "LbNx9Pja8e+zT/C0QJOqU/MeQil8cxQ2wucflmpglnThStB0rnpoEfNVC3+rBI/upWtJtXJS1pLt\n",
       "jbBjxJtocJvzndgAN6+oxNONN4FXnxgR3ttBy5w7wNApoTKgo9Rka14OepPKthdCjqqU7OfV8E9F\n",
       "8I4NVzrKjlpc3yNLzTICxrj1atyXg86Rxrqfo7JTlbe7877HZxKdTf/RK8K+9AOJhxCTd+NwNsQO\n",
       "iAXUrHgt3TuEh+EI70HBv9EXhZ2EWkdmdhzj/0hRtNZF9LKyUz13R20ImpYC8j85qsmoG9jRXxP6\n",
       "ndolehnzE/0zN09/XasvDA/eiY2PIqACCfCYaAqIkOaw3jRgFIr0hZL8yInxS9uO/DWSfjvB0tLR\n",
       "k/vmFJn13pFjXeS2Afp1y8fLNFyfy0KKkbqH5HRtWvt6cqeyaVNGjYPHTGoWkzA79NVadeP27THc\n",
       "CLZWxX9G+vqGunBye0VACjC1155ZKch1XgbqS1yQbrV7IzNh5j4DLlwooGK59g33AaIVsBAr4nhw\n",
       "zrSaPaLELAN1h6xoYqG+9YVQ+/kfpncQwHinn1yo6w7svbfvKGT7vRKF1n7gm6/wulNc6Ro/F/Fp\n",
       "rhqNAeXwKjfG3P/EEKkFTudaEJ/PX4f/0pkquttPqkrqZd4h9ulrB7WfA4AeLhoyzSYiWRo/4l4m\n",
       "WV4d4MO+/Nqp8qtrXrKIEctosg4Ozi7S4ltbhC+8/bIUEbDL1rhdC8IfDDPu+1KLvDkLuk8zqhDs\n",
       "tP5xnxcVL2z+pgCvKqSpSkJ+WGwAxYEAAAPRAZ4NakK/AACs2EdGk6K9MAUGz1OPxNYWrjhoCH3Q\n",
       "1JKFXRElVGMVAuRgOfKJxoqfPJIAr8DPvv2iUCU5xp3ioIDZPOS+Cf3NrznPuxx67MBuh/OXljZj\n",
       "bShcaKjFPjTRiEu2LKwYiNp8r419TMpMSuK28UIJ5FQw5ogOFBiEPnarYs5fS75Kw5i17+Vo8lEg\n",
       "wL1vOT+CEbveIlvQktYq0RRwhS3IWFAfaQA+T9u4GGe2WKLES+ScYeihaRuOyH2EjR698z1tn8SQ\n",
       "+S+LyF0J77O8dkYDZBvRKx5EKg2uS4TGL0aj0RxxUV6ynsGbz3jkN44lYlFkJ3OHrHRzgoUNI+b0\n",
       "iJhf5199etQlMKebxCUlf888cj9TFGnRqLQcpPY1jFRert1/Xa8OA2sg1wo7pNqa1EJ7fQ0AF13U\n",
       "CPFjc8Nvh/jIazDySRmAPfQHN6O66+8F93KhAMT1Q9kGX6fhQ8H6HU4VxDY9/sUZk3RCP/dnH/db\n",
       "474YWtM3OJKrRldlN5C5QCiccbdjI4m+JDUFw6XwmKztpJm+FrP8YjCEzYeeYxMgcDnVJXBAQJeZ\n",
       "PJF/IKptv0fbce0kSXelbyL/KO6IPF0yVtOFiDzrLNKAhG42gcIS405f5g8U364HaC3dzjpfe98y\n",
       "bqXM6v6iM6nthUgzl2frHTf9khiqnipTLcvVLyZho0nuPGXiVtZ1zZ7AjhlVaubpSsC9oKsw0Kcs\n",
       "6MZ5NkszcOGmGd6hIkXCXFik1ju/UGSyQ6RPxTqT7RmIx2hWFAudWzwmILKxXQEzeGDoDJwCDc4S\n",
       "6EzCKPh3s8JYEAJ6YhKsm75wk3oVIQjlVTkx6Mw9872+DwOoe6IJT8i0fu3Uk8qqlWR2uPrMz8/Z\n",
       "GOxcG3OdMdLdN4xFIr1ewUnHxkcut2GixWoLEGftVvpZkVITGLL1lMBU76f4qWi4EXqeU97Ko/u4\n",
       "Gis7AxSAbc6pTbsy3S7/5txQsAtRYVG3+zeKNv6JrHS+9XCkQ9jDrK7WPhrOcL+AWPay+r5Z/cbC\n",
       "lcXwtyCT9Y53/o/f8l8sVlgEUBVtSA6TNTKuemSJObsbJKTUKt0/rxwP2XviO0ZC0kOw8MQfbXZu\n",
       "HUhA3canCiNF4RWBKW+GVTVzAINPxf1OWyFLbLvsv5HRUYA7aNDQQ4KKB21XXkDF0rMCEovQz3/Y\n",
       "K2h+8MhK8Ycp9aOFWVgjRLcCJztkwinf+OPVXkK6/nacXh6mx5aQtyX3CUo/XfxB5CgVUxWHeZzp\n",
       "eycm6VRcYe8oKMSetNImEiXeEF3I4lyTB/WzzLFabKyA44EAAAgRQZoPSahBbJlMCG///qeEAAAL\n",
       "Z0s8kZcSfCl2dH5/fGDO6wAdNh8miP9cF/rlK0NOPVG++/dlzzaGaqVm5ykR8XoyCaGnmojT15jL\n",
       "YjMFBSi8QSXqip38KUJylID6F3enLw5oasHIcX4wB+rCRFOrVloqUG+uWW64Ub0xzlcS7EuAo7OE\n",
       "0XSVrbLTOyTNNr55d6EQrG1l5Km0/VRX5H2NktQ7R7Nx7W1rjPkObapgleKOCi6dRBnEnDY45FI4\n",
       "9rQkI4aqZuQcAQzS5Ubx2nXCh5MRBmSayNeyuTD4gATPYNX+bL3HS7wKZeYi2f8o6uGeKDk4I2ET\n",
       "JX7XkQ9qe8GsF9jkKvLs8VFu1tY3MVlVwAOZi7sdvkK+XhUG7dJeCsnt/TamY/thEH5sXH9Gw57U\n",
       "/THNu31ex24mNAwRToxYB/MAiSZZ9Y1AYdRXhhwA+4CN/5wp7XnY/AMHL2vNnO9C827ProPlzhBZ\n",
       "+BbkflKF7O30xZ6Sidd8KiBfm0HMMbWYL/1tC2C0mGbkWq+RAoKOrPHoWZzHrrQHjd2dV8qo4oWC\n",
       "o8/tYLRICmdgfgBdfcez+eMt1wmGc64iso6ITrA1vRwMoumW4w8n3L2TWHtLXAuqtOr5JoPfpm6Z\n",
       "RZ+dShUtm3tk71FZmZw0SjodGnF59K7rqKXGb/YFx1ZG7EvWUNpWSM2Fqgv+15xNakKRG3eTvPvh\n",
       "FSXjytcjVLeOy/n4u0sot4b8byp5dzDsh6RbUhIIixdK1WnxXTlnqIAkdNP3Tp0Rr0qNenfCbqOD\n",
       "wXAATfr0QOysopeOC70ZK4eqAdDZXjq2wQcetJIJ+zgHyWBt2kU1wkio64XPDhQX12bwYzb6TWwn\n",
       "lU3CZShlRti7h7S1bLE0y1yWEFcjqCEUX8Mm4Bnxon9MXMmYjBSrLJvmm3S/heDLf6xJHK1WsK1M\n",
       "+ze7A2uTUcpzSVZOvNetPcB5lvCWO3fwWwYWgognFtQ7gpXiM1cTcvOC+jrx/IryhelW2YrzR3ku\n",
       "wT7f/PzUm0S+VSUil8GegO+K+MI9DeUnFMkcADG2Y2RICKR/rnVCM+cwmlXYkmKswsqxsHRpmq8B\n",
       "fUXABBaIfGn2ZsRDMmfAq67sVc6N5x5H5Bg0T65Xx8Xia/x3Sj5NLYHJKABOvUpaZlwMRfIkRYgR\n",
       "E5q0Nq+bWO53YI86pg1CXG9X1lAhBYD1cShE9Gh9JUpujnPJV6gW8/9pHcqr4HczPLfrsOMlR0JS\n",
       "WWefiMv25rfLtrQxn+2/7HRPUB5edzXt5gvA9vXy9i2wcMXU4AOA2nMgvvafgQAW8Mrl25QH9itS\n",
       "SkFicoJ9LkGBwqFoI1eBrcGO3/7P+O5Z9ygsEv42I9iC7ewPOv4/0ZOPgx9HbL4I6gyCXlPTYGUa\n",
       "qZ5MKKqaRbO+F8lEaqk/EjcZF4C/3g4+0QJBV2wYfmcEw01QAAIqdPtaHVOHKm3A6az0KAUyTE9c\n",
       "n4q94q0z3TR+932flTstGnQKYaDGqEIi8IF2f6+ELPxMoMiuPaoMKYoGdLC3PcF3LwXgYhArZm5x\n",
       "/JnRM8f8bROnSLQMSIrZO6v+U0XyHxJxG95hwItZtgjtFx8y+Izhswb+qjKE4nGwqvJWRPubYzaH\n",
       "b6GH/kLfiw3W4EPvELXWmMxDHqDJyGH2K3a6HmIdfNGilYHwscx7MuZ/b85KN/3xj7qiu6pg8dMn\n",
       "FJ2AKg/7RPFf7bzeT3NxpqUaSakc9YtPnoCzePfXpPbS3pWvJ/xlx/M2vak1T1/3JKhWKQvZ5dzf\n",
       "RIowTKlNm/0U/ODr6rmSmf0/3adOdS0dOkEoC6xjRY4jg5RDOtlOKfxSyIDHhXuURwtNtkF63sOf\n",
       "JWkq9WOh9ZMAWiJeaVVbHtwUhKMMrWavqpupd+VpPJLmVOSoJrOa9oUYa7TQpjgD1zFXeWtQiuW/\n",
       "As/MgtO/eCdugooau+E0IH0QLCopzBtQroIz5w+u/p/CKA0jRP25AtXzf0ZHoh9N1x+HCGkyqlFZ\n",
       "6LEXIgTRPcKk/pCSopALd7EP1ANcU/n8ZE9VOIDSFTyB3LP3cilmTMSyCWrFHftIZZSXpqDLBWL0\n",
       "tPe2tbYDYM/lmnKx/lWq8I4FBAgLg559iVgJ8Prvwx8YlTCJYKmBNsMIxWQ814zrr3aQLfxdpojI\n",
       "2/IQ4QIl2gFNoQez4KbLQBcgO+mId9EL/fq1Y/dcjvlmfSkfeOkryYYBhO5GuXLl4SOfseED0Zjz\n",
       "m1mcQfLaRxxr6+hjl6rCS+pWR8JyNnKrW4tmE+hV9oIuV7VeH/vLeTeWAzIhWHIz9A941/TGfx7P\n",
       "CZn2lX+BBSyRBO6QWHiLb2lS+Hk6IgsK6Nwu5YqE8KdwOcI0FGhiQvQ+NPqdjZJST7R9PNr+P1J8\n",
       "RdGEIthLtvjH3psB9KyshaMicUhffQeFTf3N5QQ595v8MO6dr1TiLU9uXnTPaoTn74KHFri6LJNg\n",
       "62Oeq9cHvFPCld2AmWfF1iS05OHwzUTvJP7ciepUAY9+33Egx4obFYy5UuMnOwHndbc0+6dQvWbZ\n",
       "d1Gn4KExtxSczQmFe+qgF4K7nGVnohaR+mPQ2iLLElwQOWdCU/FTsVbuFCYVDvi/ojbflQbAAhxl\n",
       "yLp/M7mAyX/wLtqEHFyqSVell+KvE3fXr0qboMUOM454DXHkPTlSYC3fF/ZMuPkDvUBBhIs0VlQi\n",
       "p6dFGeQgeDxmfeGqb8GRBSr9/i389QKgDl3SH+CWl0kHQn2FMu3tdpSgg+SmxzxSQmO0wQAACuFB\n",
       "mjFJ4QpSZTBRUsN//qeEAAALZzLtL7HL6YEolPpjnAAP5jwSdlR4IgZ3xK1dd7ND7pvZ6vLXYaWo\n",
       "1Cw77lbu6E7oYXeyTRRIBTbVyUDNdjvnthSqcGXDATQWob9Jcnh4RMVSzawoZo86PAPNQDvks35r\n",
       "mEiohPYiyx11mOhZnyVlwWVui06FO+OQqpuk/tkaVcYTjd9s6zImizg23D7rFxIf397PvW/ft1LQ\n",
       "WLj4pwFf4JDmdwkPLgpLE3ep81fcotF43syRd8dob+RwjhWAnMYpz3cHW5Ef1YDAxr1ivQNmesMs\n",
       "CC32/YI6yiwyFEyvbzEJgevxaAykgT3ZWCsRERuXTsBPP/uS0Y66E1Q4mxi9oIv/WbNqFCbfGkyo\n",
       "2Jkm6XOAiSUc6+ku3R61tOYzOK2lzRDYuX8D3BUVj7TcARxNgYtlfErIB0ySOxaidhLObCMwoafR\n",
       "aJRhynAiwVHboDq65JFiDxnXXQ2nbB5RJ72f8p+tNyC5f56dxHN3YhKHS73OVawq1XtVLWGheBct\n",
       "+9Vn4/nU3h35PYcDli3cvylznTaG5E5iT7MBegobJ7L5ud4h+SBd00Qr3zJcycejp0C/csUGWuok\n",
       "uwJuFIHssX7+0Tk34aDOp89/cwuFLWiB/TPtJ8pyDGdLPdB8EXQbuL4elY5LQJ4NrocpCuW+/RBi\n",
       "mEOte/svNBXhIj+gPG0kHvTmdrBB1/KSyz0raqzNDxs0W4QQX3HCCavdSws8pxVDiaBjZcaEO0Qr\n",
       "sodf3phdtwFe+F8sFVtQ/1qSwGV8mx/RsiMngPzsjuZfg+fOUAYfnHeT8Rl1ciqv3wVpWIRE7kLZ\n",
       "+a/MWMbmVggAAH/Q77gXg3ycBEQKnrCibZd1j4E8MqfCk6kScDuqEIYLbo/dpVEvze+iSZ/jNvLo\n",
       "TMmRHHVKdqLw+xqv39nVdimf5eW+7OvuiEMcBIv/WMo2iDjxmKqW0OY+/ZjgUWCfDqFu+ce2qrYg\n",
       "KTCLfluBuB/YrRz1lenHNZMPpeQtvwYkrJnW6DaWw/MdyyffRJ3atvIeK44ue/Ovnh5D0ic9L4qW\n",
       "ERpP+yeLRLXDHhouAj9Cs45XLFsImlBkx3ce8zHNtclU5L4qUNGkWA8RqiCU9mZWYVJXaY530zF3\n",
       "EGT2R6TkzqG6+A8UVRLCguVrNHaELhXVFcxMQAOY3fLfr+XtkruyL7JUsh56kj5WmN4FEzbnPLdQ\n",
       "UbInYWfvva2evFn5F/seIvzpQkSIo0oQx9iz+tuxteCBF/yNAPp5tKF13OlDv2lORx1Qca21GDfh\n",
       "4xw/umj7Vjl5FBl2BjqXWhRCLdUIq7wWWUoXkriTB++vdphQt0Ep2lVxaIOUDJjBFfEAAomANk4G\n",
       "RPctqVbTnmzapWD+jX4Vn0J8nOf63Ay/RRdLwqXdjNIIohFqDLCeMXzLcGTr7dg2Pqe7CZ/+vMja\n",
       "PWsSpKNzkQoGuPmACCjoSa2dHOIQD3aO+N40e18WA0ei2JTOOEW7BuZfR4Kr8vfxVPngTBWLKjOq\n",
       "Mdc6MpsRJj3mh0VyFoZ7xqSIZJzU7WaVP2YkYiJMEnTZF3tjw/h3zYJw2HE/3PGl6M1MuhvJtGg9\n",
       "kflzBiiSuTSwa9row8kFb4hyFZ9CSfs/w8rLJItXmL5Y7/o2ZRGMBmn7BT3kt/HfmaqswK3eXbVI\n",
       "Ks+MRoA1IMAVOKN+N11Yo030V7rl8UbN393Pei0SWrBPkpZl3ck1hJGKfyRUns+Kv2PkBuVkxMW9\n",
       "WQGroUeSL9AkcaBXNyf/z72AQolxaqlAuShMaHaHJf9Fm/4CzqxtyJXXa3QGGNES+G8Kn6StgHra\n",
       "CDWFCE+gC+ddOEUPYBoOsbfEeCE2zJ8lmX88F91XMc8904CrmyPwiTHWjYVL5GiX/2A0ex46838j\n",
       "mfMozIDM8nqYqa5Isjxu4+Nxd9EQYMsUGBa6UIpXQROGUia2FMpNRjFimVddJxuR5f0HH2hGrJET\n",
       "YPQpOxyHTi/Kk6L+Slmy14WzQcHk5FNqRZwPLT0IUUw+Zq6f7lJhy/k4B60nJ1/348NwcyNIAqXX\n",
       "Z57PZckm5JX7Oi6tvjNHoZM5wuuk6lHhASfQ2lYTW0RSRQc2iLKdP1fvuNmi8zS8xI+gRZdRsCqO\n",
       "Pz9Y0p+VssKp1/ZS3rXycWQBKSHonlOZ/AQWWh9F1vRJZ6Rfqjq0+H5CbpJ2IqC6dhm3QSEwzsMq\n",
       "cgSgYCbkmDdKmr5ICl7J4Y6oGg2uDVvI60cOjxjjgkX1wWBn9tUzRQI56mOmKjPz+bGiIaFoQysy\n",
       "Y8PSqc4tzGsJ1gP68AOzJACrn5CC8wqFFyfQQ7sFyEHSsIPQo/ego5m+X0f6ZIVp5MBnsvFWJh4P\n",
       "GyTyh6MKTIRsMV1tSll/c3Cebn/NHdAaAt/G1tltNhL3VvfnQREhdJUTB4lI+FdT18+cDVpb5+rZ\n",
       "+9bcRVt2dL/Jqlis+0yxl+DW97QAro+MAadGjmdJzOUPlRnnY9jybqprCjK7+IIyfsHyygRGWM9I\n",
       "r8h5RYwAC0dK3JpJ2KRD20JgKI02s9C/BjdEbjyTOF95m9uqJ7FCI5NdjvJUO+gB3ATtnKgaLnBe\n",
       "v+HiTn8iTyXF6QSTR1yb/L4BSgXCHFFLfWfuMqv/JE1xLdo0oWbod9j+V+MZC9DF9sL3k7GmimlV\n",
       "Yoe+QzumAZxzI+sCyn745wIFQ7M25oUFE0MiulW1JEv+/ViR/1r7q1ewelqrPhI9kFKT6IU4msL0\n",
       "o1ilKLfcfP+2tTGbMtbPwv8Q15jAPOvD4goz3B677+6/LAMvivwx/2NLzjbf2HOfSAVdAv8/8R28\n",
       "CnAh/vaP17XXxMM5/Rid+ZpcphmhuR+QKI97hLiG+rPzn1HC2ddEbQwJqMcNOLtptdjR7hbmPIg4\n",
       "6zssyWmgXzJuIFANariwvpSPc9/sYZ+6irpxEkZBqPo03sfqioJjzchv1QwKrgt8JmVDa7GijJFC\n",
       "ykew/izil4MNzCHsPCjmIBLPqzLJQS4zXUfJeAJc8WOWjLYAzMd0pCz+MJD5h2dce+atnQ8e13qy\n",
       "hHsj1R29vrY+KqlhV7XDnFeVrSs/Rx88V2RvdJ+bANZWgUtZY0KtXbqWuJazhgELtdv3+XbV28RH\n",
       "640K4bTgXklakJaioB5FmN4imCAE47tcCV69nBWyd11f4vXfOhYexhA+6t4dq+wO8NeJ5xieCvyU\n",
       "KOkc8eXIQCKnrkp4ITyBRqRVkdjAeLqYXybl820/lXen+5L5ikg3e+zO7ScA08d6hpmffIUcnh30\n",
       "Kv4XlRkZ+3B+pDJ+HrjXQPvKCncgQDRSLVJLzaTYbd7vORBHm58v0gKVmaMcsjDndlci0t/g12Q6\n",
       "Bdo4/p5FsMAxOe1PAAkht7dsZWFr6gS8vMbXmbOn0BWHu8EDoZYQeRKzoSP/R47tNt7frdexU8Op\n",
       "YXAcLPzYTGs2SbVS1JoAvi4pFJ00AMpl25pkqPlUhGRajf3dcr0LNxCfJT48yWjEKjzBSzYoaT4I\n",
       "75o4SgaYA6sf2jwCEZ7+qJsQrKyh03ieZgjKZtIQFZqftqRm3K5iwP3cwQ81KbRI2lJs8Y5t/xwi\n",
       "nxTN7cyBlnPm++0rZHXsrDWb6LDx9AL5n/TAKGXyHWt0afVxtSekcSXzW2ymp5goUghWryi3FaXE\n",
       "Scmuz8+7qTpSZ2uvD8UOpL57e3UwsRr6zJX39p5qD/ohpQqETXEQLK+oAQ9/cDSAAAAFIQGeUGpC\n",
       "vwAACSyEsYnfgBGNm0K27vrRFl/SPdECbsbf6J4eHGsrCZprgiA6CC/F6Vg0nSq9AX43cpEXmmBz\n",
       "n9zinSrFRC2Kd1rJfjjySC18WcPqb/fGgVir8Cc79KLGGQZazGlOmiYTZg4kSefc2cucx71lu+ix\n",
       "U/KKMX23uId5ZHnSWtTt4MCD3Q8bKSH+FIQFo4Y8kdKbm9JcPbicZTk99AZjyZ5B5G4dSAPGNEh2\n",
       "i6sV9nyTBc6iGlbgESs0RxBgLrqQnk84PIhnX+qEYn90wxGRV9s14JQ63ukySjHtjSHzkHezBDNl\n",
       "3VrNWWSKebwE3p74DdfH0+KEb8KXSMEyiwJuA4CDXA3iHgTqbCIjYpFCUSghPEkbONavXCyxO+/U\n",
       "cvqJ27kEa/y8aBupMfS3JgwW8HQOqwI4eB5/966sPrsdJ6MkvAkJ4opl37BcIG8qYx3wsZaZ8VvQ\n",
       "Bh8sEoJ8xTM3XuIwaWlCQ+R4mSPjNoS7L0zkQRQXnNyCeiBP/shn2jl5pF68Key2Lnc1fgAFXYXu\n",
       "zvCL6rSpLLZlmTF0w3+lC2AuOWi7kgIoJifwUbheTlWxYn89tcqcbnuSx9hZqNAtz2T40py7d11M\n",
       "pcVyAk/6JWnpE5LsdIAppF1la4ApGYSRXUa2PhNn85pwOsMTvSY+UhlSbNOCjBqz3HpL5vfwRNUX\n",
       "7kZWp1XMVP7zFJgY3EshpvwjpGgV7pK+iwdfAAChB9N0EYBy2/VTbWfo1jUl16gMknxjiWNc2ctY\n",
       "/lw/TPM4HBJWovLNxz0+wQCClnLF+AAddAU9uL2ymeTAHfrcK0cDPgJ81Q67Bu1x+q4NndzdVOaG\n",
       "dQs1F81o+n/FoPunZ7iOLtAtnCktlI2KzbmUgIkERr6pAhjLS3ziNyiU6iNDM2y2ysYN3hICdA2d\n",
       "8GucTDZ/zyCG2+UF06CvvkyZhPoeaq1A9wV5Cq3HEG/Rp3AlpVafxRWCehsg+AnEcGghUPrF6Kku\n",
       "2lH9FkRtKe8ppg0aE30MWqkSWwdMvPBBO13dENMGN0+P5tNVeQaZf1aLLCnWeEZ5eRzzyqHJtWTx\n",
       "e6sjuwAv0e7b+I5di+LzOdT5bnLjeMRTVKJTRrCM4MbN4HgrTbpZ8SfL6tIDsiWfsLF2MScLuFRB\n",
       "vcBo6b0c1jLy6JtQeVZ+axdK8nTKk0E8zbATMpjSIHWN1gAnu4Sw04iGEyxEvmTkxhLtehDlzcry\n",
       "mfX6at4u1j3gKxkgEV3k1i8M0EjoxzrQi5fhQ5v7WtpO0bv4dXm4E9MhipjZ9BNMbwerZWKuZJjt\n",
       "DawTUdX4xT7UgMV5ULV5IBR90eAe7NehZj0GGGLF8jqPdTjvB6ib7Aru77qv9oZkY9sDc/Apj5e7\n",
       "gTYOIu5+Td8Qp5k9qNUva1zAzWC+d0S2VBaQ+EdSuqyiLS2+f0CereeIhIhuAqBcosU/47hcdaEc\n",
       "R1BCdrF9Hwqk23THFrwOLw0uXxvOMHpSDIWrGRg/68C2Xi9Xsv8a6CGbUxWtrciFdL0gUKNETbtc\n",
       "mOLh4Vq/n/qs/IreVx5ltPbIcD21+Yt0BbgbZOlAvEYoUN/SMyMfuB5pv0wVb9Dk3ZcB6UfxW0k1\n",
       "dVrY4sj1oydnoTT2J+L/mPr0ZArC4L6PKd+25Mq++6LoMbaNFFLMcqaUzP79jR944wDCfwmz92Dj\n",
       "7OtZfPwrbjl4ADJvVkYr1UJRCpOhGz5mS97F/YfGA1tk9k6hwI/X3dBp+/twlRhgbjAmN4EfAAAI\n",
       "+0GaUknhDomUwId//qmWAAAFm55u6JzvBjgJWeABO2vc+1Gy7Cyv7F333gChdN1m6eqgt3OobhZs\n",
       "kQCDhGJqAFpe36E0tdfqpX8xu6DDW6jIwGFuTQlQ3p1IRIbNfRd/7Z911tTcslvYfEU5hTFf3FDi\n",
       "BMx6WO1TYLWVMAXac/XB3x0TUSLg/Fb9/nR/R4Kd5eVR3bBm1MIfIvD0+wK24KdAVphjunUy0AQg\n",
       "oAtu0E8TX61L+bz769j2ik+WP1Cv2EL16yJ63up7Sj6axA2bvS6DjLRdNCFE66rNRNc5swbgsy8O\n",
       "/cooFi2jD9ehfGlECl6axzQkLqw9mWLjG5OmsO3MaaRqrnU7mv9pVC6FZMIVNRBkiYxRZpBcxtuY\n",
       "VlofZjUwWULHasYZnCw3/3tarR7vuMP6tTDpLB1+kWqz/BrTiqJqLjNxWGziWQQGn1Qx7gosrI4s\n",
       "vZXPomgArBbn0gHJkqd0NUoni24DCj/BpwyRiBz3gP2hLC/hkyrN05TsBbYCcxMQwK6tRnvZ3hij\n",
       "QCMoeONqDwnflyeZ059rFrhuAoeAwsGCJz8Ei6ky3ZmtDlDHXCE+JFlr+j6puqHSyK51kTLktF1p\n",
       "ljXAeANyYLyhFC193uQq9GYqsxKjsY1x2z1zv0E9nKOdjhPPMf0sSXS8h1ci3iGFFhzR4eZhJkI9\n",
       "Gq4zrnHV0TozCsLMdFNViA4FYWu37f9Vyud8wc0yFiZK8yOcH8i2wr9ttOjmoNJr5x6bO1aSeyo/\n",
       "d8zYQ8wnPTmTGtlBZ61MXqlceuOIaHJ3GFfEggxF/XPypPhLV2Sc0VeEYckGyIO9vPtmyZ/BH3ZL\n",
       "bAA0kjjp+48jjQY7F4yLwIAPyuhLwm1PjYgTD06ciV9+LFsk/toMwiPMdyavQNdGpVIfue7LmYIe\n",
       "ENJgBhVFqtsMlH47ovJfeSUkPGffLIVi6eK0BT/ncyHPceB68hByhOanfFw3dGuOStmfIqrU+kiH\n",
       "ezqLt5w3O4CgdCipxqrdl1JwCkgXWlo8c/0XRDty0tMjmmsyxFsc1F5nFgsZCDzF8lr829bEGxW1\n",
       "uysgBO8xH7vD1AiuuP2Gx9TNskheQSWhjH3ww+TVQgE9PXFb13YhMDLRET9xR6KzUXmzb4nShTd7\n",
       "3zIotwHI/QvcQ9JP8NQdRYVOT7DxyMigzuuOCHaqqo6j64VA1feJnMbEKhDMnGSbd/wi9iwToKwI\n",
       "U5X2A4R6VHZnZ7k0UwlDB2+bGMZjgoRhJZDw64p/Ah+V3Yz8UfYMS+HKY7GPuBVw0Oi9H8wj7ubx\n",
       "nLUxG2AneuWJIUnwTeJ8RSNuhSY+KeGU3A1Rk8SHhTB0p1CMw8AMTLOBzRH+9A02EKQF1fJOXAUi\n",
       "HgqwmXA/CZe0tbg9U/FJxe6fagDk2j4Vy5EB6q2nehyjwYoxMD5Q/pNl7bkl0VkO+or4GPppYQGL\n",
       "Iv9IEgIfmuOX+Fp0Vzk9ALo2dY/WpNXY57bfO1Rso8cWIZ5iUD3hXyIGHce5HtszPpqEVEIMnomo\n",
       "7vdCrZhQzGYRfNYxX5zb+jqwsTQsOyGGASeAZtyVhqYomnotAUKsZ16sLrsZoBVsE62goYRk0ba9\n",
       "Bq2B/aCx6Bp8V2+reCqsbgNolOdoC1Rb69SszrnnrAJafmvWySRs56fUWtlrM7JMBHnc00psTeDi\n",
       "m5fvDGJhMN0vtdehTQAMg1zmadglqV6G0RLd1Htb9g4CBSNqgHjECd8BpeC2jVg5mz8Ctl2it86r\n",
       "i+uNo9eDW9VGNuIRbiz/G25JB9ZedaB/0T7rqDHacD2DAAtiiBGkIDA4ifsQx6orC0Z22TeyLUJ2\n",
       "3YvqnR648rQe446Aq2Obib9pF5LBIJs6yAvl0JKOtNsA9Pxv3Zv/bLBw2yXDljH4+Q6QrvNGKERK\n",
       "KGQ/4SfSRgBoSaVQoIaIOGvqZc39SkNbD2R1EYlR+R0ytRaNaJ6yqvbZ6jchK6mZawYz4fCUcYlo\n",
       "CytnXiKr/rdMuZWMtV41Tg7OiZQGgvITR7kIwe9DVRz4ff4zVnm3T/i6Ar0eYYll2Cj38L4PBc9c\n",
       "cDiHIRP1cbVYdgdGir5UXh1gamGaB8RQjPQe05vaZpVOK5M7/Rde0sSggB5UdW+uS09dhgs6byc/\n",
       "HDWqIjzw6YvYIoIXqRJYOtXsxJF6lQUFn8u3Hu6UVJ0a4Fx5ZLDXfQWv6Jtq9UdLkFcbUtL1ycCv\n",
       "9fiuwr3WlHzk5ymIi7XET0D+geJK7tTOsA7d0bXBf2JY2+GJGwj79M8gSeze/ycBxcoA5n0Zc/L5\n",
       "VmOet2rGfa6vck3QMueiy7BHNO2zM+o9FuICbAWFDL+Vej8fB0moikaHDAwQtJTv4VKBL/6xyn0c\n",
       "w068NQOf9gvt5YprGHeWWl6wFkx/F+5tNV9YUsgFQZylarwFPf1LSTuAane/a3o8IF/dydamBUrg\n",
       "Q2XNmYolK2BqU8n/RUJepBtMYoYfU5cchEOOZ4/wyOQ9rIpepj8ln0vJl77RIgm68inH2jXAO22a\n",
       "CHv5VGM+bKCawH5rPmkeOAAylhyCc8W1eY/3WySfhf3QaWucqP2Kh71FYenuaEyOPQMWjibUrxoF\n",
       "NshRgD2sVQg1k9Sr/FOXQQseS9QIEQI8cafz2tY8kKlbOaqUzLHwwCT8b8NGuk+9f18VXVwELTSA\n",
       "mNfM0M6pKLu0sCFPAPLObITmv7gEIu5k98KXWmvQFPuxdd1txq9pOfwC01xxDx+v6vOo+ZAl7mEM\n",
       "w+WvwdcKwMaL7iYh5SLLi8dMDaoxOCSEDrRBddRaM72Nx+nqwh9UMorrVnm8i6mYk5C/oImZDULI\n",
       "gtCYdOoBYUFMGGwabSfaBXcbfif0p84vWI8ICZOH0DVJNNvNN3QnHlAT/AUZdOQRWJl81NayBSVC\n",
       "TXNK+2Y7na8r2yR1BBjkpI3E37FSGLDhsLsYF1HctlEE3DjOw32xZi2PdEb1VWcQKBnC/Jsmjvf0\n",
       "VbC327gcxs32LAd/Tq1/im9tNdCALULf7XyChVxtaj/CxzM0blxBpDRZeemY0ti/DGowPciyq3oJ\n",
       "DKE1of0UV7BqNFS6EhsHZeyUAb0AAAmnQZpzSeEPJlMCHf/+qZYAAAMBXf7pMo7MtGy0XV19FAYw\n",
       "lqErg1PRkGFw7aaTpHZvi9A4DB/oiTZW4bZgdYWMt7jXvUz+Vu2i37OmaJ6wAIYPuCqD++HdN1jc\n",
       "AhkGdlZCzbcGVIpVZe8HBQ7VPyymFDV8obSnLeetFsqMLrCu3HEK1bbO/fNQD21hq1Bml3CckUgG\n",
       "wFJAfeXvPN7OUCoAQEzCS301ptfs9TBBTKRUC2bKPf8ciE8AY3xeRIINo9dWBUdeHE+VShs30TC6\n",
       "7HKDWRj5w/v7Br/+MB4Y46HkcOVdqvUeo8nNODBf9VvIC/9nbkp3yDT//UXjqtTAJBY59hd422I9\n",
       "BoL9oHD0XRkxVDd6gbV5ZolOyicqBPNAlgqgJ3uEImQn9QPWCD1YTzDxP8GG6ZqMg4/fO+1viql8\n",
       "0bl1QLnHLhaHmS6Kfs8HMms+/Ri5mCp0Yg40ra9qeuupAzoCXg5nloTgwlDp5Y5EfAu46ui2qnRM\n",
       "HgCkkTK44AUHGFKrhN5q1c8tbkyNxEAtvnTwDdjCVnLLS7/PHjZmvAv2QdYBqkeW5b5anLi7GjAg\n",
       "DR20uCe5A42T9lqKwyFXYJ3/+mgpDfSOQu9r2t+3+WLkxnj8yFGN4VampJAE6GamYjfUNlSJu0wN\n",
       "QhN41KGSEs0/fh2QKM39Sz6fC+GMFr0jlcgfASFwhYUjiM6xuAhYyEdyCFKpPNBXXDdHMcJSC9jO\n",
       "TYfXWL9Oe+nMQ311QAGckL+grvVAVaQcacBufjqL1wgCV8DygbHHGEAsy0FJRdRjX5+upC777uqi\n",
       "eF8U7T9miV6p4oWR3kYJdCuY6xvUeRSFGNMaN3VjYU9SWVLZGjimp47Ogx8VmUJXJ5eVEKPfn02F\n",
       "rRP40Bg1SFC4gFN6cWi14byDlsuwecJmkQPiSLQ3upevSFR+oSmSma9+5pU9YPDxgf2/JeunoMqL\n",
       "SOH7OG/NHYtYUzBn0foPrYup3WOAz38gmKEb/mgmMBW7APE45rlM2FqXBtWB++YcIxa0g/4mw5OA\n",
       "kVEkqqdCQUI9R61jwTLDX6438KAj9PjFDjkpGyZXPD7Q3gqUWCeZ/ZIOIdPnv7vDBPelcUBumx8B\n",
       "/wX9tS6+NqMWYVBMKudmE1CfN6wS9xavBj4cdaCXjOEsnu3apMKPEfcmD5wbe7XzXD1RFT9L0b94\n",
       "DY6Xg6QNxHqtQBMU3PwX65WOEm0R6vEEEPwuPn1SqF8f4NtC7BMxvPspIpb/cobj8lUE1wSF0+qO\n",
       "olOI3Xzm14TR6ETIrstdHhnBSHd+2CnGQsRy448MbD74q3e54N1qm6R+Q8hcc8E/ZIPJrS/Z/H8U\n",
       "CLLOttSVYVaXyv4cc2ea+gH5EQt9iOks2JpimXBVNl68dBBQ70YSsP+fbZ7f53JosfW8+P7SL1Bn\n",
       "9XphQq3p631dutCWaNW/62yFXri2SgoHbGikNXK9bPz1pkoPjNvQQKj3SyMCwoqOIBCFjWvWFBlu\n",
       "VxIltLjzJCIGFGROXeGrD4GfLyNAJhPMCz2M/jCPgZ2ll7oo3FeMliAWTA+Ch+kvhpbqz0qkNpuC\n",
       "A5vFWjR9/BdE4HG8L3eKAKISbSPh5ScaQScOM6Hvc9QwmSI1Ng2UcPC1dU3E/NtzrzQjlgvV0X5o\n",
       "d7qpdEPKfifWY029H8/yl+QCG1hvuFsGWI1pQn0ckAM/jn+KVRoVirEl3MZdHLdT8G0VSMcsWCf/\n",
       "t9Ur/332JwRtfqYff8ECMvGsuR9Fm1Lsr1I22fbG7Gn+jNvm5SLdVWKtnbwTIQlfQgBMMTSb+D9+\n",
       "B9HinIuBLf0gBn3zxyklyF4fjdLUFhq2HjSLkllFdlrRt4G5EXuniln8lwDRlUWARlHmPdg6xIKs\n",
       "G/DfaVP/6S8xfb0nM8DfPAL4kdOcJX7Rf2Oj8wi5xbaQmPdGPTqKjYHf2bTlZEKos0G9h4xy4lfc\n",
       "mYUPGdbn0Eg/03dO0JZsVbgkYgAiXDCIbipBi6+PJzYG759jhfLpgWAv+OoMv3NC5LQ6wgpYqx0/\n",
       "XUFtzdNGnCZvjA3xi9g9Z06ZS99wOBIJ2nHI+Ce1Ep8c9pNQxDXlCSX/RnIjnfoU/uFKXdB2TWid\n",
       "w0R6ElYdCc8k65+t4VGVTbMX2W981xPH7b3WOC/OKiUd8+kXqxgsmvSTXC0U/Thdfu1rOECePs12\n",
       "mjZgCV06ANooya5KtvbYn46n7doXpDTErX3+W/mFIf3/d4sDy9SVJxbmPz17K9N+ELRPoSM+J019\n",
       "Kak/knvA0hU8qNqahqwSZLN/Z45b/Bw4A/XOSyFslddvtwNfKyeF/spKItEMqzjHP2Z6P6UVBV0o\n",
       "NkJqEmU8BeCUAq2D7XSS4UQP6w67AHGG5v7ABmVbzjA4arxY5nlvGmGWkI4cwXmIcLYPsO4DsgoL\n",
       "uW5DwhZIU8AxZBWz/0buDkcRVowbh0fCXfY+CbYuf9xcnPKieAA3II3kbzvBQL+wDnqCB8k/G20L\n",
       "BbtY1K5KfbzXqtTg6Vo9apMLbDQTK5pAYtlgH/OUclokQkyigCLzVLuDo7AULvyNb3+8FENszD5I\n",
       "FRpGx8J25ks2ARdWfDRD5UFpXp9ZLAyw0BfGObpXZB7+CpH2CrB1uw8xCZLLZWedU6TATiOXT1PO\n",
       "+kRZHyyyJKqUWRuFReT+Yc3VXLQuMRVJh1BBwT0+ZWHXZHXC/EsJFd41UyYzTkGxZhL3qnNuG5b2\n",
       "11wzCYuGY3EpNpcs+zLxW+fAlbcWCvw1f6CyNRdGOwG3/FgHQMn+gIMiOdB6YirkKS2Pz7tCturs\n",
       "O6v5wXT0h83BMRyGRKwMakcRUQ0yWYlpx6oZxy0R+4cQEjGE5Fqc8Ortj4kiq4cWCUb2fdbbSD53\n",
       "JKx/DWlolHmry9OozIm70ub4bF6/3dDXvWOKnaGdtUedHkgq3x22rmVyfU4yEPevF3FA3uQDiUea\n",
       "h4DATJnDkLz+CPbYtz98ILJlt7/w0ifHdEM+dZT8HchuchdsKdVc3utd8sn9pup1Ba/t+NPGjE+5\n",
       "WiHOYOCPVh6giUGng7Bfg+MmbTgY4TjXVJyXDTnAV3/DGtmWAtDn+WSIjLT1gUFbjIvrP/1Rraq5\n",
       "YlrDCfBGSXPdG1pgfyDIGjXBSQTsfhTisykiW30KpvzdOROeTARKbaM3Qpb6jMWcbk690dK977gu\n",
       "T80SydeiyYmbvCH2VcBDhDlscn/h191DXG6cIoz98v3yeqpd9EMEoLtySWpCszsOH77ycBjlar74\n",
       "TM1GE7OdBBqx8oLO5sp+DxslPjB7mZ8pBtU/7KoAhQI+PyJJaTJNnCF3c8AAAAkyQZqXSeEPJlMC\n",
       "Hf/+qZYAAAMBXeeeQ+IkZCpO1Znunuh+QZIo8CAEsoNW7hbMmk11+GsHV4pTrwhLuf0YjO+doDlb\n",
       "Ui/H4R5WtRa0yDIIw14OY0twp5LyXfkiYD7+McwFnKRBmRSBDKjaAEHsItEqdFEUSdtmLqj6rwmV\n",
       "175JpU3Gzm+iRbHFlXIVB9wg182OZOogaDeC8Iv+ExpK7W/NJQZ5Zbb+cKoYHMseFjaV1rEqJu/C\n",
       "33nvPwfm1fGFOPAbhDGn5Hp8qvAftv1x+pq5U1O2Ybeuucmf0L6jl5hgjUtP21mKztsfIpmjX2/w\n",
       "hAYM7qWNNWalY6AoSwpC3YTQunqLYb+5LtGmBjAj5QhB000fGCJpdTLKz4tvsMdp3pyGcD4HP/yn\n",
       "DseEaKObYRrrJWyN3xm1WADdWx/EuuuF4ky4CGq6rIoK6Q/IGkRAKHNnOFltk6b7mjoop8HzaSbZ\n",
       "o3zxuMwRU14iZunTJZ6krJKuQYGjxMmFPtrc9r8jGw/XFC9qd0UAaArYe5HsvaHeSgm8kPbX1vN6\n",
       "cptkGoqTQdy5GOGESEwRro2YMl4nGR4RWr6aK2uguPjsOx7tMCiC5fuPxaPQGTyPxm3GHqA9GBfv\n",
       "ALd1If3oTguj0sueOl15K7hnwTMjwwJlPd0SAwVON0Aa0f1pIwuMkLfMKRYWgrmzOGJKWDmmZtcc\n",
       "+vGQjtRsD0TjwnfAO4m1lsKmooMZfNr/JLLmIFJiWRL494uzkanqoSbauLYY7GmoubywlIGx5Yhx\n",
       "Ux++5BkUgFhKwoP6idwQLLfRLv98YOVTazZLFedAp5PLOjPQdxvpSjheaGhEjFCiRuOIABKGn92j\n",
       "JY66tKm5CSy9RXRffiixHo1X8Dwo0EZFPWLO0rmweMDqXCSx2qN0Q7v787wMRSII8fbm1i2FNIEV\n",
       "oJTvrAQzbLSvNHyGphxGGwav9KoH0TcENXjPzR/QbJsHVF7r8YiixLg0GO5RGDKAOQolEzOj5vi8\n",
       "hj19cILOkjQyTnnmkzrfw9slMh6OkoPRG/poM+4vD/4+Lfy/sWTz5bbi0SfA9IphqHf0KA1OxdN0\n",
       "RYhD+0qZ4AAPa1ok7kdpBFPlYoMwWcLfuOraYB7V1BAe8w5OJ+1H+OLCuO5wvsGfUPD2Sm8ByueC\n",
       "vhE1j+DiUNzVi9+AMOU3AS/RDHt2UinEWPXcsgKgAREvU7/yjGBb2/wou9qYb+i39aMGfGUsxUSK\n",
       "fmEg6TTFcXvUYq8z+LZnGRdiBMWNwfWzRvAEw0wYHndx52OPWqTSHragLg4TPSVIdmIBGQ+4pXbP\n",
       "0KDq/+VtCD0IehhtavKnr8IlxW56SOoKlXGJzYLuAANjjsH3AhwW04hEyEw0Vj3GEP8i3JIcp6u4\n",
       "TN0QJSn3b2AI7Ief3coQtQb/U1n3rbwe0hJJAwGMxMLXrUIOF6UCTdmUTVyfCG/1ONLQn7pVuBDJ\n",
       "OD2QPxWUtuNngzE5w08mAJc5maXEC/Dz/WRynH36D+0/61wRB7HxXLBMxY8n9X91WqCSkMChjtl7\n",
       "AFfI+WvTU/MQ2goy/Ta/IdBlAWdRCvCCTfWq8/8MuMXFBEnxOyio6GMon3R/+YKfcOEYfPRw7wZL\n",
       "BUkN5CtRu2mjog2CwUnn+CToMqWhtkvk3DoBp0/btKipbOhv2sAzSaovb/ckCATcUENHHPwGlXuW\n",
       "DcTBHoOEGd7QVDwd1XfnkmdipwlcA5hAD0Bzi70VXYf+Ku/eDoghT28He5XDxkYUG0AIkX6J/lql\n",
       "lN9QIDLOimDrDvV4P9qGVq2QX/tW7O4SmvQP/urdl8OLJShxFfTiNTT5vulFs35e8/HD7lVCwjCl\n",
       "m+rSFDtzkYY5YUAfqgj3L33dUBwtddwwShHDeqrQK+7Yv5xsZ5FNLBrHvpYKyqVG4GBNqlAglPZ/\n",
       "bK3kEFdPD+GLhRQgSfl8NhOF2sWeEYmQeuVm/l2Zd814M8PyiV2JPRQ5R/KKJB29TiLbYz4KGaAL\n",
       "1PEJ57a0sfS7vAKR2Z8YSZCIgL0yq/cBubymDNldsqvxcws45R2Cpdty7VzjFLfeQxw8wDzHZGh/\n",
       "Oq5jcwDT9ZuPrvmOgpCesvYqMnfFOk6G74+y6mO2FkfvZEGSvJNMCnLkysiUPXqSk8826UFJGR3R\n",
       "D8Fvqgopy10tLgJQEbrL/FCQR1/qUCoxnGiRdX3BeUyNrqNQxIzUYcH4D8+WH10nttww2XLU8/oR\n",
       "H+cxAYUsfZNLPBxXt0qHJvZS4bxB95qwQclnTWgzewWwpGCDr7LZXFB1UDj6wY74/shWQ3u3X29x\n",
       "AE66eOV6kBZhQ4Z2eIHm0WREphQJnsI5zYf58twiS1Zm+tBcHMXOlJEsNMIErR9EYPMvz0xnR1Lk\n",
       "B4rtxF+d0uQcda6/uP+xhpYNwGCC2WeWbTAAVsIfWoKVv050CrUGpxvE2CUTWHpsdyKcK3wVf5y9\n",
       "z1NRWjO2AApT0zxXxAqjZ2x7gL9M3XTtNQSWXtyL9a2kdEoUJI8/jZxrfdD8lMe47VHFmuKGEb2/\n",
       "/bpDKbEbkKLBMmDcTx7Ba26g66irtVLlu9ebk4AeWYmm8ospOdCcvPJyDOobTXrzqZQocWcPBDhL\n",
       "ng4vfgWogHbg91L3PQjWIATWBzMk6P0a30rwr2+7nj95v58peKVOWwmrjDnYN5tCLWyU2lhppgls\n",
       "Fu7HhfphWiPKWQjCnmAql/F46KfP89J9ckNIXYyvPhD9bfe+rd4DzXadap7AF85rsOECBcwj70Lu\n",
       "UjWkMDWw+ftpwhpKr2JRtbpZVDjehDYwDbcCDokMxzKA/z/5nxZs1tb/fnuPa5YMMkiVM9LASnh2\n",
       "hBVjkFN639BmMlWztN8O0ml5dlyHW4j7T5GBnwMttcspnllwAA05EJtrB6nGjYyIsA/Fod4xhEbm\n",
       "qZ3/1sTr/uKllL8XFVhaDNv9MSfQkt6uoREN6jwK7ROWYl+jp5NyOkOPoAfFdOmXdxqvNgLalxcj\n",
       "zpXHVWRFl04rthcZIEoU2o7/b9zClgmE4+Licz4hbfH1hMujP9svd726K5zbMVhCInsz8jbTW3X7\n",
       "MXUQT8QEpM9Nvi95LPEfPC3hSuY33KARPgNKXJbhzIynoxmBhv+PGAnPNWfefZtwSxV0bBYSr9Iu\n",
       "dSf3XgAAFtAAAAWDQZ61RRE8M/8AAAMBXqVD8TCdxmADizNy20g/7D8TBZagvVbXjjjijpYjywWC\n",
       "wPu2IjDsjW/vn2YwgIP9GZsIQ978q0fYnrvgwIn5Vst4cFPKUrr26tN/jLUNY6FJ3eijti2FPqkt\n",
       "cwAg2/EHeOWF9mAH7AwM7g7XxLoKA5k99J+29nsUBiQylmV2Zrnr4yvCXkFuu8segBeA0rGx3PwF\n",
       "NXZPM5/IwdqSvc1szcjwStNnorzyVAUuT56mPl8waIy4WgtFft0EFGbCMGJ+NZgpDymO2WDPAh2Y\n",
       "BoBzcAn9zIzJiOaAJqIh05gLyEewoW9noEHAu/sIPClu5dCKDg8RLjfxfpQIF0yFcdlHxFKJvFLP\n",
       "5fGvfObfKRZMPjDRe5/HmtlPKPyf/G5euo0SvG45rXmjUHXcOqNg7Ih2+0yMGNPxL/Db4g1WrNIp\n",
       "ADb6JCKZCw6bbdUmhs2egLBBgdSx8sGNUmoPrMvXlJ3bfTf2tXLt7tClbBAs2qwH3xYL4/lEFson\n",
       "r9FIkOkdZOmhQqyxswguWhVlcSyEKgSDx8Kn/D34DyvCWwWap3f0yJiNVObZDh7ATtdPuceFnTSf\n",
       "JSGgr3024v+v3MVXrl4Ep1FZJd5h93g4vu2ahV0r/Os6YR3eQk+M1+1WIkOfq0bvYvPy6Ia7SBc4\n",
       "o9HLgZWfXGyrFPUC1BsI/7fwS+yxB1wmCGAGM45joWaZVunZEmU4pf4FOEsSFESGvjyu28g05/Ct\n",
       "DNNh9IMGxbyv8lFmuokQpsZDmRSzhDNUQKmuX6mrr9XdLAKtymXNzhaYoMxHsWSNJwlGAsIY0kVr\n",
       "GcTlqF2o/QAAAwL1oVcQTdhMYaSanwWoX0H1I1Ps88i4maklez4NRfkdWFjGSURWNOeOQZPiGl9x\n",
       "zzxpd+5Pvmw6y8eJSYl/CcbRqLA2ILrLQtJQN9T2LjXQzNrcy9cYUNVxzulDGNr6ZrQ0Wl7zloMa\n",
       "cP9FeJvtHuKLBRUWXXYAY3WlDGeYzbAj07rTHvfr8xUoUaLyZ1PXL/OEcf44q0uzG4AWiYFc5ytX\n",
       "6Cl3Q/5qRRPYrTlx1gMDYn/G/trf3KXxBZdQa0kZpixO/Z5Jgx9MmRbDolJhaFDzvA3j406XnxPF\n",
       "Eyfv1aKZJpt9xiUwmD8cp2Wo8+uNQ2nYnDiypyVHOrZPlfBCzgECPlE4iwUqZmR3/w6m+Nw384XU\n",
       "xZgEMtv3KUGqw3PFNMeHWSaX+vtlWDbOLYW0amSs06YVXn/o8h8dujA+ReQvHxqd60c49f2zTIeq\n",
       "VR50iF7z9Bnf6AJt7opCyB5INwRHiUJKHQt7rq9Dbms8X0NfuGU0Zyszp+PXDVQAjp+97cN3akK1\n",
       "6hATZZ991T6cEiJ9Ql0abW0reDlJeGu/lBiNt51ufEEV2/NrRxGp2HE1/nMIGo3oYOSkW+TDnshI\n",
       "3cSR6ZRewvXw0eOJbYQpGmQiHFiR1bE/G1WUrgqIZJ7ooW3kn/8HoAUk0mVpUIeeLdYVETYZEGL3\n",
       "xuGOfWi607APECBNRTCvcYRBGN/dN71c8g714p9cTG+U+sN2XqsJB4scs8YPylCLfJKnovLW3wwd\n",
       "KYk4cWg8FSI3eQA5a3FcLzpwhk2dQBXF/pqynaOJcRwBOo3KfULlC4H5PWTSgvZdbUQkxdQ+qyke\n",
       "mOHTWehnHvA+2JLewer6efrxGvEN0jpFh4AjBVEEwyDrntq4FwSqSmdWV8o0NGkN6xl0rDI1piG2\n",
       "59Szv9iygX4Mb57RKuQ6ZltKKTZuwml2zsYEFJKfvLCtN+i4GrTNxOGonUs8fpDZdNeRlJsrGz6I\n",
       "IYYB/tX7EU7M5mjbatIs1/2x+Er8jP60SEgsYb2ZU5idhcuqYpA/kfjs5tM/EnxGs1oXj6ASMQAA\n",
       "A2gBntR0Qr8AAAMCKxAy0NOKgAXJhSQP1j3wqZxJYJtVTpW0h4NYpve1EIzjiRlHVprW7XM1mVW5\n",
       "V6kBw27jW0s9KNt7QU8TxQ78APbCXmD1W8Kvt2+xlX/AHTFcbQHTLxjDcItOOgQk7WZxPZ4brRBb\n",
       "cMA3AQhLpZdvIoqmDvnHXgTTWDhs/+T3xWGo/pIcTGQgDN3ijBg5gxkZUp+0ErBSB0ZAFNfIkYcx\n",
       "CHqAHuxYbAxWxSCHnEhV4ofbex2nJ08LFiMA6f/BRuVpkQJ7tDduki8pLH3JclzWyzSMkr9EofuB\n",
       "29CZIcF/A8/qjJ1qmz2lnQV4tL0kQVQkGXB3MawsPlNPAiFSV5je1LydDhxKb04egnuQzGGWvKC6\n",
       "fQe8PVLIcdHYdBkMFkSb0zBhGHfAeMqNriXSlHb9KACrVyinPs5GptZsLcXrRELr8x6fmgAswmqT\n",
       "taDQwMy402b80C0lXUQzV/tlpzXMBh0tpsM72AFx0AyovkCXFQ2ic6Z8qI6luLahgF58E2Ydjntv\n",
       "hGF6z08PKB4LY+DolOQ99HG7SP6Qd6DjMzGvECwB+ExHEzFtuRzaQ6vjJcYFkudGHs3Aft3RFg5M\n",
       "PNMD96SwJs0oLC5SN4VuN0KdF5T9U2Q0tkOHalSRDMsyLKRsRy/vADw0xzQPxEyhzuuIswHd/Qym\n",
       "ajtlg0/FMgrCsac//1DnI6o1aVPsleIcFAlZmCayRUF3deuDguAmbTwjAVkuUMObRPFgacx0kfwn\n",
       "r6goziaOo8ihwOE/xpBWwz8f71QY3FwNC/mp4HKNIw7p/Ygi6m3H3PdVQ4zBEJ/VZ7QGRzeKO75g\n",
       "cB4RDr+PWJmH2Q62OgQGFgx8ZqovtLSA2mfrgTmRS92KpdLnzvC+bdtJPF9zSKX9mVpdX+QBWin6\n",
       "+l6DN2f32QDiKUFgBS6rKFg5iYf7XI3GdzEIOlyzfNaxwUuHL06bbWxnNpfyFxUle3M5aMYPYbPY\n",
       "hqEF1QAJx/Y7r97KBG43maEFQ8qv1zfThaCy+Wvv9T53Y9HmULjoG74UyS/ivfUbLotb717N4nQK\n",
       "DCcNnqGbfzwfn3TrfwKZkYH16VB8AJ3s6WWTcdKX9sk1dQG/sij7jfKxIPLUul/9mebgpQiG6NgT\n",
       "BpPVbTvTRIuU0Wg81vK4uggTsAAAAywBntZqQr8AAAMCJKo1oa4Q5PsvMwRhboexYQAjA0qFOD0c\n",
       "JgtEIdb4z4uQvACPTTuTNc7xa+3XnUOcS9EWebPS6Nk9+rwwdjPiFQ+/GIThLwz49BnrP/L1d1iV\n",
       "a4ePhr3SbWrgMe2TfgnijkgW6QttVI8MYjVmOiLZvdesqL5r8bPzc6H/NQy7Yx9i19KfW5ZX5+4O\n",
       "bb/s11zpKEYpqNi4VHUlHOmJBJGwZOMQZiCWO8HIkGFlU2EAEyTbywhzg8kNvex6SJc0+wRVnVQS\n",
       "/zw4h57DkkcLOymSCsJ46u9fnS2ewBzAjS8hgIHNanTLAZAugIRa2P+mpoVeD8molKHcLGpPd6B/\n",
       "/tQTYk1asJfhNJ1igYuscd44hI1U9dUJ7K1GTzpThgEZSEOAoK3CsrIDEuv5kkDLsuf1YdfvLGGc\n",
       "MMOc4ASH8Vh3y2mbyZ0BemLgZEGvkrCgjkggC0OcOI0RhxTgI2ajhvqFH2eXNDGTkBk6gYkyTFtE\n",
       "MtV+dFVw9cnzgTrEQKgScFnAfCrQGJV4HfaZiCltHs7ZtuxqDOXm9U1EF9ZBsFWlraKODCdn0tHZ\n",
       "/B1833hSW70KG89/oBlQWMAQpj2PWzmZ6kEDaBjTEgoyXcJ4Y76l5qYJGL36xRj57AxJyZOxTFRA\n",
       "fVbrqDJeogmJy4/ngUG4bcTAVK8XmRS8slmIntY7F6lJ1ux5Q9sv/fmcjKj22Gz5pCiJ9pOCUvKA\n",
       "etO5D+emE0PEEkmE1A/czdxTacpg6LXIPOCLCTmm1RKF1S11f4hQ3CKeH4mfQdYHl3ehioZUDccf\n",
       "FGRk82CE16iEr851RAaXalsMa7A1WuL5CQNYEotVZ8fie/UZBrCPK8mGg62ODQuQ+XfJAFW70GXm\n",
       "SRpwEqhfhSdQfXCZ4ZNpr4dgxSEuEdAqjjLOnIOk1PfhmJf9njGaZMCIXfIHqFac+qNclRq0of4u\n",
       "9PRRD0ZcQxhPIqGdvNneVG5B1n9yK8wihk2gfbIgOiijg55GUBB69Csc/P5Nf77+Fc+x17Rlc86f\n",
       "Ob3FBXaQuzrlYM1R+maNq57Tz5oh9Xtll7lq74HlnQUZeeCygQAAB9ZBmtlJqEFomUwU8O/+qZYA\n",
       "AAMAUD40CogAlqsIrw61b/1hN8ZByHw0FO4kU+wgogQULaAowBafBVjfoUuwMAu28ZlpouqdJyrD\n",
       "fzpnFLC/o2E6M1U7hofwMwLxv/ciZj5f2slzzo+IGUTOy7Hr072aTwzbGbSktRzl7WfZi5kNMdEl\n",
       "5bdARcE/HXHODH613BEqZXV7oZRa7xCbjFn5Ic3b4twohyR5GALlsF3AL3M6kiDg8CK3PHnDrPqq\n",
       "E7BKB1BqqwzwzX9I6Rcxrzm4OBwj85q77WjZwbATXgtC4LSP691Umh3J56RCh4qILLb5Uh1SOzQ/\n",
       "6usU8BstaKhMwSrvYp4Q/3rsAJHyzAKGbdU+T6OyUg0xPQxn5T6rVheaWk/UVHxQ7d52h3w37vgN\n",
       "octnwqHqZ5msazPWT/wbtBrY005O/Ffr2f8bbLXvS1vYL3ylwJL9OE9nC7DRIMwNSBV/BsN1VswA\n",
       "816UVB2EZ02i2REy/1hnPC7dg0W1BDnuNQ8WKvwGsqlqW5i31eIfcDajPF28vaWa5zEpdo57tvhK\n",
       "0wxgceCNxhwnKMtC/0sgjZZD2B9G+8z3FdLLkqV7VKVCpZ6a8f6sOks9wNHOzlr4YGCzUJspNuJV\n",
       "GokzCcfOkLE4i/Vu1tnKLUJ37dJS/HXG/m5I20APhg5qYlz0vqSDZ+bGzedX0FKCxcIoZdNiqjlE\n",
       "iLDjNVZJShnCIwzZilLKPOnEi9kaV03gSmvU6FlrvnMj+kQitXylvHQL31m2KDu6O/3Jd3X6uIBj\n",
       "BOPyrhscbuvwzuPQv52VsxkbCW3Cp/XmJcecn58KCqyEATfiEzgCTHNP5CVKLBJa/DZOsVbiEHmS\n",
       "CbcZms/8V4NuC1JSpuuglHrAW2m0pfKpLCbBYpVNqLuwNlOVcOBe7p8ch6oAfmNK7uBX9oZtz4KP\n",
       "QvyTcige/D1ZPs4A1Y1a/ThWrQnd/t46ZGTi3ZkZeLHDTvanAvkvD5GD7AI34tKZlEPy0/VFY1qi\n",
       "nT8EtkqacOt7IX3kXQx1dWiciY+1qynKtaqAqHGMLj7fehWrmaRlm5O0om42D2PoR1NzaS1HoM+3\n",
       "cyUMHDGtKORSlyT9eEZG/4R1wmUpx3W/IDtFbWsJklFcFbzDIvkC6KO0M2IFoizvttjavKwEExWD\n",
       "H1qfNIE9idpLwF1QedOI/PH0q3Ky/yFFD7dMXSUT9LXrTryP05CsgPfQ6TgjcpMKugA3c5Rz9jw7\n",
       "j2mQc1TKrRlLoRq1P6uqYjn0jas1XywHW860Pkyg109Flrke23qezd9GAqhFp9XikmFu867FoflM\n",
       "+5CoxlXVOCwmcg+MtgMpbU6gVaC4WY0T1ban7fbdXUSOMlyLfNlhYbUqChOevjvLPcdq7sdTXnSb\n",
       "ft+dcgfxU5tjinTxdSSRThlp2E7G/wPxuKavxDaCw7re2YQ6W/5yeYN0kwmej6YQm2/1m86tbMc+\n",
       "GufGWYZiytmQ2KvJh5q9VKiOSQNfxEcnoSKGRbYx+mBG4oCqwj9GUjzkPldWoSLVWejMRCUPYh/s\n",
       "Fo8IRKI+ZrhUtNKBtbSUJhGm8YKI4Y/cPfdlZcs7aOObxzdUR6dqJsxxk/6E/MIsTtj79DcvmqyD\n",
       "w41n5mHW+qouBMwuc6UAYnbbszQtAYhPO+FYdFUM/qrs/Ha/vqNL84a68e2tVbROCbX8ssQPbFyR\n",
       "8UDwiOoAzQDV9Av/sJtBO7xHrpUnDXPHJhZxYAsbsHiY4Am3+BS45tZiGxwGr7kLN9NTJsWousHe\n",
       "OlbYpXPsjV4bq/gwouqVsZ631EskWhwxbQGs9r6xfZk7UroDx6E+Xj2uGtnZvyEtaegk8DMYdB7G\n",
       "Br5dT1lOjXIaUSvgDaWClHBr6w3OlSYjnqZUwMyY15tBNpj4sKXTh0VhdLt2EYkXEA3fAu+VT3ZN\n",
       "/cBIaYIVohOjqSiR7eV4ytZXI03xj1GwXz3YUkVbgUsy0+J9c4+PuqacSSfZvVEgBxum+rXDmYAz\n",
       "2fs8K95Gb+vLHNmBqpJWtWx/LceXdO2AgVbRyiSR0OcB4hPaMoWedaMrLa0Y8pfcVVXw1uEJgkbf\n",
       "N5Ev9pjYEpiRewpXfzRE3QUlxVfQNgYtDQfnS4s40asrAkDOycNYRO2d0RH5z07vSAUQZkt0jhU2\n",
       "XZAsS16Sm8kiooWSG1IwMtiMxkYXA5/ey8RBrfL8tzA5u9LyDV43ZXM4IFzyn0A5QaROgAc5p8gz\n",
       "0sw62rFQU4lPCXnQpC9aeYz1LDw3H55nTvYWH81f+dP1t5eOc2tkrC+pReIlABCTPu5fuKTXgi/6\n",
       "I3YPXu3zINMCyPSTpv/GPA51FYCl5WntTSYTrPgLp9jlbsKrSzoFcxiC9C7X/otvQZRHSL6YZ/xh\n",
       "00gL4PO/l1Xz4xIAT7RPUMOU0S282onI32cb96BgIp4pC3wjsoJS+vKRZjpJjebIO3+uDBVhFtI6\n",
       "IDJymZbpLXCBBNbTpm5GEEnSBf8AlekytcKPq9UdNPtbPHVFvNjf2xKyDXSQeCaVlC8eykvKkU40\n",
       "aJ1WKozb+D9+dv6BZtovrteIwTtMAQcw6vvgd7/IzDdgkpeHcwon83SP9VUNPKyDrKGILwePGY79\n",
       "OAh49unNvJZMgw/tIZ5bbm9dkOdlwQl2d+G7ZQZZxHnzNPGo6O+o3Nl0/rMChyu2DQAB6QAAA2oB\n",
       "nvhqQr8AAAMCj8mMRcqC6ABwLy4wtTv5EiXctZW+HzPGZeoIlm7AlDBBDoDHEpxA0aOfLiL/ockR\n",
       "7UfNwQKLUhcIjfGsK0TGLYRNW84FASoFGV+rVqTPJCUE3jJQEtLobnjPHJWmPCX3R9hrZP+slllm\n",
       "uwFA6hvgIbaf7JzNReItCL322ejQUXkECGFCmdGs3P6RbpVoMMGbTPU7W60jJbxZbLsybuhSHXe/\n",
       "qg0yheMZ8e3gR8FP8eC/vjkIBH0OY+Z2jEfN9ccvvE/OS+ejFPx8IZdei2BS66eiJM2M8fgIj2kT\n",
       "eLr69wQF/D2Ty5iEQRlSSZo6e6uUnRCdtiBr3SD/QzTdGXoqcchEANLKxjudpQUeMAN3x14kHs7q\n",
       "zvm/Fk9t6f585LbycGyqVD0bXLvQTtXgUA2XGkvmyA73J9n2fks1WLIiAVEdX7ntgI4nCl0PjU6x\n",
       "O6u0veTyD9RLytBcUkuyYj6bm00phvNYuym64zPuBUqJZW4MKSFi/9VBiGx0IMm2zL8dq6ZhCfnn\n",
       "xw7lVPg7NUNC+QaQEpNA/K+mf0l3Ta/AAABGSuUQXwFTe3qsWhimzFakPgAIc5qnOrMq8pLYW6WX\n",
       "Zyn529R+lf8S78Ihj5W33ghZyNSriFHun0wKD2L0/zuzqhvD6cQuexbqlUF+1ud2UXYbPGfpwAvJ\n",
       "muOujT3w4hAwUHVPvAksjo2e5jMcAbXz/b8R4z7bl7v6BYbhekgIKbnkzSQ1s7mLXniUMXFMcgyr\n",
       "ax38VGHbZs0Vv/HVG0AVeXzFJL1I2VuUiwFtEnqn61sq9ZvMbUg+JVq5kiqkEHJxNZQwysAMMsPs\n",
       "aWKEZ8IU6uqOOPr1pFHq0fMRRSc6AWFnHYCkXaPnKysx/SDsmkxELIv6re4PewZFKiwC5S8+t6de\n",
       "/LNlL7FieQ1B44pgQWBH02AnUa86VKCT+NfinB0dCm6ZV8EJKOiAiPeBqlX3q5wpTLSiTXpOYTAv\n",
       "rgWWCMZ1KChfQorZ9kLt6WjO9Irp4V0WtqnV6f60A9+BDThbBJN70aeCtdMDaxAuWPCQN2iRjPGz\n",
       "hb+5BmliJ6p9Hg3T+TAmxYqN1RdvQDRBsPfeeTkXA4+GM9CAuD2iaN622GU0cJ4ToC3ygpuMOt7B\n",
       "vB+aC1XCGaAc3bpYWDeRADZgAAAHAkGa+knhClJlMCHf/qmWAAADAFBEOH1RxMx8GS8uAUT/+Zn5\n",
       "b3JrWifTsAxwGD9+kZ47Iohe5vVg5sGPcrrKYk79uOD9t331Or69+VFDCWfNXXnaQnLBbTk6qL8n\n",
       "uTeKd6nNKMyikN8MES8L7y1kGHmZYy9bziXJurSTBOXzO/oeNMVYYMIymA9Wlfq8fBkdffxzlQGu\n",
       "RNeaup9Hs7KBI6RQWyodyLQxJYLdCruVqktQwKxdJkJFEBe22MUd5n6O59O3zQJSvDMdByBZT+l/\n",
       "3oPqu63VCYimARocGN1oM8bbKu3SGb6Y/Z8M+7X4wD3IR0jX9PueKIcgorjb+OyLWlbhSZBddVWD\n",
       "q+5/RkplAoMexBb2dTzqRYZ5X3SrzKKuaoxJjgPNipqLHPbJweGlmbkrfjAXjqagFc1xm3PPzbwq\n",
       "obDlXgwaj0dPNzdvG8juBTCUtF/43wLXe7C9VROHd8JNzrm44mCPAclipNK4zu64EMBViEiA5e/X\n",
       "Zs/7JnmjQseAyfxqVM8CTkGNbV+kwhQlUUtEnwtoO/l+zoOFRzLM4Zs6VvnoYaxFEuO2g3CiEIzI\n",
       "YYFXhmC9vi1wYcpJ3czWQyQK1fw94hyfKBRcN6ORu4RkA+OY1BIRsGeKjftxfbrXHtAVi7Wa85ip\n",
       "x4zs7iqbK9dq6oGgF2h98yIiOHwlU+N70ut2JSYfwtx93A+2M2w2gKWZ3PE253p/fpgAY/2AI4Kn\n",
       "vZCmgngGyyfXEdvnTr15pa406NzV7cnRpG3vVzR9oifhLnWRnPYZSz1g7FmAcSoanLngXRpI85Ma\n",
       "6DI+NDkgE4Tl4PuNg78sjhWO4mgCtw7HGbVeSu6KcseF+RQ0nvA/yiva0JsJTuF2HHMjbJf6PqAx\n",
       "n345sJdGJ2BmWEq4uJbtzSZ3Z1CF1FA4HTXbBGnvG9Tl4tkCy7PWi2hUGXeR80nx4mFTKl28l2av\n",
       "DhnQrdO0TFkZ6PRoE3kwdplyqrypmugxMoVkaJefG0QQZ37dgv3Xlxa7BQtVngTqTLHRCdt9acI4\n",
       "UpAnZd7X8bD0Vyuu61eCDbm7NSW0nyuz8qH7c4rN08NXGUGdHuV4t+RQU2czbbuBPJD8bu2NK3dn\n",
       "KPu2IiJfWHRGSKL7FcqAMHQH888Fcs+K38fpRsGRr2iwrLPa4UxR2R9cDE8WJML3ZK5ks5XJcR6W\n",
       "/G3GMESQZImjx2aKHWJlsHl5PgPFMUIPvo5WRiagbZB98vf5AstkAq/gsbOWEc5SqURmYvdb3tJ8\n",
       "fpoXb7cujzkjHPskL/caofPqNEf+C1JBlGxo+ckGi2Dvxnz5cbhffTzqqpmjfVhPUur9+e65Dor/\n",
       "cproOR6r2MgrW25kg4bpuK8gPxY6+TFFVjHQWx+kcNS6eqCunD/fyzKo4V2gzUuFwqC4Af4P20kq\n",
       "FGCYdU2DH613tW2MpcqLOlPGJ48WTyZfUVhYdqYgfRN8g83kTtFVIL2j2DVmonLaUALAHREeIie/\n",
       "wJcLkC8d6z0WksA2Bnmoh9nXfhhl/9ND7RXAUcjkMiNkz4zjJDUDLmrBQGF1OCkbrjEztf/Hd9GV\n",
       "nGbvh0pNs4+ceeg8gBJEVPkgn8krKwraijQApVEU253vmzn7kOXSOZ1+EFnbQrsfKWZ0MRlVCG6x\n",
       "KFsS1T9HbmpwZIdcRuWsRdRSJ2mW3H0tdsyvzOMlLgm6duBfKZBUBuHZ3p3lXRMUnskjHIEVSA9x\n",
       "pTgMKF5GGjFWImE6E4Qo6cYmB4lJOfiPjuTBrke2M37Cs6twqcDmL6cTNwHsUgs/viaAuOX7Y/Y0\n",
       "RFzRsAKwG0oF9vgNWUssvWM1QKv+L7/GF/3tEHeuS2qaF6/Dgzyf5GiigX+xhyld0rD0aDxVMK9P\n",
       "mo4dG1R17xyPVieCB/Pge8Wew3AF6JvuDw/Wx3MinJ69btAja+MIHJAsVpIvkWwWMEk4EptdMN0V\n",
       "rFX+N/A+CFI0Y2wj6ga0ZhZcyiAPRb/FNCORL/0d9OeFRXlhTiU4PmBqx4QfSeIgryaq3n+82u/c\n",
       "fvG5LyiGe859PyKKDtB6LjZYHd9xa1ntN8M4P5lP1Y/OHxrK92TUk9YBgyDOwkif26vDVJ5peK9a\n",
       "IHLA+VIgxbCE4labpd4LK8KLHQTSIfqwXZGjVp0IXYIVDn4aJ1DUgCuDFNXy22WSzN2Y2DniKeFO\n",
       "Fmgr72ENQtzKWkErzIJkC5kC/Tpr79kZZz7/+Ji9R3oQMzt/G6HbAXePeJNqyfo85UniNIpVZKNy\n",
       "u0c4mNM1yW/0cx3puq8BnQBodQrSX5zJtA816jvLVGUsx4KSzyNKVvQEkMlDZB/gyxjHSqE6MFqa\n",
       "4cyNJf++VbIwgiTKtBg+Zzj7yl0PO8GzY26YmuXUTp0TBXZqLyl700evM2HdkH3zwQAAC8dBmx5J\n",
       "4Q6JlMCG//6nhAAAAwKR/R9kLgLcFEbn3ftY4MNDxzop5cGwqUEjhta/JUAgee5Apk6JX87jts+N\n",
       "eT+5Fp5cOYlWn2T2cz/fAD3KGwNga6zeb957ns2TOEjepKpVplMdvyWEdFxfx8QqU2obDXEIs+PN\n",
       "29TJK1D/NfoMdVfl7beGvE2JhwUoLlTusnH9jGMTd6XKfJQEaVPR9Rqest7DdbwBgLmPYDd54dAu\n",
       "4kgeeD8Xpgt8ERjY+GYD1HZD7kTDHJrQKK5aCgR4dhcFL4FaAG5lkC36vBcaOibA9mMPCgRvRDRf\n",
       "X3X/IgaxPxZcV6KmiW+cqJi1HnizF7XkOuupHiqk0FyP4wZKc7VGTHDHVr45/C6M13ELfmEsdl1h\n",
       "P1oyPepXOhTUWEkorC1QNEHf1cn4bslgJ43J1+n1Nd6hhp0v0OQJAes0Zp3/Q+4JWrnlJ6Ul25Rc\n",
       "NVam8+36BfZibPwbLUBjHQGSSQyqh5+JH83oXNNQeGR3+lM1atjAsd6KtX63YRN/I+Mpj4hGYBqq\n",
       "NdivpM1X2IYAN1vbrFdgzTcObsg+qVOvxgXWkLZzPZzHr3wbv76awwMFbDObRKUMhWQ5Iif/cQfR\n",
       "9ACXb3DezSET1DO59Db0DwIg2BnxpwX7Wbj91xGQiN8rN4gLRCZqEfwfQ76gDBjjjZOOYhtlvHKW\n",
       "3NCpF/LqoqBLScJvPunWBykopPo8Pw4Q6kWFxXtbmhabD8pU3ctUsAU36D22qQ4uPVj2xurhbcmQ\n",
       "qtlCdnxKtghxbyRW3ERrCCJj5x8ZBGkBuV28dylTKhVKp53dPu6AueL+Ex9UHinlqLSOR8rgRf4a\n",
       "NWJnyVT44+3u+VW8GZnrrWnYKmiVf1LM39bsaahc7YeD+nYw66ZGuHJFM/AQ4vHNdWarI680HcA1\n",
       "DKcynbgTrqOxQOb7ezXj/23ZNowVCPJ3BjRroxmAjsH70+yYCj36GqvbftxazEn3s3y8wsUzkffw\n",
       "qCQaZ6B5j0IkaIA9oUJ+BP82F965lnr930R2ekwrKPT2TqPcPGUihhVyOS5XgMven37+5Baanfcr\n",
       "ZKMp6491ZoXC/ZMWIl+x65AdlSzriODT5ToC860dhq3mdWf5WwcmjFy/oxYw5VdcpybIRo4fBYl4\n",
       "85TQ0azezIxZvby9cby/zSJn+rWq08LEkEK7NWToBMf4jjqzoFqCm5xv/KGQY5mf4QtPJQz1lGUD\n",
       "Gv4BlhffJ1FybHh1au6NKCP+O7uz2OVBHaJ4MuMgUzTkIxNtRRMw3D56u8MwrhYfyduyIJoV5NHI\n",
       "6aqacuqmSTxyJMDT3CosMyks/A/I66F5lUJKjrzbROF3qv87qcP3zsasp7DCXytgfk+QJuXsBvmB\n",
       "2b7Siv5CICRUAWZxtzKv+0m/LMvpO9uQp24MusnX1pTmwwhApFdlVxMJXgvAFQ0mrW0GcP9BXNhm\n",
       "PE+029dkGD9qxzypdGuc6R4nXCwl2zhMm9g1oXWOF0y+TQ8gBvg320Go6XQTpt9DKXt7UPg8xtnN\n",
       "ZOWUU2UTpaIklnOEJUAZqxZWmLPOLaOX0Pjeqfh/845wQuAITfB9muuwDHPYNSxj5eWEEhfPpomd\n",
       "mPVgVEv0sK5O5bDkdDoU0+nPbXgZs3Y2kLxgLuXRgaOP68GPIis8KBun89fziSTShphqeQLyLn9x\n",
       "b4/t1CIc86Y1wJIzzW6eAX8iOIfGa65kSfJh04Rv+sy+3Wm2mpmkdMqgjl1G7UUQTSqWMUcTXxHl\n",
       "GpMQgHQ4rbbHG49NiKjcfkkErKKxB6ZCQ7iZWqn/72BhVO2t90GHUjxyFy7rqbeecQr5j3TYtS7C\n",
       "cdWQFXOjTCKnyal8Rqos58+rmaIAEDaQkfdCEym69bZCHSLzddqOODf0WkULjlQ1Dg+0qgrNoczg\n",
       "BgpN3PA0KKqcC/WKGNo5tQHVLcB+ohDHxRcGDdbgolKx1Q92ldRFNGb4WvYD3iytw2baKtOH57mN\n",
       "DCv0nhuc+9FWZuo3+jPrPE2p/FzpcWDtLZGJvcHK6CBtauWdPTPX9kEgvCfJ0B3GMNxIWPRo21aP\n",
       "Llg64DFXgHFdh7Ldm4IABJkNtgnsQEnq+GblnSIELB1rmKpjhaGcO6vPd1Xt5zJiPdd9mtgP6Rh0\n",
       "I2TgOAfHAAeKA0NzIdSpJvNO4fW4FNr3NimKvBpnmlPbFnrq4YaCdjsixGXkJLz+klpgIKqcARBV\n",
       "WtPjy44YxIKo69z8N0YGboJEkZqjblPKzS5DIApLgOVzBGfF2u3vwfwColCwW92rQu1Uw58RZ4j+\n",
       "05RL8z8Nfd/vT6cygJ/gPLjNfvDzPzck/VMBbZgr6RKC3Nol87bAdjel4EiEBGrEQTEFsDfkQV99\n",
       "WkjtOctVn3mITAoyijfB3dmNK93hbOkRZU0eWzbJTxMtZ6McjrFQlqXVmFvEMiDSQA18ICg2hG0A\n",
       "nNJmhGuwJyenVI/PQMgGj3z3YKO1BX0mTWCmrAFD9VrusYCbdQN1CfIBcAtfPCFS1fev1+S2AF3Q\n",
       "2aaa72tU+fO19dpO7iJZIhkKc4mB6wtN2fW22TS0GaLpjDXr8sTZWHOegdHlR6bt2JyV0JQVGhe8\n",
       "5axD1TLSgoYfXRopUf+F+TYdEALWSWGbDQw0FwWknsflSJb/C1MO8yy/BZCWNCbyG8l35sbpaABH\n",
       "2T8j3f4QrjCkI2XjQ5A49TPdpXhrE6cj7AEnOYBdPwT0uNOwWV+eU887qNi/4Cbll6Ukcaip0Iup\n",
       "5q1m9oAhoSP/9k5LtN0/M9fwaOBpCaaAGYX5+Bqt/SaA9KB8tEE+CuexKDepGgov3DKbNr/ocMJu\n",
       "ds66pA0vZq7M7tbJEfei9/q8pLcfxXMI4KpPjQI44BIUEhAI7kGsy7wtaCHKmcgJQsR1ovH0nBCg\n",
       "Zvz5VueRxXY6ENwNR9FKxx4RWeoWJY5OZ8v8SXV719NN9AKDj0bWK8fmqWJ281XTX1RW0anUiyHp\n",
       "yff2W++XPw2m0Oo9CFy+qhfakPBz91ou9bgouJpqKrznxUl/iyauLnHFJPWPzel4WmjocsEuHluF\n",
       "5zUDEJZCf600xLdNuFJYvyb0B7Ux5FI1BJzzb7dv4+lFJZ3mbqpglRKr513wl/icqobLBh6lNblF\n",
       "SeZQRioGC2xTdw+FLXHz62PilzgQTlDIZofETSbp7eNAkDdcUyrhMpXM4R3NpdVF647wEKeatm0q\n",
       "AgTVyBKLoPpCRrNCtqAey2GQR/cK4ELPUHg02YOEuH/80NsS+UoELyvsuz0Nmt+zYGp+1jNuFFmD\n",
       "RlIBO/57JxcIgVFT1xj0qeLZMh43d1q86xS8zTVJg26GKgA18kr9JHCSQuPaVQH3kVIbiOahE/UF\n",
       "Y90NEIacudr19R9zlQaPRsbnz9iCqjnw9jEnIqLX9CJ9KQUJ/elV/HzTEClLIra+oYmauXNW/Uzh\n",
       "lmY58S7l6AGQkpxBYksZDwHEsHLcmNwbVJE1SiuEVibsgolwJFhrqQVF9OWQSsxJh48X4Jk9Qmmm\n",
       "9c6IEa51IeYzJcXUFxqqdWWUPVhJlkot+33NG7x9v0753R0TsgoU1YwBrAfOnf2OH1OaJvagFhJy\n",
       "c5BVdsVPFRV2R/ctPaKYu/v4RPGqJo9OfJwMPaqHlYjLWabev3W3Cg/Q1B1THVO8zx5JzaHk+tMP\n",
       "Y3bWwvfyRvjV1sq7xTwvDsjLT/58mT9rzNlzO1HnJ+PTBAy9ZzF6ufB9EwILT1Mf/R0Wdn+kGZBU\n",
       "HzJWGQY8CRSgoJ8/jXHmaYHrsIdbANzk+Fo83pOKKV7s7CNPr28Wy5ac6tqz4D0/JbYNmZaUvQS8\n",
       "834Nm8hH2nxeErRVl+h3a7qHrcU2adSSawvKI4uOsSujSltLwLbxbPCERLpGxEl9yzfEWer6AO98\n",
       "MeMajDf0U0cyXKFgA5eBO0duB58F4YAZgVzjbG52DgUTAOG/Jc1M4f7HwAhGMbdxJ4EJLVOn0KrS\n",
       "nKAjPO/nO9K72SfFbYJ9XESkir86PegW5o16P0nM9kojxBms/lFrVMryowP/wkAAAAVYQZ88RRE8\n",
       "M/8AAAMBYpXARlKE1Gn9Oi1TyABxYZRsts9WF8RrvjdvpQ2Qz70Gf2dk5eoAJldLcAZuoaTdC6FH\n",
       "8tQpdYy1fgjqU2hE0+xieSeKLD0kVTD7R0fXimNeBwsYyQBd7uDTR+GnJIkw8hbiLNZnXT8Hs1rs\n",
       "aZJfPKSAEFtJbyS9k1Kg9OzFPiEf30z2JGH9enlr6uJviyTGIyvW5spKkhZYsAEbRG2Aun7VIMIP\n",
       "J71yHALzrCd3pEvQNuPqH1JDdn3F0i3s4+flvcyr8NO1IGgAcK16MMWcSOFTWFNMGHn96Tz0jB4F\n",
       "RJ4ewaE2Z8wNepZVbyM63XkqVhhb0IFBzd4X2iZ6uB2O0RDZsGpjmV70NP4pWFI8/2WmY97reDuP\n",
       "Fdp/BRv4NM7Kspq/osE7EhD9Xuhh+Xia0YpWRkONa+hTlJQ+qZ6AQ4D9OXdb2J37m2nesT0bRp2C\n",
       "vradw/LutN4fjmcraZXFioIPpAY7KEaSs2hC68yj4mVKzbFikWfAonO4A1pdaitIzjroucjN6Ou7\n",
       "hseLZO3hrA0N5G7Z7M247xuRDaDY0+GDxG6KA/Y/7YlxTaFpNVAj58i/RuLTB38Q1fJ0kxNyTugN\n",
       "p/k6TYe33qqopYYEP5fBQvsUEO2PqzWjhiXmpF5yeKPDvi0WuaonaRIZz0taquB3GN8bweU7o5/s\n",
       "C6mcWGwpar/BsEapgMOOkESxJCEh1yF4JjIXUMBGSw+uZXbmuAKLRSdnsLzNE/r/5Zrv23VpENlB\n",
       "xo0vQdVmBJ55XCLm3M79LkzRxcjrVTm9ni5qqAJzsAgw0eYt0nPOrWn7o/FChVmvsVDtO+MVTUKs\n",
       "Ga/OfG4YYrvKUccMzle2XswpY2Kxy9gwv9DPsC8XWkKy1/8vmj6Co5OBfGtRmZ6MtHyjxOTIbIcm\n",
       "djDtLwmTklTPalhPzH6/zpZMoM9/iySiNBJUCQ593GAJDbX9iGrANx/OG0stqr/D6O1QYUUWu/LV\n",
       "Nvfj1bgGQyDUcJMXoro50URgBq0WKErMsgWojFxm+6d8iDeZbEh/+FZWI98tp5Nv4VT0q/NKUZBU\n",
       "kl1B0Rk/DsVmVo69wVS4F7hiCmbRcivrLtJjSzILA/Lk00VaPSYovJJHdaztELO2vNatXB82Exl4\n",
       "YDchPyVYPZWTMzCafgaqiodrxXU4mj2zHap8LEuTwPbK1roWqlpOUvB85/9+eUgzr9R0TB9Owrvu\n",
       "lvFWCya++KpqIvOXmKSsBGTRnIx6MN3ObpufCVmKZOT/MqHNGLLnapJC+k9own7FSRppItkKPmiT\n",
       "cDMrSJHrmyujUTads39iz0z6jjV7iMw8WcTqaRdG0lH9UCjK59SGxNjGXUsaRGAaS0J83UjqBk6B\n",
       "f4xp4UqHJG312O2CDP/EwvLup9P+QARwf3pDkEh+dI0N7Whz7bY07FTgcGfuNcnmKrFci0VPhknU\n",
       "09+z2jnVNBApi5HUV54kP9pIqgQN632YHWyRX8ZJaebhHHGF0t77xN+mJO7QiI0gYAN2T6HIITzM\n",
       "oj/IL6tugl9l9yiN8e2kwXr/FCUcIleaUD51uV4XYPgHZVngJWvwZR/xRSGEIG3dHuMLKTo3yPIR\n",
       "id8JXxBRUNVqwRi1xwo3kbZ62FHObWP6m7rWbm01lm3T8ced89M53ehr/z8brZYH6ibWI4Pis2sZ\n",
       "1elZ1OeosLZV/OZJ/uKKii7uhgun8mo4Vp03Kbndqm3iOWtYzX/x3enE+P3cmPK92zlM61bxxnhQ\n",
       "BfzVP2+4LFzcxEgaczX8/11spw8K/slZcuz2X5NiBk+HKVDNcetFy+a+tFQxzI3JUBoxAAADZwGf\n",
       "W3RCvwAAAwILZmeVm8FZ/2wMx5gSZ9TAjulGeRV5IASf9ox7H2o/gD01qvkAPx1AAAADA7DVdhqr\n",
       "gCjx8pI8QvQCivwjO0aTG7rJVc+WNZZ/5hyfQBwbhdLlXXRBaPhYWMHx5YmWeUL0nXDD0jRvQgAl\n",
       "YL9QK9dEsjZieJe7wPjwM9qonuXygrXye+6Wy/aTpUAdRIXfeR02TEuaQjtxjygh1SNKjhAQLxdl\n",
       "/duoVSBM6kp48Fo63ngV9Kchi2NPdu61HfhOIhH23scs84Dt60HBCWcnMGeB67qpSC+O+qReQrva\n",
       "L6W6NpEeTHO0C68nz6NXiX4Wiw0n1252d6OZNR+vY17nEbG/ewdiUCZvVMrw8y9qmsTWIklQejBB\n",
       "c+1c2o7jTTIgY2D2GaXgRk/uDLIBOCSXZMjN7/wL33s4HxpArEYcP2yMktpyk4Cf0lx+lPogovpe\n",
       "FJstw2kePnRYcZvnFdcMamtMP6Yc/dwJmasqkPpVFmFgBJpl6aFiuKxblebmeHhM0SRAJUuJsk12\n",
       "YKQKL6pdtsmUNzMGrYvroThp5N8RUtATqJ1kj0c3WEJjg2JxgwfxsNamD4k1YZK+K9YtwTAs256K\n",
       "unyyDmS0Nv9f91+hAomIiQoM3LWPklTKcm5Z8oRAnKGgKjJ7z6MjuyXxNttUPIuPoTK+wC4b+Xth\n",
       "JjFvGJToocRWBMd1Q5sH9x9HyKtS04teeiMIQC/b5zhDgsfB23Am1LhTrHKQTxQXRvv8m+BfMmg5\n",
       "bFUGac8lT1gsaUfzDqWSdsLnP/QjrmPXIPUqpIDgo+3wW9Fsz/D/mGJ3lWjLS6PtrNKDj07717V3\n",
       "H20yL7p3rw8sqrdfNMrt0YL8TRhGY1vqfSAiupHff+xCTSKV/Z+RSiXSL00/Imi0uMV2orKagAfR\n",
       "hOBbrSD+v0SSOkf+0yLKlSSUuMVCeD1UwNWtpLaXZBBQNYcmFxzwHoRpsnpvypcjYypgac6QLGE+\n",
       "S/1VSErdz7QpHVJuP+AIH9rHb/GVDZOnAE4wzq3/K8FGB+AU2V1h2OqVaYVygJ7yoBxsUZe/M5b+\n",
       "IlSoLLDIlwZ+Jrrl/D8ROpAN/pBR5n/skPDxJvE8Wc9ir4WpC5Dpfb6znrCBcCHubT3gLfExIMBU\n",
       "Y73ANx1Blj2khmRYAd0AAALwAZ9dakK/AAADAgsbRKzdXYHZoP5xhYpZxZGbqq/CQAexRs2fX5Iv\n",
       "ofGxDrk3nCoX4M52coF6imBjjkH6Tg1Mh5I+sr/QicjFWa0FzBBV9Zo7NohdOtIeCWT8jsE3yjnV\n",
       "/9k+thCrRNdjRfg4vWwYulmGw4c7uSt7nwwkovBtzT19SB7KqEGgMb6oI0G4Shvlw528Oklo0PkS\n",
       "MBRXxGljkSvQyZahn1OLs++++CNlmIX/oab9Z9Aw3PLd35e3JG/mW9kPP48WppB4A6MG5NTn3Vxa\n",
       "bk3VV8DhxKf6beZsCOU53SsgBiJGHkjLkiHzmyUPI25fwi1CrrJa86w2fR6cAHpHFBU9QBCNimXX\n",
       "OyMQM4jlL7H/qpqRO/rungsYBOq49Ke1IHz+Vm1xAAADANOA4ck4lONeHFs0T5FQ8DnKS9b4OI1y\n",
       "7bNd+pYTG6nhdWn2MT0QXEKwNvmBXVfEfJ9Z0xOEBuzFGlBjTuwJ85I1+KFVOcKPKLiRu2gThyzL\n",
       "02b6Uyz/JQ2DzTC4I/NxAr4+FrMWX7Z9t7DpTvXPfHbcIxflZly4D26lpD6A1CUqe/41PfgXxJDn\n",
       "5/EgNkZPhHlz8IeRk393b8VXO4lhnyPe0/qKO5IBUiIbem0DFABeN6Y2O6+AD7dxBhH+a4rcV+x1\n",
       "j6Y+rbOEio5cbnQFGHzkIDrSxyj91x8J3WNT6xlymgdHQlGqoe8ufKO628MywAyZGJMy2WLqmYj0\n",
       "JJLiP/7+hs2bruFRaOMErrC58DQvY1GdEZTlYQisK/6p6TstyTrfavro8OD3njtZmwVneOKIMXdX\n",
       "K1kZgAbCGEDTgBA5T8Z2vji3Jw4njYKbE/1V+HQNiColatxIDCEs2WSMzVWN6quzAdcROobHlXT1\n",
       "zAmYUo1T7EzREuyPr1WAxF5EPVJB6IbPvmq9EzJyk7asMNG8nkz8QPBzpljTR7pf5tNadYwAXhdr\n",
       "sBOVblo9juhklHtEq7xgFnB726NMH96S5n+g24AAAAjfQZtBSahBaJlMCGf//p4QAAALrvv4JuPY\n",
       "AOMYNxwg111aGFAdFmcvGj2OnnAmGKZ/vnrt0uAwyq6q9FtBfWfDUS6hXkbnmPpN7Q+i6MD3hFsQ\n",
       "EgXsB8lFLd9S7vyyeIpbqIv9Ip9mN9PJ62dfemMi3HTieWOA7aHGFfPf0Li9morFKjK5cKcGuAIn\n",
       "u7h/o62DjLJiW0E+IMoraaPusKehYh/7zNA8CytQogqkmnzxOP0qnHaHoaFvpC9HGK8ALXff2qeS\n",
       "VSu8M2lCa4/0dlmLgFTgGRZU4meor875jOVvoNW3+ZUWz42oZE8PkiUoSttPPdLydfQzMWk7RlEx\n",
       "PMLRpaZ+nTqCpLg/CBMqBPBgiQKvYTCAmM3reCAwn4Zk0oki1RdDU/nwx4as64lKtxfhGtFyAWh2\n",
       "R/qLRTvarxfbqob5e6SsnggjFQKdKmetCtH4q3UP430Wvs2dbl9cLymVCKVj0po2duoG47MzrgFH\n",
       "ocI2hD2/4d1L3kYfER6MQN78iT0paO4panPmUcm26r9TQH2pJVFpYdbG+qcelthAGgj4X5vPBwUa\n",
       "MMql0jK81axlIoeu+t6zIfLwTGkmBZqvrNooWfX7LuD/Q1QQ+xWqIoU0CSUF6so/y2mmhVUXEJAY\n",
       "MQTdJpLvoftv3rwDHZnse+KVe1rBOGpBj7EFg8XwjeX4kkwLJl8WADNMDsd5zK4zYM7OmvHMIGuw\n",
       "mO2M+CD8Id7xHnY9rDq7YNGy7hqJYOib3X53x2HW1Bmy5iFyi04CrNNE2MgPS4yNorLI2CCwKny9\n",
       "GDuG2WN6unuw8/D33f1ojSGzNCi/1YtYWXQVsrpXF1ZTMo7/XM7yefaOjHpfnIOQO/9LttEdq0aK\n",
       "LaXCHP1y0wP7fPV4Em4t+Z8VUvR4JCXO/ohnLODfwSTRzOYOHXlM+wx29XanhrxeP9g7DMt5Qf+n\n",
       "DfgmN034ICxCa/7pHLxrEDw8n1CehaJJDsPVmLv5qsSfEqQu5TXnR/5jMpI5aoNYUSFwVHC25GyT\n",
       "4k6nNv/QnERHkjXq+CL2E9Qq2Tr3tlKlnj3J8R5XBvDifgr7IxP097QyMVX8wpO6xgni9dgYVyGk\n",
       "fgR4pFI+G7mYuYc3Ab23WoUx4ozgRggTxqNkw4Yun783JPeQrvTtokGTWiHoGQX+tphTAKJQfHhU\n",
       "VYX6NoVZAFj5IbDgGtVy3cU3E12NKe5uvqHtkV3ka6LJQ70UbfaNO6c6Pg5DVwtrTHURqDmdK9GV\n",
       "ny4i1ZPELUYSvvThRmfQno8bcVc1Jw8oXoOIOCCgfvRL3NsqyAzyZ3UZNwvbyi0e/EsqDvP/xlyn\n",
       "MB5gPzEEEx669MMVrJ5LfswTPQpFx0NTesIuwke2TS3r1EtZAB/0tFfBi1MHHE+xeOKaoVrtgbhH\n",
       "XX8CrFTfykm89mDkue48+8f///7WJ6wruX/4mo/CzAaS7M9haOT+varINvs8wYVGtpIM4JdEq3Co\n",
       "2S5CjRC2JP/3Jcyy9uGL9rl1i/OVC18uLSjJDMvlOKNAri6wylyCBIPZxeGDSBjO5dcyBv+R8aN7\n",
       "5mTnGLU5/a/zYtDDEjm2mUpTOreqJl78Rfe/P80u9Xx+DAYyh9dLv73TTRfLc1io6Y2fmtqyrjkR\n",
       "40JgxKYzARZam7HNESr/XHFnSFGGORM982cEXkXni89sRrzW605zwwDu84zBdUhA1cF0sVLcjJS0\n",
       "zdr+e/T4zeHh8bt76AaqG2hSqvn1Kg7DduPD8zx0JmRjhUfigNHGZKJnmPm3n8fJE4B0H9/dtMzr\n",
       "CdjCc7ugj/hnsl8mrUAMI6P6SePFuhofZ8WDW6DPQuA2GK0T5dJXrsFAfm8TJBSjuoAOt1awWfvA\n",
       "LbRmEJlaol/NAU9X3u7Hr/ZQm7ttmP8NQ6gqeSYVYxh3/2wzRWi3iizSnWwbvlfcziXxAjILEFmB\n",
       "VGGQKA0Vjb5QjYZXjRklEASJH3UozfAln1Iyuf3f4wDZejJQ/ad0Kx7vHITc0rD32zCxZrpII5CE\n",
       "gn5fbdJc8hJfzKyrZ9eCsC/XvLlRYgPFprjXls5AUAVB4fGIOZKHhkLmifi9STCKE14WJ/CkWTpv\n",
       "azCE33qlC8z7h8YCuci8e1YvuJPJR2WxisB/3yK0sIBIvvPhbvhaN2AUROaytYMub//VsYkC+x4U\n",
       "s1eWPLLJSxekDqF3I3T2j0fhCUP7Jfd2bCYWVIAbtHNauCTZBF+abOP+wnUFzSPrLFMyyqPacfgH\n",
       "dh9LOBYunOquWzGVCsdLmocbRxaE3SuPUzjke69+0HW0MiJRZ+sYM6MOtYyYVj9Iv2mHf6KpvXeh\n",
       "mZzKoW3ZSUciQxD1kYJz7W3nNWj0BH4xz8NkbG+UbJKCMQhxIYWVR5zuLvTxrgqpKFpkkJk1nXuR\n",
       "1Uwx6sHfWD/NoG2sAwpz5ov/jX/LZJdRbS8GUvnKdCa4uh2mdMgyfbKXHSII3WqzLkLK8QSlvf5I\n",
       "dc1AZ/aRVxNeKOImDbxet3Fx23KCdfJczXtUiEacBT3LzKm+GtTrLsHE8isf4oR2BOzO5quGYIVs\n",
       "sqK7SZ1lQgck0mWQop0RkWQ++XnqXq+/I7jXF7juDFIWbw4e1PJORhXqqOM+EA6B6vur9bRR3nVV\n",
       "8f9qZv8J501QaQXGIq9m3SiTPyIXQTxR2y7HyRJW9qGSAsfjMzBUnj7SM1Ot5x1TC0MdUu1sxoP0\n",
       "BOTcyUObqbZIby2j0ens8tSRJaa0G92BWp4ZeLKFhFmoe3mwsLzUqjIhiKxAA17Via7tuiTBFrnx\n",
       "5h5e2nGOvDZX9O7EezTEgNjUQzu3UBHD22FFD9YtCSuCRTA8BXXt+gUK/a4yoHdOEybMMXMuojdJ\n",
       "GIVyYeFvUuD+ZBdNDWwnusb6eBgANhPfc5/GzB8BkIS4gBTIucq46Z6OISum2U0WLfl4g+ubhn6v\n",
       "e/YtvvvEt1WaUbaw6GCXqGsyAdtz2etHh+QHAYDxfbysRlkALq5j9WuKMCkAvDyvUCkrFnLd73hi\n",
       "JwSCgupGKpyfbShnfoJl34q/eqAeD34QAAAE2EGff0URLC//AAADAduI6uVuho25oRbdPEA2+JSi\n",
       "apYVfcJ8vKYpw6NvR33lUNeCy6zdMmlo1nEDfJ7uUrJqubSBP0AbOXqRFwsOy3VwHEv2vZaaQf/Y\n",
       "7HIljYqD2f2+wg2HIEAfGZK/vn+Tae1spSdu2DGdQ9+p+QAop8eAgJL2JOQK/H9rjj7fZcbu4IS7\n",
       "3yvjkzasZovuFwMj3rmTRYDzQ8zPdz9BAAp1x5jbcMj3WUVi3fVpQ6FBZlaycxHFi9lq0n5BemOP\n",
       "L48qxaSHkBLcihtraY2JT+xgw+s2G91ltESeQdwHo8r+kTKeV7YH+9XPrYV7++M12qMEKipp65hh\n",
       "88K0xjZSNYcP1b5mvz13HxnD3F1Zmw3BpiUMy3fdyGxawF3yexW22K8fhaEXZioi/MXgCQfQGIRJ\n",
       "nKB1ywDb9ph1tVLJUEHjnKU+q4H+SNisYBq57LqJR1GAdwvdiwCqlqW++N30jCqtYRyzwkZGDjoM\n",
       "mqDBazOh6/EE+rUF+KjSsEEZMMUU2bWWIWHbFkndCR9hl13TikPwdvuCunqSMQKMxnU511TrwkKn\n",
       "P7+zTjuSFJ4ltt6OvMYmjp5DRjbUexPnOEAQnxdgV5rRg4dtiUDnXrlhj8ytsbHmr9hysS97mXk6\n",
       "GaQRpBmKQrKDWQc3l/cSdg8vKRxQs4rofFFdf3gDx7sWJPoxgcYK/LTuOAAFadePSeOigWnt2BwM\n",
       "yZhzWIsW7fFImM6WTaMmrvV/9nP7xDCqrdm5Y7fCPXZHSyolW4A84Hz1cftY+/33dU085b+UVvh5\n",
       "SWKhRww02HZ82QLynmC5csDhvVRCMqPsV/DmzLX0+o+d9CSnZjwC7bp0GJbu6WR9Ib0jifnLe5jl\n",
       "ngCs0S8N368qEXosZKPK7jS4zqMtZMvnIygbDprnvPXkw6sdt+FQ1bAl8pu3MwBkDpY0Jfu25OCv\n",
       "K+28SG7NDqr/D2UALOfZPCvWETH1IKS4ou4xQFKIaXubo2Up9bD1QAAq2jbcRyDYbbPkYFFnKNKR\n",
       "NiP4AlFYx10wNLp0MM2rP12YFFnRUzm+IRYj3Kuy18rqCO556A96QcOPEpuM/z8gdClowl5TBL73\n",
       "0ms6HL/gwcHsvEuYkjurUh6ncVZgBu4joldcPmbnFTWejikCHpmWXx73dN8QeiNEbHFiaTj5/5MG\n",
       "3LeIFFUJ/IZO4657HlG+amb2E7v7gDkiuUI9PkzMKri/Dyw1dcYNpsGaRosLqaz6l/8IO8ICWwfB\n",
       "CVvui0d/AL2cSnIRJqtbdeJdIFP55YWxZ5xIfZI4DgTfjh87Mrrdh5xDjELq4p6ayQqoyQX8i4AW\n",
       "t4zbdJukkotBzOjtPSAxQ+NnVorEG3/yQwfxI6rMm1t/PGMbFKMtuRD3oNlxwL0lh+NQ1VX856/k\n",
       "kpRK0HXrdC3Kaleb8ie9lEfRBDI1wTXM43NTImkmOWKxR2rpMz0tXYnL0FwXL9csRQVsw1/T/bYQ\n",
       "6BuEIJbJSOzpM1O2Q4sF7pmCB9UPB5bxTmAJcDQq2cJ8fAIVTIY1hbSQ4OD6yXN2ovj/KOMQct94\n",
       "3ZyBQ0G0s4pWehUwCXeoAxjvyS2at98NqYAmMU5erlTlzaqU6I76+7aDkXvfG3BN2gILD045qZs2\n",
       "W7h9XBuQRNKVLEfwYsEAAAQrAZ+AakK/AAADAmuu5Uf+LOrH7UJz1Oi0UBkrwtM3oAbq7EkHFCn8\n",
       "qvYxXYnDJ9i7NhxHfEdIpO0RSSnWB4rNsPdcqJRfQpj4hpLF3qLip9mNpNUzQo0OibvpkxqhQg/w\n",
       "PTLWriX9I2XoGpp7nl09PKurOsmSpPIhpkDVOO7mjdteoyKTb9bx0dNSq+jp5DQDCVDwOSavwSGV\n",
       "SOyS5o/2a3fdWL6TEY4vvuRJElWl1/Yi5CjIk6orqqNBTv4T/nmaBVLdLOSGF/zSWrTZEKp33O+x\n",
       "R1UJaUcb9AgGvHX4oAi/KzlFZuEFBGKjkOrZUT/Ipza4QSovQXIdyFlkk7nFHG+6tT7+pqvLmsnV\n",
       "Z+UIOi8O4KtLT2DSryKWTOKijSkbO9FQIFvpVz6j/ZQ1FSsJU9x+kNH2jThOLOmVFX0OhqDnzPiC\n",
       "5H29eSy1IZy8WR+UR6uDDLpOb+ze6NNVQq/7NVkZbisM61QTKXLJChByMVjpSuiSxSxwKFrRgA+N\n",
       "o4Vj+rVSDCwcRq3jQuqG7POoP1JXziosX42PDQy3KW6lsIjF0StUyAtpujaC8jTV0VYN/YTeAiE2\n",
       "AAADADtgHMSnofLd3YLZH1pUz86CPzUTUjO0rVO/05ahnlWApHhGqTbUVp+BmHYsbi7Cu77Gsjgv\n",
       "Ld/3fTMLi+SxEs546ehq0FOprAlYKZYrcnKqi8K/DCjGAmvo8patnuZKiewUttsmVFzGHP54W8Ht\n",
       "HpBNeB3dL/rIYvPQ6g8Fh8sMIh9Dzb+rsUsFRbdZcUUw6QWhNBf9TM641Zp4zD2DZuDJUUS8urky\n",
       "4P/j3EFHBVaWwM1tYYcSQslwJDcjnE4lLbNYfHTwsmCBLhHPjI+o+jofc6G4nUuzjnr/ZPBXc0zd\n",
       "jfNULeZUUJ6PUloz5Sn+pQAlIWhmYbJBMMCL0u66sRZK8tqLYFaXAnvF5VrQxdb1ezFU2erhBqLM\n",
       "s+/2mL4DvgorJWz82MB9dGo9YoPzDS2x4xiWj1oS6MyAAHUme2rQYHDrWT0cttLd3QaDiQf7uYU4\n",
       "B+CweWJfP06VkNIGpfyv/gQ1rxQhHMbY1qxCbjnIDD/6NgLLSvWyqyfQj51kTHPrADs8d1O5WH+7\n",
       "mE5atrWgSzkgKxPyoV/iilsUJBpvnSpWybEGkfPil/ZquQKNJ8lsQWm475wd5CFd4Q+oalKGgV2R\n",
       "Wt9e2YsE9xG0Gv8wzCukcT158IMQJyd9/o29tENMMqwcoFi565jwByfnYwlB8Q5g2d/DpG5GQ5Z8\n",
       "03uocYxcJ+OzypKeFxPV8GnuBXdkEqeuocPd6EUfDDBUMpNOP6+nXh5bHManEocyGctX+o/2bUrZ\n",
       "TxekD+cprr12vySt0hTSjlPx5Mq8OYCiQ/j4cgjbhYTKvLq96dgi4hwhKaBF7YJfgiYxSOD5WQcA\n",
       "bMAAAAccQZuDSahBbJlMFEwr//44QAAALruuo49qG6BmAD8VsfZDEM0JNJxRC2BchXwi3D3lKszr\n",
       "UtmktT75fp7D3L6zYEgpBK6ggeZFyDqh+/wCVmBTPryAIk3s4CHs1WzLgOeU+/0BjjvmZfsjZecs\n",
       "t90k63Y2oV2Yq1pKsn9sUyAI3tkX1xqaUYCOPFu/cWMRAoD+TKVWv6avqGzS5zXDF/E4DkicdgpO\n",
       "6meG26OO6bDMo1MKfpcDUZzdKfI6jHR/j+8Dl5Vcgd/9codYBY982V0VUj/zFnjohdVjCN6ARgae\n",
       "I7mKd9I4mhfMxCn1rCsBxl8DqulEFOXpokIir3b7wr9tpd9mDGCgoNSqGw6axGDex8gjqCbs/Uwr\n",
       "kGQVcQFElhv2yYYm0dYFp82MCY1lAiCCsTg9l8P9AzsPf5Q6c9kAapfpVl3tl3BPX4vuJKcj7kkF\n",
       "7wCTVG8bQVBn7w29lN6nMzAQSPXsSPuFFGeAe+smMPzpkbHS6fnHySWv5Yu/XmgL36jDv7IUqipl\n",
       "3idwCcwFs547XkGFgIqTxVg3PsiIgglyfDF1gCOXaxWVfq6qBxpE7xmyxyEzpWem9GTRU50cMkkP\n",
       "j8h3WgaefmYMNirz2Ul5AsTJzl1p6RL0SB4PaEJSy0LczIIqffWx9L/G3FCBbc+uK94Et91rZjLO\n",
       "eUmZnp/iCazGXS9SLYnTE+wYjJkGR3AQ9Kbt0DeRaQ7+Fgn7NlYJAF/kB+BmpkQ8Gh2tAzMz3e6Q\n",
       "M1Uccdkhsi79dUoWkhOjbR6KRCmfqBlrI5uU7pRDZwB8MlmGSzACdaEA1B+eBXvBeqiQB8StM8l3\n",
       "5P90qUDz1Y/VX13AWPF4epU74BjVB13TTKaDkRcpcpKlQA8KPSCsMsh3pnErPeLsJi2S7ykZYy3P\n",
       "G1WFHsRj5k5EI+gGgTKWTBGDEAvUc8rR2kubXCjyAxqTljwNz5cPhnwOFm+B24Lf/cDQPOP2+YLU\n",
       "SgOyS9QxahCHvE8u4SDylwCAMKbQW1N12nvtb0HFBoOZ5QfffsefngOcanFzie1waKFxHhESGF/7\n",
       "D8P59qJmRy7HuqD8g9MBM6uza5bFsRnOeHP2A0jRvAD+Py5IzNQLr4vzOLdiA7V6EcXRM8LFDWTt\n",
       "pjKn/fxFPh4mxJDuBGvLfU0zShKWVovuiahx+wbmuxLuot7Ze2I3xis16GKV7rQ5v5XrYdjhtNn4\n",
       "XWKK7MaviQ24Ub/iClfhNwkPDeGH4RfGtyc66yXifOe9c5UcZ8zq1PR/8hbWyC0cPpuq/otwBx+i\n",
       "C+vlGwA6vtk6o780cn1T/OgZ+Y2QP3ILzHTmW88slMiMX+ooP3qgex09I3Fzva577N/gJ8WPf9pB\n",
       "CKB7/SEQvMaA4s6UK/lTbBVbZe2d1Jg3fRHTCw62W9I0b1Opp7OyhTCThulzwI6UTILABfk6pfaW\n",
       "V17niTlnGA7+dUMrmUO2DKxKc5jlOG4GbY1xXv+qz1tnraDr6lWW4UfSYuhK5ZsUtqjOXI1w+4wU\n",
       "pSsAIw2pub2MD2+c2ZmrQV8cP0xBbCTJKysG4QgZSSogbYIGObomU5HxdnTgkUl5/IkaztFaXTvF\n",
       "HkDc7np/CMR/W3GpNZtu3Ru6Cb/xEs+vsDCIUkdB5HK7lQL42Sp8BLNEAA/tpVMtMlGs0/tKjw++\n",
       "JojplrUiLdbt2qC0QfmILoTW91bPZtthibnpQGwwDZnVgzAVpk61j8mleLH8U/7OFiAxwGDVWXA6\n",
       "hywKJWWphpjYOE1cUkn9+JVxDT0pmRHZ8ekF9FY9m/zAP9UY5m5z313fxLPBmxaEH2BS35JGDSoZ\n",
       "kHgaqfPZ/bjwXMfOaqz6uZsFyI/GIUjBLxWCVyWnWCh8uNhz92BV4Vf7LM9yFoShbO8w1rnyFZan\n",
       "91KVneD59HfP6WhQcrBsepVFpVJ4m4CsJ3AOsdz8rLNlHdC9pxLrMUMUhWk6zChIEOBfztqn80FM\n",
       "FR0ap9S+orCVQuhcxvvf1M0SRJ4OoYZtN68pWqud6lirWWqjkm6VVvde9rOed98qrqvhohOv1WUY\n",
       "Z6PLcWNBWL8RPsZOf6VL1I/P93luxq5OY9+0a2JtohZhYKQgevV9Jnsc7LTRAbBtDcBIX0JxGpFh\n",
       "haX0utRmZ9GYAEeJ4w6nMGLbjtj9/N/DL6EsDTGt3V3BVVM3k+VaCyFeTyKifkqSBaBA9iG82C2X\n",
       "De/MGavFb37k6pIcxYhzGvzfsqUS9YwWj+BiGMtUGbsZgeR92ypzpaLwifDBoKooMtnCw+1919zd\n",
       "WkaCDBbok/3fs93PBK5CPPLWSo8kEZv4FVAXLWzdGLjO5+SJXV6KFIkcIMqj4cj/L1ynPIlCb4U7\n",
       "UHSsSNu9du9UEbJ+feRO2rDvNxzTXCDyJW6VVtLH8Kfxv63X+7FxIw8ATA6x/7uVF/WhHUAACljQ\n",
       "CTkAAAPUAZ+iakK/AAAKzYV+CDiNdVQ5O4lQIRv5dRQoALlPtOhp6v2YoMJSoOb681r2UOVJtpDO\n",
       "yt+yV6SWkMit39xFPolpxgECDiAtkDkqBxJ/xEFkXsH0/p3+qNABM/rkRGXpjkSDBioHK4mr3O1d\n",
       "sGvY4ydZg7jsxA09bmemmX/1ii5HCKAtB+oY2707k+VPXtatNExA6DGrx73KY3BxwbKyHSxNNGCK\n",
       "yXd3860VUKkcmP4k8D/8BPoSTh1kVXkYtX03Sbab3mW6LOViBpRoKv/6x2QBUJe+3u8b9VKHeUfO\n",
       "AazPKRD027GY7LEpvqDau7jNPMeeZN9mn1fB2bB8jGQrCHv1fTqhWxARXgPnN1tqT6O4Brrs12rD\n",
       "iw9g6sn3yKiipwyjX4ivM6+8xqKvCSNAX/vblW4vCNtbCjtAZ8l3EGcTMICVAn3t7aBk0iM3cd1H\n",
       "PnuIEgsjn9FmXgrRftCaMsKcCG7ElQojP1qOQ68JNw0VSNWYxu9JSsX/PhuetuMCV8/FJj1svqfO\n",
       "J+RL9ZhtcNMskKuzLUoDVrpYIFcLk547AqDG3aOoHycqyTogfJGHSkxYmhAq7HwUxtBY9rsGQDHL\n",
       "D56XEJZXgJnRefGcEyV3DuUkk/oP7KI6H1dFpGbuvi2+a2g5VhrEXGu1JYgY1qV+ZTqq3C43YPhy\n",
       "QyEiAGGPd3gAsMOmMd1Mr+WHeIcGJ2CE+2Bg+2SinAhmV0PM426Z7bLGer/X/DFkwjMdmsu+MOSl\n",
       "onIlccTa2vF/7vbB2wz6bxToNz4ddGHj8qHt2LsoOcPXYcqg0vLvY0kyAZB/yJvB2r9JDvTSnyVo\n",
       "lZGkrT6ZwEuR7O9XdJKTT96uNvl1buHABLWcEX+06Cn3EYOeSMsj9gMEtdEZDwUAtU8+hnWrDePW\n",
       "koOu96uAdnU6B0NFsT3LmuBDVoPCjzLrdob5HvjJudPW+Y3h7pcIuJ9bHBbPBlaikqoBXvhkDBPC\n",
       "/Ci0fxlMjf1rxAFKvmSc7cGzLoQ2KT32gCUVIAsiL6v/tBptjCxsfQjxBMkvSGYzklgPbmNCFeh5\n",
       "x0LM6Zq7vppuYXRGfrh5jHZSivgsVoUdmIBI60kwZOgd2aa5XHSW651YtFP98NvbaXZX6cnxhACK\n",
       "yiVjW0i8N7OalCuth8JotyQs4nIK75Q3NsnCVvsQbngmNRTiBq4mK31lB06USWNO/4OrUwk+DoJ0\n",
       "2XSSpu2KLTgRvtXuhVRzjvXIHcyWQ2V17B/tv0F4aBy03p9PCQijboU88TxCcVXAM3JqBIzwFxx7\n",
       "EHYdvM7P/R0hkkXiOxQngQcAAAdwbW9vdgAAAGxtdmhkAAAAAAAAAAAAAAAAAAAD6AAAE4gAAQAA\n",
       "AQAAAAAAAAAAAAAAAAEAAAAAAAAAAAAAAAAAAAABAAAAAAAAAAAAAAAAAABAAAAAAAAAAAAAAAAA\n",
       "AAAAAAAAAAAAAAAAAAAAAAAAAgAABpp0cmFrAAAAXHRraGQAAAADAAAAAAAAAAAAAAABAAAAAAAA\n",
       "E4gAAAAAAAAAAAAAAAAAAAAAAAEAAAAAAAAAAAAAAAAAAAABAAAAAAAAAAAAAAAAAABAAAAAA4QA\n",
       "AAJYAAAAAAAkZWR0cwAAABxlbHN0AAAAAAAAAAEAABOIAAAEAAABAAAAAAYSbWRpYQAAACBtZGhk\n",
       "AAAAAAAAAAAAAAAAAAAoAAAAyABVxAAAAAAALWhkbHIAAAAAAAAAAHZpZGUAAAAAAAAAAAAAAABW\n",
       "aWRlb0hhbmRsZXIAAAAFvW1pbmYAAAAUdm1oZAAAAAEAAAAAAAAAAAAAACRkaW5mAAAAHGRyZWYA\n",
       "AAAAAAAAAQAAAAx1cmwgAAAAAQAABX1zdGJsAAAAtXN0c2QAAAAAAAAAAQAAAKVhdmMxAAAAAAAA\n",
       "AAEAAAAAAAAAAAAAAAAAAAAAA4QCWABIAAAASAAAAAAAAAABAAAAAAAAAAAAAAAAAAAAAAAAAAAA\n",
       "AAAAAAAAAAAAAAAAGP//AAAAM2F2Y0MBZAAf/+EAGmdkAB+s2UDkE3nlhAAAAwAEAAADAKA8YMZY\n",
       "AQAGaOvjyyLAAAAAHHV1aWRraEDyXyRPxbo5pRvPAyPzAAAAAAAAABhzdHRzAAAAAAAAAAEAAABk\n",
       "AAACAAAAABRzdHNzAAAAAAAAAAEAAAABAAACwGN0dHMAAAAAAAAAVgAAAAEAAAQAAAAAAQAACgAA\n",
       "AAABAAAEAAAAAAEAAAAAAAAAAQAAAgAAAAABAAAKAAAAAAEAAAQAAAAAAQAAAAAAAAABAAACAAAA\n",
       "AAEAAAYAAAAAAQAAAgAAAAABAAAGAAAAAAEAAAIAAAAAAQAACgAAAAABAAAEAAAAAAEAAAAAAAAA\n",
       "AQAAAgAAAAABAAAIAAAAAAIAAAIAAAAAAQAACgAAAAABAAAEAAAAAAEAAAAAAAAAAQAAAgAAAAAB\n",
       "AAAEAAAAAAEAAAoAAAAAAQAABAAAAAABAAAAAAAAAAEAAAIAAAAAAQAACgAAAAABAAAEAAAAAAEA\n",
       "AAAAAAAAAQAAAgAAAAABAAAKAAAAAAEAAAQAAAAAAQAAAAAAAAABAAACAAAAAAEAAAgAAAAAAgAA\n",
       "AgAAAAABAAAKAAAAAAEAAAQAAAAAAQAAAAAAAAABAAACAAAAAAEAAAoAAAAAAQAABAAAAAABAAAA\n",
       "AAAAAAEAAAIAAAAAAQAABAAAAAABAAAGAAAAAAEAAAIAAAAABwAABAAAAAABAAAGAAAAAAEAAAIA\n",
       "AAAAAQAACgAAAAABAAAEAAAAAAEAAAAAAAAAAQAAAgAAAAAEAAAEAAAAAAEAAAgAAAAAAgAAAgAA\n",
       "AAABAAAKAAAAAAEAAAQAAAAAAQAAAAAAAAABAAACAAAAAAEAAAoAAAAAAQAABAAAAAABAAAAAAAA\n",
       "AAEAAAIAAAAAAQAABAAAAAABAAAGAAAAAAEAAAIAAAAAAgAABAAAAAABAAAKAAAAAAEAAAQAAAAA\n",
       "AQAAAAAAAAABAAACAAAAAAEAAAYAAAAAAQAAAgAAAAABAAAEAAAAAAEAAAoAAAAAAQAABAAAAAAB\n",
       "AAAAAAAAAAEAAAIAAAAAAQAACAAAAAACAAACAAAAAAEAAAYAAAAAAQAAAgAAAAAcc3RzYwAAAAAA\n",
       "AAABAAAAAQAAAGQAAAABAAABpHN0c3oAAAAAAAAAAAAAAGQAAEA+AAAQmQAAC4YAAAgAAAAJQgAA\n",
       "D7MAAAvhAAAGVwAACY8AAAseAAAHdAAADDIAAAZmAAALdQAAB0wAAAODAAAFTgAAC74AAAXkAAAE\n",
       "ugAACsMAAAW+AAAD4AAABTcAAA1fAAALHwAAB84AAAQFAAAEHQAADSAAAAdSAAAFJwAAA5wAAAr0\n",
       "AAAFJQAAAyQAAAK0AAALzgAABDUAAAQWAAAOhwAACDQAAASsAAAEgwAAC7UAAAWjAAAC3gAABSgA\n",
       "AAanAAAH0wAAA00AAAX3AAAFngAABV0AAAYnAAAHgQAACDUAAAl4AAAKgwAABAMAAA7/AAAF1wAA\n",
       "A+gAAAO7AAAI7wAAC+IAAAlyAAAIQAAACrYAAAchAAAIiwAADbcAAAjmAAAHVQAABdcAAA0wAAAG\n",
       "mgAAA6AAAAPVAAAIFQAACuUAAAUlAAAI/wAACasAAAk2AAAFhwAAA2wAAAMwAAAH2gAAA24AAAcG\n",
       "AAALywAABVwAAANrAAAC9AAACOMAAATcAAAELwAAByAAAAPYAAAAFHN0Y28AAAAAAAAAAQAAACwA\n",
       "AABidWR0YQAAAFptZXRhAAAAAAAAACFoZGxyAAAAAAAAAABtZGlyYXBwbAAAAAAAAAAAAAAAAC1p\n",
       "bHN0AAAAJal0b28AAAAdZGF0YQAAAAEAAAAATGF2ZjU4LjI5LjEwMA==\n",
       "\">\n",
       "  Your browser does not support the video tag.\n",
       "</video>"
      ],
      "text/plain": [
       "<matplotlib.animation.FuncAnimation at 0x7fe2f822aa90>"
      ]
     },
     "execution_count": 195,
     "metadata": {},
     "output_type": "execute_result"
    },
    {
     "data": {
      "image/png": "[encoded data removed]",
      "text/plain": [
       "<Figure size 900x600 with 4 Axes>"
      ]
     },
     "metadata": {
      "needs_background": "light"
     },
     "output_type": "display_data"
    }
   ],
   "source": [
    "# Particle in a box eigenstate\n",
    "test_model(lambda x: np.sin(np.pi*x), lambda x: 0*x)"
   ]
  },
  {
   "cell_type": "code",
   "execution_count": null,
   "metadata": {},
   "outputs": [],
   "source": []
  }
 ],
 "metadata": {
  "kernelspec": {
   "display_name": "Python 3",
   "language": "python",
   "name": "python3"
  },
  "language_info": {
   "codemirror_mode": {
    "name": "ipython",
    "version": 3
   },
   "file_extension": ".py",
   "mimetype": "text/x-python",
   "name": "python",
   "nbconvert_exporter": "python",
   "pygments_lexer": "ipython3",
   "version": "3.8.10"
  }
 },
 "nbformat": 4,
 "nbformat_minor": 4
}
